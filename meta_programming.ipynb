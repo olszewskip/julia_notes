{
 "cells": [
  {
   "cell_type": "code",
   "execution_count": 8,
   "metadata": {},
   "outputs": [
    {
     "name": "stdout",
     "output_type": "stream",
     "text": [
      "  0.046238 seconds (56.18 k allocations: 2.799 MiB, 19.07% gc time)\n"
     ]
    },
    {
     "data": {
      "text/plain": [
       "10-element Array{Float64,1}:\n",
       " 1.0                \n",
       " 0.5                \n",
       " 0.3333333333333333 \n",
       " 0.25               \n",
       " 0.2                \n",
       " 0.16666666666666666\n",
       " 0.14285714285714285\n",
       " 0.125              \n",
       " 0.1111111111111111 \n",
       " 0.1                "
      ]
     },
     "execution_count": 8,
     "metadata": {},
     "output_type": "execute_result"
    }
   ],
   "source": [
    "@time [1/number for number in 1:10]"
   ]
  },
  {
   "cell_type": "code",
   "execution_count": 9,
   "metadata": {},
   "outputs": [
    {
     "name": "stdout",
     "output_type": "stream",
     "text": [
      "  0.000014 seconds (7 allocations: 384 bytes)\n"
     ]
    },
    {
     "data": {
      "text/plain": [
       "10-element Array{Float64,1}:\n",
       " 0.0              \n",
       " 1.0              \n",
       " 1.584962500721156\n",
       " 2.0              \n",
       " 2.321928094887362\n",
       " 2.584962500721156\n",
       " 2.807354922057604\n",
       " 3.0              \n",
       " 3.169925001442312\n",
       " 3.321928094887362"
      ]
     },
     "execution_count": 9,
     "metadata": {},
     "output_type": "execute_result"
    }
   ],
   "source": [
    "@time [log2(number) for number in 1:10]"
   ]
  },
  {
   "cell_type": "markdown",
   "metadata": {},
   "source": [
    "@which log2(2)"
   ]
  },
  {
   "cell_type": "code",
   "execution_count": 205,
   "metadata": {},
   "outputs": [
    {
     "name": "stdout",
     "output_type": "stream",
     "text": [
      "search: \u001b[0m\u001b[1mE\u001b[22m\u001b[0m\u001b[1mx\u001b[22m\u001b[0m\u001b[1mp\u001b[22m\u001b[0m\u001b[1mr\u001b[22m \u001b[0m\u001b[1me\u001b[22m\u001b[0m\u001b[1mx\u001b[22m\u001b[0m\u001b[1mp\u001b[22mo\u001b[0m\u001b[1mr\u001b[22mt my_\u001b[0m\u001b[1me\u001b[22m\u001b[0m\u001b[1mx\u001b[22m\u001b[0m\u001b[1mp\u001b[22m\u001b[0m\u001b[1mr\u001b[22mession n\u001b[0m\u001b[1me\u001b[22m\u001b[0m\u001b[1mx\u001b[22mt\u001b[0m\u001b[1mp\u001b[22m\u001b[0m\u001b[1mr\u001b[22mod \u001b[0m\u001b[1me\u001b[22m\u001b[0m\u001b[1mx\u001b[22m\u001b[0m\u001b[1mp\u001b[22manduse\u001b[0m\u001b[1mr\u001b[22m \u001b[0m\u001b[1me\u001b[22m\u001b[0m\u001b[1mx\u001b[22m\u001b[0m\u001b[1mp\u001b[22m2 \u001b[0m\u001b[1me\u001b[22m\u001b[0m\u001b[1mx\u001b[22m\u001b[0m\u001b[1mp\u001b[22m \u001b[0m\u001b[1me\u001b[22m\u001b[0m\u001b[1mx\u001b[22m\u001b[0m\u001b[1mp\u001b[22mm1 \u001b[0m\u001b[1me\u001b[22m\u001b[0m\u001b[1mx\u001b[22m\u001b[0m\u001b[1mp\u001b[22m10\n",
      "\n"
     ]
    },
    {
     "data": {
      "text/latex": [
       "No documentation found.\n",
       "\n",
       "\\section{Summary}\n",
       "\\begin{verbatim}\n",
       "mutable struct Expr <: Any\n",
       "\\end{verbatim}\n",
       "\\section{Fields}\n",
       "\\begin{verbatim}\n",
       "head :: Symbol\n",
       "args :: Array{Any,1}\n",
       "\\end{verbatim}\n"
      ],
      "text/markdown": [
       "No documentation found.\n",
       "\n",
       "# Summary\n",
       "\n",
       "```\n",
       "mutable struct Expr <: Any\n",
       "```\n",
       "\n",
       "# Fields\n",
       "\n",
       "```\n",
       "head :: Symbol\n",
       "args :: Array{Any,1}\n",
       "```\n"
      ],
      "text/plain": [
       "  No documentation found.\n",
       "\n",
       "\u001b[1m  Summary\u001b[22m\n",
       "\u001b[1m  ≡≡≡≡≡≡≡≡≡\u001b[22m\n",
       "\n",
       "\u001b[36m  mutable struct Expr <: Any\u001b[39m\n",
       "\n",
       "\u001b[1m  Fields\u001b[22m\n",
       "\u001b[1m  ≡≡≡≡≡≡≡≡\u001b[22m\n",
       "\n",
       "\u001b[36m  head :: Symbol\u001b[39m\n",
       "\u001b[36m  args :: Array{Any,1}\u001b[39m"
      ]
     },
     "execution_count": 205,
     "metadata": {},
     "output_type": "execute_result"
    }
   ],
   "source": [
    "?Expr"
   ]
  },
  {
   "cell_type": "code",
   "execution_count": 13,
   "metadata": {},
   "outputs": [
    {
     "data": {
      "text/plain": [
       "2"
      ]
     },
     "execution_count": 13,
     "metadata": {},
     "output_type": "execute_result"
    }
   ],
   "source": [
    "x = 2"
   ]
  },
  {
   "cell_type": "code",
   "execution_count": 14,
   "metadata": {},
   "outputs": [
    {
     "data": {
      "text/plain": [
       ":x"
      ]
     },
     "execution_count": 14,
     "metadata": {},
     "output_type": "execute_result"
    }
   ],
   "source": [
    ":x"
   ]
  },
  {
   "cell_type": "code",
   "execution_count": 15,
   "metadata": {},
   "outputs": [
    {
     "data": {
      "text/plain": [
       ":(2 * 2)"
      ]
     },
     "execution_count": 15,
     "metadata": {},
     "output_type": "execute_result"
    }
   ],
   "source": [
    ":(2 * 2)"
   ]
  },
  {
   "cell_type": "code",
   "execution_count": 16,
   "metadata": {},
   "outputs": [
    {
     "data": {
      "text/plain": [
       "quote\n",
       "    #= In[16]:2 =#\n",
       "    2 * 2\n",
       "end"
      ]
     },
     "execution_count": 16,
     "metadata": {},
     "output_type": "execute_result"
    }
   ],
   "source": [
    "quote\n",
    "    2 * 2\n",
    "end"
   ]
  },
  {
   "cell_type": "code",
   "execution_count": 23,
   "metadata": {},
   "outputs": [
    {
     "data": {
      "text/plain": [
       "\"0000000000000000000000000000000000000000000000000000000000000100\""
      ]
     },
     "execution_count": 23,
     "metadata": {},
     "output_type": "execute_result"
    }
   ],
   "source": [
    "bitstring(4)"
   ]
  },
  {
   "cell_type": "code",
   "execution_count": 32,
   "metadata": {},
   "outputs": [
    {
     "data": {
      "text/plain": [
       "2-element Array{Int64,1}:\n",
       " 2\n",
       " 3"
      ]
     },
     "execution_count": 32,
     "metadata": {},
     "output_type": "execute_result"
    }
   ],
   "source": [
    "[1,2,3][end-1:end]"
   ]
  },
  {
   "cell_type": "code",
   "execution_count": 42,
   "metadata": {},
   "outputs": [
    {
     "data": {
      "text/plain": [
       "quote\n",
       "    #= In[42]:2 =#\n",
       "    for i = 0:8\n",
       "        #= In[42]:3 =#\n",
       "        println((bitstring(i))[end - 4:end])\n",
       "    end\n",
       "end"
      ]
     },
     "execution_count": 42,
     "metadata": {},
     "output_type": "execute_result"
    }
   ],
   "source": [
    "my_expression = quote\n",
    "    for i = 0:8\n",
    "        println(bitstring(i)[end-4:end])\n",
    "    end\n",
    "end"
   ]
  },
  {
   "cell_type": "code",
   "execution_count": 43,
   "metadata": {},
   "outputs": [
    {
     "data": {
      "text/plain": [
       "Expr"
      ]
     },
     "execution_count": 43,
     "metadata": {},
     "output_type": "execute_result"
    }
   ],
   "source": [
    "typeof(my_expression)"
   ]
  },
  {
   "cell_type": "code",
   "execution_count": 44,
   "metadata": {},
   "outputs": [
    {
     "name": "stdout",
     "output_type": "stream",
     "text": [
      "00000\n",
      "00001\n",
      "00010\n",
      "00011\n",
      "00100\n",
      "00101\n",
      "00110\n",
      "00111\n",
      "01000\n"
     ]
    }
   ],
   "source": [
    "eval(my_expression)"
   ]
  },
  {
   "cell_type": "code",
   "execution_count": 48,
   "metadata": {},
   "outputs": [
    {
     "data": {
      "text/plain": [
       "(:head, :args)"
      ]
     },
     "execution_count": 48,
     "metadata": {},
     "output_type": "execute_result"
    }
   ],
   "source": [
    "fieldnames(Expr)"
   ]
  },
  {
   "cell_type": "code",
   "execution_count": 49,
   "metadata": {},
   "outputs": [
    {
     "data": {
      "text/plain": [
       ":block"
      ]
     },
     "execution_count": 49,
     "metadata": {},
     "output_type": "execute_result"
    }
   ],
   "source": [
    "my_expression.head"
   ]
  },
  {
   "cell_type": "code",
   "execution_count": 50,
   "metadata": {},
   "outputs": [
    {
     "data": {
      "text/plain": [
       "2-element Array{Any,1}:\n",
       " :(#= In[42]:2 =#)                                                                   \n",
       " :(for i = 0:8\n",
       "      #= In[42]:3 =#\n",
       "      println((bitstring(i))[end - 4:end])\n",
       "  end)"
      ]
     },
     "execution_count": 50,
     "metadata": {},
     "output_type": "execute_result"
    }
   ],
   "source": [
    "my_expression.args"
   ]
  },
  {
   "cell_type": "code",
   "execution_count": 54,
   "metadata": {},
   "outputs": [
    {
     "data": {
      "text/plain": [
       ":for"
      ]
     },
     "execution_count": 54,
     "metadata": {},
     "output_type": "execute_result"
    }
   ],
   "source": [
    "my_expression.args[2].head"
   ]
  },
  {
   "cell_type": "code",
   "execution_count": 56,
   "metadata": {},
   "outputs": [
    {
     "data": {
      "text/plain": [
       ":(i = 0:8)"
      ]
     },
     "execution_count": 56,
     "metadata": {},
     "output_type": "execute_result"
    }
   ],
   "source": [
    "my_expression.args[2].args[1]"
   ]
  },
  {
   "cell_type": "code",
   "execution_count": 64,
   "metadata": {},
   "outputs": [
    {
     "data": {
      "text/plain": [
       "7"
      ]
     },
     "execution_count": 64,
     "metadata": {},
     "output_type": "execute_result"
    }
   ],
   "source": [
    "my_favorite_number_other_than_eight = 7"
   ]
  },
  {
   "cell_type": "code",
   "execution_count": 65,
   "metadata": {},
   "outputs": [
    {
     "data": {
      "text/plain": [
       ":(i = 0:7)"
      ]
     },
     "execution_count": 65,
     "metadata": {},
     "output_type": "execute_result"
    }
   ],
   "source": [
    "my_expression.args[2].args[1] = :(i = 0:$my_favorite_number_other_than_eight)"
   ]
  },
  {
   "cell_type": "code",
   "execution_count": 66,
   "metadata": {},
   "outputs": [
    {
     "name": "stdout",
     "output_type": "stream",
     "text": [
      "00000\n",
      "00001\n",
      "00010\n",
      "00011\n",
      "00100\n",
      "00101\n",
      "00110\n",
      "00111\n"
     ]
    }
   ],
   "source": [
    "eval(my_expression)"
   ]
  },
  {
   "cell_type": "code",
   "execution_count": 69,
   "metadata": {},
   "outputs": [
    {
     "name": "stdout",
     "output_type": "stream",
     "text": [
      "1:: #= In[42]:2 =#\n",
      "2:: for i = 0:7\n",
      "    #= In[42]:3 =#\n",
      "    println((bitstring(i))[end - 4:end])\n",
      "end\n"
     ]
    }
   ],
   "source": [
    "for (line_number, expression_argument) in enumerate(my_expression.args)\n",
    "    println(line_number, \":: \", expression_argument)\n",
    "end"
   ]
  },
  {
   "cell_type": "code",
   "execution_count": 70,
   "metadata": {},
   "outputs": [
    {
     "name": "stdout",
     "output_type": "stream",
     "text": [
      "Expr\n",
      "  head: Symbol block\n",
      "  args: Array{Any}((2,))\n",
      "    1: LineNumberNode\n",
      "      line: Int64 2\n",
      "      file: Symbol In[42]\n",
      "    2: Expr\n",
      "      head: Symbol for\n",
      "      args: Array{Any}((2,))\n",
      "        1: Expr\n",
      "          head: Symbol =\n",
      "          args: Array{Any}((2,))\n",
      "            1: Symbol i\n",
      "            2: Expr\n",
      "              head: Symbol call\n",
      "              args: Array{Any}((3,))\n",
      "                1: Symbol :\n",
      "                2: Int64 0\n",
      "                3: Int64 7\n",
      "        2: Expr\n",
      "          head: Symbol block\n",
      "          args: Array{Any}((2,))\n",
      "            1: LineNumberNode\n",
      "              line: Int64 3\n",
      "              file: Symbol In[42]\n",
      "            2: Expr\n",
      "              head: Symbol call\n",
      "              args: Array{Any}((2,))\n",
      "                1: Symbol println\n",
      "                2: Expr\n"
     ]
    }
   ],
   "source": [
    "dump(my_expression)"
   ]
  },
  {
   "cell_type": "code",
   "execution_count": 72,
   "metadata": {},
   "outputs": [
    {
     "data": {
      "text/plain": [
       ":(x = 0.8414709848078965)"
      ]
     },
     "execution_count": 72,
     "metadata": {},
     "output_type": "execute_result"
    }
   ],
   "source": [
    ":(x = $(sin(1)) )"
   ]
  },
  {
   "cell_type": "code",
   "execution_count": 83,
   "metadata": {},
   "outputs": [
    {
     "data": {
      "text/plain": [
       "my_function (generic function with 2 methods)"
      ]
     },
     "execution_count": 83,
     "metadata": {},
     "output_type": "execute_result"
    }
   ],
   "source": [
    "function my_function(n, x...)\n",
    "    x[n]\n",
    "end"
   ]
  },
  {
   "cell_type": "code",
   "execution_count": 84,
   "metadata": {},
   "outputs": [
    {
     "data": {
      "text/plain": [
       "2"
      ]
     },
     "execution_count": 84,
     "metadata": {},
     "output_type": "execute_result"
    }
   ],
   "source": [
    "my_function(1, 2, 3)"
   ]
  },
  {
   "cell_type": "code",
   "execution_count": 85,
   "metadata": {},
   "outputs": [
    {
     "ename": "BoundsError",
     "evalue": "BoundsError: attempt to access (2, 1)\n  at index [3]",
     "output_type": "error",
     "traceback": [
      "BoundsError: attempt to access (2, 1)\n  at index [3]",
      "",
      "Stacktrace:",
      " [1] getindex at ./tuple.jl:24 [inlined]",
      " [2] my_function(::Int64, ::Int64, ::Vararg{Int64,N} where N) at ./In[83]:2",
      " [3] top-level scope at In[85]:1"
     ]
    }
   ],
   "source": [
    "my_function(3, 2, 1)"
   ]
  },
  {
   "cell_type": "code",
   "execution_count": 145,
   "metadata": {},
   "outputs": [
    {
     "data": {
      "text/latex": [
       "\\begin{verbatim}\n",
       "@macroexpand\n",
       "\\end{verbatim}\n",
       "Return equivalent expression with all macros removed (expanded).\n",
       "\n",
       "There are differences between \\texttt{@macroexpand} and \\href{@ref}{\\texttt{macroexpand}}.\n",
       "\n",
       "\\begin{itemize}\n",
       "\\item While \\href{@ref}{\\texttt{macroexpand}} takes a keyword argument \\texttt{recursive}, \\texttt{@macroexpand}\n",
       "\n",
       "\\end{itemize}\n",
       "is always recursive. For a non recursive macro version, see \\href{@ref}{\\texttt{@macroexpand1}}.\n",
       "\n",
       "\\begin{itemize}\n",
       "\\item While \\href{@ref}{\\texttt{macroexpand}} has an explicit \\texttt{module} argument, \\texttt{@macroexpand} always\n",
       "\n",
       "\\end{itemize}\n",
       "expands with respect to the module in which it is called. This is best seen in the following example:\n",
       "\n",
       "\\begin{verbatim}\n",
       "julia> module M\n",
       "           macro m()\n",
       "               1\n",
       "           end\n",
       "           function f()\n",
       "               (@macroexpand(@m),\n",
       "                macroexpand(M, :(@m)),\n",
       "                macroexpand(Main, :(@m))\n",
       "               )\n",
       "           end\n",
       "       end\n",
       "M\n",
       "\n",
       "julia> macro m()\n",
       "           2\n",
       "       end\n",
       "@m (macro with 1 method)\n",
       "\n",
       "julia> M.f()\n",
       "(1, 1, 2)\n",
       "\\end{verbatim}\n",
       "With \\texttt{@macroexpand} the expression expands where \\texttt{@macroexpand} appears in the code (module \\texttt{M} in the example). With \\texttt{macroexpand} the expression expands in the module given as the first argument.\n",
       "\n"
      ],
      "text/markdown": [
       "```\n",
       "@macroexpand\n",
       "```\n",
       "\n",
       "Return equivalent expression with all macros removed (expanded).\n",
       "\n",
       "There are differences between `@macroexpand` and [`macroexpand`](@ref).\n",
       "\n",
       "  * While [`macroexpand`](@ref) takes a keyword argument `recursive`, `@macroexpand`\n",
       "\n",
       "is always recursive. For a non recursive macro version, see [`@macroexpand1`](@ref).\n",
       "\n",
       "  * While [`macroexpand`](@ref) has an explicit `module` argument, `@macroexpand` always\n",
       "\n",
       "expands with respect to the module in which it is called. This is best seen in the following example:\n",
       "\n",
       "```julia-repl\n",
       "julia> module M\n",
       "           macro m()\n",
       "               1\n",
       "           end\n",
       "           function f()\n",
       "               (@macroexpand(@m),\n",
       "                macroexpand(M, :(@m)),\n",
       "                macroexpand(Main, :(@m))\n",
       "               )\n",
       "           end\n",
       "       end\n",
       "M\n",
       "\n",
       "julia> macro m()\n",
       "           2\n",
       "       end\n",
       "@m (macro with 1 method)\n",
       "\n",
       "julia> M.f()\n",
       "(1, 1, 2)\n",
       "```\n",
       "\n",
       "With `@macroexpand` the expression expands where `@macroexpand` appears in the code (module `M` in the example). With `macroexpand` the expression expands in the module given as the first argument.\n"
      ],
      "text/plain": [
       "\u001b[36m  @macroexpand\u001b[39m\n",
       "\n",
       "  Return equivalent expression with all macros removed (expanded).\n",
       "\n",
       "  There are differences between \u001b[36m@macroexpand\u001b[39m and \u001b[36mmacroexpand\u001b[39m.\n",
       "\n",
       "    •    While \u001b[36mmacroexpand\u001b[39m takes a keyword argument \u001b[36mrecursive\u001b[39m, \u001b[36m@macroexpand\u001b[39m\n",
       "\n",
       "  is always recursive. For a non recursive macro version, see \u001b[36m@macroexpand1\u001b[39m.\n",
       "\n",
       "    •    While \u001b[36mmacroexpand\u001b[39m has an explicit \u001b[36mmodule\u001b[39m argument, \u001b[36m@macroexpand\u001b[39m\n",
       "        always\n",
       "\n",
       "  expands with respect to the module in which it is called. This is best seen\n",
       "  in the following example:\n",
       "\n",
       "\u001b[36m  julia> module M\u001b[39m\n",
       "\u001b[36m             macro m()\u001b[39m\n",
       "\u001b[36m                 1\u001b[39m\n",
       "\u001b[36m             end\u001b[39m\n",
       "\u001b[36m             function f()\u001b[39m\n",
       "\u001b[36m                 (@macroexpand(@m),\u001b[39m\n",
       "\u001b[36m                  macroexpand(M, :(@m)),\u001b[39m\n",
       "\u001b[36m                  macroexpand(Main, :(@m))\u001b[39m\n",
       "\u001b[36m                 )\u001b[39m\n",
       "\u001b[36m             end\u001b[39m\n",
       "\u001b[36m         end\u001b[39m\n",
       "\u001b[36m  M\u001b[39m\n",
       "\u001b[36m  \u001b[39m\n",
       "\u001b[36m  julia> macro m()\u001b[39m\n",
       "\u001b[36m             2\u001b[39m\n",
       "\u001b[36m         end\u001b[39m\n",
       "\u001b[36m  @m (macro with 1 method)\u001b[39m\n",
       "\u001b[36m  \u001b[39m\n",
       "\u001b[36m  julia> M.f()\u001b[39m\n",
       "\u001b[36m  (1, 1, 2)\u001b[39m\n",
       "\n",
       "  With \u001b[36m@macroexpand\u001b[39m the expression expands where \u001b[36m@macroexpand\u001b[39m appears in the\n",
       "  code (module \u001b[36mM\u001b[39m in the example). With \u001b[36mmacroexpand\u001b[39m the expression expands in\n",
       "  the module given as the first argument."
      ]
     },
     "execution_count": 145,
     "metadata": {},
     "output_type": "execute_result"
    }
   ],
   "source": [
    "?@macroexpand"
   ]
  },
  {
   "cell_type": "code",
   "execution_count": 120,
   "metadata": {},
   "outputs": [
    {
     "name": "stderr",
     "output_type": "stream",
     "text": [
      "WARNING: replacing module M.\n"
     ]
    },
    {
     "data": {
      "text/plain": [
       "Main.M"
      ]
     },
     "execution_count": 120,
     "metadata": {},
     "output_type": "execute_result"
    }
   ],
   "source": [
    "module M\n",
    "    function macro1()\n",
    "        1\n",
    "    end\n",
    "\n",
    "    macro macro2()\n",
    "        2\n",
    "    end\n",
    "    \n",
    "    macro macro3()\n",
    "        :(@macro2())\n",
    "    end\n",
    "\n",
    "    macro macro4()\n",
    "        macro1\n",
    "    end\n",
    "\n",
    "    macro macro5()\n",
    "        macro2\n",
    "    end\n",
    "end"
   ]
  },
  {
   "cell_type": "code",
   "execution_count": 123,
   "metadata": {},
   "outputs": [
    {
     "data": {
      "text/plain": [
       "macro1 (generic function with 1 method)"
      ]
     },
     "execution_count": 123,
     "metadata": {},
     "output_type": "execute_result"
    }
   ],
   "source": [
    "M.macro1"
   ]
  },
  {
   "cell_type": "code",
   "execution_count": 146,
   "metadata": {},
   "outputs": [
    {
     "data": {
      "text/plain": [
       "2"
      ]
     },
     "execution_count": 146,
     "metadata": {},
     "output_type": "execute_result"
    }
   ],
   "source": [
    "M.@macro2"
   ]
  },
  {
   "cell_type": "code",
   "execution_count": 125,
   "metadata": {},
   "outputs": [
    {
     "data": {
      "text/plain": [
       "2"
      ]
     },
     "execution_count": 125,
     "metadata": {},
     "output_type": "execute_result"
    }
   ],
   "source": [
    "@M.macro2"
   ]
  },
  {
   "cell_type": "code",
   "execution_count": 126,
   "metadata": {},
   "outputs": [
    {
     "data": {
      "text/plain": [
       "2"
      ]
     },
     "execution_count": 126,
     "metadata": {},
     "output_type": "execute_result"
    }
   ],
   "source": [
    "@M.macro2()"
   ]
  },
  {
   "cell_type": "code",
   "execution_count": 170,
   "metadata": {},
   "outputs": [
    {
     "data": {
      "text/plain": [
       "macro1 (generic function with 1 method)"
      ]
     },
     "execution_count": 170,
     "metadata": {},
     "output_type": "execute_result"
    }
   ],
   "source": [
    "M.@macro4"
   ]
  },
  {
   "cell_type": "code",
   "execution_count": 162,
   "metadata": {},
   "outputs": [
    {
     "ename": "LoadError",
     "evalue": "UndefVarError: macro2 not defined",
     "output_type": "error",
     "traceback": [
      "UndefVarError: macro2 not defined",
      "",
      "Stacktrace:",
      " [1] @macro5(::LineNumberNode, ::Module) at ./In[120]:19"
     ]
    }
   ],
   "source": [
    "M.@macro5"
   ]
  },
  {
   "cell_type": "code",
   "execution_count": 107,
   "metadata": {},
   "outputs": [
    {
     "data": {
      "text/plain": [
       "42"
      ]
     },
     "execution_count": 107,
     "metadata": {},
     "output_type": "execute_result"
    }
   ],
   "source": [
    "macroexpand(M, :( @macro2() ) )"
   ]
  },
  {
   "cell_type": "code",
   "execution_count": 104,
   "metadata": {},
   "outputs": [
    {
     "data": {
      "text/plain": [
       "@macro1 (macro with 1 method)"
      ]
     },
     "execution_count": 104,
     "metadata": {},
     "output_type": "execute_result"
    }
   ],
   "source": [
    "macro macro1()\n",
    "    123\n",
    "end"
   ]
  },
  {
   "cell_type": "code",
   "execution_count": 101,
   "metadata": {},
   "outputs": [
    {
     "data": {
      "text/plain": [
       "42"
      ]
     },
     "execution_count": 101,
     "metadata": {},
     "output_type": "execute_result"
    }
   ],
   "source": [
    "@macroexpand @macro1()"
   ]
  },
  {
   "cell_type": "code",
   "execution_count": 102,
   "metadata": {},
   "outputs": [
    {
     "data": {
      "text/plain": [
       "42"
      ]
     },
     "execution_count": 102,
     "metadata": {},
     "output_type": "execute_result"
    }
   ],
   "source": [
    "@macro1()"
   ]
  },
  {
   "cell_type": "code",
   "execution_count": 141,
   "metadata": {},
   "outputs": [
    {
     "data": {
      "text/plain": [
       "@twostep (macro with 1 method)"
      ]
     },
     "execution_count": 141,
     "metadata": {},
     "output_type": "execute_result"
    }
   ],
   "source": [
    "macro twostep(arg)\n",
    "   println(\"I execute at parse time. The argument is: \", arg)\n",
    "   return :(println(\"I execute at runtime. The argument is: \", $arg))\n",
    "end\n"
   ]
  },
  {
   "cell_type": "code",
   "execution_count": 142,
   "metadata": {},
   "outputs": [
    {
     "name": "stdout",
     "output_type": "stream",
     "text": [
      "I execute at parse time. The argument is: 1\n",
      "I execute at runtime. The argument is: 1\n"
     ]
    }
   ],
   "source": [
    "@twostep(1)"
   ]
  },
  {
   "cell_type": "code",
   "execution_count": 171,
   "metadata": {},
   "outputs": [
    {
     "name": "stdout",
     "output_type": "stream",
     "text": [
      "I execute at parse time. The argument is: $(Expr(:quote, :((1, 2, 3))))\n"
     ]
    },
    {
     "data": {
      "text/plain": [
       ":((Main.println)(\"I execute at runtime. The argument is: \", $(Expr(:copyast, :($(QuoteNode(:((1, 2, 3)))))))))"
      ]
     },
     "execution_count": 171,
     "metadata": {},
     "output_type": "execute_result"
    }
   ],
   "source": [
    "@macroexpand @twostep(:(1, 2, 3))"
   ]
  },
  {
   "cell_type": "code",
   "execution_count": 172,
   "metadata": {},
   "outputs": [
    {
     "name": "stdout",
     "output_type": "stream",
     "text": [
      "I execute at parse time. The argument is: $(Expr(:quote, :((1, 2, 3))))\n"
     ]
    }
   ],
   "source": [
    "ex = macroexpand(Main, :(@twostep :(1, 2, 3)) );"
   ]
  },
  {
   "cell_type": "code",
   "execution_count": 176,
   "metadata": {},
   "outputs": [
    {
     "name": "stdout",
     "output_type": "stream",
     "text": [
      "I execute at parse time. The argument is: $(Expr(:quote, :((1, 2, 3))))\n",
      "I execute at runtime. The argument is: (1, 2, 3)\n"
     ]
    }
   ],
   "source": [
    "@twostep :(1, 2, 3)"
   ]
  },
  {
   "cell_type": "code",
   "execution_count": 178,
   "metadata": {},
   "outputs": [
    {
     "ename": "LoadError",
     "evalue": "MethodError: no method matching @twostep(::LineNumberNode, ::Module, ::Int64, ::Int64, ::Int64)\nClosest candidates are:\n  @twostep(::LineNumberNode, ::Module, ::Any) at In[141]:2",
     "output_type": "error",
     "traceback": [
      "MethodError: no method matching @twostep(::LineNumberNode, ::Module, ::Int64, ::Int64, ::Int64)\nClosest candidates are:\n  @twostep(::LineNumberNode, ::Module, ::Any) at In[141]:2",
      ""
     ]
    }
   ],
   "source": [
    "@twostep(1,2,3)"
   ]
  },
  {
   "cell_type": "code",
   "execution_count": 177,
   "metadata": {},
   "outputs": [
    {
     "name": "stdout",
     "output_type": "stream",
     "text": [
      "I execute at parse time. The argument is: (1, 2, 3)\n",
      "I execute at runtime. The argument is: (1, 2, 3)\n"
     ]
    }
   ],
   "source": [
    "@twostep((1,2,3))"
   ]
  },
  {
   "cell_type": "code",
   "execution_count": 175,
   "metadata": {},
   "outputs": [
    {
     "name": "stdout",
     "output_type": "stream",
     "text": [
      "I execute at parse time. The argument is: (1, 2, 3)\n",
      "I execute at runtime. The argument is: (1, 2, 3)\n"
     ]
    }
   ],
   "source": [
    "@twostep 1, 2, 3"
   ]
  },
  {
   "cell_type": "code",
   "execution_count": 174,
   "metadata": {},
   "outputs": [
    {
     "name": "stdout",
     "output_type": "stream",
     "text": [
      "I execute at parse time. The argument is: (1, 2, 3)\n",
      "I execute at runtime. The argument is: (1, 2, 3)\n"
     ]
    }
   ],
   "source": [
    "@twostep (1, 2, 3)"
   ]
  },
  {
   "cell_type": "code",
   "execution_count": 179,
   "metadata": {},
   "outputs": [
    {
     "data": {
      "text/plain": [
       "twostep (generic function with 1 method)"
      ]
     },
     "execution_count": 179,
     "metadata": {},
     "output_type": "execute_result"
    }
   ],
   "source": [
    "function twostep(arg)\n",
    "    println(\"I execute at parse time. The argument is: \", arg)\n",
    "    return :(println(\"I execute at runtime. The argument is: \", $arg))\n",
    "end"
   ]
  },
  {
   "cell_type": "code",
   "execution_count": 182,
   "metadata": {},
   "outputs": [
    {
     "name": "stdout",
     "output_type": "stream",
     "text": [
      "I execute at parse time. The argument is: (1, 2, 3)\n"
     ]
    },
    {
     "data": {
      "text/plain": [
       ":(println(\"I execute at runtime. The argument is: \", (1, 2, 3)))"
      ]
     },
     "execution_count": 182,
     "metadata": {},
     "output_type": "execute_result"
    }
   ],
   "source": [
    "twostep(:((1,2,3)))"
   ]
  },
  {
   "cell_type": "code",
   "execution_count": 203,
   "metadata": {},
   "outputs": [
    {
     "name": "stdout",
     "output_type": "stream",
     "text": [
      "(1, 2, 3)"
     ]
    }
   ],
   "source": [
    "print(:(1,2,3))"
   ]
  },
  {
   "cell_type": "code",
   "execution_count": 183,
   "metadata": {},
   "outputs": [
    {
     "name": "stdout",
     "output_type": "stream",
     "text": [
      "sin(3)"
     ]
    }
   ],
   "source": [
    "print(:(sin(3)))"
   ]
  },
  {
   "cell_type": "code",
   "execution_count": 184,
   "metadata": {},
   "outputs": [
    {
     "name": "stdout",
     "output_type": "stream",
     "text": [
      "0.1411200080598672"
     ]
    }
   ],
   "source": [
    "print(sin(3))"
   ]
  },
  {
   "cell_type": "code",
   "execution_count": 193,
   "metadata": {},
   "outputs": [
    {
     "name": "stdout",
     "output_type": "stream",
     "text": [
      "sin(13)"
     ]
    }
   ],
   "source": [
    "x = 10\n",
    "print(:(sin($(x+3))))"
   ]
  },
  {
   "cell_type": "code",
   "execution_count": 200,
   "metadata": {},
   "outputs": [
    {
     "name": "stdout",
     "output_type": "stream",
     "text": [
      "sin(13)"
     ]
    }
   ],
   "source": [
    "print(\"sin($(x+3))\")"
   ]
  },
  {
   "cell_type": "code",
   "execution_count": 210,
   "metadata": {},
   "outputs": [
    {
     "name": "stdout",
     "output_type": "stream",
     "text": [
      "Expr\n",
      "  head: Symbol call\n",
      "  args: Array{Any}((3,))\n",
      "    1: Symbol in\n",
      "    2: Symbol a\n",
      "    3: Expr\n",
      "      head: Symbol tuple\n",
      "      args: Array{Any}((3,))\n",
      "        1: Int64 1\n",
      "        2: Int64 2\n",
      "        3: Int64 3\n"
     ]
    }
   ],
   "source": [
    "dump(:(a in (1,2,3)))"
   ]
  },
  {
   "cell_type": "code",
   "execution_count": 211,
   "metadata": {},
   "outputs": [
    {
     "name": "stdout",
     "output_type": "stream",
     "text": [
      "Expr\n",
      "  head: Symbol call\n",
      "  args: Array{Any}((3,))\n",
      "    1: Symbol in\n",
      "    2: Symbol a\n",
      "    3: Tuple{Int64,Int64,Int64}\n",
      "      1: Int64 1\n",
      "      2: Int64 2\n",
      "      3: Int64 3\n"
     ]
    }
   ],
   "source": [
    "dump(:(a in $(1,2,3)))"
   ]
  },
  {
   "cell_type": "code",
   "execution_count": 212,
   "metadata": {},
   "outputs": [
    {
     "name": "stdout",
     "output_type": "stream",
     "text": [
      "Expr\n",
      "  head: Symbol call\n",
      "  args: Array{Any}((3,))\n",
      "    1: Symbol in\n",
      "    2: Symbol a\n",
      "    3: Expr\n",
      "      head: Symbol tuple\n",
      "      args: Array{Any}((3,))\n",
      "        1: Int64 1\n",
      "        2: Int64 2\n",
      "        3: Int64 3\n"
     ]
    }
   ],
   "source": [
    "dump(:(a in $(:(1,2,3))))"
   ]
  },
  {
   "cell_type": "code",
   "execution_count": 218,
   "metadata": {},
   "outputs": [
    {
     "ename": "UndefVarError",
     "evalue": "UndefVarError: a not defined",
     "output_type": "error",
     "traceback": [
      "UndefVarError: a not defined",
      "",
      "Stacktrace:",
      " [1] top-level scope at In[218]:1"
     ]
    }
   ],
   "source": [
    "Meta.show_sexpr(a in (1,2,3))"
   ]
  },
  {
   "cell_type": "code",
   "execution_count": 217,
   "metadata": {},
   "outputs": [
    {
     "name": "stdout",
     "output_type": "stream",
     "text": [
      "(:call, :in, :a, (:tuple, 1, 2, 3))"
     ]
    }
   ],
   "source": [
    "Meta.show_sexpr(:(a in (1,2,3)))"
   ]
  },
  {
   "cell_type": "code",
   "execution_count": 219,
   "metadata": {},
   "outputs": [
    {
     "name": "stdout",
     "output_type": "stream",
     "text": [
      "(:call, :in, :a, (1, 2, 3))"
     ]
    }
   ],
   "source": [
    "Meta.show_sexpr(:(a in $(1,2,3)))"
   ]
  },
  {
   "cell_type": "code",
   "execution_count": 220,
   "metadata": {},
   "outputs": [
    {
     "data": {
      "text/plain": [
       "@sayhello (macro with 1 method)"
      ]
     },
     "execution_count": 220,
     "metadata": {},
     "output_type": "execute_result"
    }
   ],
   "source": [
    "macro sayhello(name)\n",
    "    return :( println(\"Hello, \", $name) )\n",
    "end"
   ]
  },
  {
   "cell_type": "code",
   "execution_count": 223,
   "metadata": {},
   "outputs": [
    {
     "data": {
      "text/plain": [
       ":((Main.println)(\"Hello, \", Main.name))"
      ]
     },
     "execution_count": 223,
     "metadata": {},
     "output_type": "execute_result"
    }
   ],
   "source": [
    "@macroexpand @sayhello name"
   ]
  },
  {
   "cell_type": "code",
   "execution_count": 224,
   "metadata": {},
   "outputs": [
    {
     "data": {
      "text/plain": [
       ":((Main.println)(\"Hello, \", \"name\"))"
      ]
     },
     "execution_count": 224,
     "metadata": {},
     "output_type": "execute_result"
    }
   ],
   "source": [
    "@macroexpand @sayhello \"name\""
   ]
  },
  {
   "cell_type": "code",
   "execution_count": 225,
   "metadata": {},
   "outputs": [
    {
     "data": {
      "text/plain": [
       ":((Main.println)(\"Hello, \", $(QuoteNode(\"name\"))))"
      ]
     },
     "execution_count": 225,
     "metadata": {},
     "output_type": "execute_result"
    }
   ],
   "source": [
    "@macroexpand @sayhello :(\"name\")"
   ]
  },
  {
   "cell_type": "code",
   "execution_count": 228,
   "metadata": {},
   "outputs": [
    {
     "data": {
      "text/plain": [
       "@show_arguments (macro with 1 method)"
      ]
     },
     "execution_count": 228,
     "metadata": {},
     "output_type": "execute_result"
    }
   ],
   "source": [
    "macro show_arguments(arguments)\n",
    "    show(arguments)\n",
    "end"
   ]
  },
  {
   "cell_type": "code",
   "execution_count": 232,
   "metadata": {},
   "outputs": [
    {
     "data": {
      "text/plain": [
       "2"
      ]
     },
     "execution_count": 232,
     "metadata": {},
     "output_type": "execute_result"
    }
   ],
   "source": [
    "x = 2"
   ]
  },
  {
   "cell_type": "code",
   "execution_count": 235,
   "metadata": {},
   "outputs": [
    {
     "name": "stdout",
     "output_type": "stream",
     "text": [
      ":(sin(x))"
     ]
    }
   ],
   "source": [
    "@show_arguments sin(x)"
   ]
  },
  {
   "cell_type": "code",
   "execution_count": 234,
   "metadata": {},
   "outputs": [
    {
     "name": "stdout",
     "output_type": "stream",
     "text": [
      ":($(Expr(:quote, :(sin(x)))))"
     ]
    }
   ],
   "source": [
    "@show_arguments :(sin(x))"
   ]
  },
  {
   "cell_type": "code",
   "execution_count": 236,
   "metadata": {},
   "outputs": [
    {
     "data": {
      "text/plain": [
       ":(if true == false\n",
       "      nothing\n",
       "  else\n",
       "      (Base.throw)((Base.AssertionError)(\"true == false\"))\n",
       "  end)"
      ]
     },
     "execution_count": 236,
     "metadata": {},
     "output_type": "execute_result"
    }
   ],
   "source": [
    "@macroexpand @assert true == false"
   ]
  },
  {
   "cell_type": "code",
   "execution_count": 243,
   "metadata": {},
   "outputs": [
    {
     "data": {
      "text/plain": [
       "3-element Base.CodeUnits{UInt8,String}:\n",
       " 0x31\n",
       " 0x30\n",
       " 0x30"
      ]
     },
     "execution_count": 243,
     "metadata": {},
     "output_type": "execute_result"
    }
   ],
   "source": [
    "b\"100\""
   ]
  },
  {
   "cell_type": "code",
   "execution_count": 246,
   "metadata": {},
   "outputs": [
    {
     "data": {
      "text/plain": [
       "5-element Array{Int64,1}:\n",
       " 5\n",
       " 4\n",
       " 3\n",
       " 2\n",
       " 1"
      ]
     },
     "execution_count": 246,
     "metadata": {},
     "output_type": "execute_result"
    }
   ],
   "source": [
    "Array(5:-1:1)"
   ]
  },
  {
   "cell_type": "code",
   "execution_count": 1,
   "metadata": {},
   "outputs": [
    {
     "data": {
      "text/plain": [
       "@nest (macro with 1 method)"
      ]
     },
     "execution_count": 1,
     "metadata": {},
     "output_type": "execute_result"
    }
   ],
   "source": [
    "macro nest(n::Int, f) \n",
    "    expression = :x\n",
    "    for _ = 1 : n\n",
    "       expression = Expr(:call, f, expression)\n",
    "    end\n",
    "    :(x -> $expression)\n",
    "end"
   ]
  },
  {
   "cell_type": "code",
   "execution_count": 2,
   "metadata": {},
   "outputs": [
    {
     "data": {
      "text/plain": [
       "0.6784304773607402"
      ]
     },
     "execution_count": 2,
     "metadata": {},
     "output_type": "execute_result"
    }
   ],
   "source": [
    "(@nest 3 sin)(1)"
   ]
  },
  {
   "cell_type": "code",
   "execution_count": 6,
   "metadata": {},
   "outputs": [],
   "source": [
    "using BenchmarkTools"
   ]
  },
  {
   "cell_type": "code",
   "execution_count": 7,
   "metadata": {},
   "outputs": [
    {
     "name": "stdout",
     "output_type": "stream",
     "text": [
      "  1.537 ns (0 allocations: 0 bytes)\n"
     ]
    },
    {
     "data": {
      "text/plain": [
       "0.6784304773607402"
      ]
     },
     "execution_count": 7,
     "metadata": {},
     "output_type": "execute_result"
    }
   ],
   "source": [
    "@btime (@nest 3 sin)(1)"
   ]
  },
  {
   "cell_type": "code",
   "execution_count": 9,
   "metadata": {},
   "outputs": [
    {
     "data": {
      "text/plain": [
       "nest (generic function with 1 method)"
      ]
     },
     "execution_count": 9,
     "metadata": {},
     "output_type": "execute_result"
    }
   ],
   "source": [
    "function nest(n::Int, f)\n",
    "    function nested_f(x)\n",
    "        argument = x\n",
    "        for _ in 1:n\n",
    "            argument= f(argument)\n",
    "        end\n",
    "        return argument\n",
    "    end\n",
    "    return nested_f\n",
    "end"
   ]
  },
  {
   "cell_type": "code",
   "execution_count": 12,
   "metadata": {},
   "outputs": [
    {
     "name": "stdout",
     "output_type": "stream",
     "text": [
      "  48.157 ns (0 allocations: 0 bytes)\n"
     ]
    },
    {
     "data": {
      "text/plain": [
       "0.6784304773607402"
      ]
     },
     "execution_count": 12,
     "metadata": {},
     "output_type": "execute_result"
    }
   ],
   "source": [
    "@btime nest(3, sin)(1)"
   ]
  },
  {
   "cell_type": "code",
   "execution_count": null,
   "metadata": {},
   "outputs": [],
   "source": []
  }
 ],
 "metadata": {
  "kernelspec": {
   "display_name": "Julia 1.1.0",
   "language": "julia",
   "name": "julia-1.1"
  },
  "language_info": {
   "file_extension": ".jl",
   "mimetype": "application/julia",
   "name": "julia",
   "version": "1.1.0"
  }
 },
 "nbformat": 4,
 "nbformat_minor": 2
}
