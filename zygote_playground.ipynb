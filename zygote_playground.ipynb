{
 "cells": [
  {
   "cell_type": "code",
   "execution_count": 12,
   "metadata": {},
   "outputs": [],
   "source": [
    "using Zygote\n",
    "using SparseArrays"
   ]
  },
  {
   "cell_type": "code",
   "execution_count": 9,
   "metadata": {},
   "outputs": [
    {
     "data": {
      "text/plain": [
       "(3, 2)"
      ]
     },
     "execution_count": 9,
     "metadata": {},
     "output_type": "execute_result"
    }
   ],
   "source": [
    "gradient((a, b) -> a*b, 2, 3)"
   ]
  },
  {
   "cell_type": "code",
   "execution_count": 10,
   "metadata": {},
   "outputs": [],
   "source": [
    "W = rand(2, 3);\n",
    "x = rand(3);"
   ]
  },
  {
   "cell_type": "code",
   "execution_count": 11,
   "metadata": {},
   "outputs": [
    {
     "data": {
      "text/plain": [
       "([0.247144 0.508975 0.224706; 0.247144 0.508975 0.224706],)"
      ]
     },
     "execution_count": 11,
     "metadata": {},
     "output_type": "execute_result"
    }
   ],
   "source": [
    "gradient(W -> sum(W * x), W)"
   ]
  },
  {
   "cell_type": "code",
   "execution_count": 40,
   "metadata": {},
   "outputs": [],
   "source": [
    "W_sp = sprand(200, 300, 0.3);"
   ]
  },
  {
   "cell_type": "code",
   "execution_count": 32,
   "metadata": {},
   "outputs": [
    {
     "data": {
      "text/plain": [
       "2×3 SparseMatrixCSC{Float64,Int64} with 1 stored entry:\n",
       "  [2, 1]  =  0.738549"
      ]
     },
     "execution_count": 32,
     "metadata": {},
     "output_type": "execute_result"
    }
   ],
   "source": [
    "W_sp"
   ]
  },
  {
   "cell_type": "code",
   "execution_count": 33,
   "metadata": {},
   "outputs": [
    {
     "data": {
      "text/plain": [
       "2×3 Array{Float64,2}:\n",
       " 0.0       0.0  0.0\n",
       " 0.738549  0.0  0.0"
      ]
     },
     "execution_count": 33,
     "metadata": {},
     "output_type": "execute_result"
    }
   ],
   "source": [
    "Matrix(W_sp)"
   ]
  },
  {
   "cell_type": "code",
   "execution_count": 41,
   "metadata": {},
   "outputs": [],
   "source": [
    "x_sp = sprand(300, 0.3);"
   ]
  },
  {
   "cell_type": "code",
   "execution_count": 30,
   "metadata": {},
   "outputs": [
    {
     "data": {
      "text/plain": [
       "3-element SparseVector{Float64,Int64} with 2 stored entries:\n",
       "  [1]  =  0.93747\n",
       "  [2]  =  0.892034"
      ]
     },
     "execution_count": 30,
     "metadata": {},
     "output_type": "execute_result"
    }
   ],
   "source": [
    "x_sp"
   ]
  },
  {
   "cell_type": "code",
   "execution_count": 45,
   "metadata": {},
   "outputs": [
    {
     "ename": "DimensionMismatch",
     "evalue": "DimensionMismatch(\"\")",
     "output_type": "error",
     "traceback": [
      "DimensionMismatch(\"\")",
      "",
      "Stacktrace:",
      " [1] #densemv#57(::Char, ::Function, ::SparseMatrixCSC{Float64,Int64}, ::SparseVector{Float64,Int64}) at /buildworker/worker/package_linux64/build/usr/share/julia/stdlib/v1.1/SparseArrays/src/sparsevector.jl:1574",
      " [2] densemv at /buildworker/worker/package_linux64/build/usr/share/julia/stdlib/v1.1/SparseArrays/src/sparsevector.jl:1564 [inlined]",
      " [3] * at /buildworker/worker/package_linux64/build/usr/share/julia/stdlib/v1.1/SparseArrays/src/sparsevector.jl:1670 [inlined]",
      " [4] adjoint at /home/olszewskip/.julia/packages/Zygote/8dVxG/src/lib/array.jl:243 [inlined]",
      " [5] _pullback(::Zygote.Context, ::typeof(*), ::SparseMatrixCSC{Float64,Int64}, ::SparseVector{Float64,Int64}) at /home/olszewskip/.julia/packages/ZygoteRules/6nssF/src/adjoint.jl:47",
      " [6] #33 at ./In[45]:1 [inlined]",
      " [7] _pullback(::Zygote.Context, ::getfield(Main, Symbol(\"##33#34\"))) at /home/olszewskip/.julia/packages/Zygote/8dVxG/src/compiler/interface2.jl:0",
      " [8] _pullback(::Function) at /home/olszewskip/.julia/packages/Zygote/8dVxG/src/compiler/interface.jl:31",
      " [9] pullback(::Function) at /home/olszewskip/.julia/packages/Zygote/8dVxG/src/compiler/interface.jl:37",
      " [10] gradient(::Function) at /home/olszewskip/.julia/packages/Zygote/8dVxG/src/compiler/interface.jl:46",
      " [11] top-level scope at In[45]:1"
     ]
    }
   ],
   "source": [
    "gradient(() -> sum(W * x_sp))"
   ]
  },
  {
   "cell_type": "markdown",
   "metadata": {},
   "source": [
    "---"
   ]
  },
  {
   "cell_type": "code",
   "execution_count": 25,
   "metadata": {},
   "outputs": [
    {
     "name": "stderr",
     "output_type": "stream",
     "text": [
      "┌ Info: CUDAdrv.jl failed to initialize, GPU functionality unavailable (set JULIA_CUDA_SILENT or JULIA_CUDA_VERBOSE to silence or expand this message)\n",
      "└ @ CUDAdrv /home/olszewskip/.julia/packages/CUDAdrv/mCr0O/src/CUDAdrv.jl:69\n"
     ]
    }
   ],
   "source": [
    "using Flux"
   ]
  },
  {
   "cell_type": "code",
   "execution_count": null,
   "metadata": {},
   "outputs": [],
   "source": []
  },
  {
   "cell_type": "code",
   "execution_count": 27,
   "metadata": {},
   "outputs": [
    {
     "data": {
      "text/plain": [
       "f (generic function with 1 method)"
      ]
     },
     "execution_count": 27,
     "metadata": {},
     "output_type": "execute_result"
    }
   ],
   "source": [
    "function f(x, dict)\n",
    "    \n",
    "end"
   ]
  },
  {
   "cell_type": "code",
   "execution_count": 28,
   "metadata": {},
   "outputs": [
    {
     "data": {
      "text/plain": [
       "5"
      ]
     },
     "execution_count": 28,
     "metadata": {},
     "output_type": "execute_result"
    }
   ],
   "source": [
    "f(5)"
   ]
  },
  {
   "cell_type": "code",
   "execution_count": 23,
   "metadata": {},
   "outputs": [
    {
     "data": {
      "text/plain": [
       "Dict{1 => 0.1,2 => 0.2}"
      ]
     },
     "execution_count": 23,
     "metadata": {},
     "output_type": "execute_result"
    }
   ],
   "source": [
    "dict = Dict{1 => 0.1, 2 => 0.2}"
   ]
  },
  {
   "cell_type": "code",
   "execution_count": 24,
   "metadata": {},
   "outputs": [
    {
     "data": {
      "text/plain": [
       "1×2 Array{Int64,2}:\n",
       " 4  5"
      ]
     },
     "execution_count": 24,
     "metadata": {},
     "output_type": "execute_result"
    }
   ],
   "source": [
    "x = [4 5]"
   ]
  },
  {
   "cell_type": "code",
   "execution_count": null,
   "metadata": {},
   "outputs": [],
   "source": []
  },
  {
   "cell_type": "code",
   "execution_count": null,
   "metadata": {},
   "outputs": [],
   "source": []
  },
  {
   "cell_type": "code",
   "execution_count": 6,
   "metadata": {},
   "outputs": [
    {
     "data": {
      "text/plain": [
       "Tuple{Int64,Int64}"
      ]
     },
     "execution_count": 6,
     "metadata": {},
     "output_type": "execute_result"
    }
   ],
   "source": [
    "typeof(Tuple([2, 1]))"
   ]
  },
  {
   "cell_type": "code",
   "execution_count": 53,
   "metadata": {},
   "outputs": [
    {
     "data": {
      "text/plain": [
       "Dict{Tuple{Int32,Int32},Float16} with 2 entries:\n",
       "  (2, 2) => 0.19995\n",
       "  (1, 1) => 0.5"
      ]
     },
     "execution_count": 53,
     "metadata": {},
     "output_type": "execute_result"
    }
   ],
   "source": [
    "dict = Dict{Tuple{Int32, Int32}, Float16}()\n",
    "dict[(1, 1)] = 0.5;\n",
    "dict[(2, 2)] = 0.2;\n",
    "dict"
   ]
  },
  {
   "cell_type": "code",
   "execution_count": 9,
   "metadata": {},
   "outputs": [],
   "source": [
    "using SparseArrays"
   ]
  },
  {
   "cell_type": "code",
   "execution_count": 30,
   "metadata": {},
   "outputs": [
    {
     "data": {
      "text/plain": [
       "2×3 Array{Int64,2}:\n",
       " 1  3  5\n",
       " 2  4  6"
      ]
     },
     "execution_count": 30,
     "metadata": {},
     "output_type": "execute_result"
    }
   ],
   "source": [
    "arr = Array(reshape(1:6, 2, 3))"
   ]
  },
  {
   "cell_type": "code",
   "execution_count": 39,
   "metadata": {},
   "outputs": [
    {
     "data": {
      "text/plain": [
       "2-element Array{Tuple{Int64,Int64},1}:\n",
       " (2, 1)\n",
       " (2, 1)"
      ]
     },
     "execution_count": 39,
     "metadata": {},
     "output_type": "execute_result"
    }
   ],
   "source": [
    "collect(zip(keys(dict)...))"
   ]
  },
  {
   "cell_type": "code",
   "execution_count": 43,
   "metadata": {},
   "outputs": [
    {
     "data": {
      "text/plain": [
       "2-element Array{Pair{Tuple{Int64,Int64},Float32},1}:\n",
       " (2, 2) => 0.2\n",
       " (1, 1) => 0.5"
      ]
     },
     "execution_count": 43,
     "metadata": {},
     "output_type": "execute_result"
    }
   ],
   "source": [
    "collect(dict)"
   ]
  },
  {
   "cell_type": "code",
   "execution_count": 52,
   "metadata": {},
   "outputs": [],
   "source": [
    "I = Vector{Int32}(undef, length(dict));\n",
    "J = Vector{Int32}(undef, length(dict));\n",
    "V = Vector{Float16}(undef, length(dict));"
   ]
  },
  {
   "cell_type": "code",
   "execution_count": 55,
   "metadata": {},
   "outputs": [
    {
     "data": {
      "text/plain": [
       "2-element Array{Tuple{Int64,Pair{Tuple{Int32,Int32},Float16}},1}:\n",
       " (1, (2, 2) => 0.2)\n",
       " (2, (1, 1) => 0.5)"
      ]
     },
     "execution_count": 55,
     "metadata": {},
     "output_type": "execute_result"
    }
   ],
   "source": [
    "collect(enumerate(dict))"
   ]
  },
  {
   "cell_type": "code",
   "execution_count": 61,
   "metadata": {},
   "outputs": [
    {
     "data": {
      "text/plain": [
       "2×2 SparseMatrixCSC{Float16,Int32} with 2 stored entries:\n",
       "  [1, 1]  =  0.5\n",
       "  [2, 2]  =  0.2"
      ]
     },
     "execution_count": 61,
     "metadata": {},
     "output_type": "execute_result"
    }
   ],
   "source": [
    "sparse(I, J, V)"
   ]
  },
  {
   "cell_type": "code",
   "execution_count": 20,
   "metadata": {},
   "outputs": [
    {
     "data": {
      "text/plain": [
       "2×1 Array{Tuple{Int64,Int64},2}:\n",
       " (1, 2)\n",
       " (2, 2)"
      ]
     },
     "execution_count": 20,
     "metadata": {},
     "output_type": "execute_result"
    }
   ],
   "source": [
    "hcat(collect(keys(dict)))"
   ]
  },
  {
   "cell_type": "code",
   "execution_count": 62,
   "metadata": {},
   "outputs": [
    {
     "data": {
      "text/plain": [
       "Dict{Tuple{Int32,Int32},Float16}"
      ]
     },
     "execution_count": 62,
     "metadata": {},
     "output_type": "execute_result"
    }
   ],
   "source": [
    "typeof(dict)"
   ]
  },
  {
   "cell_type": "code",
   "execution_count": 64,
   "metadata": {},
   "outputs": [
    {
     "data": {
      "text/plain": [
       "0-element Array{Any,1}"
      ]
     },
     "execution_count": 64,
     "metadata": {},
     "output_type": "execute_result"
    }
   ],
   "source": [
    "Vector()"
   ]
  },
  {
   "cell_type": "code",
   "execution_count": 11,
   "metadata": {},
   "outputs": [
    {
     "name": "stdout",
     "output_type": "stream",
     "text": [
      "search: \u001b[0m\u001b[1mA\u001b[22m\u001b[0m\u001b[1ms\u001b[22m\u001b[0m\u001b[1ms\u001b[22m\u001b[0m\u001b[1me\u001b[22m\u001b[0m\u001b[1mr\u001b[22m\u001b[0m\u001b[1mt\u001b[22mionError @\u001b[0m\u001b[1ma\u001b[22m\u001b[0m\u001b[1ms\u001b[22m\u001b[0m\u001b[1ms\u001b[22m\u001b[0m\u001b[1me\u001b[22m\u001b[0m\u001b[1mr\u001b[22m\u001b[0m\u001b[1mt\u001b[22m type\u001b[0m\u001b[1ma\u001b[22m\u001b[0m\u001b[1ms\u001b[22m\u001b[0m\u001b[1ms\u001b[22m\u001b[0m\u001b[1me\u001b[22m\u001b[0m\u001b[1mr\u001b[22m\u001b[0m\u001b[1mt\u001b[22m\n",
      "\n",
      "Couldn't find \u001b[36massert\u001b[39m\n",
      "Perhaps you meant @assert, asec, asecd, asech, Cshort, insert!, isperm or isqrt\n"
     ]
    },
    {
     "data": {
      "text/latex": [
       "No documentation found.\n",
       "\n",
       "Binding \\texttt{assert} does not exist.\n",
       "\n"
      ],
      "text/markdown": [
       "No documentation found.\n",
       "\n",
       "Binding `assert` does not exist.\n"
      ],
      "text/plain": [
       "  No documentation found.\n",
       "\n",
       "  Binding \u001b[36massert\u001b[39m does not exist."
      ]
     },
     "execution_count": 11,
     "metadata": {},
     "output_type": "execute_result"
    }
   ],
   "source": [
    "?assert"
   ]
  },
  {
   "cell_type": "code",
   "execution_count": 18,
   "metadata": {},
   "outputs": [],
   "source": [
    "mutable struct MyNum_\n",
    "    num\n",
    "end"
   ]
  },
  {
   "cell_type": "code",
   "execution_count": 19,
   "metadata": {},
   "outputs": [
    {
     "data": {
      "text/plain": [
       "MyNum_(4)"
      ]
     },
     "execution_count": 19,
     "metadata": {},
     "output_type": "execute_result"
    }
   ],
   "source": [
    "my_num_ = MyNum_(4)"
   ]
  },
  {
   "cell_type": "code",
   "execution_count": 21,
   "metadata": {},
   "outputs": [
    {
     "data": {
      "text/plain": [
       "5"
      ]
     },
     "execution_count": 21,
     "metadata": {},
     "output_type": "execute_result"
    }
   ],
   "source": [
    "my_num_.num"
   ]
  },
  {
   "cell_type": "code",
   "execution_count": 5,
   "metadata": {},
   "outputs": [
    {
     "ename": "ErrorException",
     "evalue": "syntax: invalid type signature",
     "output_type": "error",
     "traceback": [
      "syntax: invalid type signature",
      "",
      "Stacktrace:",
      " [1] top-level scope at /home/olszewskip/.julia/packages/IJulia/F1GUo/src/kernel.jl:52"
     ]
    }
   ],
   "source": [
    "struct Dok{T} where {T}\n",
    "    num::T\n",
    "    dict::Dict{T}\n",
    "end\n",
    "Dok(num) = Dok(num, Dict())"
   ]
  },
  {
   "cell_type": "code",
   "execution_count": 4,
   "metadata": {},
   "outputs": [
    {
     "data": {
      "text/plain": [
       "Dok{Any}(2, Dict{Any,Any}())"
      ]
     },
     "execution_count": 4,
     "metadata": {},
     "output_type": "execute_result"
    }
   ],
   "source": [
    "Dok(2)"
   ]
  },
  {
   "cell_type": "code",
   "execution_count": 4,
   "metadata": {},
   "outputs": [
    {
     "ename": "ErrorException",
     "evalue": "syntax: invalid type signature",
     "output_type": "error",
     "traceback": [
      "syntax: invalid type signature",
      "",
      "Stacktrace:",
      " [1] top-level scope at /home/olszewskip/.julia/packages/IJulia/F1GUo/src/kernel.jl:52"
     ]
    }
   ],
   "source": [
    "struct DokLayer{T,S,F} where {T}\n",
    "    m::T\n",
    "    n::T\n",
    "    dict::Dict{Tuple{T, T}, S}\n",
    "    σ::F\n",
    "end\n",
    "\n",
    "DokMatrix(m, n) = DokMatrix(m, n, Dict(), identity)\n",
    "\n",
    "function update(dok_mat, I, J, V)\n",
    "    for (i, j, v) in zip(I, J, V)\n",
    "        @assert i <= dok_mat.m && j <= dok_mat.n\n",
    "        dok_mat.dict[(i, j)] = v\n",
    "    end\n",
    "end"
   ]
  },
  {
   "cell_type": "code",
   "execution_count": 4,
   "metadata": {},
   "outputs": [
    {
     "ename": "MethodError",
     "evalue": "MethodError: no method matching DokMatrix(::Int64, ::Int64, ::Dict{Any,Any}, ::typeof(identity))\nClosest candidates are:\n  DokMatrix(::Any, ::Any) at In[3]:8",
     "output_type": "error",
     "traceback": [
      "MethodError: no method matching DokMatrix(::Int64, ::Int64, ::Dict{Any,Any}, ::typeof(identity))\nClosest candidates are:\n  DokMatrix(::Any, ::Any) at In[3]:8",
      "",
      "Stacktrace:",
      " [1] DokMatrix(::Int64, ::Int64) at ./In[3]:8",
      " [2] top-level scope at In[4]:1"
     ]
    }
   ],
   "source": [
    "dok_matrix = DokMatrix(2, 3)"
   ]
  },
  {
   "cell_type": "code",
   "execution_count": 23,
   "metadata": {},
   "outputs": [],
   "source": [
    "update(dok_matrix, [2], [1], [0.5])"
   ]
  },
  {
   "cell_type": "code",
   "execution_count": 24,
   "metadata": {},
   "outputs": [
    {
     "data": {
      "text/plain": [
       "DokMatrix(2, 3, Dict((2, 1) => 0.5))"
      ]
     },
     "execution_count": 24,
     "metadata": {},
     "output_type": "execute_result"
    }
   ],
   "source": [
    "dok_matrix"
   ]
  },
  {
   "cell_type": "code",
   "execution_count": null,
   "metadata": {},
   "outputs": [],
   "source": []
  },
  {
   "cell_type": "markdown",
   "metadata": {},
   "source": [
    "---"
   ]
  },
  {
   "cell_type": "code",
   "execution_count": 2,
   "metadata": {},
   "outputs": [],
   "source": [
    "using Flux"
   ]
  },
  {
   "cell_type": "code",
   "execution_count": 9,
   "metadata": {},
   "outputs": [
    {
     "data": {
      "text/plain": [
       "Dict{Int64,Int64} with 1 entry:\n",
       "  1 => 2"
      ]
     },
     "execution_count": 9,
     "metadata": {},
     "output_type": "execute_result"
    }
   ],
   "source": [
    "dict = Dict(1=>2)"
   ]
  },
  {
   "cell_type": "code",
   "execution_count": 4,
   "metadata": {},
   "outputs": [
    {
     "data": {
      "text/plain": [
       "1×2 Array{Int64,2}:\n",
       " 10  20"
      ]
     },
     "execution_count": 4,
     "metadata": {},
     "output_type": "execute_result"
    }
   ],
   "source": [
    "vect = [10 20]"
   ]
  },
  {
   "cell_type": "code",
   "execution_count": 4,
   "metadata": {},
   "outputs": [
    {
     "data": {
      "text/plain": [
       "3"
      ]
     },
     "execution_count": 4,
     "metadata": {},
     "output_type": "execute_result"
    }
   ],
   "source": [
    "sum(keys(dict))"
   ]
  },
  {
   "cell_type": "code",
   "execution_count": 7,
   "metadata": {},
   "outputs": [
    {
     "data": {
      "text/plain": [
       "3"
      ]
     },
     "execution_count": 7,
     "metadata": {},
     "output_type": "execute_result"
    }
   ],
   "source": [
    "(sum ∘ keys)(dict)"
   ]
  },
  {
   "cell_type": "code",
   "execution_count": 13,
   "metadata": {},
   "outputs": [
    {
     "name": "stdout",
     "output_type": "stream",
     "text": [
      "search: \u001b[0m\u001b[1mb\u001b[22m\u001b[0m\u001b[1ma\u001b[22m\u001b[0m\u001b[1mc\u001b[22m\u001b[0m\u001b[1mk\u001b[22mtrace catch_\u001b[0m\u001b[1mb\u001b[22m\u001b[0m\u001b[1ma\u001b[22m\u001b[0m\u001b[1mc\u001b[22m\u001b[0m\u001b[1mk\u001b[22mtrace Exponential\u001b[0m\u001b[1mB\u001b[22m\u001b[0m\u001b[1ma\u001b[22m\u001b[0m\u001b[1mc\u001b[22m\u001b[0m\u001b[1mk\u001b[22mOff \u001b[0m\u001b[1mB\u001b[22m\u001b[0m\u001b[1ma\u001b[22mt\u001b[0m\u001b[1mc\u001b[22mhNorm \u001b[0m\u001b[1mb\u001b[22mro\u001b[0m\u001b[1ma\u001b[22md\u001b[0m\u001b[1mc\u001b[22mast\n",
      "\n",
      "Couldn't find \u001b[36mback\u001b[39m\n",
      "Perhaps you meant lock, mark, Task, Base, break, big, bind, abs, Main or ans\n"
     ]
    },
    {
     "data": {
      "text/latex": [
       "No documentation found.\n",
       "\n",
       "Binding \\texttt{back} does not exist.\n",
       "\n"
      ],
      "text/markdown": [
       "No documentation found.\n",
       "\n",
       "Binding `back` does not exist.\n"
      ],
      "text/plain": [
       "  No documentation found.\n",
       "\n",
       "  Binding \u001b[36mback\u001b[39m does not exist."
      ]
     },
     "execution_count": 13,
     "metadata": {},
     "output_type": "execute_result"
    }
   ],
   "source": [
    "?back"
   ]
  },
  {
   "cell_type": "code",
   "execution_count": 12,
   "metadata": {},
   "outputs": [
    {
     "ename": "MethodError",
     "evalue": "MethodError: no method matching getindex(::Dict{Any,Any})\nClosest candidates are:\n  getindex(::Dict{K,V}, !Matched::Any) where {K, V} at dict.jl:476\n  getindex(::AbstractDict, !Matched::Any) at abstractdict.jl:467\n  getindex(::AbstractDict, !Matched::Any, !Matched::Any, !Matched::Any...) at abstractdict.jl:476\n  ...",
     "output_type": "error",
     "traceback": [
      "MethodError: no method matching getindex(::Dict{Any,Any})\nClosest candidates are:\n  getindex(::Dict{K,V}, !Matched::Any) where {K, V} at dict.jl:476\n  getindex(::AbstractDict, !Matched::Any) at abstractdict.jl:467\n  getindex(::AbstractDict, !Matched::Any, !Matched::Any, !Matched::Any...) at abstractdict.jl:476\n  ...",
      "",
      "Stacktrace:",
      " [1] (::Zygote.var\"#back#165\"{:keys,Zygote.Context,Dict{Int64,Int64},Array{Int64,1}})(::Array{Int64,1}) at /home/olszewskip/.julia/packages/Zygote/vrsws/src/lib/lib.jl:184",
      " [2] (::Zygote.var\"#308#back#166\"{Zygote.var\"#back#165\"{:keys,Zygote.Context,Dict{Int64,Int64},Array{Int64,1}}})(::Array{Int64,1}) at /home/olszewskip/.julia/packages/ZygoteRules/6nssF/src/adjoint.jl:49",
      " [3] iterate at ./dict.jl:688 [inlined]",
      " [4] iterate at ./dict.jl:685 [inlined]",
      " [5] (::typeof(∂(iterate)))(::Tuple{Int64,Nothing}) at /home/olszewskip/.julia/packages/Zygote/vrsws/src/compiler/interface2.jl:0",
      " [6] first at ./abstractarray.jl:342 [inlined]",
      " [7] (::typeof(∂(first)))(::Int64) at /home/olszewskip/.julia/packages/Zygote/vrsws/src/compiler/interface2.jl:0",
      " [8] #56 at ./operators.jl:873 [inlined]",
      " [9] (::typeof(∂(#56)))(::Int64) at /home/olszewskip/.julia/packages/Zygote/vrsws/src/compiler/interface2.jl:0",
      " [10] (::Zygote.var\"#28#29\"{typeof(∂(#56))})(::Int64) at /home/olszewskip/.julia/packages/Zygote/vrsws/src/compiler/interface.jl:38",
      " [11] gradient(::Function, ::Dict{Int64,Int64}) at /home/olszewskip/.julia/packages/Zygote/vrsws/src/compiler/interface.jl:47",
      " [12] top-level scope at In[12]:1"
     ]
    }
   ],
   "source": [
    "gradient(first∘keys, dict)"
   ]
  },
  {
   "cell_type": "code",
   "execution_count": 32,
   "metadata": {},
   "outputs": [
    {
     "data": {
      "text/plain": [
       "sum_multiplying (generic function with 3 methods)"
      ]
     },
     "execution_count": 32,
     "metadata": {},
     "output_type": "execute_result"
    }
   ],
   "source": [
    "function sum_multiplying(vect, dict)\n",
    "#     keys = [1]\n",
    "#     vals = [10]\n",
    "    sum = 0\n",
    "    for (key, val) in zip(keys, vals)\n",
    "        sum += vect[key] * val\n",
    "    end\n",
    "    return sum\n",
    "end"
   ]
  },
  {
   "cell_type": "code",
   "execution_count": 28,
   "metadata": {},
   "outputs": [
    {
     "data": {
      "text/plain": [
       "getfirst (generic function with 1 method)"
      ]
     },
     "execution_count": 28,
     "metadata": {},
     "output_type": "execute_result"
    }
   ],
   "source": [
    "getfirst(vect) = vect[1]"
   ]
  },
  {
   "cell_type": "code",
   "execution_count": 33,
   "metadata": {},
   "outputs": [
    {
     "data": {
      "text/plain": [
       "([10 0], nothing, [10])"
      ]
     },
     "execution_count": 33,
     "metadata": {},
     "output_type": "execute_result"
    }
   ],
   "source": [
    "gradient(sum_multiplying, vect, [1], [10])"
   ]
  },
  {
   "cell_type": "code",
   "execution_count": 13,
   "metadata": {},
   "outputs": [],
   "source": [
    "using SparseArrays"
   ]
  },
  {
   "cell_type": "code",
   "execution_count": 15,
   "metadata": {},
   "outputs": [
    {
     "data": {
      "text/plain": [
       "3×3 SparseMatrixCSC{Int64,Int64} with 3 stored entries:\n",
       "  [2, 1]  =  20\n",
       "  [1, 2]  =  10\n",
       "  [3, 3]  =  30"
      ]
     },
     "execution_count": 15,
     "metadata": {},
     "output_type": "execute_result"
    }
   ],
   "source": [
    "sp_arr = sparse([1, 2, 3], [2, 1, 3], [10, 20, 30])"
   ]
  },
  {
   "cell_type": "markdown",
   "metadata": {},
   "source": [
    "---"
   ]
  },
  {
   "cell_type": "code",
   "execution_count": 1,
   "metadata": {},
   "outputs": [],
   "source": [
    "using Zygote"
   ]
  },
  {
   "cell_type": "code",
   "execution_count": 10,
   "metadata": {},
   "outputs": [
    {
     "data": {
      "text/plain": [
       "2-element Array{Int64,1}:\n",
       " 1\n",
       " 2"
      ]
     },
     "execution_count": 10,
     "metadata": {},
     "output_type": "execute_result"
    }
   ],
   "source": [
    "dict = Dict(1=>10, 2=>20);\n",
    "vect = [1, 2]"
   ]
  },
  {
   "cell_type": "code",
   "execution_count": 13,
   "metadata": {},
   "outputs": [
    {
     "data": {
      "text/plain": [
       "10"
      ]
     },
     "execution_count": 13,
     "metadata": {},
     "output_type": "execute_result"
    }
   ],
   "source": [
    "getindex(dict, 1)"
   ]
  },
  {
   "cell_type": "code",
   "execution_count": 70,
   "metadata": {},
   "outputs": [
    {
     "data": {
      "text/plain": [
       "(Dict{Any,Any}(1 => 1),)"
      ]
     },
     "execution_count": 70,
     "metadata": {},
     "output_type": "execute_result"
    }
   ],
   "source": [
    "gradient(dict -> dict[1], Dict(1=>10))"
   ]
  },
  {
   "cell_type": "code",
   "execution_count": 11,
   "metadata": {},
   "outputs": [],
   "source": [
    "using SparseArrays"
   ]
  },
  {
   "cell_type": "code",
   "execution_count": 56,
   "metadata": {},
   "outputs": [
    {
     "data": {
      "text/plain": [
       "2-element SparseVector{Int64,Int64} with 1 stored entry:\n",
       "  [2]  =  2"
      ]
     },
     "execution_count": 56,
     "metadata": {},
     "output_type": "execute_result"
    }
   ],
   "source": [
    "vec = sparsevec([2], [2], 2)"
   ]
  },
  {
   "cell_type": "code",
   "execution_count": 61,
   "metadata": {},
   "outputs": [
    {
     "data": {
      "text/plain": [
       "3×2 SparseMatrixCSC{Int64,Int64} with 2 stored entries:\n",
       "  [1, 1]  =  10\n",
       "  [2, 2]  =  20"
      ]
     },
     "execution_count": 61,
     "metadata": {},
     "output_type": "execute_result"
    }
   ],
   "source": [
    "sparse([1, 2], [1, 2], [10, 20], 3, 2)"
   ]
  },
  {
   "cell_type": "code",
   "execution_count": 62,
   "metadata": {},
   "outputs": [
    {
     "data": {
      "text/plain": [
       "([0 2; 0 2; 0 2],)"
      ]
     },
     "execution_count": 62,
     "metadata": {},
     "output_type": "execute_result"
    }
   ],
   "source": [
    "gradient(W -> sum(W * vec), sparse([1, 2], [1, 2], [10, 20], 3, 2))"
   ]
  },
  {
   "cell_type": "code",
   "execution_count": null,
   "metadata": {},
   "outputs": [],
   "source": []
  },
  {
   "cell_type": "code",
   "execution_count": 9,
   "metadata": {},
   "outputs": [
    {
     "ename": "UndefVarError",
     "evalue": "UndefVarError: sparse not defined",
     "output_type": "error",
     "traceback": [
      "UndefVarError: sparse not defined",
      "",
      "Stacktrace:",
      " [1] top-level scope at In[9]:1"
     ]
    }
   ],
   "source": [
    "gradient(sum, sparse([]))"
   ]
  },
  {
   "cell_type": "code",
   "execution_count": 47,
   "metadata": {},
   "outputs": [
    {
     "data": {
      "text/plain": [
       "Dict_(3, 2, Dict(3 => 30,1 => 10))"
      ]
     },
     "execution_count": 47,
     "metadata": {},
     "output_type": "execute_result"
    }
   ],
   "source": [
    "struct Dict_\n",
    "    m\n",
    "    n\n",
    "    dict\n",
    "end\n",
    "\n",
    "#dict_ = Dict_(3, 2, Dict(1 => Set([(2, 10)]), 3 => Set([(1, 30)])))\n",
    "dict_ = Dict_(3, 2, Dict(1 => 10, 3 => 30))"
   ]
  },
  {
   "cell_type": "code",
   "execution_count": null,
   "metadata": {},
   "outputs": [],
   "source": [
    "function "
   ]
  },
  {
   "cell_type": "code",
   "execution_count": 36,
   "metadata": {},
   "outputs": [
    {
     "data": {
      "text/plain": [
       "1"
      ]
     },
     "execution_count": 36,
     "metadata": {},
     "output_type": "execute_result"
    }
   ],
   "source": [
    "get(Dict(0=>1), 0, 0)"
   ]
  },
  {
   "cell_type": "code",
   "execution_count": 82,
   "metadata": {},
   "outputs": [
    {
     "data": {
      "text/plain": [
       "2-element Array{Char,1}:\n",
       " 'a'\n",
       " 'b'"
      ]
     },
     "execution_count": 82,
     "metadata": {},
     "output_type": "execute_result"
    }
   ],
   "source": [
    "vect = ['a', 'b']"
   ]
  },
  {
   "cell_type": "code",
   "execution_count": 83,
   "metadata": {},
   "outputs": [
    {
     "data": {
      "text/plain": [
       "Dict{Int64,Char} with 2 entries:\n",
       "  2 => 'b'\n",
       "  1 => 'a'"
      ]
     },
     "execution_count": 83,
     "metadata": {},
     "output_type": "execute_result"
    }
   ],
   "source": [
    "Dict(index => elem for (index, elem) in enumerate(vect))"
   ]
  },
  {
   "cell_type": "code",
   "execution_count": 84,
   "metadata": {},
   "outputs": [
    {
     "data": {
      "text/plain": [
       "vect2dict (generic function with 1 method)"
      ]
     },
     "execution_count": 84,
     "metadata": {},
     "output_type": "execute_result"
    }
   ],
   "source": [
    "vect2dict(vect) = Dict(index => elem for (index, elem) in enumerate(vect))"
   ]
  },
  {
   "cell_type": "code",
   "execution_count": 85,
   "metadata": {},
   "outputs": [
    {
     "data": {
      "text/plain": [
       "2×2 Array{Int64,2}:\n",
       " 1  2\n",
       " 3  4"
      ]
     },
     "execution_count": 85,
     "metadata": {},
     "output_type": "execute_result"
    }
   ],
   "source": [
    "mat = "
   ]
  },
  {
   "cell_type": "code",
   "execution_count": null,
   "metadata": {},
   "outputs": [],
   "source": []
  },
  {
   "cell_type": "code",
   "execution_count": 101,
   "metadata": {},
   "outputs": [
    {
     "data": {
      "text/plain": [
       "2-element Array{Int64,1}:\n",
       " 0\n",
       " 0"
      ]
     },
     "execution_count": 101,
     "metadata": {},
     "output_type": "execute_result"
    }
   ],
   "source": [
    "zero([1, 2])"
   ]
  },
  {
   "cell_type": "code",
   "execution_count": 125,
   "metadata": {},
   "outputs": [
    {
     "data": {
      "text/plain": [
       "([1], [1])"
      ]
     },
     "execution_count": 125,
     "metadata": {},
     "output_type": "execute_result"
    }
   ],
   "source": [
    "findnz(sparsevec([1 0]))"
   ]
  },
  {
   "cell_type": "code",
   "execution_count": 135,
   "metadata": {},
   "outputs": [
    {
     "data": {
      "text/plain": [
       "2-element Array{Float64,1}:\n",
       " 0.0               \n",
       " 0.1551314176788876"
      ]
     },
     "execution_count": 135,
     "metadata": {},
     "output_type": "execute_result"
    }
   ],
   "source": [
    "sp_vec = sprand(2, 0.5)\n",
    "Vector(sp_vec)"
   ]
  },
  {
   "cell_type": "code",
   "execution_count": 138,
   "metadata": {},
   "outputs": [
    {
     "data": {
      "text/plain": [
       "1-element Array{Float64,1}:\n",
       " 0.1551314176788876"
      ]
     },
     "execution_count": 138,
     "metadata": {},
     "output_type": "execute_result"
    }
   ],
   "source": [
    "sp_vec.nzval"
   ]
  },
  {
   "cell_type": "code",
   "execution_count": 129,
   "metadata": {},
   "outputs": [
    {
     "data": {
      "text/plain": [
       "3×2 Array{Float64,2}:\n",
       " 0.356838  0.0     \n",
       " 0.0       0.0     \n",
       " 0.0       0.758888"
      ]
     },
     "execution_count": 129,
     "metadata": {},
     "output_type": "execute_result"
    }
   ],
   "source": [
    "sp_arr = sprand(3, 2, 0.5)\n",
    "Matrix(sp_arr)"
   ]
  },
  {
   "cell_type": "code",
   "execution_count": 130,
   "metadata": {},
   "outputs": [
    {
     "data": {
      "text/plain": [
       "3-element Array{Int64,1}:\n",
       " 1\n",
       " 2\n",
       " 3"
      ]
     },
     "execution_count": 130,
     "metadata": {},
     "output_type": "execute_result"
    }
   ],
   "source": [
    "sp_arr.colptr"
   ]
  },
  {
   "cell_type": "code",
   "execution_count": 143,
   "metadata": {},
   "outputs": [
    {
     "data": {
      "text/plain": [
       "2-element Array{Float64,1}:\n",
       " 0.3568375111919624\n",
       " 0.7588878466506941"
      ]
     },
     "execution_count": 143,
     "metadata": {},
     "output_type": "execute_result"
    }
   ],
   "source": [
    "sp_arr.nzval"
   ]
  },
  {
   "cell_type": "code",
   "execution_count": 144,
   "metadata": {},
   "outputs": [
    {
     "data": {
      "text/plain": [
       "2-element Array{Int64,1}:\n",
       " 1\n",
       " 3"
      ]
     },
     "execution_count": 144,
     "metadata": {},
     "output_type": "execute_result"
    }
   ],
   "source": [
    "sp_arr.rowval"
   ]
  },
  {
   "cell_type": "code",
   "execution_count": 149,
   "metadata": {},
   "outputs": [
    {
     "ename": "MethodError",
     "evalue": "MethodError: no method matching sparsevec(::Int64, ::UndefInitializer)",
     "output_type": "error",
     "traceback": [
      "MethodError: no method matching sparsevec(::Int64, ::UndefInitializer)",
      "",
      "Stacktrace:",
      " [1] top-level scope at In[149]:1"
     ]
    }
   ],
   "source": [
    "sparsevec(3)"
   ]
  },
  {
   "cell_type": "code",
   "execution_count": 150,
   "metadata": {},
   "outputs": [
    {
     "data": {
      "text/plain": [
       "Array{Any,1}"
      ]
     },
     "execution_count": 150,
     "metadata": {},
     "output_type": "execute_result"
    }
   ],
   "source": [
    "typeof([])"
   ]
  },
  {
   "cell_type": "code",
   "execution_count": 164,
   "metadata": {},
   "outputs": [
    {
     "data": {
      "text/plain": [
       "Dict{Int64,Int64} with 2 entries:\n",
       "  2 => 2\n",
       "  1 => 1"
      ]
     },
     "execution_count": 164,
     "metadata": {},
     "output_type": "execute_result"
    }
   ],
   "source": [
    "di = Dict(1=>1, 2=>2)"
   ]
  },
  {
   "cell_type": "code",
   "execution_count": 165,
   "metadata": {},
   "outputs": [
    {
     "data": {
      "text/plain": [
       "5"
      ]
     },
     "execution_count": 165,
     "metadata": {},
     "output_type": "execute_result"
    }
   ],
   "source": [
    "sum(di[i] * x for (i, x) in enumerate([1, 2]))"
   ]
  },
  {
   "cell_type": "code",
   "execution_count": 3,
   "metadata": {},
   "outputs": [],
   "source": [
    "using Zygote"
   ]
  },
  {
   "cell_type": "code",
   "execution_count": 14,
   "metadata": {},
   "outputs": [
    {
     "data": {
      "text/plain": [
       "test (generic function with 1 method)"
      ]
     },
     "execution_count": 14,
     "metadata": {},
     "output_type": "execute_result"
    }
   ],
   "source": [
    "struct Linear\n",
    "    W\n",
    "    b\n",
    "    dict\n",
    "end\n",
    "\n",
    "l = Linear(rand(2, 5), rand(2), Dict(1=>10))\n",
    "x = rand(5);\n",
    "\n",
    "function test(l)\n",
    "    sum_ = sum(l.W * x + l.b)\n",
    "    for (key, val) in pairs(l.dict)\n",
    "        sum_ *= val\n",
    "    end\n",
    "    return sum_\n",
    "end"
   ]
  },
  {
   "cell_type": "code",
   "execution_count": null,
   "metadata": {},
   "outputs": [],
   "source": []
  },
  {
   "cell_type": "code",
   "execution_count": 17,
   "metadata": {},
   "outputs": [],
   "source": [
    "import Base: getfield"
   ]
  },
  {
   "cell_type": "code",
   "execution_count": 27,
   "metadata": {},
   "outputs": [],
   "source": [
    "import Base: +"
   ]
  },
  {
   "cell_type": "code",
   "execution_count": 32,
   "metadata": {},
   "outputs": [
    {
     "data": {
      "text/plain": [
       "2-element Array{Pair{Int64,Int64},1}:\n",
       " 1 => 10\n",
       " 1 => 20"
      ]
     },
     "execution_count": 32,
     "metadata": {},
     "output_type": "execute_result"
    }
   ],
   "source": [
    "union(Dict(1=>10), Dict(1=>20))"
   ]
  },
  {
   "cell_type": "code",
   "execution_count": 46,
   "metadata": {},
   "outputs": [
    {
     "data": {
      "text/latex": [
       "No documentation found.\n",
       "\n",
       "\\texttt{Zygote.accum} is a \\texttt{Function}.\n",
       "\n",
       "\\begin{verbatim}\n",
       "# 9 methods for generic function \"accum\":\n",
       "[1] accum() in Zygote at /home/olszewskip/.julia/packages/Zygote/oPQFy/src/lib/lib.jl:5\n",
       "[2] accum(x::Tuple, y::Tuple) in Zygote at /home/olszewskip/.julia/packages/Zygote/oPQFy/src/lib/lib.jl:15\n",
       "[3] accum(x::AbstractArray, y::AbstractArray) in Zygote at /home/olszewskip/.julia/packages/Zygote/oPQFy/src/lib/lib.jl:16\n",
       "[4] accum(x::NamedTuple, y::NamedTuple) in Zygote at /home/olszewskip/.julia/packages/Zygote/oPQFy/src/lib/lib.jl:19\n",
       "[5] accum(x::Base.RefValue, y::Base.RefValue) in Zygote at /home/olszewskip/.julia/packages/Zygote/oPQFy/src/lib/lib.jl:24\n",
       "[6] accum(a::AbstractDict, b::AbstractDict) in Zygote at /home/olszewskip/.julia/packages/Zygote/oPQFy/src/lib/base.jl:30\n",
       "[7] accum(x) in Zygote at /home/olszewskip/.julia/packages/Zygote/oPQFy/src/lib/lib.jl:6\n",
       "[8] accum(x, y) in Zygote at /home/olszewskip/.julia/packages/Zygote/oPQFy/src/lib/lib.jl:8\n",
       "[9] accum(x, y, zs...) in Zygote at /home/olszewskip/.julia/packages/Zygote/oPQFy/src/lib/lib.jl:13\n",
       "\\end{verbatim}\n"
      ],
      "text/markdown": [
       "No documentation found.\n",
       "\n",
       "`Zygote.accum` is a `Function`.\n",
       "\n",
       "```\n",
       "# 9 methods for generic function \"accum\":\n",
       "[1] accum() in Zygote at /home/olszewskip/.julia/packages/Zygote/oPQFy/src/lib/lib.jl:5\n",
       "[2] accum(x::Tuple, y::Tuple) in Zygote at /home/olszewskip/.julia/packages/Zygote/oPQFy/src/lib/lib.jl:15\n",
       "[3] accum(x::AbstractArray, y::AbstractArray) in Zygote at /home/olszewskip/.julia/packages/Zygote/oPQFy/src/lib/lib.jl:16\n",
       "[4] accum(x::NamedTuple, y::NamedTuple) in Zygote at /home/olszewskip/.julia/packages/Zygote/oPQFy/src/lib/lib.jl:19\n",
       "[5] accum(x::Base.RefValue, y::Base.RefValue) in Zygote at /home/olszewskip/.julia/packages/Zygote/oPQFy/src/lib/lib.jl:24\n",
       "[6] accum(a::AbstractDict, b::AbstractDict) in Zygote at /home/olszewskip/.julia/packages/Zygote/oPQFy/src/lib/base.jl:30\n",
       "[7] accum(x) in Zygote at /home/olszewskip/.julia/packages/Zygote/oPQFy/src/lib/lib.jl:6\n",
       "[8] accum(x, y) in Zygote at /home/olszewskip/.julia/packages/Zygote/oPQFy/src/lib/lib.jl:8\n",
       "[9] accum(x, y, zs...) in Zygote at /home/olszewskip/.julia/packages/Zygote/oPQFy/src/lib/lib.jl:13\n",
       "```\n"
      ],
      "text/plain": [
       "  No documentation found.\n",
       "\n",
       "  \u001b[36mZygote.accum\u001b[39m is a \u001b[36mFunction\u001b[39m.\n",
       "\n",
       "\u001b[36m  # 9 methods for generic function \"accum\":\u001b[39m\n",
       "\u001b[36m  [1] accum() in Zygote at /home/olszewskip/.julia/packages/Zygote/oPQFy/src/lib/lib.jl:5\u001b[39m\n",
       "\u001b[36m  [2] accum(x::Tuple, y::Tuple) in Zygote at /home/olszewskip/.julia/packages/Zygote/oPQFy/src/lib/lib.jl:15\u001b[39m\n",
       "\u001b[36m  [3] accum(x::AbstractArray, y::AbstractArray) in Zygote at /home/olszewskip/.julia/packages/Zygote/oPQFy/src/lib/lib.jl:16\u001b[39m\n",
       "\u001b[36m  [4] accum(x::NamedTuple, y::NamedTuple) in Zygote at /home/olszewskip/.julia/packages/Zygote/oPQFy/src/lib/lib.jl:19\u001b[39m\n",
       "\u001b[36m  [5] accum(x::Base.RefValue, y::Base.RefValue) in Zygote at /home/olszewskip/.julia/packages/Zygote/oPQFy/src/lib/lib.jl:24\u001b[39m\n",
       "\u001b[36m  [6] accum(a::AbstractDict, b::AbstractDict) in Zygote at /home/olszewskip/.julia/packages/Zygote/oPQFy/src/lib/base.jl:30\u001b[39m\n",
       "\u001b[36m  [7] accum(x) in Zygote at /home/olszewskip/.julia/packages/Zygote/oPQFy/src/lib/lib.jl:6\u001b[39m\n",
       "\u001b[36m  [8] accum(x, y) in Zygote at /home/olszewskip/.julia/packages/Zygote/oPQFy/src/lib/lib.jl:8\u001b[39m\n",
       "\u001b[36m  [9] accum(x, y, zs...) in Zygote at /home/olszewskip/.julia/packages/Zygote/oPQFy/src/lib/lib.jl:13\u001b[39m"
      ]
     },
     "execution_count": 46,
     "metadata": {},
     "output_type": "execute_result"
    }
   ],
   "source": [
    "?Zygote.accum"
   ]
  },
  {
   "cell_type": "code",
   "execution_count": 49,
   "metadata": {},
   "outputs": [
    {
     "ename": "KeyError",
     "evalue": "KeyError: key 1 not found",
     "output_type": "error",
     "traceback": [
      "KeyError: key 1 not found",
      "",
      "Stacktrace:",
      " [1] getindex at ./dict.jl:477 [inlined]",
      " [2] adjoint at /home/olszewskip/.julia/packages/Zygote/oPQFy/src/lib/base.jl:35 [inlined]",
      " [3] _pullback(::Zygote.Context, ::typeof(getindex), ::Dict{Int64,Int64}, ::Int64) at /home/olszewskip/.julia/packages/ZygoteRules/6nssF/src/adjoint.jl:47",
      " [4] _pullback(::Function, ::Dict{Int64,Int64}, ::Int64) at /home/olszewskip/.julia/packages/Zygote/oPQFy/src/compiler/interface.jl:31",
      " [5] pullback(::Function, ::Dict{Int64,Int64}, ::Int64) at /home/olszewskip/.julia/packages/Zygote/oPQFy/src/compiler/interface.jl:37",
      " [6] gradient(::Function, ::Dict{Int64,Int64}, ::Vararg{Any,N} where N) at /home/olszewskip/.julia/packages/Zygote/oPQFy/src/compiler/interface.jl:46",
      " [7] top-level scope at In[49]:1"
     ]
    }
   ],
   "source": [
    "gradient(getindex, Dict(1=>10), 1)"
   ]
  },
  {
   "cell_type": "code",
   "execution_count": 41,
   "metadata": {},
   "outputs": [
    {
     "data": {
      "text/plain": [
       "+ (generic function with 208 methods)"
      ]
     },
     "execution_count": 41,
     "metadata": {},
     "output_type": "execute_result"
    }
   ],
   "source": [
    "function +(d1::Dict, d2::Dict)\n",
    "    sum_ = Dict()\n",
    "    for d in [d1, d2]\n",
    "        for (key, val) in d\n",
    "            if key in keys(sum_)\n",
    "                sum_[key] += val\n",
    "            else\n",
    "                sum_[key] = val\n",
    "            end\n",
    "        end\n",
    "    end\n",
    "    return sum_\n",
    "end"
   ]
  },
  {
   "cell_type": "code",
   "execution_count": 42,
   "metadata": {},
   "outputs": [
    {
     "data": {
      "text/plain": [
       "Dict{Any,Any} with 3 entries:\n",
       "  'a' => 1\n",
       "  'c' => 4\n",
       "  'b' => 5"
      ]
     },
     "execution_count": 42,
     "metadata": {},
     "output_type": "execute_result"
    }
   ],
   "source": [
    "Dict('a' => 1, 'b' => 2) + Dict('b' => 3, 'c' => 4)"
   ]
  },
  {
   "cell_type": "code",
   "execution_count": 20,
   "metadata": {},
   "outputs": [
    {
     "data": {
      "text/plain": [
       "Dict{Int64,Int64} with 1 entry:\n",
       "  1 => 10"
      ]
     },
     "execution_count": 20,
     "metadata": {},
     "output_type": "execute_result"
    }
   ],
   "source": [
    "@adjoint getfield(object, field) = getfield(object, field),"
   ]
  },
  {
   "cell_type": "code",
   "execution_count": 25,
   "metadata": {},
   "outputs": [
    {
     "ename": "MethodError",
     "evalue": "MethodError: no method matching getindex(::Dict{Any,Any})\nClosest candidates are:\n  getindex(::Dict{K,V}, !Matched::Any) where {K, V} at dict.jl:476\n  getindex(::AbstractDict, !Matched::Any) at abstractdict.jl:467\n  getindex(::AbstractDict, !Matched::Any, !Matched::Any, !Matched::Any...) at abstractdict.jl:476",
     "output_type": "error",
     "traceback": [
      "MethodError: no method matching getindex(::Dict{Any,Any})\nClosest candidates are:\n  getindex(::Dict{K,V}, !Matched::Any) where {K, V} at dict.jl:476\n  getindex(::AbstractDict, !Matched::Any) at abstractdict.jl:467\n  getindex(::AbstractDict, !Matched::Any, !Matched::Any, !Matched::Any...) at abstractdict.jl:476",
      "",
      "Stacktrace:",
      " [1] (::Zygote.var\"#back#169\"{:vals,Zygote.Context,Dict{Int64,Int64},Array{Int64,1}})(::Array{Int64,1}) at /home/olszewskip/.julia/packages/Zygote/oPQFy/src/lib/lib.jl:196",
      " [2] (::Zygote.var\"#319#back#170\"{Zygote.var\"#back#169\"{:vals,Zygote.Context,Dict{Int64,Int64},Array{Int64,1}}})(::Array{Int64,1}) at /home/olszewskip/.julia/packages/ZygoteRules/6nssF/src/adjoint.jl:49",
      " [3] iterate at ./dict.jl:688 [inlined]",
      " [4] iterate at ./dict.jl:685 [inlined]",
      " [5] (::typeof(∂(iterate)))(::Tuple{Int64,Nothing}) at /home/olszewskip/.julia/packages/Zygote/oPQFy/src/compiler/interface2.jl:0",
      " [6] mapfoldl_impl at ./reduce.jl:55 [inlined]",
      " [7] (::typeof(∂(mapfoldl_impl)))(::Int64) at /home/olszewskip/.julia/packages/Zygote/oPQFy/src/compiler/interface2.jl:0",
      " [8] mapfoldl at ./reduce.jl:72 [inlined]",
      " [9] (::typeof(∂(mapfoldl)))(::Int64) at /home/olszewskip/.julia/packages/Zygote/oPQFy/src/compiler/interface2.jl:0",
      " [10] #mapreduce#194 at ./reduce.jl:200 [inlined]",
      " [11] (::typeof(∂(#mapreduce#194)))(::Int64) at /home/olszewskip/.julia/packages/Zygote/oPQFy/src/compiler/interface2.jl:0",
      " [12] mapreduce at ./reduce.jl:200 [inlined]",
      " [13] (::typeof(∂(mapreduce)))(::Int64) at /home/olszewskip/.julia/packages/Zygote/oPQFy/src/compiler/interface2.jl:0",
      " [14] sum at ./reduce.jl:395 [inlined]",
      " [15] #56 at ./operators.jl:873 [inlined]",
      " [16] (::typeof(∂(#56)))(::Int64) at /home/olszewskip/.julia/packages/Zygote/oPQFy/src/compiler/interface2.jl:0",
      " [17] #56 at ./operators.jl:873 [inlined]",
      " [18] (::typeof(∂(#56)))(::Int64) at /home/olszewskip/.julia/packages/Zygote/oPQFy/src/compiler/interface2.jl:0",
      " [19] (::Zygote.var\"#28#29\"{typeof(∂(#56))})(::Int64) at /home/olszewskip/.julia/packages/Zygote/oPQFy/src/compiler/interface.jl:38",
      " [20] gradient(::Function, ::Linear, ::Vararg{Any,N} where N) at /home/olszewskip/.julia/packages/Zygote/oPQFy/src/compiler/interface.jl:47",
      " [21] top-level scope at In[25]:1"
     ]
    }
   ],
   "source": [
    "gradient(sum∘values∘getfield, l, :dict)"
   ]
  },
  {
   "cell_type": "code",
   "execution_count": 15,
   "metadata": {},
   "outputs": [
    {
     "ename": "ErrorException",
     "evalue": "Non-differentiable function getfield",
     "output_type": "error",
     "traceback": [
      "Non-differentiable function getfield",
      "",
      "Stacktrace:",
      " [1] error(::String) at ./error.jl:33",
      " [2] macro expansion at /home/olszewskip/.julia/packages/Zygote/oPQFy/src/compiler/interface2.jl:0 [inlined]",
      " [3] (::typeof(∂(getfield)))(::Float64) at /home/olszewskip/.julia/packages/Zygote/oPQFy/src/compiler/interface2.jl:20",
      " [4] indexed_iterate at ./pair.jl:50 [inlined]",
      " [5] (::typeof(∂(indexed_iterate)))(::Tuple{Float64,Nothing}) at /home/olszewskip/.julia/packages/Zygote/oPQFy/src/compiler/interface2.jl:0",
      " [6] literal_indexed_iterate at /home/olszewskip/.julia/packages/Zygote/oPQFy/src/lib/lib.jl:93 [inlined]",
      " [7] (::typeof(∂(literal_indexed_iterate)))(::Tuple{Float64,Nothing}) at /home/olszewskip/.julia/packages/Zygote/oPQFy/src/compiler/interface2.jl:0",
      " [8] test at ./In[14]:12 [inlined]",
      " [9] (::typeof(∂(test)))(::Float64) at /home/olszewskip/.julia/packages/Zygote/oPQFy/src/compiler/interface2.jl:0",
      " [10] (::Zygote.var\"#28#29\"{typeof(∂(test))})(::Float64) at /home/olszewskip/.julia/packages/Zygote/oPQFy/src/compiler/interface.jl:38",
      " [11] gradient(::Function, ::Linear) at /home/olszewskip/.julia/packages/Zygote/oPQFy/src/compiler/interface.jl:47",
      " [12] top-level scope at In[15]:1"
     ]
    }
   ],
   "source": [
    "grads = gradient(test, l)[1]"
   ]
  },
  {
   "cell_type": "code",
   "execution_count": 68,
   "metadata": {},
   "outputs": [
    {
     "data": {
      "text/plain": [
       "2-element FillArrays.Fill{Float64,1,Tuple{Base.OneTo{Int64}}}:\n",
       " 1.0\n",
       " 1.0"
      ]
     },
     "execution_count": 68,
     "metadata": {},
     "output_type": "execute_result"
    }
   ],
   "source": [
    "grads[:b]"
   ]
  },
  {
   "cell_type": "code",
   "execution_count": null,
   "metadata": {},
   "outputs": [],
   "source": []
  },
  {
   "cell_type": "code",
   "execution_count": 40,
   "metadata": {},
   "outputs": [],
   "source": [
    "struct Test\n",
    "    m\n",
    "    n\n",
    "    weights\n",
    "end\n",
    "\n",
    "function (t::Test)(x)\n",
    "    out = Zygote.Buffer(x, t.m)\n",
    "    for i in 1:t.m\n",
    "        out[i] = 0\n",
    "    end\n",
    "    for ((i, j), w) in t.weights\n",
    "        out[i] += w * x[j]\n",
    "    end\n",
    "    return copy(out)\n",
    "end"
   ]
  },
  {
   "cell_type": "code",
   "execution_count": 41,
   "metadata": {},
   "outputs": [
    {
     "data": {
      "text/plain": [
       "Test(3, 2, Dict((3, 2) => 20,(1, 1) => 10))"
      ]
     },
     "execution_count": 41,
     "metadata": {},
     "output_type": "execute_result"
    }
   ],
   "source": [
    "te = Test(3, 2, Dict((1, 1) => 10, (3, 2) => 20))"
   ]
  },
  {
   "cell_type": "code",
   "execution_count": 42,
   "metadata": {},
   "outputs": [
    {
     "data": {
      "text/plain": [
       "3-element Array{Int64,1}:\n",
       " 10\n",
       "  0\n",
       " 40"
      ]
     },
     "execution_count": 42,
     "metadata": {},
     "output_type": "execute_result"
    }
   ],
   "source": [
    "te([1 2])"
   ]
  },
  {
   "cell_type": "code",
   "execution_count": 57,
   "metadata": {},
   "outputs": [
    {
     "data": {
      "text/plain": [
       "3"
      ]
     },
     "execution_count": 57,
     "metadata": {},
     "output_type": "execute_result"
    }
   ],
   "source": [
    "getfield(te, :m)"
   ]
  },
  {
   "cell_type": "code",
   "execution_count": null,
   "metadata": {},
   "outputs": [],
   "source": [
    "gradient(getfield)"
   ]
  },
  {
   "cell_type": "code",
   "execution_count": 43,
   "metadata": {},
   "outputs": [
    {
     "ename": "ErrorException",
     "evalue": "Non-differentiable function getfield",
     "output_type": "error",
     "traceback": [
      "Non-differentiable function getfield",
      "",
      "Stacktrace:",
      " [1] error(::String) at ./error.jl:33",
      " [2] macro expansion at /home/olszewskip/.julia/packages/Zygote/oPQFy/src/compiler/interface2.jl:0 [inlined]",
      " [3] (::typeof(∂(getfield)))(::Float64) at /home/olszewskip/.julia/packages/Zygote/oPQFy/src/compiler/interface2.jl:20",
      " [4] indexed_iterate at ./pair.jl:50 [inlined]",
      " [5] (::typeof(∂(indexed_iterate)))(::Tuple{Float64,Nothing}) at /home/olszewskip/.julia/packages/Zygote/oPQFy/src/compiler/interface2.jl:0",
      " [6] literal_indexed_iterate at /home/olszewskip/.julia/packages/Zygote/oPQFy/src/lib/lib.jl:93 [inlined]",
      " [7] (::typeof(∂(literal_indexed_iterate)))(::Tuple{Float64,Nothing}) at /home/olszewskip/.julia/packages/Zygote/oPQFy/src/compiler/interface2.jl:0",
      " [8] Test at ./In[40]:12 [inlined]",
      " [9] (::typeof(∂(λ)))(::FillArrays.Fill{Int64,1,Tuple{Base.OneTo{Int64}}}) at /home/olszewskip/.julia/packages/Zygote/oPQFy/src/compiler/interface2.jl:0",
      " [10] #7 at ./In[43]:1 [inlined]",
      " [11] (::typeof(∂(#7)))(::Int64) at /home/olszewskip/.julia/packages/Zygote/oPQFy/src/compiler/interface2.jl:0",
      " [12] (::Zygote.var\"#28#29\"{typeof(∂(#7))})(::Int64) at /home/olszewskip/.julia/packages/Zygote/oPQFy/src/compiler/interface.jl:38",
      " [13] gradient(::Function, ::Test) at /home/olszewskip/.julia/packages/Zygote/oPQFy/src/compiler/interface.jl:47",
      " [14] top-level scope at In[43]:1"
     ]
    }
   ],
   "source": [
    "dmodel = gradient(model -> sum(model([1 2])), te)"
   ]
  },
  {
   "cell_type": "code",
   "execution_count": 49,
   "metadata": {},
   "outputs": [],
   "source": [
    "struct Layer\n",
    "    I\n",
    "    J\n",
    "    V\n",
    "end"
   ]
  },
  {
   "cell_type": "code",
   "execution_count": 52,
   "metadata": {},
   "outputs": [
    {
     "data": {
      "text/plain": [
       "true"
      ]
     },
     "execution_count": 52,
     "metadata": {},
     "output_type": "execute_result"
    }
   ],
   "source": [
    "1 in ([1])"
   ]
  },
  {
   "cell_type": "code",
   "execution_count": 55,
   "metadata": {},
   "outputs": [
    {
     "data": {
      "text/plain": [
       "(nothing,)"
      ]
     },
     "execution_count": 55,
     "metadata": {},
     "output_type": "execute_result"
    }
   ],
   "source": [
    "gradient(x -> x in keys(Dict(1=>10)), 2)"
   ]
  },
  {
   "cell_type": "code",
   "execution_count": 46,
   "metadata": {},
   "outputs": [
    {
     "data": {
      "text/plain": [
       "test (generic function with 1 method)"
      ]
     },
     "execution_count": 46,
     "metadata": {},
     "output_type": "execute_result"
    }
   ],
   "source": [
    "layer = Layer([1 2], [1 2], [])\n",
    "vectL = [1 2]\n",
    "vectR = [3 4]\n",
    "function test(layer)\n",
    "    sum = 0\n",
    "    for (i, j, v) in zip(layer.I, layer.J, layer.V)\n",
    "        sum += vectL[i] * vectR[j] * v\n",
    "    end\n",
    "    return sum\n",
    "end"
   ]
  },
  {
   "cell_type": "code",
   "execution_count": 47,
   "metadata": {},
   "outputs": [
    {
     "data": {
      "text/plain": [
       "80"
      ]
     },
     "execution_count": 47,
     "metadata": {},
     "output_type": "execute_result"
    }
   ],
   "source": [
    "test(dict)"
   ]
  },
  {
   "cell_type": "code",
   "execution_count": 48,
   "metadata": {},
   "outputs": [
    {
     "ename": "ErrorException",
     "evalue": "Non-differentiable function getfield",
     "output_type": "error",
     "traceback": [
      "Non-differentiable function getfield",
      "",
      "Stacktrace:",
      " [1] error(::String) at ./error.jl:33",
      " [2] macro expansion at /home/olszewskip/.julia/packages/Zygote/oPQFy/src/compiler/interface2.jl:0 [inlined]",
      " [3] (::typeof(∂(getfield)))(::Int64) at /home/olszewskip/.julia/packages/Zygote/oPQFy/src/compiler/interface2.jl:20",
      " [4] indexed_iterate at ./pair.jl:50 [inlined]",
      " [5] (::typeof(∂(indexed_iterate)))(::Tuple{Int64,Nothing}) at /home/olszewskip/.julia/packages/Zygote/oPQFy/src/compiler/interface2.jl:0",
      " [6] literal_indexed_iterate at /home/olszewskip/.julia/packages/Zygote/oPQFy/src/lib/lib.jl:93 [inlined]",
      " [7] (::typeof(∂(literal_indexed_iterate)))(::Tuple{Int64,Nothing}) at /home/olszewskip/.julia/packages/Zygote/oPQFy/src/compiler/interface2.jl:0",
      " [8] test at ./In[46]:6 [inlined]",
      " [9] (::typeof(∂(test)))(::Int64) at /home/olszewskip/.julia/packages/Zygote/oPQFy/src/compiler/interface2.jl:0",
      " [10] (::Zygote.var\"#28#29\"{typeof(∂(test))})(::Int64) at /home/olszewskip/.julia/packages/Zygote/oPQFy/src/compiler/interface.jl:38",
      " [11] gradient(::Function, ::Dict{Tuple{Int64,Int64},Int64}) at /home/olszewskip/.julia/packages/Zygote/oPQFy/src/compiler/interface.jl:47",
      " [12] top-level scope at In[48]:1"
     ]
    }
   ],
   "source": [
    "gradient(test, dict)"
   ]
  },
  {
   "cell_type": "code",
   "execution_count": null,
   "metadata": {},
   "outputs": [],
   "source": []
  },
  {
   "cell_type": "code",
   "execution_count": null,
   "metadata": {},
   "outputs": [],
   "source": []
  },
  {
   "cell_type": "code",
   "execution_count": null,
   "metadata": {},
   "outputs": [],
   "source": []
  },
  {
   "cell_type": "code",
   "execution_count": null,
   "metadata": {},
   "outputs": [],
   "source": []
  },
  {
   "cell_type": "code",
   "execution_count": null,
   "metadata": {},
   "outputs": [],
   "source": []
  },
  {
   "cell_type": "code",
   "execution_count": 142,
   "metadata": {},
   "outputs": [
    {
     "ename": "ErrorException",
     "evalue": "Need an adjoint for constructor SparseMatrixCSC{Float64,Int64}. Gradient is of type Array{Float64,2}",
     "output_type": "error",
     "traceback": [
      "Need an adjoint for constructor SparseMatrixCSC{Float64,Int64}. Gradient is of type Array{Float64,2}",
      "",
      "Stacktrace:",
      " [1] error(::String) at ./error.jl:33",
      " [2] (::Zygote.Jnew{SparseMatrixCSC{Float64,Int64},Nothing,false})(::Array{Float64,2}) at /home/olszewskip/.julia/packages/Zygote/oPQFy/src/lib/lib.jl:291",
      " [3] (::Zygote.var\"#341#back#180\"{Zygote.Jnew{SparseMatrixCSC{Float64,Int64},Nothing,false}})(::Array{Float64,2}) at /home/olszewskip/.julia/packages/ZygoteRules/6nssF/src/adjoint.jl:49",
      " [4] SparseMatrixCSC at /buildworker/worker/package_linux64/build/usr/share/julia/stdlib/v1.3/SparseArrays/src/sparsematrix.jl:32 [inlined]",
      " [5] (::typeof(∂(SparseMatrixCSC{Float64,Int64})))(::Array{Float64,2}) at /home/olszewskip/.julia/packages/Zygote/oPQFy/src/compiler/interface2.jl:0",
      " [6] SparseMatrixCSC at /buildworker/worker/package_linux64/build/usr/share/julia/stdlib/v1.3/SparseArrays/src/sparsematrix.jl:45 [inlined]",
      " [7] (::typeof(∂(SparseMatrixCSC)))(::Array{Float64,2}) at /home/olszewskip/.julia/packages/Zygote/oPQFy/src/compiler/interface2.jl:0",
      " [8] sparse! at /buildworker/worker/package_linux64/build/usr/share/julia/stdlib/v1.3/SparseArrays/src/sparsematrix.jl:823 [inlined]",
      " [9] (::typeof(∂(sparse!)))(::Array{Float64,2}) at /home/olszewskip/.julia/packages/Zygote/oPQFy/src/compiler/interface2.jl:0",
      " [10] sparse at /buildworker/worker/package_linux64/build/usr/share/julia/stdlib/v1.3/SparseArrays/src/sparsematrix.jl:660 [inlined]",
      " [11] (::typeof(∂(sparse)))(::Array{Float64,2}) at /home/olszewskip/.julia/packages/Zygote/oPQFy/src/compiler/interface2.jl:0",
      " [12] sparse at /buildworker/worker/package_linux64/build/usr/share/julia/stdlib/v1.3/SparseArrays/src/sparsematrix.jl:849 [inlined]",
      " [13] (::typeof(∂(sparse)))(::Array{Float64,2}) at /home/olszewskip/.julia/packages/Zygote/oPQFy/src/compiler/interface2.jl:0",
      " [14] sparse at /buildworker/worker/package_linux64/build/usr/share/julia/stdlib/v1.3/SparseArrays/src/sparsematrix.jl:845 [inlined]",
      " [15] (::typeof(∂(sparse)))(::Array{Float64,2}) at /home/olszewskip/.julia/packages/Zygote/oPQFy/src/compiler/interface2.jl:0",
      " [16] test at ./In[141]:3 [inlined]",
      " [17] (::Zygote.var\"#28#29\"{typeof(∂(test))})(::Float64) at /home/olszewskip/.julia/packages/Zygote/oPQFy/src/compiler/interface.jl:38",
      " [18] gradient(::Function, ::Array{Int64,1}, ::Vararg{Any,N} where N) at /home/olszewskip/.julia/packages/Zygote/oPQFy/src/compiler/interface.jl:47",
      " [19] top-level scope at In[142]:1"
     ]
    }
   ],
   "source": [
    "gradient(test, findnz(sp_vec)..., findnz(sp_arr)...)"
   ]
  },
  {
   "cell_type": "code",
   "execution_count": 113,
   "metadata": {},
   "outputs": [
    {
     "data": {
      "text/plain": [
       "test (generic function with 2 methods)"
      ]
     },
     "execution_count": 113,
     "metadata": {},
     "output_type": "execute_result"
    }
   ],
   "source": [
    "dict = Dict(1=>10)\n",
    "function test(vect)\n",
    "    sum = 0\n",
    "    for (key, val) in dict\n",
    "        sum += val * vect[key]\n",
    "    end\n",
    "    return sum\n",
    "end"
   ]
  },
  {
   "cell_type": "code",
   "execution_count": 141,
   "metadata": {},
   "outputs": [
    {
     "data": {
      "text/plain": [
       "test (generic function with 4 methods)"
      ]
     },
     "execution_count": 141,
     "metadata": {},
     "output_type": "execute_result"
    }
   ],
   "source": [
    "function test(arr_I, arr_J_ptr, arr_V, vec_J, vec_V)\n",
    "    out_vec = Dict()\n",
    "    out_vec_V = []\n",
    "    for vec_j, vec_v in zip(vec_K, vec_V)\n",
    "        for i in arr_J_ptr[vec_j] : (arr_J_ptr[vec_j + 1] - 1)\n",
    "            arr_i = arr_I[i]\n",
    "            arr_val = arr_V[i]\n",
    "            \n",
    "    return sum(W * x)\n",
    "end"
   ]
  },
  {
   "cell_type": "code",
   "execution_count": 114,
   "metadata": {},
   "outputs": [
    {
     "ename": "ErrorException",
     "evalue": "Non-differentiable function getfield",
     "output_type": "error",
     "traceback": [
      "Non-differentiable function getfield",
      "",
      "Stacktrace:",
      " [1] error(::String) at ./error.jl:33",
      " [2] macro expansion at /home/olszewskip/.julia/packages/Zygote/oPQFy/src/compiler/interface2.jl:0 [inlined]",
      " [3] (::typeof(∂(getfield)))(::Int64) at /home/olszewskip/.julia/packages/Zygote/oPQFy/src/compiler/interface2.jl:20",
      " [4] indexed_iterate at ./pair.jl:50 [inlined]",
      " [5] (::typeof(∂(indexed_iterate)))(::Tuple{Int64,Nothing}) at /home/olszewskip/.julia/packages/Zygote/oPQFy/src/compiler/interface2.jl:0",
      " [6] literal_indexed_iterate at /home/olszewskip/.julia/packages/Zygote/oPQFy/src/lib/lib.jl:93 [inlined]",
      " [7] (::typeof(∂(literal_indexed_iterate)))(::Tuple{Int64,Nothing}) at /home/olszewskip/.julia/packages/Zygote/oPQFy/src/compiler/interface2.jl:0",
      " [8] test at ./In[113]:4 [inlined]",
      " [9] (::typeof(∂(test)))(::Int64) at /home/olszewskip/.julia/packages/Zygote/oPQFy/src/compiler/interface2.jl:0",
      " [10] (::Zygote.var\"#28#29\"{typeof(∂(test))})(::Int64) at /home/olszewskip/.julia/packages/Zygote/oPQFy/src/compiler/interface.jl:38",
      " [11] gradient(::Function, ::Array{Int64,2}, ::Vararg{Any,N} where N) at /home/olszewskip/.julia/packages/Zygote/oPQFy/src/compiler/interface.jl:47",
      " [12] top-level scope at In[114]:1"
     ]
    }
   ],
   "source": [
    "gradient(test, [10 20])"
   ]
  },
  {
   "cell_type": "code",
   "execution_count": 97,
   "metadata": {},
   "outputs": [
    {
     "ename": "MethodError",
     "evalue": "MethodError: no method matching getindex(::Dict{Any,Any})\nClosest candidates are:\n  getindex(::Dict{K,V}, !Matched::Any) where {K, V} at dict.jl:476\n  getindex(::AbstractDict, !Matched::Any) at abstractdict.jl:467\n  getindex(::AbstractDict, !Matched::Any, !Matched::Any, !Matched::Any...) at abstractdict.jl:476",
     "output_type": "error",
     "traceback": [
      "MethodError: no method matching getindex(::Dict{Any,Any})\nClosest candidates are:\n  getindex(::Dict{K,V}, !Matched::Any) where {K, V} at dict.jl:476\n  getindex(::AbstractDict, !Matched::Any) at abstractdict.jl:467\n  getindex(::AbstractDict, !Matched::Any, !Matched::Any, !Matched::Any...) at abstractdict.jl:476",
      "",
      "Stacktrace:",
      " [1] (::Zygote.var\"#back#169\"{:vals,Zygote.Context,Dict{Int64,Int64},Array{Int64,1}})(::Array{Int64,1}) at /home/olszewskip/.julia/packages/Zygote/oPQFy/src/lib/lib.jl:196",
      " [2] (::Zygote.var\"#319#back#170\"{Zygote.var\"#back#169\"{:vals,Zygote.Context,Dict{Int64,Int64},Array{Int64,1}}})(::Array{Int64,1}) at /home/olszewskip/.julia/packages/ZygoteRules/6nssF/src/adjoint.jl:49",
      " [3] iterate at ./dict.jl:688 [inlined]",
      " [4] iterate at ./dict.jl:685 [inlined]",
      " [5] (::typeof(∂(iterate)))(::Tuple{Int64,Nothing}) at /home/olszewskip/.julia/packages/Zygote/oPQFy/src/compiler/interface2.jl:0",
      " [6] mapfoldl_impl at ./reduce.jl:55 [inlined]",
      " [7] (::typeof(∂(mapfoldl_impl)))(::Int64) at /home/olszewskip/.julia/packages/Zygote/oPQFy/src/compiler/interface2.jl:0",
      " [8] mapfoldl at ./reduce.jl:72 [inlined]",
      " [9] (::typeof(∂(mapfoldl)))(::Int64) at /home/olszewskip/.julia/packages/Zygote/oPQFy/src/compiler/interface2.jl:0",
      " [10] #mapreduce#194 at ./reduce.jl:200 [inlined]",
      " [11] (::typeof(∂(#mapreduce#194)))(::Int64) at /home/olszewskip/.julia/packages/Zygote/oPQFy/src/compiler/interface2.jl:0",
      " [12] mapreduce at ./reduce.jl:200 [inlined]",
      " [13] (::typeof(∂(mapreduce)))(::Int64) at /home/olszewskip/.julia/packages/Zygote/oPQFy/src/compiler/interface2.jl:0",
      " [14] sum at ./reduce.jl:395 [inlined]",
      " [15] #56 at ./operators.jl:873 [inlined]",
      " [16] (::typeof(∂(#56)))(::Int64) at /home/olszewskip/.julia/packages/Zygote/oPQFy/src/compiler/interface2.jl:0",
      " [17] #56 at ./operators.jl:873 [inlined]",
      " [18] (::typeof(∂(#56)))(::Int64) at /home/olszewskip/.julia/packages/Zygote/oPQFy/src/compiler/interface2.jl:0",
      " [19] (::Zygote.var\"#28#29\"{typeof(∂(#56))})(::Int64) at /home/olszewskip/.julia/packages/Zygote/oPQFy/src/compiler/interface.jl:38",
      " [20] top-level scope at In[97]:1"
     ]
    }
   ],
   "source": [
    "pullback(sum∘values∘dict_id, Dict(1=>10))[2](1)"
   ]
  },
  {
   "cell_type": "code",
   "execution_count": 81,
   "metadata": {},
   "outputs": [
    {
     "data": {
      "text/plain": [
       "([1 0], nothing, nothing)"
      ]
     },
     "execution_count": 81,
     "metadata": {},
     "output_type": "execute_result"
    }
   ],
   "source": [
    "gradient(vect2dict, [1 2], Dict('a' => 1), 'a')"
   ]
  },
  {
   "cell_type": "code",
   "execution_count": null,
   "metadata": {},
   "outputs": [],
   "source": []
  },
  {
   "cell_type": "code",
   "execution_count": 2,
   "metadata": {},
   "outputs": [],
   "source": [
    "struct COO_mat\n",
    "    I::Set{Integer}\n",
    "    J::Vector{Integer}\n",
    "    IV::Vector{Pair{Integer, Float32}}\n",
    "end"
   ]
  },
  {
   "cell_type": "code",
   "execution_count": 60,
   "metadata": {},
   "outputs": [
    {
     "data": {
      "text/plain": [
       "test (generic function with 1 method)"
      ]
     },
     "execution_count": 60,
     "metadata": {},
     "output_type": "execute_result"
    }
   ],
   "source": [
    "function test(input, layer)\n",
    "    output = Dict()\n",
    "    for (j, x_j) in zip(input.I, input.V)\n",
    "        for (j_, IV_pair) in zip(layer.J, layer.IV)\n",
    "            \n",
    "        if j in keys(layer)\n",
    "            column = layer[j]\n",
    "            for (i, weight_ij) in column\n",
    "                output[i] = weight_ij * x_j\n",
    "            end\n",
    "        end\n",
    "    end\n",
    "    return (sum∘values)(output)\n",
    "end"
   ]
  },
  {
   "cell_type": "code",
   "execution_count": 61,
   "metadata": {},
   "outputs": [
    {
     "data": {
      "text/plain": [
       "50"
      ]
     },
     "execution_count": 61,
     "metadata": {},
     "output_type": "execute_result"
    }
   ],
   "source": [
    "test(Dict(1=>1, 2=>2), Dict(1=>Dict(1=>10), 2=>Dict(2=>20)))"
   ]
  },
  {
   "cell_type": "code",
   "execution_count": 62,
   "metadata": {},
   "outputs": [
    {
     "ename": "UndefRefError",
     "evalue": "UndefRefError: access to undefined reference",
     "output_type": "error",
     "traceback": [
      "UndefRefError: access to undefined reference",
      "",
      "Stacktrace:",
      " [1] getindex at ./array.jl:744 [inlined]",
      " [2] iterate at ./array.jl:720 [inlined] (repeats 2 times)",
      " [3] _zero(::Array{Any,1}, ::Type) at /home/olszewskip/.julia/packages/Zygote/oPQFy/src/lib/array.jl:26",
      " [4] (::Zygote.var\"#996#998\"{Array{Any,1},Tuple{Int64}})(::Int64) at /home/olszewskip/.julia/packages/Zygote/oPQFy/src/lib/array.jl:34",
      " [5] (::Zygote.var\"#2634#back#992\"{Zygote.var\"#996#998\"{Array{Any,1},Tuple{Int64}}})(::Int64) at /home/olszewskip/.julia/packages/ZygoteRules/6nssF/src/adjoint.jl:49",
      " [6] iterate at ./dict.jl:689 [inlined]",
      " [7] (::Zygote.var\"#157#158\"{typeof(∂(iterate)),Tuple{Tuple{Nothing},Tuple{Nothing}}})(::Tuple{Int64,Nothing}) at /home/olszewskip/.julia/packages/Zygote/oPQFy/src/lib/lib.jl:156",
      " [8] (::Zygote.var\"#297#back#159\"{Zygote.var\"#157#158\"{typeof(∂(iterate)),Tuple{Tuple{Nothing},Tuple{Nothing}}}})(::Tuple{Int64,Nothing}) at /home/olszewskip/.julia/packages/ZygoteRules/6nssF/src/adjoint.jl:49",
      " [9] mapfoldl_impl at ./reduce.jl:43 [inlined]",
      " [10] (::typeof(∂(mapfoldl_impl)))(::Int64) at /home/olszewskip/.julia/packages/Zygote/oPQFy/src/compiler/interface2.jl:0",
      " [11] mapfoldl_impl at ./reduce.jl:61 [inlined]",
      " [12] (::typeof(∂(mapfoldl_impl)))(::Int64) at /home/olszewskip/.julia/packages/Zygote/oPQFy/src/compiler/interface2.jl:0",
      " [13] mapfoldl at ./reduce.jl:72 [inlined]",
      " [14] (::typeof(∂(mapfoldl)))(::Int64) at /home/olszewskip/.julia/packages/Zygote/oPQFy/src/compiler/interface2.jl:0",
      " [15] #mapreduce#194 at ./reduce.jl:200 [inlined]",
      " [16] (::typeof(∂(#mapreduce#194)))(::Int64) at /home/olszewskip/.julia/packages/Zygote/oPQFy/src/compiler/interface2.jl:0",
      " [17] mapreduce at ./reduce.jl:200 [inlined]",
      " [18] (::typeof(∂(mapreduce)))(::Int64) at /home/olszewskip/.julia/packages/Zygote/oPQFy/src/compiler/interface2.jl:0",
      " [19] sum at ./reduce.jl:395 [inlined]",
      " [20] #56 at ./operators.jl:873 [inlined]",
      " [21] (::typeof(∂(#56)))(::Int64) at /home/olszewskip/.julia/packages/Zygote/oPQFy/src/compiler/interface2.jl:0",
      " [22] test at ./In[60]:11 [inlined]",
      " [23] (::typeof(∂(test)))(::Int64) at /home/olszewskip/.julia/packages/Zygote/oPQFy/src/compiler/interface2.jl:0",
      " [24] (::Zygote.var\"#28#29\"{typeof(∂(test))})(::Int64) at /home/olszewskip/.julia/packages/Zygote/oPQFy/src/compiler/interface.jl:38",
      " [25] gradient(::Function, ::Dict{Int64,Int64}, ::Vararg{Any,N} where N) at /home/olszewskip/.julia/packages/Zygote/oPQFy/src/compiler/interface.jl:47",
      " [26] top-level scope at In[62]:1"
     ]
    }
   ],
   "source": [
    "gradient(test, Dict(1=>1, 2=>2), Dict(1=>Dict(1=>10), 2=>Dict(2=>20)))"
   ]
  },
  {
   "cell_type": "code",
   "execution_count": 62,
   "metadata": {},
   "outputs": [
    {
     "data": {
      "text/plain": [
       "test (generic function with 1 method)"
      ]
     },
     "execution_count": 62,
     "metadata": {},
     "output_type": "execute_result"
    }
   ],
   "source": [
    "function test(dict)\n",
    "    sum = 0\n",
    "    for key in keys(dict)\n",
    "        sum += dict[key]\n",
    "    end\n",
    "    return sum\n",
    "end    "
   ]
  },
  {
   "cell_type": "code",
   "execution_count": 63,
   "metadata": {},
   "outputs": [
    {
     "data": {
      "text/plain": [
       "(Dict{Any,Any}(1 => 1),)"
      ]
     },
     "execution_count": 63,
     "metadata": {},
     "output_type": "execute_result"
    }
   ],
   "source": [
    "gradient(test, Dict(1=>10))"
   ]
  },
  {
   "cell_type": "code",
   "execution_count": null,
   "metadata": {},
   "outputs": [],
   "source": []
  },
  {
   "cell_type": "code",
   "execution_count": null,
   "metadata": {},
   "outputs": [],
   "source": []
  },
  {
   "cell_type": "code",
   "execution_count": null,
   "metadata": {},
   "outputs": [],
   "source": []
  },
  {
   "cell_type": "markdown",
   "metadata": {},
   "source": [
    "---\n",
    "---"
   ]
  },
  {
   "cell_type": "code",
   "execution_count": 2,
   "metadata": {},
   "outputs": [],
   "source": [
    "using Pkg"
   ]
  },
  {
   "cell_type": "code",
   "execution_count": 4,
   "metadata": {},
   "outputs": [
    {
     "data": {
      "text/plain": [
       "v\"0.10.1\""
      ]
     },
     "execution_count": 4,
     "metadata": {},
     "output_type": "execute_result"
    }
   ],
   "source": [
    "Pkg.installed()[\"Flux\"]"
   ]
  },
  {
   "cell_type": "code",
   "execution_count": 3,
   "metadata": {},
   "outputs": [
    {
     "name": "stderr",
     "output_type": "stream",
     "text": [
      "┌ Info: CUDAdrv.jl failed to initialize, GPU functionality unavailable (set JULIA_CUDA_SILENT or JULIA_CUDA_VERBOSE to silence or expand this message)\n",
      "└ @ CUDAdrv /home/olszewskip/.julia/packages/CUDAdrv/mCr0O/src/CUDAdrv.jl:69\n"
     ]
    }
   ],
   "source": [
    "using Flux"
   ]
  },
  {
   "cell_type": "code",
   "execution_count": 4,
   "metadata": {},
   "outputs": [
    {
     "data": {
      "text/plain": [
       "((dict = Dict{Any,Any}(0 => 8),),)"
      ]
     },
     "execution_count": 4,
     "metadata": {},
     "output_type": "execute_result"
    }
   ],
   "source": [
    "struct Layer\n",
    "  dict\n",
    "end\n",
    "\n",
    "(l::Layer)(x) = l.dict[0] .* x \n",
    "\n",
    "Flux.@functor Layer\n",
    "\n",
    "model = Layer(Dict(0 => 1))\n",
    "\n",
    "x = [1 2]\n",
    "y = [2 3]\n",
    "\n",
    "gs = gradient(model -> sum(model(x) .* y), model)"
   ]
  },
  {
   "cell_type": "code",
   "execution_count": 9,
   "metadata": {},
   "outputs": [
    {
     "data": {
      "text/plain": [
       "1"
      ]
     },
     "execution_count": 9,
     "metadata": {},
     "output_type": "execute_result"
    }
   ],
   "source": [
    "nfields(model)"
   ]
  },
  {
   "cell_type": "code",
   "execution_count": 11,
   "metadata": {},
   "outputs": [
    {
     "data": {
      "text/plain": [
       "Dict{Int64,Int64} with 1 entry:\n",
       "  0 => 1"
      ]
     },
     "execution_count": 11,
     "metadata": {},
     "output_type": "execute_result"
    }
   ],
   "source": [
    "getfield(model, 1)"
   ]
  },
  {
   "cell_type": "code",
   "execution_count": null,
   "metadata": {},
   "outputs": [],
   "source": []
  },
  {
   "cell_type": "code",
   "execution_count": 6,
   "metadata": {},
   "outputs": [],
   "source": []
  },
  {
   "cell_type": "code",
   "execution_count": 1,
   "metadata": {},
   "outputs": [
    {
     "name": "stderr",
     "output_type": "stream",
     "text": [
      "┌ Info: CUDAdrv.jl failed to initialize, GPU functionality unavailable (set JULIA_CUDA_SILENT or JULIA_CUDA_VERBOSE to silence or expand this message)\n",
      "└ @ CUDAdrv /home/olszewskip/.julia/packages/CUDAdrv/mCr0O/src/CUDAdrv.jl:69\n"
     ]
    }
   ],
   "source": [
    "using Flux\n",
    "using Zygote\n",
    "\n",
    "struct SparseFF{T,S,F}\n",
    "    m::T\n",
    "    n::T\n",
    "    dict::AbstractDict{Tuple{T,T},S}\n",
    "    σ::F\n",
    "end\n",
    "\n",
    "function Base.show(io::IO, layer::SparseFF)\n",
    "  print(io, \"SparseFF(\", layer.n, \", \", layer.m)\n",
    "  print(io, \", \", round(length(layer.dict) / (layer.m * layer.n), sigdigits=5))\n",
    "  layer.σ == identity || print(io, \", \", layer.σ)\n",
    "  print(io, \")\")\n",
    "end\n",
    "\n",
    "function SparseFF(in::T, out::T, sparsity::Number, σ::Function) where {T<:Unsigned}\n",
    "    dict = Dict{Tuple{T,T}, Float32}()\n",
    "    for i in 1:out, j in 1:in\n",
    "        if rand() < sparsity\n",
    "            dict[(i, j)] = randn(Float32)\n",
    "        end\n",
    "    end\n",
    "    return SparseFF(out, in, dict, σ)\n",
    "end\n",
    "\n",
    "SparseFF(in, out, sparsity) = SparseFF(in, out, sparsity, identity)\n",
    "\n",
    "function (layer::SparseFF)(x)\n",
    "    out = Zygote.Buffer(x, layer.m)\n",
    "    for i in 1:layer.m\n",
    "        out[i] = 0\n",
    "    end\n",
    "    for (i, j) in keys(layer.dict)\n",
    "        out[i] += layer.dict[(i, j)] * x[j]\n",
    "    end\n",
    "    return layer.σ.(copy(out))\n",
    "end\n",
    "\n",
    "# Flux.@functor SparseFF"
   ]
  },
  {
   "cell_type": "code",
   "execution_count": 2,
   "metadata": {},
   "outputs": [
    {
     "data": {
      "text/plain": [
       "Chain(SparseFF(30, 20, 0.11, σ), SparseFF(20, 10, 0.11, σ), Dense(10, 5), softmax)"
      ]
     },
     "execution_count": 2,
     "metadata": {},
     "output_type": "execute_result"
    }
   ],
   "source": [
    "model = Flux.Chain(\n",
    "    SparseFF(UInt16(30), UInt16(20), 0.1, σ),\n",
    "    SparseFF(UInt16(20), UInt16(10), 0.1, σ),\n",
    "    Flux.Dense(10, 5),\n",
    "    Flux.softmax\n",
    ")"
   ]
  },
  {
   "cell_type": "code",
   "execution_count": 3,
   "metadata": {},
   "outputs": [
    {
     "data": {
      "text/plain": [
       "loss (generic function with 1 method)"
      ]
     },
     "execution_count": 3,
     "metadata": {},
     "output_type": "execute_result"
    }
   ],
   "source": [
    "loss(model, x, y) = Flux.crossentropy(model(x), y)"
   ]
  },
  {
   "cell_type": "code",
   "execution_count": 4,
   "metadata": {},
   "outputs": [],
   "source": [
    "x = Vector(rand(Float32, 30));\n",
    "y = Vector(rand(Float32, 5));"
   ]
  },
  {
   "cell_type": "code",
   "execution_count": null,
   "metadata": {},
   "outputs": [],
   "source": [
    "grads_ = gradient(model)"
   ]
  },
  {
   "cell_type": "code",
   "execution_count": 17,
   "metadata": {},
   "outputs": [
    {
     "data": {
      "text/plain": [
       "((layers = ((m = nothing, n = nothing, dict = Dict{Any,Any}((0x0008, 0x001d) => 0.0f0,(0x0011, 0x000f) => 0.0033891234f0,(0x000e, 0x000a) => 0.00924852f0,(0x000a, 0x0005) => 5.9139194f-5,(0x000b, 0x0001) => 0.0f0,(0x000f, 0x0012) => -0.00038765688f0,(0x0008, 0x0012) => 0.0f0,(0x000c, 0x0007) => 0.0038793471f0,(0x0014, 0x0016) => 0.00029475515f0,(0x0007, 0x001c) => 0.0f0…), σ = nothing), (m = nothing, n = nothing, dict = Dict{Any,Any}((0x0005, 0x0011) => -0.076646015f0,(0x0008, 0x0002) => 0.0024109164f0,(0x0006, 0x0009) => 0.13765791f0,(0x0004, 0x000c) => 0.035799365f0,(0x0008, 0x000c) => 0.002123489f0,(0x0009, 0x0014) => 0.0035257752f0,(0x0002, 0x000c) => 0.005353766f0,(0x0009, 0x0004) => 0.004779541f0,(0x0009, 0x000f) => 0.0034835131f0,(0x0004, 0x0014) => 0.026821904f0…), σ = nothing), (W = Float32[-0.067485824 -0.105230816 … -0.00816829 -0.08510358; -0.32730767 -0.5103717 … -0.03961638 -0.41275415; … ; -0.08757552 -0.13655671 … -0.010599889 -0.110437855; 0.16874668 0.26312712 … 0.020424614 0.21279946], b = Float32[-0.13246304, -0.64244854, 0.6155866, -0.17189564, 0.33122066], σ = nothing), nothing),),)"
      ]
     },
     "execution_count": 17,
     "metadata": {},
     "output_type": "execute_result"
    }
   ],
   "source": [
    "grads = gradient(model -> loss(model, x, y), model)"
   ]
  },
  {
   "cell_type": "code",
   "execution_count": 14,
   "metadata": {},
   "outputs": [
    {
     "data": {
      "text/plain": [
       "Dense(10, 5)"
      ]
     },
     "execution_count": 14,
     "metadata": {},
     "output_type": "execute_result"
    }
   ],
   "source": [
    "model[3]"
   ]
  },
  {
   "cell_type": "code",
   "execution_count": 15,
   "metadata": {},
   "outputs": [
    {
     "ename": "BoundsError",
     "evalue": "BoundsError: attempt to access ((layers = ((m = nothing, n = nothing, dict = Dict{Any,Any}((0x0008, 0x001d) => 0.0f0,(0x0011, 0x000f) => 0.0033891234f0,(0x000e, 0x000a) => 0.00924852f0,(0x000a, 0x0005) => 5.9139194f-5,(0x000b, 0x0001) => 0.0f0,(0x000f, 0x0012) => -0.00038765688f0,(0x0008, 0x0012) => 0.0f0,(0x000c, 0x0007) => 0.0038793471f0,(0x0014, 0x0016) => 0.00029475515f0,(0x0007, 0x001c) => 0.0f0,(0x000d, 0x0007) => 0.0f0,(0x0009, 0x0016) => -0.0004435256f0,(0x0004, 0x0009) => -0.00018296354f0,(0x0013, 0x001c) => 0.0f0,(0x0013, 0x0014) => 0.0f0,(0x0010, 0x001e) => 0.0f0,(0x000e, 0x0002) => 0.009866612f0,(0x0006, 0x000b) => 0.0f0,(0x000c, 0x000e) => 0.0033979472f0,(0x0010, 0x001b) => 0.0f0,(0x0002, 0x001b) => -0.0024889172f0,(0x0008, 0x0015) => 0.0f0,(0x0005, 0x0014) => 0.0f0,(0x000d, 0x000e) => 0.0f0,(0x0001, 0x0014) => -0.002279399f0,(0x0014, 0x001c) => 0.001388255f0,(0x0003, 0x0010) => 0.030094286f0,(0x0005, 0x0009) => 0.0f0,(0x0005, 0x000a) => 0.0f0,(0x0001, 0x0004) => -0.0016561262f0,(0x0005, 0x0008) => 0.0f0,(0x0013, 0x0006) => 0.0f0,(0x0012, 0x000c) => 0.0f0,(0x000e, 0x0016) => 0.0021953888f0,(0x0004, 0x001c) => -0.000932651f0,(0x0008, 0x001e) => 0.0f0,(0x000a, 0x0008) => 5.4805845f-5,(0x0004, 0x0013) => -0.00027438844f0,(0x0002, 0x0016) => -0.00064986903f0,(0x0006, 0x000c) => 0.0f0,(0x000d, 0x0005) => 0.0f0,(0x0006, 0x0003) => 0.0f0,(0x0001, 0x0007) => -0.0019396663f0,(0x0008, 0x0008) => 0.0f0,(0x0004, 0x000f) => -0.0007130933f0,(0x000f, 0x0010) => -0.00073845487f0,(0x0009, 0x0018) => -0.0012303584f0,(0x000f, 0x000e) => -0.0008120032f0,(0x0010, 0x000a) => 0.0f0,(0x0004, 0x0001) => -0.00028362294f0,(0x0009, 0x0007) => -0.0018216338f0,(0x0012, 0x000f) => 0.0f0,(0x0002, 0x001e) => -0.0028175272f0,(0x0005, 0x0006) => 0.0f0,(0x0004, 0x000e) => -0.00071237993f0,(0x0013, 0x0015) => 0.0f0,(0x0002, 0x000a) => -0.002737705f0,(0x000e, 0x0010) => 0.0071825394f0,(0x000e, 0x0009) => 0.002028452f0,(0x0006, 0x001c) => 0.0f0,(0x0009, 0x000f) => -0.0015971796f0,(0x0004, 0x0014) => -0.00095575594f0,(0x0003, 0x0011) => 0.016735032f0,(0x000a, 0x0012) => 2.0376383f-5,(0x000c, 0x000c) => 0.0010701467f0,(0x0009, 0x000b) => -0.0019975766f0), σ = nothing), (m = nothing, n = nothing, dict = Dict{Any,Any}((0x0005, 0x0011) => -0.076646015f0,(0x0008, 0x0002) => 0.0024109164f0,(0x0006, 0x0009) => 0.13765791f0,(0x0004, 0x000c) => 0.035799365f0,(0x0008, 0x000c) => 0.002123489f0,(0x0009, 0x0014) => 0.0035257752f0,(0x0002, 0x000c) => 0.005353766f0,(0x0009, 0x0004) => 0.004779541f0,(0x0009, 0x000f) => 0.0034835131f0,(0x0004, 0x0014) => 0.026821904f0,(0x0003, 0x0002) => 0.0073519014f0,(0x0006, 0x0011) => 0.10935148f0,(0x0003, 0x000e) => 0.0069469535f0,(0x0003, 0x000c) => 0.006475414f0,(0x0001, 0x0001) => -0.016037386f0,(0x0008, 0x0004) => 0.0021567305f0,(0x0009, 0x0002) => 0.005342844f0,(0x000a, 0x0003) => 0.107073225f0,(0x0006, 0x000e) => 0.16382308f0,(0x0003, 0x0014) => 0.0048515643f0,(0x000a, 0x0002) => 0.15172808f0,(0x0008, 0x000a) => 0.0026080012f0), σ = nothing), (W = Float32[-0.067485824 -0.105230816 -0.045420498 -0.077783 -0.06785592 -0.07932278 -0.06623152 -0.12773262 -0.00816829 -0.08510358; -0.32730767 -0.5103717 -0.22029038 -0.3772492 -0.3291026 -0.38471714 -0.32122427 -0.6195059 -0.03961638 -0.41275415; 0.31362233 0.4890321 0.21107963 0.36147574 0.31534222 0.36863142 0.3077933 0.5936032 0.037959944 0.39549613; -0.08757552 -0.13655671 -0.058941618 -0.10093804 -0.088055775 -0.10293618 -0.08594782 -0.16575703 -0.010599889 -0.110437855; 0.16874668 0.26312712 0.11357287 0.19449455 0.16967209 0.19834471 0.16561033 0.31939235 0.020424614 0.21279946], b = Float32[-0.13246304, -0.64244854, 0.6155866, -0.17189564, 0.33122066], σ = nothing), nothing),),)\n  at index [3]",
     "output_type": "error",
     "traceback": [
      "BoundsError: attempt to access ((layers = ((m = nothing, n = nothing, dict = Dict{Any,Any}((0x0008, 0x001d) => 0.0f0,(0x0011, 0x000f) => 0.0033891234f0,(0x000e, 0x000a) => 0.00924852f0,(0x000a, 0x0005) => 5.9139194f-5,(0x000b, 0x0001) => 0.0f0,(0x000f, 0x0012) => -0.00038765688f0,(0x0008, 0x0012) => 0.0f0,(0x000c, 0x0007) => 0.0038793471f0,(0x0014, 0x0016) => 0.00029475515f0,(0x0007, 0x001c) => 0.0f0,(0x000d, 0x0007) => 0.0f0,(0x0009, 0x0016) => -0.0004435256f0,(0x0004, 0x0009) => -0.00018296354f0,(0x0013, 0x001c) => 0.0f0,(0x0013, 0x0014) => 0.0f0,(0x0010, 0x001e) => 0.0f0,(0x000e, 0x0002) => 0.009866612f0,(0x0006, 0x000b) => 0.0f0,(0x000c, 0x000e) => 0.0033979472f0,(0x0010, 0x001b) => 0.0f0,(0x0002, 0x001b) => -0.0024889172f0,(0x0008, 0x0015) => 0.0f0,(0x0005, 0x0014) => 0.0f0,(0x000d, 0x000e) => 0.0f0,(0x0001, 0x0014) => -0.002279399f0,(0x0014, 0x001c) => 0.001388255f0,(0x0003, 0x0010) => 0.030094286f0,(0x0005, 0x0009) => 0.0f0,(0x0005, 0x000a) => 0.0f0,(0x0001, 0x0004) => -0.0016561262f0,(0x0005, 0x0008) => 0.0f0,(0x0013, 0x0006) => 0.0f0,(0x0012, 0x000c) => 0.0f0,(0x000e, 0x0016) => 0.0021953888f0,(0x0004, 0x001c) => -0.000932651f0,(0x0008, 0x001e) => 0.0f0,(0x000a, 0x0008) => 5.4805845f-5,(0x0004, 0x0013) => -0.00027438844f0,(0x0002, 0x0016) => -0.00064986903f0,(0x0006, 0x000c) => 0.0f0,(0x000d, 0x0005) => 0.0f0,(0x0006, 0x0003) => 0.0f0,(0x0001, 0x0007) => -0.0019396663f0,(0x0008, 0x0008) => 0.0f0,(0x0004, 0x000f) => -0.0007130933f0,(0x000f, 0x0010) => -0.00073845487f0,(0x0009, 0x0018) => -0.0012303584f0,(0x000f, 0x000e) => -0.0008120032f0,(0x0010, 0x000a) => 0.0f0,(0x0004, 0x0001) => -0.00028362294f0,(0x0009, 0x0007) => -0.0018216338f0,(0x0012, 0x000f) => 0.0f0,(0x0002, 0x001e) => -0.0028175272f0,(0x0005, 0x0006) => 0.0f0,(0x0004, 0x000e) => -0.00071237993f0,(0x0013, 0x0015) => 0.0f0,(0x0002, 0x000a) => -0.002737705f0,(0x000e, 0x0010) => 0.0071825394f0,(0x000e, 0x0009) => 0.002028452f0,(0x0006, 0x001c) => 0.0f0,(0x0009, 0x000f) => -0.0015971796f0,(0x0004, 0x0014) => -0.00095575594f0,(0x0003, 0x0011) => 0.016735032f0,(0x000a, 0x0012) => 2.0376383f-5,(0x000c, 0x000c) => 0.0010701467f0,(0x0009, 0x000b) => -0.0019975766f0), σ = nothing), (m = nothing, n = nothing, dict = Dict{Any,Any}((0x0005, 0x0011) => -0.076646015f0,(0x0008, 0x0002) => 0.0024109164f0,(0x0006, 0x0009) => 0.13765791f0,(0x0004, 0x000c) => 0.035799365f0,(0x0008, 0x000c) => 0.002123489f0,(0x0009, 0x0014) => 0.0035257752f0,(0x0002, 0x000c) => 0.005353766f0,(0x0009, 0x0004) => 0.004779541f0,(0x0009, 0x000f) => 0.0034835131f0,(0x0004, 0x0014) => 0.026821904f0,(0x0003, 0x0002) => 0.0073519014f0,(0x0006, 0x0011) => 0.10935148f0,(0x0003, 0x000e) => 0.0069469535f0,(0x0003, 0x000c) => 0.006475414f0,(0x0001, 0x0001) => -0.016037386f0,(0x0008, 0x0004) => 0.0021567305f0,(0x0009, 0x0002) => 0.005342844f0,(0x000a, 0x0003) => 0.107073225f0,(0x0006, 0x000e) => 0.16382308f0,(0x0003, 0x0014) => 0.0048515643f0,(0x000a, 0x0002) => 0.15172808f0,(0x0008, 0x000a) => 0.0026080012f0), σ = nothing), (W = Float32[-0.067485824 -0.105230816 -0.045420498 -0.077783 -0.06785592 -0.07932278 -0.06623152 -0.12773262 -0.00816829 -0.08510358; -0.32730767 -0.5103717 -0.22029038 -0.3772492 -0.3291026 -0.38471714 -0.32122427 -0.6195059 -0.03961638 -0.41275415; 0.31362233 0.4890321 0.21107963 0.36147574 0.31534222 0.36863142 0.3077933 0.5936032 0.037959944 0.39549613; -0.08757552 -0.13655671 -0.058941618 -0.10093804 -0.088055775 -0.10293618 -0.08594782 -0.16575703 -0.010599889 -0.110437855; 0.16874668 0.26312712 0.11357287 0.19449455 0.16967209 0.19834471 0.16561033 0.31939235 0.020424614 0.21279946], b = Float32[-0.13246304, -0.64244854, 0.6155866, -0.17189564, 0.33122066], σ = nothing), nothing),),)\n  at index [3]",
      "",
      "Stacktrace:",
      " [1] getindex(::Tuple, ::Int64) at ./tuple.jl:24",
      " [2] top-level scope at In[15]:1"
     ]
    }
   ],
   "source": [
    "grads[3]"
   ]
  },
  {
   "cell_type": "code",
   "execution_count": 8,
   "metadata": {},
   "outputs": [
    {
     "data": {
      "text/plain": [
       "(layers = ((m = nothing, n = nothing, dict = Dict{Any,Any}((0x0008, 0x001d) => 0.0f0,(0x0011, 0x000f) => 0.0033891234f0,(0x000e, 0x000a) => 0.00924852f0,(0x000a, 0x0005) => 5.9139194f-5,(0x000b, 0x0001) => 0.0f0,(0x000f, 0x0012) => -0.00038765688f0,(0x0008, 0x0012) => 0.0f0,(0x000c, 0x0007) => 0.0038793471f0,(0x0014, 0x0016) => 0.00029475515f0,(0x0007, 0x001c) => 0.0f0…), σ = nothing), (m = nothing, n = nothing, dict = Dict{Any,Any}((0x0005, 0x0011) => -0.076646015f0,(0x0008, 0x0002) => 0.0024109164f0,(0x0006, 0x0009) => 0.13765791f0,(0x0004, 0x000c) => 0.035799365f0,(0x0008, 0x000c) => 0.002123489f0,(0x0009, 0x0014) => 0.0035257752f0,(0x0002, 0x000c) => 0.005353766f0,(0x0009, 0x0004) => 0.004779541f0,(0x0009, 0x000f) => 0.0034835131f0,(0x0004, 0x0014) => 0.026821904f0…), σ = nothing), (W = Float32[-0.067485824 -0.105230816 … -0.00816829 -0.08510358; -0.32730767 -0.5103717 … -0.03961638 -0.41275415; … ; -0.08757552 -0.13655671 … -0.010599889 -0.110437855; 0.16874668 0.26312712 … 0.020424614 0.21279946], b = Float32[-0.13246304, -0.64244854, 0.6155866, -0.17189564, 0.33122066], σ = nothing), nothing),)"
      ]
     },
     "execution_count": 8,
     "metadata": {},
     "output_type": "execute_result"
    }
   ],
   "source": [
    "getfield(grads, 1)"
   ]
  },
  {
   "cell_type": "code",
   "execution_count": null,
   "metadata": {},
   "outputs": [],
   "source": []
  },
  {
   "cell_type": "code",
   "execution_count": 35,
   "metadata": {},
   "outputs": [
    {
     "data": {
      "text/plain": [
       "Params([])"
      ]
     },
     "execution_count": 35,
     "metadata": {},
     "output_type": "execute_result"
    }
   ],
   "source": [
    "ps = Flux.params(model[1])"
   ]
  },
  {
   "cell_type": "code",
   "execution_count": 27,
   "metadata": {},
   "outputs": [
    {
     "data": {
      "text/plain": [
       "Grads(...)"
      ]
     },
     "execution_count": 27,
     "metadata": {},
     "output_type": "execute_result"
    }
   ],
   "source": [
    "gs = gradient(ps) do\n",
    "    loss(model, x, y)\n",
    "end"
   ]
  },
  {
   "cell_type": "code",
   "execution_count": 25,
   "metadata": {},
   "outputs": [
    {
     "data": {
      "text/plain": [
       "Params"
      ]
     },
     "execution_count": 25,
     "metadata": {},
     "output_type": "execute_result"
    }
   ],
   "source": [
    "typeof(params(model[3]))"
   ]
  },
  {
   "cell_type": "code",
   "execution_count": 34,
   "metadata": {},
   "outputs": [
    {
     "data": {
      "text/plain": [
       "IdDict{Any,Any} with 6 entries:\n",
       "  Buffer{Float32,Array{Flo… => Float32[0.0, 0.0, 0.0, 0.0, 0.0, 0.0, 0.0, 0.0, …\n",
       "  Dict((0x0003, 0x0006)=>1… => Dict{Any,Any}((0x0008, 0x0017)=>-9.86251e-5,(0x0…\n",
       "  Buffer{Float32,Array{Flo… => Float32[0.0, 0.0, 0.0, 0.0, 0.0, 0.0, 0.0, 0.0, …\n",
       "  Float32[-0.0122392, 0.01… => Float32[0.0122392, -0.0191127, -0.0394179, 0.025…\n",
       "  Float32[-0.536194 -0.391… => Float32[0.00941797 0.00434556 … 0.00871493 0.006…\n",
       "  Dict((0x0007, 0x0002)=>1… => Dict{Any,Any}((0x0007, 0x0002)=>0.0125634,(0x000…"
      ]
     },
     "execution_count": 34,
     "metadata": {},
     "output_type": "execute_result"
    }
   ],
   "source": [
    "gs.grads"
   ]
  },
  {
   "cell_type": "code",
   "execution_count": 30,
   "metadata": {},
   "outputs": [],
   "source": [
    "Flux.Optimise.update!(Flux.Descent(), params(model[2]), gs)"
   ]
  },
  {
   "cell_type": "code",
   "execution_count": null,
   "metadata": {},
   "outputs": [],
   "source": []
  },
  {
   "cell_type": "code",
   "execution_count": 68,
   "metadata": {},
   "outputs": [
    {
     "data": {
      "text/plain": [
       "4"
      ]
     },
     "execution_count": 68,
     "metadata": {},
     "output_type": "execute_result"
    }
   ],
   "source": [
    "length(model)"
   ]
  },
  {
   "cell_type": "code",
   "execution_count": 58,
   "metadata": {},
   "outputs": [
    {
     "data": {
      "text/plain": [
       "SparseFF{UInt16,Float32,typeof(σ)}"
      ]
     },
     "execution_count": 58,
     "metadata": {},
     "output_type": "execute_result"
    }
   ],
   "source": [
    "typeof(model.layers[1])"
   ]
  },
  {
   "cell_type": "code",
   "execution_count": 57,
   "metadata": {},
   "outputs": [
    {
     "data": {
      "text/plain": [
       "Dict{Any,Any} with 66 entries:\n",
       "  (0x000f, 0x0011) => 0.197872\n",
       "  (0x000a, 0x000b) => 0.0\n",
       "  (0x0001, 0x000f) => 0.375903\n",
       "  (0x0014, 0x0005) => 0.000765467\n",
       "  (0x0001, 0x000c) => 0.387952\n",
       "  (0x0012, 0x0015) => -0.175319\n",
       "  (0x0009, 0x001c) => 0.0\n",
       "  (0x0003, 0x0012) => 0.0\n",
       "  (0x000b, 0x0017) => 0.0\n",
       "  (0x000e, 0x0002) => 0.556112\n",
       "  (0x0005, 0x0011) => -0.0791344\n",
       "  (0x0010, 0x001c) => 0.0\n",
       "  (0x0001, 0x0012) => 0.577095\n",
       "  (0x0008, 0x0018) => 0.0\n",
       "  (0x0003, 0x0009) => 0.0\n",
       "  (0x0013, 0x0013) => 0.00996453\n",
       "  (0x0012, 0x0013) => -0.0519935\n",
       "  (0x000b, 0x0014) => 0.0\n",
       "  (0x000c, 0x001a) => -0.00200821\n",
       "  (0x0005, 0x0013) => -0.0207084\n",
       "  (0x0012, 0x000c) => -0.189229\n",
       "  (0x000f, 0x0001) => 0.267078\n",
       "  (0x0007, 0x001b) => 0.168457\n",
       "  (0x000e, 0x0016) => 0.436812\n",
       "  (0x000e, 0x0012) => 0.685089\n",
       "  ⋮                => ⋮"
      ]
     },
     "execution_count": 57,
     "metadata": {},
     "output_type": "execute_result"
    }
   ],
   "source": [
    "gs.layers[1].dict"
   ]
  },
  {
   "cell_type": "code",
   "execution_count": 53,
   "metadata": {},
   "outputs": [
    {
     "ename": "MethodError",
     "evalue": "MethodError: no method matching iterate(::SparseFF{UInt16,Float32,typeof(σ)})\nClosest candidates are:\n  iterate(!Matched::Core.SimpleVector) at essentials.jl:600\n  iterate(!Matched::Core.SimpleVector, !Matched::Any) at essentials.jl:600\n  iterate(!Matched::ExponentialBackOff) at error.jl:218\n  ...",
     "output_type": "error",
     "traceback": [
      "MethodError: no method matching iterate(::SparseFF{UInt16,Float32,typeof(σ)})\nClosest candidates are:\n  iterate(!Matched::Core.SimpleVector) at essentials.jl:600\n  iterate(!Matched::Core.SimpleVector, !Matched::Any) at essentials.jl:600\n  iterate(!Matched::ExponentialBackOff) at error.jl:218\n  ...",
      "",
      "Stacktrace:",
      " [1] _zip_iterate_some at ./iterators.jl:350 [inlined]",
      " [2] _zip_iterate_all at ./iterators.jl:342 [inlined]",
      " [3] iterate(::Base.Iterators.Zip{Tuple{SparseFF{UInt16,Float32,typeof(σ)},NamedTuple{(:m, :n, :dict, :σ),Tuple{Nothing,Nothing,Dict{Any,Any},Nothing}}}}) at ./iterators.jl:332",
      " [4] top-level scope at ./In[53]:1"
     ]
    }
   ],
   "source": [
    "for (param, grad) in zip(model.layers[1], gs.layers[1])\n",
    "    println(param, grad)\n",
    "end"
   ]
  },
  {
   "cell_type": "code",
   "execution_count": 40,
   "metadata": {},
   "outputs": [
    {
     "ename": "ErrorException",
     "evalue": "type Nothing has no field dict",
     "output_type": "error",
     "traceback": [
      "type Nothing has no field dict",
      "",
      "Stacktrace:",
      " [1] getproperty(::Nothing, ::Symbol) at ./Base.jl:20",
      " [2] top-level scope at In[40]:1"
     ]
    }
   ],
   "source": [
    "gs[model[2]].dict"
   ]
  },
  {
   "cell_type": "code",
   "execution_count": 17,
   "metadata": {},
   "outputs": [
    {
     "ename": "ErrorException",
     "evalue": "Only reference types can be differentiated with `Params`.",
     "output_type": "error",
     "traceback": [
      "Only reference types can be differentiated with `Params`.",
      "",
      "Stacktrace:",
      " [1] error(::String) at ./error.jl:33",
      " [2] getindex(::Zygote.Grads, ::Function) at /home/olszewskip/.julia/packages/Zygote/oPQFy/src/compiler/interface.jl:90",
      " [3] (::var\"#9#10\")(::Function) at ./none:0",
      " [4] iterate at ./generator.jl:47 [inlined]",
      " [5] collect_to!(::Array{Nothing,1}, ::Base.Generator{Params,var\"#9#10\"}, ::Int64, ::Int64) at ./array.jl:667",
      " [6] collect_to_with_first!(::Array{Nothing,1}, ::Nothing, ::Base.Generator{Params,var\"#9#10\"}, ::Int64) at ./array.jl:646",
      " [7] collect(::Base.Generator{Params,var\"#9#10\"}) at ./array.jl:627",
      " [8] top-level scope at In[17]:1"
     ]
    }
   ],
   "source": [
    "[gs[p] for p in ps]"
   ]
  },
  {
   "cell_type": "code",
   "execution_count": 15,
   "metadata": {},
   "outputs": [
    {
     "name": "stdout",
     "output_type": "stream",
     "text": [
      "nothing\n",
      "nothing\n"
     ]
    },
    {
     "ename": "ErrorException",
     "evalue": "Only reference types can be differentiated with `Params`.",
     "output_type": "error",
     "traceback": [
      "Only reference types can be differentiated with `Params`.",
      "",
      "Stacktrace:",
      " [1] error(::String) at ./error.jl:33",
      " [2] getindex(::Zygote.Grads, ::Function) at /home/olszewskip/.julia/packages/Zygote/oPQFy/src/compiler/interface.jl:90",
      " [3] top-level scope at ./In[15]:2"
     ]
    }
   ],
   "source": [
    "for p in ps\n",
    "    println(gs[p])\n",
    "end"
   ]
  },
  {
   "cell_type": "code",
   "execution_count": 6,
   "metadata": {},
   "outputs": [
    {
     "data": {
      "text/plain": [
       "10-element Array{Float32,1}:\n",
       " 0.9786658   \n",
       " 0.568933    \n",
       " 0.804896    \n",
       " 0.5060786   \n",
       " 0.0053601265\n",
       " 0.32529593  \n",
       " 0.941293    \n",
       " 0.95486486  \n",
       " 0.052418232 \n",
       " 0.99728906  "
      ]
     },
     "execution_count": 6,
     "metadata": {},
     "output_type": "execute_result"
    }
   ],
   "source": [
    "y = Vector(sprand(Float32, 10, 1.))"
   ]
  },
  {
   "cell_type": "code",
   "execution_count": 7,
   "metadata": {},
   "outputs": [
    {
     "data": {
      "text/plain": [
       "30-element Array{Float32,1}:\n",
       " 0.99993074\n",
       " 0.30630112\n",
       " 0.7602762 \n",
       " 0.25079393\n",
       " 0.978377  \n",
       " 0.40243483\n",
       " 0.72626233\n",
       " 0.7394893 \n",
       " 0.27526045\n",
       " 0.8950535 \n",
       " 0.23692632\n",
       " 0.22312045\n",
       " 0.17353046\n",
       " ⋮         \n",
       " 0.8915237 \n",
       " 0.7626835 \n",
       " 0.57289577\n",
       " 0.7487407 \n",
       " 0.7178049 \n",
       " 0.26677704\n",
       " 0.24272895\n",
       " 0.6672803 \n",
       " 0.5442846 \n",
       " 0.70706594\n",
       " 0.49650443\n",
       " 0.41240144"
      ]
     },
     "execution_count": 7,
     "metadata": {},
     "output_type": "execute_result"
    }
   ],
   "source": [
    "x = Vector(sprand(Float32, 30, 1.))"
   ]
  },
  {
   "cell_type": "code",
   "execution_count": null,
   "metadata": {},
   "outputs": [],
   "source": []
  },
  {
   "cell_type": "code",
   "execution_count": 23,
   "metadata": {},
   "outputs": [],
   "source": [
    "grads = gradient(model -> loss(model(x), y), model)[1];"
   ]
  },
  {
   "cell_type": "code",
   "execution_count": 26,
   "metadata": {},
   "outputs": [
    {
     "data": {
      "text/plain": [
       "NamedTuple{(:layers,),Tuple{Tuple{NamedTuple{(:m, :n, :dict, :σ),Tuple{Nothing,Nothing,Dict{Any,Any},Nothing}},NamedTuple{(:m, :n, :dict, :σ),Tuple{Nothing,Nothing,Dict{Any,Any},Nothing}},Nothing}}}"
      ]
     },
     "execution_count": 26,
     "metadata": {},
     "output_type": "execute_result"
    }
   ],
   "source": [
    "typeof(grads)"
   ]
  },
  {
   "cell_type": "code",
   "execution_count": 25,
   "metadata": {},
   "outputs": [
    {
     "ename": "MethodError",
     "evalue": "MethodError: no method matching getindex(::NamedTuple{(:layers,),Tuple{Tuple{NamedTuple{(:m, :n, :dict, :σ),Tuple{Nothing,Nothing,Dict{Any,Any},Nothing}},NamedTuple{(:m, :n, :dict, :σ),Tuple{Nothing,Nothing,Dict{Any,Any},Nothing}},Nothing}}}, ::SparseFF{UInt16,Float32,typeof(σ)})\nClosest candidates are:\n  getindex(::NamedTuple, !Matched::Int64) at namedtuple.jl:106\n  getindex(::NamedTuple, !Matched::Symbol) at namedtuple.jl:107\n  getindex(::Any, !Matched::AbstractTrees.ImplicitRootState) at /home/olszewskip/.julia/packages/AbstractTrees/z1wBY/src/AbstractTrees.jl:344",
     "output_type": "error",
     "traceback": [
      "MethodError: no method matching getindex(::NamedTuple{(:layers,),Tuple{Tuple{NamedTuple{(:m, :n, :dict, :σ),Tuple{Nothing,Nothing,Dict{Any,Any},Nothing}},NamedTuple{(:m, :n, :dict, :σ),Tuple{Nothing,Nothing,Dict{Any,Any},Nothing}},Nothing}}}, ::SparseFF{UInt16,Float32,typeof(σ)})\nClosest candidates are:\n  getindex(::NamedTuple, !Matched::Int64) at namedtuple.jl:106\n  getindex(::NamedTuple, !Matched::Symbol) at namedtuple.jl:107\n  getindex(::Any, !Matched::AbstractTrees.ImplicitRootState) at /home/olszewskip/.julia/packages/AbstractTrees/z1wBY/src/AbstractTrees.jl:344",
      "",
      "Stacktrace:",
      " [1] top-level scope at ./In[25]:2"
     ]
    }
   ],
   "source": [
    "for param in Params(model)\n",
    "    println(grads[param])\n",
    "end"
   ]
  },
  {
   "cell_type": "code",
   "execution_count": 10,
   "metadata": {},
   "outputs": [
    {
     "data": {
      "text/plain": [
       "NamedTuple{(:m, :n, :dict, :σ),Tuple{Nothing,Nothing,Dict{Any,Any},Nothing}}"
      ]
     },
     "execution_count": 10,
     "metadata": {},
     "output_type": "execute_result"
    }
   ],
   "source": [
    "typeof(grads.layers[1])"
   ]
  },
  {
   "cell_type": "code",
   "execution_count": 11,
   "metadata": {},
   "outputs": [
    {
     "data": {
      "text/plain": [
       "SparseFF{UInt16,Float32,typeof(σ)}"
      ]
     },
     "execution_count": 11,
     "metadata": {},
     "output_type": "execute_result"
    }
   ],
   "source": [
    "typeof(model.layers[1])"
   ]
  },
  {
   "cell_type": "code",
   "execution_count": null,
   "metadata": {},
   "outputs": [],
   "source": []
  },
  {
   "cell_type": "code",
   "execution_count": 12,
   "metadata": {},
   "outputs": [
    {
     "data": {
      "text/plain": [
       "update! (generic function with 1 method)"
      ]
     },
     "execution_count": 12,
     "metadata": {},
     "output_type": "execute_result"
    }
   ],
   "source": [
    "function update!(opt::Descent, layer::SparseFF, grad)\n",
    "    merge!((x -> opt.eta * x)∘+, layer.dict,  grad[:dict])\n",
    "end"
   ]
  },
  {
   "cell_type": "code",
   "execution_count": null,
   "metadata": {},
   "outputs": [],
   "source": []
  },
  {
   "cell_type": "code",
   "execution_count": null,
   "metadata": {},
   "outputs": [],
   "source": [
    "update!(Flux.Descent(), )"
   ]
  },
  {
   "cell_type": "code",
   "execution_count": 107,
   "metadata": {},
   "outputs": [
    {
     "ename": "DimensionMismatch",
     "evalue": "DimensionMismatch(\"arrays could not be broadcast to a common size; got a dimension with lengths 10 and 30\")",
     "output_type": "error",
     "traceback": [
      "DimensionMismatch(\"arrays could not be broadcast to a common size; got a dimension with lengths 10 and 30\")",
      "",
      "Stacktrace:",
      " [1] _pullback(::Zygote.Context, ::typeof(Flux._crossentropy), ::Array{Float32,1}, ::Array{Float32,1}, ::Nothing) at ./broadcast.jl:490",
      " [2] #crossentropy#48 at /home/olszewskip/.julia/packages/Flux/oX9Pi/src/layers/stateless.jl:20 [inlined]",
      " [3] crossentropy at /home/olszewskip/.julia/packages/Flux/oX9Pi/src/layers/stateless.jl:20 [inlined]",
      " [4] adjoint at /home/olszewskip/.julia/packages/Zygote/oPQFy/src/lib/lib.jl:153 [inlined]",
      " [5] _pullback at /home/olszewskip/.julia/packages/ZygoteRules/6nssF/src/adjoint.jl:47 [inlined]",
      " [6] #15 at /home/olszewskip/.julia/packages/Flux/oX9Pi/src/optimise/train.jl:69 [inlined]",
      " [7] _pullback(::Zygote.Context, ::Flux.Optimise.var\"#15#21\"{typeof(Flux.crossentropy),Tuple{Array{Float32,1},Array{Float32,1}}}) at /home/olszewskip/.julia/packages/Zygote/oPQFy/src/compiler/interface2.jl:0",
      " [8] pullback(::Function, ::Params) at /home/olszewskip/.julia/packages/Zygote/oPQFy/src/compiler/interface.jl:96",
      " [9] gradient(::Function, ::Params) at /home/olszewskip/.julia/packages/Zygote/oPQFy/src/compiler/interface.jl:46",
      " [10] macro expansion at /home/olszewskip/.julia/packages/Flux/oX9Pi/src/optimise/train.jl:68 [inlined]",
      " [11] macro expansion at /home/olszewskip/.julia/packages/Juno/oLB1d/src/progress.jl:134 [inlined]",
      " [12] #train!#12(::Flux.Optimise.var\"#16#22\", ::typeof(Flux.Optimise.train!), ::Function, ::Params, ::Array{Tuple{Array{Float32,1},Array{Float32,1}},1}, ::Descent) at /home/olszewskip/.julia/packages/Flux/oX9Pi/src/optimise/train.jl:66",
      " [13] train!(::Function, ::Params, ::Array{Tuple{Array{Float32,1},Array{Float32,1}},1}, ::Descent) at /home/olszewskip/.julia/packages/Flux/oX9Pi/src/optimise/train.jl:64",
      " [14] top-level scope at In[107]:1"
     ]
    }
   ],
   "source": [
    "Flux.train!(Flux.crossentropy, Flux.params(model), [(x,y)], Flux.Descent())"
   ]
  },
  {
   "cell_type": "code",
   "execution_count": null,
   "metadata": {},
   "outputs": [],
   "source": []
  },
  {
   "cell_type": "code",
   "execution_count": null,
   "metadata": {},
   "outputs": [],
   "source": []
  },
  {
   "cell_type": "code",
   "execution_count": 97,
   "metadata": {},
   "outputs": [
    {
     "data": {
      "text/plain": [
       "Dict{Tuple{UInt16,UInt16},Float32} with 56 entries:\n",
       "  (0x0001, 0x0017) => -1.91749\n",
       "  (0x000f, 0x001d) => 1.41232\n",
       "  (0x0002, 0x0012) => 1.23592\n",
       "  (0x000c, 0x0010) => 1.46087\n",
       "  (0x000f, 0x0012) => 0.179804\n",
       "  (0x0003, 0x0001) => 1.06565\n",
       "  (0x000f, 0x001c) => -0.809944\n",
       "  (0x0010, 0x000d) => 0.118007\n",
       "  (0x0001, 0x000a) => -0.314179\n",
       "  (0x000f, 0x000f) => 0.243218\n",
       "  (0x0010, 0x0003) => -0.406935\n",
       "  (0x0014, 0x000d) => 1.53791\n",
       "  (0x0009, 0x0002) => -0.337235\n",
       "  (0x0002, 0x000d) => 0.0403535\n",
       "  (0x0002, 0x001b) => 0.29069\n",
       "  (0x0013, 0x0018) => -2.20206\n",
       "  (0x000a, 0x000c) => -1.14364\n",
       "  (0x0014, 0x0006) => 1.29082\n",
       "  (0x0003, 0x0010) => -0.639161\n",
       "  (0x0009, 0x0011) => 0.472778\n",
       "  (0x000b, 0x001b) => 0.691826\n",
       "  (0x000a, 0x001a) => 0.425954\n",
       "  (0x0008, 0x0011) => 0.435237\n",
       "  (0x0012, 0x001d) => 1.25348\n",
       "  (0x000e, 0x0006) => 0.818237\n",
       "  ⋮                => ⋮"
      ]
     },
     "execution_count": 97,
     "metadata": {},
     "output_type": "execute_result"
    }
   ],
   "source": [
    "model.layers[1].dict"
   ]
  },
  {
   "cell_type": "code",
   "execution_count": 54,
   "metadata": {},
   "outputs": [
    {
     "data": {
      "text/plain": [
       "Dict{Any,Any} with 56 entries:\n",
       "  (0x0001, 0x0017) => -0.00344454\n",
       "  (0x000f, 0x001d) => 0.0355532\n",
       "  (0x0002, 0x0012) => 0.0421302\n",
       "  (0x000c, 0x0010) => 0.0\n",
       "  (0x000f, 0x001c) => 0.0160266\n",
       "  (0x0003, 0x0001) => 0.0\n",
       "  (0x0010, 0x000d) => 0.0\n",
       "  (0x000f, 0x0012) => 0.0779121\n",
       "  (0x000f, 0x000f) => 0.0794192\n",
       "  (0x0001, 0x000a) => -0.000534103\n",
       "  (0x0010, 0x0003) => 0.0\n",
       "  (0x0014, 0x000d) => 0.00135714\n",
       "  (0x0009, 0x0002) => -0.0985117\n",
       "  (0x0002, 0x000d) => 0.00697144\n",
       "  (0x0002, 0x001b) => 0.0325018\n",
       "  (0x0013, 0x0018) => 0.0\n",
       "  (0x0014, 0x0006) => 0.00670294\n",
       "  (0x000a, 0x000c) => 0.0357397\n",
       "  (0x0003, 0x0010) => 0.0\n",
       "  (0x0009, 0x0011) => -0.10278\n",
       "  (0x000b, 0x001b) => -0.000791557\n",
       "  (0x000a, 0x001a) => 0.0512622\n",
       "  (0x0008, 0x0011) => 0.0\n",
       "  (0x0012, 0x001d) => -0.00444119\n",
       "  (0x000e, 0x0006) => 0.0\n",
       "  ⋮                => ⋮"
      ]
     },
     "execution_count": 54,
     "metadata": {},
     "output_type": "execute_result"
    }
   ],
   "source": [
    "grads[:layers][1][:dict]"
   ]
  },
  {
   "cell_type": "code",
   "execution_count": null,
   "metadata": {},
   "outputs": [],
   "source": []
  },
  {
   "cell_type": "code",
   "execution_count": null,
   "metadata": {},
   "outputs": [],
   "source": []
  },
  {
   "cell_type": "code",
   "execution_count": null,
   "metadata": {},
   "outputs": [],
   "source": [
    "grads = gradient(layer -> (loss∘test)(layer, [1 2]), layer)[1]"
   ]
  },
  {
   "cell_type": "code",
   "execution_count": 3,
   "metadata": {},
   "outputs": [
    {
     "data": {
      "text/plain": [
       "test (generic function with 1 method)"
      ]
     },
     "execution_count": 3,
     "metadata": {},
     "output_type": "execute_result"
    }
   ],
   "source": [
    "function test(dok, vect)\n",
    "    out = Zygote.Buffer(vect, dok.m)\n",
    "    for i in 1:dok.m\n",
    "        out[i] = 0\n",
    "    end\n",
    "    for (i, j) in keys(dok.dict)\n",
    "        out[i] += dok.dict[(i, j)] * vect[j]\n",
    "    end\n",
    "    return copy(out)\n",
    "end"
   ]
  },
  {
   "cell_type": "code",
   "execution_count": 4,
   "metadata": {},
   "outputs": [
    {
     "data": {
      "text/plain": [
       "3-element Array{Float64,1}:\n",
       " 10.0\n",
       "  0.0\n",
       "  0.0"
      ]
     },
     "execution_count": 4,
     "metadata": {},
     "output_type": "execute_result"
    }
   ],
   "source": [
    "test(layer, [1. 2.])"
   ]
  },
  {
   "cell_type": "code",
   "execution_count": 5,
   "metadata": {},
   "outputs": [
    {
     "data": {
      "text/plain": [
       "10"
      ]
     },
     "execution_count": 5,
     "metadata": {},
     "output_type": "execute_result"
    }
   ],
   "source": [
    "(sum∘test)(layer, [1 2])"
   ]
  },
  {
   "cell_type": "code",
   "execution_count": 10,
   "metadata": {},
   "outputs": [
    {
     "data": {
      "text/plain": [
       "(m = nothing, n = nothing, dict = Dict{Any,Any}((1, 1) => 1.0))"
      ]
     },
     "execution_count": 10,
     "metadata": {},
     "output_type": "execute_result"
    }
   ],
   "source": [
    "grads = gradient(layer -> (sum∘test)(layer, [1 2]), layer)[1]"
   ]
  },
  {
   "cell_type": "code",
   "execution_count": 7,
   "metadata": {},
   "outputs": [
    {
     "data": {
      "text/plain": [
       "0.1"
      ]
     },
     "execution_count": 7,
     "metadata": {},
     "output_type": "execute_result"
    }
   ],
   "source": [
    "η = 0.1"
   ]
  },
  {
   "cell_type": "code",
   "execution_count": 8,
   "metadata": {},
   "outputs": [
    {
     "data": {
      "text/plain": [
       "Dict{Any,Any} with 1 entry:\n",
       "  (1, 1) => 1.0"
      ]
     },
     "execution_count": 8,
     "metadata": {},
     "output_type": "execute_result"
    }
   ],
   "source": [
    "grads[:dict]"
   ]
  },
  {
   "cell_type": "code",
   "execution_count": 162,
   "metadata": {},
   "outputs": [
    {
     "data": {
      "text/plain": [
       "Dict{Tuple{Int64,Int64},Float64} with 1 entry:\n",
       "  (1, 1) => 0.22"
      ]
     },
     "execution_count": 162,
     "metadata": {},
     "output_type": "execute_result"
    }
   ],
   "source": [
    "merge!((x -> η * x)∘+, layer.dict,  grads[:dict])"
   ]
  },
  {
   "cell_type": "code",
   "execution_count": 158,
   "metadata": {},
   "outputs": [
    {
     "data": {
      "text/plain": [
       "DOKSparse(3, 2, Dict((1, 1) => 11.0))"
      ]
     },
     "execution_count": 158,
     "metadata": {},
     "output_type": "execute_result"
    }
   ],
   "source": [
    "layer"
   ]
  },
  {
   "cell_type": "code",
   "execution_count": null,
   "metadata": {},
   "outputs": [],
   "source": []
  }
 ],
 "metadata": {
  "@webio": {
   "lastCommId": null,
   "lastKernelId": null
  },
  "kernelspec": {
   "display_name": "Julia 1.3.1",
   "language": "julia",
   "name": "julia-1.3"
  },
  "language_info": {
   "file_extension": ".jl",
   "mimetype": "application/julia",
   "name": "julia",
   "version": "1.3.1"
  }
 },
 "nbformat": 4,
 "nbformat_minor": 2
}
