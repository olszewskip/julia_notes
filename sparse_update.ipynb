{
 "cells": [
  {
   "cell_type": "code",
   "execution_count": 7,
   "metadata": {},
   "outputs": [],
   "source": [
    "using SparseArrays\n",
    "using Zygote\n",
    "using Flux: Optimise"
   ]
  },
  {
   "cell_type": "code",
   "execution_count": 2,
   "metadata": {},
   "outputs": [
    {
     "data": {
      "text/plain": [
       "broadcasted (generic function with 94 methods)"
      ]
     },
     "execution_count": 2,
     "metadata": {},
     "output_type": "execute_result"
    }
   ],
   "source": [
    "import Base: broadcast, broadcasted\n",
    "\n",
    "function broadcast(-, arr_sink::AbstractSparseMatrix{Tv,Ti}, arr_source::AbstractSparseMatrix{Tv,Ti}) where {Tv,Ti}\n",
    "    for (col_index, (ptr_sink, end_sink)) in enumerate(zip(arr_sink.colptr[1:end-1], arr_sink.colptr[2:end]))\n",
    "        ptr_source = arr_source.colptr[col_index]\n",
    "        end_source = arr_source.colptr[col_index + 1]\n",
    "        while ptr_sink < end_sink && ptr_source < end_source\n",
    "            #println(ptr_sink, \" \", arr_sink.rowval[ptr_sink], \" \", ptr_source, \" \", arr_source.rowval[ptr_source])\n",
    "            if arr_sink.rowval[ptr_sink] < arr_source.rowval[ptr_source]\n",
    "                #println(\"sink up\")\n",
    "                ptr_sink += 1\n",
    "                continue\n",
    "            end\n",
    "            if arr_sink.rowval[ptr_sink] > arr_source.rowval[ptr_source]\n",
    "                #println(\"source up\")\n",
    "                ptr_source += 1\n",
    "                continue\n",
    "            end\n",
    "            row_index = arr_sink.rowval[ptr_sink]\n",
    "            #println(row_index, \" \", col_index, \" \", arr_sink.nzval[ptr_sink], \" \", arr_source.nzval[ptr_source])\n",
    "            arr_sink.nzval[ptr_sink] -= arr_source.nzval[ptr_source]\n",
    "            ptr_sink += 1\n",
    "            ptr_source += 1\n",
    "        end\n",
    "    end\n",
    "    return arr_sink\n",
    "end\n",
    "\n",
    "function broadcasted(-, arr_sink::AbstractSparseMatrix{Tv,Ti}, arr_source::AbstractSparseMatrix{Tv,Ti}) where {Tv,Ti}\n",
    "    broadcast(-, arr_sink, arr_source)\n",
    "end"
   ]
  },
  {
   "cell_type": "code",
   "execution_count": null,
   "metadata": {},
   "outputs": [],
   "source": []
  },
  {
   "cell_type": "code",
   "execution_count": null,
   "metadata": {},
   "outputs": [],
   "source": []
  }
 ],
 "metadata": {
  "@webio": {
   "lastCommId": null,
   "lastKernelId": null
  },
  "kernelspec": {
   "display_name": "Julia 1.3.1",
   "language": "julia",
   "name": "julia-1.3"
  },
  "language_info": {
   "file_extension": ".jl",
   "mimetype": "application/julia",
   "name": "julia",
   "version": "1.3.1"
  }
 },
 "nbformat": 4,
 "nbformat_minor": 2
}
