{
 "cells": [
  {
   "cell_type": "code",
   "execution_count": 2,
   "metadata": {},
   "outputs": [],
   "source": [
    "using Distributed"
   ]
  },
  {
   "cell_type": "code",
   "execution_count": 4,
   "metadata": {},
   "outputs": [
    {
     "data": {
      "text/plain": [
       "3-element Array{Int64,1}:\n",
       " 2\n",
       " 3\n",
       " 4"
      ]
     },
     "execution_count": 4,
     "metadata": {},
     "output_type": "execute_result"
    }
   ],
   "source": [
    "addprocs(3)"
   ]
  },
  {
   "cell_type": "code",
   "execution_count": 5,
   "metadata": {},
   "outputs": [
    {
     "data": {
      "text/plain": [
       "3"
      ]
     },
     "execution_count": 5,
     "metadata": {},
     "output_type": "execute_result"
    }
   ],
   "source": [
    "nworkers()"
   ]
  },
  {
   "cell_type": "code",
   "execution_count": 3,
   "metadata": {},
   "outputs": [
    {
     "name": "stdout",
     "output_type": "stream",
     "text": [
      "search: \u001b[0m\u001b[1ma\u001b[22m\u001b[0m\u001b[1md\u001b[22m\u001b[0m\u001b[1md\u001b[22m\u001b[0m\u001b[1mp\u001b[22m\u001b[0m\u001b[1mr\u001b[22m\u001b[0m\u001b[1mo\u001b[22m\u001b[0m\u001b[1mc\u001b[22m\u001b[0m\u001b[1ms\u001b[22m\n",
      "\n"
     ]
    },
    {
     "data": {
      "text/latex": [
       "\\begin{verbatim}\n",
       "addprocs(manager::ClusterManager; kwargs...) -> List of process identifiers\n",
       "\\end{verbatim}\n",
       "Launches worker processes via the specified cluster manager.\n",
       "\n",
       "For example, Beowulf clusters are supported via a custom cluster manager implemented in the package \\texttt{ClusterManagers.jl}.\n",
       "\n",
       "The number of seconds a newly launched worker waits for connection establishment from the master can be specified via variable \\texttt{JULIA\\_WORKER\\_TIMEOUT} in the worker process's environment. Relevant only when using TCP/IP as transport.\n",
       "\n",
       "\\rule{\\textwidth}{1pt}\n",
       "\\begin{verbatim}\n",
       "addprocs(machines; tunnel=false, sshflags=``, max_parallel=10, kwargs...) -> List of process identifiers\n",
       "\\end{verbatim}\n",
       "Add processes on remote machines via SSH. Requires \\texttt{julia} to be installed in the same location on each node, or to be available via a shared file system.\n",
       "\n",
       "\\texttt{machines} is a vector of machine specifications. Workers are started for each specification.\n",
       "\n",
       "A machine specification is either a string \\texttt{machine\\_spec} or a tuple - \\texttt{(machine\\_spec, count)}.\n",
       "\n",
       "\\texttt{machine\\_spec} is a string of the form \\texttt{[user@]host[:port] [bind\\_addr[:port]]}. \\texttt{user} defaults to current user, \\texttt{port} to the standard ssh port. If \\texttt{[bind\\_addr[:port]]} is specified, other workers will connect to this worker at the specified \\texttt{bind\\_addr} and \\texttt{port}.\n",
       "\n",
       "\\texttt{count} is the number of workers to be launched on the specified host. If specified as \\texttt{:auto} it will launch as many workers as the number of CPU threads on the specific host.\n",
       "\n",
       "Keyword arguments:\n",
       "\n",
       "\\begin{itemize}\n",
       "\\item \\texttt{tunnel}: if \\texttt{true} then SSH tunneling will be used to connect to the worker from the master process. Default is \\texttt{false}.\n",
       "\n",
       "\n",
       "\\item \\texttt{sshflags}: specifies additional ssh options, e.g. \\texttt{sshflags=`-i /home/foo/bar.pem}`\n",
       "\n",
       "\n",
       "\\item \\texttt{max\\_parallel}: specifies the maximum number of workers connected to in parallel at a host. Defaults to 10.\n",
       "\n",
       "\n",
       "\\item \\texttt{dir}: specifies the working directory on the workers. Defaults to the host's current directory (as found by \\texttt{pwd()})\n",
       "\n",
       "\n",
       "\\item \\texttt{enable\\_threaded\\_blas}: if \\texttt{true} then  BLAS will run on multiple threads in added processes. Default is \\texttt{false}.\n",
       "\n",
       "\n",
       "\\item \\texttt{exename}: name of the \\texttt{julia} executable. Defaults to \\texttt{\"\\$(Sys.BINDIR)/julia\"} or \\texttt{\"\\$(Sys.BINDIR)/julia-debug\"} as the case may be.\n",
       "\n",
       "\n",
       "\\item \\texttt{exeflags}: additional flags passed to the worker processes.\n",
       "\n",
       "\n",
       "\\item \\texttt{topology}: Specifies how the workers connect to each other. Sending a message between unconnected workers results in an error.\n",
       "\n",
       "\\begin{itemize}\n",
       "\\item \\texttt{topology=:all\\_to\\_all}: All processes are connected to each other. The default.\n",
       "\n",
       "\n",
       "\\item \\texttt{topology=:master\\_worker}: Only the driver process, i.e. \\texttt{pid} 1 connects to the workers. The workers do not connect to each other.\n",
       "\n",
       "\n",
       "\\item \\texttt{topology=:custom}: The \\texttt{launch} method of the cluster manager specifies the connection topology via fields \\texttt{ident} and \\texttt{connect\\_idents} in \\texttt{WorkerConfig}. A worker with a cluster manager identity \\texttt{ident} will connect to all workers specified in \\texttt{connect\\_idents}.\n",
       "\n",
       "\\end{itemize}\n",
       "\n",
       "\\item \\texttt{lazy}: Applicable only with \\texttt{topology=:all\\_to\\_all}. If \\texttt{true}, worker-worker connections are setup lazily, i.e. they are setup at the first instance of a remote call between workers. Default is true.\n",
       "\n",
       "\\end{itemize}\n",
       "Environment variables :\n",
       "\n",
       "If the master process fails to establish a connection with a newly launched worker within 60.0 seconds, the worker treats it as a fatal situation and terminates. This timeout can be controlled via environment variable \\texttt{JULIA\\_WORKER\\_TIMEOUT}. The value of \\texttt{JULIA\\_WORKER\\_TIMEOUT} on the master process specifies the number of seconds a newly launched worker waits for connection establishment.\n",
       "\n",
       "\\rule{\\textwidth}{1pt}\n",
       "\\begin{verbatim}\n",
       "addprocs(; kwargs...) -> List of process identifiers\n",
       "\\end{verbatim}\n",
       "Equivalent to \\texttt{addprocs(Sys.CPU\\_THREADS; kwargs...)}\n",
       "\n",
       "Note that workers do not run a \\texttt{.julia/config/startup.jl} startup script, nor do they synchronize their global state (such as global variables, new method definitions, and loaded modules) with any of the other running processes.\n",
       "\n",
       "\\rule{\\textwidth}{1pt}\n",
       "\\begin{verbatim}\n",
       "addprocs(np::Integer; restrict=true, kwargs...) -> List of process identifiers\n",
       "\\end{verbatim}\n",
       "Launches workers using the in-built \\texttt{LocalManager} which only launches workers on the local host. This can be used to take advantage of multiple cores. \\texttt{addprocs(4)} will add 4 processes on the local machine. If \\texttt{restrict} is \\texttt{true}, binding is restricted to \\texttt{127.0.0.1}. Keyword args \\texttt{dir}, \\texttt{exename}, \\texttt{exeflags}, \\texttt{topology}, \\texttt{lazy} and \\texttt{enable\\_threaded\\_blas} have the same effect as documented for \\texttt{addprocs(machines)}.\n",
       "\n"
      ],
      "text/markdown": [
       "```\n",
       "addprocs(manager::ClusterManager; kwargs...) -> List of process identifiers\n",
       "```\n",
       "\n",
       "Launches worker processes via the specified cluster manager.\n",
       "\n",
       "For example, Beowulf clusters are supported via a custom cluster manager implemented in the package `ClusterManagers.jl`.\n",
       "\n",
       "The number of seconds a newly launched worker waits for connection establishment from the master can be specified via variable `JULIA_WORKER_TIMEOUT` in the worker process's environment. Relevant only when using TCP/IP as transport.\n",
       "\n",
       "---\n",
       "\n",
       "```\n",
       "addprocs(machines; tunnel=false, sshflags=``, max_parallel=10, kwargs...) -> List of process identifiers\n",
       "```\n",
       "\n",
       "Add processes on remote machines via SSH. Requires `julia` to be installed in the same location on each node, or to be available via a shared file system.\n",
       "\n",
       "`machines` is a vector of machine specifications. Workers are started for each specification.\n",
       "\n",
       "A machine specification is either a string `machine_spec` or a tuple - `(machine_spec, count)`.\n",
       "\n",
       "`machine_spec` is a string of the form `[user@]host[:port] [bind_addr[:port]]`. `user` defaults to current user, `port` to the standard ssh port. If `[bind_addr[:port]]` is specified, other workers will connect to this worker at the specified `bind_addr` and `port`.\n",
       "\n",
       "`count` is the number of workers to be launched on the specified host. If specified as `:auto` it will launch as many workers as the number of CPU threads on the specific host.\n",
       "\n",
       "Keyword arguments:\n",
       "\n",
       "  * `tunnel`: if `true` then SSH tunneling will be used to connect to the worker from the master process. Default is `false`.\n",
       "  * `sshflags`: specifies additional ssh options, e.g. ```sshflags=`-i /home/foo/bar.pem````\n",
       "  * `max_parallel`: specifies the maximum number of workers connected to in parallel at a host. Defaults to 10.\n",
       "  * `dir`: specifies the working directory on the workers. Defaults to the host's current directory (as found by `pwd()`)\n",
       "  * `enable_threaded_blas`: if `true` then  BLAS will run on multiple threads in added processes. Default is `false`.\n",
       "  * `exename`: name of the `julia` executable. Defaults to `\"$(Sys.BINDIR)/julia\"` or `\"$(Sys.BINDIR)/julia-debug\"` as the case may be.\n",
       "  * `exeflags`: additional flags passed to the worker processes.\n",
       "  * `topology`: Specifies how the workers connect to each other. Sending a message between unconnected workers results in an error.\n",
       "\n",
       "      * `topology=:all_to_all`: All processes are connected to each other. The default.\n",
       "      * `topology=:master_worker`: Only the driver process, i.e. `pid` 1 connects to the workers. The workers do not connect to each other.\n",
       "      * `topology=:custom`: The `launch` method of the cluster manager specifies the connection topology via fields `ident` and `connect_idents` in `WorkerConfig`. A worker with a cluster manager identity `ident` will connect to all workers specified in `connect_idents`.\n",
       "  * `lazy`: Applicable only with `topology=:all_to_all`. If `true`, worker-worker connections are setup lazily, i.e. they are setup at the first instance of a remote call between workers. Default is true.\n",
       "\n",
       "Environment variables :\n",
       "\n",
       "If the master process fails to establish a connection with a newly launched worker within 60.0 seconds, the worker treats it as a fatal situation and terminates. This timeout can be controlled via environment variable `JULIA_WORKER_TIMEOUT`. The value of `JULIA_WORKER_TIMEOUT` on the master process specifies the number of seconds a newly launched worker waits for connection establishment.\n",
       "\n",
       "---\n",
       "\n",
       "```\n",
       "addprocs(; kwargs...) -> List of process identifiers\n",
       "```\n",
       "\n",
       "Equivalent to `addprocs(Sys.CPU_THREADS; kwargs...)`\n",
       "\n",
       "Note that workers do not run a `.julia/config/startup.jl` startup script, nor do they synchronize their global state (such as global variables, new method definitions, and loaded modules) with any of the other running processes.\n",
       "\n",
       "---\n",
       "\n",
       "```\n",
       "addprocs(np::Integer; restrict=true, kwargs...) -> List of process identifiers\n",
       "```\n",
       "\n",
       "Launches workers using the in-built `LocalManager` which only launches workers on the local host. This can be used to take advantage of multiple cores. `addprocs(4)` will add 4 processes on the local machine. If `restrict` is `true`, binding is restricted to `127.0.0.1`. Keyword args `dir`, `exename`, `exeflags`, `topology`, `lazy` and `enable_threaded_blas` have the same effect as documented for `addprocs(machines)`.\n"
      ],
      "text/plain": [
       "\u001b[36m  addprocs(manager::ClusterManager; kwargs...) -> List of process identifiers\u001b[39m\n",
       "\n",
       "  Launches worker processes via the specified cluster manager.\n",
       "\n",
       "  For example, Beowulf clusters are supported via a custom cluster manager\n",
       "  implemented in the package \u001b[36mClusterManagers.jl\u001b[39m.\n",
       "\n",
       "  The number of seconds a newly launched worker waits for connection\n",
       "  establishment from the master can be specified via variable\n",
       "  \u001b[36mJULIA_WORKER_TIMEOUT\u001b[39m in the worker process's environment. Relevant only when\n",
       "  using TCP/IP as transport.\n",
       "\n",
       "  ────────────────────────────────────────────────────────────────────────────\n",
       "\n",
       "\u001b[36m  addprocs(machines; tunnel=false, sshflags=``, max_parallel=10, kwargs...) -> List of process identifiers\u001b[39m\n",
       "\n",
       "  Add processes on remote machines via SSH. Requires \u001b[36mjulia\u001b[39m to be installed in\n",
       "  the same location on each node, or to be available via a shared file system.\n",
       "\n",
       "  \u001b[36mmachines\u001b[39m is a vector of machine specifications. Workers are started for each\n",
       "  specification.\n",
       "\n",
       "  A machine specification is either a string \u001b[36mmachine_spec\u001b[39m or a tuple -\n",
       "  \u001b[36m(machine_spec, count)\u001b[39m.\n",
       "\n",
       "  \u001b[36mmachine_spec\u001b[39m is a string of the form \u001b[36m[user@]host[:port] [bind_addr[:port]]\u001b[39m.\n",
       "  \u001b[36muser\u001b[39m defaults to current user, \u001b[36mport\u001b[39m to the standard ssh port. If\n",
       "  \u001b[36m[bind_addr[:port]]\u001b[39m is specified, other workers will connect to this worker\n",
       "  at the specified \u001b[36mbind_addr\u001b[39m and \u001b[36mport\u001b[39m.\n",
       "\n",
       "  \u001b[36mcount\u001b[39m is the number of workers to be launched on the specified host. If\n",
       "  specified as \u001b[36m:auto\u001b[39m it will launch as many workers as the number of CPU\n",
       "  threads on the specific host.\n",
       "\n",
       "  Keyword arguments:\n",
       "\n",
       "    •    \u001b[36mtunnel\u001b[39m: if \u001b[36mtrue\u001b[39m then SSH tunneling will be used to connect to the\n",
       "        worker from the master process. Default is \u001b[36mfalse\u001b[39m.\n",
       "\n",
       "    •    \u001b[36msshflags\u001b[39m: specifies additional ssh options, e.g. \u001b[36msshflags=`-i\n",
       "        /home/foo/bar.pem\u001b[39m`\n",
       "\n",
       "    •    \u001b[36mmax_parallel\u001b[39m: specifies the maximum number of workers connected to\n",
       "        in parallel at a host. Defaults to 10.\n",
       "\n",
       "    •    \u001b[36mdir\u001b[39m: specifies the working directory on the workers. Defaults to\n",
       "        the host's current directory (as found by \u001b[36mpwd()\u001b[39m)\n",
       "\n",
       "    •    \u001b[36menable_threaded_blas\u001b[39m: if \u001b[36mtrue\u001b[39m then BLAS will run on multiple\n",
       "        threads in added processes. Default is \u001b[36mfalse\u001b[39m.\n",
       "\n",
       "    •    \u001b[36mexename\u001b[39m: name of the \u001b[36mjulia\u001b[39m executable. Defaults to\n",
       "        \u001b[36m\"$(Sys.BINDIR)/julia\"\u001b[39m or \u001b[36m\"$(Sys.BINDIR)/julia-debug\"\u001b[39m as the case\n",
       "        may be.\n",
       "\n",
       "    •    \u001b[36mexeflags\u001b[39m: additional flags passed to the worker processes.\n",
       "\n",
       "    •    \u001b[36mtopology\u001b[39m: Specifies how the workers connect to each other. Sending\n",
       "        a message between unconnected workers results in an error.\n",
       "      \n",
       "          •    \u001b[36mtopology=:all_to_all\u001b[39m: All processes are connected to\n",
       "              each other. The default.\n",
       "      \n",
       "          •    \u001b[36mtopology=:master_worker\u001b[39m: Only the driver process, i.e.\n",
       "              \u001b[36mpid\u001b[39m 1 connects to the workers. The workers do not\n",
       "              connect to each other.\n",
       "      \n",
       "          •    \u001b[36mtopology=:custom\u001b[39m: The \u001b[36mlaunch\u001b[39m method of the cluster\n",
       "              manager specifies the connection topology via fields\n",
       "              \u001b[36mident\u001b[39m and \u001b[36mconnect_idents\u001b[39m in \u001b[36mWorkerConfig\u001b[39m. A worker with\n",
       "              a cluster manager identity \u001b[36mident\u001b[39m will connect to all\n",
       "              workers specified in \u001b[36mconnect_idents\u001b[39m.\n",
       "\n",
       "    •    \u001b[36mlazy\u001b[39m: Applicable only with \u001b[36mtopology=:all_to_all\u001b[39m. If \u001b[36mtrue\u001b[39m,\n",
       "        worker-worker connections are setup lazily, i.e. they are setup at\n",
       "        the first instance of a remote call between workers. Default is\n",
       "        true.\n",
       "\n",
       "  Environment variables :\n",
       "\n",
       "  If the master process fails to establish a connection with a newly launched\n",
       "  worker within 60.0 seconds, the worker treats it as a fatal situation and\n",
       "  terminates. This timeout can be controlled via environment variable\n",
       "  \u001b[36mJULIA_WORKER_TIMEOUT\u001b[39m. The value of \u001b[36mJULIA_WORKER_TIMEOUT\u001b[39m on the master\n",
       "  process specifies the number of seconds a newly launched worker waits for\n",
       "  connection establishment.\n",
       "\n",
       "  ────────────────────────────────────────────────────────────────────────────\n",
       "\n",
       "\u001b[36m  addprocs(; kwargs...) -> List of process identifiers\u001b[39m\n",
       "\n",
       "  Equivalent to \u001b[36maddprocs(Sys.CPU_THREADS; kwargs...)\u001b[39m\n",
       "\n",
       "  Note that workers do not run a \u001b[36m.julia/config/startup.jl\u001b[39m startup script, nor\n",
       "  do they synchronize their global state (such as global variables, new method\n",
       "  definitions, and loaded modules) with any of the other running processes.\n",
       "\n",
       "  ────────────────────────────────────────────────────────────────────────────\n",
       "\n",
       "\u001b[36m  addprocs(np::Integer; restrict=true, kwargs...) -> List of process identifiers\u001b[39m\n",
       "\n",
       "  Launches workers using the in-built \u001b[36mLocalManager\u001b[39m which only launches workers\n",
       "  on the local host. This can be used to take advantage of multiple cores.\n",
       "  \u001b[36maddprocs(4)\u001b[39m will add 4 processes on the local machine. If \u001b[36mrestrict\u001b[39m is \u001b[36mtrue\u001b[39m,\n",
       "  binding is restricted to \u001b[36m127.0.0.1\u001b[39m. Keyword args \u001b[36mdir\u001b[39m, \u001b[36mexename\u001b[39m, \u001b[36mexeflags\u001b[39m,\n",
       "  \u001b[36mtopology\u001b[39m, \u001b[36mlazy\u001b[39m and \u001b[36menable_threaded_blas\u001b[39m have the same effect as documented\n",
       "  for \u001b[36maddprocs(machines)\u001b[39m."
      ]
     },
     "execution_count": 3,
     "metadata": {},
     "output_type": "execute_result"
    }
   ],
   "source": [
    "?addprocs"
   ]
  },
  {
   "cell_type": "code",
   "execution_count": 6,
   "metadata": {},
   "outputs": [],
   "source": [
    "R = randn(10000, 10000);"
   ]
  },
  {
   "cell_type": "code",
   "execution_count": 7,
   "metadata": {},
   "outputs": [],
   "source": [
    "using BenchmarkTools"
   ]
  },
  {
   "cell_type": "code",
   "execution_count": 8,
   "metadata": {},
   "outputs": [
    {
     "data": {
      "text/plain": [
       "upsum (generic function with 1 method)"
      ]
     },
     "execution_count": 8,
     "metadata": {},
     "output_type": "execute_result"
    }
   ],
   "source": [
    "function upsum(M)\n",
    "    n = size(M, 1)\n",
    "    sum = zero(eltype(M))\n",
    "    for j = 2:n\n",
    "        @simd for i = 1:j-1\n",
    "            @inbounds sum = sum + M[i,j]\n",
    "        end\n",
    "    end\n",
    "    return sum\n",
    "end"
   ]
  },
  {
   "cell_type": "code",
   "execution_count": 9,
   "metadata": {},
   "outputs": [
    {
     "name": "stdout",
     "output_type": "stream",
     "text": [
      "  36.144 ms (1 allocation: 16 bytes)\n"
     ]
    },
    {
     "data": {
      "text/plain": [
       "13086.31084771352"
      ]
     },
     "execution_count": 9,
     "metadata": {},
     "output_type": "execute_result"
    }
   ],
   "source": [
    "@btime upsum(R)"
   ]
  },
  {
   "cell_type": "code",
   "execution_count": 25,
   "metadata": {},
   "outputs": [
    {
     "data": {
      "text/latex": [
       "\\begin{verbatim}\n",
       "@simd\n",
       "\\end{verbatim}\n",
       "Annotate a \\texttt{for} loop to allow the compiler to take extra liberties to allow loop re-ordering\n",
       "\n",
       "\\begin{quote}\n",
       "\\textbf{warning}\n",
       "\n",
       "Warning\n",
       "\n",
       "This feature is experimental and could change or disappear in future versions of Julia. Incorrect use of the \\texttt{@simd} macro may cause unexpected results.\n",
       "\n",
       "\\end{quote}\n",
       "The object iterated over in a \\texttt{@simd for} loop should be a one-dimensional range. By using \\texttt{@simd}, you are asserting several properties of the loop:\n",
       "\n",
       "\\begin{itemize}\n",
       "\\item It is safe to execute iterations in arbitrary or overlapping order, with special consideration for reduction variables.\n",
       "\n",
       "\n",
       "\\item Floating-point operations on reduction variables can be reordered, possibly causing different results than without \\texttt{@simd}.\n",
       "\n",
       "\\end{itemize}\n",
       "In many cases, Julia is able to automatically vectorize inner for loops without the use of \\texttt{@simd}. Using \\texttt{@simd} gives the compiler a little extra leeway to make it possible in more situations. In either case, your inner loop should have the following properties to allow vectorization:\n",
       "\n",
       "\\begin{itemize}\n",
       "\\item The loop must be an innermost loop\n",
       "\n",
       "\n",
       "\\item The loop body must be straight-line code. Therefore, \\href{@ref}{\\texttt{@inbounds}} is   currently needed for all array accesses. The compiler can sometimes turn   short \\texttt{\\&\\&}, \\texttt{||}, and \\texttt{?:} expressions into straight-line code if it is safe   to evaluate all operands unconditionally. Consider using the \\href{@ref}{\\texttt{ifelse}}   function instead of \\texttt{?:} in the loop if it is safe to do so.\n",
       "\n",
       "\n",
       "\\item Accesses must have a stride pattern and cannot be \"gathers\" (random-index   reads) or \"scatters\" (random-index writes).\n",
       "\n",
       "\n",
       "\\item The stride should be unit stride.\n",
       "\n",
       "\\end{itemize}\n",
       "\\begin{quote}\n",
       "\\textbf{note}\n",
       "\n",
       "Note\n",
       "\n",
       "The \\texttt{@simd} does not assert by default that the loop is completely free of loop-carried memory dependencies, which is an assumption that can easily be violated in generic code. If you are writing non-generic code, you can use \\texttt{@simd ivdep for ... end} to also assert that:\n",
       "\n",
       "\\end{quote}\n",
       "\\begin{itemize}\n",
       "\\item There exists no loop-carried memory dependencies\n",
       "\n",
       "\n",
       "\\item No iteration ever waits on a previous iteration to make forward progress.\n",
       "\n",
       "\\end{itemize}\n"
      ],
      "text/markdown": [
       "```\n",
       "@simd\n",
       "```\n",
       "\n",
       "Annotate a `for` loop to allow the compiler to take extra liberties to allow loop re-ordering\n",
       "\n",
       "!!! warning\n",
       "    This feature is experimental and could change or disappear in future versions of Julia. Incorrect use of the `@simd` macro may cause unexpected results.\n",
       "\n",
       "\n",
       "The object iterated over in a `@simd for` loop should be a one-dimensional range. By using `@simd`, you are asserting several properties of the loop:\n",
       "\n",
       "  * It is safe to execute iterations in arbitrary or overlapping order, with special consideration for reduction variables.\n",
       "  * Floating-point operations on reduction variables can be reordered, possibly causing different results than without `@simd`.\n",
       "\n",
       "In many cases, Julia is able to automatically vectorize inner for loops without the use of `@simd`. Using `@simd` gives the compiler a little extra leeway to make it possible in more situations. In either case, your inner loop should have the following properties to allow vectorization:\n",
       "\n",
       "  * The loop must be an innermost loop\n",
       "  * The loop body must be straight-line code. Therefore, [`@inbounds`](@ref) is   currently needed for all array accesses. The compiler can sometimes turn   short `&&`, `||`, and `?:` expressions into straight-line code if it is safe   to evaluate all operands unconditionally. Consider using the [`ifelse`](@ref)   function instead of `?:` in the loop if it is safe to do so.\n",
       "  * Accesses must have a stride pattern and cannot be \"gathers\" (random-index   reads) or \"scatters\" (random-index writes).\n",
       "  * The stride should be unit stride.\n",
       "\n",
       "!!! note\n",
       "    The `@simd` does not assert by default that the loop is completely free of loop-carried memory dependencies, which is an assumption that can easily be violated in generic code. If you are writing non-generic code, you can use `@simd ivdep for ... end` to also assert that:\n",
       "\n",
       "\n",
       "  * There exists no loop-carried memory dependencies\n",
       "  * No iteration ever waits on a previous iteration to make forward progress.\n"
      ],
      "text/plain": [
       "\u001b[36m  @simd\u001b[39m\n",
       "\n",
       "  Annotate a \u001b[36mfor\u001b[39m loop to allow the compiler to take extra liberties to allow\n",
       "  loop re-ordering\n",
       "\n",
       "\u001b[33m\u001b[1m  │ \u001b[22m\u001b[39m\u001b[33m\u001b[1mWarning\u001b[22m\u001b[39m\n",
       "\u001b[33m\u001b[1m  │\u001b[22m\u001b[39m\n",
       "\u001b[33m\u001b[1m  │\u001b[22m\u001b[39m  This feature is experimental and could change or disappear in\n",
       "\u001b[33m\u001b[1m  │\u001b[22m\u001b[39m  future versions of Julia. Incorrect use of the \u001b[36m@simd\u001b[39m macro may\n",
       "\u001b[33m\u001b[1m  │\u001b[22m\u001b[39m  cause unexpected results.\n",
       "\n",
       "  The object iterated over in a \u001b[36m@simd for\u001b[39m loop should be a one-dimensional\n",
       "  range. By using \u001b[36m@simd\u001b[39m, you are asserting several properties of the loop:\n",
       "\n",
       "    •    It is safe to execute iterations in arbitrary or overlapping\n",
       "        order, with special consideration for reduction variables.\n",
       "\n",
       "    •    Floating-point operations on reduction variables can be reordered,\n",
       "        possibly causing different results than without \u001b[36m@simd\u001b[39m.\n",
       "\n",
       "  In many cases, Julia is able to automatically vectorize inner for loops\n",
       "  without the use of \u001b[36m@simd\u001b[39m. Using \u001b[36m@simd\u001b[39m gives the compiler a little extra\n",
       "  leeway to make it possible in more situations. In either case, your inner\n",
       "  loop should have the following properties to allow vectorization:\n",
       "\n",
       "    •    The loop must be an innermost loop\n",
       "\n",
       "    •    The loop body must be straight-line code. Therefore, \u001b[36m@inbounds\u001b[39m is\n",
       "        currently needed for all array accesses. The compiler can\n",
       "        sometimes turn short \u001b[36m&&\u001b[39m, \u001b[36m||\u001b[39m, and \u001b[36m?:\u001b[39m expressions into straight-line\n",
       "        code if it is safe to evaluate all operands unconditionally.\n",
       "        Consider using the \u001b[36mifelse\u001b[39m function instead of \u001b[36m?:\u001b[39m in the loop if it\n",
       "        is safe to do so.\n",
       "\n",
       "    •    Accesses must have a stride pattern and cannot be \"gathers\"\n",
       "        (random-index reads) or \"scatters\" (random-index writes).\n",
       "\n",
       "    •    The stride should be unit stride.\n",
       "\n",
       "\u001b[36m\u001b[1m  │ \u001b[22m\u001b[39m\u001b[36m\u001b[1mNote\u001b[22m\u001b[39m\n",
       "\u001b[36m\u001b[1m  │\u001b[22m\u001b[39m\n",
       "\u001b[36m\u001b[1m  │\u001b[22m\u001b[39m  The \u001b[36m@simd\u001b[39m does not assert by default that the loop is completely\n",
       "\u001b[36m\u001b[1m  │\u001b[22m\u001b[39m  free of loop-carried memory dependencies, which is an assumption\n",
       "\u001b[36m\u001b[1m  │\u001b[22m\u001b[39m  that can easily be violated in generic code. If you are writing\n",
       "\u001b[36m\u001b[1m  │\u001b[22m\u001b[39m  non-generic code, you can use \u001b[36m@simd ivdep for ... end\u001b[39m to also\n",
       "\u001b[36m\u001b[1m  │\u001b[22m\u001b[39m  assert that:\n",
       "\n",
       "    •    There exists no loop-carried memory dependencies\n",
       "\n",
       "    •    No iteration ever waits on a previous iteration to make forward\n",
       "        progress."
      ]
     },
     "execution_count": 25,
     "metadata": {},
     "output_type": "execute_result"
    }
   ],
   "source": [
    "?@simd"
   ]
  },
  {
   "cell_type": "code",
   "execution_count": 26,
   "metadata": {},
   "outputs": [
    {
     "data": {
      "text/latex": [
       "\\begin{verbatim}\n",
       "@inbounds(blk)\n",
       "\\end{verbatim}\n",
       "Eliminates array bounds checking within expressions.\n",
       "\n",
       "In the example below the in-range check for referencing element \\texttt{i} of array \\texttt{A} is skipped to improve performance.\n",
       "\n",
       "\\begin{verbatim}\n",
       "function sum(A::AbstractArray)\n",
       "    r = zero(eltype(A))\n",
       "    for i = 1:length(A)\n",
       "        @inbounds r += A[i]\n",
       "    end\n",
       "    return r\n",
       "end\n",
       "\\end{verbatim}\n",
       "\\begin{quote}\n",
       "\\textbf{warning}\n",
       "\n",
       "Warning\n",
       "\n",
       "Using \\texttt{@inbounds} may return incorrect results/crashes/corruption for out-of-bounds indices. The user is responsible for checking it manually. Only use \\texttt{@inbounds} when it is certain from the information locally available that all accesses are in bounds.\n",
       "\n",
       "\\end{quote}\n"
      ],
      "text/markdown": [
       "```\n",
       "@inbounds(blk)\n",
       "```\n",
       "\n",
       "Eliminates array bounds checking within expressions.\n",
       "\n",
       "In the example below the in-range check for referencing element `i` of array `A` is skipped to improve performance.\n",
       "\n",
       "```julia\n",
       "function sum(A::AbstractArray)\n",
       "    r = zero(eltype(A))\n",
       "    for i = 1:length(A)\n",
       "        @inbounds r += A[i]\n",
       "    end\n",
       "    return r\n",
       "end\n",
       "```\n",
       "\n",
       "!!! warning\n",
       "    Using `@inbounds` may return incorrect results/crashes/corruption for out-of-bounds indices. The user is responsible for checking it manually. Only use `@inbounds` when it is certain from the information locally available that all accesses are in bounds.\n",
       "\n"
      ],
      "text/plain": [
       "\u001b[36m  @inbounds(blk)\u001b[39m\n",
       "\n",
       "  Eliminates array bounds checking within expressions.\n",
       "\n",
       "  In the example below the in-range check for referencing element \u001b[36mi\u001b[39m of array \u001b[36mA\u001b[39m\n",
       "  is skipped to improve performance.\n",
       "\n",
       "\u001b[36m  function sum(A::AbstractArray)\u001b[39m\n",
       "\u001b[36m      r = zero(eltype(A))\u001b[39m\n",
       "\u001b[36m      for i = 1:length(A)\u001b[39m\n",
       "\u001b[36m          @inbounds r += A[i]\u001b[39m\n",
       "\u001b[36m      end\u001b[39m\n",
       "\u001b[36m      return r\u001b[39m\n",
       "\u001b[36m  end\u001b[39m\n",
       "\n",
       "\u001b[33m\u001b[1m  │ \u001b[22m\u001b[39m\u001b[33m\u001b[1mWarning\u001b[22m\u001b[39m\n",
       "\u001b[33m\u001b[1m  │\u001b[22m\u001b[39m\n",
       "\u001b[33m\u001b[1m  │\u001b[22m\u001b[39m  Using \u001b[36m@inbounds\u001b[39m may return incorrect results/crashes/corruption\n",
       "\u001b[33m\u001b[1m  │\u001b[22m\u001b[39m  for out-of-bounds indices. The user is responsible for checking it\n",
       "\u001b[33m\u001b[1m  │\u001b[22m\u001b[39m  manually. Only use \u001b[36m@inbounds\u001b[39m when it is certain from the\n",
       "\u001b[33m\u001b[1m  │\u001b[22m\u001b[39m  information locally available that all accesses are in bounds."
      ]
     },
     "execution_count": 26,
     "metadata": {},
     "output_type": "execute_result"
    }
   ],
   "source": [
    "?@inbounds"
   ]
  },
  {
   "cell_type": "code",
   "execution_count": 10,
   "metadata": {},
   "outputs": [
    {
     "data": {
      "text/plain": [
       "5275.622800784276"
      ]
     },
     "execution_count": 10,
     "metadata": {},
     "output_type": "execute_result"
    }
   ],
   "source": [
    "using Base.Threads\n",
    "\n",
    "function upsum_threads(M)\n",
    "    n = size(M, 1)\n",
    "    chunks = nthreads()\n",
    "    sums = zeros(eltype(M), chunks)\n",
    "    chunkend = round.(Int, n * sqrt.((1:chunks) ./ chunks))\n",
    "    @assert minimum(diff(chunkend)) > 0\n",
    "    chunkstart = [2; chunkend[1:end-1] .+ 1]\n",
    "    @threads for job in 1:chunks\n",
    "        s = zero(eltype(M))\n",
    "        for i in chunkstart[job]:chunkend[job]\n",
    "            @simd for j in 1:(i-1)\n",
    "                @inbounds s += M[j, i]\n",
    "            end\n",
    "        end\n",
    "        sums[job] = s\n",
    "    end\n",
    "    return sum(sums)\n",
    "end\n",
    "\n",
    "R = randn(10000,10000)\n",
    "upsum_threads(R)\n"
   ]
  },
  {
   "cell_type": "code",
   "execution_count": 11,
   "metadata": {},
   "outputs": [
    {
     "data": {
      "text/plain": [
       "3"
      ]
     },
     "execution_count": 11,
     "metadata": {},
     "output_type": "execute_result"
    }
   ],
   "source": [
    "nworkers()"
   ]
  },
  {
   "cell_type": "code",
   "execution_count": null,
   "metadata": {},
   "outputs": [],
   "source": []
  }
 ],
 "metadata": {
  "kernelspec": {
   "display_name": "Julia 1.1.0",
   "language": "julia",
   "name": "julia-1.1"
  },
  "language_info": {
   "file_extension": ".jl",
   "mimetype": "application/julia",
   "name": "julia",
   "version": "1.1.0"
  }
 },
 "nbformat": 4,
 "nbformat_minor": 2
}
