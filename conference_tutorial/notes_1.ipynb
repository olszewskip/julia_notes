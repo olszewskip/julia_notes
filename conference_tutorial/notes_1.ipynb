{
 "cells": [
  {
   "cell_type": "code",
   "execution_count": 1,
   "metadata": {},
   "outputs": [],
   "source": [
    "using Statistics\n",
    "using Distributed\n",
    "using PyPlot"
   ]
  },
  {
   "cell_type": "code",
   "execution_count": 8,
   "metadata": {},
   "outputs": [
    {
     "name": "stderr",
     "output_type": "stream",
     "text": [
      "WARNING: redefining constant TRAIN\n",
      "WARNING: redefining constant TEST\n"
     ]
    }
   ],
   "source": [
    "\"\"\"\n",
    "Start Julia run with the following command:\n",
    "    julia -p auto\n",
    "\n",
    ".int file format specification:\n",
    "    * Each image is encoded by 1+28^2 bytes.\n",
    "    * Images are stored consecutively.\n",
    "    * First byte for each image is its class from 0 to 9\n",
    "    * Then each of remaining 28^2 has value from 0 to 255\n",
    "      and encodes one entry in a 28x28 image\n",
    "\"\"\"\n",
    "\n",
    "@everywhere const TRAIN = (class=UInt8[], image=Matrix{Int32}[])\n",
    "@everywhere const TEST = (class=UInt8[], image=Matrix{Int32}[])\n",
    "\n",
    "@everywhere for (filename, data) in [(\"mnist/mnist_train.int\", TRAIN),\n",
    "                                     (\"mnist/mnist_test.int\", TEST)]\n",
    "    open(filename) do f\n",
    "        while !eof(f)\n",
    "            c = read(f, UInt8)\n",
    "            v = read(f, 28^2)\n",
    "            push!(data.class, c)\n",
    "            push!(data.image, reshape(v, 28, 28))\n",
    "        end\n",
    "    end\n",
    "end"
   ]
  },
  {
   "cell_type": "code",
   "execution_count": 3,
   "metadata": {},
   "outputs": [
    {
     "data": {
      "image/png": "[encoded data removed]",
      "text/plain": [
       "Figure(PyObject <Figure size 640x480 with 1 Axes>)"
      ]
     },
     "metadata": {},
     "output_type": "display_data"
    },
    {
     "data": {
      "text/plain": [
       "PyObject <matplotlib.image.AxesImage object at 0x7f0e206b1e10>"
      ]
     },
     "execution_count": 3,
     "metadata": {},
     "output_type": "execute_result"
    }
   ],
   "source": [
    "imshow(TRAIN.image[1])"
   ]
  },
  {
   "cell_type": "code",
   "execution_count": 4,
   "metadata": {},
   "outputs": [
    {
     "data": {
      "image/png": "[encoded data removed]",
      "text/plain": [
       "Figure(PyObject <Figure size 640x480 with 1 Axes>)"
      ]
     },
     "metadata": {},
     "output_type": "display_data"
    },
    {
     "data": {
      "text/plain": [
       "PyObject <matplotlib.image.AxesImage object at 0x7f0e185109e8>"
      ]
     },
     "execution_count": 4,
     "metadata": {},
     "output_type": "execute_result"
    }
   ],
   "source": [
    "imshow(TRAIN.image[end])"
   ]
  },
  {
   "cell_type": "code",
   "execution_count": 6,
   "metadata": {},
   "outputs": [
    {
     "data": {
      "text/plain": [
       "3"
      ]
     },
     "execution_count": 6,
     "metadata": {},
     "output_type": "execute_result"
    }
   ],
   "source": [
    "addprocs(3)\n",
    "nworkers()"
   ]
  },
  {
   "cell_type": "code",
   "execution_count": 12,
   "metadata": {},
   "outputs": [
    {
     "name": "stdout",
     "output_type": "stream",
     "text": [
      "search: \u001b[0m\u001b[1mR\u001b[22m\u001b[0m\u001b[1me\u001b[22m\u001b[0m\u001b[1mf\u001b[22m Weak\u001b[0m\u001b[1mR\u001b[22m\u001b[0m\u001b[1me\u001b[22m\u001b[0m\u001b[1mf\u001b[22m p\u001b[0m\u001b[1mr\u001b[22m\u001b[0m\u001b[1me\u001b[22mv\u001b[0m\u001b[1mf\u001b[22mloat Undef\u001b[0m\u001b[1mR\u001b[22m\u001b[0m\u001b[1me\u001b[22m\u001b[0m\u001b[1mf\u001b[22mError Global\u001b[0m\u001b[1mR\u001b[22m\u001b[0m\u001b[1me\u001b[22m\u001b[0m\u001b[1mf\u001b[22m plot_wi\u001b[0m\u001b[1mr\u001b[22m\u001b[0m\u001b[1me\u001b[22m\u001b[0m\u001b[1mf\u001b[22mrame \u001b[0m\u001b[1mr\u001b[22mcd\u001b[0m\u001b[1me\u001b[22m\u001b[0m\u001b[1mf\u001b[22maults\n",
      "\n"
     ]
    },
    {
     "data": {
      "text/latex": [
       "\\begin{verbatim}\n",
       "Ref{T}\n",
       "\\end{verbatim}\n",
       "An object that safely references data of type \\texttt{T}. This type is guaranteed to point to valid, Julia-allocated memory of the correct type. The underlying data is protected from freeing by the garbage collector as long as the \\texttt{Ref} itself is referenced.\n",
       "\n",
       "In Julia, \\texttt{Ref} objects are dereferenced (loaded or stored) with \\texttt{[]}.\n",
       "\n",
       "Creation of a \\texttt{Ref} to a value \\texttt{x} of type \\texttt{T} is usually written \\texttt{Ref(x)}. Additionally, for creating interior pointers to containers (such as Array or Ptr), it can be written \\texttt{Ref(a, i)} for creating a reference to the \\texttt{i}-th element of \\texttt{a}.\n",
       "\n",
       "When passed as a \\texttt{ccall} argument (either as a \\texttt{Ptr} or \\texttt{Ref} type), a \\texttt{Ref} object will be converted to a native pointer to the data it references.\n",
       "\n",
       "There is no invalid (NULL) \\texttt{Ref} in Julia, but a \\texttt{C\\_NULL} instance of \\texttt{Ptr} can be passed to a \\texttt{ccall} Ref argument.\n",
       "\n"
      ],
      "text/markdown": [
       "```\n",
       "Ref{T}\n",
       "```\n",
       "\n",
       "An object that safely references data of type `T`. This type is guaranteed to point to valid, Julia-allocated memory of the correct type. The underlying data is protected from freeing by the garbage collector as long as the `Ref` itself is referenced.\n",
       "\n",
       "In Julia, `Ref` objects are dereferenced (loaded or stored) with `[]`.\n",
       "\n",
       "Creation of a `Ref` to a value `x` of type `T` is usually written `Ref(x)`. Additionally, for creating interior pointers to containers (such as Array or Ptr), it can be written `Ref(a, i)` for creating a reference to the `i`-th element of `a`.\n",
       "\n",
       "When passed as a `ccall` argument (either as a `Ptr` or `Ref` type), a `Ref` object will be converted to a native pointer to the data it references.\n",
       "\n",
       "There is no invalid (NULL) `Ref` in Julia, but a `C_NULL` instance of `Ptr` can be passed to a `ccall` Ref argument.\n"
      ],
      "text/plain": [
       "\u001b[36m  Ref{T}\u001b[39m\n",
       "\n",
       "  An object that safely references data of type \u001b[36mT\u001b[39m. This type is guaranteed to\n",
       "  point to valid, Julia-allocated memory of the correct type. The underlying\n",
       "  data is protected from freeing by the garbage collector as long as the \u001b[36mRef\u001b[39m\n",
       "  itself is referenced.\n",
       "\n",
       "  In Julia, \u001b[36mRef\u001b[39m objects are dereferenced (loaded or stored) with \u001b[36m[]\u001b[39m.\n",
       "\n",
       "  Creation of a \u001b[36mRef\u001b[39m to a value \u001b[36mx\u001b[39m of type \u001b[36mT\u001b[39m is usually written \u001b[36mRef(x)\u001b[39m.\n",
       "  Additionally, for creating interior pointers to containers (such as Array or\n",
       "  Ptr), it can be written \u001b[36mRef(a, i)\u001b[39m for creating a reference to the \u001b[36mi\u001b[39m-th\n",
       "  element of \u001b[36ma\u001b[39m.\n",
       "\n",
       "  When passed as a \u001b[36mccall\u001b[39m argument (either as a \u001b[36mPtr\u001b[39m or \u001b[36mRef\u001b[39m type), a \u001b[36mRef\u001b[39m object\n",
       "  will be converted to a native pointer to the data it references.\n",
       "\n",
       "  There is no invalid (NULL) \u001b[36mRef\u001b[39m in Julia, but a \u001b[36mC_NULL\u001b[39m instance of \u001b[36mPtr\u001b[39m can be\n",
       "  passed to a \u001b[36mccall\u001b[39m Ref argument."
      ]
     },
     "execution_count": 12,
     "metadata": {},
     "output_type": "execute_result"
    }
   ],
   "source": [
    "?Ref"
   ]
  },
  {
   "cell_type": "code",
   "execution_count": null,
   "metadata": {},
   "outputs": [],
   "source": [
    "@everywhere function distance(a, b)\n",
    "    d = 0\n",
    "    @simd for i in 1:length(a)\n",
    "        @inbounds d += (a[i] - b[i]) ^ 2\n",
    "    end\n",
    "    d\n",
    "end\n",
    "\n",
    "@everywhere function knnacc(i)\n",
    "    dist = distance.(Ref(TEST.image[i]), TRAIN.image)\n",
    "    knn_loc = partialsortperm(dist, 1:20)\n",
    "    TRAIN.class[knn_loc]\n",
    "end\n",
    "\n",
    "@time neivec = pmap(knnacc, axes(TEST.class, 1))\n",
    "const NEIGHBOURS = reduce(hcat, neivec)\n",
    "\n",
    "function acc(classes, testclass)\n",
    "    v = zeros(Int, 10)\n",
    "    for c in classes\n",
    "        v[c + 1] += 1\n",
    "    end\n",
    "    m = maximum(v)\n",
    "    (v[testclass + 1] == m) / count(==(m), v)\n",
    "end\n",
    "\n",
    "function evalk(k)\n",
    "    mean(axes(NEIGHBOURS, 2)) do i\n",
    "        classes = view(NEIGHBOURS, 1:k, i)\n",
    "        testclass = TEST.class[i]\n",
    "        acc(classes, testclass)\n",
    "    end\n",
    "end\n",
    "\n",
    "plot(evalk.(axes(NEIGHBOURS, 1)))\n"
   ]
  },
  {
   "cell_type": "code",
   "execution_count": 13,
   "metadata": {},
   "outputs": [
    {
     "name": "stdout",
     "output_type": "stream",
     "text": [
      "search: \u001b[0m\u001b[1ma\u001b[22m\u001b[0m\u001b[1mx\u001b[22m\u001b[0m\u001b[1me\u001b[22m\u001b[0m\u001b[1ms\u001b[22m \u001b[0m\u001b[1mA\u001b[22m\u001b[0m\u001b[1mx\u001b[22m\u001b[0m\u001b[1me\u001b[22m\u001b[0m\u001b[1ms\u001b[22m3D del\u001b[0m\u001b[1ma\u001b[22m\u001b[0m\u001b[1mx\u001b[22m\u001b[0m\u001b[1me\u001b[22m\u001b[0m\u001b[1ms\u001b[22m \u001b[0m\u001b[1ma\u001b[22m\u001b[0m\u001b[1mx\u001b[22mvlin\u001b[0m\u001b[1me\u001b[22m \u001b[0m\u001b[1ma\u001b[22m\u001b[0m\u001b[1mx\u001b[22mhlin\u001b[0m\u001b[1me\u001b[22m C\u001b[0m\u001b[1ma\u001b[22mpturedE\u001b[0m\u001b[1mx\u001b[22mc\u001b[0m\u001b[1me\u001b[22mption\n",
      "\n"
     ]
    },
    {
     "data": {
      "text/latex": [
       "\\begin{verbatim}\n",
       "axes(A, d)\n",
       "\\end{verbatim}\n",
       "Return the valid range of indices for array \\texttt{A} along dimension \\texttt{d}.\n",
       "\n",
       "See also \\href{@ref}{\\texttt{size}}, and the manual chapter on \\href{@ref man-custom-indices}{arrays with custom indices}.\n",
       "\n",
       "\\section{Examples}\n",
       "\\begin{verbatim}\n",
       "julia> A = fill(1, (5,6,7));\n",
       "\n",
       "julia> axes(A, 2)\n",
       "Base.OneTo(6)\n",
       "\\end{verbatim}\n",
       "\\rule{\\textwidth}{1pt}\n",
       "\\begin{verbatim}\n",
       "axes(A)\n",
       "\\end{verbatim}\n",
       "Return the tuple of valid indices for array \\texttt{A}.\n",
       "\n",
       "\\section{Examples}\n",
       "\\begin{verbatim}\n",
       "julia> A = fill(1, (5,6,7));\n",
       "\n",
       "julia> axes(A)\n",
       "(Base.OneTo(5), Base.OneTo(6), Base.OneTo(7))\n",
       "\\end{verbatim}\n"
      ],
      "text/markdown": [
       "```\n",
       "axes(A, d)\n",
       "```\n",
       "\n",
       "Return the valid range of indices for array `A` along dimension `d`.\n",
       "\n",
       "See also [`size`](@ref), and the manual chapter on [arrays with custom indices](@ref man-custom-indices).\n",
       "\n",
       "# Examples\n",
       "\n",
       "```jldoctest\n",
       "julia> A = fill(1, (5,6,7));\n",
       "\n",
       "julia> axes(A, 2)\n",
       "Base.OneTo(6)\n",
       "```\n",
       "\n",
       "---\n",
       "\n",
       "```\n",
       "axes(A)\n",
       "```\n",
       "\n",
       "Return the tuple of valid indices for array `A`.\n",
       "\n",
       "# Examples\n",
       "\n",
       "```jldoctest\n",
       "julia> A = fill(1, (5,6,7));\n",
       "\n",
       "julia> axes(A)\n",
       "(Base.OneTo(5), Base.OneTo(6), Base.OneTo(7))\n",
       "```\n"
      ],
      "text/plain": [
       "\u001b[36m  axes(A, d)\u001b[39m\n",
       "\n",
       "  Return the valid range of indices for array \u001b[36mA\u001b[39m along dimension \u001b[36md\u001b[39m.\n",
       "\n",
       "  See also \u001b[36msize\u001b[39m, and the manual chapter on arrays with custom indices.\n",
       "\n",
       "\u001b[1m  Examples\u001b[22m\n",
       "\u001b[1m  ≡≡≡≡≡≡≡≡≡≡\u001b[22m\n",
       "\n",
       "\u001b[36m  julia> A = fill(1, (5,6,7));\u001b[39m\n",
       "\u001b[36m  \u001b[39m\n",
       "\u001b[36m  julia> axes(A, 2)\u001b[39m\n",
       "\u001b[36m  Base.OneTo(6)\u001b[39m\n",
       "\n",
       "  ────────────────────────────────────────────────────────────────────────────\n",
       "\n",
       "\u001b[36m  axes(A)\u001b[39m\n",
       "\n",
       "  Return the tuple of valid indices for array \u001b[36mA\u001b[39m.\n",
       "\n",
       "\u001b[1m  Examples\u001b[22m\n",
       "\u001b[1m  ≡≡≡≡≡≡≡≡≡≡\u001b[22m\n",
       "\n",
       "\u001b[36m  julia> A = fill(1, (5,6,7));\u001b[39m\n",
       "\u001b[36m  \u001b[39m\n",
       "\u001b[36m  julia> axes(A)\u001b[39m\n",
       "\u001b[36m  (Base.OneTo(5), Base.OneTo(6), Base.OneTo(7))\u001b[39m"
      ]
     },
     "execution_count": 13,
     "metadata": {},
     "output_type": "execute_result"
    }
   ],
   "source": [
    "?axes"
   ]
  },
  {
   "cell_type": "code",
   "execution_count": null,
   "metadata": {},
   "outputs": [],
   "source": []
  }
 ],
 "metadata": {
  "kernelspec": {
   "display_name": "Julia 1.1.0",
   "language": "julia",
   "name": "julia-1.1"
  },
  "language_info": {
   "file_extension": ".jl",
   "mimetype": "application/julia",
   "name": "julia",
   "version": "1.1.0"
  }
 },
 "nbformat": 4,
 "nbformat_minor": 2
}
