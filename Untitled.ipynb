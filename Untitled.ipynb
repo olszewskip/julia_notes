{
 "cells": [
  {
   "cell_type": "code",
   "execution_count": 2,
   "metadata": {},
   "outputs": [],
   "source": [
    "using Zygote\n",
    "using SparseArrays"
   ]
  },
  {
   "cell_type": "code",
   "execution_count": null,
   "metadata": {},
   "outputs": [],
   "source": [
    "sp_arr = sprand(4, 4, 0.7);\n",
    "sp_vec = sprand(4, 0.8);"
   ]
  },
  {
   "cell_type": "code",
   "execution_count": 19,
   "metadata": {},
   "outputs": [
    {
     "data": {
      "text/plain": [
       "4-element Array{Float64,1}:\n",
       " 0.7464877235095595 \n",
       " 0.5261035099403686 \n",
       " 0.28518722051704515\n",
       " 0.6274318826026632 "
      ]
     },
     "execution_count": 19,
     "metadata": {},
     "output_type": "execute_result"
    }
   ],
   "source": [
    "Vector(sp_vec)"
   ]
  },
  {
   "cell_type": "code",
   "execution_count": 18,
   "metadata": {},
   "outputs": [
    {
     "data": {
      "text/plain": [
       "4×4 Array{Float64,2}:\n",
       " 0.0        0.264724   0.0        0.0     \n",
       " 0.0950938  0.626932   0.0471916  0.713517\n",
       " 0.812613   0.0        0.81019    0.749442\n",
       " 0.430767   0.0188529  0.209535   0.0     "
      ]
     },
     "execution_count": 18,
     "metadata": {},
     "output_type": "execute_result"
    }
   ],
   "source": [
    "Array(sp_arr)"
   ]
  },
  {
   "cell_type": "code",
   "execution_count": 16,
   "metadata": {},
   "outputs": [
    {
     "data": {
      "text/plain": [
       "(\n",
       "  [1, 1]  =  0.746488\n",
       "  [1, 2]  =  0.526104\n",
       "  [1, 3]  =  0.285187\n",
       "  [1, 4]  =  0.627432,)"
      ]
     },
     "execution_count": 16,
     "metadata": {},
     "output_type": "execute_result"
    }
   ],
   "source": [
    "gradient( x -> (x * sp_vec)[1], sp_arr)"
   ]
  },
  {
   "cell_type": "code",
   "execution_count": 36,
   "metadata": {},
   "outputs": [],
   "source": [
    "result, back = pullback(*, sp_arr, sp_vec);"
   ]
  },
  {
   "cell_type": "code",
   "execution_count": 37,
   "metadata": {},
   "outputs": [
    {
     "data": {
      "text/plain": [
       "mul (generic function with 1 method)"
      ]
     },
     "execution_count": 37,
     "metadata": {},
     "output_type": "execute_result"
    }
   ],
   "source": [
    "mul(a, b) = a * b"
   ]
  },
  {
   "cell_type": "code",
   "execution_count": 42,
   "metadata": {},
   "outputs": [
    {
     "data": {
      "text/plain": [
       "4×4 Array{Float64,2}:\n",
       " 0.746488  0.526104  0.285187  0.627432\n",
       " 0.746488  0.526104  0.285187  0.627432\n",
       " 0.746488  0.526104  0.285187  0.627432\n",
       " 0.746488  0.526104  0.285187  0.627432"
      ]
     },
     "execution_count": 42,
     "metadata": {},
     "output_type": "execute_result"
    }
   ],
   "source": [
    "ones(4))[1])"
   ]
  },
  {
   "cell_type": "code",
   "execution_count": 39,
   "metadata": {},
   "outputs": [
    {
     "data": {
      "text/plain": [
       "4×4 SparseMatrixCSC{Float64,Int64} with 11 stored entries:\n",
       "  [2, 1]  =  0.0950938\n",
       "  [3, 1]  =  0.812613\n",
       "  [4, 1]  =  0.430767\n",
       "  [1, 2]  =  0.264724\n",
       "  [2, 2]  =  0.626932\n",
       "  [4, 2]  =  0.0188529\n",
       "  [2, 3]  =  0.0471916\n",
       "  [3, 3]  =  0.81019\n",
       "  [4, 3]  =  0.209535\n",
       "  [2, 4]  =  0.713517\n",
       "  [3, 4]  =  0.749442"
      ]
     },
     "execution_count": 39,
     "metadata": {},
     "output_type": "execute_result"
    }
   ],
   "source": [
    "sp_arr_ = copy(sp_arr)"
   ]
  },
  {
   "cell_type": "code",
   "execution_count": null,
   "metadata": {},
   "outputs": [],
   "source": [
    "Zygote.@adjoint function mul(m::AbstractSparseMatrix{}, x::AbstractVector)\n",
    "    I = \n",
    "    for (col_index, (begin_, end_)) in enumerate(zip(m.colptr[1:end-1], m.colptr[2:end]))\n",
    "        for prt in begin_:end_-1\n",
    "            row_index = m.rowval[ptr]"
   ]
  }
 ],
 "metadata": {
  "kernelspec": {
   "display_name": "Julia 1.3.1",
   "language": "julia",
   "name": "julia-1.3"
  },
  "language_info": {
   "file_extension": ".jl",
   "mimetype": "application/julia",
   "name": "julia",
   "version": "1.3.1"
  }
 },
 "nbformat": 4,
 "nbformat_minor": 2
}
