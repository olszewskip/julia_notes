{
 "cells": [
  {
   "cell_type": "markdown",
   "metadata": {},
   "source": [
    "<br/>\n",
    "\n",
    "# Intro to Flux.jl"
   ]
  },
  {
   "cell_type": "markdown",
   "metadata": {},
   "source": [
    "In the previous course, we learned how machine learning allows us to classify data as apples or bananas with a single neuron. However, some of those details are pretty fiddly! Fortunately, Julia has a powerful package that does much of the heavy lifting for us, called [`Flux.jl`](https://fluxml.github.io/).\n",
    "\n",
    "*Using `Flux` will make classifying data and images much easier!*"
   ]
  },
  {
   "cell_type": "markdown",
   "metadata": {},
   "source": [
    "## Using `Flux.jl`\n",
    "\n",
    "We can get started with `Flux.jl` via:"
   ]
  },
  {
   "cell_type": "code",
   "execution_count": 1,
   "metadata": {},
   "outputs": [
    {
     "name": "stderr",
     "output_type": "stream",
     "text": [
      "┌ Info: Recompiling stale cache file /home/olszewskip/.julia/compiled/v1.1/Plots/ld3vC.ji for Plots [91a5bcdd-55d7-5caf-9e0b-520d859cae80]\n",
      "└ @ Base loading.jl:1184\n"
     ]
    }
   ],
   "source": [
    "# using Pkg; Pkg.add([\"Flux\", \"Plots\"])\n",
    "using Flux, Plots"
   ]
  },
  {
   "cell_type": "markdown",
   "metadata": {},
   "source": [
    "#### Helpful built-in functions\n",
    "\n",
    "When working we'll `Flux`, we'll make use of built-in functionality that we've had to create for ourselves in previous notebooks.\n",
    "\n",
    "For example, the sigmoid function, σ, that we have been using already lives within `Flux`:"
   ]
  },
  {
   "cell_type": "code",
   "execution_count": 3,
   "metadata": {},
   "outputs": [
    {
     "name": "stdout",
     "output_type": "stream",
     "text": [
      "\"\u001b[36mσ\u001b[39m\" can be typed by \u001b[36m\\sigma<tab>\u001b[39m\n",
      "\n",
      "search: \u001b[0m\u001b[1mσ\u001b[22m log\u001b[0m\u001b[1mσ\u001b[22m\n",
      "\n"
     ]
    },
    {
     "data": {
      "text/latex": [
       "\\begin{verbatim}\n",
       "σ(x) = 1 / (1 + exp(-x))\n",
       "\\end{verbatim}\n",
       "Classic \\href{https://en.wikipedia.org/wiki/Sigmoid_function}{sigmoid} activation function.\n",
       "\n"
      ],
      "text/markdown": [
       "```\n",
       "σ(x) = 1 / (1 + exp(-x))\n",
       "```\n",
       "\n",
       "Classic [sigmoid](https://en.wikipedia.org/wiki/Sigmoid_function) activation function.\n"
      ],
      "text/plain": [
       "\u001b[36m  σ(x) = 1 / (1 + exp(-x))\u001b[39m\n",
       "\n",
       "  Classic sigmoid (https://en.wikipedia.org/wiki/Sigmoid_function) activation\n",
       "  function."
      ]
     },
     "execution_count": 3,
     "metadata": {},
     "output_type": "execute_result"
    }
   ],
   "source": [
    "?σ"
   ]
  },
  {
   "cell_type": "code",
   "execution_count": 5,
   "metadata": {},
   "outputs": [
    {
     "data": {
      "text/plain": [
       "0.5"
      ]
     },
     "execution_count": 5,
     "metadata": {},
     "output_type": "execute_result"
    }
   ],
   "source": [
    "σ(0)"
   ]
  },
  {
   "cell_type": "code",
   "execution_count": 4,
   "metadata": {},
   "outputs": [
    {
     "ename": "MethodError",
     "evalue": "MethodError: no method matching Float64(::Array{Float64,1})\nClosest candidates are:\n  Float64(!Matched::Int8) at float.jl:60\n  Float64(!Matched::Int16) at float.jl:60\n  Float64(!Matched::Int32) at float.jl:60\n  ...",
     "output_type": "error",
     "traceback": [
      "MethodError: no method matching Float64(::Array{Float64,1})\nClosest candidates are:\n  Float64(!Matched::Int8) at float.jl:60\n  Float64(!Matched::Int16) at float.jl:60\n  Float64(!Matched::Int32) at float.jl:60\n  ...",
      "",
      "Stacktrace:",
      " [1] (::getfield(Plots, Symbol(\"##104#105\")){Symbol})(::Array{Float64,1}) at /home/olszewskip/.julia/packages/Plots/h3o4c/src/axes.jl:152",
      " [2] _broadcast_getindex at ./broadcast.jl:578 [inlined]",
      " [3] (::getfield(Base.Broadcast, Symbol(\"##19#20\")){Base.Broadcast.Broadcasted{Base.Broadcast.Style{Tuple},Nothing,getfield(Plots, Symbol(\"##104#105\")){Symbol},Tuple{Tuple{Array{Float64,1},Array{Float64,1}}}}})(::Int64) at ./broadcast.jl:953",
      " [4] ntuple at ./tuple.jl:160 [inlined]",
      " [5] copy at ./broadcast.jl:953 [inlined]",
      " [6] materialize(::Base.Broadcast.Broadcasted{Base.Broadcast.Style{Tuple},Nothing,getfield(Plots, Symbol(\"##104#105\")){Symbol},Tuple{Tuple{Array{Float64,1},Array{Float64,1}}}}) at ./broadcast.jl:753",
      " [7] _scaled_adapted_grid(::Function, ::Symbol, ::Symbol, ::Int64, ::Int64) at /home/olszewskip/.julia/packages/Plots/h3o4c/src/series.jl:531",
      " [8] macro expansion at /home/olszewskip/.julia/packages/Plots/h3o4c/src/series.jl:518 [inlined]",
      " [9] apply_recipe(::Dict{Symbol,Any}, ::Function, ::Int64, ::Int64) at /home/olszewskip/.julia/packages/RecipesBase/zBoFG/src/RecipesBase.jl:275",
      " [10] _process_userrecipes(::Plots.Plot{Plots.GRBackend}, ::Dict{Symbol,Any}, ::Tuple{typeof(σ),Int64,Int64}) at /home/olszewskip/.julia/packages/Plots/h3o4c/src/pipeline.jl:83",
      " [11] _plot!(::Plots.Plot{Plots.GRBackend}, ::Dict{Symbol,Any}, ::Tuple{typeof(σ),Int64,Int64}) at /home/olszewskip/.julia/packages/Plots/h3o4c/src/plot.jl:178",
      " [12] #plot#133(::Base.Iterators.Pairs{Symbol,String,Tuple{Symbol,Symbol,Symbol},NamedTuple{(:label, :xlabel, :ylabel),Tuple{String,String,String}}}, ::Function, ::Function, ::Vararg{Any,N} where N) at /home/olszewskip/.julia/packages/Plots/h3o4c/src/plot.jl:57",
      " [13] (::getfield(RecipesBase, Symbol(\"#kw##plot\")))(::NamedTuple{(:label, :xlabel, :ylabel),Tuple{String,String,String}}, ::typeof(plot), ::Function, ::Int64, ::Vararg{Int64,N} where N) at ./none:0",
      " [14] top-level scope at In[4]:1"
     ]
    }
   ],
   "source": [
    "plot(σ, -5, 5, label=\"\\\\sigma\", xlabel=\"x\", ylabel=\"\\\\sigma\\\\(x\\\\)\")"
   ]
  },
  {
   "cell_type": "markdown",
   "metadata": {},
   "source": [
    "Importantly, `Flux` allows us to *automatically create neurons* with the **`Dense`** function. For example, in the last notebook, we were looking at a neuron with 2 inputs and 1 output:\n",
    "\n",
    " <img src=\"data/single-neuron.png\" alt=\"Drawing\" style=\"width: 500px;\"/>\n",
    "\n",
    " We could create a neuron with two inputs and one output via"
   ]
  },
  {
   "cell_type": "code",
   "execution_count": 9,
   "metadata": {},
   "outputs": [
    {
     "data": {
      "text/plain": [
       "Dense(2, 1, NNlib.σ)"
      ]
     },
     "execution_count": 9,
     "metadata": {},
     "output_type": "execute_result"
    }
   ],
   "source": [
    "model = Dense(2, 1, σ)"
   ]
  },
  {
   "cell_type": "markdown",
   "metadata": {},
   "source": [
    "This `model` object comes with places to store weights and biases:"
   ]
  },
  {
   "cell_type": "code",
   "execution_count": 10,
   "metadata": {},
   "outputs": [
    {
     "data": {
      "text/plain": [
       "Tracked 1×2 Array{Float32,2}:\n",
       " -1.21282  -1.33756"
      ]
     },
     "execution_count": 10,
     "metadata": {},
     "output_type": "execute_result"
    }
   ],
   "source": [
    "model.W"
   ]
  },
  {
   "cell_type": "code",
   "execution_count": 11,
   "metadata": {},
   "outputs": [
    {
     "data": {
      "text/plain": [
       "Tracked 1-element Array{Float32,1}:\n",
       " 0.0f0"
      ]
     },
     "execution_count": 11,
     "metadata": {},
     "output_type": "execute_result"
    }
   ],
   "source": [
    "model.b"
   ]
  },
  {
   "cell_type": "code",
   "execution_count": 12,
   "metadata": {},
   "outputs": [
    {
     "data": {
      "text/plain": [
       "TrackedArray{…,Array{Float32,2}}"
      ]
     },
     "execution_count": 12,
     "metadata": {},
     "output_type": "execute_result"
    }
   ],
   "source": [
    "typeof(model.W)"
   ]
  },
  {
   "cell_type": "code",
   "execution_count": 13,
   "metadata": {},
   "outputs": [
    {
     "data": {
      "text/plain": [
       "Tracked 1-element Array{Float32,1}:\n",
       " 0.12760182f0"
      ]
     },
     "execution_count": 13,
     "metadata": {},
     "output_type": "execute_result"
    }
   ],
   "source": [
    "x = rand(2)\n",
    "model(x)"
   ]
  },
  {
   "cell_type": "code",
   "execution_count": 15,
   "metadata": {},
   "outputs": [
    {
     "data": {
      "text/plain": [
       "Tracked 1-element Array{Float64,1}:\n",
       " 0.12760182480567697"
      ]
     },
     "execution_count": 15,
     "metadata": {},
     "output_type": "execute_result"
    }
   ],
   "source": [
    "σ.(model.W * x + model.b)"
   ]
  },
  {
   "cell_type": "markdown",
   "metadata": {},
   "source": [
    "Unlike in previous notebooks, note that `W` is no longer a `Vector` (1D `Array`) and `b` is no longer a number! Both are now stored in so-called `TrackedArray`s and `W` is effectively being treated as a matrix with a single row. We'll see why below."
   ]
  },
  {
   "cell_type": "markdown",
   "metadata": {},
   "source": [
    "Other helpful built-in functionality includes ways to automatically calculate gradients and also the cost function that we've used in the previous course -\n",
    "\n",
    "$$L(w, b) = \\sum_i \\left[y_i - f(x_i, w, b) \\right]^2$$\n",
    "\n",
    "If you normalize by dividing by the total number of elements, this becomes the \"mean square error\" function, which in `Flux` is named **`Flux.mse`**."
   ]
  },
  {
   "cell_type": "code",
   "execution_count": null,
   "metadata": {},
   "outputs": [],
   "source": [
    "methods(Flux.mse)"
   ]
  },
  {
   "cell_type": "markdown",
   "metadata": {},
   "source": [
    "### Bringing it all together\n",
    "\n",
    "Load the datasets that contain the features of the apple and banana images."
   ]
  },
  {
   "cell_type": "code",
   "execution_count": null,
   "metadata": {},
   "outputs": [],
   "source": [
    "using CSV, DataFrames\n",
    "\n",
    "apples = DataFrame(CSV.File(\"data/apples.dat\", delim='\\t', allowmissing=:none, normalizenames=true))\n",
    "bananas = DataFrame(CSV.File(\"data/bananas.dat\", delim='\\t', allowmissing=:none, normalizenames=true));"
   ]
  },
  {
   "cell_type": "code",
   "execution_count": null,
   "metadata": {},
   "outputs": [],
   "source": [
    "x_apples  = [ [row.red, row.green] for row in eachrow(apples)]\n",
    "x_bananas = [ [row.red, row.green] for row in eachrow(bananas)];"
   ]
  },
  {
   "cell_type": "markdown",
   "metadata": {},
   "source": [
    "Concatenate the x (features) together to create a vector of all our datapoints, and create the corresponding vector of known labels:"
   ]
  },
  {
   "cell_type": "code",
   "execution_count": null,
   "metadata": {},
   "outputs": [],
   "source": [
    "xs = [x_apples; x_bananas]\n",
    "ys = [fill(0, size(x_apples)); fill(1, size(x_bananas))];"
   ]
  },
  {
   "cell_type": "code",
   "execution_count": null,
   "metadata": {},
   "outputs": [],
   "source": [
    "model = Dense(2, 1, σ)"
   ]
  },
  {
   "cell_type": "markdown",
   "metadata": {},
   "source": [
    "We can evaluate the model (currently initialized with random weights) to see what the output value is for a given input:"
   ]
  },
  {
   "cell_type": "code",
   "execution_count": null,
   "metadata": {},
   "outputs": [],
   "source": [
    "model(xs[1])"
   ]
  },
  {
   "cell_type": "markdown",
   "metadata": {},
   "source": [
    "And of course we can examine the current loss value for that datapoint:"
   ]
  },
  {
   "cell_type": "code",
   "execution_count": null,
   "metadata": {},
   "outputs": [],
   "source": [
    "loss = Flux.mse(model(xs[1]), ys[1])"
   ]
  },
  {
   "cell_type": "code",
   "execution_count": null,
   "metadata": {},
   "outputs": [],
   "source": [
    "typeof(loss)"
   ]
  },
  {
   "cell_type": "markdown",
   "metadata": {},
   "source": [
    "### Backpropagation"
   ]
  },
  {
   "cell_type": "code",
   "execution_count": null,
   "metadata": {},
   "outputs": [],
   "source": [
    "model.W"
   ]
  },
  {
   "cell_type": "code",
   "execution_count": null,
   "metadata": {},
   "outputs": [],
   "source": [
    "model.W.grad"
   ]
  },
  {
   "cell_type": "code",
   "execution_count": null,
   "metadata": {},
   "outputs": [],
   "source": [
    "using Flux.Tracker\n",
    "back!(loss)"
   ]
  },
  {
   "cell_type": "code",
   "execution_count": null,
   "metadata": {},
   "outputs": [],
   "source": [
    "model.W.grad"
   ]
  },
  {
   "cell_type": "markdown",
   "metadata": {},
   "source": [
    "Now we have all the tools necessary to build a simple gradient descent algorithm!"
   ]
  },
  {
   "cell_type": "markdown",
   "metadata": {},
   "source": [
    "### The easy way\n",
    "\n",
    "You don't want to manually write out gradient descent algorithms every time! Flux, of course, also brings in lots of optimizers that can do this all for you."
   ]
  },
  {
   "cell_type": "code",
   "execution_count": null,
   "metadata": {},
   "outputs": [],
   "source": [
    "?SGD"
   ]
  },
  {
   "cell_type": "code",
   "execution_count": null,
   "metadata": {},
   "outputs": [],
   "source": [
    "?Flux.train!"
   ]
  },
  {
   "cell_type": "markdown",
   "metadata": {},
   "source": [
    "So we can simply define our loss function, an optimizer, and then call `train!`. That's basic machine learning with Flux.jl."
   ]
  },
  {
   "cell_type": "code",
   "execution_count": null,
   "metadata": {},
   "outputs": [],
   "source": [
    "model = Dense(2, 1, σ)\n",
    "L(x,y) = Flux.mse(model(x), y)\n",
    "opt = SGD(params(model))\n",
    "Flux.train!(L, zip(xs, ys), opt)"
   ]
  },
  {
   "cell_type": "markdown",
   "metadata": {},
   "source": [
    "## Visualize the result"
   ]
  },
  {
   "cell_type": "code",
   "execution_count": null,
   "metadata": {},
   "outputs": [],
   "source": [
    "contour(0:.1:1, 0:.1:1, (x, y) -> model([x,y])[].data, fill=true)\n",
    "scatter!(first.(x_apples), last.(x_apples), label=\"apples\")\n",
    "scatter!(first.(x_bananas), last.(x_bananas), label=\"bananas\")\n",
    "xlabel!(\"mean red value\")\n",
    "ylabel!(\"mean green value\")"
   ]
  }
 ],
 "metadata": {
  "@webio": {
   "lastCommId": "a9661f61f43a4d39869af9de70574462",
   "lastKernelId": "49d29465-f5f2-4df5-9bfb-5924b0ff72ee"
  },
  "kernelspec": {
   "display_name": "Julia 1.0.5",
   "language": "julia",
   "name": "julia-1.0"
  },
  "language_info": {
   "file_extension": ".jl",
   "mimetype": "application/julia",
   "name": "julia",
   "version": "1.0.5"
  }
 },
 "nbformat": 4,
 "nbformat_minor": 3
}
