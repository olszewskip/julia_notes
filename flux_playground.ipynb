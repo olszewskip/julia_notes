{
 "cells": [
  {
   "cell_type": "code",
   "execution_count": 1,
   "metadata": {},
   "outputs": [],
   "source": [
    "using Flux"
   ]
  },
  {
   "cell_type": "code",
   "execution_count": 7,
   "metadata": {},
   "outputs": [],
   "source": [
    "f(x) = 3x^2 + 2x + 1;"
   ]
  },
  {
   "cell_type": "code",
   "execution_count": 10,
   "metadata": {},
   "outputs": [
    {
     "ename": "UndefVarError",
     "evalue": "UndefVarError: x not defined",
     "output_type": "error",
     "traceback": [
      "UndefVarError: x not defined",
      "",
      "Stacktrace:",
      " [1] top-level scope at In[10]:1"
     ]
    }
   ],
   "source": [
    "df(x) = Tracker.gradient(f, x; nest = true)[1];"
   ]
  },
  {
   "cell_type": "code",
   "execution_count": 15,
   "metadata": {},
   "outputs": [
    {
     "data": {
      "text/plain": [
       "14.0 (tracked)"
      ]
     },
     "execution_count": 15,
     "metadata": {},
     "output_type": "execute_result"
    }
   ],
   "source": [
    "df(2)"
   ]
  },
  {
   "cell_type": "markdown",
   "metadata": {},
   "source": [
    "---"
   ]
  },
  {
   "cell_type": "code",
   "execution_count": 1,
   "metadata": {},
   "outputs": [],
   "source": [
    "using Flux"
   ]
  },
  {
   "cell_type": "code",
   "execution_count": 17,
   "metadata": {},
   "outputs": [
    {
     "data": {
      "text/plain": [
       "2.0 (tracked)"
      ]
     },
     "execution_count": 17,
     "metadata": {},
     "output_type": "execute_result"
    }
   ],
   "source": [
    " W = param(2)"
   ]
  },
  {
   "cell_type": "code",
   "execution_count": 18,
   "metadata": {},
   "outputs": [
    {
     "data": {
      "text/plain": [
       "3.0 (tracked)"
      ]
     },
     "execution_count": 18,
     "metadata": {},
     "output_type": "execute_result"
    }
   ],
   "source": [
    "b = param(3)"
   ]
  },
  {
   "cell_type": "code",
   "execution_count": 19,
   "metadata": {},
   "outputs": [],
   "source": [
    "f(x) = W * x + b;"
   ]
  },
  {
   "cell_type": "code",
   "execution_count": 20,
   "metadata": {},
   "outputs": [
    {
     "data": {
      "text/plain": [
       "5.0 (tracked)"
      ]
     },
     "execution_count": 20,
     "metadata": {},
     "output_type": "execute_result"
    }
   ],
   "source": [
    "f(1)"
   ]
  },
  {
   "cell_type": "code",
   "execution_count": 23,
   "metadata": {},
   "outputs": [
    {
     "data": {
      "text/plain": [
       "Grads(...)\n"
      ]
     },
     "execution_count": 23,
     "metadata": {},
     "output_type": "execute_result"
    }
   ],
   "source": [
    "grads = Tracker.gradient(() -> f(4), params(W, b))"
   ]
  },
  {
   "cell_type": "code",
   "execution_count": 24,
   "metadata": {},
   "outputs": [
    {
     "data": {
      "text/plain": [
       "Tracker.Grads"
      ]
     },
     "execution_count": 24,
     "metadata": {},
     "output_type": "execute_result"
    }
   ],
   "source": [
    "typeof(grads)"
   ]
  },
  {
   "cell_type": "code",
   "execution_count": 25,
   "metadata": {},
   "outputs": [
    {
     "data": {
      "text/plain": [
       "4.0 (tracked)"
      ]
     },
     "execution_count": 25,
     "metadata": {},
     "output_type": "execute_result"
    }
   ],
   "source": [
    "grads[W]"
   ]
  },
  {
   "cell_type": "code",
   "execution_count": 26,
   "metadata": {},
   "outputs": [
    {
     "data": {
      "text/plain": [
       "1.0 (tracked)"
      ]
     },
     "execution_count": 26,
     "metadata": {},
     "output_type": "execute_result"
    }
   ],
   "source": [
    "grads[b]"
   ]
  },
  {
   "cell_type": "markdown",
   "metadata": {},
   "source": [
    "---"
   ]
  },
  {
   "cell_type": "code",
   "execution_count": 1,
   "metadata": {},
   "outputs": [],
   "source": [
    "using BenchmarkTools"
   ]
  },
  {
   "cell_type": "code",
   "execution_count": 2,
   "metadata": {},
   "outputs": [],
   "source": [
    "using SparseArrays\n",
    "import SparseArrays.sparse"
   ]
  },
  {
   "cell_type": "code",
   "execution_count": null,
   "metadata": {},
   "outputs": [],
   "source": []
  },
  {
   "cell_type": "code",
   "execution_count": 27,
   "metadata": {},
   "outputs": [
    {
     "data": {
      "text/plain": [
       "0.08430148944781934"
      ]
     },
     "execution_count": 27,
     "metadata": {},
     "output_type": "execute_result"
    }
   ],
   "source": [
    "rand()"
   ]
  },
  {
   "cell_type": "code",
   "execution_count": 2,
   "metadata": {},
   "outputs": [],
   "source": [
    "struct SparseCOO\n",
    "    row_indices\n",
    "    column_indices\n",
    "    values\n",
    "    row_count\n",
    "    column_count\n",
    "end"
   ]
  },
  {
   "cell_type": "code",
   "execution_count": 12,
   "metadata": {},
   "outputs": [
    {
     "data": {
      "text/plain": [
       "SparseCOO([1, 2, 3], [1, 2, 3], [1, 2, 3], 3, 3)"
      ]
     },
     "execution_count": 12,
     "metadata": {},
     "output_type": "execute_result"
    }
   ],
   "source": [
    "my_sparse = SparseCOO([1,2,3], [1,2,3], [1, 2, 3], 3, 3)"
   ]
  },
  {
   "cell_type": "code",
   "execution_count": null,
   "metadata": {},
   "outputs": [],
   "source": []
  },
  {
   "cell_type": "code",
   "execution_count": 13,
   "metadata": {},
   "outputs": [
    {
     "data": {
      "text/plain": [
       "sparse (generic function with 24 methods)"
      ]
     },
     "execution_count": 13,
     "metadata": {},
     "output_type": "execute_result"
    }
   ],
   "source": [
    "sparse(m::SparseCOO) = sparse(m.row_indices, m.column_indices, m.values, m.row_count, m.column_count)"
   ]
  },
  {
   "cell_type": "code",
   "execution_count": 15,
   "metadata": {},
   "outputs": [
    {
     "data": {
      "text/plain": [
       "SparseMatrixCSC{Int64,Int64}"
      ]
     },
     "execution_count": 15,
     "metadata": {},
     "output_type": "execute_result"
    }
   ],
   "source": [
    "typeof(sparse(my_sparse))"
   ]
  },
  {
   "cell_type": "code",
   "execution_count": 31,
   "metadata": {},
   "outputs": [
    {
     "data": {
      "text/plain": [
       "10×10 SparseMatrixCSC{Int64,Int64} with 5 stored entries:\n",
       "  [2 ,  2]  =  1\n",
       "  [5 ,  4]  =  1\n",
       "  [3 ,  5]  =  1\n",
       "  [8 ,  7]  =  1\n",
       "  [6 ,  9]  =  1"
      ]
     },
     "execution_count": 31,
     "metadata": {},
     "output_type": "execute_result"
    }
   ],
   "source": [
    "A = sparse([2,5,3,8,6], [2,4,5,7,9], 1, 10, 10)"
   ]
  },
  {
   "cell_type": "code",
   "execution_count": 34,
   "metadata": {},
   "outputs": [
    {
     "data": {
      "text/plain": [
       "5-element Array{Int64,1}:\n",
       " 2\n",
       " 5\n",
       " 3\n",
       " 8\n",
       " 6"
      ]
     },
     "execution_count": 34,
     "metadata": {},
     "output_type": "execute_result"
    }
   ],
   "source": [
    "A.rowval"
   ]
  },
  {
   "cell_type": "code",
   "execution_count": 32,
   "metadata": {},
   "outputs": [
    {
     "data": {
      "text/plain": [
       "11-element Array{Int64,1}:\n",
       " 1\n",
       " 1\n",
       " 2\n",
       " 2\n",
       " 3\n",
       " 4\n",
       " 4\n",
       " 5\n",
       " 5\n",
       " 6\n",
       " 6"
      ]
     },
     "execution_count": 32,
     "metadata": {},
     "output_type": "execute_result"
    }
   ],
   "source": [
    "A.colptr"
   ]
  },
  {
   "cell_type": "code",
   "execution_count": 33,
   "metadata": {},
   "outputs": [
    {
     "data": {
      "text/plain": [
       "10×10 Array{Int64,2}:\n",
       " 0  0  0  0  0  0  0  0  0  0\n",
       " 0  1  0  0  0  0  0  0  0  0\n",
       " 0  0  0  0  1  0  0  0  0  0\n",
       " 0  0  0  0  0  0  0  0  0  0\n",
       " 0  0  0  1  0  0  0  0  0  0\n",
       " 0  0  0  0  0  0  0  0  1  0\n",
       " 0  0  0  0  0  0  0  0  0  0\n",
       " 0  0  0  0  0  0  1  0  0  0\n",
       " 0  0  0  0  0  0  0  0  0  0\n",
       " 0  0  0  0  0  0  0  0  0  0"
      ]
     },
     "execution_count": 33,
     "metadata": {},
     "output_type": "execute_result"
    }
   ],
   "source": [
    "Matrix(A)"
   ]
  },
  {
   "cell_type": "code",
   "execution_count": 31,
   "metadata": {},
   "outputs": [
    {
     "data": {
      "text/plain": [
       "3×3 SparseMatrixCSC{Int64,Int64} with 1 stored entry:\n",
       "  [2, 2]  =  2"
      ]
     },
     "execution_count": 31,
     "metadata": {},
     "output_type": "execute_result"
    }
   ],
   "source": [
    "A"
   ]
  },
  {
   "cell_type": "code",
   "execution_count": 32,
   "metadata": {},
   "outputs": [
    {
     "data": {
      "text/plain": [
       "2-element SparseVector{Int64,Int64} with 1 stored entry:\n",
       "  [2]  =  5"
      ]
     },
     "execution_count": 32,
     "metadata": {},
     "output_type": "execute_result"
    }
   ],
   "source": [
    "R = sparsevec([2], [5])"
   ]
  },
  {
   "cell_type": "code",
   "execution_count": 17,
   "metadata": {},
   "outputs": [],
   "source": [
    "M = sprand(100, 1000, 0.1);\n",
    "N = sprand(10, 100, 0.1);"
   ]
  },
  {
   "cell_type": "code",
   "execution_count": 16,
   "metadata": {},
   "outputs": [
    {
     "data": {
      "text/plain": [
       "mutate_ (generic function with 1 method)"
      ]
     },
     "execution_count": 16,
     "metadata": {},
     "output_type": "execute_result"
    }
   ],
   "source": [
    "function mutate(M, row_indices, column_indices, values)\n",
    "    I, J, V = findnz(M)\n",
    "    append!(I, row_indices)\n",
    "    append!(J, column_indices)\n",
    "    append!(V, values)\n",
    "    return sparse(I, J, V)\n",
    "end\n",
    "\n",
    "function mutate_(M, row_indices, column_indices, values)\n",
    "    for i ∈ I, j ∈ J, val ∈ values\n",
    "        M[i, j] = val\n",
    "    end\n",
    "    return M\n",
    "end"
   ]
  },
  {
   "cell_type": "code",
   "execution_count": 19,
   "metadata": {},
   "outputs": [],
   "source": [
    "I, J, V = findnz(N);"
   ]
  },
  {
   "cell_type": "code",
   "execution_count": 20,
   "metadata": {},
   "outputs": [
    {
     "data": {
      "text/plain": [
       "BenchmarkTools.Trial: \n",
       "  memory estimate:  1.06 MiB\n",
       "  allocs estimate:  22\n",
       "  --------------\n",
       "  minimum time:     406.653 μs (0.00% GC)\n",
       "  median time:      472.603 μs (0.00% GC)\n",
       "  mean time:        528.496 μs (7.53% GC)\n",
       "  maximum time:     50.251 ms (99.02% GC)\n",
       "  --------------\n",
       "  samples:          9395\n",
       "  evals/sample:     1"
      ]
     },
     "execution_count": 20,
     "metadata": {},
     "output_type": "execute_result"
    }
   ],
   "source": [
    "@benchmark mutate($M, $I, $J, $V)"
   ]
  },
  {
   "cell_type": "code",
   "execution_count": 21,
   "metadata": {},
   "outputs": [
    {
     "ename": "InterruptException",
     "evalue": "InterruptException:",
     "output_type": "error",
     "traceback": [
      "InterruptException:",
      "",
      "Stacktrace:",
      " [1] mutate_(::SparseMatrixCSC{Float64,Int64}, ::Array{Int64,1}, ::Array{Int64,1}, ::Array{Float64,1}) at ./In[16]:11",
      " [2] ##core#393(::SparseMatrixCSC{Float64,Int64}, ::Array{Int64,1}, ::Array{Int64,1}, ::Array{Float64,1}) at /home/olszewskip/.julia/packages/BenchmarkTools/7aqwe/src/execution.jl:297",
      " [3] ##sample#394(::BenchmarkTools.Parameters) at /home/olszewskip/.julia/packages/BenchmarkTools/7aqwe/src/execution.jl:303",
      " [4] #_run#6(::Bool, ::String, ::Base.Iterators.Pairs{Symbol,Integer,NTuple{4,Symbol},NamedTuple{(:samples, :evals, :gctrial, :gcsample),Tuple{Int64,Int64,Bool,Bool}}}, ::Function, ::BenchmarkTools.Benchmark{Symbol(\"##benchmark#392\")}, ::BenchmarkTools.Parameters) at /home/olszewskip/.julia/packages/BenchmarkTools/7aqwe/src/execution.jl:331",
      " [5] (::getfield(Base, Symbol(\"#inner#2\")){Base.Iterators.Pairs{Symbol,Integer,NTuple{5,Symbol},NamedTuple{(:verbose, :samples, :evals, :gctrial, :gcsample),Tuple{Bool,Int64,Int64,Bool,Bool}}},typeof(BenchmarkTools._run),Tuple{BenchmarkTools.Benchmark{Symbol(\"##benchmark#392\")},BenchmarkTools.Parameters}})() at ./none:0",
      " [6] #invokelatest#1 at ./essentials.jl:746 [inlined]",
      " [7] #invokelatest at ./none:0 [inlined]",
      " [8] #run_result#37 at /home/olszewskip/.julia/packages/BenchmarkTools/7aqwe/src/execution.jl:32 [inlined]",
      " [9] #run_result at ./none:0 [inlined]",
      " [10] #run#39(::Base.Iterators.Pairs{Symbol,Integer,NTuple{5,Symbol},NamedTuple{(:verbose, :samples, :evals, :gctrial, :gcsample),Tuple{Bool,Int64,Int64,Bool,Bool}}}, ::Function, ::BenchmarkTools.Benchmark{Symbol(\"##benchmark#392\")}, ::BenchmarkTools.Parameters) at /home/olszewskip/.julia/packages/BenchmarkTools/7aqwe/src/execution.jl:46",
      " [11] #run at ./none:0 [inlined] (repeats 2 times)",
      " [12] #warmup#42 at /home/olszewskip/.julia/packages/BenchmarkTools/7aqwe/src/execution.jl:79 [inlined]",
      " [13] warmup(::BenchmarkTools.Benchmark{Symbol(\"##benchmark#392\")}) at /home/olszewskip/.julia/packages/BenchmarkTools/7aqwe/src/execution.jl:79",
      " [14] top-level scope at /home/olszewskip/.julia/packages/BenchmarkTools/7aqwe/src/execution.jl:213",
      " [15] top-level scope at In[21]:1"
     ]
    }
   ],
   "source": [
    "@benchmark mutate_($M, $I, $J, $V)"
   ]
  },
  {
   "cell_type": "code",
   "execution_count": 37,
   "metadata": {},
   "outputs": [
    {
     "data": {
      "text/plain": [
       "3×4 Array{Float64,2}:\n",
       " 0.0  0.0       0.0  0.38615 \n",
       " 0.0  0.586285  0.0  0.980001\n",
       " 0.0  0.626113  0.0  0.0     "
      ]
     },
     "execution_count": 37,
     "metadata": {},
     "output_type": "execute_result"
    }
   ],
   "source": [
    "Matrix(sprand(3, 4, 0.2))"
   ]
  },
  {
   "cell_type": "code",
   "execution_count": 55,
   "metadata": {},
   "outputs": [],
   "source": [
    "M = sprand(300, 400, 0.5);\n",
    "w = sprand(400, 0.5);"
   ]
  },
  {
   "cell_type": "code",
   "execution_count": 56,
   "metadata": {},
   "outputs": [
    {
     "data": {
      "text/plain": [
       "300×400 Array{Float64,2}:\n",
       " 0.0811027  0.0          0.462146   …  0.852927  0.677511   0.83239  \n",
       " 0.572516   0.0          0.166363      0.0       0.0        0.0      \n",
       " 0.0        0.0          0.0           0.889867  0.0        0.985618 \n",
       " 0.223376   0.932677     0.0           0.0       0.0        0.0      \n",
       " 0.0        0.0          0.722149      0.0       0.635984   0.0      \n",
       " 0.490164   0.960898     0.0        …  0.282651  0.183361   0.13568  \n",
       " 0.0        0.178784     0.734072      0.0       0.0        0.18761  \n",
       " 0.0879198  0.827821     0.0           0.0       0.0        0.0      \n",
       " 0.409745   0.0217611    0.879398      0.285096  0.713446   0.0      \n",
       " 0.743483   0.0          0.0           0.0       0.0        0.577751 \n",
       " 0.0        0.398693     0.0        …  0.58215   0.0425201  0.452731 \n",
       " 0.0        0.0          0.258192      0.809208  0.0        0.0      \n",
       " 0.136027   0.0          0.928268      0.0       0.0        0.919195 \n",
       " ⋮                                  ⋱                                \n",
       " 0.449715   0.0          0.0           0.89645   0.0        0.655292 \n",
       " 0.0        0.712819     0.299234      0.243615  0.0        0.624505 \n",
       " 0.184423   0.000523197  0.170543   …  0.239349  0.763329   0.0639089\n",
       " 0.774431   0.0          0.0           0.0       0.0        0.0      \n",
       " 0.524517   0.0          0.542204      0.0       0.0        0.345894 \n",
       " 0.0        0.546892     0.0665334     0.693012  0.0258505  0.153254 \n",
       " 0.316051   0.0          0.0           0.0       0.626192   0.0      \n",
       " 0.28782    0.0          0.63309    …  0.0       0.0941565  0.26613  \n",
       " 0.809521   0.845423     0.651833      0.899512  0.129746   0.0409768\n",
       " 0.984624   0.91596      0.0           0.846329  0.858276   0.849816 \n",
       " 0.7006     0.0          0.930728      0.0       0.79649    0.0      \n",
       " 0.385363   0.172758     0.0           0.0       0.0        0.0      "
      ]
     },
     "execution_count": 56,
     "metadata": {},
     "output_type": "execute_result"
    }
   ],
   "source": [
    "Matrix(M)"
   ]
  },
  {
   "cell_type": "code",
   "execution_count": 57,
   "metadata": {},
   "outputs": [
    {
     "data": {
      "text/plain": [
       "401-element Array{Int64,1}:\n",
       "     1\n",
       "   159\n",
       "   312\n",
       "   461\n",
       "   612\n",
       "   768\n",
       "   924\n",
       "  1078\n",
       "  1248\n",
       "  1405\n",
       "  1549\n",
       "  1692\n",
       "  1833\n",
       "     ⋮\n",
       " 58378\n",
       " 58522\n",
       " 58665\n",
       " 58805\n",
       " 58949\n",
       " 59117\n",
       " 59263\n",
       " 59427\n",
       " 59572\n",
       " 59707\n",
       " 59847\n",
       " 59997"
      ]
     },
     "execution_count": 57,
     "metadata": {},
     "output_type": "execute_result"
    }
   ],
   "source": [
    "M.colptr"
   ]
  },
  {
   "cell_type": "code",
   "execution_count": 58,
   "metadata": {},
   "outputs": [
    {
     "data": {
      "text/plain": [
       "400-element Array{Float64,1}:\n",
       " 0.0                \n",
       " 0.5915055934162623 \n",
       " 0.0                \n",
       " 0.0                \n",
       " 0.0                \n",
       " 0.0                \n",
       " 0.6832170270236613 \n",
       " 0.0                \n",
       " 0.0                \n",
       " 0.5852423760096379 \n",
       " 0.0                \n",
       " 0.9186724642695827 \n",
       " 0.0                \n",
       " ⋮                  \n",
       " 0.09332612424092801\n",
       " 0.0                \n",
       " 0.7594118742966263 \n",
       " 0.22129865386312053\n",
       " 0.0                \n",
       " 0.656353706395842  \n",
       " 0.0                \n",
       " 0.5786432248148419 \n",
       " 0.5572922885314855 \n",
       " 0.0                \n",
       " 0.0                \n",
       " 0.2971123701091638 "
      ]
     },
     "execution_count": 58,
     "metadata": {},
     "output_type": "execute_result"
    }
   ],
   "source": [
    "Vector(w)"
   ]
  },
  {
   "cell_type": "code",
   "execution_count": 59,
   "metadata": {},
   "outputs": [
    {
     "data": {
      "text/plain": [
       "186-element Array{Int64,1}:\n",
       "   2\n",
       "   7\n",
       "  10\n",
       "  12\n",
       "  14\n",
       "  15\n",
       "  16\n",
       "  17\n",
       "  18\n",
       "  19\n",
       "  20\n",
       "  21\n",
       "  25\n",
       "   ⋮\n",
       " 373\n",
       " 376\n",
       " 380\n",
       " 383\n",
       " 387\n",
       " 389\n",
       " 391\n",
       " 392\n",
       " 394\n",
       " 396\n",
       " 397\n",
       " 400"
      ]
     },
     "execution_count": 59,
     "metadata": {},
     "output_type": "execute_result"
    }
   ],
   "source": [
    "w.nzind"
   ]
  },
  {
   "cell_type": "code",
   "execution_count": 50,
   "metadata": {},
   "outputs": [
    {
     "data": {
      "text/plain": [
       "3-element Array{Float64,1}:\n",
       " 0.0                 \n",
       " 0.27462334281017947 \n",
       " 0.004576686054722911"
      ]
     },
     "execution_count": 50,
     "metadata": {},
     "output_type": "execute_result"
    }
   ],
   "source": [
    "Matrix(M) * Vector(w)"
   ]
  },
  {
   "cell_type": "code",
   "execution_count": 49,
   "metadata": {},
   "outputs": [
    {
     "data": {
      "text/plain": [
       "3-element Array{Float64,1}:\n",
       " 0.0                 \n",
       " 0.27462334281017947 \n",
       " 0.004576686054722911"
      ]
     },
     "execution_count": 49,
     "metadata": {},
     "output_type": "execute_result"
    }
   ],
   "source": [
    "Vector(M * w)"
   ]
  },
  {
   "cell_type": "markdown",
   "metadata": {},
   "source": [
    "---"
   ]
  },
  {
   "cell_type": "code",
   "execution_count": 2,
   "metadata": {},
   "outputs": [],
   "source": [
    "using Flux\n",
    "using SparseArrays"
   ]
  },
  {
   "cell_type": "code",
   "execution_count": 3,
   "metadata": {},
   "outputs": [
    {
     "data": {
      "text/plain": [
       "2×3 SparseMatrixCSC{Float64,Int64} with 5 stored entries:\n",
       "  [1, 1]  =  0.818541\n",
       "  [2, 1]  =  0.892875\n",
       "  [1, 2]  =  0.71225\n",
       "  [2, 2]  =  0.876172\n",
       "  [1, 3]  =  0.520788"
      ]
     },
     "execution_count": 3,
     "metadata": {},
     "output_type": "execute_result"
    }
   ],
   "source": [
    "W = sprand(2, 3, 0.5)"
   ]
  },
  {
   "cell_type": "code",
   "execution_count": 4,
   "metadata": {},
   "outputs": [
    {
     "data": {
      "text/plain": [
       "2×3 Array{Float64,2}:\n",
       " 0.818541  0.71225   0.520788\n",
       " 0.892875  0.876172  0.0     "
      ]
     },
     "execution_count": 4,
     "metadata": {},
     "output_type": "execute_result"
    }
   ],
   "source": [
    "Matrix(W)"
   ]
  },
  {
   "cell_type": "code",
   "execution_count": 5,
   "metadata": {},
   "outputs": [],
   "source": [
    "b = sprand(2, 0.5);"
   ]
  },
  {
   "cell_type": "code",
   "execution_count": 6,
   "metadata": {},
   "outputs": [
    {
     "data": {
      "text/plain": [
       "2-element SparseVector{Float64,Int64} with 1 stored entry:\n",
       "  [1]  =  0.100559"
      ]
     },
     "execution_count": 6,
     "metadata": {},
     "output_type": "execute_result"
    }
   ],
   "source": [
    "b"
   ]
  },
  {
   "cell_type": "code",
   "execution_count": 7,
   "metadata": {},
   "outputs": [],
   "source": [
    "f(x) = sum(W * x + b);"
   ]
  },
  {
   "cell_type": "code",
   "execution_count": 8,
   "metadata": {},
   "outputs": [],
   "source": [
    "W = param(W);\n",
    "b = param(b);"
   ]
  },
  {
   "cell_type": "code",
   "execution_count": 9,
   "metadata": {},
   "outputs": [],
   "source": [
    "df(x) = Tracker.gradient(() -> f(x), params(W, b));"
   ]
  },
  {
   "cell_type": "code",
   "execution_count": 10,
   "metadata": {},
   "outputs": [],
   "source": [
    "x_0 = 2 * ones(3);"
   ]
  },
  {
   "cell_type": "code",
   "execution_count": 11,
   "metadata": {},
   "outputs": [],
   "source": [
    "grads = df(x_0);"
   ]
  },
  {
   "cell_type": "code",
   "execution_count": 13,
   "metadata": {},
   "outputs": [
    {
     "data": {
      "text/plain": [
       "Tracked 2-element SparseVector{Float64,Int64}:\n",
       " 1.0\n",
       " 1.0"
      ]
     },
     "execution_count": 13,
     "metadata": {},
     "output_type": "execute_result"
    }
   ],
   "source": [
    "grads[b]"
   ]
  },
  {
   "cell_type": "markdown",
   "metadata": {},
   "source": [
    "---"
   ]
  },
  {
   "cell_type": "code",
   "execution_count": 2,
   "metadata": {},
   "outputs": [
    {
     "name": "stdout",
     "output_type": "stream",
     "text": [
      "\u001b[32m\u001b[1m    Status\u001b[22m\u001b[39m `~/.julia/environments/v1.3/Project.toml`\n",
      " \u001b[90m [587475ba]\u001b[39m\u001b[37m Flux v0.10.0\u001b[39m\n"
     ]
    }
   ],
   "source": [
    "using Pkg; Pkg.status(\"Flux\")"
   ]
  },
  {
   "cell_type": "code",
   "execution_count": 65,
   "metadata": {},
   "outputs": [],
   "source": [
    "using Flux\n",
    "using Flux.Data.MNIST\n",
    "using Flux: onehotbatch, Chain, Dense, train!, crossentropy, mse, Params, gradient\n",
    "using Base.Iterators: repeated"
   ]
  },
  {
   "cell_type": "code",
   "execution_count": 2,
   "metadata": {},
   "outputs": [],
   "source": [
    "using Test"
   ]
  },
  {
   "cell_type": "code",
   "execution_count": 5,
   "metadata": {},
   "outputs": [],
   "source": [
    "using Flux\n",
    "using Flux: Chain, crossentropy, gradient\n",
    "using SparseArrays\n",
    "struct SprAffine{F,S,T}\n",
    "    W::S\n",
    "    b::T\n",
    "    σ::F\n",
    "end\n",
    "SprAffine(in::Integer, out::Integer, σ::Function) = SprAffine(sprandn(out, in, 0.5), sprandn(out, 0.5), σ)\n",
    "(m::SprAffine)(x) = m.σ.(m.W * x .+ m.b)\n",
    "Flux.@functor SprAffine\n",
    "loss(x, y) = crossentropy(m(x), y)\n",
    "m = Chain(SprAffine(4, 3, σ), SprAffine(3, 2, σ), softmax);"
   ]
  },
  {
   "cell_type": "code",
   "execution_count": 8,
   "metadata": {},
   "outputs": [
    {
     "data": {
      "text/plain": [
       "Float64"
      ]
     },
     "execution_count": 8,
     "metadata": {},
     "output_type": "execute_result"
    }
   ],
   "source": [
    "typeof(loss(sparse(1:4), sparse(1:2)))"
   ]
  },
  {
   "cell_type": "code",
   "execution_count": 7,
   "metadata": {},
   "outputs": [
    {
     "ename": "MethodError",
     "evalue": "MethodError: no method matching zero(::Type{Tuple{Float64,Zygote.var\"#916#back#380\"{Zygote.var\"#378#379\"{Float64}}}})\nClosest candidates are:\n  zero(!Matched::Type{Missing}) at missing.jl:103\n  zero(!Matched::Type{LibGit2.GitHash}) at /buildworker/worker/package_linux64/build/usr/share/julia/stdlib/v1.3/LibGit2/src/oid.jl:220\n  zero(!Matched::Type{Pkg.Resolve.VersionWeights.VersionWeight}) at /buildworker/worker/package_linux64/build/usr/share/julia/stdlib/v1.3/Pkg/src/resolve/VersionWeights.jl:19\n  ...",
     "output_type": "error",
     "traceback": [
      "MethodError: no method matching zero(::Type{Tuple{Float64,Zygote.var\"#916#back#380\"{Zygote.var\"#378#379\"{Float64}}}})\nClosest candidates are:\n  zero(!Matched::Type{Missing}) at missing.jl:103\n  zero(!Matched::Type{LibGit2.GitHash}) at /buildworker/worker/package_linux64/build/usr/share/julia/stdlib/v1.3/LibGit2/src/oid.jl:220\n  zero(!Matched::Type{Pkg.Resolve.VersionWeights.VersionWeight}) at /buildworker/worker/package_linux64/build/usr/share/julia/stdlib/v1.3/Pkg/src/resolve/VersionWeights.jl:19\n  ...",
      "",
      "Stacktrace:",
      " [1] _zeros_eltypes at /buildworker/worker/package_linux64/build/usr/share/julia/stdlib/v1.3/SparseArrays/src/higherorderfns.jl:203 [inlined]",
      " [2] _noshapecheck_map(::Zygote.var\"#1570#1577\", ::SparseVector{Tuple{Float64,Zygote.var\"#916#back#380\"{Zygote.var\"#378#379\"{Float64}}},Int64}) at /buildworker/worker/package_linux64/build/usr/share/julia/stdlib/v1.3/SparseArrays/src/higherorderfns.jl:159",
      " [3] map(::Zygote.var\"#1570#1577\", ::SparseVector{Tuple{Float64,Zygote.var\"#916#back#380\"{Zygote.var\"#378#379\"{Float64}}},Int64}) at /buildworker/worker/package_linux64/build/usr/share/julia/stdlib/v1.3/SparseArrays/src/higherorderfns.jl:142",
      " [4] adjoint at /home/olszewskip/.julia/packages/Zygote/vrsws/src/lib/broadcast.jl:126 [inlined]",
      " [5] _pullback at /home/olszewskip/.julia/packages/ZygoteRules/6nssF/src/adjoint.jl:47 [inlined]",
      " [6] adjoint at /home/olszewskip/.julia/packages/Zygote/vrsws/src/lib/lib.jl:153 [inlined]",
      " [7] _pullback at /home/olszewskip/.julia/packages/ZygoteRules/6nssF/src/adjoint.jl:47 [inlined]",
      " [8] broadcasted at ./broadcast.jl:1231 [inlined]",
      " [9] _crossentropy at /home/olszewskip/.julia/packages/Flux/oX9Pi/src/layers/stateless.jl:9 [inlined]",
      " [10] _pullback(::Zygote.Context, ::typeof(Flux._crossentropy), ::SparseVector{Float64,Int64}, ::SparseVector{Int64,Int64}, ::Nothing) at /home/olszewskip/.julia/packages/Zygote/vrsws/src/compiler/interface2.jl:0",
      " [11] #crossentropy#48 at /home/olszewskip/.julia/packages/Flux/oX9Pi/src/layers/stateless.jl:20 [inlined]",
      " [12] _pullback(::Zygote.Context, ::Flux.var\"##crossentropy#48\", ::Nothing, ::typeof(crossentropy), ::SparseVector{Float64,Int64}, ::SparseVector{Int64,Int64}) at /home/olszewskip/.julia/packages/Zygote/vrsws/src/compiler/interface2.jl:0",
      " [13] crossentropy at /home/olszewskip/.julia/packages/Flux/oX9Pi/src/layers/stateless.jl:20 [inlined]",
      " [14] _pullback(::Zygote.Context, ::typeof(crossentropy), ::SparseVector{Float64,Int64}, ::SparseVector{Int64,Int64}) at /home/olszewskip/.julia/packages/Zygote/vrsws/src/compiler/interface2.jl:0",
      " [15] loss at ./In[5]:12 [inlined]",
      " [16] _pullback(::Zygote.Context, ::typeof(loss), ::SparseVector{Int64,Int64}, ::SparseVector{Int64,Int64}) at /home/olszewskip/.julia/packages/Zygote/vrsws/src/compiler/interface2.jl:0",
      " [17] _pullback(::Zygote.Context, ::var\"#7#8\") at ./In[7]:2",
      " [18] pullback(::Function, ::Zygote.Params) at /home/olszewskip/.julia/packages/Zygote/vrsws/src/compiler/interface.jl:96",
      " [19] gradient(::Function, ::Zygote.Params) at /home/olszewskip/.julia/packages/Zygote/vrsws/src/compiler/interface.jl:46",
      " [20] top-level scope at In[7]:1"
     ]
    }
   ],
   "source": [
    "gradient(params(m)) do\n",
    "    loss(sparse(1:4), sparse(1:2))\n",
    "end"
   ]
  },
  {
   "cell_type": "code",
   "execution_count": 35,
   "metadata": {},
   "outputs": [],
   "source": [
    "using SparseArrays"
   ]
  },
  {
   "cell_type": "code",
   "execution_count": 36,
   "metadata": {},
   "outputs": [],
   "source": [
    "struct SprAffine{S,T}\n",
    "    W::S\n",
    "    b::T\n",
    "end"
   ]
  },
  {
   "cell_type": "code",
   "execution_count": 54,
   "metadata": {},
   "outputs": [],
   "source": [
    "SprAffine(in::Integer, out::Integer) = SprAffine(sprandn(out, in, 0.5), sprandn(out, 0.5))\n",
    "(m::SprAffine)(x) =m.W * x .+ m.b"
   ]
  },
  {
   "cell_type": "code",
   "execution_count": 39,
   "metadata": {},
   "outputs": [],
   "source": [
    "Flux.@functor SprAffine"
   ]
  },
  {
   "cell_type": "code",
   "execution_count": 13,
   "metadata": {},
   "outputs": [],
   "source": [
    "struct Affine{S,T}\n",
    "    W::S\n",
    "    b::T\n",
    "end"
   ]
  },
  {
   "cell_type": "code",
   "execution_count": 14,
   "metadata": {},
   "outputs": [],
   "source": [
    "Affine(in::Integer, out::Integer) = Affine(randn(out, in), randn(out))\n",
    "(m::Affine)(x) = m.W * x .+ m.b"
   ]
  },
  {
   "cell_type": "code",
   "execution_count": 15,
   "metadata": {},
   "outputs": [],
   "source": [
    "Flux.@functor Affine"
   ]
  },
  {
   "cell_type": "code",
   "execution_count": 16,
   "metadata": {},
   "outputs": [
    {
     "data": {
      "text/plain": [
       "fizzbuzz (generic function with 1 method)"
      ]
     },
     "execution_count": 16,
     "metadata": {},
     "output_type": "execute_result"
    }
   ],
   "source": [
    "function fizzbuzz(x::Int)\n",
    "    is_divisible_by_three = x % 3 == 0\n",
    "    is_divisible_by_five = x % 5 == 0\n",
    "\n",
    "    if is_divisible_by_three & is_divisible_by_five\n",
    "        return \"fizzbuzz\"\n",
    "    elseif is_divisible_by_three\n",
    "        return \"fizz\"\n",
    "    elseif is_divisible_by_five\n",
    "        return \"buzz\"\n",
    "    else\n",
    "        return \"else\"\n",
    "    end\n",
    "end"
   ]
  },
  {
   "cell_type": "code",
   "execution_count": 17,
   "metadata": {},
   "outputs": [],
   "source": [
    "const LABELS = [\"fizz\", \"buzz\", \"fizzbuzz\", \"else\"];"
   ]
  },
  {
   "cell_type": "code",
   "execution_count": 18,
   "metadata": {},
   "outputs": [
    {
     "data": {
      "text/plain": [
       "\u001b[32m\u001b[1mTest Passed\u001b[22m\u001b[39m"
      ]
     },
     "execution_count": 18,
     "metadata": {},
     "output_type": "execute_result"
    }
   ],
   "source": [
    "@test fizzbuzz.([3, 5, 15, 98]) == LABELS"
   ]
  },
  {
   "cell_type": "code",
   "execution_count": 40,
   "metadata": {},
   "outputs": [],
   "source": [
    "raw_x = 1:100;\n",
    "raw_y = fizzbuzz.(raw_x);"
   ]
  },
  {
   "cell_type": "code",
   "execution_count": 41,
   "metadata": {},
   "outputs": [
    {
     "data": {
      "text/plain": [
       "features (generic function with 2 methods)"
      ]
     },
     "execution_count": 41,
     "metadata": {},
     "output_type": "execute_result"
    }
   ],
   "source": [
    "features(x) = float.([x % 3, x % 5, x % 15])\n",
    "features(x::AbstractArray) = hcat(features.(x)...)"
   ]
  },
  {
   "cell_type": "code",
   "execution_count": 21,
   "metadata": {},
   "outputs": [],
   "source": [
    "X = features(raw_x);\n",
    "y = onehotbatch(raw_y, LABELS);"
   ]
  },
  {
   "cell_type": "code",
   "execution_count": 22,
   "metadata": {},
   "outputs": [],
   "source": [
    "#m = Chain(Dense(3, 10), Dense(10, 4), softmax)"
   ]
  },
  {
   "cell_type": "code",
   "execution_count": 75,
   "metadata": {},
   "outputs": [],
   "source": [
    "m = Chain(SprAffine(10, 5), softmax);"
   ]
  },
  {
   "cell_type": "code",
   "execution_count": 76,
   "metadata": {},
   "outputs": [],
   "source": [
    "# m =\n",
    "# Chain(\n",
    "#     Affine(3, 10),\n",
    "#     Affine(10, 4),\n",
    "#     softmax\n",
    "# )"
   ]
  },
  {
   "cell_type": "code",
   "execution_count": 77,
   "metadata": {},
   "outputs": [
    {
     "data": {
      "text/plain": [
       "loss (generic function with 1 method)"
      ]
     },
     "execution_count": 77,
     "metadata": {},
     "output_type": "execute_result"
    }
   ],
   "source": [
    "loss(x, y) = crossentropy(m(x), y)"
   ]
  },
  {
   "cell_type": "code",
   "execution_count": 48,
   "metadata": {},
   "outputs": [
    {
     "data": {
      "text/plain": [
       "ADAM(0.001, (0.9, 0.999), IdDict{Any,Any}())"
      ]
     },
     "execution_count": 48,
     "metadata": {},
     "output_type": "execute_result"
    }
   ],
   "source": [
    "opt = ADAM()"
   ]
  },
  {
   "cell_type": "code",
   "execution_count": 49,
   "metadata": {},
   "outputs": [
    {
     "data": {
      "text/plain": [
       "deepbuzz (generic function with 1 method)"
      ]
     },
     "execution_count": 49,
     "metadata": {},
     "output_type": "execute_result"
    }
   ],
   "source": [
    "deepbuzz(x) = (a = argmax(m(features(x))); a == 4 ? x : LABELS[a])"
   ]
  },
  {
   "cell_type": "code",
   "execution_count": 50,
   "metadata": {},
   "outputs": [
    {
     "data": {
      "text/plain": [
       "monitor (generic function with 1 method)"
      ]
     },
     "execution_count": 50,
     "metadata": {},
     "output_type": "execute_result"
    }
   ],
   "source": [
    "function monitor(e)\n",
    "    print(\"epoch $(lpad(e, 4)): loss = $(round(loss(X,y); digits=4)) | \")\n",
    "    @show deepbuzz.([3, 5, 15, 98])\n",
    "end"
   ]
  },
  {
   "cell_type": "code",
   "execution_count": 51,
   "metadata": {},
   "outputs": [
    {
     "data": {
      "text/plain": [
       "Flux.Optimise"
      ]
     },
     "execution_count": 51,
     "metadata": {},
     "output_type": "execute_result"
    }
   ],
   "source": [
    "@which train!"
   ]
  },
  {
   "cell_type": "code",
   "execution_count": 79,
   "metadata": {},
   "outputs": [
    {
     "data": {
      "text/plain": [
       "5-element SparseVector{Float64,Int64} with 5 stored entries:\n",
       "  [1]  =  1.86481e-15\n",
       "  [2]  =  1.59814e-8\n",
       "  [3]  =  0.0211817\n",
       "  [4]  =  0.978813\n",
       "  [5]  =  5.52872e-6"
      ]
     },
     "execution_count": 79,
     "metadata": {},
     "output_type": "execute_result"
    }
   ],
   "source": [
    "m(sparse(1:10))"
   ]
  },
  {
   "cell_type": "code",
   "execution_count": 9,
   "metadata": {},
   "outputs": [
    {
     "ename": "DimensionMismatch",
     "evalue": "DimensionMismatch(\"\")",
     "output_type": "error",
     "traceback": [
      "DimensionMismatch(\"\")",
      "",
      "Stacktrace:",
      " [1] #densemv#53(::Char, ::typeof(SparseArrays.densemv), ::SparseMatrixCSC{Float64,Int64}, ::SparseVector{Int64,Int64}) at /buildworker/worker/package_linux64/build/usr/share/julia/stdlib/v1.3/SparseArrays/src/sparsevector.jl:1626",
      " [2] densemv at /buildworker/worker/package_linux64/build/usr/share/julia/stdlib/v1.3/SparseArrays/src/sparsevector.jl:1616 [inlined]",
      " [3] * at /buildworker/worker/package_linux64/build/usr/share/julia/stdlib/v1.3/SparseArrays/src/sparsevector.jl:1722 [inlined]",
      " [4] (::SprAffine{typeof(σ),SparseMatrixCSC{Float64,Int64},SparseVector{Float64,Int64}})(::SparseVector{Int64,Int64}) at ./In[5]:10",
      " [5] applychain at /home/olszewskip/.julia/packages/Flux/oX9Pi/src/layers/basic.jl:30 [inlined]",
      " [6] (::Chain{Tuple{SprAffine{typeof(σ),SparseMatrixCSC{Float64,Int64},SparseVector{Float64,Int64}},SprAffine{typeof(σ),SparseMatrixCSC{Float64,Int64},SparseVector{Float64,Int64}},typeof(softmax)}})(::SparseVector{Int64,Int64}) at /home/olszewskip/.julia/packages/Flux/oX9Pi/src/layers/basic.jl:32",
      " [7] loss(::SparseVector{Int64,Int64}, ::SparseVector{Int64,Int64}) at ./In[5]:12",
      " [8] top-level scope at In[9]:1"
     ]
    }
   ],
   "source": [
    "loss(sparse(1:10), sparse(1:5))"
   ]
  },
  {
   "cell_type": "code",
   "execution_count": 81,
   "metadata": {},
   "outputs": [
    {
     "ename": "MethodError",
     "evalue": "MethodError: no method matching zero(::Type{Tuple{Float64,Zygote.var\"#916#back#380\"{Zygote.var\"#378#379\"{Float64}}}})\nClosest candidates are:\n  zero(!Matched::Type{Missing}) at missing.jl:103\n  zero(!Matched::Type{LibGit2.GitHash}) at /buildworker/worker/package_linux64/build/usr/share/julia/stdlib/v1.3/LibGit2/src/oid.jl:220\n  zero(!Matched::Type{Pkg.Resolve.VersionWeights.VersionWeight}) at /buildworker/worker/package_linux64/build/usr/share/julia/stdlib/v1.3/Pkg/src/resolve/VersionWeights.jl:19\n  ...",
     "output_type": "error",
     "traceback": [
      "MethodError: no method matching zero(::Type{Tuple{Float64,Zygote.var\"#916#back#380\"{Zygote.var\"#378#379\"{Float64}}}})\nClosest candidates are:\n  zero(!Matched::Type{Missing}) at missing.jl:103\n  zero(!Matched::Type{LibGit2.GitHash}) at /buildworker/worker/package_linux64/build/usr/share/julia/stdlib/v1.3/LibGit2/src/oid.jl:220\n  zero(!Matched::Type{Pkg.Resolve.VersionWeights.VersionWeight}) at /buildworker/worker/package_linux64/build/usr/share/julia/stdlib/v1.3/Pkg/src/resolve/VersionWeights.jl:19\n  ...",
      "",
      "Stacktrace:",
      " [1] _zeros_eltypes at /buildworker/worker/package_linux64/build/usr/share/julia/stdlib/v1.3/SparseArrays/src/higherorderfns.jl:203 [inlined]",
      " [2] _noshapecheck_map(::Zygote.var\"#1570#1577\", ::SparseVector{Tuple{Float64,Zygote.var\"#916#back#380\"{Zygote.var\"#378#379\"{Float64}}},Int64}) at /buildworker/worker/package_linux64/build/usr/share/julia/stdlib/v1.3/SparseArrays/src/higherorderfns.jl:159",
      " [3] map(::Zygote.var\"#1570#1577\", ::SparseVector{Tuple{Float64,Zygote.var\"#916#back#380\"{Zygote.var\"#378#379\"{Float64}}},Int64}) at /buildworker/worker/package_linux64/build/usr/share/julia/stdlib/v1.3/SparseArrays/src/higherorderfns.jl:142",
      " [4] adjoint at /home/olszewskip/.julia/packages/Zygote/vrsws/src/lib/broadcast.jl:126 [inlined]",
      " [5] _pullback at /home/olszewskip/.julia/packages/ZygoteRules/6nssF/src/adjoint.jl:47 [inlined]",
      " [6] adjoint at /home/olszewskip/.julia/packages/Zygote/vrsws/src/lib/lib.jl:153 [inlined]",
      " [7] _pullback at /home/olszewskip/.julia/packages/ZygoteRules/6nssF/src/adjoint.jl:47 [inlined]",
      " [8] broadcasted at ./broadcast.jl:1231 [inlined]",
      " [9] _crossentropy at /home/olszewskip/.julia/packages/Flux/oX9Pi/src/layers/stateless.jl:9 [inlined]",
      " [10] _pullback(::Zygote.Context, ::typeof(Flux._crossentropy), ::SparseVector{Float64,Int64}, ::SparseVector{Int64,Int64}, ::Nothing) at /home/olszewskip/.julia/packages/Zygote/vrsws/src/compiler/interface2.jl:0",
      " [11] #crossentropy#48 at /home/olszewskip/.julia/packages/Flux/oX9Pi/src/layers/stateless.jl:20 [inlined]",
      " [12] _pullback(::Zygote.Context, ::Flux.var\"##crossentropy#48\", ::Nothing, ::typeof(crossentropy), ::SparseVector{Float64,Int64}, ::SparseVector{Int64,Int64}) at /home/olszewskip/.julia/packages/Zygote/vrsws/src/compiler/interface2.jl:0",
      " [13] crossentropy at /home/olszewskip/.julia/packages/Flux/oX9Pi/src/layers/stateless.jl:20 [inlined]",
      " [14] _pullback(::Zygote.Context, ::typeof(crossentropy), ::SparseVector{Float64,Int64}, ::SparseVector{Int64,Int64}) at /home/olszewskip/.julia/packages/Zygote/vrsws/src/compiler/interface2.jl:0",
      " [15] loss at ./In[77]:1 [inlined]",
      " [16] _pullback(::Zygote.Context, ::typeof(loss), ::SparseVector{Int64,Int64}, ::SparseVector{Int64,Int64}) at /home/olszewskip/.julia/packages/Zygote/vrsws/src/compiler/interface2.jl:0",
      " [17] _pullback(::Zygote.Context, ::var\"#21#22\") at ./In[81]:2",
      " [18] pullback(::Function, ::Params) at /home/olszewskip/.julia/packages/Zygote/vrsws/src/compiler/interface.jl:96",
      " [19] gradient(::Function, ::Params) at /home/olszewskip/.julia/packages/Zygote/vrsws/src/compiler/interface.jl:46",
      " [20] top-level scope at In[81]:1"
     ]
    }
   ],
   "source": [
    "gradient(params(m)) do\n",
    "    loss(sparse(1:10), sparse(1:5))\n",
    "end"
   ]
  },
  {
   "cell_type": "code",
   "execution_count": 60,
   "metadata": {},
   "outputs": [
    {
     "ename": "MethodError",
     "evalue": "MethodError: no method matching zero(::Type{Tuple{Float64,Zygote.var\"#916#back#380\"{Zygote.var\"#378#379\"{Float64}}}})\nClosest candidates are:\n  zero(!Matched::Type{Missing}) at missing.jl:103\n  zero(!Matched::Type{LibGit2.GitHash}) at /buildworker/worker/package_linux64/build/usr/share/julia/stdlib/v1.3/LibGit2/src/oid.jl:220\n  zero(!Matched::Type{Pkg.Resolve.VersionWeights.VersionWeight}) at /buildworker/worker/package_linux64/build/usr/share/julia/stdlib/v1.3/Pkg/src/resolve/VersionWeights.jl:19\n  ...",
     "output_type": "error",
     "traceback": [
      "MethodError: no method matching zero(::Type{Tuple{Float64,Zygote.var\"#916#back#380\"{Zygote.var\"#378#379\"{Float64}}}})\nClosest candidates are:\n  zero(!Matched::Type{Missing}) at missing.jl:103\n  zero(!Matched::Type{LibGit2.GitHash}) at /buildworker/worker/package_linux64/build/usr/share/julia/stdlib/v1.3/LibGit2/src/oid.jl:220\n  zero(!Matched::Type{Pkg.Resolve.VersionWeights.VersionWeight}) at /buildworker/worker/package_linux64/build/usr/share/julia/stdlib/v1.3/Pkg/src/resolve/VersionWeights.jl:19\n  ...",
      "",
      "Stacktrace:",
      " [1] _zeros_eltypes at /buildworker/worker/package_linux64/build/usr/share/julia/stdlib/v1.3/SparseArrays/src/higherorderfns.jl:203 [inlined]",
      " [2] _noshapecheck_map(::Zygote.var\"#1570#1577\", ::SparseMatrixCSC{Tuple{Float64,Zygote.var\"#916#back#380\"{Zygote.var\"#378#379\"{Float64}}},Int64}) at /buildworker/worker/package_linux64/build/usr/share/julia/stdlib/v1.3/SparseArrays/src/higherorderfns.jl:159",
      " [3] map(::Zygote.var\"#1570#1577\", ::SparseMatrixCSC{Tuple{Float64,Zygote.var\"#916#back#380\"{Zygote.var\"#378#379\"{Float64}}},Int64}) at /buildworker/worker/package_linux64/build/usr/share/julia/stdlib/v1.3/SparseArrays/src/higherorderfns.jl:143",
      " [4] adjoint at /home/olszewskip/.julia/packages/Zygote/vrsws/src/lib/broadcast.jl:126 [inlined]",
      " [5] _pullback at /home/olszewskip/.julia/packages/ZygoteRules/6nssF/src/adjoint.jl:47 [inlined]",
      " [6] adjoint at /home/olszewskip/.julia/packages/Zygote/vrsws/src/lib/lib.jl:153 [inlined]",
      " [7] _pullback at /home/olszewskip/.julia/packages/ZygoteRules/6nssF/src/adjoint.jl:47 [inlined]",
      " [8] broadcasted at ./broadcast.jl:1231 [inlined]",
      " [9] _crossentropy at /home/olszewskip/.julia/packages/Flux/oX9Pi/src/layers/stateless.jl:9 [inlined]",
      " [10] _pullback(::Zygote.Context, ::typeof(Flux._crossentropy), ::SparseMatrixCSC{Float64,Int64}, ::Flux.OneHotMatrix{Array{Flux.OneHotVector,1}}, ::Nothing) at /home/olszewskip/.julia/packages/Zygote/vrsws/src/compiler/interface2.jl:0",
      " [11] #crossentropy#48 at /home/olszewskip/.julia/packages/Flux/oX9Pi/src/layers/stateless.jl:20 [inlined]",
      " [12] _pullback(::Zygote.Context, ::Flux.var\"##crossentropy#48\", ::Nothing, ::typeof(crossentropy), ::SparseMatrixCSC{Float64,Int64}, ::Flux.OneHotMatrix{Array{Flux.OneHotVector,1}}) at /home/olszewskip/.julia/packages/Zygote/vrsws/src/compiler/interface2.jl:0",
      " [13] crossentropy at /home/olszewskip/.julia/packages/Flux/oX9Pi/src/layers/stateless.jl:20 [inlined]",
      " [14] _pullback(::Zygote.Context, ::typeof(crossentropy), ::SparseMatrixCSC{Float64,Int64}, ::Flux.OneHotMatrix{Array{Flux.OneHotVector,1}}) at /home/olszewskip/.julia/packages/Zygote/vrsws/src/compiler/interface2.jl:0",
      " [15] loss at ./In[47]:1 [inlined]",
      " [16] _pullback(::Zygote.Context, ::typeof(loss), ::Array{Float64,2}, ::Flux.OneHotMatrix{Array{Flux.OneHotVector,1}}) at /home/olszewskip/.julia/packages/Zygote/vrsws/src/compiler/interface2.jl:0",
      " [17] adjoint at /home/olszewskip/.julia/packages/Zygote/vrsws/src/lib/lib.jl:153 [inlined]",
      " [18] _pullback at /home/olszewskip/.julia/packages/ZygoteRules/6nssF/src/adjoint.jl:47 [inlined]",
      " [19] #15 at /home/olszewskip/.julia/packages/Flux/oX9Pi/src/optimise/train.jl:69 [inlined]",
      " [20] _pullback(::Zygote.Context, ::Flux.Optimise.var\"#15#21\"{typeof(loss),Tuple{Array{Float64,2},Flux.OneHotMatrix{Array{Flux.OneHotVector,1}}}}) at /home/olszewskip/.julia/packages/Zygote/vrsws/src/compiler/interface2.jl:0",
      " [21] pullback(::Function, ::Params) at /home/olszewskip/.julia/packages/Zygote/vrsws/src/compiler/interface.jl:96",
      " [22] gradient(::Function, ::Params) at /home/olszewskip/.julia/packages/Zygote/vrsws/src/compiler/interface.jl:46",
      " [23] macro expansion at /home/olszewskip/.julia/packages/Flux/oX9Pi/src/optimise/train.jl:68 [inlined]",
      " [24] macro expansion at /home/olszewskip/.julia/packages/Juno/oLB1d/src/progress.jl:134 [inlined]",
      " [25] #train!#12(::Flux.Optimise.var\"#16#22\", ::typeof(train!), ::Function, ::Params, ::Array{Tuple{Array{Float64,2},Flux.OneHotMatrix{Array{Flux.OneHotVector,1}}},1}, ::ADAM) at /home/olszewskip/.julia/packages/Flux/oX9Pi/src/optimise/train.jl:66",
      " [26] train!(::Function, ::Params, ::Array{Tuple{Array{Float64,2},Flux.OneHotMatrix{Array{Flux.OneHotVector,1}}},1}, ::ADAM) at /home/olszewskip/.julia/packages/Flux/oX9Pi/src/optimise/train.jl:64",
      " [27] top-level scope at In[60]:1"
     ]
    }
   ],
   "source": [
    "train!(loss, params(m), [(X, y)], opt)"
   ]
  },
  {
   "cell_type": "code",
   "execution_count": 34,
   "metadata": {},
   "outputs": [
    {
     "name": "stdout",
     "output_type": "stream",
     "text": [
      "epoch    0: loss = 15.3308 | deepbuzz.([3, 5, 15, 98]) = [\"fizzbuzz\", \"buzz\", \"buzz\", \"fizzbuzz\"]\n",
      "epoch   50: loss = 6.956 | deepbuzz.([3, 5, 15, 98]) = [\"fizzbuzz\", \"buzz\", \"buzz\", \"fizz\"]\n",
      "epoch  100: loss = 4.8983 | deepbuzz.([3, 5, 15, 98]) = [\"fizz\", \"buzz\", \"buzz\", \"fizz\"]\n",
      "epoch  150: loss = 3.8004 | deepbuzz.([3, 5, 15, 98]) = [\"fizz\", \"buzz\", \"buzz\", \"fizz\"]\n",
      "epoch  200: loss = 2.8627 | deepbuzz.([3, 5, 15, 98]) = [\"fizz\", \"buzz\", \"buzz\", \"fizz\"]\n",
      "epoch  250: loss = 2.0293 | deepbuzz.([3, 5, 15, 98]) = [\"fizz\", \"buzz\", \"buzz\", \"fizz\"]\n",
      "epoch  300: loss = 1.3288 | deepbuzz.([3, 5, 15, 98]) = Any[\"fizz\", \"buzz\", \"buzz\", 98]\n",
      "epoch  350: loss = 0.8912 | deepbuzz.([3, 5, 15, 98]) = Any[\"fizz\", \"buzz\", \"buzz\", 98]\n",
      "epoch  400: loss = 0.6748 | deepbuzz.([3, 5, 15, 98]) = Any[3, \"buzz\", \"buzz\", 98]\n",
      "epoch  450: loss = 0.5544 | deepbuzz.([3, 5, 15, 98]) = Any[3, \"buzz\", \"buzz\", 98]\n",
      "epoch  500: loss = 0.4704 | deepbuzz.([3, 5, 15, 98]) = Any[3, \"buzz\", \"buzz\", 98]\n",
      "epoch  550: loss = 0.4042 | deepbuzz.([3, 5, 15, 98]) = Any[\"fizz\", \"buzz\", \"buzz\", 98]\n",
      "epoch  600: loss = 0.349 | deepbuzz.([3, 5, 15, 98]) = Any[\"fizz\", \"buzz\", \"buzz\", 98]\n",
      "epoch  650: loss = 0.302 | deepbuzz.([3, 5, 15, 98]) = Any[\"fizz\", \"buzz\", \"buzz\", 98]\n",
      "epoch  700: loss = 0.2617 | deepbuzz.([3, 5, 15, 98]) = Any[\"fizz\", \"buzz\", \"buzz\", 98]\n",
      "epoch  750: loss = 0.2275 | deepbuzz.([3, 5, 15, 98]) = Any[\"fizz\", \"buzz\", \"buzz\", 98]\n",
      "epoch  800: loss = 0.1988 | deepbuzz.([3, 5, 15, 98]) = Any[\"fizz\", \"buzz\", \"buzz\", 98]\n",
      "epoch  850: loss = 0.1748 | deepbuzz.([3, 5, 15, 98]) = Any[\"fizz\", \"buzz\", \"buzz\", 98]\n",
      "epoch  900: loss = 0.155 | deepbuzz.([3, 5, 15, 98]) = Any[\"fizz\", \"buzz\", \"fizzbuzz\", 98]\n",
      "epoch  950: loss = 0.1385 | deepbuzz.([3, 5, 15, 98]) = Any[\"fizz\", \"buzz\", \"fizzbuzz\", 98]\n",
      "epoch 1000: loss = 0.1247 | deepbuzz.([3, 5, 15, 98]) = Any[\"fizz\", \"buzz\", \"fizzbuzz\", 98]\n"
     ]
    }
   ],
   "source": [
    "# Training\n",
    "for e in 0:1000\n",
    "    train!(loss, params(m), [(X, y)], opt)\n",
    "    if e % 50 == 0; monitor(e) end\n",
    "end"
   ]
  },
  {
   "cell_type": "code",
   "execution_count": null,
   "metadata": {},
   "outputs": [],
   "source": []
  }
 ],
 "metadata": {
  "@webio": {
   "lastCommId": null,
   "lastKernelId": null
  },
  "kernelspec": {
   "display_name": "Julia 1.3.1",
   "language": "julia",
   "name": "julia-1.3"
  },
  "language_info": {
   "file_extension": ".jl",
   "mimetype": "application/julia",
   "name": "julia",
   "version": "1.3.1"
  }
 },
 "nbformat": 4,
 "nbformat_minor": 2
}
