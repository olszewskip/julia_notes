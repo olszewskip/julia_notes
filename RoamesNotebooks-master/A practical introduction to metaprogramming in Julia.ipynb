{
 "cells": [
  {
   "cell_type": "markdown",
   "metadata": {},
   "source": [
    "# A practical introduction to metaprogramming in Julia\n",
    "\n",
    "**Andy Ferris**, *JuliaCon 2018*\n",
    "\n",
    "---\n",
    "\n",
    "Welcome to the JuliaCon 2018 workshop on metaprogramming!\n",
    "\n",
    "This is an Jupyter notebook. It contains a mixture of static text and interactive code. The Jupyter notebook is connected to  a fully-fledged instance of Julia (the \"kernel\"), so you can execute any code like you would at the REPL."
   ]
  },
  {
   "cell_type": "code",
   "execution_count": 1,
   "metadata": {},
   "outputs": [
    {
     "data": {
      "text/plain": [
       "2"
      ]
     },
     "execution_count": 1,
     "metadata": {},
     "output_type": "execute_result"
    }
   ],
   "source": [
    "## EXERCISE\n",
    "\n",
    "# Use shift-enter to evaluate cell\n",
    "\n",
    "1 + 1"
   ]
  },
  {
   "cell_type": "code",
   "execution_count": 2,
   "metadata": {},
   "outputs": [],
   "source": [
    "# Feel free to type and execute whatever you want\n",
    "\n"
   ]
  },
  {
   "cell_type": "markdown",
   "metadata": {},
   "source": [
    "Execute the code blocks as you follow along with the tutorial below. There will be exercises."
   ]
  },
  {
   "cell_type": "markdown",
   "metadata": {},
   "source": [
    "---\n",
    "\n",
    "# Introduction\n",
    "\n",
    "In many programming environments, user friendliness must be traded of with execution speed. Using abstractions or “generic” code may come with a run-time overhead. Avoiding abstract or generic code exposes the user to underlying details that they may not care about, making code harder to read and reason about at a higher level, reducing programmer productivity. Often two languages are even employed - one for rapid prototyping, and one for deployment.\n",
    "\n",
    "It doesn’t have to be this way. The Julia language has been carefully constructed to allow for many common abstractions to be dealt with statically at compile time and have a have a zero run-time cost. This workshop will cover the topic of “metaprogramming” in Julia, which plays a large role in providing for low-cost abstractions and generic APIs. Traditionally, a “meta” program is logic which executes at compile time to help generate the code of a resulting program - that is, it is code that generates other code.\n",
    "\n",
    "In this workshop we will cover the building blocks of metaprogramming in Julia, starting with one of its core concepts - multiple dispatch, which in combination with the type system is itself is a Turing-complete computational environment. We will then begin working our way to more advanced topics such as traits, macros, constant propagation and generated functions, following approximately this order:\n",
    "\n",
    "* Multiple dispatch as a metaprogramming technique\n",
    "* Method inlining: faster than C?\n",
    "* Games with tuples: splatting, slurping and recursion\n",
    "* Dispatch revisited: interfaces and traits\n",
    "* Constant propagation (and what are `@pure` functions?)\n",
    "* Expressions and macros\n",
    "* Generated functions and when (not) to use them\n",
    "\n",
    "This workshop will attempt to be a pedagogical tutorial on how and when to use these techniques, full of practical examples I’ve seen in the wild or have used in my own code. Consideration will be given in how to use metaprogramming and still maintain a readable code base. Advice will also be provided on how to work with the compiler, and not against it, and how to make effective use of tools such as `@code_typed`. At the end of the workshop I hope you will have learned a technique or two that will help you to create generic, user-friendly APIs without sacrificing peak performance."
   ]
  },
  {
   "cell_type": "code",
   "execution_count": null,
   "metadata": {},
   "outputs": [],
   "source": [
    "## QUESTIONS?"
   ]
  },
  {
   "cell_type": "markdown",
   "metadata": {},
   "source": [
    "---\n",
    "\n",
    "# How Julia works\n",
    "\n",
    "To understand how and when to apply metaprogramming techniques, it's important to gain an understanding of how the compiler works.\n",
    "\n",
    "Compilation in Julia can be broken down into a series of steps. Very roughly, the text you type at the REPL is turned into machine code through the following processes:\n",
    "\n",
    " 1. **Parsing:** Text like `f(x)` is converted from a simple stream of characters to *expressions*. Expressions are of type `Expr` and are a structured and normalized representation of the code, for example `Expr(:call, :f, :x)`. These surface-level expressions are a form of \"intermediate representaiton\" or IR of your code. Julia has multiple levels of IR as your code is processed from our high-level language to low-level machine code.\n",
    " \n",
    " 2. **Lowering:** The surface-level IR is transformed into so-called \"lowered\" IR through a series of syntactical transformations. These transformations mostly represent Julia's \"syntactic sugar\". For example, the expression for `a[i]` is transformed into the expression for `getindex(a, i)`. Broadcast fusion `f.(a .+ b)` as well as creation of closures are other examples of Julia's syntax \"sugar\".\n",
    "\n",
    "During the lowering stage, the compiler also populates the type tree and generic method tables. Afterwards, your program is semantically complete and \"ready to run\", and can be executed by an interpretter, such as *ASTInterpreter.jl*. This is the stage that \"precompilation\" ends and forms the contents of `.ji` files.\n",
    "\n",
    "However, by default Julia will perform many additional optimization steps to transform your code into fast machine code. The steps below should be viewed as optimizations and theoretically shouldn't *semantically* affect your program in any way.\n",
    "\n",
    " 3. **Inference and optimization:** At this point the IR is in a standardized form, and we can perform analysis and transformations on the code to make it faster. Chief amongst these optimizations is type inference and method resolution - the type of each expression is *inferred* by the compiler. When a function is called, inference will determine which method of that function is dispatched to, given the input types. It must then analyze that function to determine the return type. Constant propagation, branch pruning, inlining, and other optimizations also occur at this stage.\n",
    " \n",
    " 4. **LLVM code generation:** The resulting optimized, lowered Julia IR is then transformed to LLVM IR, which is a type of assembly language. LLVM will perform it's own set of optimizations on the assembly code.\n",
    " \n",
    " 5. **Native code generation:** LLVM will transform this into native machine code, placing each specialized method into memory that can be called (from any language) via a function pointer and following the C calling convention.\n",
    "\n",
    "Importantly, Julia provides powerful reflection tools to \"see\" what is happening at any of these stages!"
   ]
  },
  {
   "cell_type": "code",
   "execution_count": 3,
   "metadata": {},
   "outputs": [
    {
     "name": "stdout",
     "output_type": "stream",
     "text": [
      "Expr\n",
      "  head: Symbol call\n",
      "  args: Array{Any}((3,))\n",
      "    1: Symbol +\n",
      "    2: Int64 1\n",
      "    3: Int64 1\n"
     ]
    }
   ],
   "source": [
    "# The surface-level expression for `1 + 1`. \n",
    "# Each `Expr` contains one \"head\" and many \"args\" (arguments). \n",
    "# For the case of `:call`, the first argument is the function being called\n",
    "dump(:(1 + 1))"
   ]
  },
  {
   "cell_type": "code",
   "execution_count": 4,
   "metadata": {},
   "outputs": [
    {
     "data": {
      "text/plain": [
       "CodeInfo(\n",
       "\u001b[90m1 ─\u001b[39m %1 = (Base.add_int)(x, y)\n",
       "\u001b[90m└──\u001b[39m      return %1\n",
       ")"
      ]
     },
     "execution_count": 4,
     "metadata": {},
     "output_type": "execute_result"
    }
   ],
   "source": [
    "# This is looking *inside* the + function, for `+(::Int64, ::Int64)`.\n",
    "# Internally, this calls another (built-in) function called `Base.add_int`\n",
    "@code_lowered 1 + 1"
   ]
  },
  {
   "cell_type": "code",
   "execution_count": 5,
   "metadata": {},
   "outputs": [
    {
     "data": {
      "text/plain": [
       "CodeInfo(\n",
       "\u001b[90m1 ─\u001b[39m %1 = (Base.add_int)(x, y)\u001b[36m::Int64\u001b[39m\n",
       "\u001b[90m└──\u001b[39m      return %1\n",
       ") => Int64"
      ]
     },
     "execution_count": 5,
     "metadata": {},
     "output_type": "execute_result"
    }
   ],
   "source": [
    "# Inference has marked the return type of `+(::Int64, ::Int64)` as `Int64`.\n",
    "# Base.add_int is a built-in function and cannot be optimized further.\n",
    "@code_typed 1 + 1"
   ]
  },
  {
   "cell_type": "code",
   "execution_count": 6,
   "metadata": {},
   "outputs": [
    {
     "name": "stdout",
     "output_type": "stream",
     "text": [
      "\n",
      ";  @ int.jl:53 within `+'\n",
      "define i64 @\"julia_+_11601\"(i64, i64) {\n",
      "top:\n",
      "  %2 = add i64 %1, %0\n",
      "  ret i64 %2\n",
      "}\n"
     ]
    }
   ],
   "source": [
    "# Here is the LLVM assembly for adding two `i64`s, using LLVM's built-in `add` function.\n",
    "@code_llvm 1 + 1"
   ]
  },
  {
   "cell_type": "code",
   "execution_count": 7,
   "metadata": {},
   "outputs": [
    {
     "name": "stdout",
     "output_type": "stream",
     "text": [
      "\t.text\n",
      "; ┌ @ int.jl:53 within `+'\n",
      "\tleaq\t(%rdi,%rsi), %rax\n",
      "\tretq\n",
      "\tnopw\t%cs:(%rax,%rax)\n",
      "; └\n"
     ]
    }
   ],
   "source": [
    "# This is the native x64 assembly for adding two signed 64-bit integers, using the `leaq` instruction.\n",
    "@code_native 1 + 1"
   ]
  },
  {
   "cell_type": "code",
   "execution_count": 11,
   "metadata": {},
   "outputs": [
    {
     "name": "stdout",
     "output_type": "stream",
     "text": [
      "Expr\n",
      "  head: Symbol call\n",
      "  args: Array{Any}((2,))\n",
      "    1: Symbol sin\n",
      "    2: Int64 2\n"
     ]
    }
   ],
   "source": [
    "## EXERCISE\n",
    "\n",
    "# Feel free to explore code for some other functions you know. Press shift-enter to execute.\n",
    "# Some ideas: ==, <, push!, sin (with Int or Float64)\n",
    "\n",
    "dump(:(sin(2)))"
   ]
  },
  {
   "cell_type": "code",
   "execution_count": 12,
   "metadata": {},
   "outputs": [
    {
     "data": {
      "text/plain": [
       "CodeInfo(\n",
       "\u001b[90m1 ─\u001b[39m %1 = (Base.Math.float)(x)\n",
       "\u001b[90m│  \u001b[39m %2 = (Base.Math.sin)(%1)\n",
       "\u001b[90m└──\u001b[39m      return %2\n",
       ")"
      ]
     },
     "execution_count": 12,
     "metadata": {},
     "output_type": "execute_result"
    }
   ],
   "source": [
    "@code_lowered sin(2)"
   ]
  },
  {
   "cell_type": "code",
   "execution_count": 13,
   "metadata": {},
   "outputs": [
    {
     "data": {
      "text/plain": [
       "CodeInfo(\n",
       "\u001b[90m1 ─\u001b[39m %1 = (Base.sitofp)(Float64, x)\u001b[36m::Float64\u001b[39m\n",
       "\u001b[90m│  \u001b[39m %2 = invoke Base.Math.sin(%1::Float64)\u001b[36m::Float64\u001b[39m\n",
       "\u001b[90m└──\u001b[39m      return %2\n",
       ") => Float64"
      ]
     },
     "execution_count": 13,
     "metadata": {},
     "output_type": "execute_result"
    }
   ],
   "source": [
    "@code_typed sin(2)"
   ]
  },
  {
   "cell_type": "code",
   "execution_count": 14,
   "metadata": {},
   "outputs": [
    {
     "name": "stdout",
     "output_type": "stream",
     "text": [
      "\n",
      ";  @ special/trig.jl:53 within `sin'\n",
      "define double @julia_sin_12819(i64) {\n",
      "top:\n",
      "; ┌ @ float.jl:271 within `float'\n",
      "; │┌ @ float.jl:256 within `Type' @ float.jl:60\n",
      "    %1 = sitofp i64 %0 to double\n",
      "; └└\n",
      "  %2 = call double @julia_sin_12820(double %1)\n",
      "  ret double %2\n",
      "}\n"
     ]
    }
   ],
   "source": [
    "@code_llvm sin(2)"
   ]
  },
  {
   "cell_type": "code",
   "execution_count": 15,
   "metadata": {},
   "outputs": [
    {
     "name": "stdout",
     "output_type": "stream",
     "text": [
      "\t.text\n",
      "; ┌ @ trig.jl:53 within `sin'\n",
      "; │┌ @ float.jl:271 within `float'\n",
      "; ││┌ @ float.jl:256 within `Type' @ trig.jl:53\n",
      "\tpushq\t%rax\n",
      "\tvcvtsi2sdq\t%rdi, %xmm0, %xmm0\n",
      "; │└└\n",
      "\tmovabsq\t$julia_sin_12820, %rax\n",
      "\tcallq\t*%rax\n",
      "\tpopq\t%rax\n",
      "\tretq\n",
      "\tnopw\t%cs:(%rax,%rax)\n",
      "; └\n"
     ]
    }
   ],
   "source": [
    "@code_native sin(2)"
   ]
  },
  {
   "cell_type": "markdown",
   "metadata": {},
   "source": [
    "---\n",
    "\n",
    "# Multiple dispatch as a metaprogramming technique\n",
    "\n",
    "As we saw, Julia's inference engine will resolve method dispatch at compile-time. This gives us an opportunity to perform logic.\n",
    "\n",
    "Here we will first demonstrate that Julia's dispatch system is in-fact Turing complete. Here we are building our own binary machine, which we can do computations with at compile time."
   ]
  },
  {
   "cell_type": "code",
   "execution_count": 18,
   "metadata": {},
   "outputs": [
    {
     "name": "stdout",
     "output_type": "stream",
     "text": [
      "search: \u001b[0m\u001b[1m:\u001b[22m >\u001b[0m\u001b[1m:\u001b[22m <\u001b[0m\u001b[1m:\u001b[22m\n",
      "\n"
     ]
    },
    {
     "data": {
      "text/latex": [
       "\\begin{verbatim}\n",
       "(:)(start, [step], stop)\n",
       "\\end{verbatim}\n",
       "Range operator. \\texttt{a:b} constructs a range from \\texttt{a} to \\texttt{b} with a step size of 1 (a \\href{@ref}{\\texttt{UnitRange}}) , and \\texttt{a:s:b} is similar but uses a step size of \\texttt{s} (a \\href{@ref}{\\texttt{StepRange}}).\n",
       "\n",
       "\\texttt{:} is also used in indexing to select whole dimensions.\n",
       "\n",
       "\\rule{\\textwidth}{1pt}\n",
       "\\begin{verbatim}\n",
       "(:)(I::CartesianIndex, J::CartesianIndex)\n",
       "\\end{verbatim}\n",
       "Construct \\href{@ref}{\\texttt{CartesianIndices}} from two \\texttt{CartesianIndex}.\n",
       "\n",
       "\\begin{quote}\n",
       "\\textbf{compat}\n",
       "\n",
       "Julia 1.1\n",
       "\n",
       "This method requires at least Julia 1.1.\n",
       "\n",
       "\\end{quote}\n",
       "\\section{Examples}\n",
       "\\begin{verbatim}\n",
       "julia> I = CartesianIndex(2,1);\n",
       "\n",
       "julia> J = CartesianIndex(3,3);\n",
       "\n",
       "julia> I:J\n",
       "2×3 CartesianIndices{2,Tuple{UnitRange{Int64},UnitRange{Int64}}}:\n",
       " CartesianIndex(2, 1)  CartesianIndex(2, 2)  CartesianIndex(2, 3)\n",
       " CartesianIndex(3, 1)  CartesianIndex(3, 2)  CartesianIndex(3, 3)\n",
       "\\end{verbatim}\n"
      ],
      "text/markdown": [
       "```\n",
       "(:)(start, [step], stop)\n",
       "```\n",
       "\n",
       "Range operator. `a:b` constructs a range from `a` to `b` with a step size of 1 (a [`UnitRange`](@ref)) , and `a:s:b` is similar but uses a step size of `s` (a [`StepRange`](@ref)).\n",
       "\n",
       "`:` is also used in indexing to select whole dimensions.\n",
       "\n",
       "---\n",
       "\n",
       "```\n",
       "(:)(I::CartesianIndex, J::CartesianIndex)\n",
       "```\n",
       "\n",
       "Construct [`CartesianIndices`](@ref) from two `CartesianIndex`.\n",
       "\n",
       "!!! compat \"Julia 1.1\"\n",
       "    This method requires at least Julia 1.1.\n",
       "\n",
       "\n",
       "# Examples\n",
       "\n",
       "```jldoctest\n",
       "julia> I = CartesianIndex(2,1);\n",
       "\n",
       "julia> J = CartesianIndex(3,3);\n",
       "\n",
       "julia> I:J\n",
       "2×3 CartesianIndices{2,Tuple{UnitRange{Int64},UnitRange{Int64}}}:\n",
       " CartesianIndex(2, 1)  CartesianIndex(2, 2)  CartesianIndex(2, 3)\n",
       " CartesianIndex(3, 1)  CartesianIndex(3, 2)  CartesianIndex(3, 3)\n",
       "```\n"
      ],
      "text/plain": [
       "\u001b[36m  (:)(start, [step], stop)\u001b[39m\n",
       "\n",
       "  Range operator. \u001b[36ma:b\u001b[39m constructs a range from \u001b[36ma\u001b[39m to \u001b[36mb\u001b[39m with a step size of 1 (a\n",
       "  \u001b[36mUnitRange\u001b[39m) , and \u001b[36ma:s:b\u001b[39m is similar but uses a step size of \u001b[36ms\u001b[39m (a \u001b[36mStepRange\u001b[39m).\n",
       "\n",
       "  \u001b[36m:\u001b[39m is also used in indexing to select whole dimensions.\n",
       "\n",
       "  ────────────────────────────────────────────────────────────────────────────\n",
       "\n",
       "\u001b[36m  (:)(I::CartesianIndex, J::CartesianIndex)\u001b[39m\n",
       "\n",
       "  Construct \u001b[36mCartesianIndices\u001b[39m from two \u001b[36mCartesianIndex\u001b[39m.\n",
       "\n",
       "\u001b[39m\u001b[1m  │ \u001b[22m\u001b[39m\u001b[1mJulia 1.1\u001b[22m\n",
       "\u001b[39m\u001b[1m  │\u001b[22m\n",
       "\u001b[39m\u001b[1m  │\u001b[22m  This method requires at least Julia 1.1.\n",
       "\n",
       "\u001b[1m  Examples\u001b[22m\n",
       "\u001b[1m  ≡≡≡≡≡≡≡≡≡≡\u001b[22m\n",
       "\n",
       "\u001b[36m  julia> I = CartesianIndex(2,1);\u001b[39m\n",
       "\u001b[36m  \u001b[39m\n",
       "\u001b[36m  julia> J = CartesianIndex(3,3);\u001b[39m\n",
       "\u001b[36m  \u001b[39m\n",
       "\u001b[36m  julia> I:J\u001b[39m\n",
       "\u001b[36m  2×3 CartesianIndices{2,Tuple{UnitRange{Int64},UnitRange{Int64}}}:\u001b[39m\n",
       "\u001b[36m   CartesianIndex(2, 1)  CartesianIndex(2, 2)  CartesianIndex(2, 3)\u001b[39m\n",
       "\u001b[36m   CartesianIndex(3, 1)  CartesianIndex(3, 2)  CartesianIndex(3, 3)\u001b[39m"
      ]
     },
     "execution_count": 18,
     "metadata": {},
     "output_type": "execute_result"
    }
   ],
   "source": [
    "?:"
   ]
  },
  {
   "cell_type": "code",
   "execution_count": 19,
   "metadata": {},
   "outputs": [],
   "source": [
    "# Binary representation at the type level - no run-time data!\n",
    "\n",
    "abstract type Bit; end\n",
    "\n",
    "struct Zero <: Bit; end\n",
    "struct One <: Bit; end"
   ]
  },
  {
   "cell_type": "code",
   "execution_count": 20,
   "metadata": {},
   "outputs": [],
   "source": [
    "# OR and AND for two Bits\n",
    "\n",
    "Base.:|(::Zero, ::Zero) = Zero()\n",
    "Base.:|(::Zero, ::One)  = One()\n",
    "Base.:|(::One,  ::Zero) = One()\n",
    "Base.:|(::One,  ::One)  = One()\n",
    "\n",
    "Base.:&(::Zero, ::Zero) = Zero()\n",
    "Base.:&(::Zero, ::One)  = Zero()\n",
    "Base.:&(::One,  ::Zero) = Zero()\n",
    "Base.:&(::One,  ::One)  = One()"
   ]
  },
  {
   "cell_type": "code",
   "execution_count": 21,
   "metadata": {},
   "outputs": [],
   "source": [
    "# 8 Bits make a Byte\n",
    "\n",
    "struct Byte{Bit1 <: Bit, Bit2 <: Bit, Bit3 <: Bit, Bit4 <: Bit, Bit5 <: Bit, Bit6 <: Bit, Bit7 <: Bit, Bit8 <: Bit}\n",
    "    bit1::Bit1\n",
    "    bit2::Bit2\n",
    "    bit3::Bit3\n",
    "    bit4::Bit4\n",
    "    bit5::Bit5\n",
    "    bit6::Bit6\n",
    "    bit7::Bit7\n",
    "    bit8::Bit8\n",
    "end"
   ]
  },
  {
   "cell_type": "code",
   "execution_count": 22,
   "metadata": {},
   "outputs": [],
   "source": [
    "# Bitwise OR and AND on Bytes\n",
    "\n",
    "function Base.:|(byte1::Byte, byte2::Byte)\n",
    "    return Byte(byte1.bit1 | byte2.bit1,\n",
    "                byte1.bit2 | byte2.bit2,\n",
    "                byte1.bit3 | byte2.bit3,\n",
    "                byte1.bit4 | byte2.bit4,\n",
    "                byte1.bit5 | byte2.bit5,\n",
    "                byte1.bit6 | byte2.bit6,\n",
    "                byte1.bit7 | byte2.bit7,\n",
    "                byte1.bit8 | byte2.bit8)\n",
    "end\n",
    "\n",
    "function Base.:&(byte1::Byte, byte2::Byte)\n",
    "    return Byte(byte1.bit1 & byte2.bit1,\n",
    "                byte1.bit2 & byte2.bit2,\n",
    "                byte1.bit3 & byte2.bit3,\n",
    "                byte1.bit4 & byte2.bit4,\n",
    "                byte1.bit5 & byte2.bit5,\n",
    "                byte1.bit6 & byte2.bit6,\n",
    "                byte1.bit7 & byte2.bit7,\n",
    "                byte1.bit8 & byte2.bit8)\n",
    "end"
   ]
  },
  {
   "cell_type": "markdown",
   "metadata": {},
   "source": [
    "We can now perform almost arbitrary logic on bits and bytes!"
   ]
  },
  {
   "cell_type": "code",
   "execution_count": 23,
   "metadata": {},
   "outputs": [
    {
     "data": {
      "text/plain": [
       "Byte{Zero,One,Zero,Zero,Zero,One,Zero,One}(Zero(), One(), Zero(), Zero(), Zero(), One(), Zero(), One())"
      ]
     },
     "execution_count": 23,
     "metadata": {},
     "output_type": "execute_result"
    }
   ],
   "source": [
    "byte1 = Byte(Zero(), Zero(), One(),  Zero(), Zero(), One(), One(),  One())\n",
    "byte2 = Byte(Zero(), One(),  Zero(), Zero(), Zero(), One(), Zero(), One())"
   ]
  },
  {
   "cell_type": "code",
   "execution_count": 24,
   "metadata": {},
   "outputs": [
    {
     "data": {
      "text/plain": [
       "Byte{Zero,One,One,Zero,Zero,One,One,One}(Zero(), One(), One(), Zero(), Zero(), One(), One(), One())"
      ]
     },
     "execution_count": 24,
     "metadata": {},
     "output_type": "execute_result"
    }
   ],
   "source": [
    "byte1 | byte2"
   ]
  },
  {
   "cell_type": "code",
   "execution_count": 25,
   "metadata": {},
   "outputs": [
    {
     "data": {
      "text/plain": [
       "Byte{Zero,Zero,Zero,Zero,Zero,One,Zero,One}(Zero(), Zero(), Zero(), Zero(), Zero(), One(), Zero(), One())"
      ]
     },
     "execution_count": 25,
     "metadata": {},
     "output_type": "execute_result"
    }
   ],
   "source": [
    "byte1 & byte2"
   ]
  },
  {
   "cell_type": "code",
   "execution_count": 26,
   "metadata": {},
   "outputs": [
    {
     "data": {
      "text/plain": [
       "CodeInfo(\n",
       "\u001b[90m1 ─\u001b[39m     return $(QuoteNode(Byte{Zero,One,One,Zero,Zero,One,One,One}(Zero(), One(), One(), Zero(), Zero(), One(), One(), One())))\n",
       ") => Byte{Zero,One,One,Zero,Zero,One,One,One}"
      ]
     },
     "execution_count": 26,
     "metadata": {},
     "output_type": "execute_result"
    }
   ],
   "source": [
    "# Let's see if type inference is doing the computation at compile-time\n",
    "\n",
    "@code_typed byte1 | byte2"
   ]
  },
  {
   "cell_type": "code",
   "execution_count": 27,
   "metadata": {},
   "outputs": [
    {
     "name": "stdout",
     "output_type": "stream",
     "text": [
      "\t.text\n",
      "; ┌ @ In[22]:4 within `|'\n",
      "\tmovq\t%rsi, -8(%rsp)\n",
      "\tmovabsq\t$140676879521816, %rax  # imm = 0x7FF1E36E9818\n",
      "\tretq\n",
      "; └\n"
     ]
    }
   ],
   "source": [
    "# We can check if any logic at all is performed at run time\n",
    "\n",
    "@code_native byte1 | byte2"
   ]
  },
  {
   "cell_type": "code",
   "execution_count": 28,
   "metadata": {},
   "outputs": [
    {
     "data": {
      "text/plain": [
       "Ptr{Nothing} @0x00007ff1e36e9818"
      ]
     },
     "execution_count": 28,
     "metadata": {},
     "output_type": "execute_result"
    }
   ],
   "source": [
    "# This is just a pointer to the singleton object - a compile-time constant\n",
    "\n",
    "unsafe_load(Base.unsafe_convert(Ptr{Ptr{Nothing}}, pointer_from_objref(Byte{Zero,One,One,Zero,Zero,One,One,One}) + 0x28)) # The 0x28 comes from the layout of DataType on x64"
   ]
  },
  {
   "cell_type": "code",
   "execution_count": 29,
   "metadata": {},
   "outputs": [],
   "source": [
    "## EXERCISE\n",
    "\n",
    "# What other operations could you do in the type domain? Use your imagination!\n",
    "\n"
   ]
  },
  {
   "cell_type": "code",
   "execution_count": 30,
   "metadata": {},
   "outputs": [
    {
     "data": {
      "text/plain": [
       "Val{1}()"
      ]
     },
     "execution_count": 30,
     "metadata": {},
     "output_type": "execute_result"
    }
   ],
   "source": [
    "# There is a type in `Base` called `Val`\n",
    "# It lets you carry (immutable) data as a type parameter\n",
    "# You can then pass this data between functions as compile-time information.\n",
    "# WARNING: Only fast if the data is a compile-time constant!!\n",
    "\n",
    "Val(1)"
   ]
  },
  {
   "cell_type": "markdown",
   "metadata": {},
   "source": [
    "### Turing Complete\n",
    "\n",
    "To make this Turing-complete, we need some way of creating \"memory\". One could use more `struct`s to build a heirarchy of words and pages of increasing number of bits, complete with a system of pointers and so-on!\n",
    "\n",
    "Alternatively, one can use the built-in `Tuple` type which can accept an arbitrary number of fields of different types. In either case, it is possible to perform just about any computation purely in the type domain.\n",
    "\n",
    "### Practical limitations on inference: the halting problem\n",
    "\n",
    "Julia is a friendly, interactive proramming environment. Code is being compiled and generated as users enter commands at the REPL or even during the normal execution of programs.\n",
    "\n",
    "To avoid horrible run-time crashes of the compiler itself, type inference must protect itself from doing arbitrarily complex logic which may never halt (or take too much RAM). It is quite easy to write a program which \"works\" but never ends - but it is not easy to determine exactly which programs will terminate without some level of approximation."
   ]
  },
  {
   "cell_type": "code",
   "execution_count": 31,
   "metadata": {},
   "outputs": [
    {
     "data": {
      "text/plain": [
       "never_ending_function (generic function with 1 method)"
      ]
     },
     "execution_count": 31,
     "metadata": {},
     "output_type": "execute_result"
    }
   ],
   "source": [
    "# A function that never ends\n",
    "\n",
    "never_ending_function(i::Int) = never_ending_function(i + 1)"
   ]
  },
  {
   "cell_type": "code",
   "execution_count": 32,
   "metadata": {},
   "outputs": [
    {
     "ename": "StackOverflowError",
     "evalue": "StackOverflowError:",
     "output_type": "error",
     "traceback": [
      "StackOverflowError:",
      "",
      "Stacktrace:",
      " [1] never_ending_function(::Int64) at ./In[31]:3 (repeats 80000 times)"
     ]
    }
   ],
   "source": [
    "# I wonder what this does?\n",
    "\n",
    "never_ending_function(1)"
   ]
  },
  {
   "cell_type": "markdown",
   "metadata": {},
   "source": [
    "### Type widening\n",
    "\n",
    "To deal with this challenge, the inference engine will only work with limited precision. In situations that may be potentially dangerous for the compiler - for example involving extremely complex types, or certain kinds of recursive function calls - the inference engine will intentially \"approximate\" its knowledge of the types to limit compile-time complexity. Inference may assign types \"wider\" than those deemed possible, but never narrower.\n",
    "\n",
    "This is an important feature of Julia's compiler and is rarely an issue in practice, if you know how to work with the compiler. \n",
    "\n",
    "### So, what now?\n",
    "\n",
    "The example above is a poor use of Julia's dispatch capabilities. Next we'll discuss some more useful dispatch scenarios you use every day in Julia."
   ]
  },
  {
   "cell_type": "code",
   "execution_count": 33,
   "metadata": {},
   "outputs": [],
   "source": [
    "## QUESTIONS?"
   ]
  },
  {
   "cell_type": "markdown",
   "metadata": {},
   "source": [
    "---\n",
    "\n",
    "# Promotion\n",
    "\n",
    "Julia's `Base` library makes use of a *promotion system* so that working with and mixing together data of differnt types is simple and easy. For example, adding an integer to a floating point number automatically gives a floating point number:"
   ]
  },
  {
   "cell_type": "code",
   "execution_count": 34,
   "metadata": {},
   "outputs": [
    {
     "data": {
      "text/plain": [
       "4.14159"
      ]
     },
     "execution_count": 34,
     "metadata": {},
     "output_type": "execute_result"
    }
   ],
   "source": [
    "1 + 3.14159"
   ]
  },
  {
   "cell_type": "markdown",
   "metadata": {},
   "source": [
    "The promotion system is generic and fully-extensible to user-defined types. To promote two objects to the same type, we use the `promote` function, which returns a tuple with the two promoted objects:"
   ]
  },
  {
   "cell_type": "code",
   "execution_count": 35,
   "metadata": {},
   "outputs": [
    {
     "data": {
      "text/plain": [
       "(1.0, 3.14159)"
      ]
     },
     "execution_count": 35,
     "metadata": {},
     "output_type": "execute_result"
    }
   ],
   "source": [
    "promote(1, 3.14159)"
   ]
  },
  {
   "cell_type": "markdown",
   "metadata": {},
   "source": [
    "Like many functions in `Base`, when we invoke `+` with different types, promotion will be automatically invoked. Check out this method:\n",
    "\n",
    "```julia\n",
    "+(x::Number, y::Number) = +(promote(x,y)...)\n",
    "```"
   ]
  },
  {
   "cell_type": "code",
   "execution_count": 36,
   "metadata": {},
   "outputs": [
    {
     "data": {
      "text/plain": [
       "CodeInfo(\n",
       "\u001b[90m1 ─\u001b[39m %1 = (Base.promote)(x, y)\n",
       "\u001b[90m│  \u001b[39m %2 = (Core._apply)(Base.:+, %1)\n",
       "\u001b[90m└──\u001b[39m      return %2\n",
       ")"
      ]
     },
     "execution_count": 36,
     "metadata": {},
     "output_type": "execute_result"
    }
   ],
   "source": [
    "# We can see this as a lowered expression, as well\n",
    "\n",
    "@code_lowered +(1, 3.14159)"
   ]
  },
  {
   "cell_type": "markdown",
   "metadata": {},
   "source": [
    "But how does `promote` work? For users, it is simple really - one just defines a `promote_rule` between two types. For example, one might define:\n",
    "\n",
    "```julia\n",
    "promote_rule(::Type{Float64}, ::Type{Int}) = Float64\n",
    "```\n",
    "\n",
    "One can do this with user-defined types and promotion will work automatically with many of `Base`s included functions."
   ]
  },
  {
   "cell_type": "code",
   "execution_count": null,
   "metadata": {},
   "outputs": [],
   "source": [
    "## EXERCISE: enable addition for Bits - Zero and One\n",
    "\n",
    "Base.promote_rule(::Zero, ::One) = ..."
   ]
  },
  {
   "cell_type": "code",
   "execution_count": null,
   "metadata": {},
   "outputs": [],
   "source": [
    "# What is One + Zero?\n",
    "\n"
   ]
  },
  {
   "cell_type": "code",
   "execution_count": null,
   "metadata": {},
   "outputs": [],
   "source": [
    "# What is One + 3? (you might need more promote_rules...)\n",
    "\n"
   ]
  },
  {
   "cell_type": "code",
   "execution_count": null,
   "metadata": {},
   "outputs": [],
   "source": [
    "# What is Zero + Zero?\n",
    "\n"
   ]
  },
  {
   "cell_type": "code",
   "execution_count": null,
   "metadata": {},
   "outputs": [],
   "source": [
    "# What is One + One?\n",
    "\n"
   ]
  },
  {
   "cell_type": "markdown",
   "metadata": {},
   "source": [
    "This is a really neat and easy-to-use interface for users and library developers to hook into!\n",
    "\n",
    "But - how does it **really** work?\n",
    "\n",
    "### Simplified promotion\n",
    "\n",
    "To avoid a few details (error handling, efficiently promoting more than two objects, etc), I'll demonstrate a simplified version called `promote2`:"
   ]
  },
  {
   "cell_type": "code",
   "execution_count": 37,
   "metadata": {},
   "outputs": [
    {
     "data": {
      "text/plain": [
       "promote2 (generic function with 1 method)"
      ]
     },
     "execution_count": 37,
     "metadata": {},
     "output_type": "execute_result"
    }
   ],
   "source": [
    "function promote2(a, b)\n",
    "    T = promote_type2(typeof(a), typeof(b))\n",
    "    return (convert(T, a), convert(T,b))\n",
    "end"
   ]
  },
  {
   "cell_type": "code",
   "execution_count": 38,
   "metadata": {},
   "outputs": [
    {
     "data": {
      "text/plain": [
       "promote_type2 (generic function with 2 methods)"
      ]
     },
     "execution_count": 38,
     "metadata": {},
     "output_type": "execute_result"
    }
   ],
   "source": [
    "# If two types are the same, no rule is needed\n",
    "promote_type2(::Type{T}, ::Type{T}) where {T} = T\n",
    "\n",
    "function promote_type2(::Type{T1}, ::Type{T2}) where {T1, T2}\n",
    "    T3 = promote_rule(T1, T2)\n",
    "\n",
    "    # It is OK if the user specified the rule one way but not the other\n",
    "    if T3 === Union{}\n",
    "        return promote_rule(T2, T1)\n",
    "    else\n",
    "        return T3\n",
    "    end\n",
    "end"
   ]
  },
  {
   "cell_type": "code",
   "execution_count": 39,
   "metadata": {},
   "outputs": [
    {
     "data": {
      "text/plain": [
       "(1.0, 3.14159)"
      ]
     },
     "execution_count": 39,
     "metadata": {},
     "output_type": "execute_result"
    }
   ],
   "source": [
    "promote2(1, 3.14159)"
   ]
  },
  {
   "cell_type": "code",
   "execution_count": 40,
   "metadata": {},
   "outputs": [
    {
     "data": {
      "text/plain": [
       "CodeInfo(\n",
       "\u001b[90m1 ─\u001b[39m %1 = (Base.sitofp)(Float64, a)\u001b[36m::Float64\u001b[39m\n",
       "\u001b[90m│  \u001b[39m %2 = (Core.tuple)(%1, b)\u001b[36m::Tuple{Float64,Float64}\u001b[39m\n",
       "\u001b[90m└──\u001b[39m      return %2\n",
       ") => Tuple{Float64,Float64}"
      ]
     },
     "execution_count": 40,
     "metadata": {},
     "output_type": "execute_result"
    }
   ],
   "source": [
    "@code_typed promote2(1, 3.14159)"
   ]
  },
  {
   "cell_type": "markdown",
   "metadata": {},
   "source": [
    "Promotion is a simple yet effective example of metaprogramming that\n",
    "\n",
    " 1. Is friendly for end-users\n",
    " 2. Is generic and extensible\n",
    " 3. Has zero run-time overhead\n",
    "\n",
    "These magic combination of factors is what we'll be chasing for the remainder of the workshop!"
   ]
  },
  {
   "cell_type": "code",
   "execution_count": null,
   "metadata": {},
   "outputs": [],
   "source": [
    "## QUESTIONS?"
   ]
  },
  {
   "cell_type": "markdown",
   "metadata": {},
   "source": [
    "---\n",
    "\n",
    "# Method inlining: Faster than C?\n",
    "\n",
    "In many languages, there is a run-time cost of adding many layers of indirection and dispatch.\n",
    "\n",
    "Julia's compiler will automatically *inline* certain functions, when:\n",
    "\n",
    " * The function body is small, such that the run-time cost of a new stack frame is signficant in comparison.\n",
    " * The function has no side effects and returns a type or a constant that can be inferred. In this case the function call is replaced by the type or constant.\n",
    " \n",
    "These pragmatic choices generally lead to good performance.\n",
    "\n",
    "The automatic behavior can be controlled with the macros `@inline` and `@noinline`. There are certain situations where you might like to use these\n",
    "\n",
    " * Using `@inline` can force some computations and simplifications to occur at compile time, and may be useful for your metaprogramming constructs. \n",
    " * Occassionally, using `@noinline` may help you avoid large function bodies or harmful \"optimizations\" that may result in worse performance.\n",
    " * `@noinline` is useful for creating benchmarking code (avoiding the situation where the compiler may elide what you are trying to measure).\n",
    " * Micro-optimizations"
   ]
  },
  {
   "cell_type": "code",
   "execution_count": 41,
   "metadata": {},
   "outputs": [
    {
     "data": {
      "text/plain": [
       "add2 (generic function with 1 method)"
      ]
     },
     "execution_count": 41,
     "metadata": {},
     "output_type": "execute_result"
    }
   ],
   "source": [
    "# A version of + that uses promote2\n",
    "\n",
    "add2(x,y) = +(promote2(x,y)...)"
   ]
  },
  {
   "cell_type": "code",
   "execution_count": 42,
   "metadata": {},
   "outputs": [
    {
     "data": {
      "text/plain": [
       "CodeInfo(\n",
       "\u001b[90m1 ─\u001b[39m %1 = (Base.sitofp)(Float64, x)\u001b[36m::Float64\u001b[39m\n",
       "\u001b[90m│  \u001b[39m %2 = (Base.add_float)(%1, y)\u001b[36m::Float64\u001b[39m\n",
       "\u001b[90m└──\u001b[39m      return %2\n",
       ") => Float64"
      ]
     },
     "execution_count": 42,
     "metadata": {},
     "output_type": "execute_result"
    }
   ],
   "source": [
    "# promote2, promote_type2, promote_rule and convert are all inlined and optimized away\n",
    "\n",
    "@code_typed add2(1, 3.14159)"
   ]
  },
  {
   "cell_type": "markdown",
   "metadata": {},
   "source": [
    "Method inlining can make a significant difference to performance. Traditional C and C++ compiler implementations often perform inlining as a \"link-time optimization\" (LTO) where generated code is inlined. Julia performs inlining at a higher level of IR where a greater amount of semantic information about the code is retained, leading to further optimizations opportunities (we will discuss the interplay between inlining, constant propagation and inference later)."
   ]
  },
  {
   "cell_type": "code",
   "execution_count": 43,
   "metadata": {},
   "outputs": [],
   "source": [
    "using BenchmarkTools"
   ]
  },
  {
   "cell_type": "code",
   "execution_count": 44,
   "metadata": {},
   "outputs": [
    {
     "data": {
      "text/plain": [
       "add3 (generic function with 1 method)"
      ]
     },
     "execution_count": 44,
     "metadata": {},
     "output_type": "execute_result"
    }
   ],
   "source": [
    "@noinline function promote3(a, b)\n",
    "    T = promote_type2(typeof(a), typeof(b))\n",
    "    return (convert(T, a), convert(T,b))\n",
    "end\n",
    "\n",
    "add3(x,y) = +(promote3(x,y)...)"
   ]
  },
  {
   "cell_type": "code",
   "execution_count": 45,
   "metadata": {},
   "outputs": [
    {
     "data": {
      "text/plain": [
       "BenchmarkTools.Trial: \n",
       "  memory estimate:  0 bytes\n",
       "  allocs estimate:  0\n",
       "  --------------\n",
       "  minimum time:     0.017 ns (0.00% GC)\n",
       "  median time:      0.022 ns (0.00% GC)\n",
       "  mean time:        0.023 ns (0.00% GC)\n",
       "  maximum time:     0.170 ns (0.00% GC)\n",
       "  --------------\n",
       "  samples:          10000\n",
       "  evals/sample:     1000"
      ]
     },
     "execution_count": 45,
     "metadata": {},
     "output_type": "execute_result"
    }
   ],
   "source": [
    "@benchmark add2($1, $3.14159)"
   ]
  },
  {
   "cell_type": "code",
   "execution_count": 46,
   "metadata": {},
   "outputs": [
    {
     "data": {
      "text/plain": [
       "BenchmarkTools.Trial: \n",
       "  memory estimate:  0 bytes\n",
       "  allocs estimate:  0\n",
       "  --------------\n",
       "  minimum time:     0.017 ns (0.00% GC)\n",
       "  median time:      0.021 ns (0.00% GC)\n",
       "  mean time:        0.020 ns (0.00% GC)\n",
       "  maximum time:     0.055 ns (0.00% GC)\n",
       "  --------------\n",
       "  samples:          10000\n",
       "  evals/sample:     1000"
      ]
     },
     "execution_count": 46,
     "metadata": {},
     "output_type": "execute_result"
    }
   ],
   "source": [
    "@benchmark add3($1, $3.14159)"
   ]
  },
  {
   "cell_type": "code",
   "execution_count": null,
   "metadata": {},
   "outputs": [],
   "source": [
    "## QUESTIONS?"
   ]
  },
  {
   "cell_type": "markdown",
   "metadata": {},
   "source": [
    "---\n",
    "#  Games with tuples: splatting, slurping and recursion\n",
    "\n",
    "Some functions in Julia accept a variable number of arguments - so called \"varags\" functions."
   ]
  },
  {
   "cell_type": "code",
   "execution_count": 47,
   "metadata": {},
   "outputs": [
    {
     "data": {
      "text/plain": [
       "55"
      ]
     },
     "execution_count": 47,
     "metadata": {},
     "output_type": "execute_result"
    }
   ],
   "source": [
    "+(1,2,3,4,5,6,7,8,9,10)"
   ]
  },
  {
   "cell_type": "markdown",
   "metadata": {},
   "source": [
    "### Slurping\n",
    "\n",
    "A function can \"slurp\" up its (tail) arguments into a tuple using the `...`.\n",
    "\n",
    "(Note that `...` is also used for the inverse operation, called \"splatting\", which we will discuss below.)"
   ]
  },
  {
   "cell_type": "code",
   "execution_count": 49,
   "metadata": {},
   "outputs": [
    {
     "data": {
      "text/plain": [
       "(1, 2, 3)"
      ]
     },
     "execution_count": 49,
     "metadata": {},
     "output_type": "execute_result"
    }
   ],
   "source": [
    "# This function \"slurps\" up all of it's inputs and places them into a tuple called x\n",
    "slurp(x...) = x\n",
    "\n",
    "slurp(1,2,3)"
   ]
  },
  {
   "cell_type": "code",
   "execution_count": 51,
   "metadata": {},
   "outputs": [
    {
     "data": {
      "text/plain": [
       "slurp (generic function with 2 methods)"
      ]
     },
     "execution_count": 51,
     "metadata": {},
     "output_type": "execute_result"
    }
   ],
   "source": [
    "# We can also specify the type of the variable arguments\n",
    "slurp(x::Integer...) = x\n",
    "\n",
    "# In this case, the ... is syntactic sugar for a Vararg type\n",
    "slurp(x::Vararg{Integer}) = x\n",
    "\n",
    "# You can even specify the number of arguments as the second type parameter to Vararg\n",
    "# Frequently this will be free parameter (but it can also be a constant)\n",
    "slurp(x::Vararg{Integer, N}) where {N} = x"
   ]
  },
  {
   "cell_type": "code",
   "execution_count": 52,
   "metadata": {},
   "outputs": [
    {
     "data": {
      "text/html": [
       "2 methods for generic function <b>slurp</b>:<ul><li> slurp<i>{N}</i>(x::<b>Vararg{Integer,N}</b>) in Main at In[51]:9</li> <li> slurp(x...) in Main at In[49]:2</li> </ul>"
      ],
      "text/plain": [
       "# 2 methods for generic function \"slurp\":\n",
       "[1] slurp(x::Vararg{Integer,N}) where N in Main at In[51]:9\n",
       "[2] slurp(x...) in Main at In[49]:2"
      ]
     },
     "execution_count": 52,
     "metadata": {},
     "output_type": "execute_result"
    }
   ],
   "source": [
    "## EXERCISE\n",
    "\n",
    "# Explore the different signatures of `slurp` we just created, using `methods`\n",
    "\n",
    "methods(slurp)"
   ]
  },
  {
   "cell_type": "markdown",
   "metadata": {},
   "source": [
    "The function signature can contain other arguments before the varargs.\n",
    "\n",
    "```julia\n",
    "map(f, x1, x2, xs...)\n",
    "```"
   ]
  },
  {
   "cell_type": "markdown",
   "metadata": {},
   "source": [
    "### What is a method signature, anyway?\n",
    "\n",
    "A generic function can have many methods.\n",
    "\n",
    "Each method has a signature, which is represented by a (possibly abstract) `Tuple` type, like `Tuple{Integer, Integer}`. The `Tuple` type is unique in Julia in that it's parameters are *covariant* - for example `Tuple{Int64, Int32}` is a subtype of `Tuple{Integer, Integer}`.\n",
    "\n",
    "By default, a method is invoked with a precise (concrete) set of types, like `Tuple{Int64, Int32}`. These **specialized** methods are indivually optimized, inferred and compiled to machine code.\n",
    "\n",
    "### `Varargs` and `NTuple`\n",
    "\n",
    "We can also talk about `Tuple`s of variable length, most commonly known through the `NTuple{N, T}` type. Sometimes this is just convenient shorthand, like `NTuple{3, Float64}` is shorter to write than `Tuple{Float64, Float64, Float64}`.\n",
    "\n",
    "In other cases we want to be able to accept tuples of variable lengths, sometimes with restrictions like\n",
    "\n",
    "```julia\n",
    "map(f, t1::NTuple{N}, t2::NTuple{N}) where {N}\n",
    "```\n",
    "which accepts any two tuples so long as they have the same length.\n",
    "\n",
    "Fun fact:\n",
    "\n",
    "> The `NTuple{N, T}` type is actually a simple *alias* of the type `Tuple{Vararg{T, N}}`!\n",
    "\n",
    "This provides a direct link between a varargs function signatures such as `f(::Integer...)` and the signature type `Tuple{Vararg{Integer}}`."
   ]
  },
  {
   "cell_type": "code",
   "execution_count": 53,
   "metadata": {},
   "outputs": [
    {
     "data": {
      "text/plain": [
       "Tuple{Integer,Integer,Integer}"
      ]
     },
     "execution_count": 53,
     "metadata": {},
     "output_type": "execute_result"
    }
   ],
   "source": [
    "NTuple{3, Integer}"
   ]
  },
  {
   "cell_type": "code",
   "execution_count": 54,
   "metadata": {},
   "outputs": [
    {
     "data": {
      "text/plain": [
       "Tuple{Integer,Integer,Integer}"
      ]
     },
     "execution_count": 54,
     "metadata": {},
     "output_type": "execute_result"
    }
   ],
   "source": [
    "Tuple{Vararg{Integer, 3}}"
   ]
  },
  {
   "cell_type": "code",
   "execution_count": 55,
   "metadata": {},
   "outputs": [
    {
     "data": {
      "text/plain": [
       "Tuple{Vararg{Integer,N} where N}"
      ]
     },
     "execution_count": 55,
     "metadata": {},
     "output_type": "execute_result"
    }
   ],
   "source": [
    "Tuple{Vararg{Integer}}"
   ]
  },
  {
   "cell_type": "code",
   "execution_count": 56,
   "metadata": {},
   "outputs": [
    {
     "data": {
      "text/plain": [
       "Tuple{String,Symbol,Float64,Vararg{Integer,N} where N}"
      ]
     },
     "execution_count": 56,
     "metadata": {},
     "output_type": "execute_result"
    }
   ],
   "source": [
    "# Like a function signature, their may be other types before the varargs\n",
    "\n",
    "Tuple{String, Symbol, Float64, Vararg{Integer}}"
   ]
  },
  {
   "cell_type": "markdown",
   "metadata": {},
   "source": [
    "### Splatting\n",
    "\n",
    "One can perform the reverse operation, and \"splat\" a variable number of arguments into a function:"
   ]
  },
  {
   "cell_type": "code",
   "execution_count": 57,
   "metadata": {},
   "outputs": [
    {
     "data": {
      "text/plain": [
       "6"
      ]
     },
     "execution_count": 57,
     "metadata": {},
     "output_type": "execute_result"
    }
   ],
   "source": [
    "x = (2, 3)\n",
    "*(x...)"
   ]
  },
  {
   "cell_type": "markdown",
   "metadata": {},
   "source": [
    "Similarly, we can splat out arguments into tuples, such as\n",
    "\n",
    "```julia\n",
    "append(t1::Tuple, t2::Tuple) = (t1..., t2...)\n",
    "```\n",
    "\n",
    "**Note:** Splatting is not limited to tuples - it is a generic iterator concept, relying on `iterate`, and can occur in other contexts like array literals, `[x\n",
    "\n",
    "Combining splatting and slurping can be very powerful. For example:"
   ]
  },
  {
   "cell_type": "code",
   "execution_count": 90,
   "metadata": {},
   "outputs": [
    {
     "data": {
      "text/plain": [
       "head (generic function with 1 method)"
      ]
     },
     "execution_count": 90,
     "metadata": {},
     "output_type": "execute_result"
    }
   ],
   "source": [
    "# `head` returns the first element of a tuple\n",
    "\n",
    "head(t::Tuple) = t[1]"
   ]
  },
  {
   "cell_type": "code",
   "execution_count": 91,
   "metadata": {},
   "outputs": [],
   "source": [
    "## EXERCISE\n",
    "\n",
    "# Create a `tail` function that returns all but the first argument of a tuple\n",
    "# Hint: begin with `tail(x::Tuple) = _tail(x...)` and define a suitable method for `_tail`."
   ]
  },
  {
   "cell_type": "code",
   "execution_count": 84,
   "metadata": {},
   "outputs": [
    {
     "data": {
      "text/plain": [
       "tail (generic function with 1 method)"
      ]
     },
     "execution_count": 84,
     "metadata": {},
     "output_type": "execute_result"
    }
   ],
   "source": [
    "_tail(_, x...) = x\n",
    "tail(x::Tuple) = _tail(x...)"
   ]
  },
  {
   "cell_type": "code",
   "execution_count": 85,
   "metadata": {},
   "outputs": [
    {
     "data": {
      "text/plain": [
       "(2, 3)"
      ]
     },
     "execution_count": 85,
     "metadata": {},
     "output_type": "execute_result"
    }
   ],
   "source": [
    "tail((1,2,3))"
   ]
  },
  {
   "cell_type": "markdown",
   "metadata": {},
   "source": [
    "### Recursion with tuples\n",
    "\n",
    "Splatting and slurping can be used to perform various recursive algorithms over tuples.\n",
    "\n",
    "Take for example a possible implementation of `map` (called `map2`). In this pattern we split appart out tuple using splatting, and work on it element-by element recursively using an inner helper function called `_map2`."
   ]
  },
  {
   "cell_type": "code",
   "execution_count": 156,
   "metadata": {},
   "outputs": [
    {
     "name": "stdout",
     "output_type": "stream",
     "text": [
      "search: \u001b[0m\u001b[1m=\u001b[22m\u001b[0m\u001b[1m=\u001b[22m\u001b[0m\u001b[1m=\u001b[22m \u001b[0m\u001b[1m=\u001b[22m\u001b[0m\u001b[1m=\u001b[22m !\u001b[0m\u001b[1m=\u001b[22m\u001b[0m\u001b[1m=\u001b[22m\n",
      "\n"
     ]
    },
    {
     "data": {
      "text/latex": [
       "\\begin{verbatim}\n",
       "===(x,y) -> Bool\n",
       "≡(x,y) -> Bool\n",
       "\\end{verbatim}\n",
       "Determine whether \\texttt{x} and \\texttt{y} are identical, in the sense that no program could distinguish them. First the types of \\texttt{x} and \\texttt{y} are compared. If those are identical, mutable objects are compared by address in memory and immutable objects (such as numbers) are compared by contents at the bit level. This function is sometimes called \"egal\". It always returns a \\texttt{Bool} value.\n",
       "\n",
       "\\section{Examples}\n",
       "\\begin{verbatim}\n",
       "julia> a = [1, 2]; b = [1, 2];\n",
       "\n",
       "julia> a == b\n",
       "true\n",
       "\n",
       "julia> a === b\n",
       "false\n",
       "\n",
       "julia> a === a\n",
       "true\n",
       "\\end{verbatim}\n"
      ],
      "text/markdown": [
       "```\n",
       "===(x,y) -> Bool\n",
       "≡(x,y) -> Bool\n",
       "```\n",
       "\n",
       "Determine whether `x` and `y` are identical, in the sense that no program could distinguish them. First the types of `x` and `y` are compared. If those are identical, mutable objects are compared by address in memory and immutable objects (such as numbers) are compared by contents at the bit level. This function is sometimes called \"egal\". It always returns a `Bool` value.\n",
       "\n",
       "# Examples\n",
       "\n",
       "```jldoctest\n",
       "julia> a = [1, 2]; b = [1, 2];\n",
       "\n",
       "julia> a == b\n",
       "true\n",
       "\n",
       "julia> a === b\n",
       "false\n",
       "\n",
       "julia> a === a\n",
       "true\n",
       "```\n"
      ],
      "text/plain": [
       "\u001b[36m  ===(x,y) -> Bool\u001b[39m\n",
       "\u001b[36m  ≡(x,y) -> Bool\u001b[39m\n",
       "\n",
       "  Determine whether \u001b[36mx\u001b[39m and \u001b[36my\u001b[39m are identical, in the sense that no program could\n",
       "  distinguish them. First the types of \u001b[36mx\u001b[39m and \u001b[36my\u001b[39m are compared. If those are\n",
       "  identical, mutable objects are compared by address in memory and immutable\n",
       "  objects (such as numbers) are compared by contents at the bit level. This\n",
       "  function is sometimes called \"egal\". It always returns a \u001b[36mBool\u001b[39m value.\n",
       "\n",
       "\u001b[1m  Examples\u001b[22m\n",
       "\u001b[1m  ≡≡≡≡≡≡≡≡≡≡\u001b[22m\n",
       "\n",
       "\u001b[36m  julia> a = [1, 2]; b = [1, 2];\u001b[39m\n",
       "\u001b[36m  \u001b[39m\n",
       "\u001b[36m  julia> a == b\u001b[39m\n",
       "\u001b[36m  true\u001b[39m\n",
       "\u001b[36m  \u001b[39m\n",
       "\u001b[36m  julia> a === b\u001b[39m\n",
       "\u001b[36m  false\u001b[39m\n",
       "\u001b[36m  \u001b[39m\n",
       "\u001b[36m  julia> a === a\u001b[39m\n",
       "\u001b[36m  true\u001b[39m"
      ]
     },
     "execution_count": 156,
     "metadata": {},
     "output_type": "execute_result"
    }
   ],
   "source": [
    "?==="
   ]
  },
  {
   "cell_type": "raw",
   "metadata": {},
   "source": [
    "map(f, tuple::Tuple) = Tuple(f(element) for element in tuple)"
   ]
  },
  {
   "cell_type": "code",
   "execution_count": 58,
   "metadata": {},
   "outputs": [
    {
     "data": {
      "text/plain": [
       "_map2 (generic function with 2 methods)"
      ]
     },
     "execution_count": 58,
     "metadata": {},
     "output_type": "execute_result"
    }
   ],
   "source": [
    "map2(f, t::Tuple) = _map2(f, t...)\n",
    "\n",
    "# If the tuple is empty we return an empty tuple\n",
    "_map2(f) = ()\n",
    "\n",
    "# Otherwise we map the first element and apply _map to the remainder\n",
    "_map2(f, x, y...) = (f(x), _map2(f, y...)...)"
   ]
  },
  {
   "cell_type": "code",
   "execution_count": 59,
   "metadata": {},
   "outputs": [
    {
     "data": {
      "text/plain": [
       "(-1, -2, -3)"
      ]
     },
     "execution_count": 59,
     "metadata": {},
     "output_type": "execute_result"
    }
   ],
   "source": [
    "map2(-, (1,2,3))"
   ]
  },
  {
   "cell_type": "markdown",
   "metadata": {},
   "source": [
    "There may be more than one way to write this function using recursive methods.\n",
    "\n",
    "The advantage of the method shown is that each subsequent call to `_map2` is getting simpler and simpler until `_map2(f)` is called.\n",
    "\n",
    "When recursive function calls are made and are recursively becoming *more* complex, type inference may invoke widening to protect itself, resulting in sub-optimal code. It is recommended to take great care when using recursive methods.\n",
    "\n",
    "Next we do some excersises! Next, use a similar pattern to perform a reduction over a tuple"
   ]
  },
  {
   "cell_type": "code",
   "execution_count": 60,
   "metadata": {},
   "outputs": [
    {
     "data": {
      "text/plain": [
       "sum2 (generic function with 1 method)"
      ]
     },
     "execution_count": 60,
     "metadata": {},
     "output_type": "execute_result"
    }
   ],
   "source": [
    "## EXERCISE\n",
    "\n",
    "# Write a function `sum2` which adds all the elements of the tuple.\n",
    "\n",
    "sum2(t::Tuple) = +(t...)"
   ]
  },
  {
   "cell_type": "code",
   "execution_count": 61,
   "metadata": {},
   "outputs": [
    {
     "data": {
      "text/plain": [
       "1"
      ]
     },
     "execution_count": 61,
     "metadata": {},
     "output_type": "execute_result"
    }
   ],
   "source": [
    "# test case\n",
    "sum2((1,))"
   ]
  },
  {
   "cell_type": "code",
   "execution_count": 62,
   "metadata": {},
   "outputs": [
    {
     "data": {
      "text/plain": [
       "15"
      ]
     },
     "execution_count": 62,
     "metadata": {},
     "output_type": "execute_result"
    }
   ],
   "source": [
    "# test case\n",
    "sum2((1,2,3,4,5))"
   ]
  },
  {
   "cell_type": "code",
   "execution_count": 23,
   "metadata": {},
   "outputs": [
    {
     "data": {
      "text/plain": [
       "_reduce2 (generic function with 2 methods)"
      ]
     },
     "execution_count": 23,
     "metadata": {},
     "output_type": "execute_result"
    }
   ],
   "source": [
    "## EXTENSION EXERCISE\n",
    "\n",
    "# Create a more generic `reduce2` (or `mapreduce2`) function that works recursively over a tuple\n",
    "function reduce2(f, t::Tuple)\n",
    "    _reduce2(f, t...)\n",
    "end\n",
    "\n",
    "_reduce2(f, h, t) = f(h, t)\n",
    "_reduce2(f, h, t...) = _reduce2(f, h, _reduce2(f, t...))"
   ]
  },
  {
   "cell_type": "code",
   "execution_count": 25,
   "metadata": {},
   "outputs": [
    {
     "data": {
      "text/html": [
       "2 methods for generic function <b>_reduce2</b>:<ul><li> _reduce2(f, h, t) in Main at In[23]:8</li> <li> _reduce2(f, h, t...) in Main at In[23]:9</li> </ul>"
      ],
      "text/plain": [
       "# 2 methods for generic function \"_reduce2\":\n",
       "[1] _reduce2(f, h, t) in Main at In[23]:8\n",
       "[2] _reduce2(f, h, t...) in Main at In[23]:9"
      ]
     },
     "execution_count": 25,
     "metadata": {},
     "output_type": "execute_result"
    }
   ],
   "source": [
    "methods(_reduce2)"
   ]
  },
  {
   "cell_type": "code",
   "execution_count": 24,
   "metadata": {},
   "outputs": [
    {
     "data": {
      "text/plain": [
       "120"
      ]
     },
     "execution_count": 24,
     "metadata": {},
     "output_type": "execute_result"
    }
   ],
   "source": [
    "# test case\n",
    "reduce2(*, (1,2,3,4,5))"
   ]
  },
  {
   "cell_type": "code",
   "execution_count": 99,
   "metadata": {},
   "outputs": [
    {
     "data": {
      "text/plain": [
       "map2 (generic function with 4 methods)"
      ]
     },
     "execution_count": 99,
     "metadata": {},
     "output_type": "execute_result"
    }
   ],
   "source": [
    "## EXTENSION EXERCISE\n",
    "\n",
    "# Create a method for `map2` which works on 2 input tuples, like `map2(+, (1,2,3), (4,5,6)) == (5,7,9)`\n",
    "# Hint: one possible solution would take advantage of the `head` and `tail` functions written earlier...\n",
    "\n",
    "function map2(f, t1::Tuple{Vararg{N}}, t2::Tuple{Vararg{N}}) where N  # N ensures tuples are of same length\n",
    "    f(head(t1), head(t2)), map2(f, tail(t1), tail(t2))...\n",
    "end\n",
    "\n",
    "map2(f, t1::Tuple{Vararg{0}}, t2::Tuple{Vararg{0}}) = ()"
   ]
  },
  {
   "cell_type": "code",
   "execution_count": 100,
   "metadata": {},
   "outputs": [
    {
     "data": {
      "text/plain": [
       "()"
      ]
     },
     "execution_count": 100,
     "metadata": {},
     "output_type": "execute_result"
    }
   ],
   "source": [
    "map2(+,(), ())"
   ]
  },
  {
   "cell_type": "code",
   "execution_count": 101,
   "metadata": {},
   "outputs": [
    {
     "data": {
      "text/plain": [
       "(5, 7, 9)"
      ]
     },
     "execution_count": 101,
     "metadata": {},
     "output_type": "execute_result"
    }
   ],
   "source": [
    "# test case\n",
    "map2(+, (1,2,3), (4,5,6))"
   ]
  },
  {
   "cell_type": "markdown",
   "metadata": {},
   "source": [
    "### Inlining and recursion\n",
    "\n",
    "Method inlining plays an important role in recursive algorithms.\n",
    "\n",
    "Without inlining, a recursive algorithm on a tuple of length `N` is *O*(`N^2`). In the intermediate stages, *O*(`N`) tuples with average length *O*(`N`) are constructed and passed as arguments to the next function. The overhead in creating all those stack frames is enormous.\n",
    "\n",
    "In general - this kind of recursion is a **terrible algorithm**!\n",
    "\n",
    "In Julia, we sometimes use this pattern because combined with inlining and compiler optimizations to handle slurping and splatting, the run-time cost is only *O*(`N`) and this can be a convenient way to deal with data of different types at maximum speed. However - it is still may be hard work for the compiler."
   ]
  },
  {
   "cell_type": "code",
   "execution_count": 102,
   "metadata": {},
   "outputs": [
    {
     "data": {
      "text/plain": [
       "BenchmarkTools.Trial: \n",
       "  memory estimate:  0 bytes\n",
       "  allocs estimate:  0\n",
       "  --------------\n",
       "  minimum time:     1.837 ns (0.00% GC)\n",
       "  median time:      1.909 ns (0.00% GC)\n",
       "  mean time:        1.957 ns (0.00% GC)\n",
       "  maximum time:     12.390 ns (0.00% GC)\n",
       "  --------------\n",
       "  samples:          10000\n",
       "  evals/sample:     1000"
      ]
     },
     "execution_count": 102,
     "metadata": {},
     "output_type": "execute_result"
    }
   ],
   "source": [
    "@benchmark map2(-, $(ntuple(identity, 3)))"
   ]
  },
  {
   "cell_type": "code",
   "execution_count": 103,
   "metadata": {},
   "outputs": [
    {
     "data": {
      "text/plain": [
       "BenchmarkTools.Trial: \n",
       "  memory estimate:  0 bytes\n",
       "  allocs estimate:  0\n",
       "  --------------\n",
       "  minimum time:     5.180 ns (0.00% GC)\n",
       "  median time:      5.186 ns (0.00% GC)\n",
       "  mean time:        5.350 ns (0.00% GC)\n",
       "  maximum time:     16.686 ns (0.00% GC)\n",
       "  --------------\n",
       "  samples:          10000\n",
       "  evals/sample:     1000"
      ]
     },
     "execution_count": 103,
     "metadata": {},
     "output_type": "execute_result"
    }
   ],
   "source": [
    "@benchmark map2(-, $(ntuple(identity, 32)))"
   ]
  },
  {
   "cell_type": "code",
   "execution_count": 104,
   "metadata": {},
   "outputs": [
    {
     "data": {
      "text/plain": [
       "BenchmarkTools.Trial: \n",
       "  memory estimate:  10.03 KiB\n",
       "  allocs estimate:  98\n",
       "  --------------\n",
       "  minimum time:     46.496 μs (0.00% GC)\n",
       "  median time:      51.410 μs (0.00% GC)\n",
       "  mean time:        60.121 μs (13.16% GC)\n",
       "  maximum time:     52.655 ms (99.87% GC)\n",
       "  --------------\n",
       "  samples:          10000\n",
       "  evals/sample:     1"
      ]
     },
     "execution_count": 104,
     "metadata": {},
     "output_type": "execute_result"
    }
   ],
   "source": [
    "@benchmark map2(-, $(ntuple(identity, 33)))"
   ]
  },
  {
   "cell_type": "markdown",
   "metadata": {},
   "source": [
    "If you're not careful - there is a huge performance cliff!\n",
    "\n",
    "With more than 32 elements, inference gives up on tracking the size of the tuples, and inlining the recursive function calls is disabled.\n",
    "\n",
    "For more complicated recursive functions, you may also want to invoke `@inline` to force the recursion to unroll (which will only work so long as the types are fully inferred)."
   ]
  },
  {
   "cell_type": "code",
   "execution_count": null,
   "metadata": {},
   "outputs": [],
   "source": [
    "## QUESTIONS?"
   ]
  },
  {
   "cell_type": "markdown",
   "metadata": {},
   "source": [
    "---\n",
    "# Constant propagation - and what are `@pure` functions?\n",
    "\n",
    "One of the optimizations performed by the compiler is \"constant\" propagation.\n",
    "\n",
    "### What's a constant?\n",
    "\n",
    "Values are \"constant\" if they are known to the compiler. These include\n",
    "\n",
    " * Literals like `true`, `1`, `3.0` or `:symbol`\n",
    " * Any known type\n",
    " * Any known type parameter\n",
    " * Any singleton object of a known type (i.e. a `struct` with no fields)\n",
    " * Other constants determined by the compiler\n",
    " \n",
    "The compiler can determine constants from other constants in a number of ways\n",
    "\n",
    " * Tuples can be constructed from constants, `t = (a, b)` where `a` and `b` are known.\n",
    " * Constant tuples can be indexed, splatted or slurped with other constants, `t[1]`, `t2 = (t..., c)`, etc.\n",
    " * Getting a field of a constant `struct`\n",
    " * Functions that are computable from the type signature alone, like `length(::Tuple{Vararg{Any, N}}) where {N} = N`\n",
    " * Functions that are marked `@pure` and have constant inputs.\n",
    " * `===` between two constants or known types\n",
    " * Some other in-built functions that have constant inputs, like `Base.add_int(1, 2)`\n",
    " * ...\n",
    " \n",
    "This is a growing list, as the compiler evolves and improves."
   ]
  },
  {
   "cell_type": "code",
   "execution_count": 105,
   "metadata": {},
   "outputs": [
    {
     "data": {
      "text/plain": [
       "constant_function (generic function with 1 method)"
      ]
     },
     "execution_count": 105,
     "metadata": {},
     "output_type": "execute_result"
    }
   ],
   "source": [
    "# A simple function where we can infer the output\n",
    "\n",
    "constant_function() = 1 + 2"
   ]
  },
  {
   "cell_type": "code",
   "execution_count": 106,
   "metadata": {},
   "outputs": [
    {
     "data": {
      "text/plain": [
       "CodeInfo(\n",
       "\u001b[90m1 ─\u001b[39m     return 3\n",
       ") => Int64"
      ]
     },
     "execution_count": 106,
     "metadata": {},
     "output_type": "execute_result"
    }
   ],
   "source": [
    "# What does the compiler do?\n",
    "\n",
    "@code_typed constant_function()"
   ]
  },
  {
   "cell_type": "code",
   "execution_count": 107,
   "metadata": {},
   "outputs": [
    {
     "data": {
      "text/plain": [
       "outer_function (generic function with 1 method)"
      ]
     },
     "execution_count": 107,
     "metadata": {},
     "output_type": "execute_result"
    }
   ],
   "source": [
    "# Constant propagation is particularly useful for collapsing nested calls of functions\n",
    "\n",
    "outer_function() = constant_function() + constant_function()"
   ]
  },
  {
   "cell_type": "code",
   "execution_count": 108,
   "metadata": {},
   "outputs": [
    {
     "data": {
      "text/plain": [
       "CodeInfo(\n",
       "\u001b[90m1 ─\u001b[39m     return 6\n",
       ") => Int64"
      ]
     },
     "execution_count": 108,
     "metadata": {},
     "output_type": "execute_result"
    }
   ],
   "source": [
    "# This is essentially a form of inlining\n",
    "\n",
    "@code_typed outer_function()"
   ]
  },
  {
   "cell_type": "code",
   "execution_count": 109,
   "metadata": {},
   "outputs": [
    {
     "data": {
      "text/plain": [
       "constant_function2 (generic function with 1 method)"
      ]
     },
     "execution_count": 109,
     "metadata": {},
     "output_type": "execute_result"
    }
   ],
   "source": [
    "# Even if the input is not constant, the output might be!\n",
    "\n",
    "constant_function2(x) = 1 + 2"
   ]
  },
  {
   "cell_type": "code",
   "execution_count": 110,
   "metadata": {},
   "outputs": [
    {
     "data": {
      "text/plain": [
       "CodeInfo(\n",
       "\u001b[90m1 ─\u001b[39m     return 3\n",
       ") => Int64"
      ]
     },
     "execution_count": 110,
     "metadata": {},
     "output_type": "execute_result"
    }
   ],
   "source": [
    "@code_typed constant_function2(x)"
   ]
  },
  {
   "cell_type": "code",
   "execution_count": 111,
   "metadata": {},
   "outputs": [
    {
     "data": {
      "text/plain": [
       "impure_constant_function (generic function with 1 method)"
      ]
     },
     "execution_count": 111,
     "metadata": {},
     "output_type": "execute_result"
    }
   ],
   "source": [
    "# Even if the function is impure, it's return value might be known by the compiler\n",
    "\n",
    "function impure_constant_function(x)\n",
    "    x[1] = 1 + 2\n",
    "    return 1 + 2\n",
    "end"
   ]
  },
  {
   "cell_type": "code",
   "execution_count": 112,
   "metadata": {},
   "outputs": [
    {
     "data": {
      "text/plain": [
       "CodeInfo(\n",
       "\u001b[90m1 ─\u001b[39m     (Base.arrayset)(true, x, 3, 1)\u001b[90m::Array{Int64,1}\u001b[39m\n",
       "\u001b[90m└──\u001b[39m     return 3\n",
       ") => Int64"
      ]
     },
     "execution_count": 112,
     "metadata": {},
     "output_type": "execute_result"
    }
   ],
   "source": [
    "@code_typed impure_constant_function([1,2,3])"
   ]
  },
  {
   "cell_type": "code",
   "execution_count": 113,
   "metadata": {},
   "outputs": [
    {
     "data": {
      "text/plain": [
       "not_constant_function (generic function with 1 method)"
      ]
     },
     "execution_count": 113,
     "metadata": {},
     "output_type": "execute_result"
    }
   ],
   "source": [
    "# Not all operations will propagate values automatically\n",
    "\n",
    "not_constant_function() = 1 + pi"
   ]
  },
  {
   "cell_type": "code",
   "execution_count": 114,
   "metadata": {},
   "outputs": [
    {
     "data": {
      "text/plain": [
       "CodeInfo(\n",
       "\u001b[90m1 ─\u001b[39m     return 4.14159\n",
       ") => Float64"
      ]
     },
     "execution_count": 114,
     "metadata": {},
     "output_type": "execute_result"
    }
   ],
   "source": [
    "# Here we see that floating-point addition will not propagate constants by default\n",
    "# NOTE: Probably a good thing!\n",
    "\n",
    "@code_typed not_constant_function()"
   ]
  },
  {
   "cell_type": "markdown",
   "metadata": {},
   "source": [
    "### Constants and type parameters\n",
    "\n",
    "Types and their parameters are also compile-time constant values.\n",
    "\n",
    "This works both ways\n",
    "\n",
    " * Extracting a type parameter results in a constant\n",
    " * Type inference can only succeed when type parameters are constant values (or known types)"
   ]
  },
  {
   "cell_type": "code",
   "execution_count": 116,
   "metadata": {},
   "outputs": [
    {
     "data": {
      "text/plain": [
       "impure_constant_function2 (generic function with 1 method)"
      ]
     },
     "execution_count": 116,
     "metadata": {},
     "output_type": "execute_result"
    }
   ],
   "source": [
    "# Type parameters can be inferred from constant values\n",
    "\n",
    "impure_constant_function2(x) = Val(impure_constant_function(x))"
   ]
  },
  {
   "cell_type": "code",
   "execution_count": 117,
   "metadata": {},
   "outputs": [
    {
     "data": {
      "text/plain": [
       "CodeInfo(\n",
       "\u001b[90m1 ─\u001b[39m     (Base.arrayset)(true, x, 3, 1)\u001b[90m::Array{Int64,1}\u001b[39m\n",
       "\u001b[90m└──\u001b[39m     return $(QuoteNode(Val{3}()))\n",
       ") => Val{3}"
      ]
     },
     "execution_count": 117,
     "metadata": {},
     "output_type": "execute_result"
    }
   ],
   "source": [
    "@code_typed impure_constant_function2([1,2,3])"
   ]
  },
  {
   "cell_type": "code",
   "execution_count": 119,
   "metadata": {},
   "outputs": [
    {
     "name": "stdout",
     "output_type": "stream",
     "text": [
      "search: \u001b[0m\u001b[1mV\u001b[22m\u001b[0m\u001b[1ma\u001b[22m\u001b[0m\u001b[1ml\u001b[22m \u001b[0m\u001b[1mv\u001b[22m\u001b[0m\u001b[1ma\u001b[22m\u001b[0m\u001b[1ml\u001b[22mues \u001b[0m\u001b[1mv\u001b[22m\u001b[0m\u001b[1ma\u001b[22m\u001b[0m\u001b[1ml\u001b[22mtype e\u001b[0m\u001b[1mv\u001b[22m\u001b[0m\u001b[1ma\u001b[22m\u001b[0m\u001b[1ml\u001b[22m e\u001b[0m\u001b[1mv\u001b[22m\u001b[0m\u001b[1ma\u001b[22m\u001b[0m\u001b[1ml\u001b[22mfile @e\u001b[0m\u001b[1mv\u001b[22m\u001b[0m\u001b[1ma\u001b[22m\u001b[0m\u001b[1ml\u001b[22m is\u001b[0m\u001b[1mv\u001b[22m\u001b[0m\u001b[1ma\u001b[22m\u001b[0m\u001b[1ml\u001b[22mid @e\u001b[0m\u001b[1mv\u001b[22m\u001b[0m\u001b[1ma\u001b[22m\u001b[0m\u001b[1ml\u001b[22mpoly\n",
      "\n"
     ]
    },
    {
     "data": {
      "text/latex": [
       "\\begin{verbatim}\n",
       "Val(c)\n",
       "\\end{verbatim}\n",
       "Return \\texttt{Val\\{c\\}()}, which contains no run-time data. Types like this can be used to pass the information between functions through the value \\texttt{c}, which must be an \\texttt{isbits} value. The intent of this construct is to be able to dispatch on constants directly (at compile time) without having to test the value of the constant at run time.\n",
       "\n",
       "\\section{Examples}\n",
       "\\begin{verbatim}\n",
       "julia> f(::Val{true}) = \"Good\"\n",
       "f (generic function with 1 method)\n",
       "\n",
       "julia> f(::Val{false}) = \"Bad\"\n",
       "f (generic function with 2 methods)\n",
       "\n",
       "julia> f(Val(true))\n",
       "\"Good\"\n",
       "\\end{verbatim}\n"
      ],
      "text/markdown": [
       "```\n",
       "Val(c)\n",
       "```\n",
       "\n",
       "Return `Val{c}()`, which contains no run-time data. Types like this can be used to pass the information between functions through the value `c`, which must be an `isbits` value. The intent of this construct is to be able to dispatch on constants directly (at compile time) without having to test the value of the constant at run time.\n",
       "\n",
       "# Examples\n",
       "\n",
       "```jldoctest\n",
       "julia> f(::Val{true}) = \"Good\"\n",
       "f (generic function with 1 method)\n",
       "\n",
       "julia> f(::Val{false}) = \"Bad\"\n",
       "f (generic function with 2 methods)\n",
       "\n",
       "julia> f(Val(true))\n",
       "\"Good\"\n",
       "```\n"
      ],
      "text/plain": [
       "\u001b[36m  Val(c)\u001b[39m\n",
       "\n",
       "  Return \u001b[36mVal{c}()\u001b[39m, which contains no run-time data. Types like this can be\n",
       "  used to pass the information between functions through the value \u001b[36mc\u001b[39m, which\n",
       "  must be an \u001b[36misbits\u001b[39m value. The intent of this construct is to be able to\n",
       "  dispatch on constants directly (at compile time) without having to test the\n",
       "  value of the constant at run time.\n",
       "\n",
       "\u001b[1m  Examples\u001b[22m\n",
       "\u001b[1m  ≡≡≡≡≡≡≡≡≡≡\u001b[22m\n",
       "\n",
       "\u001b[36m  julia> f(::Val{true}) = \"Good\"\u001b[39m\n",
       "\u001b[36m  f (generic function with 1 method)\u001b[39m\n",
       "\u001b[36m  \u001b[39m\n",
       "\u001b[36m  julia> f(::Val{false}) = \"Bad\"\u001b[39m\n",
       "\u001b[36m  f (generic function with 2 methods)\u001b[39m\n",
       "\u001b[36m  \u001b[39m\n",
       "\u001b[36m  julia> f(Val(true))\u001b[39m\n",
       "\u001b[36m  \"Good\"\u001b[39m"
      ]
     },
     "execution_count": 119,
     "metadata": {},
     "output_type": "execute_result"
    }
   ],
   "source": [
    "?Val"
   ]
  },
  {
   "cell_type": "code",
   "execution_count": 120,
   "metadata": {
    "scrolled": true
   },
   "outputs": [
    {
     "data": {
      "text/plain": [
       "not_const_function2 (generic function with 1 method)"
      ]
     },
     "execution_count": 120,
     "metadata": {},
     "output_type": "execute_result"
    }
   ],
   "source": [
    "# A type parameter that depends on a variable\n",
    "\n",
    "not_const_function2(x) = Val(x)"
   ]
  },
  {
   "cell_type": "code",
   "execution_count": 121,
   "metadata": {},
   "outputs": [
    {
     "data": {
      "text/plain": [
       "CodeInfo(\n",
       "\u001b[90m1 ─\u001b[39m %1 = invoke Main.Val(_2::Int64)\u001b[36m::Val{_1} where _1\u001b[39m\n",
       "\u001b[90m└──\u001b[39m      return %1\n",
       ") => Val{_1} where _1"
      ]
     },
     "execution_count": 121,
     "metadata": {},
     "output_type": "execute_result"
    }
   ],
   "source": [
    "# There's no way to fully determine the type from variable `x`\n",
    "\n",
    "@code_typed not_const_function2(3)"
   ]
  },
  {
   "cell_type": "code",
   "execution_count": null,
   "metadata": {},
   "outputs": [],
   "source": [
    "## QUESTIONS?"
   ]
  },
  {
   "cell_type": "markdown",
   "metadata": {},
   "source": [
    "### `@pure` functions\n",
    "\n",
    "A function can be marked as `@pure` as an assertion to the compiler that it may be invoked at compiler-time with no side effects.\n",
    "\n",
    "Note that `Base.@pure` is not exported by default. If you need it you can `import` it or specify it fully."
   ]
  },
  {
   "cell_type": "code",
   "execution_count": 122,
   "metadata": {},
   "outputs": [
    {
     "data": {
      "text/plain": [
       "pure_function (generic function with 1 method)"
      ]
     },
     "execution_count": 122,
     "metadata": {},
     "output_type": "execute_result"
    }
   ],
   "source": [
    "# Mark this function as `@pure`\n",
    "\n",
    "Base.@pure pure_function(x) = 1 + pi"
   ]
  },
  {
   "cell_type": "code",
   "execution_count": 123,
   "metadata": {},
   "outputs": [
    {
     "data": {
      "text/plain": [
       "CodeInfo(\n",
       "\u001b[90m1 ─\u001b[39m     return 4.14159\n",
       ") => Float64"
      ]
     },
     "execution_count": 123,
     "metadata": {},
     "output_type": "execute_result"
    }
   ],
   "source": [
    "# `@pure` functions behave like normal functions...\n",
    "\n",
    "@code_typed pure_function(1)"
   ]
  },
  {
   "cell_type": "code",
   "execution_count": 124,
   "metadata": {},
   "outputs": [
    {
     "data": {
      "text/plain": [
       "CodeInfo(\n",
       "\u001b[90m1 ─\u001b[39m     return 4.14159\n",
       ") => Float64"
      ]
     },
     "execution_count": 124,
     "metadata": {},
     "output_type": "execute_result"
    }
   ],
   "source": [
    "# ... unless they are called from another function with constant inputs\n",
    "\n",
    "call_pure_function() = pure_function(1)\n",
    "\n",
    "@code_typed call_pure_function()"
   ]
  },
  {
   "cell_type": "markdown",
   "metadata": {},
   "source": [
    "**Beware**\n",
    "\n",
    "There are severe limitations on the capabilities of `@pure` functions!\n",
    "\n",
    "Earlier we said that `@pure` is\n",
    "\n",
    "> an assertion to the compiler that it may be invoked at compiler-time with no side effects.\n",
    "\n",
    "In Julia, many statements have side effects on the state of the compiler itself. Every time a new type or method is defined, the state of the compiler changes to reflect the new information. The current state of the type system and method tables is called the \"world\". Every time the world changes, the \"world age\" increments. If methods are overwritten or specialized, other methods may also change.\n",
    "\n",
    "The compiler will assume that a `@pure` function will not change *in any way* as the world age is incremented. It will not be recompiled to deal with new methods and you will encounter a \"world age error\" if it attempts to perform dispatch based on new types.\n",
    "\n",
    "Thus - `@pure` functions are **not suitable for use in most situations**. It may be safe in cases where the input types are fully specified and the dependent function calls are very basic. In most situations it is better to use constant propagation.\n",
    "\n",
    "***You have been warned!***"
   ]
  },
  {
   "cell_type": "markdown",
   "metadata": {},
   "source": [
    "### Inter-procedural constant propagation\n",
    "\n",
    "Typically, functions (not marked as `@pure`) are specialized on their input types alone. Constants will only propagate within the scope of the method (or as a return value, if it can be evaluated).\n",
    "\n",
    "Sometimes, it is useful to optimize the cases where some but not all the inputs are constant. Julia indirectly supports this by supporting constant propagation through function barriers when the function is inlined.\n",
    "\n",
    "Enforcing inlining to allow constant propagation may be a valid use for `@inline`. This is particularly useful if the return type depends on an input parameter:"
   ]
  },
  {
   "cell_type": "code",
   "execution_count": null,
   "metadata": {},
   "outputs": [],
   "source": [
    "@inline function firstchar(str::String, return_char::Bool = true)\n",
    "    if return_char\n",
    "        return str[1]\n",
    "    else\n",
    "        return String(str[1])\n",
    "    end\n",
    "end"
   ]
  },
  {
   "cell_type": "code",
   "execution_count": null,
   "metadata": {},
   "outputs": [],
   "source": []
  },
  {
   "cell_type": "markdown",
   "metadata": {},
   "source": [
    "### `getproperty` overloading\n",
    "\n",
    "New to Julia v0.7 is the ability to overload the `getproperty` function, where `a.b` is syntactic sugar for `getproperty(a, :b)`. The default definition is similar to:\n",
    "\n",
    "```julia\n",
    "getproperty(x, f::Symbol) = getfield(x, f)\n",
    "```\n",
    "where `getfield` accesses directly a field in a `struct` or `mutable struct`.\n",
    "\n",
    "`getproperty` relies on constant propagation for efficiency."
   ]
  },
  {
   "cell_type": "code",
   "execution_count": null,
   "metadata": {},
   "outputs": [],
   "source": []
  },
  {
   "cell_type": "code",
   "execution_count": 133,
   "metadata": {},
   "outputs": [],
   "source": [
    "## EXERCISE\n",
    "\n",
    "# Define `getproperty` for `Array` so that we can get it's length or size via `a.length` or `a.size`.\n",
    "\n",
    "@inline function Base.getproperty(a::Array, s::Symbol)\n",
    "    getfield(a, s)\n",
    "end"
   ]
  },
  {
   "cell_type": "code",
   "execution_count": 134,
   "metadata": {},
   "outputs": [
    {
     "data": {
      "text/plain": [
       "CodeInfo(\n",
       "\u001b[90m1 ─\u001b[39m     (Main.getfield)(a, :length)\u001b[90m::Union{}\u001b[39m\n",
       "\u001b[90m│  \u001b[39m     $(Expr(:unreachable))\u001b[90m::Union{}\u001b[39m\n",
       "\u001b[90m│  \u001b[39m     φ ()\u001b[90m::Union{}\u001b[39m\n",
       "\u001b[90m└──\u001b[39m     $(Expr(:unreachable))\u001b[90m::Union{}\u001b[39m\n",
       ") => Union{}"
      ]
     },
     "execution_count": 134,
     "metadata": {},
     "output_type": "execute_result"
    }
   ],
   "source": [
    "# Check if the return type can be correctly inferred\n",
    "\n",
    "function get_length(a::Array)\n",
    "    return a.length\n",
    "end\n",
    "\n",
    "@code_typed get_length([1,2,3])"
   ]
  },
  {
   "cell_type": "markdown",
   "metadata": {},
   "source": [
    "In Julia, it would not be usual to define complex properties in this way.\n",
    "\n",
    "Generally, I feel this is useful for:\n",
    "\n",
    " * defining a consistent *interface* across different related types (which might have different `struct` fields)\n",
    " * making types similar to `NamedTuple` which act as if they have user-definable field names"
   ]
  },
  {
   "cell_type": "markdown",
   "metadata": {},
   "source": [
    "---\n",
    "\n",
    "# Dispatch revisited: Interfaces and Traits\n",
    "\n",
    "Programming in Julia is organized around a tree of data types and a variety of extensible, generic functions.\n",
    "\n",
    "Generic functions can be overloaded with any number of methods. For some functions there is only one method, for others there are very many."
   ]
  },
  {
   "cell_type": "code",
   "execution_count": 135,
   "metadata": {},
   "outputs": [
    {
     "data": {
      "text/html": [
       "1 method for generic function <b>pwd</b>:<ul><li> pwd() in Base.Filesystem at <a href=\"https://github.com/JuliaLang/julia/tree/80516ca20297a67b996caa08c38786332379b6a5/base/file.jl#L51\" target=\"_blank\">file.jl:51</a></li> </ul>"
      ],
      "text/plain": [
       "# 1 method for generic function \"pwd\":\n",
       "[1] pwd() in Base.Filesystem at file.jl:51"
      ]
     },
     "execution_count": 135,
     "metadata": {},
     "output_type": "execute_result"
    }
   ],
   "source": [
    "methods(pwd) # prints working directory"
   ]
  },
  {
   "cell_type": "code",
   "execution_count": 136,
   "metadata": {},
   "outputs": [
    {
     "data": {
      "text/html": [
       "163 methods for generic function <b>+</b>:<ul><li> +(x::<b>Bool</b>, z::<b>Complex{Bool}</b>) in Base at <a href=\"https://github.com/JuliaLang/julia/tree/80516ca20297a67b996caa08c38786332379b6a5/base/complex.jl#L277\" target=\"_blank\">complex.jl:277</a></li> <li> +(x::<b>Bool</b>, y::<b>Bool</b>) in Base at <a href=\"https://github.com/JuliaLang/julia/tree/80516ca20297a67b996caa08c38786332379b6a5/base/bool.jl#L104\" target=\"_blank\">bool.jl:104</a></li> <li> +(x::<b>Bool</b>) in Base at <a href=\"https://github.com/JuliaLang/julia/tree/80516ca20297a67b996caa08c38786332379b6a5/base/bool.jl#L101\" target=\"_blank\">bool.jl:101</a></li> <li> +<i>{T<:AbstractFloat}</i>(x::<b>Bool</b>, y::<b>T</b>) in Base at <a href=\"https://github.com/JuliaLang/julia/tree/80516ca20297a67b996caa08c38786332379b6a5/base/bool.jl#L112\" target=\"_blank\">bool.jl:112</a></li> <li> +(x::<b>Bool</b>, z::<b>Complex</b>) in Base at <a href=\"https://github.com/JuliaLang/julia/tree/80516ca20297a67b996caa08c38786332379b6a5/base/complex.jl#L284\" target=\"_blank\">complex.jl:284</a></li> <li> +(a::<b>Float16</b>, b::<b>Float16</b>) in Base at <a href=\"https://github.com/JuliaLang/julia/tree/80516ca20297a67b996caa08c38786332379b6a5/base/float.jl#L392\" target=\"_blank\">float.jl:392</a></li> <li> +(x::<b>Float32</b>, y::<b>Float32</b>) in Base at <a href=\"https://github.com/JuliaLang/julia/tree/80516ca20297a67b996caa08c38786332379b6a5/base/float.jl#L394\" target=\"_blank\">float.jl:394</a></li> <li> +(x::<b>Float64</b>, y::<b>Float64</b>) in Base at <a href=\"https://github.com/JuliaLang/julia/tree/80516ca20297a67b996caa08c38786332379b6a5/base/float.jl#L395\" target=\"_blank\">float.jl:395</a></li> <li> +(z::<b>Complex{Bool}</b>, x::<b>Bool</b>) in Base at <a href=\"https://github.com/JuliaLang/julia/tree/80516ca20297a67b996caa08c38786332379b6a5/base/complex.jl#L278\" target=\"_blank\">complex.jl:278</a></li> <li> +(z::<b>Complex{Bool}</b>, x::<b>Real</b>) in Base at <a href=\"https://github.com/JuliaLang/julia/tree/80516ca20297a67b996caa08c38786332379b6a5/base/complex.jl#L292\" target=\"_blank\">complex.jl:292</a></li> <li> +(::<b>Missing</b>, ::<b>Missing</b>) in Base at <a href=\"https://github.com/JuliaLang/julia/tree/80516ca20297a67b996caa08c38786332379b6a5/base/missing.jl#L96\" target=\"_blank\">missing.jl:96</a></li> <li> +(::<b>Missing</b>) in Base at <a href=\"https://github.com/JuliaLang/julia/tree/80516ca20297a67b996caa08c38786332379b6a5/base/missing.jl#L83\" target=\"_blank\">missing.jl:83</a></li> <li> +(::<b>Missing</b>, ::<b>Number</b>) in Base at <a href=\"https://github.com/JuliaLang/julia/tree/80516ca20297a67b996caa08c38786332379b6a5/base/missing.jl#L97\" target=\"_blank\">missing.jl:97</a></li> <li> +(level::<b>Base.CoreLogging.LogLevel</b>, inc::<b>Integer</b>) in Base.CoreLogging at <a href=\"https://github.com/JuliaLang/julia/tree/80516ca20297a67b996caa08c38786332379b6a5/base/logging.jl#L106\" target=\"_blank\">logging.jl:106</a></li> <li> +(c::<b>BigInt</b>, x::<b>BigFloat</b>) in Base.MPFR at <a href=\"https://github.com/JuliaLang/julia/tree/80516ca20297a67b996caa08c38786332379b6a5/base/mpfr.jl#L406\" target=\"_blank\">mpfr.jl:406</a></li> <li> +(a::<b>BigInt</b>, b::<b>BigInt</b>, c::<b>BigInt</b>, d::<b>BigInt</b>, e::<b>BigInt</b>) in Base.GMP at <a href=\"https://github.com/JuliaLang/julia/tree/80516ca20297a67b996caa08c38786332379b6a5/base/gmp.jl#L434\" target=\"_blank\">gmp.jl:434</a></li> <li> +(a::<b>BigInt</b>, b::<b>BigInt</b>, c::<b>BigInt</b>, d::<b>BigInt</b>) in Base.GMP at <a href=\"https://github.com/JuliaLang/julia/tree/80516ca20297a67b996caa08c38786332379b6a5/base/gmp.jl#L433\" target=\"_blank\">gmp.jl:433</a></li> <li> +(a::<b>BigInt</b>, b::<b>BigInt</b>, c::<b>BigInt</b>) in Base.GMP at <a href=\"https://github.com/JuliaLang/julia/tree/80516ca20297a67b996caa08c38786332379b6a5/base/gmp.jl#L432\" target=\"_blank\">gmp.jl:432</a></li> <li> +(x::<b>BigInt</b>, y::<b>BigInt</b>) in Base.GMP at <a href=\"https://github.com/JuliaLang/julia/tree/80516ca20297a67b996caa08c38786332379b6a5/base/gmp.jl#L403\" target=\"_blank\">gmp.jl:403</a></li> <li> +(x::<b>BigInt</b>, c::<b>Union{UInt16, UInt32, UInt64, UInt8}</b>) in Base.GMP at <a href=\"https://github.com/JuliaLang/julia/tree/80516ca20297a67b996caa08c38786332379b6a5/base/gmp.jl#L440\" target=\"_blank\">gmp.jl:440</a></li> <li> +(x::<b>BigInt</b>, c::<b>Union{Int16, Int32, Int64, Int8}</b>) in Base.GMP at <a href=\"https://github.com/JuliaLang/julia/tree/80516ca20297a67b996caa08c38786332379b6a5/base/gmp.jl#L446\" target=\"_blank\">gmp.jl:446</a></li> <li> +(a::<b>BigFloat</b>, b::<b>BigFloat</b>, c::<b>BigFloat</b>, d::<b>BigFloat</b>, e::<b>BigFloat</b>) in Base.MPFR at <a href=\"https://github.com/JuliaLang/julia/tree/80516ca20297a67b996caa08c38786332379b6a5/base/mpfr.jl#L556\" target=\"_blank\">mpfr.jl:556</a></li> <li> +(a::<b>BigFloat</b>, b::<b>BigFloat</b>, c::<b>BigFloat</b>, d::<b>BigFloat</b>) in Base.MPFR at <a href=\"https://github.com/JuliaLang/julia/tree/80516ca20297a67b996caa08c38786332379b6a5/base/mpfr.jl#L549\" target=\"_blank\">mpfr.jl:549</a></li> <li> +(a::<b>BigFloat</b>, b::<b>BigFloat</b>, c::<b>BigFloat</b>) in Base.MPFR at <a href=\"https://github.com/JuliaLang/julia/tree/80516ca20297a67b996caa08c38786332379b6a5/base/mpfr.jl#L543\" target=\"_blank\">mpfr.jl:543</a></li> <li> +(x::<b>BigFloat</b>, c::<b>BigInt</b>) in Base.MPFR at <a href=\"https://github.com/JuliaLang/julia/tree/80516ca20297a67b996caa08c38786332379b6a5/base/mpfr.jl#L402\" target=\"_blank\">mpfr.jl:402</a></li> <li> +(x::<b>BigFloat</b>, y::<b>BigFloat</b>) in Base.MPFR at <a href=\"https://github.com/JuliaLang/julia/tree/80516ca20297a67b996caa08c38786332379b6a5/base/mpfr.jl#L371\" target=\"_blank\">mpfr.jl:371</a></li> <li> +(x::<b>BigFloat</b>, c::<b>Union{UInt16, UInt32, UInt64, UInt8}</b>) in Base.MPFR at <a href=\"https://github.com/JuliaLang/julia/tree/80516ca20297a67b996caa08c38786332379b6a5/base/mpfr.jl#L378\" target=\"_blank\">mpfr.jl:378</a></li> <li> +(x::<b>BigFloat</b>, c::<b>Union{Int16, Int32, Int64, Int8}</b>) in Base.MPFR at <a href=\"https://github.com/JuliaLang/julia/tree/80516ca20297a67b996caa08c38786332379b6a5/base/mpfr.jl#L386\" target=\"_blank\">mpfr.jl:386</a></li> <li> +(x::<b>BigFloat</b>, c::<b>Union{Float16, Float32, Float64}</b>) in Base.MPFR at <a href=\"https://github.com/JuliaLang/julia/tree/80516ca20297a67b996caa08c38786332379b6a5/base/mpfr.jl#L394\" target=\"_blank\">mpfr.jl:394</a></li> <li> +(x::<b>Dates.CompoundPeriod</b>, y::<b>Dates.CompoundPeriod</b>) in Dates at <a href=\"file:///buildworker/worker/package_linux64/build/usr/share/julia/stdlib/v1.1/Dates/src/periods.jl\" target=\"_blank\">/buildworker/worker/package_linux64/build/usr/share/julia/stdlib/v1.1/Dates/src/periods.jl:343</a></li> <li> +(x::<b>Dates.CompoundPeriod</b>, y::<b>Dates.Period</b>) in Dates at <a href=\"file:///buildworker/worker/package_linux64/build/usr/share/julia/stdlib/v1.1/Dates/src/periods.jl\" target=\"_blank\">/buildworker/worker/package_linux64/build/usr/share/julia/stdlib/v1.1/Dates/src/periods.jl:341</a></li> <li> +(x::<b>Dates.CompoundPeriod</b>, y::<b>Dates.TimeType</b>) in Dates at <a href=\"file:///buildworker/worker/package_linux64/build/usr/share/julia/stdlib/v1.1/Dates/src/periods.jl\" target=\"_blank\">/buildworker/worker/package_linux64/build/usr/share/julia/stdlib/v1.1/Dates/src/periods.jl:371</a></li> <li> +(x::<b>Dates.Date</b>, y::<b>Dates.Day</b>) in Dates at <a href=\"file:///buildworker/worker/package_linux64/build/usr/share/julia/stdlib/v1.1/Dates/src/arithmetic.jl\" target=\"_blank\">/buildworker/worker/package_linux64/build/usr/share/julia/stdlib/v1.1/Dates/src/arithmetic.jl:74</a></li> <li> +(x::<b>Dates.Date</b>, y::<b>Dates.Week</b>) in Dates at <a href=\"file:///buildworker/worker/package_linux64/build/usr/share/julia/stdlib/v1.1/Dates/src/arithmetic.jl\" target=\"_blank\">/buildworker/worker/package_linux64/build/usr/share/julia/stdlib/v1.1/Dates/src/arithmetic.jl:72</a></li> <li> +(dt::<b>Dates.Date</b>, z::<b>Dates.Month</b>) in Dates at <a href=\"file:///buildworker/worker/package_linux64/build/usr/share/julia/stdlib/v1.1/Dates/src/arithmetic.jl\" target=\"_blank\">/buildworker/worker/package_linux64/build/usr/share/julia/stdlib/v1.1/Dates/src/arithmetic.jl:55</a></li> <li> +(dt::<b>Dates.Date</b>, y::<b>Dates.Year</b>) in Dates at <a href=\"file:///buildworker/worker/package_linux64/build/usr/share/julia/stdlib/v1.1/Dates/src/arithmetic.jl\" target=\"_blank\">/buildworker/worker/package_linux64/build/usr/share/julia/stdlib/v1.1/Dates/src/arithmetic.jl:28</a></li> <li> +(dt::<b>Dates.Date</b>, t::<b>Dates.Time</b>) in Dates at <a href=\"file:///buildworker/worker/package_linux64/build/usr/share/julia/stdlib/v1.1/Dates/src/arithmetic.jl\" target=\"_blank\">/buildworker/worker/package_linux64/build/usr/share/julia/stdlib/v1.1/Dates/src/arithmetic.jl:19</a></li> <li> +(t::<b>Dates.Time</b>, dt::<b>Dates.Date</b>) in Dates at <a href=\"file:///buildworker/worker/package_linux64/build/usr/share/julia/stdlib/v1.1/Dates/src/arithmetic.jl\" target=\"_blank\">/buildworker/worker/package_linux64/build/usr/share/julia/stdlib/v1.1/Dates/src/arithmetic.jl:20</a></li> <li> +(x::<b>Dates.Time</b>, y::<b>Dates.TimePeriod</b>) in Dates at <a href=\"file:///buildworker/worker/package_linux64/build/usr/share/julia/stdlib/v1.1/Dates/src/arithmetic.jl\" target=\"_blank\">/buildworker/worker/package_linux64/build/usr/share/julia/stdlib/v1.1/Dates/src/arithmetic.jl:78</a></li> <li> +(dt::<b>Dates.DateTime</b>, z::<b>Dates.Month</b>) in Dates at <a href=\"file:///buildworker/worker/package_linux64/build/usr/share/julia/stdlib/v1.1/Dates/src/arithmetic.jl\" target=\"_blank\">/buildworker/worker/package_linux64/build/usr/share/julia/stdlib/v1.1/Dates/src/arithmetic.jl:48</a></li> <li> +(dt::<b>Dates.DateTime</b>, y::<b>Dates.Year</b>) in Dates at <a href=\"file:///buildworker/worker/package_linux64/build/usr/share/julia/stdlib/v1.1/Dates/src/arithmetic.jl\" target=\"_blank\">/buildworker/worker/package_linux64/build/usr/share/julia/stdlib/v1.1/Dates/src/arithmetic.jl:24</a></li> <li> +(x::<b>Dates.DateTime</b>, y::<b>Dates.Period</b>) in Dates at <a href=\"file:///buildworker/worker/package_linux64/build/usr/share/julia/stdlib/v1.1/Dates/src/arithmetic.jl\" target=\"_blank\">/buildworker/worker/package_linux64/build/usr/share/julia/stdlib/v1.1/Dates/src/arithmetic.jl:76</a></li> <li> +(B::<b>BitArray{2}</b>, J::<b>LinearAlgebra.UniformScaling</b>) in LinearAlgebra at <a href=\"file:///buildworker/worker/package_linux64/build/usr/share/julia/stdlib/v1.1/LinearAlgebra/src/uniformscaling.jl\" target=\"_blank\">/buildworker/worker/package_linux64/build/usr/share/julia/stdlib/v1.1/LinearAlgebra/src/uniformscaling.jl:90</a></li> <li> +(a::<b>Pkg.Resolve.VersionWeights.VersionWeight</b>, b::<b>Pkg.Resolve.VersionWeights.VersionWeight</b>) in Pkg.Resolve.VersionWeights at <a href=\"file:///buildworker/worker/package_linux64/build/usr/share/julia/stdlib/v1.1/Pkg/src/resolve/VersionWeights.jl\" target=\"_blank\">/buildworker/worker/package_linux64/build/usr/share/julia/stdlib/v1.1/Pkg/src/resolve/VersionWeights.jl:26</a></li> <li> +(a::<b>Pkg.Resolve.MaxSum.FieldValues.FieldValue</b>, b::<b>Pkg.Resolve.MaxSum.FieldValues.FieldValue</b>) in Pkg.Resolve.MaxSum.FieldValues at <a href=\"file:///buildworker/worker/package_linux64/build/usr/share/julia/stdlib/v1.1/Pkg/src/resolve/FieldValues.jl\" target=\"_blank\">/buildworker/worker/package_linux64/build/usr/share/julia/stdlib/v1.1/Pkg/src/resolve/FieldValues.jl:49</a></li> <li> +(y::<b>AbstractFloat</b>, x::<b>Bool</b>) in Base at <a href=\"https://github.com/JuliaLang/julia/tree/80516ca20297a67b996caa08c38786332379b6a5/base/bool.jl#L114\" target=\"_blank\">bool.jl:114</a></li> <li> +<i>{T<:Union{Int128, Int16, Int32, Int64, Int8, UInt128, UInt16, UInt32, UInt64, UInt8}}</i>(x::<b>T</b>, y::<b>T</b>) in Base at <a href=\"https://github.com/JuliaLang/julia/tree/80516ca20297a67b996caa08c38786332379b6a5/base/int.jl#L53\" target=\"_blank\">int.jl:53</a></li> <li> +(c::<b>Union{UInt16, UInt32, UInt64, UInt8}</b>, x::<b>BigInt</b>) in Base.GMP at <a href=\"https://github.com/JuliaLang/julia/tree/80516ca20297a67b996caa08c38786332379b6a5/base/gmp.jl#L441\" target=\"_blank\">gmp.jl:441</a></li> <li> +(c::<b>Union{Int16, Int32, Int64, Int8}</b>, x::<b>BigInt</b>) in Base.GMP at <a href=\"https://github.com/JuliaLang/julia/tree/80516ca20297a67b996caa08c38786332379b6a5/base/gmp.jl#L447\" target=\"_blank\">gmp.jl:447</a></li> <li> +(a::<b>Integer</b>, b::<b>Integer</b>) in Base at <a href=\"https://github.com/JuliaLang/julia/tree/80516ca20297a67b996caa08c38786332379b6a5/base/int.jl#L797\" target=\"_blank\">int.jl:797</a></li> <li> +(x::<b>Integer</b>, y::<b>Ptr</b>) in Base at <a href=\"https://github.com/JuliaLang/julia/tree/80516ca20297a67b996caa08c38786332379b6a5/base/pointer.jl#L157\" target=\"_blank\">pointer.jl:157</a></li> <li> +(z::<b>Complex</b>, w::<b>Complex</b>) in Base at <a href=\"https://github.com/JuliaLang/julia/tree/80516ca20297a67b996caa08c38786332379b6a5/base/complex.jl#L266\" target=\"_blank\">complex.jl:266</a></li> <li> +(z::<b>Complex</b>, x::<b>Bool</b>) in Base at <a href=\"https://github.com/JuliaLang/julia/tree/80516ca20297a67b996caa08c38786332379b6a5/base/complex.jl#L285\" target=\"_blank\">complex.jl:285</a></li> <li> +(x::<b>Real</b>, z::<b>Complex{Bool}</b>) in Base at <a href=\"https://github.com/JuliaLang/julia/tree/80516ca20297a67b996caa08c38786332379b6a5/base/complex.jl#L291\" target=\"_blank\">complex.jl:291</a></li> <li> +(x::<b>Real</b>, z::<b>Complex</b>) in Base at <a href=\"https://github.com/JuliaLang/julia/tree/80516ca20297a67b996caa08c38786332379b6a5/base/complex.jl#L303\" target=\"_blank\">complex.jl:303</a></li> <li> +(z::<b>Complex</b>, x::<b>Real</b>) in Base at <a href=\"https://github.com/JuliaLang/julia/tree/80516ca20297a67b996caa08c38786332379b6a5/base/complex.jl#L304\" target=\"_blank\">complex.jl:304</a></li> <li> +(x::<b>Rational</b>, y::<b>Rational</b>) in Base at <a href=\"https://github.com/JuliaLang/julia/tree/80516ca20297a67b996caa08c38786332379b6a5/base/rational.jl#L252\" target=\"_blank\">rational.jl:252</a></li> <li> +(x::<b>Integer</b>, y::<b>AbstractChar</b>) in Base at <a href=\"https://github.com/JuliaLang/julia/tree/80516ca20297a67b996caa08c38786332379b6a5/base/char.jl#L224\" target=\"_blank\">char.jl:224</a></li> <li> +(c::<b>Union{UInt16, UInt32, UInt64, UInt8}</b>, x::<b>BigFloat</b>) in Base.MPFR at <a href=\"https://github.com/JuliaLang/julia/tree/80516ca20297a67b996caa08c38786332379b6a5/base/mpfr.jl#L382\" target=\"_blank\">mpfr.jl:382</a></li> <li> +(c::<b>Union{Int16, Int32, Int64, Int8}</b>, x::<b>BigFloat</b>) in Base.MPFR at <a href=\"https://github.com/JuliaLang/julia/tree/80516ca20297a67b996caa08c38786332379b6a5/base/mpfr.jl#L390\" target=\"_blank\">mpfr.jl:390</a></li> <li> +(c::<b>Union{Float16, Float32, Float64}</b>, x::<b>BigFloat</b>) in Base.MPFR at <a href=\"https://github.com/JuliaLang/julia/tree/80516ca20297a67b996caa08c38786332379b6a5/base/mpfr.jl#L398\" target=\"_blank\">mpfr.jl:398</a></li> <li> +(x::<b>AbstractIrrational</b>, y::<b>AbstractIrrational</b>) in Base at <a href=\"https://github.com/JuliaLang/julia/tree/80516ca20297a67b996caa08c38786332379b6a5/base/irrationals.jl#L133\" target=\"_blank\">irrationals.jl:133</a></li> <li> +(x::<b>Number</b>) in Base at <a href=\"https://github.com/JuliaLang/julia/tree/80516ca20297a67b996caa08c38786332379b6a5/base/operators.jl#L477\" target=\"_blank\">operators.jl:477</a></li> <li> +<i>{T<:Number}</i>(x::<b>T</b>, y::<b>T</b>) in Base at <a href=\"https://github.com/JuliaLang/julia/tree/80516ca20297a67b996caa08c38786332379b6a5/base/promotion.jl#L389\" target=\"_blank\">promotion.jl:389</a></li> <li> +(x::<b>Number</b>, y::<b>Number</b>) in Base at <a href=\"https://github.com/JuliaLang/julia/tree/80516ca20297a67b996caa08c38786332379b6a5/base/promotion.jl#L313\" target=\"_blank\">promotion.jl:313</a></li> <li> +(r1::<b>OrdinalRange</b>, r2::<b>OrdinalRange</b>) in Base at <a href=\"https://github.com/JuliaLang/julia/tree/80516ca20297a67b996caa08c38786332379b6a5/base/range.jl#L1003\" target=\"_blank\">range.jl:1003</a></li> <li> +<i>{T}</i>(r1::<b>LinRange{T}</b>, r2::<b>LinRange{T}</b>) in Base at <a href=\"https://github.com/JuliaLang/julia/tree/80516ca20297a67b996caa08c38786332379b6a5/base/range.jl#L1010\" target=\"_blank\">range.jl:1010</a></li> <li> +<i>{R<:TwicePrecision, T}</i>(r1::<b>StepRangeLen{T,R,S} where S</b>, r2::<b>StepRangeLen{T,R,S} where S</b>) in Base at <a href=\"https://github.com/JuliaLang/julia/tree/80516ca20297a67b996caa08c38786332379b6a5/base/twiceprecision.jl#L557\" target=\"_blank\">twiceprecision.jl:557</a></li> <li> +<i>{T, S}</i>(r1::<b>StepRangeLen{T,S,S1} where S1</b>, r2::<b>StepRangeLen{T,S,S1} where S1</b>) in Base at <a href=\"https://github.com/JuliaLang/julia/tree/80516ca20297a67b996caa08c38786332379b6a5/base/range.jl#L1026\" target=\"_blank\">range.jl:1026</a></li> <li> +(r1::<b>Union{LinRange, OrdinalRange, StepRangeLen}</b>, r2::<b>Union{LinRange, OrdinalRange, StepRangeLen}</b>) in Base at <a href=\"https://github.com/JuliaLang/julia/tree/80516ca20297a67b996caa08c38786332379b6a5/base/range.jl#L1018\" target=\"_blank\">range.jl:1018</a></li> <li> +(x::<b>Ptr</b>, y::<b>Integer</b>) in Base at <a href=\"https://github.com/JuliaLang/julia/tree/80516ca20297a67b996caa08c38786332379b6a5/base/pointer.jl#L155\" target=\"_blank\">pointer.jl:155</a></li> <li> +(x::<b>Base.TwicePrecision</b>, y::<b>Number</b>) in Base at <a href=\"https://github.com/JuliaLang/julia/tree/80516ca20297a67b996caa08c38786332379b6a5/base/twiceprecision.jl#L265\" target=\"_blank\">twiceprecision.jl:265</a></li> <li> +(x::<b>Number</b>, y::<b>Base.TwicePrecision</b>) in Base at <a href=\"https://github.com/JuliaLang/julia/tree/80516ca20297a67b996caa08c38786332379b6a5/base/twiceprecision.jl#L268\" target=\"_blank\">twiceprecision.jl:268</a></li> <li> +<i>{T}</i>(x::<b>Base.TwicePrecision{T}</b>, y::<b>Base.TwicePrecision{T}</b>) in Base at <a href=\"https://github.com/JuliaLang/julia/tree/80516ca20297a67b996caa08c38786332379b6a5/base/twiceprecision.jl#L271\" target=\"_blank\">twiceprecision.jl:271</a></li> <li> +(x::<b>Base.TwicePrecision</b>, y::<b>Base.TwicePrecision</b>) in Base at <a href=\"https://github.com/JuliaLang/julia/tree/80516ca20297a67b996caa08c38786332379b6a5/base/twiceprecision.jl#L275\" target=\"_blank\">twiceprecision.jl:275</a></li> <li> +(A::<b>Array</b>, Bs::<b>Array...</b>) in Base at <a href=\"https://github.com/JuliaLang/julia/tree/80516ca20297a67b996caa08c38786332379b6a5/base/arraymath.jl#L44\" target=\"_blank\">arraymath.jl:44</a></li> <li> +(A::<b>BitArray</b>, B::<b>BitArray</b>) in Base at <a href=\"https://github.com/JuliaLang/julia/tree/80516ca20297a67b996caa08c38786332379b6a5/base/bitarray.jl#L1084\" target=\"_blank\">bitarray.jl:1084</a></li> <li> +(r::<b>AbstractRange{#s623} where #s623<:Dates.TimeType</b>, x::<b>Dates.Period</b>) in Dates at <a href=\"file:///buildworker/worker/package_linux64/build/usr/share/julia/stdlib/v1.1/Dates/src/ranges.jl\" target=\"_blank\">/buildworker/worker/package_linux64/build/usr/share/julia/stdlib/v1.1/Dates/src/ranges.jl:59</a></li> <li> +(A::<b>Array{T,2} where T</b>, B::<b>LinearAlgebra.Diagonal</b>) in LinearAlgebra at <a href=\"file:///buildworker/worker/package_linux64/build/usr/share/julia/stdlib/v1.1/LinearAlgebra/src/special.jl\" target=\"_blank\">/buildworker/worker/package_linux64/build/usr/share/julia/stdlib/v1.1/LinearAlgebra/src/special.jl:88</a></li> <li> +(A::<b>Array{T,2} where T</b>, B::<b>LinearAlgebra.Bidiagonal</b>) in LinearAlgebra at <a href=\"file:///buildworker/worker/package_linux64/build/usr/share/julia/stdlib/v1.1/LinearAlgebra/src/special.jl\" target=\"_blank\">/buildworker/worker/package_linux64/build/usr/share/julia/stdlib/v1.1/LinearAlgebra/src/special.jl:88</a></li> <li> +(A::<b>Array{T,2} where T</b>, B::<b>LinearAlgebra.Tridiagonal</b>) in LinearAlgebra at <a href=\"file:///buildworker/worker/package_linux64/build/usr/share/julia/stdlib/v1.1/LinearAlgebra/src/special.jl\" target=\"_blank\">/buildworker/worker/package_linux64/build/usr/share/julia/stdlib/v1.1/LinearAlgebra/src/special.jl:88</a></li> <li> +(A::<b>Array{T,2} where T</b>, B::<b>LinearAlgebra.SymTridiagonal</b>) in LinearAlgebra at <a href=\"file:///buildworker/worker/package_linux64/build/usr/share/julia/stdlib/v1.1/LinearAlgebra/src/special.jl\" target=\"_blank\">/buildworker/worker/package_linux64/build/usr/share/julia/stdlib/v1.1/LinearAlgebra/src/special.jl:97</a></li> <li> +(A::<b>Array{T,2} where T</b>, B::<b>LinearAlgebra.AbstractTriangular</b>) in LinearAlgebra at <a href=\"file:///buildworker/worker/package_linux64/build/usr/share/julia/stdlib/v1.1/LinearAlgebra/src/special.jl\" target=\"_blank\">/buildworker/worker/package_linux64/build/usr/share/julia/stdlib/v1.1/LinearAlgebra/src/special.jl:125</a></li> <li> +(A::<b>Array</b>, B::<b>SparseArrays.SparseMatrixCSC</b>) in SparseArrays at <a href=\"file:///buildworker/worker/package_linux64/build/usr/share/julia/stdlib/v1.1/SparseArrays/src/sparsematrix.jl\" target=\"_blank\">/buildworker/worker/package_linux64/build/usr/share/julia/stdlib/v1.1/SparseArrays/src/sparsematrix.jl:1580</a></li> <li> +(x::<b>Union{DenseArray{#s623,N}, ReinterpretArray{#s623,N,S,A} where S where A<:Union{SubArray{T,N,A,I,true} where I<:Union{Tuple{Vararg{Real,N} where N}, Tuple{AbstractUnitRange,Vararg{Any,N} where N}} where A<:DenseArray where N where T, DenseArray}, ReshapedArray{#s623,N,A,MI} where MI<:Tuple{Vararg{SignedMultiplicativeInverse{Int64},N} where N} where A<:Union{ReinterpretArray{T,N,S,A} where S where A<:Union{SubArray{T,N,A,I,true} where I<:Union{Tuple{Vararg{Real,N} where N}, Tuple{AbstractUnitRange,Vararg{Any,N} where N}} where A<:DenseArray where N where T, DenseArray} where N where T, SubArray{T,N,A,I,true} where I<:Union{Tuple{Vararg{Real,N} where N}, Tuple{AbstractUnitRange,Vararg{Any,N} where N}} where A<:DenseArray where N where T, DenseArray}, SubArray{#s623,N,A,I,L} where L where I<:Tuple{Vararg{Union{Int64, AbstractRange{Int64}, AbstractCartesianIndex},N} where N} where A<:Union{ReinterpretArray{T,N,S,A} where S where A<:Union{SubArray{T,N,A,I,true} where I<:Union{Tuple{Vararg{Real,N} where N}, Tuple{AbstractUnitRange,Vararg{Any,N} where N}} where A<:DenseArray where N where T, DenseArray} where N where T, ReshapedArray{T,N,A,MI} where MI<:Tuple{Vararg{SignedMultiplicativeInverse{Int64},N} where N} where A<:Union{ReinterpretArray{T,N,S,A} where S where A<:Union{SubArray{T,N,A,I,true} where I<:Union{Tuple{Vararg{Real,N} where N}, Tuple{AbstractUnitRange,Vararg{Any,N} where N}} where A<:DenseArray where N where T, DenseArray} where N where T, SubArray{T,N,A,I,true} where I<:Union{Tuple{Vararg{Real,N} where N}, Tuple{AbstractUnitRange,Vararg{Any,N} where N}} where A<:DenseArray where N where T, DenseArray} where N where T, DenseArray}} where N where #s623<:Union{CompoundPeriod, Period}</b>) in Dates at <a href=\"file:///buildworker/worker/package_linux64/build/usr/share/julia/stdlib/v1.1/Dates/src/deprecated.jl\" target=\"_blank\">/buildworker/worker/package_linux64/build/usr/share/julia/stdlib/v1.1/Dates/src/deprecated.jl:57</a></li> <li> +(x::<b>Union{DenseArray{#s623,N}, ReinterpretArray{#s623,N,S,A} where S where A<:Union{SubArray{T,N,A,I,true} where I<:Union{Tuple{Vararg{Real,N} where N}, Tuple{AbstractUnitRange,Vararg{Any,N} where N}} where A<:DenseArray where N where T, DenseArray}, ReshapedArray{#s623,N,A,MI} where MI<:Tuple{Vararg{SignedMultiplicativeInverse{Int64},N} where N} where A<:Union{ReinterpretArray{T,N,S,A} where S where A<:Union{SubArray{T,N,A,I,true} where I<:Union{Tuple{Vararg{Real,N} where N}, Tuple{AbstractUnitRange,Vararg{Any,N} where N}} where A<:DenseArray where N where T, DenseArray} where N where T, SubArray{T,N,A,I,true} where I<:Union{Tuple{Vararg{Real,N} where N}, Tuple{AbstractUnitRange,Vararg{Any,N} where N}} where A<:DenseArray where N where T, DenseArray}, SubArray{#s623,N,A,I,L} where L where I<:Tuple{Vararg{Union{Int64, AbstractRange{Int64}, AbstractCartesianIndex},N} where N} where A<:Union{ReinterpretArray{T,N,S,A} where S where A<:Union{SubArray{T,N,A,I,true} where I<:Union{Tuple{Vararg{Real,N} where N}, Tuple{AbstractUnitRange,Vararg{Any,N} where N}} where A<:DenseArray where N where T, DenseArray} where N where T, ReshapedArray{T,N,A,MI} where MI<:Tuple{Vararg{SignedMultiplicativeInverse{Int64},N} where N} where A<:Union{ReinterpretArray{T,N,S,A} where S where A<:Union{SubArray{T,N,A,I,true} where I<:Union{Tuple{Vararg{Real,N} where N}, Tuple{AbstractUnitRange,Vararg{Any,N} where N}} where A<:DenseArray where N where T, DenseArray} where N where T, SubArray{T,N,A,I,true} where I<:Union{Tuple{Vararg{Real,N} where N}, Tuple{AbstractUnitRange,Vararg{Any,N} where N}} where A<:DenseArray where N where T, DenseArray} where N where T, DenseArray}} where N where #s623<:Union{CompoundPeriod, Period}</b>, y::<b>Dates.TimeType</b>) in Dates at <a href=\"file:///buildworker/worker/package_linux64/build/usr/share/julia/stdlib/v1.1/Dates/src/deprecated.jl\" target=\"_blank\">/buildworker/worker/package_linux64/build/usr/share/julia/stdlib/v1.1/Dates/src/deprecated.jl:12</a></li> <li> +(X::<b>Union{DenseArray{#s623,N}, ReinterpretArray{#s623,N,S,A} where S where A<:Union{SubArray{T,N,A,I,true} where I<:Union{Tuple{Vararg{Real,N} where N}, Tuple{AbstractUnitRange,Vararg{Any,N} where N}} where A<:DenseArray where N where T, DenseArray}, ReshapedArray{#s623,N,A,MI} where MI<:Tuple{Vararg{SignedMultiplicativeInverse{Int64},N} where N} where A<:Union{ReinterpretArray{T,N,S,A} where S where A<:Union{SubArray{T,N,A,I,true} where I<:Union{Tuple{Vararg{Real,N} where N}, Tuple{AbstractUnitRange,Vararg{Any,N} where N}} where A<:DenseArray where N where T, DenseArray} where N where T, SubArray{T,N,A,I,true} where I<:Union{Tuple{Vararg{Real,N} where N}, Tuple{AbstractUnitRange,Vararg{Any,N} where N}} where A<:DenseArray where N where T, DenseArray}, SubArray{#s623,N,A,I,L} where L where I<:Tuple{Vararg{Union{Int64, AbstractRange{Int64}, AbstractCartesianIndex},N} where N} where A<:Union{ReinterpretArray{T,N,S,A} where S where A<:Union{SubArray{T,N,A,I,true} where I<:Union{Tuple{Vararg{Real,N} where N}, Tuple{AbstractUnitRange,Vararg{Any,N} where N}} where A<:DenseArray where N where T, DenseArray} where N where T, ReshapedArray{T,N,A,MI} where MI<:Tuple{Vararg{SignedMultiplicativeInverse{Int64},N} where N} where A<:Union{ReinterpretArray{T,N,S,A} where S where A<:Union{SubArray{T,N,A,I,true} where I<:Union{Tuple{Vararg{Real,N} where N}, Tuple{AbstractUnitRange,Vararg{Any,N} where N}} where A<:DenseArray where N where T, DenseArray} where N where T, SubArray{T,N,A,I,true} where I<:Union{Tuple{Vararg{Real,N} where N}, Tuple{AbstractUnitRange,Vararg{Any,N} where N}} where A<:DenseArray where N where T, DenseArray} where N where T, DenseArray}} where N where #s623<:Union{CompoundPeriod, Period}</b>, Y::<b>Union{DenseArray{#s622,N}, ReinterpretArray{#s622,N,S,A} where S where A<:Union{SubArray{T,N,A,I,true} where I<:Union{Tuple{Vararg{Real,N} where N}, Tuple{AbstractUnitRange,Vararg{Any,N} where N}} where A<:DenseArray where N where T, DenseArray}, ReshapedArray{#s622,N,A,MI} where MI<:Tuple{Vararg{SignedMultiplicativeInverse{Int64},N} where N} where A<:Union{ReinterpretArray{T,N,S,A} where S where A<:Union{SubArray{T,N,A,I,true} where I<:Union{Tuple{Vararg{Real,N} where N}, Tuple{AbstractUnitRange,Vararg{Any,N} where N}} where A<:DenseArray where N where T, DenseArray} where N where T, SubArray{T,N,A,I,true} where I<:Union{Tuple{Vararg{Real,N} where N}, Tuple{AbstractUnitRange,Vararg{Any,N} where N}} where A<:DenseArray where N where T, DenseArray}, SubArray{#s622,N,A,I,L} where L where I<:Tuple{Vararg{Union{Int64, AbstractRange{Int64}, AbstractCartesianIndex},N} where N} where A<:Union{ReinterpretArray{T,N,S,A} where S where A<:Union{SubArray{T,N,A,I,true} where I<:Union{Tuple{Vararg{Real,N} where N}, Tuple{AbstractUnitRange,Vararg{Any,N} where N}} where A<:DenseArray where N where T, DenseArray} where N where T, ReshapedArray{T,N,A,MI} where MI<:Tuple{Vararg{SignedMultiplicativeInverse{Int64},N} where N} where A<:Union{ReinterpretArray{T,N,S,A} where S where A<:Union{SubArray{T,N,A,I,true} where I<:Union{Tuple{Vararg{Real,N} where N}, Tuple{AbstractUnitRange,Vararg{Any,N} where N}} where A<:DenseArray where N where T, DenseArray} where N where T, SubArray{T,N,A,I,true} where I<:Union{Tuple{Vararg{Real,N} where N}, Tuple{AbstractUnitRange,Vararg{Any,N} where N}} where A<:DenseArray where N where T, DenseArray} where N where T, DenseArray}} where N where #s622<:Union{CompoundPeriod, Period}</b>) in Dates at <a href=\"file:///buildworker/worker/package_linux64/build/usr/share/julia/stdlib/v1.1/Dates/src/deprecated.jl\" target=\"_blank\">/buildworker/worker/package_linux64/build/usr/share/julia/stdlib/v1.1/Dates/src/deprecated.jl:64</a></li> <li> +(A::<b>LinearAlgebra.SymTridiagonal</b>, B::<b>LinearAlgebra.SymTridiagonal</b>) in LinearAlgebra at <a href=\"file:///buildworker/worker/package_linux64/build/usr/share/julia/stdlib/v1.1/LinearAlgebra/src/tridiag.jl\" target=\"_blank\">/buildworker/worker/package_linux64/build/usr/share/julia/stdlib/v1.1/LinearAlgebra/src/tridiag.jl:158</a></li> <li> +(A::<b>LinearAlgebra.Tridiagonal</b>, B::<b>LinearAlgebra.Tridiagonal</b>) in LinearAlgebra at <a href=\"file:///buildworker/worker/package_linux64/build/usr/share/julia/stdlib/v1.1/LinearAlgebra/src/tridiag.jl\" target=\"_blank\">/buildworker/worker/package_linux64/build/usr/share/julia/stdlib/v1.1/LinearAlgebra/src/tridiag.jl:617</a></li> <li> +(A::<b>LinearAlgebra.UpperTriangular</b>, B::<b>LinearAlgebra.UpperTriangular</b>) in LinearAlgebra at <a href=\"file:///buildworker/worker/package_linux64/build/usr/share/julia/stdlib/v1.1/LinearAlgebra/src/triangular.jl\" target=\"_blank\">/buildworker/worker/package_linux64/build/usr/share/julia/stdlib/v1.1/LinearAlgebra/src/triangular.jl:487</a></li> <li> +(A::<b>LinearAlgebra.LowerTriangular</b>, B::<b>LinearAlgebra.LowerTriangular</b>) in LinearAlgebra at <a href=\"file:///buildworker/worker/package_linux64/build/usr/share/julia/stdlib/v1.1/LinearAlgebra/src/triangular.jl\" target=\"_blank\">/buildworker/worker/package_linux64/build/usr/share/julia/stdlib/v1.1/LinearAlgebra/src/triangular.jl:488</a></li> <li> +(A::<b>LinearAlgebra.UpperTriangular</b>, B::<b>LinearAlgebra.UnitUpperTriangular</b>) in LinearAlgebra at <a href=\"file:///buildworker/worker/package_linux64/build/usr/share/julia/stdlib/v1.1/LinearAlgebra/src/triangular.jl\" target=\"_blank\">/buildworker/worker/package_linux64/build/usr/share/julia/stdlib/v1.1/LinearAlgebra/src/triangular.jl:489</a></li> <li> +(A::<b>LinearAlgebra.LowerTriangular</b>, B::<b>LinearAlgebra.UnitLowerTriangular</b>) in LinearAlgebra at <a href=\"file:///buildworker/worker/package_linux64/build/usr/share/julia/stdlib/v1.1/LinearAlgebra/src/triangular.jl\" target=\"_blank\">/buildworker/worker/package_linux64/build/usr/share/julia/stdlib/v1.1/LinearAlgebra/src/triangular.jl:490</a></li> <li> +(A::<b>LinearAlgebra.UnitUpperTriangular</b>, B::<b>LinearAlgebra.UpperTriangular</b>) in LinearAlgebra at <a href=\"file:///buildworker/worker/package_linux64/build/usr/share/julia/stdlib/v1.1/LinearAlgebra/src/triangular.jl\" target=\"_blank\">/buildworker/worker/package_linux64/build/usr/share/julia/stdlib/v1.1/LinearAlgebra/src/triangular.jl:491</a></li> <li> +(A::<b>LinearAlgebra.UnitLowerTriangular</b>, B::<b>LinearAlgebra.LowerTriangular</b>) in LinearAlgebra at <a href=\"file:///buildworker/worker/package_linux64/build/usr/share/julia/stdlib/v1.1/LinearAlgebra/src/triangular.jl\" target=\"_blank\">/buildworker/worker/package_linux64/build/usr/share/julia/stdlib/v1.1/LinearAlgebra/src/triangular.jl:492</a></li> <li> +(A::<b>LinearAlgebra.UnitUpperTriangular</b>, B::<b>LinearAlgebra.UnitUpperTriangular</b>) in LinearAlgebra at <a href=\"file:///buildworker/worker/package_linux64/build/usr/share/julia/stdlib/v1.1/LinearAlgebra/src/triangular.jl\" target=\"_blank\">/buildworker/worker/package_linux64/build/usr/share/julia/stdlib/v1.1/LinearAlgebra/src/triangular.jl:493</a></li> <li> +(A::<b>LinearAlgebra.UnitLowerTriangular</b>, B::<b>LinearAlgebra.UnitLowerTriangular</b>) in LinearAlgebra at <a href=\"file:///buildworker/worker/package_linux64/build/usr/share/julia/stdlib/v1.1/LinearAlgebra/src/triangular.jl\" target=\"_blank\">/buildworker/worker/package_linux64/build/usr/share/julia/stdlib/v1.1/LinearAlgebra/src/triangular.jl:494</a></li> <li> +(A::<b>LinearAlgebra.AbstractTriangular</b>, B::<b>LinearAlgebra.AbstractTriangular</b>) in LinearAlgebra at <a href=\"file:///buildworker/worker/package_linux64/build/usr/share/julia/stdlib/v1.1/LinearAlgebra/src/triangular.jl\" target=\"_blank\">/buildworker/worker/package_linux64/build/usr/share/julia/stdlib/v1.1/LinearAlgebra/src/triangular.jl:495</a></li> <li> +(Da::<b>LinearAlgebra.Diagonal</b>, Db::<b>LinearAlgebra.Diagonal</b>) in LinearAlgebra at <a href=\"file:///buildworker/worker/package_linux64/build/usr/share/julia/stdlib/v1.1/LinearAlgebra/src/diagonal.jl\" target=\"_blank\">/buildworker/worker/package_linux64/build/usr/share/julia/stdlib/v1.1/LinearAlgebra/src/diagonal.jl:156</a></li> <li> +(A::<b>LinearAlgebra.Bidiagonal</b>, B::<b>LinearAlgebra.Bidiagonal</b>) in LinearAlgebra at <a href=\"file:///buildworker/worker/package_linux64/build/usr/share/julia/stdlib/v1.1/LinearAlgebra/src/bidiag.jl\" target=\"_blank\">/buildworker/worker/package_linux64/build/usr/share/julia/stdlib/v1.1/LinearAlgebra/src/bidiag.jl:306</a></li> <li> +(UL::<b>LinearAlgebra.UnitUpperTriangular</b>, J::<b>LinearAlgebra.UniformScaling</b>) in LinearAlgebra at <a href=\"file:///buildworker/worker/package_linux64/build/usr/share/julia/stdlib/v1.1/LinearAlgebra/src/uniformscaling.jl\" target=\"_blank\">/buildworker/worker/package_linux64/build/usr/share/julia/stdlib/v1.1/LinearAlgebra/src/uniformscaling.jl:106</a></li> <li> +(UL::<b>LinearAlgebra.UnitLowerTriangular</b>, J::<b>LinearAlgebra.UniformScaling</b>) in LinearAlgebra at <a href=\"file:///buildworker/worker/package_linux64/build/usr/share/julia/stdlib/v1.1/LinearAlgebra/src/uniformscaling.jl\" target=\"_blank\">/buildworker/worker/package_linux64/build/usr/share/julia/stdlib/v1.1/LinearAlgebra/src/uniformscaling.jl:106</a></li> <li> +(A::<b>SparseArrays.SparseMatrixCSC</b>, J::<b>LinearAlgebra.UniformScaling</b>) in SparseArrays at <a href=\"file:///buildworker/worker/package_linux64/build/usr/share/julia/stdlib/v1.1/SparseArrays/src/sparsematrix.jl\" target=\"_blank\">/buildworker/worker/package_linux64/build/usr/share/julia/stdlib/v1.1/SparseArrays/src/sparsematrix.jl:3506</a></li> <li> +(A::<b>AbstractArray{T,2} where T</b>, J::<b>LinearAlgebra.UniformScaling</b>) in LinearAlgebra at <a href=\"file:///buildworker/worker/package_linux64/build/usr/share/julia/stdlib/v1.1/LinearAlgebra/src/uniformscaling.jl\" target=\"_blank\">/buildworker/worker/package_linux64/build/usr/share/julia/stdlib/v1.1/LinearAlgebra/src/uniformscaling.jl:116</a></li> <li> +(A::<b>LinearAlgebra.Diagonal</b>, B::<b>LinearAlgebra.Bidiagonal</b>) in LinearAlgebra at <a href=\"file:///buildworker/worker/package_linux64/build/usr/share/julia/stdlib/v1.1/LinearAlgebra/src/special.jl\" target=\"_blank\">/buildworker/worker/package_linux64/build/usr/share/julia/stdlib/v1.1/LinearAlgebra/src/special.jl:87</a></li> <li> +(A::<b>LinearAlgebra.Bidiagonal</b>, B::<b>LinearAlgebra.Diagonal</b>) in LinearAlgebra at <a href=\"file:///buildworker/worker/package_linux64/build/usr/share/julia/stdlib/v1.1/LinearAlgebra/src/special.jl\" target=\"_blank\">/buildworker/worker/package_linux64/build/usr/share/julia/stdlib/v1.1/LinearAlgebra/src/special.jl:88</a></li> <li> +(A::<b>LinearAlgebra.Diagonal</b>, B::<b>LinearAlgebra.Tridiagonal</b>) in LinearAlgebra at <a href=\"file:///buildworker/worker/package_linux64/build/usr/share/julia/stdlib/v1.1/LinearAlgebra/src/special.jl\" target=\"_blank\">/buildworker/worker/package_linux64/build/usr/share/julia/stdlib/v1.1/LinearAlgebra/src/special.jl:87</a></li> <li> +(A::<b>LinearAlgebra.Tridiagonal</b>, B::<b>LinearAlgebra.Diagonal</b>) in LinearAlgebra at <a href=\"file:///buildworker/worker/package_linux64/build/usr/share/julia/stdlib/v1.1/LinearAlgebra/src/special.jl\" target=\"_blank\">/buildworker/worker/package_linux64/build/usr/share/julia/stdlib/v1.1/LinearAlgebra/src/special.jl:88</a></li> <li> +(A::<b>LinearAlgebra.Diagonal</b>, B::<b>Array{T,2} where T</b>) in LinearAlgebra at <a href=\"file:///buildworker/worker/package_linux64/build/usr/share/julia/stdlib/v1.1/LinearAlgebra/src/special.jl\" target=\"_blank\">/buildworker/worker/package_linux64/build/usr/share/julia/stdlib/v1.1/LinearAlgebra/src/special.jl:87</a></li> <li> +(A::<b>LinearAlgebra.Bidiagonal</b>, B::<b>LinearAlgebra.Tridiagonal</b>) in LinearAlgebra at <a href=\"file:///buildworker/worker/package_linux64/build/usr/share/julia/stdlib/v1.1/LinearAlgebra/src/special.jl\" target=\"_blank\">/buildworker/worker/package_linux64/build/usr/share/julia/stdlib/v1.1/LinearAlgebra/src/special.jl:87</a></li> <li> +(A::<b>LinearAlgebra.Tridiagonal</b>, B::<b>LinearAlgebra.Bidiagonal</b>) in LinearAlgebra at <a href=\"file:///buildworker/worker/package_linux64/build/usr/share/julia/stdlib/v1.1/LinearAlgebra/src/special.jl\" target=\"_blank\">/buildworker/worker/package_linux64/build/usr/share/julia/stdlib/v1.1/LinearAlgebra/src/special.jl:88</a></li> <li> +(A::<b>LinearAlgebra.Bidiagonal</b>, B::<b>Array{T,2} where T</b>) in LinearAlgebra at <a href=\"file:///buildworker/worker/package_linux64/build/usr/share/julia/stdlib/v1.1/LinearAlgebra/src/special.jl\" target=\"_blank\">/buildworker/worker/package_linux64/build/usr/share/julia/stdlib/v1.1/LinearAlgebra/src/special.jl:87</a></li> <li> +(A::<b>LinearAlgebra.Tridiagonal</b>, B::<b>Array{T,2} where T</b>) in LinearAlgebra at <a href=\"file:///buildworker/worker/package_linux64/build/usr/share/julia/stdlib/v1.1/LinearAlgebra/src/special.jl\" target=\"_blank\">/buildworker/worker/package_linux64/build/usr/share/julia/stdlib/v1.1/LinearAlgebra/src/special.jl:87</a></li> <li> +(A::<b>LinearAlgebra.SymTridiagonal</b>, B::<b>LinearAlgebra.Tridiagonal</b>) in LinearAlgebra at <a href=\"file:///buildworker/worker/package_linux64/build/usr/share/julia/stdlib/v1.1/LinearAlgebra/src/special.jl\" target=\"_blank\">/buildworker/worker/package_linux64/build/usr/share/julia/stdlib/v1.1/LinearAlgebra/src/special.jl:96</a></li> <li> +(A::<b>LinearAlgebra.Tridiagonal</b>, B::<b>LinearAlgebra.SymTridiagonal</b>) in LinearAlgebra at <a href=\"file:///buildworker/worker/package_linux64/build/usr/share/julia/stdlib/v1.1/LinearAlgebra/src/special.jl\" target=\"_blank\">/buildworker/worker/package_linux64/build/usr/share/julia/stdlib/v1.1/LinearAlgebra/src/special.jl:97</a></li> <li> +(A::<b>LinearAlgebra.SymTridiagonal</b>, B::<b>Array{T,2} where T</b>) in LinearAlgebra at <a href=\"file:///buildworker/worker/package_linux64/build/usr/share/julia/stdlib/v1.1/LinearAlgebra/src/special.jl\" target=\"_blank\">/buildworker/worker/package_linux64/build/usr/share/julia/stdlib/v1.1/LinearAlgebra/src/special.jl:96</a></li> <li> +(A::<b>LinearAlgebra.Diagonal</b>, B::<b>LinearAlgebra.SymTridiagonal</b>) in LinearAlgebra at <a href=\"file:///buildworker/worker/package_linux64/build/usr/share/julia/stdlib/v1.1/LinearAlgebra/src/special.jl\" target=\"_blank\">/buildworker/worker/package_linux64/build/usr/share/julia/stdlib/v1.1/LinearAlgebra/src/special.jl:105</a></li> <li> +(A::<b>LinearAlgebra.SymTridiagonal</b>, B::<b>LinearAlgebra.Diagonal</b>) in LinearAlgebra at <a href=\"file:///buildworker/worker/package_linux64/build/usr/share/julia/stdlib/v1.1/LinearAlgebra/src/special.jl\" target=\"_blank\">/buildworker/worker/package_linux64/build/usr/share/julia/stdlib/v1.1/LinearAlgebra/src/special.jl:106</a></li> <li> +(A::<b>LinearAlgebra.Bidiagonal</b>, B::<b>LinearAlgebra.SymTridiagonal</b>) in LinearAlgebra at <a href=\"file:///buildworker/worker/package_linux64/build/usr/share/julia/stdlib/v1.1/LinearAlgebra/src/special.jl\" target=\"_blank\">/buildworker/worker/package_linux64/build/usr/share/julia/stdlib/v1.1/LinearAlgebra/src/special.jl:105</a></li> <li> +(A::<b>LinearAlgebra.SymTridiagonal</b>, B::<b>LinearAlgebra.Bidiagonal</b>) in LinearAlgebra at <a href=\"file:///buildworker/worker/package_linux64/build/usr/share/julia/stdlib/v1.1/LinearAlgebra/src/special.jl\" target=\"_blank\">/buildworker/worker/package_linux64/build/usr/share/julia/stdlib/v1.1/LinearAlgebra/src/special.jl:106</a></li> <li> +(A::<b>LinearAlgebra.Diagonal</b>, B::<b>LinearAlgebra.UpperTriangular</b>) in LinearAlgebra at <a href=\"file:///buildworker/worker/package_linux64/build/usr/share/julia/stdlib/v1.1/LinearAlgebra/src/special.jl\" target=\"_blank\">/buildworker/worker/package_linux64/build/usr/share/julia/stdlib/v1.1/LinearAlgebra/src/special.jl:117</a></li> <li> +(A::<b>LinearAlgebra.UpperTriangular</b>, B::<b>LinearAlgebra.Diagonal</b>) in LinearAlgebra at <a href=\"file:///buildworker/worker/package_linux64/build/usr/share/julia/stdlib/v1.1/LinearAlgebra/src/special.jl\" target=\"_blank\">/buildworker/worker/package_linux64/build/usr/share/julia/stdlib/v1.1/LinearAlgebra/src/special.jl:118</a></li> <li> +(A::<b>LinearAlgebra.Diagonal</b>, B::<b>LinearAlgebra.UnitUpperTriangular</b>) in LinearAlgebra at <a href=\"file:///buildworker/worker/package_linux64/build/usr/share/julia/stdlib/v1.1/LinearAlgebra/src/special.jl\" target=\"_blank\">/buildworker/worker/package_linux64/build/usr/share/julia/stdlib/v1.1/LinearAlgebra/src/special.jl:117</a></li> <li> +(A::<b>LinearAlgebra.UnitUpperTriangular</b>, B::<b>LinearAlgebra.Diagonal</b>) in LinearAlgebra at <a href=\"file:///buildworker/worker/package_linux64/build/usr/share/julia/stdlib/v1.1/LinearAlgebra/src/special.jl\" target=\"_blank\">/buildworker/worker/package_linux64/build/usr/share/julia/stdlib/v1.1/LinearAlgebra/src/special.jl:118</a></li> <li> +(A::<b>LinearAlgebra.Diagonal</b>, B::<b>LinearAlgebra.LowerTriangular</b>) in LinearAlgebra at <a href=\"file:///buildworker/worker/package_linux64/build/usr/share/julia/stdlib/v1.1/LinearAlgebra/src/special.jl\" target=\"_blank\">/buildworker/worker/package_linux64/build/usr/share/julia/stdlib/v1.1/LinearAlgebra/src/special.jl:117</a></li> <li> +(A::<b>LinearAlgebra.LowerTriangular</b>, B::<b>LinearAlgebra.Diagonal</b>) in LinearAlgebra at <a href=\"file:///buildworker/worker/package_linux64/build/usr/share/julia/stdlib/v1.1/LinearAlgebra/src/special.jl\" target=\"_blank\">/buildworker/worker/package_linux64/build/usr/share/julia/stdlib/v1.1/LinearAlgebra/src/special.jl:118</a></li> <li> +(A::<b>LinearAlgebra.Diagonal</b>, B::<b>LinearAlgebra.UnitLowerTriangular</b>) in LinearAlgebra at <a href=\"file:///buildworker/worker/package_linux64/build/usr/share/julia/stdlib/v1.1/LinearAlgebra/src/special.jl\" target=\"_blank\">/buildworker/worker/package_linux64/build/usr/share/julia/stdlib/v1.1/LinearAlgebra/src/special.jl:117</a></li> <li> +(A::<b>LinearAlgebra.UnitLowerTriangular</b>, B::<b>LinearAlgebra.Diagonal</b>) in LinearAlgebra at <a href=\"file:///buildworker/worker/package_linux64/build/usr/share/julia/stdlib/v1.1/LinearAlgebra/src/special.jl\" target=\"_blank\">/buildworker/worker/package_linux64/build/usr/share/julia/stdlib/v1.1/LinearAlgebra/src/special.jl:118</a></li> <li> +(A::<b>LinearAlgebra.AbstractTriangular</b>, B::<b>LinearAlgebra.SymTridiagonal</b>) in LinearAlgebra at <a href=\"file:///buildworker/worker/package_linux64/build/usr/share/julia/stdlib/v1.1/LinearAlgebra/src/special.jl\" target=\"_blank\">/buildworker/worker/package_linux64/build/usr/share/julia/stdlib/v1.1/LinearAlgebra/src/special.jl:124</a></li> <li> +(A::<b>LinearAlgebra.SymTridiagonal</b>, B::<b>LinearAlgebra.AbstractTriangular</b>) in LinearAlgebra at <a href=\"file:///buildworker/worker/package_linux64/build/usr/share/julia/stdlib/v1.1/LinearAlgebra/src/special.jl\" target=\"_blank\">/buildworker/worker/package_linux64/build/usr/share/julia/stdlib/v1.1/LinearAlgebra/src/special.jl:125</a></li> <li> +(A::<b>LinearAlgebra.AbstractTriangular</b>, B::<b>LinearAlgebra.Tridiagonal</b>) in LinearAlgebra at <a href=\"file:///buildworker/worker/package_linux64/build/usr/share/julia/stdlib/v1.1/LinearAlgebra/src/special.jl\" target=\"_blank\">/buildworker/worker/package_linux64/build/usr/share/julia/stdlib/v1.1/LinearAlgebra/src/special.jl:124</a></li> <li> +(A::<b>LinearAlgebra.Tridiagonal</b>, B::<b>LinearAlgebra.AbstractTriangular</b>) in LinearAlgebra at <a href=\"file:///buildworker/worker/package_linux64/build/usr/share/julia/stdlib/v1.1/LinearAlgebra/src/special.jl\" target=\"_blank\">/buildworker/worker/package_linux64/build/usr/share/julia/stdlib/v1.1/LinearAlgebra/src/special.jl:125</a></li> <li> +(A::<b>LinearAlgebra.AbstractTriangular</b>, B::<b>LinearAlgebra.Bidiagonal</b>) in LinearAlgebra at <a href=\"file:///buildworker/worker/package_linux64/build/usr/share/julia/stdlib/v1.1/LinearAlgebra/src/special.jl\" target=\"_blank\">/buildworker/worker/package_linux64/build/usr/share/julia/stdlib/v1.1/LinearAlgebra/src/special.jl:124</a></li> <li> +(A::<b>LinearAlgebra.Bidiagonal</b>, B::<b>LinearAlgebra.AbstractTriangular</b>) in LinearAlgebra at <a href=\"file:///buildworker/worker/package_linux64/build/usr/share/julia/stdlib/v1.1/LinearAlgebra/src/special.jl\" target=\"_blank\">/buildworker/worker/package_linux64/build/usr/share/julia/stdlib/v1.1/LinearAlgebra/src/special.jl:125</a></li> <li> +(A::<b>LinearAlgebra.AbstractTriangular</b>, B::<b>Array{T,2} where T</b>) in LinearAlgebra at <a href=\"file:///buildworker/worker/package_linux64/build/usr/share/julia/stdlib/v1.1/LinearAlgebra/src/special.jl\" target=\"_blank\">/buildworker/worker/package_linux64/build/usr/share/julia/stdlib/v1.1/LinearAlgebra/src/special.jl:124</a></li> <li> +(A::<b>SparseArrays.SparseMatrixCSC</b>, B::<b>SparseArrays.SparseMatrixCSC</b>) in SparseArrays at <a href=\"file:///buildworker/worker/package_linux64/build/usr/share/julia/stdlib/v1.1/SparseArrays/src/sparsematrix.jl\" target=\"_blank\">/buildworker/worker/package_linux64/build/usr/share/julia/stdlib/v1.1/SparseArrays/src/sparsematrix.jl:1576</a></li> <li> +(A::<b>SparseArrays.SparseMatrixCSC</b>, B::<b>Array</b>) in SparseArrays at <a href=\"file:///buildworker/worker/package_linux64/build/usr/share/julia/stdlib/v1.1/SparseArrays/src/sparsematrix.jl\" target=\"_blank\">/buildworker/worker/package_linux64/build/usr/share/julia/stdlib/v1.1/SparseArrays/src/sparsematrix.jl:1579</a></li> <li> +(x::<b>SparseArrays.AbstractSparseArray{Tv,Ti,1} where Ti where Tv</b>, y::<b>SparseArrays.AbstractSparseArray{Tv,Ti,1} where Ti where Tv</b>) in SparseArrays at <a href=\"file:///buildworker/worker/package_linux64/build/usr/share/julia/stdlib/v1.1/SparseArrays/src/sparsevector.jl\" target=\"_blank\">/buildworker/worker/package_linux64/build/usr/share/julia/stdlib/v1.1/SparseArrays/src/sparsevector.jl:1292</a></li> <li> +(x::<b>AbstractArray{#s72,N} where N where #s72<:Number</b>) in Base at <a href=\"https://github.com/JuliaLang/julia/tree/80516ca20297a67b996caa08c38786332379b6a5/base/abstractarraymath.jl#L98\" target=\"_blank\">abstractarraymath.jl:98</a></li> <li> +(A::<b>AbstractArray</b>, B::<b>AbstractArray</b>) in Base at <a href=\"https://github.com/JuliaLang/julia/tree/80516ca20297a67b996caa08c38786332379b6a5/base/arraymath.jl#L38\" target=\"_blank\">arraymath.jl:38</a></li> <li> +<i>{T<:AbstractChar}</i>(x::<b>T</b>, y::<b>Integer</b>) in Base at <a href=\"https://github.com/JuliaLang/julia/tree/80516ca20297a67b996caa08c38786332379b6a5/base/char.jl#L223\" target=\"_blank\">char.jl:223</a></li> <li> +<i>{N}</i>(index1::<b>CartesianIndex{N}</b>, index2::<b>CartesianIndex{N}</b>) in Base.IteratorsMD at <a href=\"https://github.com/JuliaLang/julia/tree/80516ca20297a67b996caa08c38786332379b6a5/base/multidimensional.jl#L107\" target=\"_blank\">multidimensional.jl:107</a></li> <li> +(::<b>Number</b>, ::<b>Missing</b>) in Base at <a href=\"https://github.com/JuliaLang/julia/tree/80516ca20297a67b996caa08c38786332379b6a5/base/missing.jl#L98\" target=\"_blank\">missing.jl:98</a></li> <li> +<i>{P<:Period}</i>(x::<b>P</b>, y::<b>P</b>) in Dates at <a href=\"file:///buildworker/worker/package_linux64/build/usr/share/julia/stdlib/v1.1/Dates/src/periods.jl\" target=\"_blank\">/buildworker/worker/package_linux64/build/usr/share/julia/stdlib/v1.1/Dates/src/periods.jl:75</a></li> <li> +(x::<b>Dates.Period</b>, y::<b>Dates.Period</b>) in Dates at <a href=\"file:///buildworker/worker/package_linux64/build/usr/share/julia/stdlib/v1.1/Dates/src/periods.jl\" target=\"_blank\">/buildworker/worker/package_linux64/build/usr/share/julia/stdlib/v1.1/Dates/src/periods.jl:340</a></li> <li> +(y::<b>Dates.Period</b>, x::<b>Dates.CompoundPeriod</b>) in Dates at <a href=\"file:///buildworker/worker/package_linux64/build/usr/share/julia/stdlib/v1.1/Dates/src/periods.jl\" target=\"_blank\">/buildworker/worker/package_linux64/build/usr/share/julia/stdlib/v1.1/Dates/src/periods.jl:342</a></li> <li> +(x::<b>Union{CompoundPeriod, Period}</b>) in Dates at <a href=\"file:///buildworker/worker/package_linux64/build/usr/share/julia/stdlib/v1.1/Dates/src/periods.jl\" target=\"_blank\">/buildworker/worker/package_linux64/build/usr/share/julia/stdlib/v1.1/Dates/src/periods.jl:351</a></li> <li> +(x::<b>Dates.TimeType</b>) in Dates at <a href=\"file:///buildworker/worker/package_linux64/build/usr/share/julia/stdlib/v1.1/Dates/src/arithmetic.jl\" target=\"_blank\">/buildworker/worker/package_linux64/build/usr/share/julia/stdlib/v1.1/Dates/src/arithmetic.jl:8</a></li> <li> +(a::<b>Dates.TimeType</b>, b::<b>Dates.Period</b>, c::<b>Dates.Period</b>) in Dates at <a href=\"file:///buildworker/worker/package_linux64/build/usr/share/julia/stdlib/v1.1/Dates/src/periods.jl\" target=\"_blank\">/buildworker/worker/package_linux64/build/usr/share/julia/stdlib/v1.1/Dates/src/periods.jl:362</a></li> <li> +(a::<b>Dates.TimeType</b>, b::<b>Dates.Period</b>, c::<b>Dates.Period</b>, d::<b>Dates.Period...</b>) in Dates at <a href=\"file:///buildworker/worker/package_linux64/build/usr/share/julia/stdlib/v1.1/Dates/src/periods.jl\" target=\"_blank\">/buildworker/worker/package_linux64/build/usr/share/julia/stdlib/v1.1/Dates/src/periods.jl:363</a></li> <li> +(x::<b>Dates.TimeType</b>, y::<b>Dates.CompoundPeriod</b>) in Dates at <a href=\"file:///buildworker/worker/package_linux64/build/usr/share/julia/stdlib/v1.1/Dates/src/periods.jl\" target=\"_blank\">/buildworker/worker/package_linux64/build/usr/share/julia/stdlib/v1.1/Dates/src/periods.jl:366</a></li> <li> +(x::<b>Dates.Instant</b>) in Dates at <a href=\"file:///buildworker/worker/package_linux64/build/usr/share/julia/stdlib/v1.1/Dates/src/arithmetic.jl\" target=\"_blank\">/buildworker/worker/package_linux64/build/usr/share/julia/stdlib/v1.1/Dates/src/arithmetic.jl:4</a></li> <li> +(y::<b>Dates.Period</b>, x::<b>Dates.TimeType</b>) in Dates at <a href=\"file:///buildworker/worker/package_linux64/build/usr/share/julia/stdlib/v1.1/Dates/src/arithmetic.jl\" target=\"_blank\">/buildworker/worker/package_linux64/build/usr/share/julia/stdlib/v1.1/Dates/src/arithmetic.jl:80</a></li> <li> +(x::<b>Dates.Period</b>, r::<b>AbstractRange{#s623} where #s623<:Dates.TimeType</b>) in Dates at <a href=\"file:///buildworker/worker/package_linux64/build/usr/share/julia/stdlib/v1.1/Dates/src/ranges.jl\" target=\"_blank\">/buildworker/worker/package_linux64/build/usr/share/julia/stdlib/v1.1/Dates/src/ranges.jl:58</a></li> <li> +(x::<b>AbstractArray{#s623,N} where N where #s623<:Dates.TimeType</b>, y::<b>Union{CompoundPeriod, Period}</b>) in Dates at <a href=\"file:///buildworker/worker/package_linux64/build/usr/share/julia/stdlib/v1.1/Dates/src/deprecated.jl\" target=\"_blank\">/buildworker/worker/package_linux64/build/usr/share/julia/stdlib/v1.1/Dates/src/deprecated.jl:8</a></li> <li> +(y::<b>Union{CompoundPeriod, Period}</b>, x::<b>AbstractArray{#s623,N} where N where #s623<:Dates.TimeType</b>) in Dates at <a href=\"file:///buildworker/worker/package_linux64/build/usr/share/julia/stdlib/v1.1/Dates/src/deprecated.jl\" target=\"_blank\">/buildworker/worker/package_linux64/build/usr/share/julia/stdlib/v1.1/Dates/src/deprecated.jl:16</a></li> <li> +(y::<b>Dates.TimeType</b>, x::<b>Union{DenseArray{#s623,N}, ReinterpretArray{#s623,N,S,A} where S where A<:Union{SubArray{T,N,A,I,true} where I<:Union{Tuple{Vararg{Real,N} where N}, Tuple{AbstractUnitRange,Vararg{Any,N} where N}} where A<:DenseArray where N where T, DenseArray}, ReshapedArray{#s623,N,A,MI} where MI<:Tuple{Vararg{SignedMultiplicativeInverse{Int64},N} where N} where A<:Union{ReinterpretArray{T,N,S,A} where S where A<:Union{SubArray{T,N,A,I,true} where I<:Union{Tuple{Vararg{Real,N} where N}, Tuple{AbstractUnitRange,Vararg{Any,N} where N}} where A<:DenseArray where N where T, DenseArray} where N where T, SubArray{T,N,A,I,true} where I<:Union{Tuple{Vararg{Real,N} where N}, Tuple{AbstractUnitRange,Vararg{Any,N} where N}} where A<:DenseArray where N where T, DenseArray}, SubArray{#s623,N,A,I,L} where L where I<:Tuple{Vararg{Union{Int64, AbstractRange{Int64}, AbstractCartesianIndex},N} where N} where A<:Union{ReinterpretArray{T,N,S,A} where S where A<:Union{SubArray{T,N,A,I,true} where I<:Union{Tuple{Vararg{Real,N} where N}, Tuple{AbstractUnitRange,Vararg{Any,N} where N}} where A<:DenseArray where N where T, DenseArray} where N where T, ReshapedArray{T,N,A,MI} where MI<:Tuple{Vararg{SignedMultiplicativeInverse{Int64},N} where N} where A<:Union{ReinterpretArray{T,N,S,A} where S where A<:Union{SubArray{T,N,A,I,true} where I<:Union{Tuple{Vararg{Real,N} where N}, Tuple{AbstractUnitRange,Vararg{Any,N} where N}} where A<:DenseArray where N where T, DenseArray} where N where T, SubArray{T,N,A,I,true} where I<:Union{Tuple{Vararg{Real,N} where N}, Tuple{AbstractUnitRange,Vararg{Any,N} where N}} where A<:DenseArray where N where T, DenseArray} where N where T, DenseArray}} where N where #s623<:Union{CompoundPeriod, Period}</b>) in Dates at <a href=\"file:///buildworker/worker/package_linux64/build/usr/share/julia/stdlib/v1.1/Dates/src/deprecated.jl\" target=\"_blank\">/buildworker/worker/package_linux64/build/usr/share/julia/stdlib/v1.1/Dates/src/deprecated.jl:20</a></li> <li> +(J::<b>LinearAlgebra.UniformScaling</b>, x::<b>Number</b>) in LinearAlgebra at <a href=\"file:///buildworker/worker/package_linux64/build/usr/share/julia/stdlib/v1.1/LinearAlgebra/src/uniformscaling.jl\" target=\"_blank\">/buildworker/worker/package_linux64/build/usr/share/julia/stdlib/v1.1/LinearAlgebra/src/uniformscaling.jl:84</a></li> <li> +(x::<b>Number</b>, J::<b>LinearAlgebra.UniformScaling</b>) in LinearAlgebra at <a href=\"file:///buildworker/worker/package_linux64/build/usr/share/julia/stdlib/v1.1/LinearAlgebra/src/uniformscaling.jl\" target=\"_blank\">/buildworker/worker/package_linux64/build/usr/share/julia/stdlib/v1.1/LinearAlgebra/src/uniformscaling.jl:85</a></li> <li> +(J1::<b>LinearAlgebra.UniformScaling</b>, J2::<b>LinearAlgebra.UniformScaling</b>) in LinearAlgebra at <a href=\"file:///buildworker/worker/package_linux64/build/usr/share/julia/stdlib/v1.1/LinearAlgebra/src/uniformscaling.jl\" target=\"_blank\">/buildworker/worker/package_linux64/build/usr/share/julia/stdlib/v1.1/LinearAlgebra/src/uniformscaling.jl:89</a></li> <li> +(J::<b>LinearAlgebra.UniformScaling</b>, B::<b>BitArray{2}</b>) in LinearAlgebra at <a href=\"file:///buildworker/worker/package_linux64/build/usr/share/julia/stdlib/v1.1/LinearAlgebra/src/uniformscaling.jl\" target=\"_blank\">/buildworker/worker/package_linux64/build/usr/share/julia/stdlib/v1.1/LinearAlgebra/src/uniformscaling.jl:91</a></li> <li> +(J::<b>LinearAlgebra.UniformScaling</b>, A::<b>AbstractArray{T,2} where T</b>) in LinearAlgebra at <a href=\"file:///buildworker/worker/package_linux64/build/usr/share/julia/stdlib/v1.1/LinearAlgebra/src/uniformscaling.jl\" target=\"_blank\">/buildworker/worker/package_linux64/build/usr/share/julia/stdlib/v1.1/LinearAlgebra/src/uniformscaling.jl:92</a></li> <li> +(a, b, c, xs...) in Base at <a href=\"https://github.com/JuliaLang/julia/tree/80516ca20297a67b996caa08c38786332379b6a5/base/operators.jl#L502\" target=\"_blank\">operators.jl:502</a></li> </ul>"
      ],
      "text/plain": [
       "# 163 methods for generic function \"+\":\n",
       "[1] +(x::Bool, z::Complex{Bool}) in Base at complex.jl:277\n",
       "[2] +(x::Bool, y::Bool) in Base at bool.jl:104\n",
       "[3] +(x::Bool) in Base at bool.jl:101\n",
       "[4] +(x::Bool, y::T) where T<:AbstractFloat in Base at bool.jl:112\n",
       "[5] +(x::Bool, z::Complex) in Base at complex.jl:284\n",
       "[6] +(a::Float16, b::Float16) in Base at float.jl:392\n",
       "[7] +(x::Float32, y::Float32) in Base at float.jl:394\n",
       "[8] +(x::Float64, y::Float64) in Base at float.jl:395\n",
       "[9] +(z::Complex{Bool}, x::Bool) in Base at complex.jl:278\n",
       "[10] +(z::Complex{Bool}, x::Real) in Base at complex.jl:292\n",
       "[11] +(::Missing, ::Missing) in Base at missing.jl:96\n",
       "[12] +(::Missing) in Base at missing.jl:83\n",
       "[13] +(::Missing, ::Number) in Base at missing.jl:97\n",
       "[14] +(level::Base.CoreLogging.LogLevel, inc::Integer) in Base.CoreLogging at logging.jl:106\n",
       "[15] +(c::BigInt, x::BigFloat) in Base.MPFR at mpfr.jl:406\n",
       "[16] +(a::BigInt, b::BigInt, c::BigInt, d::BigInt, e::BigInt) in Base.GMP at gmp.jl:434\n",
       "[17] +(a::BigInt, b::BigInt, c::BigInt, d::BigInt) in Base.GMP at gmp.jl:433\n",
       "[18] +(a::BigInt, b::BigInt, c::BigInt) in Base.GMP at gmp.jl:432\n",
       "[19] +(x::BigInt, y::BigInt) in Base.GMP at gmp.jl:403\n",
       "[20] +(x::BigInt, c::Union{UInt16, UInt32, UInt64, UInt8}) in Base.GMP at gmp.jl:440\n",
       "[21] +(x::BigInt, c::Union{Int16, Int32, Int64, Int8}) in Base.GMP at gmp.jl:446\n",
       "[22] +(a::BigFloat, b::BigFloat, c::BigFloat, d::BigFloat, e::BigFloat) in Base.MPFR at mpfr.jl:556\n",
       "[23] +(a::BigFloat, b::BigFloat, c::BigFloat, d::BigFloat) in Base.MPFR at mpfr.jl:549\n",
       "[24] +(a::BigFloat, b::BigFloat, c::BigFloat) in Base.MPFR at mpfr.jl:543\n",
       "[25] +(x::BigFloat, c::BigInt) in Base.MPFR at mpfr.jl:402\n",
       "[26] +(x::BigFloat, y::BigFloat) in Base.MPFR at mpfr.jl:371\n",
       "[27] +(x::BigFloat, c::Union{UInt16, UInt32, UInt64, UInt8}) in Base.MPFR at mpfr.jl:378\n",
       "[28] +(x::BigFloat, c::Union{Int16, Int32, Int64, Int8}) in Base.MPFR at mpfr.jl:386\n",
       "[29] +(x::BigFloat, c::Union{Float16, Float32, Float64}) in Base.MPFR at mpfr.jl:394\n",
       "[30] +(x::Dates.CompoundPeriod, y::Dates.CompoundPeriod) in Dates at /buildworker/worker/package_linux64/build/usr/share/julia/stdlib/v1.1/Dates/src/periods.jl:343\n",
       "[31] +(x::Dates.CompoundPeriod, y::Dates.Period) in Dates at /buildworker/worker/package_linux64/build/usr/share/julia/stdlib/v1.1/Dates/src/periods.jl:341\n",
       "[32] +(x::Dates.CompoundPeriod, y::Dates.TimeType) in Dates at /buildworker/worker/package_linux64/build/usr/share/julia/stdlib/v1.1/Dates/src/periods.jl:371\n",
       "[33] +(x::Dates.Date, y::Dates.Day) in Dates at /buildworker/worker/package_linux64/build/usr/share/julia/stdlib/v1.1/Dates/src/arithmetic.jl:74\n",
       "[34] +(x::Dates.Date, y::Dates.Week) in Dates at /buildworker/worker/package_linux64/build/usr/share/julia/stdlib/v1.1/Dates/src/arithmetic.jl:72\n",
       "[35] +(dt::Dates.Date, z::Dates.Month) in Dates at /buildworker/worker/package_linux64/build/usr/share/julia/stdlib/v1.1/Dates/src/arithmetic.jl:55\n",
       "[36] +(dt::Dates.Date, y::Dates.Year) in Dates at /buildworker/worker/package_linux64/build/usr/share/julia/stdlib/v1.1/Dates/src/arithmetic.jl:28\n",
       "[37] +(dt::Dates.Date, t::Dates.Time) in Dates at /buildworker/worker/package_linux64/build/usr/share/julia/stdlib/v1.1/Dates/src/arithmetic.jl:19\n",
       "[38] +(t::Dates.Time, dt::Dates.Date) in Dates at /buildworker/worker/package_linux64/build/usr/share/julia/stdlib/v1.1/Dates/src/arithmetic.jl:20\n",
       "[39] +(x::Dates.Time, y::Dates.TimePeriod) in Dates at /buildworker/worker/package_linux64/build/usr/share/julia/stdlib/v1.1/Dates/src/arithmetic.jl:78\n",
       "[40] +(dt::Dates.DateTime, z::Dates.Month) in Dates at /buildworker/worker/package_linux64/build/usr/share/julia/stdlib/v1.1/Dates/src/arithmetic.jl:48\n",
       "[41] +(dt::Dates.DateTime, y::Dates.Year) in Dates at /buildworker/worker/package_linux64/build/usr/share/julia/stdlib/v1.1/Dates/src/arithmetic.jl:24\n",
       "[42] +(x::Dates.DateTime, y::Dates.Period) in Dates at /buildworker/worker/package_linux64/build/usr/share/julia/stdlib/v1.1/Dates/src/arithmetic.jl:76\n",
       "[43] +(B::BitArray{2}, J::LinearAlgebra.UniformScaling) in LinearAlgebra at /buildworker/worker/package_linux64/build/usr/share/julia/stdlib/v1.1/LinearAlgebra/src/uniformscaling.jl:90\n",
       "[44] +(a::Pkg.Resolve.VersionWeights.VersionWeight, b::Pkg.Resolve.VersionWeights.VersionWeight) in Pkg.Resolve.VersionWeights at /buildworker/worker/package_linux64/build/usr/share/julia/stdlib/v1.1/Pkg/src/resolve/VersionWeights.jl:26\n",
       "[45] +(a::Pkg.Resolve.MaxSum.FieldValues.FieldValue, b::Pkg.Resolve.MaxSum.FieldValues.FieldValue) in Pkg.Resolve.MaxSum.FieldValues at /buildworker/worker/package_linux64/build/usr/share/julia/stdlib/v1.1/Pkg/src/resolve/FieldValues.jl:49\n",
       "[46] +(y::AbstractFloat, x::Bool) in Base at bool.jl:114\n",
       "[47] +(x::T, y::T) where T<:Union{Int128, Int16, Int32, Int64, Int8, UInt128, UInt16, UInt32, UInt64, UInt8} in Base at int.jl:53\n",
       "[48] +(c::Union{UInt16, UInt32, UInt64, UInt8}, x::BigInt) in Base.GMP at gmp.jl:441\n",
       "[49] +(c::Union{Int16, Int32, Int64, Int8}, x::BigInt) in Base.GMP at gmp.jl:447\n",
       "[50] +(a::Integer, b::Integer) in Base at int.jl:797\n",
       "[51] +(x::Integer, y::Ptr) in Base at pointer.jl:157\n",
       "[52] +(z::Complex, w::Complex) in Base at complex.jl:266\n",
       "[53] +(z::Complex, x::Bool) in Base at complex.jl:285\n",
       "[54] +(x::Real, z::Complex{Bool}) in Base at complex.jl:291\n",
       "[55] +(x::Real, z::Complex) in Base at complex.jl:303\n",
       "[56] +(z::Complex, x::Real) in Base at complex.jl:304\n",
       "[57] +(x::Rational, y::Rational) in Base at rational.jl:252\n",
       "[58] +(x::Integer, y::AbstractChar) in Base at char.jl:224\n",
       "[59] +(c::Union{UInt16, UInt32, UInt64, UInt8}, x::BigFloat) in Base.MPFR at mpfr.jl:382\n",
       "[60] +(c::Union{Int16, Int32, Int64, Int8}, x::BigFloat) in Base.MPFR at mpfr.jl:390\n",
       "[61] +(c::Union{Float16, Float32, Float64}, x::BigFloat) in Base.MPFR at mpfr.jl:398\n",
       "[62] +(x::AbstractIrrational, y::AbstractIrrational) in Base at irrationals.jl:133\n",
       "[63] +(x::Number) in Base at operators.jl:477\n",
       "[64] +(x::T, y::T) where T<:Number in Base at promotion.jl:389\n",
       "[65] +(x::Number, y::Number) in Base at promotion.jl:313\n",
       "[66] +(r1::OrdinalRange, r2::OrdinalRange) in Base at range.jl:1003\n",
       "[67] +(r1::LinRange{T}, r2::LinRange{T}) where T in Base at range.jl:1010\n",
       "[68] +(r1::StepRangeLen{T,R,S} where S, r2::StepRangeLen{T,R,S} where S) where {R<:TwicePrecision, T} in Base at twiceprecision.jl:557\n",
       "[69] +(r1::StepRangeLen{T,S,S1} where S1, r2::StepRangeLen{T,S,S1} where S1) where {T, S} in Base at range.jl:1026\n",
       "[70] +(r1::Union{LinRange, OrdinalRange, StepRangeLen}, r2::Union{LinRange, OrdinalRange, StepRangeLen}) in Base at range.jl:1018\n",
       "[71] +(x::Ptr, y::Integer) in Base at pointer.jl:155\n",
       "[72] +(x::Base.TwicePrecision, y::Number) in Base at twiceprecision.jl:265\n",
       "[73] +(x::Number, y::Base.TwicePrecision) in Base at twiceprecision.jl:268\n",
       "[74] +(x::Base.TwicePrecision{T}, y::Base.TwicePrecision{T}) where T in Base at twiceprecision.jl:271\n",
       "[75] +(x::Base.TwicePrecision, y::Base.TwicePrecision) in Base at twiceprecision.jl:275\n",
       "[76] +(A::Array, Bs::Array...) in Base at arraymath.jl:44\n",
       "[77] +(A::BitArray, B::BitArray) in Base at bitarray.jl:1084\n",
       "[78] +(r::AbstractRange{#s623} where #s623<:Dates.TimeType, x::Dates.Period) in Dates at /buildworker/worker/package_linux64/build/usr/share/julia/stdlib/v1.1/Dates/src/ranges.jl:59\n",
       "[79] +(A::Array{T,2} where T, B::LinearAlgebra.Diagonal) in LinearAlgebra at /buildworker/worker/package_linux64/build/usr/share/julia/stdlib/v1.1/LinearAlgebra/src/special.jl:88\n",
       "[80] +(A::Array{T,2} where T, B::LinearAlgebra.Bidiagonal) in LinearAlgebra at /buildworker/worker/package_linux64/build/usr/share/julia/stdlib/v1.1/LinearAlgebra/src/special.jl:88\n",
       "[81] +(A::Array{T,2} where T, B::LinearAlgebra.Tridiagonal) in LinearAlgebra at /buildworker/worker/package_linux64/build/usr/share/julia/stdlib/v1.1/LinearAlgebra/src/special.jl:88\n",
       "[82] +(A::Array{T,2} where T, B::LinearAlgebra.SymTridiagonal) in LinearAlgebra at /buildworker/worker/package_linux64/build/usr/share/julia/stdlib/v1.1/LinearAlgebra/src/special.jl:97\n",
       "[83] +(A::Array{T,2} where T, B::LinearAlgebra.AbstractTriangular) in LinearAlgebra at /buildworker/worker/package_linux64/build/usr/share/julia/stdlib/v1.1/LinearAlgebra/src/special.jl:125\n",
       "[84] +(A::Array, B::SparseArrays.SparseMatrixCSC) in SparseArrays at /buildworker/worker/package_linux64/build/usr/share/julia/stdlib/v1.1/SparseArrays/src/sparsematrix.jl:1580\n",
       "[85] +(x::Union{DenseArray{#s623,N}, ReinterpretArray{#s623,N,S,A} where S where A<:Union{SubArray{T,N,A,I,true} where I<:Union{Tuple{Vararg{Real,N} where N}, Tuple{AbstractUnitRange,Vararg{Any,N} where N}} where A<:DenseArray where N where T, DenseArray}, ReshapedArray{#s623,N,A,MI} where MI<:Tuple{Vararg{SignedMultiplicativeInverse{Int64},N} where N} where A<:Union{ReinterpretArray{T,N,S,A} where S where A<:Union{SubArray{T,N,A,I,true} where I<:Union{Tuple{Vararg{Real,N} where N}, Tuple{AbstractUnitRange,Vararg{Any,N} where N}} where A<:DenseArray where N where T, DenseArray} where N where T, SubArray{T,N,A,I,true} where I<:Union{Tuple{Vararg{Real,N} where N}, Tuple{AbstractUnitRange,Vararg{Any,N} where N}} where A<:DenseArray where N where T, DenseArray}, SubArray{#s623,N,A,I,L} where L where I<:Tuple{Vararg{Union{Int64, AbstractRange{Int64}, AbstractCartesianIndex},N} where N} where A<:Union{ReinterpretArray{T,N,S,A} where S where A<:Union{SubArray{T,N,A,I,true} where I<:Union{Tuple{Vararg{Real,N} where N}, Tuple{AbstractUnitRange,Vararg{Any,N} where N}} where A<:DenseArray where N where T, DenseArray} where N where T, ReshapedArray{T,N,A,MI} where MI<:Tuple{Vararg{SignedMultiplicativeInverse{Int64},N} where N} where A<:Union{ReinterpretArray{T,N,S,A} where S where A<:Union{SubArray{T,N,A,I,true} where I<:Union{Tuple{Vararg{Real,N} where N}, Tuple{AbstractUnitRange,Vararg{Any,N} where N}} where A<:DenseArray where N where T, DenseArray} where N where T, SubArray{T,N,A,I,true} where I<:Union{Tuple{Vararg{Real,N} where N}, Tuple{AbstractUnitRange,Vararg{Any,N} where N}} where A<:DenseArray where N where T, DenseArray} where N where T, DenseArray}} where N where #s623<:Union{CompoundPeriod, Period}) in Dates at /buildworker/worker/package_linux64/build/usr/share/julia/stdlib/v1.1/Dates/src/deprecated.jl:57\n",
       "[86] +(x::Union{DenseArray{#s623,N}, ReinterpretArray{#s623,N,S,A} where S where A<:Union{SubArray{T,N,A,I,true} where I<:Union{Tuple{Vararg{Real,N} where N}, Tuple{AbstractUnitRange,Vararg{Any,N} where N}} where A<:DenseArray where N where T, DenseArray}, ReshapedArray{#s623,N,A,MI} where MI<:Tuple{Vararg{SignedMultiplicativeInverse{Int64},N} where N} where A<:Union{ReinterpretArray{T,N,S,A} where S where A<:Union{SubArray{T,N,A,I,true} where I<:Union{Tuple{Vararg{Real,N} where N}, Tuple{AbstractUnitRange,Vararg{Any,N} where N}} where A<:DenseArray where N where T, DenseArray} where N where T, SubArray{T,N,A,I,true} where I<:Union{Tuple{Vararg{Real,N} where N}, Tuple{AbstractUnitRange,Vararg{Any,N} where N}} where A<:DenseArray where N where T, DenseArray}, SubArray{#s623,N,A,I,L} where L where I<:Tuple{Vararg{Union{Int64, AbstractRange{Int64}, AbstractCartesianIndex},N} where N} where A<:Union{ReinterpretArray{T,N,S,A} where S where A<:Union{SubArray{T,N,A,I,true} where I<:Union{Tuple{Vararg{Real,N} where N}, Tuple{AbstractUnitRange,Vararg{Any,N} where N}} where A<:DenseArray where N where T, DenseArray} where N where T, ReshapedArray{T,N,A,MI} where MI<:Tuple{Vararg{SignedMultiplicativeInverse{Int64},N} where N} where A<:Union{ReinterpretArray{T,N,S,A} where S where A<:Union{SubArray{T,N,A,I,true} where I<:Union{Tuple{Vararg{Real,N} where N}, Tuple{AbstractUnitRange,Vararg{Any,N} where N}} where A<:DenseArray where N where T, DenseArray} where N where T, SubArray{T,N,A,I,true} where I<:Union{Tuple{Vararg{Real,N} where N}, Tuple{AbstractUnitRange,Vararg{Any,N} where N}} where A<:DenseArray where N where T, DenseArray} where N where T, DenseArray}} where N where #s623<:Union{CompoundPeriod, Period}, y::Dates.TimeType) in Dates at /buildworker/worker/package_linux64/build/usr/share/julia/stdlib/v1.1/Dates/src/deprecated.jl:12\n",
       "[87] +(X::Union{DenseArray{#s623,N}, ReinterpretArray{#s623,N,S,A} where S where A<:Union{SubArray{T,N,A,I,true} where I<:Union{Tuple{Vararg{Real,N} where N}, Tuple{AbstractUnitRange,Vararg{Any,N} where N}} where A<:DenseArray where N where T, DenseArray}, ReshapedArray{#s623,N,A,MI} where MI<:Tuple{Vararg{SignedMultiplicativeInverse{Int64},N} where N} where A<:Union{ReinterpretArray{T,N,S,A} where S where A<:Union{SubArray{T,N,A,I,true} where I<:Union{Tuple{Vararg{Real,N} where N}, Tuple{AbstractUnitRange,Vararg{Any,N} where N}} where A<:DenseArray where N where T, DenseArray} where N where T, SubArray{T,N,A,I,true} where I<:Union{Tuple{Vararg{Real,N} where N}, Tuple{AbstractUnitRange,Vararg{Any,N} where N}} where A<:DenseArray where N where T, DenseArray}, SubArray{#s623,N,A,I,L} where L where I<:Tuple{Vararg{Union{Int64, AbstractRange{Int64}, AbstractCartesianIndex},N} where N} where A<:Union{ReinterpretArray{T,N,S,A} where S where A<:Union{SubArray{T,N,A,I,true} where I<:Union{Tuple{Vararg{Real,N} where N}, Tuple{AbstractUnitRange,Vararg{Any,N} where N}} where A<:DenseArray where N where T, DenseArray} where N where T, ReshapedArray{T,N,A,MI} where MI<:Tuple{Vararg{SignedMultiplicativeInverse{Int64},N} where N} where A<:Union{ReinterpretArray{T,N,S,A} where S where A<:Union{SubArray{T,N,A,I,true} where I<:Union{Tuple{Vararg{Real,N} where N}, Tuple{AbstractUnitRange,Vararg{Any,N} where N}} where A<:DenseArray where N where T, DenseArray} where N where T, SubArray{T,N,A,I,true} where I<:Union{Tuple{Vararg{Real,N} where N}, Tuple{AbstractUnitRange,Vararg{Any,N} where N}} where A<:DenseArray where N where T, DenseArray} where N where T, DenseArray}} where N where #s623<:Union{CompoundPeriod, Period}, Y::Union{DenseArray{#s622,N}, ReinterpretArray{#s622,N,S,A} where S where A<:Union{SubArray{T,N,A,I,true} where I<:Union{Tuple{Vararg{Real,N} where N}, Tuple{AbstractUnitRange,Vararg{Any,N} where N}} where A<:DenseArray where N where T, DenseArray}, ReshapedArray{#s622,N,A,MI} where MI<:Tuple{Vararg{SignedMultiplicativeInverse{Int64},N} where N} where A<:Union{ReinterpretArray{T,N,S,A} where S where A<:Union{SubArray{T,N,A,I,true} where I<:Union{Tuple{Vararg{Real,N} where N}, Tuple{AbstractUnitRange,Vararg{Any,N} where N}} where A<:DenseArray where N where T, DenseArray} where N where T, SubArray{T,N,A,I,true} where I<:Union{Tuple{Vararg{Real,N} where N}, Tuple{AbstractUnitRange,Vararg{Any,N} where N}} where A<:DenseArray where N where T, DenseArray}, SubArray{#s622,N,A,I,L} where L where I<:Tuple{Vararg{Union{Int64, AbstractRange{Int64}, AbstractCartesianIndex},N} where N} where A<:Union{ReinterpretArray{T,N,S,A} where S where A<:Union{SubArray{T,N,A,I,true} where I<:Union{Tuple{Vararg{Real,N} where N}, Tuple{AbstractUnitRange,Vararg{Any,N} where N}} where A<:DenseArray where N where T, DenseArray} where N where T, ReshapedArray{T,N,A,MI} where MI<:Tuple{Vararg{SignedMultiplicativeInverse{Int64},N} where N} where A<:Union{ReinterpretArray{T,N,S,A} where S where A<:Union{SubArray{T,N,A,I,true} where I<:Union{Tuple{Vararg{Real,N} where N}, Tuple{AbstractUnitRange,Vararg{Any,N} where N}} where A<:DenseArray where N where T, DenseArray} where N where T, SubArray{T,N,A,I,true} where I<:Union{Tuple{Vararg{Real,N} where N}, Tuple{AbstractUnitRange,Vararg{Any,N} where N}} where A<:DenseArray where N where T, DenseArray} where N where T, DenseArray}} where N where #s622<:Union{CompoundPeriod, Period}) in Dates at /buildworker/worker/package_linux64/build/usr/share/julia/stdlib/v1.1/Dates/src/deprecated.jl:64\n",
       "[88] +(A::LinearAlgebra.SymTridiagonal, B::LinearAlgebra.SymTridiagonal) in LinearAlgebra at /buildworker/worker/package_linux64/build/usr/share/julia/stdlib/v1.1/LinearAlgebra/src/tridiag.jl:158\n",
       "[89] +(A::LinearAlgebra.Tridiagonal, B::LinearAlgebra.Tridiagonal) in LinearAlgebra at /buildworker/worker/package_linux64/build/usr/share/julia/stdlib/v1.1/LinearAlgebra/src/tridiag.jl:617\n",
       "[90] +(A::LinearAlgebra.UpperTriangular, B::LinearAlgebra.UpperTriangular) in LinearAlgebra at /buildworker/worker/package_linux64/build/usr/share/julia/stdlib/v1.1/LinearAlgebra/src/triangular.jl:487\n",
       "[91] +(A::LinearAlgebra.LowerTriangular, B::LinearAlgebra.LowerTriangular) in LinearAlgebra at /buildworker/worker/package_linux64/build/usr/share/julia/stdlib/v1.1/LinearAlgebra/src/triangular.jl:488\n",
       "[92] +(A::LinearAlgebra.UpperTriangular, B::LinearAlgebra.UnitUpperTriangular) in LinearAlgebra at /buildworker/worker/package_linux64/build/usr/share/julia/stdlib/v1.1/LinearAlgebra/src/triangular.jl:489\n",
       "[93] +(A::LinearAlgebra.LowerTriangular, B::LinearAlgebra.UnitLowerTriangular) in LinearAlgebra at /buildworker/worker/package_linux64/build/usr/share/julia/stdlib/v1.1/LinearAlgebra/src/triangular.jl:490\n",
       "[94] +(A::LinearAlgebra.UnitUpperTriangular, B::LinearAlgebra.UpperTriangular) in LinearAlgebra at /buildworker/worker/package_linux64/build/usr/share/julia/stdlib/v1.1/LinearAlgebra/src/triangular.jl:491\n",
       "[95] +(A::LinearAlgebra.UnitLowerTriangular, B::LinearAlgebra.LowerTriangular) in LinearAlgebra at /buildworker/worker/package_linux64/build/usr/share/julia/stdlib/v1.1/LinearAlgebra/src/triangular.jl:492\n",
       "[96] +(A::LinearAlgebra.UnitUpperTriangular, B::LinearAlgebra.UnitUpperTriangular) in LinearAlgebra at /buildworker/worker/package_linux64/build/usr/share/julia/stdlib/v1.1/LinearAlgebra/src/triangular.jl:493\n",
       "[97] +(A::LinearAlgebra.UnitLowerTriangular, B::LinearAlgebra.UnitLowerTriangular) in LinearAlgebra at /buildworker/worker/package_linux64/build/usr/share/julia/stdlib/v1.1/LinearAlgebra/src/triangular.jl:494\n",
       "[98] +(A::LinearAlgebra.AbstractTriangular, B::LinearAlgebra.AbstractTriangular) in LinearAlgebra at /buildworker/worker/package_linux64/build/usr/share/julia/stdlib/v1.1/LinearAlgebra/src/triangular.jl:495\n",
       "[99] +(Da::LinearAlgebra.Diagonal, Db::LinearAlgebra.Diagonal) in LinearAlgebra at /buildworker/worker/package_linux64/build/usr/share/julia/stdlib/v1.1/LinearAlgebra/src/diagonal.jl:156\n",
       "[100] +(A::LinearAlgebra.Bidiagonal, B::LinearAlgebra.Bidiagonal) in LinearAlgebra at /buildworker/worker/package_linux64/build/usr/share/julia/stdlib/v1.1/LinearAlgebra/src/bidiag.jl:306\n",
       "[101] +(UL::LinearAlgebra.UnitUpperTriangular, J::LinearAlgebra.UniformScaling) in LinearAlgebra at /buildworker/worker/package_linux64/build/usr/share/julia/stdlib/v1.1/LinearAlgebra/src/uniformscaling.jl:106\n",
       "[102] +(UL::LinearAlgebra.UnitLowerTriangular, J::LinearAlgebra.UniformScaling) in LinearAlgebra at /buildworker/worker/package_linux64/build/usr/share/julia/stdlib/v1.1/LinearAlgebra/src/uniformscaling.jl:106\n",
       "[103] +(A::SparseArrays.SparseMatrixCSC, J::LinearAlgebra.UniformScaling) in SparseArrays at /buildworker/worker/package_linux64/build/usr/share/julia/stdlib/v1.1/SparseArrays/src/sparsematrix.jl:3506\n",
       "[104] +(A::AbstractArray{T,2} where T, J::LinearAlgebra.UniformScaling) in LinearAlgebra at /buildworker/worker/package_linux64/build/usr/share/julia/stdlib/v1.1/LinearAlgebra/src/uniformscaling.jl:116\n",
       "[105] +(A::LinearAlgebra.Diagonal, B::LinearAlgebra.Bidiagonal) in LinearAlgebra at /buildworker/worker/package_linux64/build/usr/share/julia/stdlib/v1.1/LinearAlgebra/src/special.jl:87\n",
       "[106] +(A::LinearAlgebra.Bidiagonal, B::LinearAlgebra.Diagonal) in LinearAlgebra at /buildworker/worker/package_linux64/build/usr/share/julia/stdlib/v1.1/LinearAlgebra/src/special.jl:88\n",
       "[107] +(A::LinearAlgebra.Diagonal, B::LinearAlgebra.Tridiagonal) in LinearAlgebra at /buildworker/worker/package_linux64/build/usr/share/julia/stdlib/v1.1/LinearAlgebra/src/special.jl:87\n",
       "[108] +(A::LinearAlgebra.Tridiagonal, B::LinearAlgebra.Diagonal) in LinearAlgebra at /buildworker/worker/package_linux64/build/usr/share/julia/stdlib/v1.1/LinearAlgebra/src/special.jl:88\n",
       "[109] +(A::LinearAlgebra.Diagonal, B::Array{T,2} where T) in LinearAlgebra at /buildworker/worker/package_linux64/build/usr/share/julia/stdlib/v1.1/LinearAlgebra/src/special.jl:87\n",
       "[110] +(A::LinearAlgebra.Bidiagonal, B::LinearAlgebra.Tridiagonal) in LinearAlgebra at /buildworker/worker/package_linux64/build/usr/share/julia/stdlib/v1.1/LinearAlgebra/src/special.jl:87\n",
       "[111] +(A::LinearAlgebra.Tridiagonal, B::LinearAlgebra.Bidiagonal) in LinearAlgebra at /buildworker/worker/package_linux64/build/usr/share/julia/stdlib/v1.1/LinearAlgebra/src/special.jl:88\n",
       "[112] +(A::LinearAlgebra.Bidiagonal, B::Array{T,2} where T) in LinearAlgebra at /buildworker/worker/package_linux64/build/usr/share/julia/stdlib/v1.1/LinearAlgebra/src/special.jl:87\n",
       "[113] +(A::LinearAlgebra.Tridiagonal, B::Array{T,2} where T) in LinearAlgebra at /buildworker/worker/package_linux64/build/usr/share/julia/stdlib/v1.1/LinearAlgebra/src/special.jl:87\n",
       "[114] +(A::LinearAlgebra.SymTridiagonal, B::LinearAlgebra.Tridiagonal) in LinearAlgebra at /buildworker/worker/package_linux64/build/usr/share/julia/stdlib/v1.1/LinearAlgebra/src/special.jl:96\n",
       "[115] +(A::LinearAlgebra.Tridiagonal, B::LinearAlgebra.SymTridiagonal) in LinearAlgebra at /buildworker/worker/package_linux64/build/usr/share/julia/stdlib/v1.1/LinearAlgebra/src/special.jl:97\n",
       "[116] +(A::LinearAlgebra.SymTridiagonal, B::Array{T,2} where T) in LinearAlgebra at /buildworker/worker/package_linux64/build/usr/share/julia/stdlib/v1.1/LinearAlgebra/src/special.jl:96\n",
       "[117] +(A::LinearAlgebra.Diagonal, B::LinearAlgebra.SymTridiagonal) in LinearAlgebra at /buildworker/worker/package_linux64/build/usr/share/julia/stdlib/v1.1/LinearAlgebra/src/special.jl:105\n",
       "[118] +(A::LinearAlgebra.SymTridiagonal, B::LinearAlgebra.Diagonal) in LinearAlgebra at /buildworker/worker/package_linux64/build/usr/share/julia/stdlib/v1.1/LinearAlgebra/src/special.jl:106\n",
       "[119] +(A::LinearAlgebra.Bidiagonal, B::LinearAlgebra.SymTridiagonal) in LinearAlgebra at /buildworker/worker/package_linux64/build/usr/share/julia/stdlib/v1.1/LinearAlgebra/src/special.jl:105\n",
       "[120] +(A::LinearAlgebra.SymTridiagonal, B::LinearAlgebra.Bidiagonal) in LinearAlgebra at /buildworker/worker/package_linux64/build/usr/share/julia/stdlib/v1.1/LinearAlgebra/src/special.jl:106\n",
       "[121] +(A::LinearAlgebra.Diagonal, B::LinearAlgebra.UpperTriangular) in LinearAlgebra at /buildworker/worker/package_linux64/build/usr/share/julia/stdlib/v1.1/LinearAlgebra/src/special.jl:117\n",
       "[122] +(A::LinearAlgebra.UpperTriangular, B::LinearAlgebra.Diagonal) in LinearAlgebra at /buildworker/worker/package_linux64/build/usr/share/julia/stdlib/v1.1/LinearAlgebra/src/special.jl:118\n",
       "[123] +(A::LinearAlgebra.Diagonal, B::LinearAlgebra.UnitUpperTriangular) in LinearAlgebra at /buildworker/worker/package_linux64/build/usr/share/julia/stdlib/v1.1/LinearAlgebra/src/special.jl:117\n",
       "[124] +(A::LinearAlgebra.UnitUpperTriangular, B::LinearAlgebra.Diagonal) in LinearAlgebra at /buildworker/worker/package_linux64/build/usr/share/julia/stdlib/v1.1/LinearAlgebra/src/special.jl:118\n",
       "[125] +(A::LinearAlgebra.Diagonal, B::LinearAlgebra.LowerTriangular) in LinearAlgebra at /buildworker/worker/package_linux64/build/usr/share/julia/stdlib/v1.1/LinearAlgebra/src/special.jl:117\n",
       "[126] +(A::LinearAlgebra.LowerTriangular, B::LinearAlgebra.Diagonal) in LinearAlgebra at /buildworker/worker/package_linux64/build/usr/share/julia/stdlib/v1.1/LinearAlgebra/src/special.jl:118\n",
       "[127] +(A::LinearAlgebra.Diagonal, B::LinearAlgebra.UnitLowerTriangular) in LinearAlgebra at /buildworker/worker/package_linux64/build/usr/share/julia/stdlib/v1.1/LinearAlgebra/src/special.jl:117\n",
       "[128] +(A::LinearAlgebra.UnitLowerTriangular, B::LinearAlgebra.Diagonal) in LinearAlgebra at /buildworker/worker/package_linux64/build/usr/share/julia/stdlib/v1.1/LinearAlgebra/src/special.jl:118\n",
       "[129] +(A::LinearAlgebra.AbstractTriangular, B::LinearAlgebra.SymTridiagonal) in LinearAlgebra at /buildworker/worker/package_linux64/build/usr/share/julia/stdlib/v1.1/LinearAlgebra/src/special.jl:124\n",
       "[130] +(A::LinearAlgebra.SymTridiagonal, B::LinearAlgebra.AbstractTriangular) in LinearAlgebra at /buildworker/worker/package_linux64/build/usr/share/julia/stdlib/v1.1/LinearAlgebra/src/special.jl:125\n",
       "[131] +(A::LinearAlgebra.AbstractTriangular, B::LinearAlgebra.Tridiagonal) in LinearAlgebra at /buildworker/worker/package_linux64/build/usr/share/julia/stdlib/v1.1/LinearAlgebra/src/special.jl:124\n",
       "[132] +(A::LinearAlgebra.Tridiagonal, B::LinearAlgebra.AbstractTriangular) in LinearAlgebra at /buildworker/worker/package_linux64/build/usr/share/julia/stdlib/v1.1/LinearAlgebra/src/special.jl:125\n",
       "[133] +(A::LinearAlgebra.AbstractTriangular, B::LinearAlgebra.Bidiagonal) in LinearAlgebra at /buildworker/worker/package_linux64/build/usr/share/julia/stdlib/v1.1/LinearAlgebra/src/special.jl:124\n",
       "[134] +(A::LinearAlgebra.Bidiagonal, B::LinearAlgebra.AbstractTriangular) in LinearAlgebra at /buildworker/worker/package_linux64/build/usr/share/julia/stdlib/v1.1/LinearAlgebra/src/special.jl:125\n",
       "[135] +(A::LinearAlgebra.AbstractTriangular, B::Array{T,2} where T) in LinearAlgebra at /buildworker/worker/package_linux64/build/usr/share/julia/stdlib/v1.1/LinearAlgebra/src/special.jl:124\n",
       "[136] +(A::SparseArrays.SparseMatrixCSC, B::SparseArrays.SparseMatrixCSC) in SparseArrays at /buildworker/worker/package_linux64/build/usr/share/julia/stdlib/v1.1/SparseArrays/src/sparsematrix.jl:1576\n",
       "[137] +(A::SparseArrays.SparseMatrixCSC, B::Array) in SparseArrays at /buildworker/worker/package_linux64/build/usr/share/julia/stdlib/v1.1/SparseArrays/src/sparsematrix.jl:1579\n",
       "[138] +(x::SparseArrays.AbstractSparseArray{Tv,Ti,1} where Ti where Tv, y::SparseArrays.AbstractSparseArray{Tv,Ti,1} where Ti where Tv) in SparseArrays at /buildworker/worker/package_linux64/build/usr/share/julia/stdlib/v1.1/SparseArrays/src/sparsevector.jl:1292\n",
       "[139] +(x::AbstractArray{#s72,N} where N where #s72<:Number) in Base at abstractarraymath.jl:98\n",
       "[140] +(A::AbstractArray, B::AbstractArray) in Base at arraymath.jl:38\n",
       "[141] +(x::T, y::Integer) where T<:AbstractChar in Base at char.jl:223\n",
       "[142] +(index1::CartesianIndex{N}, index2::CartesianIndex{N}) where N in Base.IteratorsMD at multidimensional.jl:107\n",
       "[143] +(::Number, ::Missing) in Base at missing.jl:98\n",
       "[144] +(x::P, y::P) where P<:Dates.Period in Dates at /buildworker/worker/package_linux64/build/usr/share/julia/stdlib/v1.1/Dates/src/periods.jl:75\n",
       "[145] +(x::Dates.Period, y::Dates.Period) in Dates at /buildworker/worker/package_linux64/build/usr/share/julia/stdlib/v1.1/Dates/src/periods.jl:340\n",
       "[146] +(y::Dates.Period, x::Dates.CompoundPeriod) in Dates at /buildworker/worker/package_linux64/build/usr/share/julia/stdlib/v1.1/Dates/src/periods.jl:342\n",
       "[147] +(x::Union{CompoundPeriod, Period}) in Dates at /buildworker/worker/package_linux64/build/usr/share/julia/stdlib/v1.1/Dates/src/periods.jl:351\n",
       "[148] +(x::Dates.TimeType) in Dates at /buildworker/worker/package_linux64/build/usr/share/julia/stdlib/v1.1/Dates/src/arithmetic.jl:8\n",
       "[149] +(a::Dates.TimeType, b::Dates.Period, c::Dates.Period) in Dates at /buildworker/worker/package_linux64/build/usr/share/julia/stdlib/v1.1/Dates/src/periods.jl:362\n",
       "[150] +(a::Dates.TimeType, b::Dates.Period, c::Dates.Period, d::Dates.Period...) in Dates at /buildworker/worker/package_linux64/build/usr/share/julia/stdlib/v1.1/Dates/src/periods.jl:363\n",
       "[151] +(x::Dates.TimeType, y::Dates.CompoundPeriod) in Dates at /buildworker/worker/package_linux64/build/usr/share/julia/stdlib/v1.1/Dates/src/periods.jl:366\n",
       "[152] +(x::Dates.Instant) in Dates at /buildworker/worker/package_linux64/build/usr/share/julia/stdlib/v1.1/Dates/src/arithmetic.jl:4\n",
       "[153] +(y::Dates.Period, x::Dates.TimeType) in Dates at /buildworker/worker/package_linux64/build/usr/share/julia/stdlib/v1.1/Dates/src/arithmetic.jl:80\n",
       "[154] +(x::Dates.Period, r::AbstractRange{#s623} where #s623<:Dates.TimeType) in Dates at /buildworker/worker/package_linux64/build/usr/share/julia/stdlib/v1.1/Dates/src/ranges.jl:58\n",
       "[155] +(x::AbstractArray{#s623,N} where N where #s623<:Dates.TimeType, y::Union{CompoundPeriod, Period}) in Dates at /buildworker/worker/package_linux64/build/usr/share/julia/stdlib/v1.1/Dates/src/deprecated.jl:8\n",
       "[156] +(y::Union{CompoundPeriod, Period}, x::AbstractArray{#s623,N} where N where #s623<:Dates.TimeType) in Dates at /buildworker/worker/package_linux64/build/usr/share/julia/stdlib/v1.1/Dates/src/deprecated.jl:16\n",
       "[157] +(y::Dates.TimeType, x::Union{DenseArray{#s623,N}, ReinterpretArray{#s623,N,S,A} where S where A<:Union{SubArray{T,N,A,I,true} where I<:Union{Tuple{Vararg{Real,N} where N}, Tuple{AbstractUnitRange,Vararg{Any,N} where N}} where A<:DenseArray where N where T, DenseArray}, ReshapedArray{#s623,N,A,MI} where MI<:Tuple{Vararg{SignedMultiplicativeInverse{Int64},N} where N} where A<:Union{ReinterpretArray{T,N,S,A} where S where A<:Union{SubArray{T,N,A,I,true} where I<:Union{Tuple{Vararg{Real,N} where N}, Tuple{AbstractUnitRange,Vararg{Any,N} where N}} where A<:DenseArray where N where T, DenseArray} where N where T, SubArray{T,N,A,I,true} where I<:Union{Tuple{Vararg{Real,N} where N}, Tuple{AbstractUnitRange,Vararg{Any,N} where N}} where A<:DenseArray where N where T, DenseArray}, SubArray{#s623,N,A,I,L} where L where I<:Tuple{Vararg{Union{Int64, AbstractRange{Int64}, AbstractCartesianIndex},N} where N} where A<:Union{ReinterpretArray{T,N,S,A} where S where A<:Union{SubArray{T,N,A,I,true} where I<:Union{Tuple{Vararg{Real,N} where N}, Tuple{AbstractUnitRange,Vararg{Any,N} where N}} where A<:DenseArray where N where T, DenseArray} where N where T, ReshapedArray{T,N,A,MI} where MI<:Tuple{Vararg{SignedMultiplicativeInverse{Int64},N} where N} where A<:Union{ReinterpretArray{T,N,S,A} where S where A<:Union{SubArray{T,N,A,I,true} where I<:Union{Tuple{Vararg{Real,N} where N}, Tuple{AbstractUnitRange,Vararg{Any,N} where N}} where A<:DenseArray where N where T, DenseArray} where N where T, SubArray{T,N,A,I,true} where I<:Union{Tuple{Vararg{Real,N} where N}, Tuple{AbstractUnitRange,Vararg{Any,N} where N}} where A<:DenseArray where N where T, DenseArray} where N where T, DenseArray}} where N where #s623<:Union{CompoundPeriod, Period}) in Dates at /buildworker/worker/package_linux64/build/usr/share/julia/stdlib/v1.1/Dates/src/deprecated.jl:20\n",
       "[158] +(J::LinearAlgebra.UniformScaling, x::Number) in LinearAlgebra at /buildworker/worker/package_linux64/build/usr/share/julia/stdlib/v1.1/LinearAlgebra/src/uniformscaling.jl:84\n",
       "[159] +(x::Number, J::LinearAlgebra.UniformScaling) in LinearAlgebra at /buildworker/worker/package_linux64/build/usr/share/julia/stdlib/v1.1/LinearAlgebra/src/uniformscaling.jl:85\n",
       "[160] +(J1::LinearAlgebra.UniformScaling, J2::LinearAlgebra.UniformScaling) in LinearAlgebra at /buildworker/worker/package_linux64/build/usr/share/julia/stdlib/v1.1/LinearAlgebra/src/uniformscaling.jl:89\n",
       "[161] +(J::LinearAlgebra.UniformScaling, B::BitArray{2}) in LinearAlgebra at /buildworker/worker/package_linux64/build/usr/share/julia/stdlib/v1.1/LinearAlgebra/src/uniformscaling.jl:91\n",
       "[162] +(J::LinearAlgebra.UniformScaling, A::AbstractArray{T,2} where T) in LinearAlgebra at /buildworker/worker/package_linux64/build/usr/share/julia/stdlib/v1.1/LinearAlgebra/src/uniformscaling.jl:92\n",
       "[163] +(a, b, c, xs...) in Base at operators.jl:502"
      ]
     },
     "execution_count": 136,
     "metadata": {},
     "output_type": "execute_result"
    }
   ],
   "source": [
    "methods(+) # Add's two or more objects"
   ]
  },
  {
   "cell_type": "code",
   "execution_count": 137,
   "metadata": {},
   "outputs": [
    {
     "data": {
      "text/html": [
       "12 methods for generic function <b>sin</b>:<ul><li> sin(x::<b>BigFloat</b>) in Base.MPFR at <a href=\"https://github.com/JuliaLang/julia/tree/80516ca20297a67b996caa08c38786332379b6a5/base/mpfr.jl#L736\" target=\"_blank\">mpfr.jl:736</a></li> <li> sin(::<b>Missing</b>) in Base.Math at <a href=\"https://github.com/JuliaLang/julia/tree/80516ca20297a67b996caa08c38786332379b6a5/base/math.jl#L1070\" target=\"_blank\">math.jl:1070</a></li> <li> sin(a::<b>Complex{Float16}</b>) in Base.Math at <a href=\"https://github.com/JuliaLang/julia/tree/80516ca20297a67b996caa08c38786332379b6a5/base/math.jl#L1019\" target=\"_blank\">math.jl:1019</a></li> <li> sin(a::<b>Float16</b>) in Base.Math at <a href=\"https://github.com/JuliaLang/julia/tree/80516ca20297a67b996caa08c38786332379b6a5/base/math.jl#L1018\" target=\"_blank\">math.jl:1018</a></li> <li> sin<i>{T}</i>(z::<b>Complex{T}</b>) in Base at <a href=\"https://github.com/JuliaLang/julia/tree/80516ca20297a67b996caa08c38786332379b6a5/base/complex.jl#L795\" target=\"_blank\">complex.jl:795</a></li> <li> sin<i>{T<:Union{Float32, Float64}}</i>(x::<b>T</b>) in Base.Math at <a href=\"https://github.com/JuliaLang/julia/tree/80516ca20297a67b996caa08c38786332379b6a5/base/special/trig.jl#L30\" target=\"_blank\">special/trig.jl:30</a></li> <li> sin(x::<b>Real</b>) in Base.Math at <a href=\"https://github.com/JuliaLang/julia/tree/80516ca20297a67b996caa08c38786332379b6a5/base/special/trig.jl#L53\" target=\"_blank\">special/trig.jl:53</a></li> <li> sin(A::<b>LinearAlgebra.Hermitian{#s622,S} where S<:(AbstractArray{#s623,2} where #s623<:#s622) where #s622<:Complex</b>) in LinearAlgebra at <a href=\"file:///buildworker/worker/package_linux64/build/usr/share/julia/stdlib/v1.1/LinearAlgebra/src/symmetric.jl\" target=\"_blank\">/buildworker/worker/package_linux64/build/usr/share/julia/stdlib/v1.1/LinearAlgebra/src/symmetric.jl:728</a></li> <li> sin(A::<b>Union{Hermitian{#s623,S}, Symmetric{#s623,S}} where S where #s623<:Real</b>) in LinearAlgebra at <a href=\"file:///buildworker/worker/package_linux64/build/usr/share/julia/stdlib/v1.1/LinearAlgebra/src/symmetric.jl\" target=\"_blank\">/buildworker/worker/package_linux64/build/usr/share/julia/stdlib/v1.1/LinearAlgebra/src/symmetric.jl:724</a></li> <li> sin(D::<b>LinearAlgebra.Diagonal</b>) in LinearAlgebra at <a href=\"file:///buildworker/worker/package_linux64/build/usr/share/julia/stdlib/v1.1/LinearAlgebra/src/diagonal.jl\" target=\"_blank\">/buildworker/worker/package_linux64/build/usr/share/julia/stdlib/v1.1/LinearAlgebra/src/diagonal.jl:468</a></li> <li> sin(A::<b>AbstractArray{#s623,2} where #s623<:Real</b>) in LinearAlgebra at <a href=\"file:///buildworker/worker/package_linux64/build/usr/share/julia/stdlib/v1.1/LinearAlgebra/src/dense.jl\" target=\"_blank\">/buildworker/worker/package_linux64/build/usr/share/julia/stdlib/v1.1/LinearAlgebra/src/dense.jl:788</a></li> <li> sin(A::<b>AbstractArray{#s623,2} where #s623<:Complex</b>) in LinearAlgebra at <a href=\"file:///buildworker/worker/package_linux64/build/usr/share/julia/stdlib/v1.1/LinearAlgebra/src/dense.jl\" target=\"_blank\">/buildworker/worker/package_linux64/build/usr/share/julia/stdlib/v1.1/LinearAlgebra/src/dense.jl:795</a></li> </ul>"
      ],
      "text/plain": [
       "# 12 methods for generic function \"sin\":\n",
       "[1] sin(x::BigFloat) in Base.MPFR at mpfr.jl:736\n",
       "[2] sin(::Missing) in Base.Math at math.jl:1070\n",
       "[3] sin(a::Complex{Float16}) in Base.Math at math.jl:1019\n",
       "[4] sin(a::Float16) in Base.Math at math.jl:1018\n",
       "[5] sin(z::Complex{T}) where T in Base at complex.jl:795\n",
       "[6] sin(x::T) where T<:Union{Float32, Float64} in Base.Math at special/trig.jl:30\n",
       "[7] sin(x::Real) in Base.Math at special/trig.jl:53\n",
       "[8] sin(A::LinearAlgebra.Hermitian{#s622,S} where S<:(AbstractArray{#s623,2} where #s623<:#s622) where #s622<:Complex) in LinearAlgebra at /buildworker/worker/package_linux64/build/usr/share/julia/stdlib/v1.1/LinearAlgebra/src/symmetric.jl:728\n",
       "[9] sin(A::Union{Hermitian{#s623,S}, Symmetric{#s623,S}} where S where #s623<:Real) in LinearAlgebra at /buildworker/worker/package_linux64/build/usr/share/julia/stdlib/v1.1/LinearAlgebra/src/symmetric.jl:724\n",
       "[10] sin(D::LinearAlgebra.Diagonal) in LinearAlgebra at /buildworker/worker/package_linux64/build/usr/share/julia/stdlib/v1.1/LinearAlgebra/src/diagonal.jl:468\n",
       "[11] sin(A::AbstractArray{#s623,2} where #s623<:Real) in LinearAlgebra at /buildworker/worker/package_linux64/build/usr/share/julia/stdlib/v1.1/LinearAlgebra/src/dense.jl:788\n",
       "[12] sin(A::AbstractArray{#s623,2} where #s623<:Complex) in LinearAlgebra at /buildworker/worker/package_linux64/build/usr/share/julia/stdlib/v1.1/LinearAlgebra/src/dense.jl:795"
      ]
     },
     "execution_count": 137,
     "metadata": {},
     "output_type": "execute_result"
    }
   ],
   "source": [
    "## EXERCISE\n",
    "\n",
    "# View the methods of some function you're interested in\n",
    "\n",
    "methods(sin)"
   ]
  },
  {
   "cell_type": "markdown",
   "metadata": {},
   "source": [
    "## What is an interface?\n",
    "\n",
    "In theory, the methods of a function do not have to share any semantic similarity. From the language's perspective, there's nothing **wrong** with defining:"
   ]
  },
  {
   "cell_type": "code",
   "execution_count": 138,
   "metadata": {},
   "outputs": [
    {
     "data": {
      "text/plain": [
       "add (generic function with 2 methods)"
      ]
     },
     "execution_count": 138,
     "metadata": {},
     "output_type": "execute_result"
    }
   ],
   "source": [
    "add(x::Int, y::Int) = x + y\n",
    "add(x::Float64, y::Float64) = x - y"
   ]
  },
  {
   "cell_type": "markdown",
   "metadata": {},
   "source": [
    "However - clearly this is a **bad** idea!\n",
    "\n",
    "This is because humans need to be able to read, reason about and write code - no matter the programming language or its rules. If you do this in the middle of your company's large piece of software, some poor programmer will get very confused, and your coworkers will get rather upset with you!\n",
    "\n",
    "Very loosely defined, when I say \"interface\" I mean the set of language and semantic guarantees surrounding how one or more generic functions behave for different sets of input types.\n",
    "\n",
    "Later, I'll define more precisely a concept of \"strong interface\" with the aim of defining what these guarantees exactly should be.\n",
    "\n",
    "But for now let's accept the following as good practice:\n",
    "\n",
    "> Given a generic function `f`, the meaning of `f(x::T)` should be consistent and predictable accross different types `T`.\n",
    "\n",
    "If this were not true, then a generic function `g` (which accepts a range of input types) would not be able to safely and reliably call `f` for all of *its* input types.\n",
    "\n",
    "And of course, the writer of `g` doesn't want it to crash for its users!\n",
    "\n",
    "**Case study:** `hash` and `isequal` "
   ]
  },
  {
   "cell_type": "code",
   "execution_count": 139,
   "metadata": {},
   "outputs": [
    {
     "name": "stdout",
     "output_type": "stream",
     "text": [
      "search: \u001b[0m\u001b[1mh\u001b[22m\u001b[0m\u001b[1ma\u001b[22m\u001b[0m\u001b[1ms\u001b[22m\u001b[0m\u001b[1mh\u001b[22m \u001b[0m\u001b[1mh\u001b[22m\u001b[0m\u001b[1ma\u001b[22m\u001b[0m\u001b[1ms\u001b[22mmet\u001b[0m\u001b[1mh\u001b[22mod \u001b[0m\u001b[1mh\u001b[22m\u001b[0m\u001b[1ma\u001b[22m\u001b[0m\u001b[1ms\u001b[22mkey skipc\u001b[0m\u001b[1mh\u001b[22m\u001b[0m\u001b[1ma\u001b[22mr\u001b[0m\u001b[1ms\u001b[22m T\u001b[0m\u001b[1mh\u001b[22mre\u001b[0m\u001b[1ma\u001b[22md\u001b[0m\u001b[1ms\u001b[22m Benc\u001b[0m\u001b[1mh\u001b[22mm\u001b[0m\u001b[1ma\u001b[22mrkTool\u001b[0m\u001b[1ms\u001b[22m Mat\u001b[0m\u001b[1mh\u001b[22mConst\u001b[0m\u001b[1ma\u001b[22mnt\u001b[0m\u001b[1ms\u001b[22m\n",
      "\n"
     ]
    },
    {
     "data": {
      "text/latex": [
       "\\begin{verbatim}\n",
       "hash(x[, h::UInt])\n",
       "\\end{verbatim}\n",
       "Compute an integer hash code such that \\texttt{isequal(x,y)} implies \\texttt{hash(x)==hash(y)}. The optional second argument \\texttt{h} is a hash code to be mixed with the result.\n",
       "\n",
       "New types should implement the 2-argument form, typically by calling the 2-argument \\texttt{hash} method recursively in order to mix hashes of the contents with each other (and with \\texttt{h}). Typically, any type that implements \\texttt{hash} should also implement its own \\texttt{==} (hence \\texttt{isequal}) to guarantee the property mentioned above. Types supporting subtraction (operator \\texttt{-}) should also implement \\href{@ref}{\\texttt{widen}}, which is required to hash values inside heterogeneous arrays.\n",
       "\n"
      ],
      "text/markdown": [
       "```\n",
       "hash(x[, h::UInt])\n",
       "```\n",
       "\n",
       "Compute an integer hash code such that `isequal(x,y)` implies `hash(x)==hash(y)`. The optional second argument `h` is a hash code to be mixed with the result.\n",
       "\n",
       "New types should implement the 2-argument form, typically by calling the 2-argument `hash` method recursively in order to mix hashes of the contents with each other (and with `h`). Typically, any type that implements `hash` should also implement its own `==` (hence `isequal`) to guarantee the property mentioned above. Types supporting subtraction (operator `-`) should also implement [`widen`](@ref), which is required to hash values inside heterogeneous arrays.\n"
      ],
      "text/plain": [
       "\u001b[36m  hash(x[, h::UInt])\u001b[39m\n",
       "\n",
       "  Compute an integer hash code such that \u001b[36misequal(x,y)\u001b[39m implies\n",
       "  \u001b[36mhash(x)==hash(y)\u001b[39m. The optional second argument \u001b[36mh\u001b[39m is a hash code to be mixed\n",
       "  with the result.\n",
       "\n",
       "  New types should implement the 2-argument form, typically by calling the\n",
       "  2-argument \u001b[36mhash\u001b[39m method recursively in order to mix hashes of the contents\n",
       "  with each other (and with \u001b[36mh\u001b[39m). Typically, any type that implements \u001b[36mhash\u001b[39m\n",
       "  should also implement its own \u001b[36m==\u001b[39m (hence \u001b[36misequal\u001b[39m) to guarantee the property\n",
       "  mentioned above. Types supporting subtraction (operator \u001b[36m-\u001b[39m) should also\n",
       "  implement \u001b[36mwiden\u001b[39m, which is required to hash values inside heterogeneous\n",
       "  arrays."
      ]
     },
     "execution_count": 139,
     "metadata": {},
     "output_type": "execute_result"
    }
   ],
   "source": [
    "?hash"
   ]
  },
  {
   "cell_type": "code",
   "execution_count": 140,
   "metadata": {},
   "outputs": [
    {
     "name": "stdout",
     "output_type": "stream",
     "text": [
      "search: \u001b[0m\u001b[1mi\u001b[22m\u001b[0m\u001b[1ms\u001b[22m\u001b[0m\u001b[1me\u001b[22m\u001b[0m\u001b[1mq\u001b[22m\u001b[0m\u001b[1mu\u001b[22m\u001b[0m\u001b[1ma\u001b[22m\u001b[0m\u001b[1ml\u001b[22m \u001b[0m\u001b[1mi\u001b[22m\u001b[0m\u001b[1ms\u001b[22ms\u001b[0m\u001b[1me\u001b[22mte\u001b[0m\u001b[1mq\u001b[22m\u001b[0m\u001b[1mu\u001b[22m\u001b[0m\u001b[1ma\u001b[22m\u001b[0m\u001b[1ml\u001b[22m\n",
      "\n"
     ]
    },
    {
     "data": {
      "text/latex": [
       "\\begin{verbatim}\n",
       "isequal(x, y)\n",
       "\\end{verbatim}\n",
       "Similar to \\href{@ref}{\\texttt{==}}, except for the treatment of floating point numbers and of missing values. \\texttt{isequal} treats all floating-point \\texttt{NaN} values as equal to each other, treats \\texttt{-0.0} as unequal to \\texttt{0.0}, and \\href{@ref}{\\texttt{missing}} as equal to \\texttt{missing}. Always returns a \\texttt{Bool} value.\n",
       "\n",
       "\\section{Implementation}\n",
       "The default implementation of \\texttt{isequal} calls \\texttt{==}, so a type that does not involve floating-point values generally only needs to define \\texttt{==}.\n",
       "\n",
       "\\texttt{isequal} is the comparison function used by hash tables (\\texttt{Dict}). \\texttt{isequal(x,y)} must imply that \\texttt{hash(x) == hash(y)}.\n",
       "\n",
       "This typically means that types for which a custom \\texttt{==} or \\texttt{isequal} method exists must implement a corresponding \\texttt{hash} method (and vice versa). Collections typically implement \\texttt{isequal} by calling \\texttt{isequal} recursively on all contents.\n",
       "\n",
       "Scalar types generally do not need to implement \\texttt{isequal} separate from \\texttt{==}, unless they represent floating-point numbers amenable to a more efficient implementation than that provided as a generic fallback (based on \\texttt{isnan}, \\texttt{signbit}, and \\texttt{==}).\n",
       "\n",
       "\\section{Examples}\n",
       "\\begin{verbatim}\n",
       "julia> isequal([1., NaN], [1., NaN])\n",
       "true\n",
       "\n",
       "julia> [1., NaN] == [1., NaN]\n",
       "false\n",
       "\n",
       "julia> 0.0 == -0.0\n",
       "true\n",
       "\n",
       "julia> isequal(0.0, -0.0)\n",
       "false\n",
       "\\end{verbatim}\n",
       "\\rule{\\textwidth}{1pt}\n",
       "\\begin{verbatim}\n",
       "isequal(x)\n",
       "\\end{verbatim}\n",
       "Create a function that compares its argument to \\texttt{x} using \\href{@ref}{\\texttt{isequal}}, i.e. a function equivalent to \\texttt{y -> isequal(y, x)}.\n",
       "\n",
       "The returned function is of type \\texttt{Base.Fix2\\{typeof(isequal)\\}}, which can be used to implement specialized methods.\n",
       "\n"
      ],
      "text/markdown": [
       "```\n",
       "isequal(x, y)\n",
       "```\n",
       "\n",
       "Similar to [`==`](@ref), except for the treatment of floating point numbers and of missing values. `isequal` treats all floating-point `NaN` values as equal to each other, treats `-0.0` as unequal to `0.0`, and [`missing`](@ref) as equal to `missing`. Always returns a `Bool` value.\n",
       "\n",
       "# Implementation\n",
       "\n",
       "The default implementation of `isequal` calls `==`, so a type that does not involve floating-point values generally only needs to define `==`.\n",
       "\n",
       "`isequal` is the comparison function used by hash tables (`Dict`). `isequal(x,y)` must imply that `hash(x) == hash(y)`.\n",
       "\n",
       "This typically means that types for which a custom `==` or `isequal` method exists must implement a corresponding `hash` method (and vice versa). Collections typically implement `isequal` by calling `isequal` recursively on all contents.\n",
       "\n",
       "Scalar types generally do not need to implement `isequal` separate from `==`, unless they represent floating-point numbers amenable to a more efficient implementation than that provided as a generic fallback (based on `isnan`, `signbit`, and `==`).\n",
       "\n",
       "# Examples\n",
       "\n",
       "```jldoctest\n",
       "julia> isequal([1., NaN], [1., NaN])\n",
       "true\n",
       "\n",
       "julia> [1., NaN] == [1., NaN]\n",
       "false\n",
       "\n",
       "julia> 0.0 == -0.0\n",
       "true\n",
       "\n",
       "julia> isequal(0.0, -0.0)\n",
       "false\n",
       "```\n",
       "\n",
       "---\n",
       "\n",
       "```\n",
       "isequal(x)\n",
       "```\n",
       "\n",
       "Create a function that compares its argument to `x` using [`isequal`](@ref), i.e. a function equivalent to `y -> isequal(y, x)`.\n",
       "\n",
       "The returned function is of type `Base.Fix2{typeof(isequal)}`, which can be used to implement specialized methods.\n"
      ],
      "text/plain": [
       "\u001b[36m  isequal(x, y)\u001b[39m\n",
       "\n",
       "  Similar to \u001b[36m==\u001b[39m, except for the treatment of floating point numbers and of\n",
       "  missing values. \u001b[36misequal\u001b[39m treats all floating-point \u001b[36mNaN\u001b[39m values as equal to\n",
       "  each other, treats \u001b[36m-0.0\u001b[39m as unequal to \u001b[36m0.0\u001b[39m, and \u001b[36mmissing\u001b[39m as equal to \u001b[36mmissing\u001b[39m.\n",
       "  Always returns a \u001b[36mBool\u001b[39m value.\n",
       "\n",
       "\u001b[1m  Implementation\u001b[22m\n",
       "\u001b[1m  ≡≡≡≡≡≡≡≡≡≡≡≡≡≡≡≡\u001b[22m\n",
       "\n",
       "  The default implementation of \u001b[36misequal\u001b[39m calls \u001b[36m==\u001b[39m, so a type that does not\n",
       "  involve floating-point values generally only needs to define \u001b[36m==\u001b[39m.\n",
       "\n",
       "  \u001b[36misequal\u001b[39m is the comparison function used by hash tables (\u001b[36mDict\u001b[39m). \u001b[36misequal(x,y)\u001b[39m\n",
       "  must imply that \u001b[36mhash(x) == hash(y)\u001b[39m.\n",
       "\n",
       "  This typically means that types for which a custom \u001b[36m==\u001b[39m or \u001b[36misequal\u001b[39m method\n",
       "  exists must implement a corresponding \u001b[36mhash\u001b[39m method (and vice versa).\n",
       "  Collections typically implement \u001b[36misequal\u001b[39m by calling \u001b[36misequal\u001b[39m recursively on\n",
       "  all contents.\n",
       "\n",
       "  Scalar types generally do not need to implement \u001b[36misequal\u001b[39m separate from \u001b[36m==\u001b[39m,\n",
       "  unless they represent floating-point numbers amenable to a more efficient\n",
       "  implementation than that provided as a generic fallback (based on \u001b[36misnan\u001b[39m,\n",
       "  \u001b[36msignbit\u001b[39m, and \u001b[36m==\u001b[39m).\n",
       "\n",
       "\u001b[1m  Examples\u001b[22m\n",
       "\u001b[1m  ≡≡≡≡≡≡≡≡≡≡\u001b[22m\n",
       "\n",
       "\u001b[36m  julia> isequal([1., NaN], [1., NaN])\u001b[39m\n",
       "\u001b[36m  true\u001b[39m\n",
       "\u001b[36m  \u001b[39m\n",
       "\u001b[36m  julia> [1., NaN] == [1., NaN]\u001b[39m\n",
       "\u001b[36m  false\u001b[39m\n",
       "\u001b[36m  \u001b[39m\n",
       "\u001b[36m  julia> 0.0 == -0.0\u001b[39m\n",
       "\u001b[36m  true\u001b[39m\n",
       "\u001b[36m  \u001b[39m\n",
       "\u001b[36m  julia> isequal(0.0, -0.0)\u001b[39m\n",
       "\u001b[36m  false\u001b[39m\n",
       "\n",
       "  ────────────────────────────────────────────────────────────────────────────\n",
       "\n",
       "\u001b[36m  isequal(x)\u001b[39m\n",
       "\n",
       "  Create a function that compares its argument to \u001b[36mx\u001b[39m using \u001b[36misequal\u001b[39m, i.e. a\n",
       "  function equivalent to \u001b[36my -> isequal(y, x)\u001b[39m.\n",
       "\n",
       "  The returned function is of type \u001b[36mBase.Fix2{typeof(isequal)}\u001b[39m, which can be\n",
       "  used to implement specialized methods."
      ]
     },
     "execution_count": 140,
     "metadata": {},
     "output_type": "execute_result"
    }
   ],
   "source": [
    "?isequal"
   ]
  },
  {
   "cell_type": "markdown",
   "metadata": {},
   "source": [
    "# Strong Interface\n",
    "\n",
    "Unlike languages such as Go, Haskell and others, Julia doesn't have a *formal* way of specifying an interface. It is a gentlemen's agreement - or quite often a bit more like a pirate's accord.\n",
    "\n",
    "Take for example `AbstractArray{T, N}`. When I perform scalar `getindex` on any `AbstractArray{T}` I expect that I get a `T` back."
   ]
  },
  {
   "cell_type": "code",
   "execution_count": 141,
   "metadata": {},
   "outputs": [
    {
     "data": {
      "text/plain": [
       "true"
      ]
     },
     "execution_count": 141,
     "metadata": {},
     "output_type": "execute_result"
    }
   ],
   "source": [
    "array = [1, 2, 3]\n",
    "\n",
    "array[1] isa eltype(array)"
   ]
  },
  {
   "cell_type": "markdown",
   "metadata": {},
   "source": [
    "If I were to create my own array type that *lied* about it's element type, that would\n",
    "\n",
    " 1. Be bad. Many functions would crash.\n",
    " 2. Be perfectly allowable according to the formal rules of Julia.\n",
    "\n",
    "In order to have our library functions compose together and be extensible to new types, we must respect their respective interfaces. Generally, an interface is documented, like\n",
    "\n",
    "```julia\n",
    "\"\"\"\n",
    "    isbla(x)\n",
    "\n",
    "Return true if `x` is bla, and false otherwise.\n",
    "\"\"\"\n",
    "isbla(::Any) = false\n",
    "isbla(i::Integer) = iseven(i)\n",
    "isbla(::Complex) = true\n",
    "```\n",
    "\n",
    "What can we say about this function? Well, for one thing, it better return a `Bool`, since the documentation says it can return `true` or `false`. If you can figure out from the description what \"bla\" might mean, you might overload it for your own type.\n",
    "\n",
    "However, this still poses difficulty in some situations - what should `isbla(missing)` be? Given this docstring, users are likely to write code such as `if isbla(x); ...; else; ...; end`. However, if `isbla(::Missing) = missing` then this code will crash!\n",
    "\n",
    "To me, what I call a *strong* interface is one which favours **blind composition**. A library writer \"Alice\" is creating a method `f(::A)` and knows about a method `g(::A)`. A second author \"Bob\" creates type `B <: A` and creates a specialized method for `g(::B)`. To support blind composition, Bob's method `g(::B)` must satisfy everything about `g(::A)` that Alice can reasonably assume about its behavior and output. Generally, this might include:\n",
    "\n",
    " * Guarantees on the output type of `g(::A)` should be respected by `g(::B)`. This can be an abstract type - for example, `similar(::AbstractArray)` should always be an `AbstractArray`, or blind composition will not work.\n",
    " * Any semantic understanding of the behavior of `g(::A)`. We shouldn't write a method for `map` that only transforms the first element!\n",
    " * How `g` mutates it's input or has (relevant) side-effects. We shouldn't write a method for `map!` that only mutates it's first element!"
   ]
  },
  {
   "cell_type": "code",
   "execution_count": null,
   "metadata": {},
   "outputs": [],
   "source": [
    "# This is all bad! Bad, bad, BAD!\n",
    "\n",
    "struct BadArray <: AbstractMatrix{Int}\n",
    "   data::Vector{Float64}\n",
    "end\n",
    "\n",
    "Base.getindex(a::BadArray, i...) = a.data[i...]\n",
    "Base.axes(a::BadArray) = axes(a.data)\n",
    "Base.size(a::BadArray) = size(a.data)\n",
    "\n",
    "Base.similar(a::BadArray) = Dict()\n",
    "Base.map!(f, a::BadArray) = (a[1] = f(a[1]))"
   ]
  },
  {
   "cell_type": "code",
   "execution_count": null,
   "metadata": {},
   "outputs": [],
   "source": [
    "## EXERCISE\n",
    "\n",
    "# Try to do literally *anything* with BadArray!\n",
    "\n",
    "BadArray([1.0, 2.5, 3.14])"
   ]
  },
  {
   "cell_type": "markdown",
   "metadata": {},
   "source": [
    "In conclusion, the most important feature of well designed interfaces is that they can be\n",
    "\n",
    " * extended\n",
    " * composed\n",
    " \n",
    "An interface might be extended by e.g. creating a subtype of `AbstractArray` that correctly defines `getindex`, `axes` and `size`."
   ]
  },
  {
   "cell_type": "code",
   "execution_count": null,
   "metadata": {},
   "outputs": [],
   "source": [
    "struct Vec3{T} <: AbstractVector{T}\n",
    "    data::Tuple{Float64, Float64, Float64}\n",
    "end\n",
    "\n",
    "Vec3(x::T, y::T, z::T) where {T} = Vec3{T}((x, y, z))\n",
    "\n",
    "Base.getindex(v::Vec3, i::Int) = v.data[i]\n",
    "Base.size(::Vec3) = (3,)\n",
    "Base.axes(::Vec3) = (Base.OneTo(3),)"
   ]
  },
  {
   "cell_type": "code",
   "execution_count": null,
   "metadata": {},
   "outputs": [],
   "source": [
    "vec3 = Vec3(1.0, 2.5, 3.0)"
   ]
  },
  {
   "cell_type": "markdown",
   "metadata": {},
   "source": [
    "### Traits\n",
    "\n",
    "Traits are properties of types that can be determined at compile-time and can be used to aid dispatch.\n",
    "\n",
    "One prominent example of a trait is `IndexStyle`, which controls if a multidimensional array will be more quickly indexed by a single, linear index (as if it were a dense array) or a set of Cartesian indices. In this case we can define the trait as\n",
    "\n",
    "```julia\n",
    "Base.IndexStyle(::Type{<:Vec3}) = IndexLinear()\n",
    "```\n",
    "\n",
    "There are multiple ways of defining indices, but one recommended pattern (used by `Base`) is:\n",
    "\n",
    " * Each trait class has a common abstract supertype, in this case `IndexStyle`\n",
    " * A trait can be determined by calling the constructor for the trait class with a type.\n",
    " * The returned trait is an instance, in this case `IndexLinear()`.\n",
    " \n",
    "Following this, one can construct a fairly simple dispatch pattern that takes account of the traits. In this case, this is *approximately*:\n",
    "\n",
    "```julia\n",
    "function getindex(a::AbstractArray, inds...)\n",
    "    _getindex(IndexStyle(typeof(a)), a, to_indices(a, inds)...)\n",
    "end\n",
    "```\n",
    "where `to_indices` expands any `:` to an index range for the relevant dimension.\n",
    "\n",
    "Now, we can define seperate methods for\n",
    "```julia\n",
    "function _getindex(::IndexLinear, a::AbstractArray, inds...)\n",
    "    ...\n",
    "end\n",
    "```\n",
    "and a different method for\n",
    "```julia\n",
    "function _getindex(::IndexCartesian, a::AbstractArray, inds...)\n",
    "    ...\n",
    "end\n",
    "```\n",
    "which may be faster for those kinds of arrays.\n",
    "\n",
    "In the above, the trait dispatch allows us to perform different implementations based on some property of the `AbstractArray`. Doing it this way has the following benefits:\n",
    "\n",
    " * `getindex` itself gives the same answer, not matter the array type.\n",
    " * An end user doesn't need to worry about the traits, only the library writer.\n",
    " * It still isn't one-size-fits all. There is more than one generic implementation.\n",
    " * We only need to write one scalar `getindex` method for each new array. Multiple `getindex` is fully automated, meaning we don't need to rewrite a whole bunch of code - resulting in faster, less buggy code.\n",
    " * Julia packages are free to define a new subtype of `IndexStyle` if its helpful.\n",
    "\n",
    "Let's see it in action!"
   ]
  },
  {
   "cell_type": "code",
   "execution_count": null,
   "metadata": {},
   "outputs": [],
   "source": [
    "@code_lowered getindex(vec3, :)"
   ]
  },
  {
   "cell_type": "code",
   "execution_count": null,
   "metadata": {},
   "outputs": [],
   "source": [
    "## QUESTIONS?"
   ]
  },
  {
   "cell_type": "markdown",
   "metadata": {},
   "source": [
    "---\n",
    "\n",
    "# Expressions and macros\n",
    "\n",
    "Finally, we turn out attention to a more \"direct\" form of metaprogramming, where we directly interact with, and execute, Julia code expressions.\n",
    "\n",
    "### What's an expression?\n",
    "\n",
    "Well, there's *expressions*, and then there's `Expr`s.\n",
    "\n",
    " * Any valid piece of Julia code is an \"expression\".\n",
    " * All expressions have a type and a value.\n",
    " * There is no \"empty expression\", or `void`. The value `nothing::Nothing` is inserted by lowering when encountering empty blocks.\n",
    " * Any value can be an expression - typically literals, types or constants.\n",
    " * The name of a binding in-scope is a valid expression - consider `f(x) = x`. The expression for the right-hand-side is `:x`. The namespace of a symbol is discovered by lowering based on the scoping rules.\n",
    " * `Symbol`s can also themselves be values... for `f(x) = :x` the right-hand-side is `QuoteNode(:x)`.\n",
    " * There are a few other special expression objects, like `LineNumberNode` and so-on.\n",
    " * But, almost all complex, nested expressions are represented by the `Expr` type.\n",
    " \n",
    "One can create expressions using the following syntax\n",
    "\n",
    "```julia\n",
    ":( ... )\n",
    "```\n",
    "or\n",
    "```julia\n",
    "quote\n",
    "    ...\n",
    "end\n",
    "```\n",
    "Let's explore!"
   ]
  },
  {
   "cell_type": "code",
   "execution_count": 142,
   "metadata": {},
   "outputs": [
    {
     "data": {
      "text/plain": [
       "1"
      ]
     },
     "execution_count": 142,
     "metadata": {},
     "output_type": "execute_result"
    }
   ],
   "source": [
    "# A literal value is still an expression - it doesn't need to be wrapped in a special wrapper type\n",
    "\n",
    ":(1)"
   ]
  },
  {
   "cell_type": "code",
   "execution_count": 143,
   "metadata": {},
   "outputs": [
    {
     "data": {
      "text/plain": [
       ":my_variable"
      ]
     },
     "execution_count": 143,
     "metadata": {},
     "output_type": "execute_result"
    }
   ],
   "source": [
    ":( my_variable )"
   ]
  },
  {
   "cell_type": "markdown",
   "metadata": {},
   "source": [
    "An `Expr` has a `head::Symbol` and a list of `args::Vector{Any}`.\n",
    "\n",
    "Let's explore some common cases. It is easier to view the elements of an `Expr` by calling `dump` to lay out it out as a tree:"
   ]
  },
  {
   "cell_type": "code",
   "execution_count": 144,
   "metadata": {},
   "outputs": [
    {
     "data": {
      "text/plain": [
       ":(a.b)"
      ]
     },
     "execution_count": 144,
     "metadata": {},
     "output_type": "execute_result"
    }
   ],
   "source": [
    "my_expr = :(a.b)"
   ]
  },
  {
   "cell_type": "code",
   "execution_count": 145,
   "metadata": {},
   "outputs": [
    {
     "data": {
      "text/plain": [
       ":."
      ]
     },
     "execution_count": 145,
     "metadata": {},
     "output_type": "execute_result"
    }
   ],
   "source": [
    "# The expression head is the Symbol for \".\"\n",
    "\n",
    "my_expr.head"
   ]
  },
  {
   "cell_type": "code",
   "execution_count": 146,
   "metadata": {},
   "outputs": [
    {
     "data": {
      "text/plain": [
       "2-element Array{Any,1}:\n",
       " :a   \n",
       " :(:b)"
      ]
     },
     "execution_count": 146,
     "metadata": {},
     "output_type": "execute_result"
    }
   ],
   "source": [
    "# The first element is a reference to the binding in scope called \"a\"\n",
    "# The second element is a reference to the Symbol \":b\" - the name of the field\n",
    "\n",
    "my_expr.args"
   ]
  },
  {
   "cell_type": "code",
   "execution_count": 147,
   "metadata": {},
   "outputs": [
    {
     "name": "stdout",
     "output_type": "stream",
     "text": [
      "Expr\n",
      "  head: Symbol .\n",
      "  args: Array{Any}((2,))\n",
      "    1: Symbol a\n",
      "    2: QuoteNode\n",
      "      value: Symbol b\n"
     ]
    }
   ],
   "source": [
    "# We can see it easier using `dump`\n",
    "# The \"b\" part is wrapped in a `QuoteNode`\n",
    "\n",
    "dump(:(a.b))"
   ]
  },
  {
   "cell_type": "code",
   "execution_count": 148,
   "metadata": {},
   "outputs": [
    {
     "name": "stdout",
     "output_type": "stream",
     "text": [
      "Expr\n",
      "  head: Symbol call\n",
      "  args: Array{Any}((3,))\n",
      "    1: Symbol +\n",
      "    2: Symbol a\n",
      "    3: Symbol b\n"
     ]
    }
   ],
   "source": [
    "# Some operators are directly translated to :call expressions \n",
    "\n",
    "dump(:(a + b))"
   ]
  },
  {
   "cell_type": "code",
   "execution_count": 149,
   "metadata": {},
   "outputs": [
    {
     "name": "stdout",
     "output_type": "stream",
     "text": [
      "Expr\n",
      "  head: Symbol '\n",
      "  args: Array{Any}((1,))\n",
      "    1: Symbol a\n"
     ]
    }
   ],
   "source": [
    "# Some other operators get their own expression `head` type\n",
    "\n",
    "dump(:(a'))"
   ]
  },
  {
   "cell_type": "code",
   "execution_count": 150,
   "metadata": {},
   "outputs": [
    {
     "data": {
      "text/plain": [
       "quote\n",
       "    #= In[150]:5 =#\n",
       "    x\n",
       "end"
      ]
     },
     "execution_count": 150,
     "metadata": {},
     "output_type": "execute_result"
    }
   ],
   "source": [
    "# quote blocks sometimes be a more convenient way of constructing an expression\n",
    "# By default, they insert line information about where the quote block is in the code\n",
    "\n",
    "quote\n",
    "    x\n",
    "end"
   ]
  },
  {
   "cell_type": "code",
   "execution_count": 151,
   "metadata": {},
   "outputs": [
    {
     "name": "stdout",
     "output_type": "stream",
     "text": [
      "Expr\n",
      "  head: Symbol block\n",
      "  args: Array{Any}((2,))\n",
      "    1: LineNumberNode\n",
      "      line: Int64 4\n",
      "      file: Symbol In[151]\n",
      "    2: Symbol x\n"
     ]
    }
   ],
   "source": [
    "# At the surface level, `Expr`s with head `:block` are created by `begin ... end`\n",
    "\n",
    "dump(quote\n",
    "    x\n",
    "end)"
   ]
  },
  {
   "cell_type": "code",
   "execution_count": null,
   "metadata": {},
   "outputs": [],
   "source": [
    "## EXERCISE\n",
    "\n",
    "# Explore some expressions you use. Examples: \n",
    "#  * if statements\n",
    "#  * for loop\n",
    "#  * getting and setting array elements\n",
    "#  * constructing arrays\n",
    "#  * constructing typed arrays\n",
    "\n",
    "dump(:( ... ))"
   ]
  },
  {
   "cell_type": "code",
   "execution_count": null,
   "metadata": {},
   "outputs": [],
   "source": [
    "# What does the expression look like for a macro call?\n"
   ]
  },
  {
   "cell_type": "code",
   "execution_count": null,
   "metadata": {},
   "outputs": [],
   "source": [
    "## EXTENSION EXERCISE\n",
    "\n",
    "# Directly using the `Expr` constructor, create an expression for setting the index `i` of an array `a` to value `3`.\n",
    "\n"
   ]
  },
  {
   "cell_type": "markdown",
   "metadata": {},
   "source": [
    "### Creating expressions via interpolation\n",
    "\n",
    "When metaprogramming, it is common to want to create expression programatically, where parts of the expression depend on some data you have.\n",
    "\n",
    "It is a little annoying to have to construct expressions fully-by hand. For example:\n",
    "\n",
    "```julia\n",
    "function expr_maker(i)\n",
    "    return Expr(:block, Expr(:=, Expr(:ref, :a, i), 3))\n",
    "end\n",
    "```\n",
    "\n",
    "To make life easier, Julia allows interpolation of values using `$`, directly into expressions.\n",
    "\n",
    "```julia\n",
    "function expr_maker(i)\n",
    "    return :( a[$i] = 3 )\n",
    "end\n",
    "```\n",
    "\n",
    "It is a **lot** easier to read the second version!"
   ]
  },
  {
   "cell_type": "code",
   "execution_count": null,
   "metadata": {},
   "outputs": [],
   "source": [
    "# Make return the expression for a vector literal `[1, 2, 3, ..., n]` for variable `n`\n",
    "\n",
    "function make_vect1(n)\n",
    "    return Expr(:vect, 1:n...)\n",
    "end\n",
    "\n",
    "make_vect1(5)"
   ]
  },
  {
   "cell_type": "code",
   "execution_count": null,
   "metadata": {},
   "outputs": [],
   "source": [
    "# The same, using interpolation syntax\n",
    "\n",
    "function make_vect2(n)\n",
    "    return :( [$(1:n...)] )\n",
    "end\n",
    "\n",
    "make_vect2(5)"
   ]
  },
  {
   "cell_type": "code",
   "execution_count": null,
   "metadata": {},
   "outputs": [],
   "source": [
    "## EXERCISE\n",
    "\n",
    "# Do the same thing for tuple (1, 2, 3, ..., n)\n",
    "\n",
    "function make_tuple(n)\n",
    "    return ...\n",
    "end\n",
    "\n",
    "make_tuple(5)"
   ]
  },
  {
   "cell_type": "markdown",
   "metadata": {},
   "source": [
    "### Macros\n",
    "\n",
    "Macros are special functions that transform expressions and insert the result back into your code.\n",
    "\n",
    "This can be useful for a variety of reasons.\n",
    "\n",
    " * A convenient way to \"annotate\" expressions, like `@inline f(x) = ...`\n",
    " * Provide tools that take expressions and use them for a task - `@time`, `@code_typed`, `@benchmark`, etc\n",
    " * Create a useful shortcut to save on typing - `Base.@nloops` makes arbitry number of nested loops\n",
    " * Create an entire DSL - like *Query.jl*, *Flux.jl*, etc.\n",
    "\n",
    "Macros are defined with the `macro` keyword:\n",
    "\n",
    "```julia\n",
    "macro negative(ex)\n",
    "    return :( - $ex )\n",
    "end\n",
    "```\n",
    "\n",
    "And called with an `@` symbol:\n",
    "\n",
    "```julia\n",
    "minus_one = @negative 1\n",
    "```\n",
    "\n",
    "The `@` is a signifier to the user (and parser) that a syntax transformation is occuring."
   ]
  },
  {
   "cell_type": "markdown",
   "metadata": {},
   "source": [
    "macro negative(ex)\n",
    "    return :( - $ex )\n",
    "end"
   ]
  },
  {
   "cell_type": "code",
   "execution_count": null,
   "metadata": {},
   "outputs": [],
   "source": [
    "minus_one = @negative 1"
   ]
  },
  {
   "cell_type": "code",
   "execution_count": null,
   "metadata": {},
   "outputs": [],
   "source": [
    "x = 2\n",
    "@negative x"
   ]
  },
  {
   "cell_type": "markdown",
   "metadata": {},
   "source": [
    "### Macro dispatch\n",
    "\n",
    "You can define multiple methods for a macro. However, they can only *dispatch* on the expression types.\n",
    "\n",
    "This is most useful for defining a macro of different *arity* (number of inputs). For example\n",
    "\n",
    "```julia\n",
    "macro m(ex)\n",
    "    # do something with one expression\n",
    "end\n",
    "\n",
    "macro m(ex1, ex2)\n",
    "    # do something with two expressions\n",
    "end\n",
    "```\n",
    "\n",
    "However, expressions do come in different types and it is perfectly valid define methods for different expression types - such as integer literals"
   ]
  },
  {
   "cell_type": "code",
   "execution_count": 152,
   "metadata": {},
   "outputs": [
    {
     "data": {
      "text/plain": [
       "@superpower (macro with 1 method)"
      ]
     },
     "execution_count": 152,
     "metadata": {},
     "output_type": "execute_result"
    }
   ],
   "source": [
    "macro superpower(i::Int)\n",
    "    return :($i ^ $i)\n",
    "end"
   ]
  },
  {
   "cell_type": "code",
   "execution_count": 153,
   "metadata": {},
   "outputs": [
    {
     "data": {
      "text/plain": [
       "4"
      ]
     },
     "execution_count": 153,
     "metadata": {},
     "output_type": "execute_result"
    }
   ],
   "source": [
    "@superpower 2"
   ]
  },
  {
   "cell_type": "code",
   "execution_count": 154,
   "metadata": {},
   "outputs": [
    {
     "data": {
      "text/plain": [
       "27"
      ]
     },
     "execution_count": 154,
     "metadata": {},
     "output_type": "execute_result"
    }
   ],
   "source": [
    "@superpower 3"
   ]
  },
  {
   "cell_type": "code",
   "execution_count": 155,
   "metadata": {},
   "outputs": [
    {
     "ename": "LoadError",
     "evalue": "MethodError: no method matching @superpower(::LineNumberNode, ::Module, ::Symbol)\nClosest candidates are:\n  @superpower(::LineNumberNode, ::Module, !Matched::Int64) at In[152]:2",
     "output_type": "error",
     "traceback": [
      "MethodError: no method matching @superpower(::LineNumberNode, ::Module, ::Symbol)\nClosest candidates are:\n  @superpower(::LineNumberNode, ::Module, !Matched::Int64) at In[152]:2",
      ""
     ]
    }
   ],
   "source": [
    "# This macro expects a integer literal value, not a variable name\n",
    "\n",
    "x = 3\n",
    "@superpower x"
   ]
  },
  {
   "cell_type": "markdown",
   "metadata": {},
   "source": [
    "Macros also gain access to some metadata about where they are called from and from which module (the first two arguments in the method error above)."
   ]
  },
  {
   "cell_type": "code",
   "execution_count": null,
   "metadata": {},
   "outputs": [],
   "source": [
    "## QUESTIONS?"
   ]
  },
  {
   "cell_type": "markdown",
   "metadata": {},
   "source": [
    "---\n",
    "\n",
    "# Generated functions and when (not) to use them\n",
    "\n",
    "The final metaprogramming technique that we will cover is `@generated` functions.\n",
    "\n",
    "Such functions represent a form of staged programming where code is created based on the input. \n",
    "\n",
    "To execute at full speed with Julia's compilation process, they are designed to generate code based on the *type* of the input arguments. If the code depended on run-time data, then that code would have to be compiled every time the function would be called! Thus, we are limited to the information available to type inference.\n",
    "\n",
    "Distinct code is generated for each unique, concrete function signature. You can see the generated code using `@code_lowered`."
   ]
  },
  {
   "cell_type": "code",
   "execution_count": null,
   "metadata": {},
   "outputs": [],
   "source": [
    "@generated function sum3(t::NTuple{N, Any}) where {N}\n",
    "    # This body is the \"function generator\"\n",
    "    elements = [ :( t[$i] ) for i = 1:N ]\n",
    "    expr = :( +($(elements...)) )\n",
    "    \n",
    "    return expr # The returned expression is the \"generated function body\"\n",
    "end"
   ]
  },
  {
   "cell_type": "code",
   "execution_count": null,
   "metadata": {},
   "outputs": [],
   "source": [
    "sum3((1, 2.0, pi))"
   ]
  },
  {
   "cell_type": "code",
   "execution_count": null,
   "metadata": {},
   "outputs": [],
   "source": [
    "@code_lowered sum3((1, 2.0, pi))"
   ]
  },
  {
   "cell_type": "code",
   "execution_count": null,
   "metadata": {},
   "outputs": [],
   "source": [
    "@code_lowered sum3((1, 2, 3, 4, 5, 6, 7, 8))"
   ]
  },
  {
   "cell_type": "markdown",
   "metadata": {},
   "source": [
    "Please note that there are several restrictions regarding generated functions\n",
    "\n",
    " * The compiler provides no guarantees whether the code generation is invoked one time, many times or even zero times (because of precompilation).\n",
    " * The code generator should have no side effects and has the same limitations as `@pure` functions.\n",
    " * The generated code cannot create new types. This means you can not generate code with closures (note: it is always possible to define your own closure type). This limitation also holds for generators and comprehensions.\n",
    " \n",
    "Together, these restrictions are quite strict. Some tips and observations:\n",
    "\n",
    " * Stick to very simple code generation primitives - like unrolling loops, etc.\n",
    " * Rely on inference and constant propagation as much as possible. For example, instead of using `promote_type` inside your function generator, emit it as generated code and let Julia calculate it as a part of the usual compilation process. This will avoid"
   ]
  },
  {
   "cell_type": "code",
   "execution_count": null,
   "metadata": {},
   "outputs": [],
   "source": [
    "## EXERCISE\n",
    "\n",
    "# Define a generated function that performs elementwise addition between two tuples\n",
    "\n",
    "@generated function add_tuples(t1::NTuple{N, Any}, t2::NTuple{N, Any}) where N\n",
    "    # Create expression\n",
    "    \n",
    "    # return expression\n",
    "end"
   ]
  },
  {
   "cell_type": "code",
   "execution_count": null,
   "metadata": {},
   "outputs": [],
   "source": [
    "# Test case\n",
    "\n",
    "add_tuples((1, 2, 3), (2.2, 3.3, 4.4))"
   ]
  },
  {
   "cell_type": "code",
   "execution_count": null,
   "metadata": {},
   "outputs": [],
   "source": [
    "## QUESTIONS?"
   ]
  },
  {
   "cell_type": "markdown",
   "metadata": {},
   "source": [
    "# Closing remarks\n",
    "\n",
    "I hope you've learnt something new (and useful!) during this tutorial. My goals have been to:\n",
    "\n",
    " * Get you to interact with tools like `@code_lowered` and `@code_typed` so you can explore Julia yourselves\n",
    " * Have a working understanding of how the Julia compiler works\n",
    " * Explore the fundamental metaprogramming capabilites provided by Julia\n",
    " * Highlight the limitations of each approach\n",
    " * Have a bit of fun playing around\n",
    "\n",
    "I will finish with some general advice, from the perspective of a library writer:\n",
    "\n",
    " * As much as possible, try work with the natural compilation process - type inference, constant propagation and inlining.\n",
    " * Only intervene with macros, `@pure` functions and `@generated` functions when there is a compelling reason to do so.\n",
    " * Recursion works well for small sizes but is not suitable for large objects.\n",
    " * Use these powerful tools to make your API easier for the end user.\n",
    " * Try to maintain a minimal, generic and extensible interface. Blind composition with other libraries is key.\n",
    " * Macros are **not** extensible interfaces - they are one-trick ponies. (That can be OK!)\n",
    " * The metaprogramming magic should be invisible! (to users)\n",
    " * The metaprogramming magic should be readable... (to other developers)"
   ]
  },
  {
   "cell_type": "code",
   "execution_count": null,
   "metadata": {},
   "outputs": [],
   "source": [
    "## QUESTIONS?"
   ]
  }
 ],
 "metadata": {
  "kernelspec": {
   "display_name": "Julia 1.1.0",
   "language": "julia",
   "name": "julia-1.1"
  },
  "language_info": {
   "file_extension": ".jl",
   "mimetype": "application/julia",
   "name": "julia",
   "version": "1.1.0"
  }
 },
 "nbformat": 4,
 "nbformat_minor": 2
}
