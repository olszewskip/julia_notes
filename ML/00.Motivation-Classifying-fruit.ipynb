{
 "cells": [
  {
   "cell_type": "markdown",
   "metadata": {},
   "source": [
    "# Motivation\n",
    "\n",
    "Hello, and welcome! We're excited to be your gateway into machine learning. ML is a rapidly growing field that's buzzing with opportunity. Why? Because the tools and skills employed by ML specialists are extremely powerful and allow them to draw conclusions from large data sets quickly and with relative ease.\n",
    "\n",
    "Take the Celeste project, for example. This is a project that took 178 **tera**bytes of data on the visible sky and used it to catalogue 188 millions stars and galaxies. \"Cataloguing\" these stars meant identifying characteristics like their locations, colors, sizes, and morphologies. This is an amazing feat, *especially* because this entire calculation took under 15 minutes.\n",
    "\n",
    "<img src=\"data/Celeste.png\" alt=\"Drawing\" style=\"width: 1000px;\"/>\n",
    "\n",
    "How are Celeste's calculations so fast? To achieve performance on this scale, the Celeste team uses the Julia programming language to write their software and supercomputers from Lawrence Berkeley National Lab's NERSC as their hardware. In this course, we unfortunately won't be able to give you access to a top 10 supercomputer, but we will teach you how to use Julia!\n",
    "\n",
    "We're confident that this course will put you on your way to understanding many of the important concepts and \"buzz words\" in ML. To get you started, we'll teach you how to teach a machine to tell the difference between images of apples and bananas, i.e to **classify** images as being one or the other type of fruit.\n",
    "\n",
    "Like Project Celeste, we'll use the [Julia programming language](https://julialang.org/) to do this. In particular, we'll be working in [Jupyter notebooks](http://jupyter.org/) like this one! (Perhaps you already know that the \"ju\" in Jupyter comes from Julia.)"
   ]
  },
  {
   "cell_type": "markdown",
   "metadata": {},
   "source": [
    "## What do the images we want to classify look like?\n",
    "\n",
    "We can use the `Images.jl` package in Julia to load sample images from this dataset. Most of the data we will use live in the `data` folder in this repository."
   ]
  },
  {
   "cell_type": "code",
   "execution_count": 1,
   "metadata": {},
   "outputs": [
    {
     "name": "stdout",
     "output_type": "stream",
     "text": [
      "\u001b[32m\u001b[1m  Updating\u001b[22m\u001b[39m registry at `~/.julia/registries/General`\n",
      "\u001b[32m\u001b[1m  Updating\u001b[22m\u001b[39m git-repo `https://github.com/JuliaRegistries/General.git`\n",
      "\u001b[2K\u001b[?25h[1mFetching:\u001b[22m\u001b[39m [========================================>]  100.0 %.0 %.1 %          ]  72.6 %\u001b[32m\u001b[1m Resolving\u001b[22m\u001b[39m package versions...\n",
      "\u001b[32m\u001b[1m Installed\u001b[22m\u001b[39m AxisAlgorithms ──────────── v0.3.0\n",
      "\u001b[32m\u001b[1m Installed\u001b[22m\u001b[39m PaddedViews ─────────────── v0.4.2\n",
      "\u001b[32m\u001b[1m Installed\u001b[22m\u001b[39m CoordinateTransformations ─ v0.5.0\n",
      "\u001b[32m\u001b[1m Installed\u001b[22m\u001b[39m SpecialFunctions ────────── v0.7.2\n",
      "\u001b[32m\u001b[1m Installed\u001b[22m\u001b[39m ImageMagick ─────────────── v0.7.1\n",
      "\u001b[32m\u001b[1m Installed\u001b[22m\u001b[39m Images ──────────────────── v0.17.2\n",
      "\u001b[32m\u001b[1m Installed\u001b[22m\u001b[39m ImageCore ───────────────── v0.7.4\n",
      "\u001b[32m\u001b[1m Installed\u001b[22m\u001b[39m IdentityRanges ──────────── v0.3.0\n",
      "\u001b[32m\u001b[1m Installed\u001b[22m\u001b[39m ProgressMeter ───────────── v0.9.0\n",
      "\u001b[32m\u001b[1m Installed\u001b[22m\u001b[39m MappedArrays ────────────── v0.2.1\n",
      "\u001b[32m\u001b[1m Installed\u001b[22m\u001b[39m RangeArrays ─────────────── v0.3.1\n",
      "\u001b[32m\u001b[1m Installed\u001b[22m\u001b[39m ImageDistances ──────────── v0.1.1\n",
      "\u001b[32m\u001b[1m Installed\u001b[22m\u001b[39m ImageShow ───────────────── v0.1.2\n",
      "\u001b[32m\u001b[1m Installed\u001b[22m\u001b[39m Graphics ────────────────── v0.4.0\n",
      "\u001b[32m\u001b[1m Installed\u001b[22m\u001b[39m ImageMorphology ─────────── v0.1.1\n",
      "\u001b[32m\u001b[1m Installed\u001b[22m\u001b[39m TiledIteration ──────────── v0.2.3\n",
      "\u001b[32m\u001b[1m Installed\u001b[22m\u001b[39m Ratios ──────────────────── v0.3.0\n",
      "\u001b[32m\u001b[1m Installed\u001b[22m\u001b[39m BinDeps ─────────────────── v0.8.10\n",
      "\u001b[32m\u001b[1m Installed\u001b[22m\u001b[39m ImageAxes ───────────────── v0.5.0\n",
      "\u001b[32m\u001b[1m Installed\u001b[22m\u001b[39m ColorVectorSpace ────────── v0.6.2\n",
      "\u001b[32m\u001b[1m Installed\u001b[22m\u001b[39m FileIO ──────────────────── v1.0.5\n",
      "\u001b[32m\u001b[1m Installed\u001b[22m\u001b[39m Interpolations ──────────── v0.11.2\n",
      "\u001b[32m\u001b[1m Installed\u001b[22m\u001b[39m CustomUnitRanges ────────── v0.2.0\n",
      "\u001b[32m\u001b[1m Installed\u001b[22m\u001b[39m FFTViews ────────────────── v0.2.0\n",
      "\u001b[32m\u001b[1m Installed\u001b[22m\u001b[39m OffsetArrays ────────────── v0.10.0\n",
      "\u001b[32m\u001b[1m Installed\u001b[22m\u001b[39m SIUnits ─────────────────── v0.1.0\n",
      "\u001b[32m\u001b[1m Installed\u001b[22m\u001b[39m TexExtensions ───────────── v0.1.0\n",
      "\u001b[32m\u001b[1m Installed\u001b[22m\u001b[39m IndirectArrays ──────────── v0.5.0\n",
      "\u001b[32m\u001b[1m Installed\u001b[22m\u001b[39m WoodburyMatrices ────────── v0.4.1\n",
      "\u001b[32m\u001b[1m Installed\u001b[22m\u001b[39m ComputationalResources ──── v0.3.0\n",
      "\u001b[32m\u001b[1m Installed\u001b[22m\u001b[39m SimpleTraits ────────────── v0.8.0\n",
      "\u001b[32m\u001b[1m Installed\u001b[22m\u001b[39m FFTW ────────────────────── v0.2.4\n",
      "\u001b[32m\u001b[1m Installed\u001b[22m\u001b[39m AxisArrays ──────────────── v0.3.0\n",
      "\u001b[32m\u001b[1m Installed\u001b[22m\u001b[39m ImageMetadata ───────────── v0.6.1\n",
      "\u001b[32m\u001b[1m Installed\u001b[22m\u001b[39m ImageTransformations ────── v0.7.2\n",
      "\u001b[32m\u001b[1m Installed\u001b[22m\u001b[39m AbstractFFTs ────────────── v0.3.2\n",
      "\u001b[32m\u001b[1m Installed\u001b[22m\u001b[39m IntervalSets ────────────── v0.3.1\n",
      "\u001b[32m\u001b[1m Installed\u001b[22m\u001b[39m ImageFiltering ──────────── v0.5.3\n",
      "\u001b[32m\u001b[1m Installed\u001b[22m\u001b[39m CatIndices ──────────────── v0.2.0\n",
      "\u001b[32m\u001b[1m Installed\u001b[22m\u001b[39m Rotations ───────────────── v0.11.1\n",
      "\u001b[32m\u001b[1m Installed\u001b[22m\u001b[39m GR ──────────────────────── v0.38.0\n",
      "\u001b[32m\u001b[1m  Updating\u001b[22m\u001b[39m `~/.julia/environments/v1.1/Project.toml`\n",
      " \u001b[90m [6218d12a]\u001b[39m\u001b[92m + ImageMagick v0.7.1\u001b[39m\n",
      " \u001b[90m [916415d5]\u001b[39m\u001b[92m + Images v0.17.2\u001b[39m\n",
      "\u001b[32m\u001b[1m  Updating\u001b[22m\u001b[39m `~/.julia/environments/v1.1/Manifest.toml`\n",
      " \u001b[90m [621f4979]\u001b[39m\u001b[92m + AbstractFFTs v0.3.2\u001b[39m\n",
      " \u001b[90m [13072b0f]\u001b[39m\u001b[92m + AxisAlgorithms v0.3.0\u001b[39m\n",
      " \u001b[90m [39de3d68]\u001b[39m\u001b[92m + AxisArrays v0.3.0\u001b[39m\n",
      " \u001b[90m [9e28174c]\u001b[39m\u001b[92m + BinDeps v0.8.10\u001b[39m\n",
      " \u001b[90m [aafaddc9]\u001b[39m\u001b[92m + CatIndices v0.2.0\u001b[39m\n",
      " \u001b[90m [c3611d14]\u001b[39m\u001b[92m + ColorVectorSpace v0.6.2\u001b[39m\n",
      " \u001b[90m [ed09eef8]\u001b[39m\u001b[92m + ComputationalResources v0.3.0\u001b[39m\n",
      " \u001b[90m [150eb455]\u001b[39m\u001b[92m + CoordinateTransformations v0.5.0\u001b[39m\n",
      " \u001b[90m [dc8bdbbb]\u001b[39m\u001b[92m + CustomUnitRanges v0.2.0\u001b[39m\n",
      " \u001b[90m [4f61f5a4]\u001b[39m\u001b[92m + FFTViews v0.2.0\u001b[39m\n",
      " \u001b[90m [7a1cc6ca]\u001b[39m\u001b[92m + FFTW v0.2.4\u001b[39m\n",
      " \u001b[90m [5789e2e9]\u001b[39m\u001b[92m + FileIO v1.0.5\u001b[39m\n",
      " \u001b[90m [28b8d3ca]\u001b[39m\u001b[93m ↑ GR v0.37.0 ⇒ v0.38.0\u001b[39m\n",
      " \u001b[90m [a2bd30eb]\u001b[39m\u001b[92m + Graphics v0.4.0\u001b[39m\n",
      " \u001b[90m [bbac6d45]\u001b[39m\u001b[92m + IdentityRanges v0.3.0\u001b[39m\n",
      " \u001b[90m [2803e5a7]\u001b[39m\u001b[92m + ImageAxes v0.5.0\u001b[39m\n",
      " \u001b[90m [a09fc81d]\u001b[39m\u001b[92m + ImageCore v0.7.4\u001b[39m\n",
      " \u001b[90m [51556ac3]\u001b[39m\u001b[92m + ImageDistances v0.1.1\u001b[39m\n",
      " \u001b[90m [6a3955dd]\u001b[39m\u001b[92m + ImageFiltering v0.5.3\u001b[39m\n",
      " \u001b[90m [6218d12a]\u001b[39m\u001b[92m + ImageMagick v0.7.1\u001b[39m\n",
      " \u001b[90m [bc367c6b]\u001b[39m\u001b[92m + ImageMetadata v0.6.1\u001b[39m\n",
      " \u001b[90m [787d08f9]\u001b[39m\u001b[92m + ImageMorphology v0.1.1\u001b[39m\n",
      " \u001b[90m [4e3cecfd]\u001b[39m\u001b[92m + ImageShow v0.1.2\u001b[39m\n",
      " \u001b[90m [02fcd773]\u001b[39m\u001b[92m + ImageTransformations v0.7.2\u001b[39m\n",
      " \u001b[90m [916415d5]\u001b[39m\u001b[92m + Images v0.17.2\u001b[39m\n",
      " \u001b[90m [9b13fd28]\u001b[39m\u001b[92m + IndirectArrays v0.5.0\u001b[39m\n",
      " \u001b[90m [a98d9a8b]\u001b[39m\u001b[92m + Interpolations v0.11.2\u001b[39m\n",
      " \u001b[90m [8197267c]\u001b[39m\u001b[92m + IntervalSets v0.3.1\u001b[39m\n",
      " \u001b[90m [dbb5928d]\u001b[39m\u001b[92m + MappedArrays v0.2.1\u001b[39m\n",
      " \u001b[90m [6fe1bfb0]\u001b[39m\u001b[92m + OffsetArrays v0.10.0\u001b[39m\n",
      " \u001b[90m [5432bcbf]\u001b[39m\u001b[92m + PaddedViews v0.4.2\u001b[39m\n",
      " \u001b[90m [92933f4c]\u001b[39m\u001b[92m + ProgressMeter v0.9.0\u001b[39m\n",
      " \u001b[90m [b3c3ace0]\u001b[39m\u001b[92m + RangeArrays v0.3.1\u001b[39m\n",
      " \u001b[90m [c84ed2f1]\u001b[39m\u001b[92m + Ratios v0.3.0\u001b[39m\n",
      " \u001b[90m [6038ab10]\u001b[39m\u001b[92m + Rotations v0.11.1\u001b[39m\n",
      " \u001b[90m [b9d75638]\u001b[39m\u001b[92m + SIUnits v0.1.0\u001b[39m\n",
      " \u001b[90m [699a6c99]\u001b[39m\u001b[92m + SimpleTraits v0.8.0\u001b[39m\n",
      " \u001b[90m [276daf66]\u001b[39m\u001b[92m + SpecialFunctions v0.7.2\u001b[39m\n",
      " \u001b[90m [9b435220]\u001b[39m\u001b[92m + TexExtensions v0.1.0\u001b[39m\n",
      " \u001b[90m [06e1c1a7]\u001b[39m\u001b[92m + TiledIteration v0.2.3\u001b[39m\n",
      " \u001b[90m [efce3f68]\u001b[39m\u001b[92m + WoodburyMatrices v0.4.1\u001b[39m\n",
      "\u001b[32m\u001b[1m  Building\u001b[22m\u001b[39m FFTW ────────────→ `~/.julia/packages/FFTW/p7sLQ/deps/build.log`\n",
      "\u001b[32m\u001b[1m  Building\u001b[22m\u001b[39m ImageMagick ─────→ `~/.julia/packages/ImageMagick/d5KBL/deps/build.log`\n",
      "\u001b[32m\u001b[1m  Building\u001b[22m\u001b[39m SpecialFunctions → `~/.julia/packages/SpecialFunctions/fvheQ/deps/build.log`\n",
      "\u001b[32m\u001b[1m  Building\u001b[22m\u001b[39m GR ──────────────→ `~/.julia/packages/GR/R1wHp/deps/build.log`\n"
     ]
    },
    {
     "name": "stderr",
     "output_type": "stream",
     "text": [
      "┌ Error: Error building `GR`: \n",
      "│ --2019-02-15 16:22:41--  https://github.com/sciapp/gr/releases/tag/v0.38.0/gr-0.38.0-Ubuntu-x86_64.tar.gz\n",
      "│ Resolving github.com (github.com)... 140.82.118.4, 140.82.118.3\n",
      "│ Connecting to github.com (github.com)|140.82.118.4|:443... connected.\n",
      "│ HTTP request sent, awaiting response... 200 OK\n",
      "│ Length: unspecified [text/html]\n",
      "│ Saving to: ‘downloads/gr-0.38.0-Ubuntu-x86_64.tar.gz’\n",
      "│ \n",
      "│      0K .......... .......... .......... .......... ..........  771K\n",
      "│     50K .......... .....                                       5,35M=0,07s\n",
      "│ \n",
      "│ 2019-02-15 16:22:41 (965 KB/s) - ‘downloads/gr-0.38.0-Ubuntu-x86_64.tar.gz’ saved [66836]\n",
      "│ \n",
      "│ \n",
      "│ gzip: stdin: not in gzip format\n",
      "│ tar: Child returned status 1\n",
      "│ tar: Error is not recoverable: exiting now\n",
      "│ [ Info: Downloading pre-compiled GR 0.38.0 Ubuntu binary\n",
      "│ ERROR: LoadError: failed process: Process(`tar xzf downloads/gr-0.38.0-Ubuntu-x86_64.tar.gz`, ProcessExited(2)) [2]\n",
      "│ Stacktrace:\n",
      "│  [1] error(::String, ::Base.Process, ::String, ::Int64, ::String) at ./error.jl:42\n",
      "│  [2] pipeline_error at ./process.jl:785 [inlined]\n",
      "│  [3] #run#515(::Bool, ::Function, ::Cmd) at ./process.jl:726\n",
      "│  [4] run(::Cmd) at ./process.jl:724\n",
      "│  [5] top-level scope at /home/olszewskip/.julia/packages/GR/R1wHp/deps/build.jl:118\n",
      "│  [6] include at ./boot.jl:326 [inlined]\n",
      "│  [7] include_relative(::Module, ::String) at ./loading.jl:1038\n",
      "│  [8] include(::Module, ::String) at ./sysimg.jl:29\n",
      "│  [9] include(::String) at ./client.jl:403\n",
      "│  [10] top-level scope at none:0\n",
      "│ in expression starting at /home/olszewskip/.julia/packages/GR/R1wHp/deps/build.jl:63\n",
      "└ @ Pkg.Operations /buildworker/worker/package_linux64/build/usr/share/julia/stdlib/v1.1/Pkg/src/Operations.jl:1075\n",
      "┌ Info: Precompiling Images [916415d5-f1e6-5110-898d-aaa5f9f070e0]\n",
      "└ @ Base loading.jl:1186\n"
     ]
    }
   ],
   "source": [
    "using Pkg; Pkg.add([\"Images\", \"ImageMagick\"])\n",
    "using Images  # To execute hit <shift> + enter"
   ]
  },
  {
   "cell_type": "code",
   "execution_count": 2,
   "metadata": {},
   "outputs": [
    {
     "name": "stderr",
     "output_type": "stream",
     "text": [
      "┌ Info: Precompiling ImageMagick [6218d12a-5da1-5696-b52f-db25d2ecc6d1]\n",
      "└ @ Base loading.jl:1186\n",
      "Error encountered while loading \"data/10_100.jpg\".\n",
      "Fatal error:\n"
     ]
    },
    {
     "ename": "ErrorException",
     "evalue": "UnableToOpenBlob `data/10_100.jpg': No such file or directory @ error/blob.c/OpenBlob/2873",
     "output_type": "error",
     "traceback": [
      "UnableToOpenBlob `data/10_100.jpg': No such file or directory @ error/blob.c/OpenBlob/2873",
      "",
      "Stacktrace:",
      " [1] handle_error(::ErrorException, ::FileIO.File{FileIO.DataFormat{:JPEG}}) at /home/olszewskip/.julia/packages/FileIO/YJO7Z/src/error_handling.jl:80",
      " [2] handle_exceptions(::Array{Any,1}, ::String) at /home/olszewskip/.julia/packages/FileIO/YJO7Z/src/error_handling.jl:75",
      " [3] #load#27(::Base.Iterators.Pairs{Union{},Union{},Tuple{},NamedTuple{(),Tuple{}}}, ::Function, ::FileIO.File{FileIO.DataFormat{:JPEG}}) at /home/olszewskip/.julia/packages/FileIO/YJO7Z/src/loadsave.jl:193",
      " [4] load(::FileIO.File{FileIO.DataFormat{:JPEG}}) at /home/olszewskip/.julia/packages/FileIO/YJO7Z/src/loadsave.jl:172",
      " [5] #load#13(::Base.Iterators.Pairs{Union{},Union{},Tuple{},NamedTuple{(),Tuple{}}}, ::Function, ::String) at /home/olszewskip/.julia/packages/FileIO/YJO7Z/src/loadsave.jl:118",
      " [6] load(::String) at /home/olszewskip/.julia/packages/FileIO/YJO7Z/src/loadsave.jl:118",
      " [7] top-level scope at In[2]:1"
     ]
    }
   ],
   "source": [
    "apple = load(\"data/10_100.jpg\")"
   ]
  },
  {
   "cell_type": "code",
   "execution_count": null,
   "metadata": {},
   "outputs": [],
   "source": [
    "banana = load(\"data/104_100.jpg\")"
   ]
  },
  {
   "cell_type": "markdown",
   "metadata": {},
   "source": [
    "The dataset consists of many images of different fruits, viewed from different positions.\n",
    "These images are [available on GitHub here](https://github.com/Horea94/Fruit-Images-Dataset)."
   ]
  },
  {
   "cell_type": "markdown",
   "metadata": {},
   "source": [
    "## What is the goal?"
   ]
  },
  {
   "cell_type": "markdown",
   "metadata": {},
   "source": [
    "The ultimate goal is to feed one of these images to the computer and for it to identify whether the image represents an apple or a banana!  To do so, we will **train** the computer to learn **for itself** how to\n",
    "distinguish the two images.\n",
    "\n",
    "The following notebooks will walk you step by step through the underlying math and machine learning concepts you need to know in order to accomplish this classification.\n",
    "\n",
    "They alternate between two different types of notebooks: those labelled **ML** (Machine Learning), which are designed to give a high-level overview of the concepts we need for machine learning, but which gloss over some of the technical details; and those labelled **Tools**, which dive into the details of coding in Julia that will be key to actually implement the machine learning algorithms ourselves.\n",
    "\n",
    "The notebooks contain many **Exercises**. By doing these exercises in Julia, you will learn the basics of machine learning!"
   ]
  }
 ],
 "metadata": {
  "@webio": {
   "lastCommId": "53e05face3af482cb3460a53e4a1210f",
   "lastKernelId": "73520524-72e4-4715-9e63-9314c2469d97"
  },
  "kernelspec": {
   "display_name": "Julia 1.1.0",
   "language": "julia",
   "name": "julia-1.1"
  },
  "language_info": {
   "file_extension": ".jl",
   "mimetype": "application/julia",
   "name": "julia",
   "version": "1.1.0"
  }
 },
 "nbformat": 4,
 "nbformat_minor": 3
}
