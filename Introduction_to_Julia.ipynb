{
 "cells": [
  {
   "cell_type": "markdown",
   "metadata": {},
   "source": [
    "---\n",
    "01 getting started"
   ]
  },
  {
   "cell_type": "code",
   "execution_count": 1,
   "metadata": {},
   "outputs": [
    {
     "data": {
      "text/plain": [
       "Int64"
      ]
     },
     "execution_count": 1,
     "metadata": {},
     "output_type": "execute_result"
    }
   ],
   "source": [
    "my_answer = 42\n",
    "typeof(my_answer)"
   ]
  },
  {
   "cell_type": "code",
   "execution_count": 2,
   "metadata": {},
   "outputs": [
    {
     "data": {
      "text/plain": [
       "Float64"
      ]
     },
     "execution_count": 2,
     "metadata": {},
     "output_type": "execute_result"
    }
   ],
   "source": [
    "my_pi = 3.14\n",
    "typeof(my_pi)"
   ]
  },
  {
   "cell_type": "code",
   "execution_count": 9,
   "metadata": {},
   "outputs": [
    {
     "data": {
      "text/plain": [
       "String"
      ]
     },
     "execution_count": 9,
     "metadata": {},
     "output_type": "execute_result"
    }
   ],
   "source": [
    "🐍 = \"python\"\n",
    "🐌 = \"slow\"\n",
    "🏁 = \"fast\"\n",
    "typeof(🐍)"
   ]
  },
  {
   "cell_type": "code",
   "execution_count": 10,
   "metadata": {},
   "outputs": [],
   "source": [
    "#=\n",
    "\n",
    "muliline comment\n",
    "\n",
    ":)\n",
    "=#"
   ]
  },
  {
   "cell_type": "code",
   "execution_count": 11,
   "metadata": {},
   "outputs": [
    {
     "data": {
      "text/plain": [
       "216"
      ]
     },
     "execution_count": 11,
     "metadata": {},
     "output_type": "execute_result"
    }
   ],
   "source": [
    "power = 6^3"
   ]
  },
  {
   "cell_type": "markdown",
   "metadata": {},
   "source": [
    "---\n",
    "02 strings"
   ]
  },
  {
   "cell_type": "code",
   "execution_count": 12,
   "metadata": {},
   "outputs": [
    {
     "data": {
      "text/plain": [
       "\"We come in piece!\""
      ]
     },
     "execution_count": 12,
     "metadata": {},
     "output_type": "execute_result"
    }
   ],
   "source": [
    "message = \"We come in piece!\""
   ]
  },
  {
   "cell_type": "code",
   "execution_count": 13,
   "metadata": {},
   "outputs": [
    {
     "data": {
      "text/plain": [
       "\"Wait, did You mean \\\"peace\\\"?\""
      ]
     },
     "execution_count": 13,
     "metadata": {},
     "output_type": "execute_result"
    }
   ],
   "source": [
    "shoutout = \"\"\"Wait, did You mean \"peace\"?\"\"\""
   ]
  },
  {
   "cell_type": "code",
   "execution_count": 14,
   "metadata": {},
   "outputs": [
    {
     "data": {
      "text/plain": [
       "String"
      ]
     },
     "execution_count": 14,
     "metadata": {},
     "output_type": "execute_result"
    }
   ],
   "source": [
    "typeof(\"Gesundheit\")"
   ]
  },
  {
   "cell_type": "code",
   "execution_count": 17,
   "metadata": {},
   "outputs": [
    {
     "data": {
      "text/plain": [
       "Char"
      ]
     },
     "execution_count": 17,
     "metadata": {},
     "output_type": "execute_result"
    }
   ],
   "source": [
    "typeof('€')"
   ]
  },
  {
   "cell_type": "code",
   "execution_count": 19,
   "metadata": {},
   "outputs": [
    {
     "data": {
      "text/plain": [
       "\"The number of limbs is decribed by a normal distribution centered around 4 and a variance of 1.\""
      ]
     },
     "execution_count": 19,
     "metadata": {},
     "output_type": "execute_result"
    }
   ],
   "source": [
    "howmany = 4\n",
    "toomany = 1\n",
    "\"The number of limbs is decribed by a normal distribution centered around $howmany and a variance of $toomany.\""
   ]
  },
  {
   "cell_type": "code",
   "execution_count": 21,
   "metadata": {},
   "outputs": [
    {
     "data": {
      "text/plain": [
       "\"hello, world\""
      ]
     },
     "execution_count": 21,
     "metadata": {},
     "output_type": "execute_result"
    }
   ],
   "source": [
    "\"hello\"*\", world\""
   ]
  },
  {
   "cell_type": "code",
   "execution_count": 23,
   "metadata": {},
   "outputs": [
    {
     "data": {
      "text/plain": [
       "\"hello, world\""
      ]
     },
     "execution_count": 23,
     "metadata": {},
     "output_type": "execute_result"
    }
   ],
   "source": [
    "string(\"hello\", \", world\")"
   ]
  },
  {
   "cell_type": "code",
   "execution_count": 24,
   "metadata": {},
   "outputs": [
    {
     "data": {
      "text/plain": [
       "\"hi! hi! hi! hi! hi! \""
      ]
     },
     "execution_count": 24,
     "metadata": {},
     "output_type": "execute_result"
    }
   ],
   "source": [
    "\"hi! \"^5"
   ]
  },
  {
   "cell_type": "markdown",
   "metadata": {},
   "source": [
    "---\n",
    "03 data structures"
   ]
  },
  {
   "cell_type": "code",
   "execution_count": 25,
   "metadata": {},
   "outputs": [
    {
     "data": {
      "text/plain": [
       "(\"cows\", \"ducks\", \"snails\")"
      ]
     },
     "execution_count": 25,
     "metadata": {},
     "output_type": "execute_result"
    }
   ],
   "source": [
    "animals = (\"cows\", \"ducks\", \"snails\")"
   ]
  },
  {
   "cell_type": "code",
   "execution_count": 26,
   "metadata": {},
   "outputs": [
    {
     "data": {
      "text/plain": [
       "\"cows\""
      ]
     },
     "execution_count": 26,
     "metadata": {},
     "output_type": "execute_result"
    }
   ],
   "source": [
    "animals[1]"
   ]
  },
  {
   "cell_type": "code",
   "execution_count": 27,
   "metadata": {},
   "outputs": [
    {
     "ename": "MethodError",
     "evalue": "MethodError: no method matching setindex!(::Tuple{String,String,String}, ::String, ::Int64)",
     "output_type": "error",
     "traceback": [
      "MethodError: no method matching setindex!(::Tuple{String,String,String}, ::String, ::Int64)",
      "",
      "Stacktrace:",
      " [1] top-level scope at In[27]:1"
     ]
    }
   ],
   "source": [
    "animals[1] = \"pigs\""
   ]
  },
  {
   "cell_type": "code",
   "execution_count": 28,
   "metadata": {},
   "outputs": [
    {
     "data": {
      "text/plain": [
       "(smart = \"cows\", preety = \"ducks\", friendly = \"snails\")"
      ]
     },
     "execution_count": 28,
     "metadata": {},
     "output_type": "execute_result"
    }
   ],
   "source": [
    "fancy_animals = (smart = \"cows\", preety = \"ducks\", friendly = \"snails\")"
   ]
  },
  {
   "cell_type": "code",
   "execution_count": 30,
   "metadata": {},
   "outputs": [
    {
     "data": {
      "text/plain": [
       "\"cows\""
      ]
     },
     "execution_count": 30,
     "metadata": {},
     "output_type": "execute_result"
    }
   ],
   "source": [
    "fancy_animals.smart"
   ]
  },
  {
   "cell_type": "code",
   "execution_count": 32,
   "metadata": {},
   "outputs": [
    {
     "data": {
      "text/plain": [
       "Dict{Any,Any} with 0 entries"
      ]
     },
     "execution_count": 32,
     "metadata": {},
     "output_type": "execute_result"
    }
   ],
   "source": [
    "empty = Dict()"
   ]
  },
  {
   "cell_type": "code",
   "execution_count": 33,
   "metadata": {},
   "outputs": [
    {
     "data": {
      "text/plain": [
       "Dict{Char,Int64} with 2 entries:\n",
       "  'a' => 1\n",
       "  'b' => 2"
      ]
     },
     "execution_count": 33,
     "metadata": {},
     "output_type": "execute_result"
    }
   ],
   "source": [
    "letters = Dict('a'=>1, 'b'=>2)"
   ]
  },
  {
   "cell_type": "code",
   "execution_count": 34,
   "metadata": {},
   "outputs": [
    {
     "data": {
      "text/plain": [
       "2"
      ]
     },
     "execution_count": 34,
     "metadata": {},
     "output_type": "execute_result"
    }
   ],
   "source": [
    "letters['b']"
   ]
  },
  {
   "cell_type": "code",
   "execution_count": 35,
   "metadata": {},
   "outputs": [
    {
     "data": {
      "text/plain": [
       "Dict{Char,Int64} with 3 entries:\n",
       "  'a' => 1\n",
       "  'c' => 3\n",
       "  'b' => 2"
      ]
     },
     "execution_count": 35,
     "metadata": {},
     "output_type": "execute_result"
    }
   ],
   "source": [
    "letters['c'] = letters['b'] + 1\n",
    "letters"
   ]
  },
  {
   "cell_type": "code",
   "execution_count": 36,
   "metadata": {},
   "outputs": [
    {
     "data": {
      "text/plain": [
       "Dict{Char,Int64} with 2 entries:\n",
       "  'a' => 1\n",
       "  'c' => 3"
      ]
     },
     "execution_count": 36,
     "metadata": {},
     "output_type": "execute_result"
    }
   ],
   "source": [
    "pop!(letters, 'b')\n",
    "letters"
   ]
  },
  {
   "cell_type": "code",
   "execution_count": 37,
   "metadata": {},
   "outputs": [
    {
     "data": {
      "text/plain": [
       "0-element Array{Any,1}"
      ]
     },
     "execution_count": 37,
     "metadata": {},
     "output_type": "execute_result"
    }
   ],
   "source": [
    "my_array = []"
   ]
  },
  {
   "cell_type": "code",
   "execution_count": 40,
   "metadata": {},
   "outputs": [
    {
     "data": {
      "text/plain": [
       "4-element Array{String,1}:\n",
       " \"water\"     \n",
       " \"egg\"       \n",
       " \"onion\"     \n",
       " \"toothpaste\""
      ]
     },
     "execution_count": 40,
     "metadata": {},
     "output_type": "execute_result"
    }
   ],
   "source": [
    "dishes = [\"water\", \"egg\", \"onion\", \"toothpaste\"]"
   ]
  },
  {
   "cell_type": "code",
   "execution_count": 44,
   "metadata": {},
   "outputs": [
    {
     "data": {
      "text/plain": [
       "4"
      ]
     },
     "execution_count": 44,
     "metadata": {},
     "output_type": "execute_result"
    }
   ],
   "source": [
    "length(dishes)"
   ]
  },
  {
   "cell_type": "code",
   "execution_count": 45,
   "metadata": {},
   "outputs": [
    {
     "data": {
      "text/plain": [
       "5-element Array{String,1}:\n",
       " \"water\"     \n",
       " \"egg\"       \n",
       " \"onion\"     \n",
       " \"toothpaste\"\n",
       " \"nothing\"   "
      ]
     },
     "execution_count": 45,
     "metadata": {},
     "output_type": "execute_result"
    }
   ],
   "source": [
    "push!(dishes, \"nothing\")\n",
    "dishes"
   ]
  },
  {
   "cell_type": "code",
   "execution_count": 46,
   "metadata": {},
   "outputs": [
    {
     "data": {
      "text/plain": [
       "\"nothing\""
      ]
     },
     "execution_count": 46,
     "metadata": {},
     "output_type": "execute_result"
    }
   ],
   "source": [
    "tomorrow = pop!(dishes)"
   ]
  },
  {
   "cell_type": "code",
   "execution_count": 47,
   "metadata": {},
   "outputs": [
    {
     "data": {
      "text/plain": [
       "2-element Array{Array{Int64,1},1}:\n",
       " [1, 2, 3]\n",
       " [4, 5, 6]"
      ]
     },
     "execution_count": 47,
     "metadata": {},
     "output_type": "execute_result"
    }
   ],
   "source": [
    "array_of_arrays = [[1,2,3], [4,5,6]]"
   ]
  },
  {
   "cell_type": "code",
   "execution_count": 55,
   "metadata": {},
   "outputs": [
    {
     "data": {
      "text/plain": [
       "3-element Array{Int64,1}:\n",
       " 1\n",
       " 2\n",
       " 3"
      ]
     },
     "execution_count": 55,
     "metadata": {},
     "output_type": "execute_result"
    }
   ],
   "source": [
    "array_of_arrays[1]"
   ]
  },
  {
   "cell_type": "code",
   "execution_count": 48,
   "metadata": {},
   "outputs": [
    {
     "data": {
      "text/plain": [
       "2×3 Array{Int64,2}:\n",
       " 1  2  3\n",
       " 4  5  6"
      ]
     },
     "execution_count": 48,
     "metadata": {},
     "output_type": "execute_result"
    }
   ],
   "source": [
    "array_2d = [1 2 3; 4 5 6]"
   ]
  },
  {
   "cell_type": "code",
   "execution_count": 70,
   "metadata": {},
   "outputs": [
    {
     "data": {
      "text/plain": [
       "1"
      ]
     },
     "execution_count": 70,
     "metadata": {},
     "output_type": "execute_result"
    }
   ],
   "source": [
    "1 "
   ]
  },
  {
   "cell_type": "code",
   "execution_count": 71,
   "metadata": {},
   "outputs": [
    {
     "data": {
      "text/plain": [
       "1"
      ]
     },
     "execution_count": 71,
     "metadata": {},
     "output_type": "execute_result"
    }
   ],
   "source": [
    "1[1]"
   ]
  },
  {
   "cell_type": "code",
   "execution_count": 72,
   "metadata": {},
   "outputs": [
    {
     "data": {
      "text/plain": [
       "'b': ASCII/Unicode U+0062 (category Ll: Letter, lowercase)"
      ]
     },
     "execution_count": 72,
     "metadata": {},
     "output_type": "execute_result"
    }
   ],
   "source": [
    "\"abc\"[2]"
   ]
  },
  {
   "cell_type": "code",
   "execution_count": 73,
   "metadata": {},
   "outputs": [
    {
     "data": {
      "text/plain": [
       "5"
      ]
     },
     "execution_count": 73,
     "metadata": {},
     "output_type": "execute_result"
    }
   ],
   "source": [
    "array_2d[4]"
   ]
  },
  {
   "cell_type": "code",
   "execution_count": 49,
   "metadata": {},
   "outputs": [
    {
     "data": {
      "text/plain": [
       "2×3 Array{Float64,2}:\n",
       " 0.847525  0.339171  0.584023\n",
       " 0.274547  0.39358   0.125983"
      ]
     },
     "execution_count": 49,
     "metadata": {},
     "output_type": "execute_result"
    }
   ],
   "source": [
    "rand(2, 3)"
   ]
  },
  {
   "cell_type": "code",
   "execution_count": 75,
   "metadata": {},
   "outputs": [
    {
     "data": {
      "text/plain": [
       "2×3 Array{Int64,2}:\n",
       " 1  2   3\n",
       " 4  5  13"
      ]
     },
     "execution_count": 75,
     "metadata": {},
     "output_type": "execute_result"
    }
   ],
   "source": [
    "another_array = array_2d\n",
    "another_array[6] = 13\n",
    "array_2d"
   ]
  },
  {
   "cell_type": "code",
   "execution_count": 77,
   "metadata": {},
   "outputs": [
    {
     "data": {
      "text/plain": [
       "2×3 Array{Int64,2}:\n",
       " 1  2   3\n",
       " 4  5  13"
      ]
     },
     "execution_count": 77,
     "metadata": {},
     "output_type": "execute_result"
    }
   ],
   "source": [
    "yet_another_arrat = copy(array_2d)\n",
    "yet_another_arrat[6] = 6\n",
    "array_2d"
   ]
  },
  {
   "cell_type": "markdown",
   "metadata": {},
   "source": [
    "---\n",
    "04 loops"
   ]
  },
  {
   "cell_type": "code",
   "execution_count": 2,
   "metadata": {},
   "outputs": [
    {
     "name": "stdout",
     "output_type": "stream",
     "text": [
      "123456789"
     ]
    }
   ],
   "source": [
    "i = 1\n",
    "while i < 10\n",
    "    print(i)\n",
    "    i += 1\n",
    "end"
   ]
  },
  {
   "cell_type": "code",
   "execution_count": 6,
   "metadata": {},
   "outputs": [
    {
     "name": "stdout",
     "output_type": "stream",
     "text": [
      "1357911"
     ]
    }
   ],
   "source": [
    "for i in 1:2:11\n",
    "    print(i)\n",
    "end"
   ]
  },
  {
   "cell_type": "code",
   "execution_count": 7,
   "metadata": {},
   "outputs": [
    {
     "name": "stdout",
     "output_type": "stream",
     "text": [
      "122"
     ]
    }
   ],
   "source": [
    "for i in [1,2,2]\n",
    "    print(i)\n",
    "end"
   ]
  },
  {
   "cell_type": "code",
   "execution_count": 8,
   "metadata": {},
   "outputs": [
    {
     "name": "stdout",
     "output_type": "stream",
     "text": [
      "12345678910"
     ]
    }
   ],
   "source": [
    "for i=1:10\n",
    "    print(i)\n",
    "end"
   ]
  },
  {
   "cell_type": "code",
   "execution_count": 9,
   "metadata": {},
   "outputs": [
    {
     "name": "stdout",
     "output_type": "stream",
     "text": [
      "111221223132414251526162717281829192101102"
     ]
    }
   ],
   "source": [
    "for i=1:10, j=1:2\n",
    "    print(i, j)\n",
    "end"
   ]
  },
  {
   "cell_type": "code",
   "execution_count": 10,
   "metadata": {},
   "outputs": [
    {
     "data": {
      "text/plain": [
       "10-element Array{Int64,1}:\n",
       "  1\n",
       "  2\n",
       "  3\n",
       "  4\n",
       "  5\n",
       "  6\n",
       "  7\n",
       "  8\n",
       "  9\n",
       " 10"
      ]
     },
     "execution_count": 10,
     "metadata": {},
     "output_type": "execute_result"
    }
   ],
   "source": [
    "[idx for idx=1:10]"
   ]
  },
  {
   "cell_type": "markdown",
   "metadata": {},
   "source": [
    "---\n",
    "05 conditionals"
   ]
  },
  {
   "cell_type": "code",
   "execution_count": 13,
   "metadata": {},
   "outputs": [
    {
     "name": "stdout",
     "output_type": "stream",
     "text": [
      "1"
     ]
    }
   ],
   "source": [
    "if true && true\n",
    "    print(1)\n",
    "elseif false || true\n",
    "    print(2)\n",
    "elseif true & true\n",
    "    print(3)\n",
    "elseif false | true\n",
    "    print(4)\n",
    "else\n",
    "    print(5)\n",
    "end\n"
   ]
  },
  {
   "cell_type": "code",
   "execution_count": 14,
   "metadata": {},
   "outputs": [
    {
     "data": {
      "text/plain": [
       "'b': ASCII/Unicode U+0062 (category Ll: Letter, lowercase)"
      ]
     },
     "execution_count": 14,
     "metadata": {},
     "output_type": "execute_result"
    }
   ],
   "source": [
    "false ? 'a' : 'b'"
   ]
  },
  {
   "cell_type": "markdown",
   "metadata": {},
   "source": [
    "---\n",
    "06 functions"
   ]
  },
  {
   "cell_type": "code",
   "execution_count": 15,
   "metadata": {},
   "outputs": [
    {
     "name": "stdout",
     "output_type": "stream",
     "text": [
      "hi\n"
     ]
    }
   ],
   "source": [
    "function sayhi()\n",
    "    println(\"hi\")\n",
    "end\n",
    "\n",
    "sayhi()"
   ]
  },
  {
   "cell_type": "code",
   "execution_count": 17,
   "metadata": {},
   "outputs": [
    {
     "name": "stdout",
     "output_type": "stream",
     "text": [
      "hi\n"
     ]
    }
   ],
   "source": [
    "f() = println(\"hi\")\n",
    "f()"
   ]
  },
  {
   "cell_type": "code",
   "execution_count": 2,
   "metadata": {},
   "outputs": [
    {
     "data": {
      "text/plain": [
       "#5 (generic function with 1 method)"
      ]
     },
     "execution_count": 2,
     "metadata": {},
     "output_type": "execute_result"
    }
   ],
   "source": [
    "func = name -> println(\"Hi! $name\")"
   ]
  },
  {
   "cell_type": "code",
   "execution_count": 3,
   "metadata": {},
   "outputs": [
    {
     "name": "stdout",
     "output_type": "stream",
     "text": [
      "Hi! Jesus\n"
     ]
    }
   ],
   "source": [
    "func(\"Jesus\")"
   ]
  },
  {
   "cell_type": "code",
   "execution_count": 5,
   "metadata": {},
   "outputs": [
    {
     "name": "stdout",
     "output_type": "stream",
     "text": [
      "Hi! me\n",
      "Hi! You\n"
     ]
    },
    {
     "data": {
      "text/plain": [
       "2-element Array{Nothing,1}:\n",
       " nothing\n",
       " nothing"
      ]
     },
     "execution_count": 5,
     "metadata": {},
     "output_type": "execute_result"
    }
   ],
   "source": [
    "map(func, [\"me\", \"You\"])"
   ]
  },
  {
   "cell_type": "code",
   "execution_count": 6,
   "metadata": {},
   "outputs": [
    {
     "data": {
      "text/plain": [
       "3-element Array{Int64,1}:\n",
       " 1\n",
       " 4\n",
       " 9"
      ]
     },
     "execution_count": 6,
     "metadata": {},
     "output_type": "execute_result"
    }
   ],
   "source": [
    "map(x -> x^2, 1:3)"
   ]
  },
  {
   "cell_type": "code",
   "execution_count": 9,
   "metadata": {},
   "outputs": [
    {
     "data": {
      "text/plain": [
       "3-element Array{Int64,1}:\n",
       " 1\n",
       " 4\n",
       " 9"
      ]
     },
     "execution_count": 9,
     "metadata": {},
     "output_type": "execute_result"
    }
   ],
   "source": [
    "(x -> x^2).(1:3)"
   ]
  },
  {
   "cell_type": "markdown",
   "metadata": {},
   "source": [
    "---\n",
    "07 packages"
   ]
  },
  {
   "cell_type": "code",
   "execution_count": 10,
   "metadata": {},
   "outputs": [
    {
     "name": "stdout",
     "output_type": "stream",
     "text": [
      "\u001b[32m\u001b[1m  Updating\u001b[22m\u001b[39m registry at `~/.julia/registries/General`\n",
      "\u001b[32m\u001b[1m  Updating\u001b[22m\u001b[39m git-repo `https://github.com/JuliaRegistries/General.git`\n",
      "\u001b[2K\u001b[?25h[1mFetching:\u001b[22m\u001b[39m [========================================>]  99.9 %0.0 %========>                                ]  19.3 %3 %                    ]  48.6 % [============================>            ]  67.9 %=============================>           ]  72.2 %\u001b[36m\u001b[1mFetching:\u001b[22m\u001b[39m [=====================================>   ]  91.3 %\u001b[36m\u001b[1mFetching:\u001b[22m\u001b[39m [=======================================> ]  96.6 %\u001b[32m\u001b[1m Resolving\u001b[22m\u001b[39m package versions...\n",
      "\u001b[32m\u001b[1m Installed\u001b[22m\u001b[39m Example ─ v0.5.1\n",
      "\u001b[32m\u001b[1m  Updating\u001b[22m\u001b[39m `~/.julia/environments/v1.1/Project.toml`\n",
      " \u001b[90m [7876af07]\u001b[39m\u001b[92m + Example v0.5.1\u001b[39m\n",
      "\u001b[32m\u001b[1m  Updating\u001b[22m\u001b[39m `~/.julia/environments/v1.1/Manifest.toml`\n",
      " \u001b[90m [7876af07]\u001b[39m\u001b[92m + Example v0.5.1\u001b[39m\n"
     ]
    }
   ],
   "source": [
    "using Pkg\n",
    "Pkg.add(\"Example\")"
   ]
  },
  {
   "cell_type": "code",
   "execution_count": null,
   "metadata": {},
   "outputs": [],
   "source": [
    "using Example"
   ]
  },
  {
   "cell_type": "code",
   "execution_count": 13,
   "metadata": {},
   "outputs": [
    {
     "data": {
      "text/plain": [
       "\"Hello, !\""
      ]
     },
     "execution_count": 13,
     "metadata": {},
     "output_type": "execute_result"
    }
   ],
   "source": [
    "hello(\"!\")"
   ]
  },
  {
   "cell_type": "code",
   "execution_count": 14,
   "metadata": {},
   "outputs": [
    {
     "name": "stdout",
     "output_type": "stream",
     "text": [
      "\u001b[32m\u001b[1m Resolving\u001b[22m\u001b[39m package versions...\n",
      "\u001b[32m\u001b[1m Installed\u001b[22m\u001b[39m FixedPointNumbers ─ v0.5.3\n",
      "\u001b[32m\u001b[1m Installed\u001b[22m\u001b[39m ColorTypes ──────── v0.7.5\n",
      "\u001b[32m\u001b[1m Installed\u001b[22m\u001b[39m Colors ──────────── v0.9.5\n",
      "\u001b[32m\u001b[1m  Updating\u001b[22m\u001b[39m `~/.julia/environments/v1.1/Project.toml`\n",
      " \u001b[90m [5ae59095]\u001b[39m\u001b[92m + Colors v0.9.5\u001b[39m\n",
      "\u001b[32m\u001b[1m  Updating\u001b[22m\u001b[39m `~/.julia/environments/v1.1/Manifest.toml`\n",
      " \u001b[90m [3da002f7]\u001b[39m\u001b[92m + ColorTypes v0.7.5\u001b[39m\n",
      " \u001b[90m [5ae59095]\u001b[39m\u001b[92m + Colors v0.9.5\u001b[39m\n",
      " \u001b[90m [53c48c17]\u001b[39m\u001b[92m + FixedPointNumbers v0.5.3\u001b[39m\n"
     ]
    }
   ],
   "source": [
    "Pkg.add(\"Colors\")"
   ]
  },
  {
   "cell_type": "code",
   "execution_count": 15,
   "metadata": {},
   "outputs": [
    {
     "name": "stderr",
     "output_type": "stream",
     "text": [
      "┌ Info: Precompiling Colors [5ae59095-9a9b-59fe-a467-6f913c188581]\n",
      "└ @ Base loading.jl:1186\n"
     ]
    }
   ],
   "source": [
    "using Colors"
   ]
  },
  {
   "cell_type": "code",
   "execution_count": 16,
   "metadata": {},
   "outputs": [
    {
     "data": {
      "image/svg+xml": [
       "<?xml version=\"1.0\" encoding=\"UTF-8\"?>\n",
       "<!DOCTYPE svg PUBLIC \"-//W3C//DTD SVG 1.1//EN\"\n",
       " \"http://www.w3.org/Graphics/SVG/1.1/DTD/svg11.dtd\">\n",
       "<svg xmlns=\"http://www.w3.org/2000/svg\" version=\"1.1\"\n",
       "     width=\"180.0mm\" height=\"24.999999999999996mm\"\n",
       "     shape-rendering=\"crispEdges\">\n",
       "<rect x=\"0.0mm\" y=\"0.0mm\"\n",
       "      width=\"1.8mm\" height=\"23.999999999999996mm\"\n",
       "      fill=\"#000000\" stroke=\"none\" />\n",
       "<rect x=\"1.8mm\" y=\"0.0mm\"\n",
       "      width=\"1.8mm\" height=\"23.999999999999996mm\"\n",
       "      fill=\"#FFFF62\" stroke=\"none\" />\n",
       "<rect x=\"3.6mm\" y=\"0.0mm\"\n",
       "      width=\"1.8mm\" height=\"23.999999999999996mm\"\n",
       "      fill=\"#FF9FFF\" stroke=\"none\" />\n",
       "<rect x=\"5.4mm\" y=\"0.0mm\"\n",
       "      width=\"1.8mm\" height=\"23.999999999999996mm\"\n",
       "      fill=\"#00D6FF\" stroke=\"none\" />\n",
       "<rect x=\"7.2mm\" y=\"0.0mm\"\n",
       "      width=\"1.8mm\" height=\"23.999999999999996mm\"\n",
       "      fill=\"#D74400\" stroke=\"none\" />\n",
       "<rect x=\"9.0mm\" y=\"0.0mm\"\n",
       "      width=\"1.8mm\" height=\"23.999999999999996mm\"\n",
       "      fill=\"#008029\" stroke=\"none\" />\n",
       "<rect x=\"10.8mm\" y=\"0.0mm\"\n",
       "      width=\"1.8mm\" height=\"23.999999999999996mm\"\n",
       "      fill=\"#005FD5\" stroke=\"none\" />\n",
       "<rect x=\"12.6mm\" y=\"0.0mm\"\n",
       "      width=\"1.8mm\" height=\"23.999999999999996mm\"\n",
       "      fill=\"#930068\" stroke=\"none\" />\n",
       "<rect x=\"14.4mm\" y=\"0.0mm\"\n",
       "      width=\"1.8mm\" height=\"23.999999999999996mm\"\n",
       "      fill=\"#FFCBB5\" stroke=\"none\" />\n",
       "<rect x=\"16.2mm\" y=\"0.0mm\"\n",
       "      width=\"1.8mm\" height=\"23.999999999999996mm\"\n",
       "      fill=\"#A78600\" stroke=\"none\" />\n",
       "<rect x=\"18.0mm\" y=\"0.0mm\"\n",
       "      width=\"1.8mm\" height=\"23.999999999999996mm\"\n",
       "      fill=\"#00FFC5\" stroke=\"none\" />\n",
       "<rect x=\"19.8mm\" y=\"0.0mm\"\n",
       "      width=\"1.8mm\" height=\"23.999999999999996mm\"\n",
       "      fill=\"#007E86\" stroke=\"none\" />\n",
       "<rect x=\"21.6mm\" y=\"0.0mm\"\n",
       "      width=\"1.8mm\" height=\"23.999999999999996mm\"\n",
       "      fill=\"#534200\" stroke=\"none\" />\n",
       "<rect x=\"23.400000000000002mm\" y=\"0.0mm\"\n",
       "      width=\"1.8mm\" height=\"23.999999999999996mm\"\n",
       "      fill=\"#8C8793\" stroke=\"none\" />\n",
       "<rect x=\"25.2mm\" y=\"0.0mm\"\n",
       "      width=\"1.8mm\" height=\"23.999999999999996mm\"\n",
       "      fill=\"#680000\" stroke=\"none\" />\n",
       "<rect x=\"27.0mm\" y=\"0.0mm\"\n",
       "      width=\"1.8mm\" height=\"23.999999999999996mm\"\n",
       "      fill=\"#00005A\" stroke=\"none\" />\n",
       "<rect x=\"28.8mm\" y=\"0.0mm\"\n",
       "      width=\"1.8mm\" height=\"23.999999999999996mm\"\n",
       "      fill=\"#FF2C6F\" stroke=\"none\" />\n",
       "<rect x=\"30.6mm\" y=\"0.0mm\"\n",
       "      width=\"1.8mm\" height=\"23.999999999999996mm\"\n",
       "      fill=\"#F7FFF6\" stroke=\"none\" />\n",
       "<rect x=\"32.4mm\" y=\"0.0mm\"\n",
       "      width=\"1.8mm\" height=\"23.999999999999996mm\"\n",
       "      fill=\"#003D25\" stroke=\"none\" />\n",
       "<rect x=\"34.2mm\" y=\"0.0mm\"\n",
       "      width=\"1.8mm\" height=\"23.999999999999996mm\"\n",
       "      fill=\"#91ABFF\" stroke=\"none\" />\n",
       "<rect x=\"36.0mm\" y=\"0.0mm\"\n",
       "      width=\"1.8mm\" height=\"23.999999999999996mm\"\n",
       "      fill=\"#A1B684\" stroke=\"none\" />\n",
       "<rect x=\"37.800000000000004mm\" y=\"0.0mm\"\n",
       "      width=\"1.8mm\" height=\"23.999999999999996mm\"\n",
       "      fill=\"#605051\" stroke=\"none\" />\n",
       "<rect x=\"39.6mm\" y=\"0.0mm\"\n",
       "      width=\"1.8mm\" height=\"23.999999999999996mm\"\n",
       "      fill=\"#C129E2\" stroke=\"none\" />\n",
       "<rect x=\"41.4mm\" y=\"0.0mm\"\n",
       "      width=\"1.8mm\" height=\"23.999999999999996mm\"\n",
       "      fill=\"#FF8E1E\" stroke=\"none\" />\n",
       "<rect x=\"43.2mm\" y=\"0.0mm\"\n",
       "      width=\"1.8mm\" height=\"23.999999999999996mm\"\n",
       "      fill=\"#003F51\" stroke=\"none\" />\n",
       "<rect x=\"45.0mm\" y=\"0.0mm\"\n",
       "      width=\"1.8mm\" height=\"23.999999999999996mm\"\n",
       "      fill=\"#797860\" stroke=\"none\" />\n",
       "<rect x=\"46.800000000000004mm\" y=\"0.0mm\"\n",
       "      width=\"1.8mm\" height=\"23.999999999999996mm\"\n",
       "      fill=\"#2E001C\" stroke=\"none\" />\n",
       "<rect x=\"48.6mm\" y=\"0.0mm\"\n",
       "      width=\"1.8mm\" height=\"23.999999999999996mm\"\n",
       "      fill=\"#01AF99\" stroke=\"none\" />\n",
       "<rect x=\"50.4mm\" y=\"0.0mm\"\n",
       "      width=\"1.8mm\" height=\"23.999999999999996mm\"\n",
       "      fill=\"#FFE6FF\" stroke=\"none\" />\n",
       "<rect x=\"52.2mm\" y=\"0.0mm\"\n",
       "      width=\"1.8mm\" height=\"23.999999999999996mm\"\n",
       "      fill=\"#77DA00\" stroke=\"none\" />\n",
       "<rect x=\"54.0mm\" y=\"0.0mm\"\n",
       "      width=\"1.8mm\" height=\"23.999999999999996mm\"\n",
       "      fill=\"#5B4B83\" stroke=\"none\" />\n",
       "<rect x=\"55.800000000000004mm\" y=\"0.0mm\"\n",
       "      width=\"1.8mm\" height=\"23.999999999999996mm\"\n",
       "      fill=\"#0094CF\" stroke=\"none\" />\n",
       "<rect x=\"57.6mm\" y=\"0.0mm\"\n",
       "      width=\"1.8mm\" height=\"23.999999999999996mm\"\n",
       "      fill=\"#B8739F\" stroke=\"none\" />\n",
       "<rect x=\"59.4mm\" y=\"0.0mm\"\n",
       "      width=\"1.8mm\" height=\"23.999999999999996mm\"\n",
       "      fill=\"#FF8269\" stroke=\"none\" />\n",
       "<rect x=\"61.2mm\" y=\"0.0mm\"\n",
       "      width=\"1.8mm\" height=\"23.999999999999996mm\"\n",
       "      fill=\"#FFBE05\" stroke=\"none\" />\n",
       "<rect x=\"63.0mm\" y=\"0.0mm\"\n",
       "      width=\"1.8mm\" height=\"23.999999999999996mm\"\n",
       "      fill=\"#C20030\" stroke=\"none\" />\n",
       "<rect x=\"64.8mm\" y=\"0.0mm\"\n",
       "      width=\"1.8mm\" height=\"23.999999999999996mm\"\n",
       "      fill=\"#A9806C\" stroke=\"none\" />\n",
       "<rect x=\"66.60000000000001mm\" y=\"0.0mm\"\n",
       "      width=\"1.8mm\" height=\"23.999999999999996mm\"\n",
       "      fill=\"#955600\" stroke=\"none\" />\n",
       "<rect x=\"68.4mm\" y=\"0.0mm\"\n",
       "      width=\"1.8mm\" height=\"23.999999999999996mm\"\n",
       "      fill=\"#9FB3B2\" stroke=\"none\" />\n",
       "<rect x=\"70.2mm\" y=\"0.0mm\"\n",
       "      width=\"1.8mm\" height=\"23.999999999999996mm\"\n",
       "      fill=\"#789500\" stroke=\"none\" />\n",
       "<rect x=\"72.0mm\" y=\"0.0mm\"\n",
       "      width=\"1.8mm\" height=\"23.999999999999996mm\"\n",
       "      fill=\"#FF9BB1\" stroke=\"none\" />\n",
       "<rect x=\"73.8mm\" y=\"0.0mm\"\n",
       "      width=\"1.8mm\" height=\"23.999999999999996mm\"\n",
       "      fill=\"#A8FFFD\" stroke=\"none\" />\n",
       "<rect x=\"75.60000000000001mm\" y=\"0.0mm\"\n",
       "      width=\"1.8mm\" height=\"23.999999999999996mm\"\n",
       "      fill=\"#2023C8\" stroke=\"none\" />\n",
       "<rect x=\"77.4mm\" y=\"0.0mm\"\n",
       "      width=\"1.8mm\" height=\"23.999999999999996mm\"\n",
       "      fill=\"#937BD2\" stroke=\"none\" />\n",
       "<rect x=\"79.2mm\" y=\"0.0mm\"\n",
       "      width=\"1.8mm\" height=\"23.999999999999996mm\"\n",
       "      fill=\"#FFE8B4\" stroke=\"none\" />\n",
       "<rect x=\"81.0mm\" y=\"0.0mm\"\n",
       "      width=\"1.8mm\" height=\"23.999999999999996mm\"\n",
       "      fill=\"#4A5750\" stroke=\"none\" />\n",
       "<rect x=\"82.8mm\" y=\"0.0mm\"\n",
       "      width=\"1.8mm\" height=\"23.999999999999996mm\"\n",
       "      fill=\"#636B05\" stroke=\"none\" />\n",
       "<rect x=\"84.60000000000001mm\" y=\"0.0mm\"\n",
       "      width=\"1.8mm\" height=\"23.999999999999996mm\"\n",
       "      fill=\"#2C1300\" stroke=\"none\" />\n",
       "<rect x=\"86.4mm\" y=\"0.0mm\"\n",
       "      width=\"1.8mm\" height=\"23.999999999999996mm\"\n",
       "      fill=\"#00BC62\" stroke=\"none\" />\n",
       "<rect x=\"88.2mm\" y=\"0.0mm\"\n",
       "      width=\"1.8mm\" height=\"23.999999999999996mm\"\n",
       "      fill=\"#CFE6FF\" stroke=\"none\" />\n",
       "<rect x=\"90.0mm\" y=\"0.0mm\"\n",
       "      width=\"1.8mm\" height=\"23.999999999999996mm\"\n",
       "      fill=\"#915266\" stroke=\"none\" />\n",
       "<rect x=\"91.8mm\" y=\"0.0mm\"\n",
       "      width=\"1.8mm\" height=\"23.999999999999996mm\"\n",
       "      fill=\"#C9F6C9\" stroke=\"none\" />\n",
       "<rect x=\"93.60000000000001mm\" y=\"0.0mm\"\n",
       "      width=\"1.8mm\" height=\"23.999999999999996mm\"\n",
       "      fill=\"#B6A9CF\" stroke=\"none\" />\n",
       "<rect x=\"95.4mm\" y=\"0.0mm\"\n",
       "      width=\"1.8mm\" height=\"23.999999999999996mm\"\n",
       "      fill=\"#2E3248\" stroke=\"none\" />\n",
       "<rect x=\"97.2mm\" y=\"0.0mm\"\n",
       "      width=\"1.8mm\" height=\"23.999999999999996mm\"\n",
       "      fill=\"#BBACA5\" stroke=\"none\" />\n",
       "<rect x=\"99.0mm\" y=\"0.0mm\"\n",
       "      width=\"1.8mm\" height=\"23.999999999999996mm\"\n",
       "      fill=\"#006B50\" stroke=\"none\" />\n",
       "<rect x=\"100.8mm\" y=\"0.0mm\"\n",
       "      width=\"1.8mm\" height=\"23.999999999999996mm\"\n",
       "      fill=\"#383329\" stroke=\"none\" />\n",
       "<rect x=\"102.60000000000001mm\" y=\"0.0mm\"\n",
       "      width=\"1.8mm\" height=\"23.999999999999996mm\"\n",
       "      fill=\"#C5AD6D\" stroke=\"none\" />\n",
       "<rect x=\"104.4mm\" y=\"0.0mm\"\n",
       "      width=\"1.8mm\" height=\"23.999999999999996mm\"\n",
       "      fill=\"#005500\" stroke=\"none\" />\n",
       "<rect x=\"106.2mm\" y=\"0.0mm\"\n",
       "      width=\"1.8mm\" height=\"23.999999999999996mm\"\n",
       "      fill=\"#687A7E\" stroke=\"none\" />\n",
       "<rect x=\"108.0mm\" y=\"0.0mm\"\n",
       "      width=\"1.8mm\" height=\"23.999999999999996mm\"\n",
       "      fill=\"#FF4ED2\" stroke=\"none\" />\n",
       "<rect x=\"109.8mm\" y=\"0.0mm\"\n",
       "      width=\"1.8mm\" height=\"23.999999999999996mm\"\n",
       "      fill=\"#9A2F00\" stroke=\"none\" />\n",
       "<rect x=\"111.60000000000001mm\" y=\"0.0mm\"\n",
       "      width=\"1.8mm\" height=\"23.999999999999996mm\"\n",
       "      fill=\"#501D5B\" stroke=\"none\" />\n",
       "<rect x=\"113.4mm\" y=\"0.0mm\"\n",
       "      width=\"1.8mm\" height=\"23.999999999999996mm\"\n",
       "      fill=\"#0E1A00\" stroke=\"none\" />\n",
       "<rect x=\"115.2mm\" y=\"0.0mm\"\n",
       "      width=\"1.8mm\" height=\"23.999999999999996mm\"\n",
       "      fill=\"#0B001F\" stroke=\"none\" />\n",
       "<rect x=\"117.0mm\" y=\"0.0mm\"\n",
       "      width=\"1.8mm\" height=\"23.999999999999996mm\"\n",
       "      fill=\"#49A9B8\" stroke=\"none\" />\n",
       "<rect x=\"118.8mm\" y=\"0.0mm\"\n",
       "      width=\"1.8mm\" height=\"23.999999999999996mm\"\n",
       "      fill=\"#8200A5\" stroke=\"none\" />\n",
       "<rect x=\"120.60000000000001mm\" y=\"0.0mm\"\n",
       "      width=\"1.8mm\" height=\"23.999999999999996mm\"\n",
       "      fill=\"#609663\" stroke=\"none\" />\n",
       "<rect x=\"122.4mm\" y=\"0.0mm\"\n",
       "      width=\"1.8mm\" height=\"23.999999999999996mm\"\n",
       "      fill=\"#00397F\" stroke=\"none\" />\n",
       "<rect x=\"124.2mm\" y=\"0.0mm\"\n",
       "      width=\"1.8mm\" height=\"23.999999999999996mm\"\n",
       "      fill=\"#8E0037\" stroke=\"none\" />\n",
       "<rect x=\"126.0mm\" y=\"0.0mm\"\n",
       "      width=\"1.8mm\" height=\"23.999999999999996mm\"\n",
       "      fill=\"#643820\" stroke=\"none\" />\n",
       "<rect x=\"127.8mm\" y=\"0.0mm\"\n",
       "      width=\"1.8mm\" height=\"23.999999999999996mm\"\n",
       "      fill=\"#7558FF\" stroke=\"none\" />\n",
       "<rect x=\"129.6mm\" y=\"0.0mm\"\n",
       "      width=\"1.8mm\" height=\"23.999999999999996mm\"\n",
       "      fill=\"#006787\" stroke=\"none\" />\n",
       "<rect x=\"131.4mm\" y=\"0.0mm\"\n",
       "      width=\"1.8mm\" height=\"23.999999999999996mm\"\n",
       "      fill=\"#B75D4E\" stroke=\"none\" />\n",
       "<rect x=\"133.20000000000002mm\" y=\"0.0mm\"\n",
       "      width=\"1.8mm\" height=\"23.999999999999996mm\"\n",
       "      fill=\"#C3C958\" stroke=\"none\" />\n",
       "<rect x=\"135.0mm\" y=\"0.0mm\"\n",
       "      width=\"1.8mm\" height=\"23.999999999999996mm\"\n",
       "      fill=\"#D00068\" stroke=\"none\" />\n",
       "<rect x=\"136.8mm\" y=\"0.0mm\"\n",
       "      width=\"1.8mm\" height=\"23.999999999999996mm\"\n",
       "      fill=\"#51272B\" stroke=\"none\" />\n",
       "<rect x=\"138.6mm\" y=\"0.0mm\"\n",
       "      width=\"1.8mm\" height=\"23.999999999999996mm\"\n",
       "      fill=\"#7B6044\" stroke=\"none\" />\n",
       "<rect x=\"140.4mm\" y=\"0.0mm\"\n",
       "      width=\"1.8mm\" height=\"23.999999999999996mm\"\n",
       "      fill=\"#2E3A00\" stroke=\"none\" />\n",
       "<rect x=\"142.20000000000002mm\" y=\"0.0mm\"\n",
       "      width=\"1.8mm\" height=\"23.999999999999996mm\"\n",
       "      fill=\"#7AFF8B\" stroke=\"none\" />\n",
       "<rect x=\"144.0mm\" y=\"0.0mm\"\n",
       "      width=\"1.8mm\" height=\"23.999999999999996mm\"\n",
       "      fill=\"#4F85F6\" stroke=\"none\" />\n",
       "<rect x=\"145.8mm\" y=\"0.0mm\"\n",
       "      width=\"1.8mm\" height=\"23.999999999999996mm\"\n",
       "      fill=\"#C47800\" stroke=\"none\" />\n",
       "<rect x=\"147.6mm\" y=\"0.0mm\"\n",
       "      width=\"1.8mm\" height=\"23.999999999999996mm\"\n",
       "      fill=\"#B5939C\" stroke=\"none\" />\n",
       "<rect x=\"149.4mm\" y=\"0.0mm\"\n",
       "      width=\"1.8mm\" height=\"23.999999999999996mm\"\n",
       "      fill=\"#60647C\" stroke=\"none\" />\n",
       "<rect x=\"151.20000000000002mm\" y=\"0.0mm\"\n",
       "      width=\"1.8mm\" height=\"23.999999999999996mm\"\n",
       "      fill=\"#20D8D8\" stroke=\"none\" />\n",
       "<rect x=\"153.0mm\" y=\"0.0mm\"\n",
       "      width=\"1.8mm\" height=\"23.999999999999996mm\"\n",
       "      fill=\"#001B2C\" stroke=\"none\" />\n",
       "<rect x=\"154.8mm\" y=\"0.0mm\"\n",
       "      width=\"1.8mm\" height=\"23.999999999999996mm\"\n",
       "      fill=\"#002726\" stroke=\"none\" />\n",
       "<rect x=\"156.6mm\" y=\"0.0mm\"\n",
       "      width=\"1.8mm\" height=\"23.999999999999996mm\"\n",
       "      fill=\"#F8E7E0\" stroke=\"none\" />\n",
       "<rect x=\"158.4mm\" y=\"0.0mm\"\n",
       "      width=\"1.8mm\" height=\"23.999999999999996mm\"\n",
       "      fill=\"#7E6200\" stroke=\"none\" />\n",
       "<rect x=\"160.20000000000002mm\" y=\"0.0mm\"\n",
       "      width=\"1.8mm\" height=\"23.999999999999996mm\"\n",
       "      fill=\"#185D5D\" stroke=\"none\" />\n",
       "<rect x=\"162.0mm\" y=\"0.0mm\"\n",
       "      width=\"1.8mm\" height=\"23.999999999999996mm\"\n",
       "      fill=\"#008B74\" stroke=\"none\" />\n",
       "<rect x=\"163.8mm\" y=\"0.0mm\"\n",
       "      width=\"1.8mm\" height=\"23.999999999999996mm\"\n",
       "      fill=\"#FF3F37\" stroke=\"none\" />\n",
       "<rect x=\"165.6mm\" y=\"0.0mm\"\n",
       "      width=\"1.8mm\" height=\"23.999999999999996mm\"\n",
       "      fill=\"#BC9EFF\" stroke=\"none\" />\n",
       "<rect x=\"167.4mm\" y=\"0.0mm\"\n",
       "      width=\"1.8mm\" height=\"23.999999999999996mm\"\n",
       "      fill=\"#82746D\" stroke=\"none\" />\n",
       "<rect x=\"169.20000000000002mm\" y=\"0.0mm\"\n",
       "      width=\"1.8mm\" height=\"23.999999999999996mm\"\n",
       "      fill=\"#555633\" stroke=\"none\" />\n",
       "<rect x=\"171.0mm\" y=\"0.0mm\"\n",
       "      width=\"1.8mm\" height=\"23.999999999999996mm\"\n",
       "      fill=\"#54BDFF\" stroke=\"none\" />\n",
       "<rect x=\"172.8mm\" y=\"0.0mm\"\n",
       "      width=\"1.8mm\" height=\"23.999999999999996mm\"\n",
       "      fill=\"#CD38A2\" stroke=\"none\" />\n",
       "<rect x=\"174.6mm\" y=\"0.0mm\"\n",
       "      width=\"1.8mm\" height=\"23.999999999999996mm\"\n",
       "      fill=\"#81D3AC\" stroke=\"none\" />\n",
       "<rect x=\"176.4mm\" y=\"0.0mm\"\n",
       "      width=\"1.8mm\" height=\"23.999999999999996mm\"\n",
       "      fill=\"#8A6F80\" stroke=\"none\" />\n",
       "<rect x=\"178.20000000000002mm\" y=\"0.0mm\"\n",
       "      width=\"1.8mm\" height=\"23.999999999999996mm\"\n",
       "      fill=\"#F7B66A\" stroke=\"none\" />\n",
       "</svg>"
      ],
      "text/plain": [
       "100-element Array{RGB{N0f8},1} with eltype RGB{FixedPointNumbers.Normed{UInt8,8}}:\n",
       " RGB{N0f8}(0.0,0.0,0.0)      \n",
       " RGB{N0f8}(1.0,1.0,0.384)    \n",
       " RGB{N0f8}(1.0,0.624,1.0)    \n",
       " RGB{N0f8}(0.0,0.839,1.0)    \n",
       " RGB{N0f8}(0.843,0.267,0.0)  \n",
       " RGB{N0f8}(0.0,0.502,0.161)  \n",
       " RGB{N0f8}(0.0,0.373,0.835)  \n",
       " RGB{N0f8}(0.576,0.0,0.408)  \n",
       " RGB{N0f8}(1.0,0.796,0.71)   \n",
       " RGB{N0f8}(0.655,0.525,0.0)  \n",
       " RGB{N0f8}(0.0,1.0,0.773)    \n",
       " RGB{N0f8}(0.0,0.494,0.525)  \n",
       " RGB{N0f8}(0.325,0.259,0.0)  \n",
       " ⋮                           \n",
       " RGB{N0f8}(0.494,0.384,0.0)  \n",
       " RGB{N0f8}(0.094,0.365,0.365)\n",
       " RGB{N0f8}(0.0,0.545,0.455)  \n",
       " RGB{N0f8}(1.0,0.247,0.216)  \n",
       " RGB{N0f8}(0.737,0.62,1.0)   \n",
       " RGB{N0f8}(0.51,0.455,0.427) \n",
       " RGB{N0f8}(0.333,0.337,0.2)  \n",
       " RGB{N0f8}(0.329,0.741,1.0)  \n",
       " RGB{N0f8}(0.804,0.22,0.635) \n",
       " RGB{N0f8}(0.506,0.827,0.675)\n",
       " RGB{N0f8}(0.541,0.435,0.502)\n",
       " RGB{N0f8}(0.969,0.714,0.416)"
      ]
     },
     "execution_count": 16,
     "metadata": {},
     "output_type": "execute_result"
    }
   ],
   "source": [
    "palette = distinguishable_colors(100)"
   ]
  },
  {
   "cell_type": "code",
   "execution_count": 18,
   "metadata": {},
   "outputs": [
    {
     "data": {
      "image/svg+xml": [
       "<?xml version=\"1.0\" encoding=\"UTF-8\"?>\n",
       "<!DOCTYPE svg PUBLIC \"-//W3C//DTD SVG 1.1//EN\"\n",
       " \"http://www.w3.org/Graphics/SVG/1.1/DTD/svg11.dtd\">\n",
       "<svg xmlns=\"http://www.w3.org/2000/svg\" version=\"1.1\"\n",
       "     width=\"75.0mm\" height=\"75.0mm\"\n",
       "     shape-rendering=\"crispEdges\">\n",
       "<rect x=\"0.0mm\" y=\"0.0mm\"\n",
       "      width=\"24.0mm\" height=\"24.0mm\"\n",
       "      fill=\"#797860\" stroke=\"none\" />\n",
       "<rect x=\"25.0mm\" y=\"0.0mm\"\n",
       "      width=\"24.0mm\" height=\"24.0mm\"\n",
       "      fill=\"#CFE6FF\" stroke=\"none\" />\n",
       "<rect x=\"50.0mm\" y=\"0.0mm\"\n",
       "      width=\"24.0mm\" height=\"24.0mm\"\n",
       "      fill=\"#7B6044\" stroke=\"none\" />\n",
       "<rect x=\"0.0mm\" y=\"25.0mm\"\n",
       "      width=\"24.0mm\" height=\"24.0mm\"\n",
       "      fill=\"#0094CF\" stroke=\"none\" />\n",
       "<rect x=\"25.0mm\" y=\"25.0mm\"\n",
       "      width=\"24.0mm\" height=\"24.0mm\"\n",
       "      fill=\"#609663\" stroke=\"none\" />\n",
       "<rect x=\"50.0mm\" y=\"25.0mm\"\n",
       "      width=\"24.0mm\" height=\"24.0mm\"\n",
       "      fill=\"#FF2C6F\" stroke=\"none\" />\n",
       "<rect x=\"0.0mm\" y=\"50.0mm\"\n",
       "      width=\"24.0mm\" height=\"24.0mm\"\n",
       "      fill=\"#F8E7E0\" stroke=\"none\" />\n",
       "<rect x=\"25.0mm\" y=\"50.0mm\"\n",
       "      width=\"24.0mm\" height=\"24.0mm\"\n",
       "      fill=\"#0B001F\" stroke=\"none\" />\n",
       "<rect x=\"50.0mm\" y=\"50.0mm\"\n",
       "      width=\"24.0mm\" height=\"24.0mm\"\n",
       "      fill=\"#9A2F00\" stroke=\"none\" />\n",
       "</svg>"
      ],
      "text/plain": [
       "3×3 Array{RGB{N0f8},2} with eltype RGB{FixedPointNumbers.Normed{UInt8,8}}:\n",
       " RGB{N0f8}(0.475,0.471,0.376)  …  RGB{N0f8}(0.482,0.376,0.267)\n",
       " RGB{N0f8}(0.0,0.58,0.812)        RGB{N0f8}(1.0,0.173,0.435)  \n",
       " RGB{N0f8}(0.973,0.906,0.878)     RGB{N0f8}(0.604,0.184,0.0)  "
      ]
     },
     "execution_count": 18,
     "metadata": {},
     "output_type": "execute_result"
    }
   ],
   "source": [
    "rand(palette, 3, 3)"
   ]
  },
  {
   "cell_type": "markdown",
   "metadata": {},
   "source": [
    "---\n",
    "08 plotting"
   ]
  },
  {
   "cell_type": "code",
   "execution_count": 20,
   "metadata": {},
   "outputs": [
    {
     "name": "stdout",
     "output_type": "stream",
     "text": [
      "\u001b[32m\u001b[1m Resolving\u001b[22m\u001b[39m package versions...\n",
      "\u001b[32m\u001b[1m Installed\u001b[22m\u001b[39m NaNMath ─────────── v0.3.2\n",
      "\u001b[32m\u001b[1m Installed\u001b[22m\u001b[39m SortingAlgorithms ─ v0.3.1\n",
      "\u001b[32m\u001b[1m Installed\u001b[22m\u001b[39m PlotThemes ──────── v0.3.0\n",
      "\u001b[32m\u001b[1m Installed\u001b[22m\u001b[39m Showoff ─────────── v0.2.1\n",
      "\u001b[32m\u001b[1m Installed\u001b[22m\u001b[39m DataStructures ──── v0.15.0\n",
      "\u001b[32m\u001b[1m Installed\u001b[22m\u001b[39m StaticArrays ────── v0.10.2\n",
      "\u001b[32m\u001b[1m Installed\u001b[22m\u001b[39m PlotUtils ───────── v0.5.5\n",
      "\u001b[32m\u001b[1m Installed\u001b[22m\u001b[39m Plots ───────────── v0.23.0\n",
      "\u001b[32m\u001b[1m Installed\u001b[22m\u001b[39m RecipesBase ─────── v0.6.0\n",
      "\u001b[32m\u001b[1m Installed\u001b[22m\u001b[39m Missings ────────── v0.4.0\n",
      "\u001b[32m\u001b[1m Installed\u001b[22m\u001b[39m StatsBase ───────── v0.27.0\n",
      "\u001b[32m\u001b[1m Installed\u001b[22m\u001b[39m Measures ────────── v0.3.0\n",
      "\u001b[32m\u001b[1m Installed\u001b[22m\u001b[39m Contour ─────────── v0.5.1\n",
      "\u001b[32m\u001b[1m Installed\u001b[22m\u001b[39m GR ──────────────── v0.37.0\n",
      "\u001b[32m\u001b[1m  Updating\u001b[22m\u001b[39m `~/.julia/environments/v1.1/Project.toml`\n",
      " \u001b[90m [91a5bcdd]\u001b[39m\u001b[92m + Plots v0.23.0\u001b[39m\n",
      "\u001b[32m\u001b[1m  Updating\u001b[22m\u001b[39m `~/.julia/environments/v1.1/Manifest.toml`\n",
      " \u001b[90m [d38c429a]\u001b[39m\u001b[92m + Contour v0.5.1\u001b[39m\n",
      " \u001b[90m [864edb3b]\u001b[39m\u001b[92m + DataStructures v0.15.0\u001b[39m\n",
      " \u001b[90m [28b8d3ca]\u001b[39m\u001b[92m + GR v0.37.0\u001b[39m\n",
      " \u001b[90m [442fdcdd]\u001b[39m\u001b[92m + Measures v0.3.0\u001b[39m\n",
      " \u001b[90m [e1d29d7a]\u001b[39m\u001b[92m + Missings v0.4.0\u001b[39m\n",
      " \u001b[90m [77ba4419]\u001b[39m\u001b[92m + NaNMath v0.3.2\u001b[39m\n",
      " \u001b[90m [ccf2f8ad]\u001b[39m\u001b[92m + PlotThemes v0.3.0\u001b[39m\n",
      " \u001b[90m [995b91a9]\u001b[39m\u001b[92m + PlotUtils v0.5.5\u001b[39m\n",
      " \u001b[90m [91a5bcdd]\u001b[39m\u001b[92m + Plots v0.23.0\u001b[39m\n",
      " \u001b[90m [3cdcf5f2]\u001b[39m\u001b[92m + RecipesBase v0.6.0\u001b[39m\n",
      " \u001b[90m [992d4aef]\u001b[39m\u001b[92m + Showoff v0.2.1\u001b[39m\n",
      " \u001b[90m [a2af1166]\u001b[39m\u001b[92m + SortingAlgorithms v0.3.1\u001b[39m\n",
      " \u001b[90m [90137ffa]\u001b[39m\u001b[92m + StaticArrays v0.10.2\u001b[39m\n",
      " \u001b[90m [2913bbd2]\u001b[39m\u001b[92m + StatsBase v0.27.0\u001b[39m\n",
      "\u001b[32m\u001b[1m  Building\u001b[22m\u001b[39m GR ───→ `~/.julia/packages/GR/shnUy/deps/build.log`\n",
      "\u001b[32m\u001b[1m  Building\u001b[22m\u001b[39m Plots → `~/.julia/packages/Plots/UQI78/deps/build.log`\n"
     ]
    }
   ],
   "source": [
    "using Pkg\n",
    "Pkg.add(\"Plots\")"
   ]
  },
  {
   "cell_type": "code",
   "execution_count": 1,
   "metadata": {},
   "outputs": [],
   "source": [
    "using Plots"
   ]
  },
  {
   "cell_type": "code",
   "execution_count": 3,
   "metadata": {},
   "outputs": [],
   "source": [
    "globaltemperatures = [14.4, 14.5, 14.8, 15.2, 15.5, 15.8]\n",
    "numpirates = [45000, 20000, 15000, 5000, 400, 17];"
   ]
  },
  {
   "cell_type": "code",
   "execution_count": 32,
   "metadata": {},
   "outputs": [
    {
     "data": {
      "text/plain": [
       "Plots.GRBackend()"
      ]
     },
     "execution_count": 32,
     "metadata": {},
     "output_type": "execute_result"
    }
   ],
   "source": [
    "gr()"
   ]
  },
  {
   "cell_type": "code",
   "execution_count": 33,
   "metadata": {},
   "outputs": [
    {
     "data": {
      "image/svg+xml": [
       "<?xml version=\"1.0\" encoding=\"utf-8\"?>\n",
       "<svg xmlns=\"http://www.w3.org/2000/svg\" xmlns:xlink=\"http://www.w3.org/1999/xlink\" width=\"600\" height=\"400\" viewBox=\"0 0 2400 1600\">\n",
       "<defs>\n",
       "  <clipPath id=\"clip4500\">\n",
       "    <rect x=\"0\" y=\"0\" width=\"2000\" height=\"2000\"/>\n",
       "  </clipPath>\n",
       "</defs>\n",
       "<defs>\n",
       "  <clipPath id=\"clip4501\">\n",
       "    <rect x=\"0\" y=\"0\" width=\"2400\" height=\"1600\"/>\n",
       "  </clipPath>\n",
       "</defs>\n",
       "<polygon clip-path=\"url(#clip4501)\" points=\"\n",
       "0,1600 2400,1600 2400,0 0,0 \n",
       "  \" fill=\"#ffffff\" fill-rule=\"evenodd\" fill-opacity=\"1\"/>\n",
       "<defs>\n",
       "  <clipPath id=\"clip4502\">\n",
       "    <rect x=\"480\" y=\"0\" width=\"1681\" height=\"1600\"/>\n",
       "  </clipPath>\n",
       "</defs>\n",
       "<polygon clip-path=\"url(#clip4501)\" points=\"\n",
       "214.919,1503.47 2321.26,1503.47 2321.26,47.2441 214.919,47.2441 \n",
       "  \" fill=\"#ffffff\" fill-rule=\"evenodd\" fill-opacity=\"1\"/>\n",
       "<defs>\n",
       "  <clipPath id=\"clip4503\">\n",
       "    <rect x=\"214\" y=\"47\" width=\"2107\" height=\"1457\"/>\n",
       "  </clipPath>\n",
       "</defs>\n",
       "<polyline clip-path=\"url(#clip4503)\" style=\"stroke:#000000; stroke-width:2; stroke-opacity:0.1; fill:none\" points=\"\n",
       "  273.781,1503.47 273.781,47.2441 \n",
       "  \"/>\n",
       "<polyline clip-path=\"url(#clip4503)\" style=\"stroke:#000000; stroke-width:2; stroke-opacity:0.1; fill:none\" points=\"\n",
       "  715.529,1503.47 715.529,47.2441 \n",
       "  \"/>\n",
       "<polyline clip-path=\"url(#clip4503)\" style=\"stroke:#000000; stroke-width:2; stroke-opacity:0.1; fill:none\" points=\"\n",
       "  1157.28,1503.47 1157.28,47.2441 \n",
       "  \"/>\n",
       "<polyline clip-path=\"url(#clip4503)\" style=\"stroke:#000000; stroke-width:2; stroke-opacity:0.1; fill:none\" points=\"\n",
       "  1599.02,1503.47 1599.02,47.2441 \n",
       "  \"/>\n",
       "<polyline clip-path=\"url(#clip4503)\" style=\"stroke:#000000; stroke-width:2; stroke-opacity:0.1; fill:none\" points=\"\n",
       "  2040.77,1503.47 2040.77,47.2441 \n",
       "  \"/>\n",
       "<polyline clip-path=\"url(#clip4503)\" style=\"stroke:#000000; stroke-width:2; stroke-opacity:0.1; fill:none\" points=\"\n",
       "  214.919,1364.13 2321.26,1364.13 \n",
       "  \"/>\n",
       "<polyline clip-path=\"url(#clip4503)\" style=\"stroke:#000000; stroke-width:2; stroke-opacity:0.1; fill:none\" points=\"\n",
       "  214.919,1118.81 2321.26,1118.81 \n",
       "  \"/>\n",
       "<polyline clip-path=\"url(#clip4503)\" style=\"stroke:#000000; stroke-width:2; stroke-opacity:0.1; fill:none\" points=\"\n",
       "  214.919,873.488 2321.26,873.488 \n",
       "  \"/>\n",
       "<polyline clip-path=\"url(#clip4503)\" style=\"stroke:#000000; stroke-width:2; stroke-opacity:0.1; fill:none\" points=\"\n",
       "  214.919,628.166 2321.26,628.166 \n",
       "  \"/>\n",
       "<polyline clip-path=\"url(#clip4503)\" style=\"stroke:#000000; stroke-width:2; stroke-opacity:0.1; fill:none\" points=\"\n",
       "  214.919,382.844 2321.26,382.844 \n",
       "  \"/>\n",
       "<polyline clip-path=\"url(#clip4503)\" style=\"stroke:#000000; stroke-width:2; stroke-opacity:0.1; fill:none\" points=\"\n",
       "  214.919,137.523 2321.26,137.523 \n",
       "  \"/>\n",
       "<polyline clip-path=\"url(#clip4501)\" style=\"stroke:#000000; stroke-width:4; stroke-opacity:1; fill:none\" points=\"\n",
       "  214.919,1503.47 2321.26,1503.47 \n",
       "  \"/>\n",
       "<polyline clip-path=\"url(#clip4501)\" style=\"stroke:#000000; stroke-width:4; stroke-opacity:1; fill:none\" points=\"\n",
       "  214.919,1503.47 214.919,47.2441 \n",
       "  \"/>\n",
       "<polyline clip-path=\"url(#clip4501)\" style=\"stroke:#000000; stroke-width:4; stroke-opacity:1; fill:none\" points=\"\n",
       "  273.781,1503.47 273.781,1481.63 \n",
       "  \"/>\n",
       "<polyline clip-path=\"url(#clip4501)\" style=\"stroke:#000000; stroke-width:4; stroke-opacity:1; fill:none\" points=\"\n",
       "  715.529,1503.47 715.529,1481.63 \n",
       "  \"/>\n",
       "<polyline clip-path=\"url(#clip4501)\" style=\"stroke:#000000; stroke-width:4; stroke-opacity:1; fill:none\" points=\"\n",
       "  1157.28,1503.47 1157.28,1481.63 \n",
       "  \"/>\n",
       "<polyline clip-path=\"url(#clip4501)\" style=\"stroke:#000000; stroke-width:4; stroke-opacity:1; fill:none\" points=\"\n",
       "  1599.02,1503.47 1599.02,1481.63 \n",
       "  \"/>\n",
       "<polyline clip-path=\"url(#clip4501)\" style=\"stroke:#000000; stroke-width:4; stroke-opacity:1; fill:none\" points=\"\n",
       "  2040.77,1503.47 2040.77,1481.63 \n",
       "  \"/>\n",
       "<polyline clip-path=\"url(#clip4501)\" style=\"stroke:#000000; stroke-width:4; stroke-opacity:1; fill:none\" points=\"\n",
       "  214.919,1364.13 246.514,1364.13 \n",
       "  \"/>\n",
       "<polyline clip-path=\"url(#clip4501)\" style=\"stroke:#000000; stroke-width:4; stroke-opacity:1; fill:none\" points=\"\n",
       "  214.919,1118.81 246.514,1118.81 \n",
       "  \"/>\n",
       "<polyline clip-path=\"url(#clip4501)\" style=\"stroke:#000000; stroke-width:4; stroke-opacity:1; fill:none\" points=\"\n",
       "  214.919,873.488 246.514,873.488 \n",
       "  \"/>\n",
       "<polyline clip-path=\"url(#clip4501)\" style=\"stroke:#000000; stroke-width:4; stroke-opacity:1; fill:none\" points=\"\n",
       "  214.919,628.166 246.514,628.166 \n",
       "  \"/>\n",
       "<polyline clip-path=\"url(#clip4501)\" style=\"stroke:#000000; stroke-width:4; stroke-opacity:1; fill:none\" points=\"\n",
       "  214.919,382.844 246.514,382.844 \n",
       "  \"/>\n",
       "<polyline clip-path=\"url(#clip4501)\" style=\"stroke:#000000; stroke-width:4; stroke-opacity:1; fill:none\" points=\"\n",
       "  214.919,137.523 246.514,137.523 \n",
       "  \"/>\n",
       "<g clip-path=\"url(#clip4501)\">\n",
       "<text style=\"fill:#000000; fill-opacity:1; font-family:Arial,Helvetica Neue,Helvetica,sans-serif; font-size:48px; text-anchor:middle;\" transform=\"rotate(0, 273.781, 1557.47)\" x=\"273.781\" y=\"1557.47\">0</text>\n",
       "</g>\n",
       "<g clip-path=\"url(#clip4501)\">\n",
       "<text style=\"fill:#000000; fill-opacity:1; font-family:Arial,Helvetica Neue,Helvetica,sans-serif; font-size:48px; text-anchor:start;\" transform=\"rotate(0, 650.458, 1578.48)\" x=\"650.458\" y=\"1578.48\">1×10</text>\n",
       "</g>\n",
       "<g clip-path=\"url(#clip4501)\">\n",
       "<text style=\"fill:#000000; fill-opacity:1; font-family:Arial,Helvetica Neue,Helvetica,sans-serif; font-size:38px; text-anchor:start;\" transform=\"rotate(0, 758.855, 1551.07)\" x=\"758.855\" y=\"1551.07\">4</text>\n",
       "</g>\n",
       "<g clip-path=\"url(#clip4501)\">\n",
       "<text style=\"fill:#000000; fill-opacity:1; font-family:Arial,Helvetica Neue,Helvetica,sans-serif; font-size:48px; text-anchor:start;\" transform=\"rotate(0, 1092.21, 1578.48)\" x=\"1092.21\" y=\"1578.48\">2×10</text>\n",
       "</g>\n",
       "<g clip-path=\"url(#clip4501)\">\n",
       "<text style=\"fill:#000000; fill-opacity:1; font-family:Arial,Helvetica Neue,Helvetica,sans-serif; font-size:38px; text-anchor:start;\" transform=\"rotate(0, 1200.6, 1551.07)\" x=\"1200.6\" y=\"1551.07\">4</text>\n",
       "</g>\n",
       "<g clip-path=\"url(#clip4501)\">\n",
       "<text style=\"fill:#000000; fill-opacity:1; font-family:Arial,Helvetica Neue,Helvetica,sans-serif; font-size:48px; text-anchor:start;\" transform=\"rotate(0, 1533.95, 1578.48)\" x=\"1533.95\" y=\"1578.48\">3×10</text>\n",
       "</g>\n",
       "<g clip-path=\"url(#clip4501)\">\n",
       "<text style=\"fill:#000000; fill-opacity:1; font-family:Arial,Helvetica Neue,Helvetica,sans-serif; font-size:38px; text-anchor:start;\" transform=\"rotate(0, 1642.35, 1551.07)\" x=\"1642.35\" y=\"1551.07\">4</text>\n",
       "</g>\n",
       "<g clip-path=\"url(#clip4501)\">\n",
       "<text style=\"fill:#000000; fill-opacity:1; font-family:Arial,Helvetica Neue,Helvetica,sans-serif; font-size:48px; text-anchor:start;\" transform=\"rotate(0, 1975.7, 1578.48)\" x=\"1975.7\" y=\"1578.48\">4×10</text>\n",
       "</g>\n",
       "<g clip-path=\"url(#clip4501)\">\n",
       "<text style=\"fill:#000000; fill-opacity:1; font-family:Arial,Helvetica Neue,Helvetica,sans-serif; font-size:38px; text-anchor:start;\" transform=\"rotate(0, 2084.1, 1551.07)\" x=\"2084.1\" y=\"1551.07\">4</text>\n",
       "</g>\n",
       "<g clip-path=\"url(#clip4501)\">\n",
       "<text style=\"fill:#000000; fill-opacity:1; font-family:Arial,Helvetica Neue,Helvetica,sans-serif; font-size:48px; text-anchor:end;\" transform=\"rotate(0, 190.919, 1381.63)\" x=\"190.919\" y=\"1381.63\">14.50</text>\n",
       "</g>\n",
       "<g clip-path=\"url(#clip4501)\">\n",
       "<text style=\"fill:#000000; fill-opacity:1; font-family:Arial,Helvetica Neue,Helvetica,sans-serif; font-size:48px; text-anchor:end;\" transform=\"rotate(0, 190.919, 1136.31)\" x=\"190.919\" y=\"1136.31\">14.75</text>\n",
       "</g>\n",
       "<g clip-path=\"url(#clip4501)\">\n",
       "<text style=\"fill:#000000; fill-opacity:1; font-family:Arial,Helvetica Neue,Helvetica,sans-serif; font-size:48px; text-anchor:end;\" transform=\"rotate(0, 190.919, 890.988)\" x=\"190.919\" y=\"890.988\">15.00</text>\n",
       "</g>\n",
       "<g clip-path=\"url(#clip4501)\">\n",
       "<text style=\"fill:#000000; fill-opacity:1; font-family:Arial,Helvetica Neue,Helvetica,sans-serif; font-size:48px; text-anchor:end;\" transform=\"rotate(0, 190.919, 645.666)\" x=\"190.919\" y=\"645.666\">15.25</text>\n",
       "</g>\n",
       "<g clip-path=\"url(#clip4501)\">\n",
       "<text style=\"fill:#000000; fill-opacity:1; font-family:Arial,Helvetica Neue,Helvetica,sans-serif; font-size:48px; text-anchor:end;\" transform=\"rotate(0, 190.919, 400.344)\" x=\"190.919\" y=\"400.344\">15.50</text>\n",
       "</g>\n",
       "<g clip-path=\"url(#clip4501)\">\n",
       "<text style=\"fill:#000000; fill-opacity:1; font-family:Arial,Helvetica Neue,Helvetica,sans-serif; font-size:48px; text-anchor:end;\" transform=\"rotate(0, 190.919, 155.023)\" x=\"190.919\" y=\"155.023\">15.75</text>\n",
       "</g>\n",
       "<polyline clip-path=\"url(#clip4503)\" style=\"stroke:#009af9; stroke-width:4; stroke-opacity:1; fill:none\" points=\"\n",
       "  2261.65,1462.26 1157.28,1364.13 936.403,1069.75 494.655,677.231 291.451,382.844 274.532,88.4582 \n",
       "  \"/>\n",
       "<circle clip-path=\"url(#clip4503)\" style=\"fill:#000000; stroke:none; fill-opacity:1\" cx=\"2261.65\" cy=\"1462.26\" r=\"18\"/>\n",
       "<circle clip-path=\"url(#clip4503)\" style=\"fill:#e26f46; stroke:none; fill-opacity:1\" cx=\"2261.65\" cy=\"1462.26\" r=\"14\"/>\n",
       "<circle clip-path=\"url(#clip4503)\" style=\"fill:#000000; stroke:none; fill-opacity:1\" cx=\"1157.28\" cy=\"1364.13\" r=\"18\"/>\n",
       "<circle clip-path=\"url(#clip4503)\" style=\"fill:#e26f46; stroke:none; fill-opacity:1\" cx=\"1157.28\" cy=\"1364.13\" r=\"14\"/>\n",
       "<circle clip-path=\"url(#clip4503)\" style=\"fill:#000000; stroke:none; fill-opacity:1\" cx=\"936.403\" cy=\"1069.75\" r=\"18\"/>\n",
       "<circle clip-path=\"url(#clip4503)\" style=\"fill:#e26f46; stroke:none; fill-opacity:1\" cx=\"936.403\" cy=\"1069.75\" r=\"14\"/>\n",
       "<circle clip-path=\"url(#clip4503)\" style=\"fill:#000000; stroke:none; fill-opacity:1\" cx=\"494.655\" cy=\"677.231\" r=\"18\"/>\n",
       "<circle clip-path=\"url(#clip4503)\" style=\"fill:#e26f46; stroke:none; fill-opacity:1\" cx=\"494.655\" cy=\"677.231\" r=\"14\"/>\n",
       "<circle clip-path=\"url(#clip4503)\" style=\"fill:#000000; stroke:none; fill-opacity:1\" cx=\"291.451\" cy=\"382.844\" r=\"18\"/>\n",
       "<circle clip-path=\"url(#clip4503)\" style=\"fill:#e26f46; stroke:none; fill-opacity:1\" cx=\"291.451\" cy=\"382.844\" r=\"14\"/>\n",
       "<circle clip-path=\"url(#clip4503)\" style=\"fill:#000000; stroke:none; fill-opacity:1\" cx=\"274.532\" cy=\"88.4582\" r=\"18\"/>\n",
       "<circle clip-path=\"url(#clip4503)\" style=\"fill:#e26f46; stroke:none; fill-opacity:1\" cx=\"274.532\" cy=\"88.4582\" r=\"14\"/>\n",
       "<polygon clip-path=\"url(#clip4501)\" points=\"\n",
       "1880.84,312.204 2249.26,312.204 2249.26,130.764 1880.84,130.764 \n",
       "  \" fill=\"#ffffff\" fill-rule=\"evenodd\" fill-opacity=\"1\"/>\n",
       "<polyline clip-path=\"url(#clip4501)\" style=\"stroke:#000000; stroke-width:4; stroke-opacity:1; fill:none\" points=\"\n",
       "  1880.84,312.204 2249.26,312.204 2249.26,130.764 1880.84,130.764 1880.84,312.204 \n",
       "  \"/>\n",
       "<polyline clip-path=\"url(#clip4501)\" style=\"stroke:#009af9; stroke-width:4; stroke-opacity:1; fill:none\" points=\"\n",
       "  1904.84,191.244 2048.84,191.244 \n",
       "  \"/>\n",
       "<g clip-path=\"url(#clip4501)\">\n",
       "<text style=\"fill:#000000; fill-opacity:1; font-family:Arial,Helvetica Neue,Helvetica,sans-serif; font-size:48px; text-anchor:start;\" transform=\"rotate(0, 2072.84, 208.744)\" x=\"2072.84\" y=\"208.744\">line</text>\n",
       "</g>\n",
       "<circle clip-path=\"url(#clip4501)\" style=\"fill:#000000; stroke:none; fill-opacity:1\" cx=\"1988.84\" cy=\"251.724\" r=\"25\"/>\n",
       "<circle clip-path=\"url(#clip4501)\" style=\"fill:#e26f46; stroke:none; fill-opacity:1\" cx=\"1988.84\" cy=\"251.724\" r=\"21\"/>\n",
       "<g clip-path=\"url(#clip4501)\">\n",
       "<text style=\"fill:#000000; fill-opacity:1; font-family:Arial,Helvetica Neue,Helvetica,sans-serif; font-size:48px; text-anchor:start;\" transform=\"rotate(0, 2072.84, 269.224)\" x=\"2072.84\" y=\"269.224\">points</text>\n",
       "</g>\n",
       "</svg>\n"
      ]
     },
     "execution_count": 33,
     "metadata": {},
     "output_type": "execute_result"
    }
   ],
   "source": [
    "myfig = plot(numpirates, globaltemperatures, label=\"line\")\n",
    "scatter!(myfig, numpirates, globaltemperatures, label=\"points\")"
   ]
  },
  {
   "cell_type": "code",
   "execution_count": 34,
   "metadata": {},
   "outputs": [
    {
     "data": {
      "image/svg+xml": [
       "<?xml version=\"1.0\" encoding=\"utf-8\"?>\n",
       "<svg xmlns=\"http://www.w3.org/2000/svg\" xmlns:xlink=\"http://www.w3.org/1999/xlink\" width=\"600\" height=\"400\" viewBox=\"0 0 2400 1600\">\n",
       "<defs>\n",
       "  <clipPath id=\"clip4700\">\n",
       "    <rect x=\"0\" y=\"0\" width=\"2000\" height=\"2000\"/>\n",
       "  </clipPath>\n",
       "</defs>\n",
       "<defs>\n",
       "  <clipPath id=\"clip4701\">\n",
       "    <rect x=\"0\" y=\"0\" width=\"2400\" height=\"1600\"/>\n",
       "  </clipPath>\n",
       "</defs>\n",
       "<polygon clip-path=\"url(#clip4701)\" points=\"\n",
       "0,1600 2400,1600 2400,0 0,0 \n",
       "  \" fill=\"#ffffff\" fill-rule=\"evenodd\" fill-opacity=\"1\"/>\n",
       "<defs>\n",
       "  <clipPath id=\"clip4702\">\n",
       "    <rect x=\"480\" y=\"0\" width=\"1681\" height=\"1600\"/>\n",
       "  </clipPath>\n",
       "</defs>\n",
       "<polygon clip-path=\"url(#clip4701)\" points=\"\n",
       "277.911,1440.48 2321.26,1440.48 2321.26,125.984 277.911,125.984 \n",
       "  \" fill=\"#ffffff\" fill-rule=\"evenodd\" fill-opacity=\"1\"/>\n",
       "<defs>\n",
       "  <clipPath id=\"clip4703\">\n",
       "    <rect x=\"277\" y=\"125\" width=\"2044\" height=\"1315\"/>\n",
       "  </clipPath>\n",
       "</defs>\n",
       "<polyline clip-path=\"url(#clip4703)\" style=\"stroke:#000000; stroke-width:2; stroke-opacity:0.1; fill:none\" points=\"\n",
       "  335.013,1440.48 335.013,125.984 \n",
       "  \"/>\n",
       "<polyline clip-path=\"url(#clip4703)\" style=\"stroke:#000000; stroke-width:2; stroke-opacity:0.1; fill:none\" points=\"\n",
       "  763.55,1440.48 763.55,125.984 \n",
       "  \"/>\n",
       "<polyline clip-path=\"url(#clip4703)\" style=\"stroke:#000000; stroke-width:2; stroke-opacity:0.1; fill:none\" points=\"\n",
       "  1192.09,1440.48 1192.09,125.984 \n",
       "  \"/>\n",
       "<polyline clip-path=\"url(#clip4703)\" style=\"stroke:#000000; stroke-width:2; stroke-opacity:0.1; fill:none\" points=\"\n",
       "  1620.62,1440.48 1620.62,125.984 \n",
       "  \"/>\n",
       "<polyline clip-path=\"url(#clip4703)\" style=\"stroke:#000000; stroke-width:2; stroke-opacity:0.1; fill:none\" points=\"\n",
       "  2049.16,1440.48 2049.16,125.984 \n",
       "  \"/>\n",
       "<polyline clip-path=\"url(#clip4703)\" style=\"stroke:#000000; stroke-width:2; stroke-opacity:0.1; fill:none\" points=\"\n",
       "  277.911,1314.7 2321.26,1314.7 \n",
       "  \"/>\n",
       "<polyline clip-path=\"url(#clip4703)\" style=\"stroke:#000000; stroke-width:2; stroke-opacity:0.1; fill:none\" points=\"\n",
       "  277.911,1093.26 2321.26,1093.26 \n",
       "  \"/>\n",
       "<polyline clip-path=\"url(#clip4703)\" style=\"stroke:#000000; stroke-width:2; stroke-opacity:0.1; fill:none\" points=\"\n",
       "  277.911,871.811 2321.26,871.811 \n",
       "  \"/>\n",
       "<polyline clip-path=\"url(#clip4703)\" style=\"stroke:#000000; stroke-width:2; stroke-opacity:0.1; fill:none\" points=\"\n",
       "  277.911,650.366 2321.26,650.366 \n",
       "  \"/>\n",
       "<polyline clip-path=\"url(#clip4703)\" style=\"stroke:#000000; stroke-width:2; stroke-opacity:0.1; fill:none\" points=\"\n",
       "  277.911,428.921 2321.26,428.921 \n",
       "  \"/>\n",
       "<polyline clip-path=\"url(#clip4703)\" style=\"stroke:#000000; stroke-width:2; stroke-opacity:0.1; fill:none\" points=\"\n",
       "  277.911,207.476 2321.26,207.476 \n",
       "  \"/>\n",
       "<polyline clip-path=\"url(#clip4701)\" style=\"stroke:#000000; stroke-width:4; stroke-opacity:1; fill:none\" points=\"\n",
       "  277.911,1440.48 2321.26,1440.48 \n",
       "  \"/>\n",
       "<polyline clip-path=\"url(#clip4701)\" style=\"stroke:#000000; stroke-width:4; stroke-opacity:1; fill:none\" points=\"\n",
       "  277.911,1440.48 277.911,125.984 \n",
       "  \"/>\n",
       "<polyline clip-path=\"url(#clip4701)\" style=\"stroke:#000000; stroke-width:4; stroke-opacity:1; fill:none\" points=\"\n",
       "  335.013,1440.48 335.013,1420.77 \n",
       "  \"/>\n",
       "<polyline clip-path=\"url(#clip4701)\" style=\"stroke:#000000; stroke-width:4; stroke-opacity:1; fill:none\" points=\"\n",
       "  763.55,1440.48 763.55,1420.77 \n",
       "  \"/>\n",
       "<polyline clip-path=\"url(#clip4701)\" style=\"stroke:#000000; stroke-width:4; stroke-opacity:1; fill:none\" points=\"\n",
       "  1192.09,1440.48 1192.09,1420.77 \n",
       "  \"/>\n",
       "<polyline clip-path=\"url(#clip4701)\" style=\"stroke:#000000; stroke-width:4; stroke-opacity:1; fill:none\" points=\"\n",
       "  1620.62,1440.48 1620.62,1420.77 \n",
       "  \"/>\n",
       "<polyline clip-path=\"url(#clip4701)\" style=\"stroke:#000000; stroke-width:4; stroke-opacity:1; fill:none\" points=\"\n",
       "  2049.16,1440.48 2049.16,1420.77 \n",
       "  \"/>\n",
       "<polyline clip-path=\"url(#clip4701)\" style=\"stroke:#000000; stroke-width:4; stroke-opacity:1; fill:none\" points=\"\n",
       "  277.911,1314.7 308.561,1314.7 \n",
       "  \"/>\n",
       "<polyline clip-path=\"url(#clip4701)\" style=\"stroke:#000000; stroke-width:4; stroke-opacity:1; fill:none\" points=\"\n",
       "  277.911,1093.26 308.561,1093.26 \n",
       "  \"/>\n",
       "<polyline clip-path=\"url(#clip4701)\" style=\"stroke:#000000; stroke-width:4; stroke-opacity:1; fill:none\" points=\"\n",
       "  277.911,871.811 308.561,871.811 \n",
       "  \"/>\n",
       "<polyline clip-path=\"url(#clip4701)\" style=\"stroke:#000000; stroke-width:4; stroke-opacity:1; fill:none\" points=\"\n",
       "  277.911,650.366 308.561,650.366 \n",
       "  \"/>\n",
       "<polyline clip-path=\"url(#clip4701)\" style=\"stroke:#000000; stroke-width:4; stroke-opacity:1; fill:none\" points=\"\n",
       "  277.911,428.921 308.561,428.921 \n",
       "  \"/>\n",
       "<polyline clip-path=\"url(#clip4701)\" style=\"stroke:#000000; stroke-width:4; stroke-opacity:1; fill:none\" points=\"\n",
       "  277.911,207.476 308.561,207.476 \n",
       "  \"/>\n",
       "<g clip-path=\"url(#clip4701)\">\n",
       "<text style=\"fill:#000000; fill-opacity:1; font-family:Arial,Helvetica Neue,Helvetica,sans-serif; font-size:48px; text-anchor:middle;\" transform=\"rotate(0, 335.013, 1494.48)\" x=\"335.013\" y=\"1494.48\">0</text>\n",
       "</g>\n",
       "<g clip-path=\"url(#clip4701)\">\n",
       "<text style=\"fill:#000000; fill-opacity:1; font-family:Arial,Helvetica Neue,Helvetica,sans-serif; font-size:48px; text-anchor:start;\" transform=\"rotate(0, 698.479, 1515.49)\" x=\"698.479\" y=\"1515.49\">1×10</text>\n",
       "</g>\n",
       "<g clip-path=\"url(#clip4701)\">\n",
       "<text style=\"fill:#000000; fill-opacity:1; font-family:Arial,Helvetica Neue,Helvetica,sans-serif; font-size:38px; text-anchor:start;\" transform=\"rotate(0, 806.876, 1488.08)\" x=\"806.876\" y=\"1488.08\">4</text>\n",
       "</g>\n",
       "<g clip-path=\"url(#clip4701)\">\n",
       "<text style=\"fill:#000000; fill-opacity:1; font-family:Arial,Helvetica Neue,Helvetica,sans-serif; font-size:48px; text-anchor:start;\" transform=\"rotate(0, 1127.02, 1515.49)\" x=\"1127.02\" y=\"1515.49\">2×10</text>\n",
       "</g>\n",
       "<g clip-path=\"url(#clip4701)\">\n",
       "<text style=\"fill:#000000; fill-opacity:1; font-family:Arial,Helvetica Neue,Helvetica,sans-serif; font-size:38px; text-anchor:start;\" transform=\"rotate(0, 1235.41, 1488.08)\" x=\"1235.41\" y=\"1488.08\">4</text>\n",
       "</g>\n",
       "<g clip-path=\"url(#clip4701)\">\n",
       "<text style=\"fill:#000000; fill-opacity:1; font-family:Arial,Helvetica Neue,Helvetica,sans-serif; font-size:48px; text-anchor:start;\" transform=\"rotate(0, 1555.55, 1515.49)\" x=\"1555.55\" y=\"1515.49\">3×10</text>\n",
       "</g>\n",
       "<g clip-path=\"url(#clip4701)\">\n",
       "<text style=\"fill:#000000; fill-opacity:1; font-family:Arial,Helvetica Neue,Helvetica,sans-serif; font-size:38px; text-anchor:start;\" transform=\"rotate(0, 1663.95, 1488.08)\" x=\"1663.95\" y=\"1488.08\">4</text>\n",
       "</g>\n",
       "<g clip-path=\"url(#clip4701)\">\n",
       "<text style=\"fill:#000000; fill-opacity:1; font-family:Arial,Helvetica Neue,Helvetica,sans-serif; font-size:48px; text-anchor:start;\" transform=\"rotate(0, 1984.09, 1515.49)\" x=\"1984.09\" y=\"1515.49\">4×10</text>\n",
       "</g>\n",
       "<g clip-path=\"url(#clip4701)\">\n",
       "<text style=\"fill:#000000; fill-opacity:1; font-family:Arial,Helvetica Neue,Helvetica,sans-serif; font-size:38px; text-anchor:start;\" transform=\"rotate(0, 2092.49, 1488.08)\" x=\"2092.49\" y=\"1488.08\">4</text>\n",
       "</g>\n",
       "<g clip-path=\"url(#clip4701)\">\n",
       "<text style=\"fill:#000000; fill-opacity:1; font-family:Arial,Helvetica Neue,Helvetica,sans-serif; font-size:48px; text-anchor:end;\" transform=\"rotate(0, 253.911, 1332.2)\" x=\"253.911\" y=\"1332.2\">14.50</text>\n",
       "</g>\n",
       "<g clip-path=\"url(#clip4701)\">\n",
       "<text style=\"fill:#000000; fill-opacity:1; font-family:Arial,Helvetica Neue,Helvetica,sans-serif; font-size:48px; text-anchor:end;\" transform=\"rotate(0, 253.911, 1110.76)\" x=\"253.911\" y=\"1110.76\">14.75</text>\n",
       "</g>\n",
       "<g clip-path=\"url(#clip4701)\">\n",
       "<text style=\"fill:#000000; fill-opacity:1; font-family:Arial,Helvetica Neue,Helvetica,sans-serif; font-size:48px; text-anchor:end;\" transform=\"rotate(0, 253.911, 889.311)\" x=\"253.911\" y=\"889.311\">15.00</text>\n",
       "</g>\n",
       "<g clip-path=\"url(#clip4701)\">\n",
       "<text style=\"fill:#000000; fill-opacity:1; font-family:Arial,Helvetica Neue,Helvetica,sans-serif; font-size:48px; text-anchor:end;\" transform=\"rotate(0, 253.911, 667.866)\" x=\"253.911\" y=\"667.866\">15.25</text>\n",
       "</g>\n",
       "<g clip-path=\"url(#clip4701)\">\n",
       "<text style=\"fill:#000000; fill-opacity:1; font-family:Arial,Helvetica Neue,Helvetica,sans-serif; font-size:48px; text-anchor:end;\" transform=\"rotate(0, 253.911, 446.421)\" x=\"253.911\" y=\"446.421\">15.50</text>\n",
       "</g>\n",
       "<g clip-path=\"url(#clip4701)\">\n",
       "<text style=\"fill:#000000; fill-opacity:1; font-family:Arial,Helvetica Neue,Helvetica,sans-serif; font-size:48px; text-anchor:end;\" transform=\"rotate(0, 253.911, 224.976)\" x=\"253.911\" y=\"224.976\">15.75</text>\n",
       "</g>\n",
       "<g clip-path=\"url(#clip4701)\">\n",
       "<text style=\"fill:#000000; fill-opacity:1; font-family:Arial,Helvetica Neue,Helvetica,sans-serif; font-size:84px; text-anchor:middle;\" transform=\"rotate(0, 1299.59, 73.2)\" x=\"1299.59\" y=\"73.2\">Pirate population vs global warming</text>\n",
       "</g>\n",
       "<g clip-path=\"url(#clip4701)\">\n",
       "<text style=\"fill:#000000; fill-opacity:1; font-family:Arial,Helvetica Neue,Helvetica,sans-serif; font-size:66px; text-anchor:middle;\" transform=\"rotate(0, 1299.59, 1590.4)\" x=\"1299.59\" y=\"1590.4\">Number of Pirates</text>\n",
       "</g>\n",
       "<g clip-path=\"url(#clip4701)\">\n",
       "<text style=\"fill:#000000; fill-opacity:1; font-family:Arial,Helvetica Neue,Helvetica,sans-serif; font-size:66px; text-anchor:middle;\" transform=\"rotate(-90, 57.6, 783.233)\" x=\"57.6\" y=\"783.233\">Global temperature</text>\n",
       "</g>\n",
       "<polyline clip-path=\"url(#clip4703)\" style=\"stroke:#009af9; stroke-width:4; stroke-opacity:1; fill:none\" points=\"\n",
       "  2263.43,1403.28 1192.09,1314.7 977.818,1048.97 549.281,694.655 352.154,428.921 335.741,163.187 \n",
       "  \"/>\n",
       "<circle clip-path=\"url(#clip4703)\" style=\"fill:#000000; stroke:none; fill-opacity:1\" cx=\"2263.43\" cy=\"1403.28\" r=\"18\"/>\n",
       "<circle clip-path=\"url(#clip4703)\" style=\"fill:#e26f46; stroke:none; fill-opacity:1\" cx=\"2263.43\" cy=\"1403.28\" r=\"14\"/>\n",
       "<circle clip-path=\"url(#clip4703)\" style=\"fill:#000000; stroke:none; fill-opacity:1\" cx=\"1192.09\" cy=\"1314.7\" r=\"18\"/>\n",
       "<circle clip-path=\"url(#clip4703)\" style=\"fill:#e26f46; stroke:none; fill-opacity:1\" cx=\"1192.09\" cy=\"1314.7\" r=\"14\"/>\n",
       "<circle clip-path=\"url(#clip4703)\" style=\"fill:#000000; stroke:none; fill-opacity:1\" cx=\"977.818\" cy=\"1048.97\" r=\"18\"/>\n",
       "<circle clip-path=\"url(#clip4703)\" style=\"fill:#e26f46; stroke:none; fill-opacity:1\" cx=\"977.818\" cy=\"1048.97\" r=\"14\"/>\n",
       "<circle clip-path=\"url(#clip4703)\" style=\"fill:#000000; stroke:none; fill-opacity:1\" cx=\"549.281\" cy=\"694.655\" r=\"18\"/>\n",
       "<circle clip-path=\"url(#clip4703)\" style=\"fill:#e26f46; stroke:none; fill-opacity:1\" cx=\"549.281\" cy=\"694.655\" r=\"14\"/>\n",
       "<circle clip-path=\"url(#clip4703)\" style=\"fill:#000000; stroke:none; fill-opacity:1\" cx=\"352.154\" cy=\"428.921\" r=\"18\"/>\n",
       "<circle clip-path=\"url(#clip4703)\" style=\"fill:#e26f46; stroke:none; fill-opacity:1\" cx=\"352.154\" cy=\"428.921\" r=\"14\"/>\n",
       "<circle clip-path=\"url(#clip4703)\" style=\"fill:#000000; stroke:none; fill-opacity:1\" cx=\"335.741\" cy=\"163.187\" r=\"18\"/>\n",
       "<circle clip-path=\"url(#clip4703)\" style=\"fill:#e26f46; stroke:none; fill-opacity:1\" cx=\"335.741\" cy=\"163.187\" r=\"14\"/>\n",
       "<polygon clip-path=\"url(#clip4701)\" points=\"\n",
       "1880.84,390.944 2249.26,390.944 2249.26,209.504 1880.84,209.504 \n",
       "  \" fill=\"#ffffff\" fill-rule=\"evenodd\" fill-opacity=\"1\"/>\n",
       "<polyline clip-path=\"url(#clip4701)\" style=\"stroke:#000000; stroke-width:4; stroke-opacity:1; fill:none\" points=\"\n",
       "  1880.84,390.944 2249.26,390.944 2249.26,209.504 1880.84,209.504 1880.84,390.944 \n",
       "  \"/>\n",
       "<polyline clip-path=\"url(#clip4701)\" style=\"stroke:#009af9; stroke-width:4; stroke-opacity:1; fill:none\" points=\"\n",
       "  1904.84,269.984 2048.84,269.984 \n",
       "  \"/>\n",
       "<g clip-path=\"url(#clip4701)\">\n",
       "<text style=\"fill:#000000; fill-opacity:1; font-family:Arial,Helvetica Neue,Helvetica,sans-serif; font-size:48px; text-anchor:start;\" transform=\"rotate(0, 2072.84, 287.484)\" x=\"2072.84\" y=\"287.484\">line</text>\n",
       "</g>\n",
       "<circle clip-path=\"url(#clip4701)\" style=\"fill:#000000; stroke:none; fill-opacity:1\" cx=\"1988.84\" cy=\"330.464\" r=\"25\"/>\n",
       "<circle clip-path=\"url(#clip4701)\" style=\"fill:#e26f46; stroke:none; fill-opacity:1\" cx=\"1988.84\" cy=\"330.464\" r=\"21\"/>\n",
       "<g clip-path=\"url(#clip4701)\">\n",
       "<text style=\"fill:#000000; fill-opacity:1; font-family:Arial,Helvetica Neue,Helvetica,sans-serif; font-size:48px; text-anchor:start;\" transform=\"rotate(0, 2072.84, 347.964)\" x=\"2072.84\" y=\"347.964\">points</text>\n",
       "</g>\n",
       "</svg>\n"
      ]
     },
     "execution_count": 34,
     "metadata": {},
     "output_type": "execute_result"
    }
   ],
   "source": [
    "xlabel!(\"Number of Pirates\")\n",
    "ylabel!(\"Global temperature\")\n",
    "title!(\"Pirate population vs global warming\")"
   ]
  },
  {
   "cell_type": "code",
   "execution_count": 36,
   "metadata": {},
   "outputs": [
    {
     "data": {
      "image/svg+xml": [
       "<?xml version=\"1.0\" encoding=\"utf-8\"?>\n",
       "<svg xmlns=\"http://www.w3.org/2000/svg\" xmlns:xlink=\"http://www.w3.org/1999/xlink\" width=\"600\" height=\"400\" viewBox=\"0 0 2400 1600\">\n",
       "<defs>\n",
       "  <clipPath id=\"clip4900\">\n",
       "    <rect x=\"0\" y=\"0\" width=\"2000\" height=\"2000\"/>\n",
       "  </clipPath>\n",
       "</defs>\n",
       "<defs>\n",
       "  <clipPath id=\"clip4901\">\n",
       "    <rect x=\"0\" y=\"0\" width=\"2400\" height=\"1600\"/>\n",
       "  </clipPath>\n",
       "</defs>\n",
       "<polygon clip-path=\"url(#clip4901)\" points=\"\n",
       "0,1600 2400,1600 2400,0 0,0 \n",
       "  \" fill=\"#ffffff\" fill-rule=\"evenodd\" fill-opacity=\"1\"/>\n",
       "<defs>\n",
       "  <clipPath id=\"clip4902\">\n",
       "    <rect x=\"480\" y=\"0\" width=\"1681\" height=\"1600\"/>\n",
       "  </clipPath>\n",
       "</defs>\n",
       "<polygon clip-path=\"url(#clip4901)\" points=\"\n",
       "277.911,1440.48 2321.26,1440.48 2321.26,125.984 277.911,125.984 \n",
       "  \" fill=\"#ffffff\" fill-rule=\"evenodd\" fill-opacity=\"1\"/>\n",
       "<defs>\n",
       "  <clipPath id=\"clip4903\">\n",
       "    <rect x=\"277\" y=\"125\" width=\"2044\" height=\"1315\"/>\n",
       "  </clipPath>\n",
       "</defs>\n",
       "<polyline clip-path=\"url(#clip4903)\" style=\"stroke:#000000; stroke-width:2; stroke-opacity:0.1; fill:none\" points=\"\n",
       "  2264.16,1440.48 2264.16,125.984 \n",
       "  \"/>\n",
       "<polyline clip-path=\"url(#clip4903)\" style=\"stroke:#000000; stroke-width:2; stroke-opacity:0.1; fill:none\" points=\"\n",
       "  1835.62,1440.48 1835.62,125.984 \n",
       "  \"/>\n",
       "<polyline clip-path=\"url(#clip4903)\" style=\"stroke:#000000; stroke-width:2; stroke-opacity:0.1; fill:none\" points=\"\n",
       "  1407.08,1440.48 1407.08,125.984 \n",
       "  \"/>\n",
       "<polyline clip-path=\"url(#clip4903)\" style=\"stroke:#000000; stroke-width:2; stroke-opacity:0.1; fill:none\" points=\"\n",
       "  978.547,1440.48 978.547,125.984 \n",
       "  \"/>\n",
       "<polyline clip-path=\"url(#clip4903)\" style=\"stroke:#000000; stroke-width:2; stroke-opacity:0.1; fill:none\" points=\"\n",
       "  550.01,1440.48 550.01,125.984 \n",
       "  \"/>\n",
       "<polyline clip-path=\"url(#clip4903)\" style=\"stroke:#000000; stroke-width:2; stroke-opacity:0.1; fill:none\" points=\"\n",
       "  2321.26,1314.7 277.911,1314.7 \n",
       "  \"/>\n",
       "<polyline clip-path=\"url(#clip4903)\" style=\"stroke:#000000; stroke-width:2; stroke-opacity:0.1; fill:none\" points=\"\n",
       "  2321.26,1093.26 277.911,1093.26 \n",
       "  \"/>\n",
       "<polyline clip-path=\"url(#clip4903)\" style=\"stroke:#000000; stroke-width:2; stroke-opacity:0.1; fill:none\" points=\"\n",
       "  2321.26,871.811 277.911,871.811 \n",
       "  \"/>\n",
       "<polyline clip-path=\"url(#clip4903)\" style=\"stroke:#000000; stroke-width:2; stroke-opacity:0.1; fill:none\" points=\"\n",
       "  2321.26,650.366 277.911,650.366 \n",
       "  \"/>\n",
       "<polyline clip-path=\"url(#clip4903)\" style=\"stroke:#000000; stroke-width:2; stroke-opacity:0.1; fill:none\" points=\"\n",
       "  2321.26,428.921 277.911,428.921 \n",
       "  \"/>\n",
       "<polyline clip-path=\"url(#clip4903)\" style=\"stroke:#000000; stroke-width:2; stroke-opacity:0.1; fill:none\" points=\"\n",
       "  2321.26,207.476 277.911,207.476 \n",
       "  \"/>\n",
       "<polyline clip-path=\"url(#clip4901)\" style=\"stroke:#000000; stroke-width:4; stroke-opacity:1; fill:none\" points=\"\n",
       "  2321.26,1440.48 277.911,1440.48 \n",
       "  \"/>\n",
       "<polyline clip-path=\"url(#clip4901)\" style=\"stroke:#000000; stroke-width:4; stroke-opacity:1; fill:none\" points=\"\n",
       "  277.911,1440.48 277.911,125.984 \n",
       "  \"/>\n",
       "<polyline clip-path=\"url(#clip4901)\" style=\"stroke:#000000; stroke-width:4; stroke-opacity:1; fill:none\" points=\"\n",
       "  2264.16,1440.48 2264.16,1420.77 \n",
       "  \"/>\n",
       "<polyline clip-path=\"url(#clip4901)\" style=\"stroke:#000000; stroke-width:4; stroke-opacity:1; fill:none\" points=\"\n",
       "  1835.62,1440.48 1835.62,1420.77 \n",
       "  \"/>\n",
       "<polyline clip-path=\"url(#clip4901)\" style=\"stroke:#000000; stroke-width:4; stroke-opacity:1; fill:none\" points=\"\n",
       "  1407.08,1440.48 1407.08,1420.77 \n",
       "  \"/>\n",
       "<polyline clip-path=\"url(#clip4901)\" style=\"stroke:#000000; stroke-width:4; stroke-opacity:1; fill:none\" points=\"\n",
       "  978.547,1440.48 978.547,1420.77 \n",
       "  \"/>\n",
       "<polyline clip-path=\"url(#clip4901)\" style=\"stroke:#000000; stroke-width:4; stroke-opacity:1; fill:none\" points=\"\n",
       "  550.01,1440.48 550.01,1420.77 \n",
       "  \"/>\n",
       "<polyline clip-path=\"url(#clip4901)\" style=\"stroke:#000000; stroke-width:4; stroke-opacity:1; fill:none\" points=\"\n",
       "  277.911,1314.7 308.561,1314.7 \n",
       "  \"/>\n",
       "<polyline clip-path=\"url(#clip4901)\" style=\"stroke:#000000; stroke-width:4; stroke-opacity:1; fill:none\" points=\"\n",
       "  277.911,1093.26 308.561,1093.26 \n",
       "  \"/>\n",
       "<polyline clip-path=\"url(#clip4901)\" style=\"stroke:#000000; stroke-width:4; stroke-opacity:1; fill:none\" points=\"\n",
       "  277.911,871.811 308.561,871.811 \n",
       "  \"/>\n",
       "<polyline clip-path=\"url(#clip4901)\" style=\"stroke:#000000; stroke-width:4; stroke-opacity:1; fill:none\" points=\"\n",
       "  277.911,650.366 308.561,650.366 \n",
       "  \"/>\n",
       "<polyline clip-path=\"url(#clip4901)\" style=\"stroke:#000000; stroke-width:4; stroke-opacity:1; fill:none\" points=\"\n",
       "  277.911,428.921 308.561,428.921 \n",
       "  \"/>\n",
       "<polyline clip-path=\"url(#clip4901)\" style=\"stroke:#000000; stroke-width:4; stroke-opacity:1; fill:none\" points=\"\n",
       "  277.911,207.476 308.561,207.476 \n",
       "  \"/>\n",
       "<g clip-path=\"url(#clip4901)\">\n",
       "<text style=\"fill:#000000; fill-opacity:1; font-family:Arial,Helvetica Neue,Helvetica,sans-serif; font-size:48px; text-anchor:middle;\" transform=\"rotate(0, 2264.16, 1494.48)\" x=\"2264.16\" y=\"1494.48\">0</text>\n",
       "</g>\n",
       "<g clip-path=\"url(#clip4901)\">\n",
       "<text style=\"fill:#000000; fill-opacity:1; font-family:Arial,Helvetica Neue,Helvetica,sans-serif; font-size:48px; text-anchor:start;\" transform=\"rotate(0, 1770.55, 1515.49)\" x=\"1770.55\" y=\"1515.49\">1×10</text>\n",
       "</g>\n",
       "<g clip-path=\"url(#clip4901)\">\n",
       "<text style=\"fill:#000000; fill-opacity:1; font-family:Arial,Helvetica Neue,Helvetica,sans-serif; font-size:38px; text-anchor:start;\" transform=\"rotate(0, 1878.95, 1488.08)\" x=\"1878.95\" y=\"1488.08\">4</text>\n",
       "</g>\n",
       "<g clip-path=\"url(#clip4901)\">\n",
       "<text style=\"fill:#000000; fill-opacity:1; font-family:Arial,Helvetica Neue,Helvetica,sans-serif; font-size:48px; text-anchor:start;\" transform=\"rotate(0, 1342.01, 1515.49)\" x=\"1342.01\" y=\"1515.49\">2×10</text>\n",
       "</g>\n",
       "<g clip-path=\"url(#clip4901)\">\n",
       "<text style=\"fill:#000000; fill-opacity:1; font-family:Arial,Helvetica Neue,Helvetica,sans-serif; font-size:38px; text-anchor:start;\" transform=\"rotate(0, 1450.41, 1488.08)\" x=\"1450.41\" y=\"1488.08\">4</text>\n",
       "</g>\n",
       "<g clip-path=\"url(#clip4901)\">\n",
       "<text style=\"fill:#000000; fill-opacity:1; font-family:Arial,Helvetica Neue,Helvetica,sans-serif; font-size:48px; text-anchor:start;\" transform=\"rotate(0, 913.476, 1515.49)\" x=\"913.476\" y=\"1515.49\">3×10</text>\n",
       "</g>\n",
       "<g clip-path=\"url(#clip4901)\">\n",
       "<text style=\"fill:#000000; fill-opacity:1; font-family:Arial,Helvetica Neue,Helvetica,sans-serif; font-size:38px; text-anchor:start;\" transform=\"rotate(0, 1021.87, 1488.08)\" x=\"1021.87\" y=\"1488.08\">4</text>\n",
       "</g>\n",
       "<g clip-path=\"url(#clip4901)\">\n",
       "<text style=\"fill:#000000; fill-opacity:1; font-family:Arial,Helvetica Neue,Helvetica,sans-serif; font-size:48px; text-anchor:start;\" transform=\"rotate(0, 484.939, 1515.49)\" x=\"484.939\" y=\"1515.49\">4×10</text>\n",
       "</g>\n",
       "<g clip-path=\"url(#clip4901)\">\n",
       "<text style=\"fill:#000000; fill-opacity:1; font-family:Arial,Helvetica Neue,Helvetica,sans-serif; font-size:38px; text-anchor:start;\" transform=\"rotate(0, 593.336, 1488.08)\" x=\"593.336\" y=\"1488.08\">4</text>\n",
       "</g>\n",
       "<g clip-path=\"url(#clip4901)\">\n",
       "<text style=\"fill:#000000; fill-opacity:1; font-family:Arial,Helvetica Neue,Helvetica,sans-serif; font-size:48px; text-anchor:end;\" transform=\"rotate(0, 253.911, 1332.2)\" x=\"253.911\" y=\"1332.2\">14.50</text>\n",
       "</g>\n",
       "<g clip-path=\"url(#clip4901)\">\n",
       "<text style=\"fill:#000000; fill-opacity:1; font-family:Arial,Helvetica Neue,Helvetica,sans-serif; font-size:48px; text-anchor:end;\" transform=\"rotate(0, 253.911, 1110.76)\" x=\"253.911\" y=\"1110.76\">14.75</text>\n",
       "</g>\n",
       "<g clip-path=\"url(#clip4901)\">\n",
       "<text style=\"fill:#000000; fill-opacity:1; font-family:Arial,Helvetica Neue,Helvetica,sans-serif; font-size:48px; text-anchor:end;\" transform=\"rotate(0, 253.911, 889.311)\" x=\"253.911\" y=\"889.311\">15.00</text>\n",
       "</g>\n",
       "<g clip-path=\"url(#clip4901)\">\n",
       "<text style=\"fill:#000000; fill-opacity:1; font-family:Arial,Helvetica Neue,Helvetica,sans-serif; font-size:48px; text-anchor:end;\" transform=\"rotate(0, 253.911, 667.866)\" x=\"253.911\" y=\"667.866\">15.25</text>\n",
       "</g>\n",
       "<g clip-path=\"url(#clip4901)\">\n",
       "<text style=\"fill:#000000; fill-opacity:1; font-family:Arial,Helvetica Neue,Helvetica,sans-serif; font-size:48px; text-anchor:end;\" transform=\"rotate(0, 253.911, 446.421)\" x=\"253.911\" y=\"446.421\">15.50</text>\n",
       "</g>\n",
       "<g clip-path=\"url(#clip4901)\">\n",
       "<text style=\"fill:#000000; fill-opacity:1; font-family:Arial,Helvetica Neue,Helvetica,sans-serif; font-size:48px; text-anchor:end;\" transform=\"rotate(0, 253.911, 224.976)\" x=\"253.911\" y=\"224.976\">15.75</text>\n",
       "</g>\n",
       "<g clip-path=\"url(#clip4901)\">\n",
       "<text style=\"fill:#000000; fill-opacity:1; font-family:Arial,Helvetica Neue,Helvetica,sans-serif; font-size:84px; text-anchor:middle;\" transform=\"rotate(0, 1299.59, 73.2)\" x=\"1299.59\" y=\"73.2\">Pirate population vs global warming</text>\n",
       "</g>\n",
       "<g clip-path=\"url(#clip4901)\">\n",
       "<text style=\"fill:#000000; fill-opacity:1; font-family:Arial,Helvetica Neue,Helvetica,sans-serif; font-size:66px; text-anchor:middle;\" transform=\"rotate(0, 1299.59, 1590.4)\" x=\"1299.59\" y=\"1590.4\">Number of Pirates</text>\n",
       "</g>\n",
       "<g clip-path=\"url(#clip4901)\">\n",
       "<text style=\"fill:#000000; fill-opacity:1; font-family:Arial,Helvetica Neue,Helvetica,sans-serif; font-size:66px; text-anchor:middle;\" transform=\"rotate(-90, 57.6, 783.233)\" x=\"57.6\" y=\"783.233\">Global temperature</text>\n",
       "</g>\n",
       "<polyline clip-path=\"url(#clip4903)\" style=\"stroke:#009af9; stroke-width:4; stroke-opacity:1; fill:none\" points=\"\n",
       "  335.741,1403.28 1407.08,1314.7 1621.35,1048.97 2049.89,694.655 2247.02,428.921 2263.43,163.187 \n",
       "  \"/>\n",
       "<circle clip-path=\"url(#clip4903)\" style=\"fill:#000000; stroke:none; fill-opacity:1\" cx=\"335.741\" cy=\"1403.28\" r=\"18\"/>\n",
       "<circle clip-path=\"url(#clip4903)\" style=\"fill:#e26f46; stroke:none; fill-opacity:1\" cx=\"335.741\" cy=\"1403.28\" r=\"14\"/>\n",
       "<circle clip-path=\"url(#clip4903)\" style=\"fill:#000000; stroke:none; fill-opacity:1\" cx=\"1407.08\" cy=\"1314.7\" r=\"18\"/>\n",
       "<circle clip-path=\"url(#clip4903)\" style=\"fill:#e26f46; stroke:none; fill-opacity:1\" cx=\"1407.08\" cy=\"1314.7\" r=\"14\"/>\n",
       "<circle clip-path=\"url(#clip4903)\" style=\"fill:#000000; stroke:none; fill-opacity:1\" cx=\"1621.35\" cy=\"1048.97\" r=\"18\"/>\n",
       "<circle clip-path=\"url(#clip4903)\" style=\"fill:#e26f46; stroke:none; fill-opacity:1\" cx=\"1621.35\" cy=\"1048.97\" r=\"14\"/>\n",
       "<circle clip-path=\"url(#clip4903)\" style=\"fill:#000000; stroke:none; fill-opacity:1\" cx=\"2049.89\" cy=\"694.655\" r=\"18\"/>\n",
       "<circle clip-path=\"url(#clip4903)\" style=\"fill:#e26f46; stroke:none; fill-opacity:1\" cx=\"2049.89\" cy=\"694.655\" r=\"14\"/>\n",
       "<circle clip-path=\"url(#clip4903)\" style=\"fill:#000000; stroke:none; fill-opacity:1\" cx=\"2247.02\" cy=\"428.921\" r=\"18\"/>\n",
       "<circle clip-path=\"url(#clip4903)\" style=\"fill:#e26f46; stroke:none; fill-opacity:1\" cx=\"2247.02\" cy=\"428.921\" r=\"14\"/>\n",
       "<circle clip-path=\"url(#clip4903)\" style=\"fill:#000000; stroke:none; fill-opacity:1\" cx=\"2263.43\" cy=\"163.187\" r=\"18\"/>\n",
       "<circle clip-path=\"url(#clip4903)\" style=\"fill:#e26f46; stroke:none; fill-opacity:1\" cx=\"2263.43\" cy=\"163.187\" r=\"14\"/>\n",
       "<polygon clip-path=\"url(#clip4901)\" points=\"\n",
       "1880.84,390.944 2249.26,390.944 2249.26,209.504 1880.84,209.504 \n",
       "  \" fill=\"#ffffff\" fill-rule=\"evenodd\" fill-opacity=\"1\"/>\n",
       "<polyline clip-path=\"url(#clip4901)\" style=\"stroke:#000000; stroke-width:4; stroke-opacity:1; fill:none\" points=\"\n",
       "  1880.84,390.944 2249.26,390.944 2249.26,209.504 1880.84,209.504 1880.84,390.944 \n",
       "  \"/>\n",
       "<polyline clip-path=\"url(#clip4901)\" style=\"stroke:#009af9; stroke-width:4; stroke-opacity:1; fill:none\" points=\"\n",
       "  1904.84,269.984 2048.84,269.984 \n",
       "  \"/>\n",
       "<g clip-path=\"url(#clip4901)\">\n",
       "<text style=\"fill:#000000; fill-opacity:1; font-family:Arial,Helvetica Neue,Helvetica,sans-serif; font-size:48px; text-anchor:start;\" transform=\"rotate(0, 2072.84, 287.484)\" x=\"2072.84\" y=\"287.484\">line</text>\n",
       "</g>\n",
       "<circle clip-path=\"url(#clip4901)\" style=\"fill:#000000; stroke:none; fill-opacity:1\" cx=\"1988.84\" cy=\"330.464\" r=\"25\"/>\n",
       "<circle clip-path=\"url(#clip4901)\" style=\"fill:#e26f46; stroke:none; fill-opacity:1\" cx=\"1988.84\" cy=\"330.464\" r=\"21\"/>\n",
       "<g clip-path=\"url(#clip4901)\">\n",
       "<text style=\"fill:#000000; fill-opacity:1; font-family:Arial,Helvetica Neue,Helvetica,sans-serif; font-size:48px; text-anchor:start;\" transform=\"rotate(0, 2072.84, 347.964)\" x=\"2072.84\" y=\"347.964\">points</text>\n",
       "</g>\n",
       "</svg>\n"
      ]
     },
     "execution_count": 36,
     "metadata": {},
     "output_type": "execute_result"
    }
   ],
   "source": [
    "xflip!()"
   ]
  },
  {
   "cell_type": "code",
   "execution_count": 37,
   "metadata": {},
   "outputs": [
    {
     "name": "stdout",
     "output_type": "stream",
     "text": [
      "\u001b[32m\u001b[1m Resolving\u001b[22m\u001b[39m package versions...\n",
      "\u001b[32m\u001b[1m Installed\u001b[22m\u001b[39m UnicodePlots ─ v1.1.0\n",
      "\u001b[32m\u001b[1m  Updating\u001b[22m\u001b[39m `~/.julia/environments/v1.1/Project.toml`\n",
      " \u001b[90m [b8865327]\u001b[39m\u001b[92m + UnicodePlots v1.1.0\u001b[39m\n",
      "\u001b[32m\u001b[1m  Updating\u001b[22m\u001b[39m `~/.julia/environments/v1.1/Manifest.toml`\n",
      " \u001b[90m [b8865327]\u001b[39m\u001b[92m + UnicodePlots v1.1.0\u001b[39m\n"
     ]
    }
   ],
   "source": [
    "Pkg.add(\"UnicodePlots\")"
   ]
  },
  {
   "cell_type": "code",
   "execution_count": 38,
   "metadata": {},
   "outputs": [
    {
     "name": "stderr",
     "output_type": "stream",
     "text": [
      "┌ Info: Precompiling UnicodePlots [b8865327-cd53-5732-bb35-84acbb429228]\n",
      "└ @ Base loading.jl:1186\n"
     ]
    },
    {
     "data": {
      "text/plain": [
       "Plots.UnicodePlotsBackend()"
      ]
     },
     "execution_count": 38,
     "metadata": {},
     "output_type": "execute_result"
    }
   ],
   "source": [
    "unicodeplots()"
   ]
  },
  {
   "cell_type": "code",
   "execution_count": 50,
   "metadata": {},
   "outputs": [
    {
     "name": "stdout",
     "output_type": "stream",
     "text": [
      "\u001b[32m\u001b[1m  Building\u001b[22m\u001b[39m Conda ─→ `~/.julia/packages/Conda/CpuvI/deps/build.log`\n",
      "\u001b[32m\u001b[1m  Building\u001b[22m\u001b[39m PyCall → `~/.julia/packages/PyCall/0jMpb/deps/build.log`\n"
     ]
    }
   ],
   "source": [
    "Pkg.build(\"PyPlot\")"
   ]
  },
  {
   "cell_type": "code",
   "execution_count": 43,
   "metadata": {},
   "outputs": [
    {
     "name": "stdout",
     "output_type": "stream",
     "text": [
      "\u001b[32m\u001b[1m Resolving\u001b[22m\u001b[39m package versions...\n",
      "\u001b[32m\u001b[1m  Updating\u001b[22m\u001b[39m `~/.julia/environments/v1.1/Project.toml`\n",
      " \u001b[90m [8f4d0f93]\u001b[39m\u001b[92m + Conda v1.2.0\u001b[39m\n",
      "\u001b[32m\u001b[1m  Updating\u001b[22m\u001b[39m `~/.julia/environments/v1.1/Manifest.toml`\n",
      "\u001b[90m [no changes]\u001b[39m\n"
     ]
    }
   ],
   "source": [
    "Pkg.add(\"Conda\")"
   ]
  },
  {
   "cell_type": "code",
   "execution_count": 44,
   "metadata": {},
   "outputs": [],
   "source": [
    "using Conda"
   ]
  },
  {
   "cell_type": "code",
   "execution_count": 45,
   "metadata": {},
   "outputs": [
    {
     "name": "stderr",
     "output_type": "stream",
     "text": [
      "┌ Info: Running `conda install -y matplotlib` in root environment\n",
      "└ @ Conda /home/olszewskip/.julia/packages/Conda/CpuvI/src/Conda.jl:112\n"
     ]
    },
    {
     "name": "stdout",
     "output_type": "stream",
     "text": [
      "Collecting package metadata: ...working... done\n",
      "Solving environment: ...working... done\n",
      "\n",
      "## Package Plan ##\n",
      "\n",
      "  environment location: /home/olszewskip/.julia/conda/3\n",
      "\n",
      "  added / updated specs:\n",
      "    - matplotlib\n",
      "\n",
      "\n",
      "The following packages will be downloaded:\n",
      "\n",
      "    package                    |            build\n",
      "    ---------------------------|-----------------\n",
      "    blas-1.0                   |              mkl           6 KB\n",
      "    ca-certificates-2019.1.23  |                0         126 KB\n",
      "    conda-4.6.3                |           py37_0         1.7 MB\n",
      "    cycler-0.10.0              |           py37_0          13 KB\n",
      "    intel-openmp-2019.1        |              144         885 KB\n",
      "    kiwisolver-1.0.1           |   py37hf484d3e_0          83 KB\n",
      "    libgfortran-ng-7.3.0       |       hdf63c60_0         1.3 MB\n",
      "    matplotlib-3.0.2           |   py37h5429711_0         6.6 MB\n",
      "    mkl-2019.1                 |              144       204.6 MB\n",
      "    mkl_fft-1.0.10             |   py37ha843d7b_0         169 KB\n",
      "    mkl_random-1.0.2           |   py37hd81dba3_0         405 KB\n",
      "    numpy-1.15.4               |   py37h7e9f1db_0          47 KB\n",
      "    numpy-base-1.15.4          |   py37hde5b4d6_0         4.2 MB\n",
      "    pyparsing-2.3.1            |           py37_0         105 KB\n",
      "    pytz-2018.9                |           py37_0         258 KB\n",
      "    ------------------------------------------------------------\n",
      "                                           Total:       220.4 MB\n",
      "\n",
      "The following NEW packages will be INSTALLED:\n",
      "\n",
      "  blas               pkgs/main/linux-64::blas-1.0-mkl\n",
      "  cycler             pkgs/main/linux-64::cycler-0.10.0-py37_0\n",
      "  intel-openmp       pkgs/main/linux-64::intel-openmp-2019.1-144\n",
      "  kiwisolver         pkgs/main/linux-64::kiwisolver-1.0.1-py37hf484d3e_0\n",
      "  libgfortran-ng     pkgs/main/linux-64::libgfortran-ng-7.3.0-hdf63c60_0\n",
      "  matplotlib         pkgs/main/linux-64::matplotlib-3.0.2-py37h5429711_0\n",
      "  mkl                pkgs/main/linux-64::mkl-2019.1-144\n",
      "  mkl_fft            pkgs/main/linux-64::mkl_fft-1.0.10-py37ha843d7b_0\n",
      "  mkl_random         pkgs/main/linux-64::mkl_random-1.0.2-py37hd81dba3_0\n",
      "  numpy              pkgs/main/linux-64::numpy-1.15.4-py37h7e9f1db_0\n",
      "  numpy-base         pkgs/main/linux-64::numpy-base-1.15.4-py37hde5b4d6_0\n",
      "  pyparsing          pkgs/main/linux-64::pyparsing-2.3.1-py37_0\n",
      "  pytz               pkgs/main/linux-64::pytz-2018.9-py37_0\n",
      "\n",
      "The following packages will be UPDATED:\n",
      "\n",
      "  ca-certificates                               2018.12.5-0 --> 2019.1.23-0\n",
      "  conda                                        4.6.2-py37_0 --> 4.6.3-py37_0\n",
      "\n",
      "\n",
      "\n",
      "Downloading and Extracting Packages\n",
      "pyparsing-2.3.1      | 105 KB    | ########## | 100% \n",
      "pytz-2018.9          | 258 KB    | ########## | 100% \n",
      "ca-certificates-2019 | 126 KB    | ########## | 100% \n",
      "mkl-2019.1           | 204.6 MB  | ########## | 100% \n",
      "libgfortran-ng-7.3.0 | 1.3 MB    | ########## | 100% \n",
      "matplotlib-3.0.2     | 6.6 MB    | ########## | 100% \n",
      "intel-openmp-2019.1  | 885 KB    | ########## | 100% \n",
      "blas-1.0             | 6 KB      | ########## | 100% \n",
      "kiwisolver-1.0.1     | 83 KB     | ########## | 100% \n",
      "numpy-base-1.15.4    | 4.2 MB    | ########## | 100% \n",
      "conda-4.6.3          | 1.7 MB    | ########## | 100% \n",
      "cycler-0.10.0        | 13 KB     | ########## | 100% \n",
      "mkl_random-1.0.2     | 405 KB    | ########## | 100% \n",
      "mkl_fft-1.0.10       | 169 KB    | ########## | 100% \n",
      "numpy-1.15.4         | 47 KB     | ########## | 100% \n",
      "Preparing transaction: ...working... done\n",
      "Verifying transaction: ...working... done\n",
      "Executing transaction: ...working... done\n"
     ]
    }
   ],
   "source": [
    "Conda.add(\"matplotlib\")"
   ]
  },
  {
   "cell_type": "code",
   "execution_count": 2,
   "metadata": {},
   "outputs": [
    {
     "data": {
      "text/plain": [
       "Plots.PyPlotBackend()"
      ]
     },
     "execution_count": 2,
     "metadata": {},
     "output_type": "execute_result"
    }
   ],
   "source": [
    "pyplot()"
   ]
  },
  {
   "cell_type": "code",
   "execution_count": 4,
   "metadata": {},
   "outputs": [
    {
     "data": {
      "image/png": "[encoded data removed]"
     },
     "execution_count": 4,
     "metadata": {},
     "output_type": "execute_result"
    }
   ],
   "source": [
    "myfig = plot(numpirates, globaltemperatures, label=\"line\")\n",
    "scatter!(myfig, numpirates, globaltemperatures, label=\"points\")\n",
    "xlabel!(\"Number of Pirates\")\n",
    "ylabel!(\"Global temperature\")\n",
    "title!(\"Pirate population vs global warming\")\n",
    "xflip!()"
   ]
  },
  {
   "cell_type": "code",
   "execution_count": 6,
   "metadata": {},
   "outputs": [
    {
     "data": {
      "text/plain": [
       "-10:10"
      ]
     },
     "execution_count": 6,
     "metadata": {},
     "output_type": "execute_result"
    }
   ],
   "source": [
    "x = -10:10"
   ]
  },
  {
   "cell_type": "code",
   "execution_count": 7,
   "metadata": {},
   "outputs": [
    {
     "data": {
      "image/png": "[encoded data removed]"
     },
     "execution_count": 7,
     "metadata": {},
     "output_type": "execute_result"
    }
   ],
   "source": [
    "p1 = plot(x, x)\n",
    "p2 = plot(x, x.^2)\n",
    "p3 = plot(x, x.^3)\n",
    "p4 = plot(x, x.^4)\n",
    "plot(p1, p2, p3, p4, layout = (2,2), legend = false)"
   ]
  },
  {
   "cell_type": "markdown",
   "metadata": {},
   "source": [
    "---\n",
    "09 Being fast"
   ]
  },
  {
   "cell_type": "code",
   "execution_count": 8,
   "metadata": {},
   "outputs": [
    {
     "ename": "LoadError",
     "evalue": "syntax: invalid identifier name \"...\"",
     "output_type": "error",
     "traceback": [
      "syntax: invalid identifier name \"...\"",
      ""
     ]
    }
   ],
   "source": [
    "..."
   ]
  },
  {
   "cell_type": "code",
   "execution_count": 12,
   "metadata": {},
   "outputs": [
    {
     "name": "stdout",
     "output_type": "stream",
     "text": [
      "search: \u001b[0m\u001b[1mi\u001b[22m\u001b[0m\u001b[1ms\u001b[22m\u001b[0m\u001b[1ma\u001b[22m\u001b[0m\u001b[1mp\u001b[22m\u001b[0m\u001b[1mp\u001b[22m\u001b[0m\u001b[1mr\u001b[22m\u001b[0m\u001b[1mo\u001b[22m\u001b[0m\u001b[1mx\u001b[22m\n",
      "\n"
     ]
    },
    {
     "data": {
      "text/latex": [
       "\\begin{verbatim}\n",
       "isapprox(x, y; rtol::Real=atol>0 ? 0 : √eps, atol::Real=0, nans::Bool=false, norm::Function)\n",
       "\\end{verbatim}\n",
       "Inexact equality comparison: \\texttt{true} if \\texttt{norm(x-y) <= max(atol, rtol*max(norm(x), norm(y)))}. The default \\texttt{atol} is zero and the default \\texttt{rtol} depends on the types of \\texttt{x} and \\texttt{y}. The keyword argument \\texttt{nans} determines whether or not NaN values are considered equal (defaults to false).\n",
       "\n",
       "For real or complex floating-point values, if an \\texttt{atol > 0} is not specified, \\texttt{rtol} defaults to the square root of \\href{@ref}{\\texttt{eps}} of the type of \\texttt{x} or \\texttt{y}, whichever is bigger (least precise). This corresponds to requiring equality of about half of the significand digits. Otherwise, e.g. for integer arguments or if an \\texttt{atol > 0} is supplied, \\texttt{rtol} defaults to zero.\n",
       "\n",
       "\\texttt{x} and \\texttt{y} may also be arrays of numbers, in which case \\texttt{norm} defaults to \\texttt{vecnorm} but may be changed by passing a \\texttt{norm::Function} keyword argument. (For numbers, \\texttt{norm} is the same thing as \\texttt{abs}.) When \\texttt{x} and \\texttt{y} are arrays, if \\texttt{norm(x-y)} is not finite (i.e. \\texttt{±Inf} or \\texttt{NaN}), the comparison falls back to checking whether all elements of \\texttt{x} and \\texttt{y} are approximately equal component-wise.\n",
       "\n",
       "The binary operator \\texttt{≈} is equivalent to \\texttt{isapprox} with the default arguments, and \\texttt{x ≉ y} is equivalent to \\texttt{!isapprox(x,y)}.\n",
       "\n",
       "Note that \\texttt{x ≈ 0} (i.e., comparing to zero with the default tolerances) is equivalent to \\texttt{x == 0} since the default \\texttt{atol} is \\texttt{0}.  In such cases, you should either supply an appropriate \\texttt{atol} (or use \\texttt{norm(x) ≤ atol}) or rearrange your code (e.g. use \\texttt{x ≈ y} rather than \\texttt{x - y ≈ 0}).   It is not possible to pick a nonzero \\texttt{atol} automatically because it depends on the overall scaling (the \"units\") of your problem: for example, in \\texttt{x - y ≈ 0}, \\texttt{atol=1e-9} is an absurdly small tolerance if \\texttt{x} is the \\href{https://en.wikipedia.org/wiki/Earth_radius}{radius of the Earth} in meters, but an absurdly large tolerance if \\texttt{x} is the \\href{https://en.wikipedia.org/wiki/Bohr_radius}{radius of a Hydrogen atom} in meters.\n",
       "\n",
       "\\section{Examples}\n",
       "\\begin{verbatim}\n",
       "julia> 0.1 ≈ (0.1 - 1e-10)\n",
       "true\n",
       "\n",
       "julia> isapprox(10, 11; atol = 2)\n",
       "true\n",
       "\n",
       "julia> isapprox([10.0^9, 1.0], [10.0^9, 2.0])\n",
       "true\n",
       "\n",
       "julia> 1e-10 ≈ 0\n",
       "false\n",
       "\n",
       "julia> isapprox(1e-10, 0, atol=1e-8)\n",
       "true\n",
       "\\end{verbatim}\n",
       "\\rule{\\textwidth}{1pt}\n",
       "\\begin{verbatim}\n",
       "isapprox(x::FixedPoint, y::FixedPoint; rtol=0, atol=max(eps(x), eps(y)))\n",
       "\\end{verbatim}\n",
       "For FixedPoint numbers, the default criterion is that \\texttt{x} and \\texttt{y} differ by no more than \\texttt{eps}, the separation between adjacent fixed-point numbers.\n",
       "\n"
      ],
      "text/markdown": [
       "```\n",
       "isapprox(x, y; rtol::Real=atol>0 ? 0 : √eps, atol::Real=0, nans::Bool=false, norm::Function)\n",
       "```\n",
       "\n",
       "Inexact equality comparison: `true` if `norm(x-y) <= max(atol, rtol*max(norm(x), norm(y)))`. The default `atol` is zero and the default `rtol` depends on the types of `x` and `y`. The keyword argument `nans` determines whether or not NaN values are considered equal (defaults to false).\n",
       "\n",
       "For real or complex floating-point values, if an `atol > 0` is not specified, `rtol` defaults to the square root of [`eps`](@ref) of the type of `x` or `y`, whichever is bigger (least precise). This corresponds to requiring equality of about half of the significand digits. Otherwise, e.g. for integer arguments or if an `atol > 0` is supplied, `rtol` defaults to zero.\n",
       "\n",
       "`x` and `y` may also be arrays of numbers, in which case `norm` defaults to `vecnorm` but may be changed by passing a `norm::Function` keyword argument. (For numbers, `norm` is the same thing as `abs`.) When `x` and `y` are arrays, if `norm(x-y)` is not finite (i.e. `±Inf` or `NaN`), the comparison falls back to checking whether all elements of `x` and `y` are approximately equal component-wise.\n",
       "\n",
       "The binary operator `≈` is equivalent to `isapprox` with the default arguments, and `x ≉ y` is equivalent to `!isapprox(x,y)`.\n",
       "\n",
       "Note that `x ≈ 0` (i.e., comparing to zero with the default tolerances) is equivalent to `x == 0` since the default `atol` is `0`.  In such cases, you should either supply an appropriate `atol` (or use `norm(x) ≤ atol`) or rearrange your code (e.g. use `x ≈ y` rather than `x - y ≈ 0`).   It is not possible to pick a nonzero `atol` automatically because it depends on the overall scaling (the \"units\") of your problem: for example, in `x - y ≈ 0`, `atol=1e-9` is an absurdly small tolerance if `x` is the [radius of the Earth](https://en.wikipedia.org/wiki/Earth_radius) in meters, but an absurdly large tolerance if `x` is the [radius of a Hydrogen atom](https://en.wikipedia.org/wiki/Bohr_radius) in meters.\n",
       "\n",
       "# Examples\n",
       "\n",
       "```jldoctest\n",
       "julia> 0.1 ≈ (0.1 - 1e-10)\n",
       "true\n",
       "\n",
       "julia> isapprox(10, 11; atol = 2)\n",
       "true\n",
       "\n",
       "julia> isapprox([10.0^9, 1.0], [10.0^9, 2.0])\n",
       "true\n",
       "\n",
       "julia> 1e-10 ≈ 0\n",
       "false\n",
       "\n",
       "julia> isapprox(1e-10, 0, atol=1e-8)\n",
       "true\n",
       "```\n",
       "\n",
       "---\n",
       "\n",
       "```\n",
       "isapprox(x::FixedPoint, y::FixedPoint; rtol=0, atol=max(eps(x), eps(y)))\n",
       "```\n",
       "\n",
       "For FixedPoint numbers, the default criterion is that `x` and `y` differ by no more than `eps`, the separation between adjacent fixed-point numbers.\n"
      ],
      "text/plain": [
       "\u001b[36m  isapprox(x, y; rtol::Real=atol>0 ? 0 : √eps, atol::Real=0, nans::Bool=false, norm::Function)\u001b[39m\n",
       "\n",
       "  Inexact equality comparison: \u001b[36mtrue\u001b[39m if \u001b[36mnorm(x-y) <= max(atol,\n",
       "  rtol*max(norm(x), norm(y)))\u001b[39m. The default \u001b[36matol\u001b[39m is zero and the default \u001b[36mrtol\u001b[39m\n",
       "  depends on the types of \u001b[36mx\u001b[39m and \u001b[36my\u001b[39m. The keyword argument \u001b[36mnans\u001b[39m determines\n",
       "  whether or not NaN values are considered equal (defaults to false).\n",
       "\n",
       "  For real or complex floating-point values, if an \u001b[36matol > 0\u001b[39m is not specified,\n",
       "  \u001b[36mrtol\u001b[39m defaults to the square root of \u001b[36meps\u001b[39m of the type of \u001b[36mx\u001b[39m or \u001b[36my\u001b[39m, whichever is\n",
       "  bigger (least precise). This corresponds to requiring equality of about half\n",
       "  of the significand digits. Otherwise, e.g. for integer arguments or if an\n",
       "  \u001b[36matol > 0\u001b[39m is supplied, \u001b[36mrtol\u001b[39m defaults to zero.\n",
       "\n",
       "  \u001b[36mx\u001b[39m and \u001b[36my\u001b[39m may also be arrays of numbers, in which case \u001b[36mnorm\u001b[39m defaults to\n",
       "  \u001b[36mvecnorm\u001b[39m but may be changed by passing a \u001b[36mnorm::Function\u001b[39m keyword argument.\n",
       "  (For numbers, \u001b[36mnorm\u001b[39m is the same thing as \u001b[36mabs\u001b[39m.) When \u001b[36mx\u001b[39m and \u001b[36my\u001b[39m are arrays, if\n",
       "  \u001b[36mnorm(x-y)\u001b[39m is not finite (i.e. \u001b[36m±Inf\u001b[39m or \u001b[36mNaN\u001b[39m), the comparison falls back to\n",
       "  checking whether all elements of \u001b[36mx\u001b[39m and \u001b[36my\u001b[39m are approximately equal\n",
       "  component-wise.\n",
       "\n",
       "  The binary operator \u001b[36m≈\u001b[39m is equivalent to \u001b[36misapprox\u001b[39m with the default arguments,\n",
       "  and \u001b[36mx ≉ y\u001b[39m is equivalent to \u001b[36m!isapprox(x,y)\u001b[39m.\n",
       "\n",
       "  Note that \u001b[36mx ≈ 0\u001b[39m (i.e., comparing to zero with the default tolerances) is\n",
       "  equivalent to \u001b[36mx == 0\u001b[39m since the default \u001b[36matol\u001b[39m is \u001b[36m0\u001b[39m. In such cases, you should\n",
       "  either supply an appropriate \u001b[36matol\u001b[39m (or use \u001b[36mnorm(x) ≤ atol\u001b[39m) or rearrange your\n",
       "  code (e.g. use \u001b[36mx ≈ y\u001b[39m rather than \u001b[36mx - y ≈ 0\u001b[39m). It is not possible to pick a\n",
       "  nonzero \u001b[36matol\u001b[39m automatically because it depends on the overall scaling (the\n",
       "  \"units\") of your problem: for example, in \u001b[36mx - y ≈ 0\u001b[39m, \u001b[36matol=1e-9\u001b[39m is an\n",
       "  absurdly small tolerance if \u001b[36mx\u001b[39m is the radius of the Earth\n",
       "  (https://en.wikipedia.org/wiki/Earth_radius) in meters, but an absurdly\n",
       "  large tolerance if \u001b[36mx\u001b[39m is the radius of a Hydrogen atom\n",
       "  (https://en.wikipedia.org/wiki/Bohr_radius) in meters.\n",
       "\n",
       "\u001b[1m  Examples\u001b[22m\n",
       "\u001b[1m  ≡≡≡≡≡≡≡≡≡≡\u001b[22m\n",
       "\n",
       "\u001b[36m  julia> 0.1 ≈ (0.1 - 1e-10)\u001b[39m\n",
       "\u001b[36m  true\u001b[39m\n",
       "\u001b[36m  \u001b[39m\n",
       "\u001b[36m  julia> isapprox(10, 11; atol = 2)\u001b[39m\n",
       "\u001b[36m  true\u001b[39m\n",
       "\u001b[36m  \u001b[39m\n",
       "\u001b[36m  julia> isapprox([10.0^9, 1.0], [10.0^9, 2.0])\u001b[39m\n",
       "\u001b[36m  true\u001b[39m\n",
       "\u001b[36m  \u001b[39m\n",
       "\u001b[36m  julia> 1e-10 ≈ 0\u001b[39m\n",
       "\u001b[36m  false\u001b[39m\n",
       "\u001b[36m  \u001b[39m\n",
       "\u001b[36m  julia> isapprox(1e-10, 0, atol=1e-8)\u001b[39m\n",
       "\u001b[36m  true\u001b[39m\n",
       "\n",
       "  ────────────────────────────────────────────────────────────────────────────\n",
       "\n",
       "\u001b[36m  isapprox(x::FixedPoint, y::FixedPoint; rtol=0, atol=max(eps(x), eps(y)))\u001b[39m\n",
       "\n",
       "  For FixedPoint numbers, the default criterion is that \u001b[36mx\u001b[39m and \u001b[36my\u001b[39m differ by no\n",
       "  more than \u001b[36meps\u001b[39m, the separation between adjacent fixed-point numbers."
      ]
     },
     "execution_count": 12,
     "metadata": {},
     "output_type": "execute_result"
    }
   ],
   "source": [
    "?isapprox"
   ]
  },
  {
   "cell_type": "code",
   "execution_count": 15,
   "metadata": {},
   "outputs": [
    {
     "data": {
      "text/html": [
       "sum(a::<b>AbstractArray</b>) in Base at <a href=\"https://github.com/JuliaLang/julia/tree/80516ca20297a67b996caa08c38786332379b6a5/base/reducedim.jl#L648\" target=\"_blank\">reducedim.jl:648</a>"
      ],
      "text/plain": [
       "sum(a::AbstractArray) in Base at reducedim.jl:648"
      ]
     },
     "execution_count": 15,
     "metadata": {},
     "output_type": "execute_result"
    }
   ],
   "source": [
    "@which sum(rand(3))"
   ]
  },
  {
   "cell_type": "markdown",
   "metadata": {},
   "source": [
    "---\n",
    "10 multiple dispatch"
   ]
  },
  {
   "cell_type": "code",
   "execution_count": 1,
   "metadata": {},
   "outputs": [
    {
     "data": {
      "text/plain": [
       "f (generic function with 1 method)"
      ]
     },
     "execution_count": 1,
     "metadata": {},
     "output_type": "execute_result"
    }
   ],
   "source": [
    "f(x::Int) = x^2"
   ]
  },
  {
   "cell_type": "code",
   "execution_count": 3,
   "metadata": {},
   "outputs": [
    {
     "data": {
      "text/plain": [
       "1"
      ]
     },
     "execution_count": 3,
     "metadata": {},
     "output_type": "execute_result"
    }
   ],
   "source": [
    "f(1)"
   ]
  },
  {
   "cell_type": "code",
   "execution_count": 2,
   "metadata": {},
   "outputs": [
    {
     "ename": "MethodError",
     "evalue": "MethodError: no method matching f(::Float64)\nClosest candidates are:\n  f(!Matched::Int64) at In[1]:1",
     "output_type": "error",
     "traceback": [
      "MethodError: no method matching f(::Float64)\nClosest candidates are:\n  f(!Matched::Int64) at In[1]:1",
      "",
      "Stacktrace:",
      " [1] top-level scope at In[2]:1"
     ]
    }
   ],
   "source": [
    "f(1.)"
   ]
  },
  {
   "cell_type": "markdown",
   "metadata": {},
   "source": [
    "---\n",
    "11 algebra"
   ]
  },
  {
   "cell_type": "code",
   "execution_count": 4,
   "metadata": {},
   "outputs": [
    {
     "data": {
      "text/plain": [
       "3×3 Array{Int64,2}:\n",
       " 2  2  3\n",
       " 3  1  3\n",
       " 4  2  4"
      ]
     },
     "execution_count": 4,
     "metadata": {},
     "output_type": "execute_result"
    }
   ],
   "source": [
    "A = rand(1:4, 3, 3)"
   ]
  },
  {
   "cell_type": "code",
   "execution_count": 6,
   "metadata": {},
   "outputs": [
    {
     "data": {
      "text/plain": [
       "Tuple{Int64}"
      ]
     },
     "execution_count": 6,
     "metadata": {},
     "output_type": "execute_result"
    }
   ],
   "source": [
    "typeof((3,))"
   ]
  },
  {
   "cell_type": "code",
   "execution_count": 7,
   "metadata": {},
   "outputs": [
    {
     "data": {
      "text/plain": [
       "3-element Array{Float64,1}:\n",
       " 1.0\n",
       " 1.0\n",
       " 1.0"
      ]
     },
     "execution_count": 7,
     "metadata": {},
     "output_type": "execute_result"
    }
   ],
   "source": [
    "x = fill(1.0, (3,))"
   ]
  },
  {
   "cell_type": "code",
   "execution_count": 8,
   "metadata": {},
   "outputs": [
    {
     "data": {
      "text/plain": [
       "3-element Array{Float64,1}:\n",
       "  7.0\n",
       "  7.0\n",
       " 10.0"
      ]
     },
     "execution_count": 8,
     "metadata": {},
     "output_type": "execute_result"
    }
   ],
   "source": [
    "b = A*x"
   ]
  },
  {
   "cell_type": "code",
   "execution_count": 9,
   "metadata": {},
   "outputs": [
    {
     "data": {
      "text/plain": [
       "3×3 LinearAlgebra.Adjoint{Int64,Array{Int64,2}}:\n",
       " 2  3  4\n",
       " 2  1  2\n",
       " 3  3  4"
      ]
     },
     "execution_count": 9,
     "metadata": {},
     "output_type": "execute_result"
    }
   ],
   "source": [
    "A'"
   ]
  },
  {
   "cell_type": "code",
   "execution_count": 10,
   "metadata": {},
   "outputs": [
    {
     "data": {
      "text/plain": [
       "3×3 Array{Int64,2}:\n",
       " 29  15  31\n",
       " 15   9  17\n",
       " 31  17  34"
      ]
     },
     "execution_count": 10,
     "metadata": {},
     "output_type": "execute_result"
    }
   ],
   "source": [
    "A'A"
   ]
  },
  {
   "cell_type": "code",
   "execution_count": 11,
   "metadata": {},
   "outputs": [
    {
     "data": {
      "text/plain": [
       "3-element Array{Float64,1}:\n",
       " 1.0\n",
       " 1.0\n",
       " 1.0"
      ]
     },
     "execution_count": 11,
     "metadata": {},
     "output_type": "execute_result"
    }
   ],
   "source": [
    "A\\b"
   ]
  },
  {
   "cell_type": "code",
   "execution_count": 12,
   "metadata": {},
   "outputs": [
    {
     "data": {
      "text/plain": [
       "3×2 Array{Float64,2}:\n",
       " 0.876858  0.508467\n",
       " 0.35039   0.768946\n",
       " 0.498572  0.595242"
      ]
     },
     "execution_count": 12,
     "metadata": {},
     "output_type": "execute_result"
    }
   ],
   "source": [
    "Atall = rand(3, 2)"
   ]
  },
  {
   "cell_type": "code",
   "execution_count": 13,
   "metadata": {},
   "outputs": [
    {
     "data": {
      "text/plain": [
       "2-element Array{Float64,1}:\n",
       " 3.65315980371328 \n",
       " 9.298928331820257"
      ]
     },
     "execution_count": 13,
     "metadata": {},
     "output_type": "execute_result"
    }
   ],
   "source": [
    "Atall \\ b"
   ]
  },
  {
   "cell_type": "code",
   "execution_count": 14,
   "metadata": {},
   "outputs": [
    {
     "name": "stdout",
     "output_type": "stream",
     "text": [
      "\u001b[32m\u001b[1m  Updating\u001b[22m\u001b[39m registry at `~/.julia/registries/General`\n",
      "\u001b[32m\u001b[1m  Updating\u001b[22m\u001b[39m git-repo `https://github.com/JuliaRegistries/General.git`\n",
      "\u001b[?25l\u001b[2K\u001b[?25h\u001b[32m\u001b[1m Resolving\u001b[22m\u001b[39m package versions...\n",
      "\u001b[32m\u001b[1m  Updating\u001b[22m\u001b[39m `~/.julia/environments/v1.1/Project.toml`\n",
      " \u001b[90m [37e2e46d]\u001b[39m\u001b[92m + LinearAlgebra \u001b[39m\n",
      "\u001b[32m\u001b[1m  Updating\u001b[22m\u001b[39m `~/.julia/environments/v1.1/Manifest.toml`\n",
      "\u001b[90m [no changes]\u001b[39m\n"
     ]
    }
   ],
   "source": [
    "using Pkg\n",
    "Pkg.add(\"LinearAlgebra\")"
   ]
  },
  {
   "cell_type": "code",
   "execution_count": 15,
   "metadata": {},
   "outputs": [],
   "source": [
    "using LinearAlgebra"
   ]
  },
  {
   "cell_type": "code",
   "execution_count": 18,
   "metadata": {},
   "outputs": [
    {
     "data": {
      "text/plain": [
       "3-element Array{Float64,1}:\n",
       " 0.6977940006571979\n",
       " 1.8906278409055464\n",
       " 1.906400862412247 "
      ]
     },
     "execution_count": 18,
     "metadata": {},
     "output_type": "execute_result"
    }
   ],
   "source": [
    "A = rand(3,3)\n",
    "x = fill(1, 3)\n",
    "b = A * x"
   ]
  },
  {
   "cell_type": "code",
   "execution_count": 19,
   "metadata": {},
   "outputs": [
    {
     "data": {
      "text/plain": [
       "LU{Float64,Array{Float64,2}}\n",
       "L factor:\n",
       "3×3 Array{Float64,2}:\n",
       " 1.0       0.0        0.0\n",
       " 0.485778  1.0        0.0\n",
       " 0.348994  0.0812605  1.0\n",
       "U factor:\n",
       "3×3 Array{Float64,2}:\n",
       " 0.897475  0.781698   0.211455 \n",
       " 0.0       0.509592   0.478383 \n",
       " 0.0       0.0       -0.0423078"
      ]
     },
     "execution_count": 19,
     "metadata": {},
     "output_type": "execute_result"
    }
   ],
   "source": [
    "Alu = lu(A)"
   ]
  },
  {
   "cell_type": "code",
   "execution_count": 20,
   "metadata": {},
   "outputs": [
    {
     "data": {
      "text/plain": [
       "3×3 Array{Float64,2}:\n",
       " 0.0  1.0  0.0\n",
       " 0.0  0.0  1.0\n",
       " 1.0  0.0  0.0"
      ]
     },
     "execution_count": 20,
     "metadata": {},
     "output_type": "execute_result"
    }
   ],
   "source": [
    "Alu.P"
   ]
  },
  {
   "cell_type": "code",
   "execution_count": 21,
   "metadata": {},
   "outputs": [
    {
     "data": {
      "text/plain": [
       "3×3 Array{Float64,2}:\n",
       " 1.0       0.0        0.0\n",
       " 0.485778  1.0        0.0\n",
       " 0.348994  0.0812605  1.0"
      ]
     },
     "execution_count": 21,
     "metadata": {},
     "output_type": "execute_result"
    }
   ],
   "source": [
    "Alu.L"
   ]
  },
  {
   "cell_type": "code",
   "execution_count": 22,
   "metadata": {},
   "outputs": [
    {
     "data": {
      "text/plain": [
       "3×3 Array{Float64,2}:\n",
       " 0.897475  0.781698   0.211455 \n",
       " 0.0       0.509592   0.478383 \n",
       " 0.0       0.0       -0.0423078"
      ]
     },
     "execution_count": 22,
     "metadata": {},
     "output_type": "execute_result"
    }
   ],
   "source": [
    "Alu.U"
   ]
  },
  {
   "cell_type": "code",
   "execution_count": 24,
   "metadata": {},
   "outputs": [
    {
     "data": {
      "text/plain": [
       "-0.019349305670115904"
      ]
     },
     "execution_count": 24,
     "metadata": {},
     "output_type": "execute_result"
    }
   ],
   "source": [
    "det(Alu)"
   ]
  },
  {
   "cell_type": "code",
   "execution_count": 23,
   "metadata": {},
   "outputs": [
    {
     "data": {
      "text/plain": [
       "LinearAlgebra.QRCompactWY{Float64,Array{Float64,2}}\n",
       "Q factor:\n",
       "3×3 LinearAlgebra.QRCompactWYQ{Float64,Array{Float64,2}}:\n",
       " -0.299505  -0.0564777  -0.952422 \n",
       " -0.858194  -0.420237    0.294793 \n",
       " -0.416892   0.905655    0.0773943\n",
       "R factor:\n",
       "3×3 Array{Float64,2}:\n",
       " -1.04577  -1.13571   -0.444801 \n",
       "  0.0       0.459176   0.433444 \n",
       "  0.0       0.0        0.0402949"
      ]
     },
     "execution_count": 23,
     "metadata": {},
     "output_type": "execute_result"
    }
   ],
   "source": [
    "Aqr = qr(A)"
   ]
  },
  {
   "cell_type": "code",
   "execution_count": null,
   "metadata": {},
   "outputs": [],
   "source": []
  }
 ],
 "metadata": {
  "kernelspec": {
   "display_name": "Julia 1.1.0",
   "language": "julia",
   "name": "julia-1.1"
  },
  "language_info": {
   "file_extension": ".jl",
   "mimetype": "application/julia",
   "name": "julia",
   "version": "1.1.0"
  }
 },
 "nbformat": 4,
 "nbformat_minor": 2
}
