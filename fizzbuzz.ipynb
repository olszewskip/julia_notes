{
 "cells": [
  {
   "cell_type": "code",
   "execution_count": 8,
   "metadata": {},
   "outputs": [],
   "source": [
    "using Flux: Optimise.update!\n",
    "using Flux: Chain, Dense, params, crossentropy, onehotbatch,\n",
    "            ADAM, train!, softmax\n",
    "using Test"
   ]
  },
  {
   "cell_type": "code",
   "execution_count": 9,
   "metadata": {},
   "outputs": [
    {
     "data": {
      "text/plain": [
       "update! (generic function with 3 methods)"
      ]
     },
     "execution_count": 9,
     "metadata": {},
     "output_type": "execute_result"
    }
   ],
   "source": [
    "update!"
   ]
  },
  {
   "cell_type": "code",
   "execution_count": 10,
   "metadata": {},
   "outputs": [
    {
     "data": {
      "text/plain": [
       "fizzbuzz (generic function with 1 method)"
      ]
     },
     "execution_count": 10,
     "metadata": {},
     "output_type": "execute_result"
    }
   ],
   "source": [
    "# Data preparation\n",
    "function fizzbuzz(x::Int)\n",
    "    is_divisible_by_three = x % 3 == 0\n",
    "    is_divisible_by_five = x % 5 == 0\n",
    "\n",
    "    if is_divisible_by_three & is_divisible_by_five\n",
    "        return \"fizzbuzz\"\n",
    "    elseif is_divisible_by_three\n",
    "        return \"fizz\"\n",
    "    elseif is_divisible_by_five\n",
    "        return \"buzz\"\n",
    "    else\n",
    "        return \"else\"\n",
    "    end\n",
    "end"
   ]
  },
  {
   "cell_type": "code",
   "execution_count": 11,
   "metadata": {},
   "outputs": [
    {
     "data": {
      "text/plain": [
       "\u001b[32m\u001b[1mTest Passed\u001b[22m\u001b[39m"
      ]
     },
     "execution_count": 11,
     "metadata": {},
     "output_type": "execute_result"
    }
   ],
   "source": [
    "const LABELS = [\"fizz\", \"buzz\", \"fizzbuzz\", \"else\"];\n",
    "\n",
    "@test fizzbuzz.([3, 5, 15, 98]) == LABELS"
   ]
  },
  {
   "cell_type": "code",
   "execution_count": 12,
   "metadata": {},
   "outputs": [],
   "source": [
    "raw_x = 1:100;\n",
    "raw_y = fizzbuzz.(raw_x);\n",
    "\n",
    "# Feature engineering\n",
    "features(x) = float.([x % 3, x % 5, x % 15])\n",
    "features(x::AbstractArray) = hcat(features.(x)...)\n",
    "\n",
    "X = features(raw_x);\n",
    "y = onehotbatch(raw_y, LABELS);"
   ]
  },
  {
   "cell_type": "code",
   "execution_count": 13,
   "metadata": {},
   "outputs": [
    {
     "data": {
      "text/plain": [
       "ADAM(0.001, (0.9, 0.999), IdDict{Any,Any}())"
      ]
     },
     "execution_count": 13,
     "metadata": {},
     "output_type": "execute_result"
    }
   ],
   "source": [
    "# Model\n",
    "m = Chain(Dense(3, 10), Dense(10, 4), softmax)\n",
    "loss(x, y) = crossentropy(m(x), y)\n",
    "opt = ADAM()"
   ]
  },
  {
   "cell_type": "code",
   "execution_count": 17,
   "metadata": {},
   "outputs": [
    {
     "data": {
      "text/plain": [
       "Params([Float32[0.023057418 -0.0779104 0.6689654; -0.23048396 -0.53844374 -0.26118523; … ; -0.19421501 -0.38229203 0.089005105; -0.5831439 0.2426148 -0.2227154], Float32[0.0, 0.0, 0.0, 0.0, 0.0, 0.0, 0.0, 0.0, 0.0, 0.0], Float32[0.6195384 0.2286895 … 0.15670998 0.34346035; -0.5088699 -0.5411671 … -0.42071873 0.030781789; 0.05211034 0.38014564 … -0.40414646 -0.23240362; -0.28806746 -0.60102713 … 0.005193459 0.501395], Float32[0.0, 0.0, 0.0, 0.0]])"
      ]
     },
     "execution_count": 17,
     "metadata": {},
     "output_type": "execute_result"
    }
   ],
   "source": [
    "params(m)"
   ]
  },
  {
   "cell_type": "code",
   "execution_count": 20,
   "metadata": {},
   "outputs": [
    {
     "name": "stdout",
     "output_type": "stream",
     "text": [
      "Float32[0.023057418 -0.0779104 0.6689654; -0.23048396 -0.53844374 -0.26118523; 0.2748903 -0.5912878 -0.6728332; -0.40165436 0.42718706 0.5492706; -0.22545971 0.23024796 -0.55546314; -0.28587177 -0.31489873 -0.14026001; 0.33795744 0.5896619 0.4808923; 0.47051287 -0.42391908 -0.15348402; -0.19421501 -0.38229203 0.089005105; -0.5831439 0.2426148 -0.2227154]\n",
      "Float32[0.0, 0.0, 0.0, 0.0, 0.0, 0.0, 0.0, 0.0, 0.0, 0.0]\n",
      "Float32[0.6195384 0.2286895 0.13969304 0.37691537 0.38964492 0.004673083 0.28477994 -0.28805906 0.15670998 0.34346035; -0.5088699 -0.5411671 -0.2862296 -0.46749154 0.051294032 0.48093313 -0.20001373 -0.5012951 -0.42071873 0.030781789; 0.05211034 0.38014564 -0.1538554 -0.02091431 -0.16248344 -0.053116284 0.19549423 0.43855277 -0.40414646 -0.23240362; -0.28806746 -0.60102713 0.022345578 0.37853628 -0.19736159 -0.39281538 0.3431777 0.59090185 0.005193459 0.501395]\n",
      "Float32[0.0, 0.0, 0.0, 0.0]\n"
     ]
    }
   ],
   "source": [
    "for param in params(m)\n",
    "    println(param)\n",
    "end"
   ]
  },
  {
   "cell_type": "code",
   "execution_count": 21,
   "metadata": {},
   "outputs": [
    {
     "data": {
      "text/plain": [
       "monitor (generic function with 1 method)"
      ]
     },
     "execution_count": 21,
     "metadata": {},
     "output_type": "execute_result"
    }
   ],
   "source": [
    "# Helpers\n",
    "deepbuzz(x) = (a = argmax(m(features(x))); a == 4 ? x : LABELS[a])\n",
    "\n",
    "function monitor(e)\n",
    "    print(\"epoch $(lpad(e, 4)): loss = $(round(loss(X,y); digits=4)) | \")\n",
    "    @show deepbuzz.([3, 5, 15, 98])\n",
    "end"
   ]
  },
  {
   "cell_type": "code",
   "execution_count": 22,
   "metadata": {},
   "outputs": [
    {
     "name": "stdout",
     "output_type": "stream",
     "text": [
      "epoch    0: loss = 1.4572 | deepbuzz.([3, 5, 15, 98]) = Any[3, 5, \"buzz\", 98]\n",
      "epoch   50: loss = 0.85 | deepbuzz.([3, 5, 15, 98]) = Any[3, 5, \"buzz\", 98]\n",
      "epoch  100: loss = 0.6153 | deepbuzz.([3, 5, 15, 98]) = Any[\"fizz\", 5, \"buzz\", 98]\n",
      "epoch  150: loss = 0.4991 | deepbuzz.([3, 5, 15, 98]) = Any[\"fizz\", 5, \"buzz\", 98]\n",
      "epoch  200: loss = 0.4197 | deepbuzz.([3, 5, 15, 98]) = Any[\"fizz\", 5, \"buzz\", 98]\n",
      "epoch  250: loss = 0.3593 | deepbuzz.([3, 5, 15, 98]) = Any[\"fizz\", 5, \"fizzbuzz\", 98]\n",
      "epoch  300: loss = 0.311 | deepbuzz.([3, 5, 15, 98]) = Any[\"fizz\", \"buzz\", \"fizzbuzz\", 98]\n",
      "epoch  350: loss = 0.2711 | deepbuzz.([3, 5, 15, 98]) = Any[\"fizz\", \"buzz\", \"fizzbuzz\", 98]\n",
      "epoch  400: loss = 0.2375 | deepbuzz.([3, 5, 15, 98]) = Any[\"fizz\", \"buzz\", \"fizzbuzz\", 98]\n",
      "epoch  450: loss = 0.2088 | deepbuzz.([3, 5, 15, 98]) = Any[\"fizz\", \"buzz\", \"fizzbuzz\", 98]\n",
      "epoch  500: loss = 0.184 | deepbuzz.([3, 5, 15, 98]) = Any[\"fizz\", \"buzz\", \"fizzbuzz\", 98]\n",
      "epoch  550: loss = 0.1625 | deepbuzz.([3, 5, 15, 98]) = Any[\"fizz\", \"buzz\", \"fizzbuzz\", 98]\n",
      "epoch  600: loss = 0.1437 | deepbuzz.([3, 5, 15, 98]) = Any[\"fizz\", \"buzz\", \"fizzbuzz\", 98]\n",
      "epoch  650: loss = 0.1273 | deepbuzz.([3, 5, 15, 98]) = Any[\"fizz\", \"buzz\", \"fizzbuzz\", 98]\n",
      "epoch  700: loss = 0.1128 | deepbuzz.([3, 5, 15, 98]) = Any[\"fizz\", \"buzz\", \"fizzbuzz\", 98]\n",
      "epoch  750: loss = 0.1002 | deepbuzz.([3, 5, 15, 98]) = Any[\"fizz\", \"buzz\", \"fizzbuzz\", 98]\n",
      "epoch  800: loss = 0.0891 | deepbuzz.([3, 5, 15, 98]) = Any[\"fizz\", \"buzz\", \"fizzbuzz\", 98]\n",
      "epoch  850: loss = 0.0793 | deepbuzz.([3, 5, 15, 98]) = Any[\"fizz\", \"buzz\", \"fizzbuzz\", 98]\n",
      "epoch  900: loss = 0.0707 | deepbuzz.([3, 5, 15, 98]) = Any[\"fizz\", \"buzz\", \"fizzbuzz\", 98]\n",
      "epoch  950: loss = 0.0632 | deepbuzz.([3, 5, 15, 98]) = Any[\"fizz\", \"buzz\", \"fizzbuzz\", 98]\n",
      "epoch 1000: loss = 0.0566 | deepbuzz.([3, 5, 15, 98]) = Any[\"fizz\", \"buzz\", \"fizzbuzz\", 98]\n"
     ]
    }
   ],
   "source": [
    "# Training\n",
    "for e in 0:1000\n",
    "    train!(loss, params(m), [(X, y)], opt)\n",
    "    if e % 50 == 0; monitor(e) end\n",
    "end"
   ]
  },
  {
   "cell_type": "markdown",
   "metadata": {},
   "source": [
    "---"
   ]
  },
  {
   "cell_type": "code",
   "execution_count": 34,
   "metadata": {},
   "outputs": [],
   "source": [
    "using Flux"
   ]
  },
  {
   "cell_type": "code",
   "execution_count": 36,
   "metadata": {},
   "outputs": [
    {
     "data": {
      "text/plain": [
       "Zygote.Params"
      ]
     },
     "execution_count": 36,
     "metadata": {},
     "output_type": "execute_result"
    }
   ],
   "source": [
    "typeof(Flux.Zygote.Params(m))"
   ]
  },
  {
   "cell_type": "code",
   "execution_count": 43,
   "metadata": {},
   "outputs": [
    {
     "data": {
      "text/plain": [
       "Params([Float32[-0.35291705 0.31448567 0.56221163; -0.67652786 -0.22921392 -0.43120492; … ; -0.9367012 0.051641323 -0.029333679; -1.1013161 0.815074 -0.39341104], Float32[0.2141568, 0.6503017, 0.30419415, -0.276849, 0.2461206, 0.36051977, -0.41794553, 0.16720857, 0.37139475, -0.777117]])"
      ]
     },
     "execution_count": 43,
     "metadata": {},
     "output_type": "execute_result"
    }
   ],
   "source": [
    "ps = params(m[1])"
   ]
  },
  {
   "cell_type": "code",
   "execution_count": 40,
   "metadata": {},
   "outputs": [
    {
     "data": {
      "text/plain": [
       "Grads(...)"
      ]
     },
     "execution_count": 40,
     "metadata": {},
     "output_type": "execute_result"
    }
   ],
   "source": [
    "gs = gradient(ps) do\n",
    "    loss(X, y)\n",
    "end"
   ]
  },
  {
   "cell_type": "code",
   "execution_count": 44,
   "metadata": {},
   "outputs": [],
   "source": [
    "for p in ps\n",
    "    gs[p]\n",
    "end"
   ]
  },
  {
   "cell_type": "code",
   "execution_count": 45,
   "metadata": {},
   "outputs": [
    {
     "data": {
      "text/plain": [
       "Params([Float32[-0.35291705 0.31448567 0.56221163; -0.67652786 -0.22921392 -0.43120492; … ; -0.9367012 0.051641323 -0.029333679; -1.1013161 0.815074 -0.39341104], Float32[0.2141568, 0.6503017, 0.30419415, -0.276849, 0.2461206, 0.36051977, -0.41794553, 0.16720857, 0.37139475, -0.777117]])"
      ]
     },
     "execution_count": 45,
     "metadata": {},
     "output_type": "execute_result"
    }
   ],
   "source": [
    "ps"
   ]
  },
  {
   "cell_type": "code",
   "execution_count": 49,
   "metadata": {},
   "outputs": [],
   "source": [
    "for layer_idx in 1 : length(m)\n",
    "    update!(opt, params(m[layer_idx]), gs)\n",
    "end"
   ]
  },
  {
   "cell_type": "code",
   "execution_count": 47,
   "metadata": {},
   "outputs": [
    {
     "data": {
      "text/plain": [
       "Params([Float32[-0.35305926 0.3146432 0.5622069; -0.6767462 -0.22926393 -0.43124616; … ; -0.9372081 0.05188132 -0.029396448; -1.1015414 0.81542957 -0.3934069], Float32[0.2142149, 0.6507139, 0.30468586, -0.27705213, 0.24619964, 0.36074647, -0.418279, 0.16744277, 0.37222475, -0.7775639]])"
      ]
     },
     "execution_count": 47,
     "metadata": {},
     "output_type": "execute_result"
    }
   ],
   "source": [
    "ps"
   ]
  },
  {
   "cell_type": "code",
   "execution_count": 50,
   "metadata": {},
   "outputs": [
    {
     "data": {
      "text/plain": [
       "Params([Float32[-0.35318756 0.31478557 0.56220263; -0.6769431 -0.22930926 -0.43128335; … ; -0.9376668 0.052098405 -0.029453149; -1.1017461 0.8157507 -0.39340314], Float32[0.2142679, 0.65108687, 0.30513912, -0.27723724, 0.2462748, 0.36095285, -0.41858378, 0.1676554, 0.3729904, -0.7779734]])"
      ]
     },
     "execution_count": 50,
     "metadata": {},
     "output_type": "execute_result"
    }
   ],
   "source": [
    "ps"
   ]
  },
  {
   "cell_type": "code",
   "execution_count": null,
   "metadata": {},
   "outputs": [],
   "source": []
  }
 ],
 "metadata": {
  "kernelspec": {
   "display_name": "Julia 1.3.1",
   "language": "julia",
   "name": "julia-1.3"
  },
  "language_info": {
   "file_extension": ".jl",
   "mimetype": "application/julia",
   "name": "julia",
   "version": "1.3.1"
  }
 },
 "nbformat": 4,
 "nbformat_minor": 2
}
