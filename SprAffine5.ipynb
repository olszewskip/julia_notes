{
 "cells": [
  {
   "cell_type": "code",
   "execution_count": 20,
   "metadata": {},
   "outputs": [
    {
     "name": "stdout",
     "output_type": "stream",
     "text": [
      "Julia Version 1.3.1\n",
      "Commit 2d5741174c (2019-12-30 21:36 UTC)\n",
      "Platform Info:\n",
      "  OS: Linux (x86_64-pc-linux-gnu)\n",
      "  CPU: Intel(R) Core(TM) i7-4600U CPU @ 2.10GHz\n",
      "  WORD_SIZE: 64\n",
      "  LIBM: libopenlibm\n",
      "  LLVM: libLLVM-6.0.1 (ORCJIT, haswell)\n"
     ]
    }
   ],
   "source": [
    "versioninfo()"
   ]
  },
  {
   "cell_type": "code",
   "execution_count": 1,
   "metadata": {},
   "outputs": [
    {
     "name": "stderr",
     "output_type": "stream",
     "text": [
      "┌ Info: Precompiling Zygote [e88e6eb3-aa80-5325-afca-941959d7151f]\n",
      "└ @ Base loading.jl:1273\n",
      "┌ Info: Precompiling Flux [587475ba-b771-5e3f-ad9e-33799f191a9c]\n",
      "└ @ Base loading.jl:1273\n",
      "┌ Info: Precompiling StatsBase [2913bbd2-ae8a-5f71-8c99-4fb6c76f3a91]\n",
      "└ @ Base loading.jl:1273\n"
     ]
    }
   ],
   "source": [
    "using Zygote\n",
    "using SparseArrays\n",
    "using Flux: Dense, BatchNorm, σ, relu, softmax, logitcrossentropy, onecold, Chain, Optimise\n",
    "using Flux: onehotbatch\n",
    "using Flux.Data: MNIST\n",
    "using StatsBase: sample, shuffle, mean\n",
    "using Plots"
   ]
  },
  {
   "cell_type": "code",
   "execution_count": 9,
   "metadata": {},
   "outputs": [
    {
     "name": "stdout",
     "output_type": "stream",
     "text": [
      "Flux:\t0.10.4\n",
      "Zygote:\t0.4.17\n"
     ]
    }
   ],
   "source": [
    "using Pkg\n",
    "my_pkgs = Pkg.installed()\n",
    "println(\"Flux:\\t\", my_pkgs[\"Flux\"])\n",
    "println(\"Zygote:\\t\", my_pkgs[\"Zygote\"])"
   ]
  },
  {
   "cell_type": "markdown",
   "metadata": {},
   "source": [
    "---"
   ]
  },
  {
   "cell_type": "code",
   "execution_count": 21,
   "metadata": {},
   "outputs": [
    {
     "name": "stderr",
     "output_type": "stream",
     "text": [
      "┌ Info: Downloading MNIST dataset\n",
      "└ @ Flux.Data.MNIST /home/olszewskip/.julia/packages/Flux/Fj3bt/src/data/mnist.jl:24\n",
      "┌ Info: Downloading MNIST dataset\n",
      "└ @ Flux.Data.MNIST /home/olszewskip/.julia/packages/Flux/Fj3bt/src/data/mnist.jl:24\n",
      "┌ Info: Downloading MNIST dataset\n",
      "└ @ Flux.Data.MNIST /home/olszewskip/.julia/packages/Flux/Fj3bt/src/data/mnist.jl:24\n",
      "┌ Info: Downloading MNIST dataset\n",
      "└ @ Flux.Data.MNIST /home/olszewskip/.julia/packages/Flux/Fj3bt/src/data/mnist.jl:24\n"
     ]
    }
   ],
   "source": [
    "labels = MNIST.labels();\n",
    "label_pool = sort(Vector(collect(Set(labels))));\n",
    "y = onehotbatch(labels, label_pool);\n",
    "\n",
    "imgs = MNIST.images();\n",
    "# lighter_than(pixel, threshold) = pixel.val > threshold\n",
    "# function lightness_threshold(pixel_array::Array{T, 2}, threshold) where T\n",
    "#     convert.(T, lighter_than.(pixel_array, threshold))\n",
    "# end\n",
    "# imgs_blackenwhite = lightness_threshold.(imgs, 0.7);\n",
    "# X = hcat(convert.(Array{Float32, 1}, reshape.(imgs_blackenwhite, :))...);\n",
    "X = hcat(convert.(Array{Float32, 1}, reshape.(imgs, :))...);\n",
    "\n",
    "permutation = shuffle(1:size(X, 2))\n",
    "X = X[:, permutation];\n",
    "y = y[:, permutation];"
   ]
  },
  {
   "cell_type": "code",
   "execution_count": 3,
   "metadata": {},
   "outputs": [],
   "source": [
    "#rand(1:10, 4)"
   ]
  },
  {
   "cell_type": "code",
   "execution_count": 4,
   "metadata": {},
   "outputs": [],
   "source": [
    "#*(size(hcat(map(index -> imgs_blackenwhite[index], rand(1:size(imgs_blackenwhite, 1), 3))...))...)"
   ]
  },
  {
   "cell_type": "code",
   "execution_count": 5,
   "metadata": {},
   "outputs": [],
   "source": [
    "#hcat(map(index -> imgs_blackenwhite[index], rand(1:size(imgs_blackenwhite, 1), 4))...)"
   ]
  },
  {
   "cell_type": "code",
   "execution_count": 117,
   "metadata": {},
   "outputs": [],
   "source": [
    "index_train = floor(Int, 0.6 * size(X, 2))\n",
    "#index_train = min(floor(Int, 2 * size(X, 1)), index_train)\n",
    "index_val = index_train + floor(Int, 0.3 * size(X, 2))\n",
    "X_train = X[:, 1:index_train];\n",
    "y_train = y[:, 1:index_train];\n",
    "X_val = X[:, (index_train+1):index_val];\n",
    "y_val = y[:, (index_train+1):index_val];\n",
    "X_test = X[:, (index_val+1):end];\n",
    "y_test = y[:, (index_val+1):end];"
   ]
  },
  {
   "cell_type": "code",
   "execution_count": 118,
   "metadata": {},
   "outputs": [
    {
     "data": {
      "text/plain": [
       "(784, 36000)"
      ]
     },
     "execution_count": 118,
     "metadata": {},
     "output_type": "execute_result"
    }
   ],
   "source": [
    "size(X_train)"
   ]
  },
  {
   "cell_type": "code",
   "execution_count": 119,
   "metadata": {},
   "outputs": [
    {
     "data": {
      "text/plain": [
       "10×1 Array{Float64,2}:\n",
       " 0.09783333333333334\n",
       " 0.11119444444444444\n",
       " 0.09961111111111112\n",
       " 0.10269444444444445\n",
       " 0.09705555555555556\n",
       " 0.08975000000000001\n",
       " 0.09844444444444445\n",
       " 0.10552777777777778\n",
       " 0.09780555555555556\n",
       " 0.10008333333333334"
      ]
     },
     "execution_count": 119,
     "metadata": {},
     "output_type": "execute_result"
    }
   ],
   "source": [
    "mean(y_train, dims=2)"
   ]
  },
  {
   "cell_type": "code",
   "execution_count": 29,
   "metadata": {},
   "outputs": [],
   "source": [
    "function loss(model, X, y)\n",
    "    return logitcrossentropy(model(X), y)\n",
    "end\n",
    "\n",
    "accuracy(model, X, y) = mean(onecold(softmax(model(X))) .== onecold(y));"
   ]
  },
  {
   "cell_type": "code",
   "execution_count": 120,
   "metadata": {},
   "outputs": [
    {
     "data": {
      "text/plain": [
       "update_! (generic function with 3 methods)"
      ]
     },
     "execution_count": 120,
     "metadata": {},
     "output_type": "execute_result"
    }
   ],
   "source": [
    "update_!(opt, model, updates::Nothing) = model\n",
    "\n",
    "function update_!(opt, model::AbstractArray, updates::AbstractArray)\n",
    "    #println(\"Updating $(typeof(model)) with $(typeof(updates)).\")\n",
    "    #println(mean(abs.(updates)))\n",
    "    Optimise.apply!(opt, model, updates)\n",
    "    model .-= updates\n",
    "    return model\n",
    "end\n",
    "\n",
    "# function update_!(opt, model::AbstractSparseArray, updates::AbstractArray, depth)\n",
    "#     #println(\"Updating $(typeof(model)) with $(typeof(updates)).\")\n",
    "#     #println(\"inside update function 1 \", length(model.nzval))\n",
    "#     #println(\"inside update function 1b \", length(((updates .!= 0) .&  (model .== 0)).nzval))\n",
    "#     #println(\"inside update function 1c \", mean(updates[(updates .!= 0) .&  (model .== 0)]))\n",
    "#     Optimise.apply!(opt, model, updates)\n",
    "#     model .-= updates\n",
    "#     #println(\"inside update function 2 \", length(model.nzval))\n",
    "#     #dropzeros!(model)\n",
    "#     #println(\"inside update function 3 \", length(model.nzval))\n",
    "#     return model\n",
    "# end\n",
    "\n",
    "function update_!(opt, model, updates)\n",
    "    for field_idx in 1:nfields(model)\n",
    "        #println(\"Update at level $depth. Typeof model $(typeof(model)). Typeof updates $(typeof(updates))\")\n",
    "        update_!(opt, getfield(model, field_idx), getfield(updates, field_idx))\n",
    "    end\n",
    "    return model\n",
    "end"
   ]
  },
  {
   "cell_type": "markdown",
   "metadata": {},
   "source": [
    "---"
   ]
  },
  {
   "cell_type": "code",
   "execution_count": 48,
   "metadata": {},
   "outputs": [
    {
     "data": {
      "text/plain": [
       "get_model_dense (generic function with 1 method)"
      ]
     },
     "execution_count": 48,
     "metadata": {},
     "output_type": "execute_result"
    }
   ],
   "source": [
    "function get_model_dense(in, hidden_1, hidden_2, out)\n",
    "    param_count = (in * hidden_1 + hidden_1) +\n",
    "                  (hidden_1 * hidden_2 + hidden_2) +\n",
    "                  (hidden_2 * out + out)\n",
    "    println(\"No. parameters: $(floor(Int, param_count))\")\n",
    "    return Chain(\n",
    "            Dense(in, hidden_1, relu),\n",
    "            Dense(hidden_1, hidden_2, relu),\n",
    "            Dense(hidden_2, out, relu)\n",
    "           );\n",
    "end"
   ]
  },
  {
   "cell_type": "code",
   "execution_count": 49,
   "metadata": {},
   "outputs": [
    {
     "name": "stdout",
     "output_type": "stream",
     "text": [
      "No. parameters: 73690\n"
     ]
    },
    {
     "data": {
      "text/plain": [
       "(2.3181028f0, 0.125)"
      ]
     },
     "execution_count": 49,
     "metadata": {},
     "output_type": "execute_result"
    }
   ],
   "source": [
    "model_dense = get_model_dense(size(X, 1), 90, 30, size(y, 1))\n",
    "\n",
    "loss(model_dense, X[:, 1:32], y[:, 1:32]),\n",
    "accuracy(model_dense, X[:, 1:32], y[:, 1:32])"
   ]
  },
  {
   "cell_type": "code",
   "execution_count": 52,
   "metadata": {
    "scrolled": false
   },
   "outputs": [
    {
     "name": "stdout",
     "output_type": "stream",
     "text": [
      "No. parameters: 73690\n",
      "Epoch: 1\n",
      "Loss train: 1.491 Loss val: 1.551\n",
      "Acc train: 0.49 Acc val: 0.457\n",
      "Epoch: 2\n",
      "Loss train: 0.976 Loss val: 1.039\n",
      "Acc train: 0.712 Acc val: 0.689\n",
      "Epoch: 3\n",
      "Loss train: 0.814 Loss val: 0.919\n",
      "Acc train: 0.771 Acc val: 0.728\n",
      "Epoch: 4\n",
      "Loss train: 0.727 Loss val: 0.855\n",
      "Acc train: 0.812 Acc val: 0.764\n",
      "Epoch: 5\n",
      "Loss train: 0.646 Loss val: 0.789\n",
      "Acc train: 0.837 Acc val: 0.789\n",
      "Epoch: 6\n",
      "Loss train: 0.619 Loss val: 0.777\n",
      "Acc train: 0.852 Acc val: 0.799\n",
      "Epoch: 7\n",
      "Loss train: 0.595 Loss val: 0.77\n",
      "Acc train: 0.859 Acc val: 0.801\n",
      "Epoch: 8\n",
      "Loss train: 0.574 Loss val: 0.758\n",
      "Acc train: 0.871 Acc val: 0.806\n",
      "Epoch: 9\n",
      "Patience: 9/10\n",
      "Loss train: 0.566 Loss val: 0.763\n",
      "Acc train: 0.873 Acc val: 0.806\n",
      "Epoch: 10\n",
      "Patience: 8/10\n",
      "Loss train: 0.554 Loss val: 0.764\n",
      "Acc train: 0.875 Acc val: 0.805\n",
      "Epoch: 11\n",
      "Loss train: 0.545 Loss val: 0.756\n",
      "Acc train: 0.876 Acc val: 0.81\n",
      "Epoch: 12\n",
      "Patience: 9/10\n",
      "Loss train: 0.541 Loss val: 0.759\n",
      "Acc train: 0.878 Acc val: 0.81\n",
      "Epoch: 13\n",
      "Patience: 8/10\n",
      "Loss train: 0.534 Loss val: 0.761\n",
      "Acc train: 0.875 Acc val: 0.806\n",
      "Epoch: 14\n",
      "Loss train: 0.529 Loss val: 0.754\n",
      "Acc train: 0.886 Acc val: 0.813\n",
      "Epoch: 15\n",
      "Patience: 9/10\n",
      "Loss train: 0.524 Loss val: 0.76\n",
      "Acc train: 0.884 Acc val: 0.811\n",
      "Epoch: 16\n",
      "Patience: 8/10\n",
      "Loss train: 0.522 Loss val: 0.758\n",
      "Acc train: 0.886 Acc val: 0.811\n",
      "Epoch: 17\n",
      "Patience: 7/10\n",
      "Loss train: 0.52 Loss val: 0.766\n",
      "Acc train: 0.887 Acc val: 0.81\n",
      "Epoch: 18\n",
      "Patience: 6/10\n",
      "Loss train: 0.521 Loss val: 0.769\n",
      "Acc train: 0.889 Acc val: 0.811\n",
      "Epoch: 19\n",
      "Patience: 5/10\n",
      "Loss train: 0.517 Loss val: 0.776\n",
      "Acc train: 0.884 Acc val: 0.812\n",
      "Epoch: 20\n",
      "Patience: 4/10\n",
      "Loss train: 0.516 Loss val: 0.773\n",
      "Acc train: 0.887 Acc val: 0.811\n",
      "Epoch: 21\n",
      "Patience: 3/10\n",
      "Loss train: 0.515 Loss val: 0.767\n",
      "Acc train: 0.888 Acc val: 0.812\n",
      "Epoch: 22\n",
      "Patience: 2/10\n",
      "Loss train: 0.514 Loss val: 0.775\n",
      "Acc train: 0.888 Acc val: 0.811\n",
      "Epoch: 23\n",
      "Patience: 1/10\n",
      "Loss train: 0.513 Loss val: 0.778\n",
      "Acc train: 0.888 Acc val: 0.812\n",
      "Epoch: 24\n",
      "Patience: 0/10\n",
      "Loss train: 0.512 Loss val: 0.783\n",
      "Acc train: 0.886 Acc val: 0.812\n"
     ]
    }
   ],
   "source": [
    "GC.gc()\n",
    "model_dense = get_model_dense(size(X, 1), 90, 30, size(y, 1))\n",
    "train_!(model_dense, (X_train, y_train), (X_val, y_val);\n",
    "        num_epochs=100, opt=Optimise.ADAM())"
   ]
  },
  {
   "cell_type": "code",
   "execution_count": 53,
   "metadata": {},
   "outputs": [
    {
     "data": {
      "text/plain": [
       "0.8114364859517214"
      ]
     },
     "execution_count": 53,
     "metadata": {},
     "output_type": "execute_result"
    }
   ],
   "source": [
    "accuracy(model_dense, X_test, y_test)"
   ]
  },
  {
   "cell_type": "markdown",
   "metadata": {},
   "source": [
    "---"
   ]
  },
  {
   "cell_type": "code",
   "execution_count": 110,
   "metadata": {},
   "outputs": [
    {
     "name": "stdout",
     "output_type": "stream",
     "text": [
      "search: \u001b[0m\u001b[1mA\u001b[22m\u001b[0m\u001b[1mb\u001b[22m\u001b[0m\u001b[1ms\u001b[22m\u001b[0m\u001b[1mt\u001b[22m\u001b[0m\u001b[1mr\u001b[22m\u001b[0m\u001b[1ma\u001b[22m\u001b[0m\u001b[1mc\u001b[22m\u001b[0m\u001b[1mt\u001b[22m\u001b[0m\u001b[1mA\u001b[22m\u001b[0m\u001b[1mr\u001b[22m\u001b[0m\u001b[1mr\u001b[22m\u001b[0m\u001b[1ma\u001b[22m\u001b[0m\u001b[1my\u001b[22m \u001b[0m\u001b[1mA\u001b[22m\u001b[0m\u001b[1mb\u001b[22m\u001b[0m\u001b[1ms\u001b[22m\u001b[0m\u001b[1mt\u001b[22m\u001b[0m\u001b[1mr\u001b[22m\u001b[0m\u001b[1ma\u001b[22m\u001b[0m\u001b[1mc\u001b[22m\u001b[0m\u001b[1mt\u001b[22mSp\u001b[0m\u001b[1ma\u001b[22m\u001b[0m\u001b[1mr\u001b[22mseA\u001b[0m\u001b[1mr\u001b[22mr\u001b[0m\u001b[1ma\u001b[22m\u001b[0m\u001b[1my\u001b[22m \u001b[0m\u001b[1mA\u001b[22m\u001b[0m\u001b[1mb\u001b[22m\u001b[0m\u001b[1ms\u001b[22m\u001b[0m\u001b[1mt\u001b[22m\u001b[0m\u001b[1mr\u001b[22m\u001b[0m\u001b[1ma\u001b[22m\u001b[0m\u001b[1mc\u001b[22m\u001b[0m\u001b[1mt\u001b[22mSp\u001b[0m\u001b[1ma\u001b[22m\u001b[0m\u001b[1mr\u001b[22mseMat\u001b[0m\u001b[1mr\u001b[22mix\n",
      "\n"
     ]
    },
    {
     "data": {
      "text/latex": [
       "\\begin{verbatim}\n",
       "AbstractArray{T,N}\n",
       "\\end{verbatim}\n",
       "Supertype for \\texttt{N}-dimensional arrays (or array-like types) with elements of type \\texttt{T}. \\href{@ref}{\\texttt{Array}} and other types are subtypes of this. See the manual section on the \\href{@ref man-interface-array}{\\texttt{AbstractArray} interface}.\n",
       "\n"
      ],
      "text/markdown": [
       "```\n",
       "AbstractArray{T,N}\n",
       "```\n",
       "\n",
       "Supertype for `N`-dimensional arrays (or array-like types) with elements of type `T`. [`Array`](@ref) and other types are subtypes of this. See the manual section on the [`AbstractArray` interface](@ref man-interface-array).\n"
      ],
      "text/plain": [
       "\u001b[36m  AbstractArray{T,N}\u001b[39m\n",
       "\n",
       "  Supertype for \u001b[36mN\u001b[39m-dimensional arrays (or array-like types) with elements of\n",
       "  type \u001b[36mT\u001b[39m. \u001b[36mArray\u001b[39m and other types are subtypes of this. See the manual section\n",
       "  on the \u001b[36mAbstractArray\u001b[39m interface."
      ]
     },
     "execution_count": 110,
     "metadata": {},
     "output_type": "execute_result"
    }
   ],
   "source": [
    "?AbstractArray"
   ]
  },
  {
   "cell_type": "code",
   "execution_count": 42,
   "metadata": {},
   "outputs": [],
   "source": [
    "sp_mul(m::AbstractSparseMatrix, x::AbstractSparseArray) = \n",
    "#Zygote.hook(dm -> dropzeros!((m .!= 0) .* dm), m) * Zygote.hook(dx -> dropzeros!((x .!= 0) .* dx), x)\n",
    "Zygote.hook(dm -> (m .!= 0) .* dm, m) * Zygote.hook(dx -> (x .!= 0) .* dx, x)\n",
    "\n",
    "struct SprAffine{S,T,F}\n",
    "    W::S\n",
    "    b::T\n",
    "    σ::F\n",
    "end\n",
    "\n",
    "(layer::SprAffine)(x) = layer.σ.(sp_mul(layer.W, x) .+ layer.b)\n",
    "\n",
    "function SprAffine(in::Number, out::Number, frac::AbstractFloat, σ::Function=identity)\n",
    "    W_ = sprandn(Float32, out, in, frac)\n",
    "    W_ ./= sqrt(in * frac)\n",
    "    b_ = zeros(Float32, out)\n",
    "    SprAffine(W_, b_, σ)\n",
    "end\n",
    "\n",
    "function Base.show(io::IO, layer::SprAffine)\n",
    "  print(io, \"SprAffine(\", size(layer.W, 2), \", \", size(layer.W, 1))\n",
    "  print(io, \", \", round(length(layer.W.nzval) / length(layer.W), sigdigits=6))\n",
    "  layer.σ == identity || print(io, \", \", layer.σ)\n",
    "  print(io, \")\")\n",
    "end\n",
    "\n",
    "get_sparsity(layer::SprAffine) = length(layer.W.nzval) / length(layer.W);"
   ]
  },
  {
   "cell_type": "code",
   "execution_count": 113,
   "metadata": {},
   "outputs": [
    {
     "data": {
      "text/plain": [
       "true"
      ]
     },
     "execution_count": 113,
     "metadata": {},
     "output_type": "execute_result"
    }
   ],
   "source": [
    "typeof(sprandn(Float32, 4, 5, 0.1)) <: AbstractSparseMatrix"
   ]
  },
  {
   "cell_type": "code",
   "execution_count": 45,
   "metadata": {},
   "outputs": [
    {
     "data": {
      "text/plain": [
       "augment! (generic function with 5 methods)"
      ]
     },
     "execution_count": 45,
     "metadata": {},
     "output_type": "execute_result"
    }
   ],
   "source": [
    "augment!(opt::Optimise.Descent, sp_arr::AbstractSparseArray) = nothing\n",
    "    \n",
    "function augment!(opt::Optimise.ADAM, sp_arr::AbstractSparseArray)\n",
    "    # drop momentum and velocity of zeroes\n",
    "    if (sp_arr in keys(opt.state))\n",
    "        mt, vt, _ = opt.state[sp_arr]\n",
    "        @. mt = (sp_arr != 0) * mt\n",
    "        @. vt = (sp_arr != 0) * vt\n",
    "    end\n",
    "    return nothing\n",
    "end\n",
    "\n",
    "function augment!(opt::Optimise.Optimiser, sp_arr::AbstractSparseArray)\n",
    "    augment!(opt[1], sp_arr)\n",
    "end\n",
    "\n",
    "augment!(layer, frac, opt) = nothing\n",
    "\n",
    "function augment!(layer::SprAffine, frac::AbstractFloat, opt)\n",
    "    #println(\".\", length(layer.W.nzval))\n",
    "    # redraw frac(tion) of the layer's W(eights)\n",
    "    I, J, V = findnz(layer.W)\n",
    "    nz_count = length(V)\n",
    "    len_augmented = floor(Int, frac * nz_count)\n",
    "    len_preserved = nz_count - len_augmented\n",
    "    elems = Set(zip(I, J))\n",
    "    indices = sortperm(abs.(V), rev=true)[1:len_preserved]\n",
    "    I = I[indices]\n",
    "    J = J[indices]\n",
    "    V = V[indices]\n",
    "    I_ = similar(I, len_augmented)\n",
    "    J_ = similar(J, len_augmented)\n",
    "    V_ = similar(V, len_augmented)\n",
    "    index = 1\n",
    "    while index <= len_augmented\n",
    "        i = sample(1:size(layer.W, 1))\n",
    "        j = sample(1:size(layer.W, 2))\n",
    "        if (i,j) in elems\n",
    "            continue\n",
    "        end\n",
    "        push!(elems, (i, j))\n",
    "        I_[index] = i\n",
    "        J_[index] = j\n",
    "        V_[index] = randn() * sqrt(size(layer.W, 1) / nz_count)\n",
    "        index += 1\n",
    "    end\n",
    "    append!(I, I_)\n",
    "    append!(J, J_)\n",
    "    append!(V, V_)\n",
    "    #println(\".\", length(layer.W.nzval))\n",
    "    layer.W .= 0\n",
    "    dropzeros!(layer.W)\n",
    "    #println(\".\", length(layer.W.nzval))\n",
    "    layer.W[:, :] = sparse(I, J, V, size(layer.W)...)\n",
    "    augment!(opt, layer.W)\n",
    "    #println(\".\", length(layer.W.nzval))\n",
    "    return nothing\n",
    "end"
   ]
  },
  {
   "cell_type": "code",
   "execution_count": 46,
   "metadata": {},
   "outputs": [],
   "source": [
    "mutable struct Patience{T}\n",
    "    starting::T\n",
    "    left::T\n",
    "end\n",
    "Patience(val) = Patience(val, val)\n",
    "\n",
    "function lower!(p::Patience)\n",
    "    p.left -= 1\n",
    "end\n",
    "function restart!(p::Patience)\n",
    "    p.left = p.starting\n",
    "end\n",
    "nonleft(p::Patience) = p.left == 0;\n",
    "\n",
    "function Base.show(io::IO, p::Patience)\n",
    "  print(io, \"Patience: $(p.left)/$(p.starting)\")\n",
    "end"
   ]
  },
  {
   "cell_type": "code",
   "execution_count": 4,
   "metadata": {},
   "outputs": [
    {
     "data": {
      "text/plain": [
       "3-element Array{Int64,1}:\n",
       " 1\n",
       " 2\n",
       " 3"
      ]
     },
     "execution_count": 4,
     "metadata": {},
     "output_type": "execute_result"
    }
   ],
   "source": [
    "Array(1:1:3)"
   ]
  },
  {
   "cell_type": "code",
   "execution_count": 47,
   "metadata": {},
   "outputs": [
    {
     "data": {
      "text/plain": [
       "train_! (generic function with 1 method)"
      ]
     },
     "execution_count": 47,
     "metadata": {},
     "output_type": "execute_result"
    }
   ],
   "source": [
    "function train_!(model, (X_train, y_train), (X_val, y_val);\n",
    "                num_epochs=1, batch_size = 32, opt=Optimise.Descent(), patience=Patience(10))\n",
    "    min_loss_val = Inf32\n",
    "    nth_batch = max(1, floor(Int, size(X_train, 2) ÷ (10 * batch_size)))\n",
    "    #\n",
    "#     I, J, _ = findnz(model[1].W)\n",
    "#     nz_coordinates = Set(zip(I, J))\n",
    "    #\n",
    "    for epoch in 1:num_epochs\n",
    "        println(\"Epoch: $epoch\")\n",
    "        permutation = shuffle(1:size(X_train, 2))\n",
    "        X = X_train[:, permutation]\n",
    "        y = y_train[:, permutation]\n",
    "        batch_starts = 1 : batch_size : (size(X, 2) - batch_size + 1)\n",
    "        for (batch_index, batch_start) in enumerate(batch_starts)\n",
    "            #println(\"before single update 1 \", sum(model[1].W.nzval .== 0.))\n",
    "            batch_loss, back = pullback(model) do m\n",
    "                loss(m, X[:, batch_start:(batch_start + batch_size - 1)],\n",
    "                        y[:, batch_start:(batch_start + batch_size - 1)])\n",
    "            end\n",
    "#             if ((batch_index - 1) % nth_batch == 0)\n",
    "#                 println(\"Loss: $(round(batch_loss, digits=3))\")\n",
    "#             end\n",
    "            grads = back(1)[1]\n",
    "            #println(\"before single update 2 \", length(((grads[1][1].W .!= 0) .&  (model[1].W .== 0)).nzval))\n",
    "            #println(\"before single update 3 \", length(((getfield(getfield(getfield(grads,1),1),1) .!=0).&(getfield(getfield(getfield(model,1),1),1).==0)).nzval))\n",
    "            #println(\"Mean abs nz W1 \", mean(abs.(model[1].W.nzval)))\n",
    "            #println(\"Mean abs nz dW1 \", mean(abs.(grads[1][1].W.nzval)))\n",
    "            #println(\"5 nz dW1 \", grads[1][1].W.nzval[1:5])\n",
    "            update_!(opt, model, grads)\n",
    "            #println(\"Mean abs nz W1 after update \", mean(abs.(model[1].W.nzval)))\n",
    "            #println(\"after single update \", length(model[1].W.nzval))\n",
    "            #println(length(((grads[1][1].W .!= 0) .&  (model[1].W .== 0)).nzval))\n",
    "        end\n",
    "        loss_train = loss(model, X, y)\n",
    "        loss_val = loss(model, X_val, y_val)\n",
    "        if (loss_val < min_loss_val)\n",
    "            min_loss_val = loss_val\n",
    "            restart!(patience)\n",
    "        else\n",
    "            lower!(patience)\n",
    "            println(patience)\n",
    "        end\n",
    "            \n",
    "        println(\"Loss train: $(round(loss_train, digits=3)) Loss val: $(round(loss_val, digits=3))\")\n",
    "        acc_train = accuracy(model, X, y)\n",
    "        acc_val = accuracy(model, X_val, y_val)\n",
    "        println(\"Acc train: $(round(acc_train, digits=3)) Acc val: $(round(acc_val, digits=3))\")\n",
    "        \n",
    "        if (nonleft(patience)) break end\n",
    "        \n",
    "        #println(\"before augment \", length(model[1].W.nzval))\n",
    "        if (epoch < num_epochs)\n",
    "            for layer in model.layers\n",
    "                augment!(layer, 0.5, opt)\n",
    "            end\n",
    "#             I, J, _ = findnz(model[1].W)\n",
    "#             new_nz_coordinates = Set(zip(I, J))\n",
    "#             println(\"1st layer's new elements: \", length(setdiff(new_nz_coordinates, nz_coordinates)))\n",
    "#             nz_coordinates = new_nz_coordinates\n",
    "        end\n",
    "        #\n",
    "        #\n",
    "        #println(\"after augment \", length(model[1].W.nzval))\n",
    "        \n",
    "        #println(\"end of epoch \", length(model[1].W.nzval))\n",
    "    end\n",
    "end"
   ]
  },
  {
   "cell_type": "markdown",
   "metadata": {},
   "source": [
    "---"
   ]
  },
  {
   "cell_type": "code",
   "execution_count": 54,
   "metadata": {},
   "outputs": [
    {
     "data": {
      "text/plain": [
       "get_model_sparse (generic function with 1 method)"
      ]
     },
     "execution_count": 54,
     "metadata": {},
     "output_type": "execute_result"
    }
   ],
   "source": [
    "function get_model_sparse(in, hidden_0, hidden_1, out, fraction)\n",
    "    param_count = (in * hidden_0 + hidden_0) * fraction +\n",
    "                  (hidden_0 * hidden_1 + hidden_1) * fraction +\n",
    "                  (hidden_1 * out + out)\n",
    "    println(\"No. parameters: $(floor(Int, param_count))\")\n",
    "    return Chain(\n",
    "            SprAffine(in, hidden_0, fraction, relu),\n",
    "            Dense(hidden_0, hidden_1),\n",
    "            Dense(hidden_1, out)\n",
    "           );\n",
    "end"
   ]
  },
  {
   "cell_type": "code",
   "execution_count": 61,
   "metadata": {},
   "outputs": [
    {
     "data": {
      "text/plain": [
       "get_model_sparse (generic function with 2 methods)"
      ]
     },
     "execution_count": 61,
     "metadata": {},
     "output_type": "execute_result"
    }
   ],
   "source": [
    "function get_model_sparse(in, hidden_0, hidden_1, hidden_2, hidden_3, out, fraction)\n",
    "    param_count = (in * hidden_0 + hidden_0) * fraction +\n",
    "                  (hidden_0 * hidden_1 + hidden_1) * fraction +\n",
    "                  (hidden_1 * hidden_2 + hidden_2)\n",
    "                  (hidden_2 * hidden_3 + hidden_3)\n",
    "                  (hidden_3 * out + out)\n",
    "    println(\"No. parameters: $(floor(Int, param_count))\")\n",
    "    return Chain(\n",
    "            SprAffine(in, hidden_0, fraction, relu),\n",
    "            SprAffine(hidden_0, hidden_1, fraction, relu),\n",
    "            Dense(hidden_1, hidden_2, relu),\n",
    "            Dense(hidden_2, hidden_3, relu),\n",
    "            Dense(hidden_3, out)\n",
    "           );\n",
    "end"
   ]
  },
  {
   "cell_type": "code",
   "execution_count": 55,
   "metadata": {},
   "outputs": [
    {
     "data": {
      "text/plain": [
       "784"
      ]
     },
     "execution_count": 55,
     "metadata": {},
     "output_type": "execute_result"
    }
   ],
   "source": [
    "size(X, 1)"
   ]
  },
  {
   "cell_type": "code",
   "execution_count": 59,
   "metadata": {},
   "outputs": [
    {
     "name": "stdout",
     "output_type": "stream",
     "text": [
      "No. parameters: 7648\n"
     ]
    },
    {
     "data": {
      "text/plain": [
       "(2.3885038f0, 0.03125)"
      ]
     },
     "execution_count": 59,
     "metadata": {},
     "output_type": "execute_result"
    }
   ],
   "source": [
    "GC.gc()\n",
    "model_sparse = get_model_sparse(size(X, 1), 90, 30, size(y, 1), 0.10)\n",
    "loss(model_sparse, sparse(X[:, 1:32]), y[:, 1:32]),\n",
    "accuracy(model_sparse, sparse(X[:, 1:32]), y[:, 1:32])"
   ]
  },
  {
   "cell_type": "code",
   "execution_count": 62,
   "metadata": {
    "scrolled": false
   },
   "outputs": [
    {
     "name": "stdout",
     "output_type": "stream",
     "text": [
      "No. parameters: 7648\n",
      "Epoch: 1\n",
      "Loss train: 1.661 Loss val: 1.698\n",
      "Acc train: 0.601 Acc val: 0.574\n",
      "Epoch: 2\n",
      "Loss train: 1.028 Loss val: 1.083\n",
      "Acc train: 0.76 Acc val: 0.743\n",
      "Epoch: 3\n",
      "Loss train: 0.652 Loss val: 0.733\n",
      "Acc train: 0.837 Acc val: 0.806\n",
      "Epoch: 4\n",
      "Loss train: 0.507 Loss val: 0.611\n",
      "Acc train: 0.873 Acc val: 0.829\n",
      "Epoch: 5\n",
      "Loss train: 0.427 Loss val: 0.547\n",
      "Acc train: 0.898 Acc val: 0.849\n",
      "Epoch: 6\n",
      "Loss train: 0.362 Loss val: 0.493\n",
      "Acc train: 0.902 Acc val: 0.857\n",
      "Epoch: 7\n",
      "Loss train: 0.31 Loss val: 0.463\n",
      "Acc train: 0.925 Acc val: 0.866\n",
      "Epoch: 8\n",
      "Loss train: 0.282 Loss val: 0.447\n",
      "Acc train: 0.929 Acc val: 0.866\n",
      "Epoch: 9\n",
      "Loss train: 0.257 Loss val: 0.444\n",
      "Acc train: 0.934 Acc val: 0.869\n",
      "Epoch: 10\n",
      "Loss train: 0.233 Loss val: 0.434\n",
      "Acc train: 0.936 Acc val: 0.872\n",
      "Epoch: 11\n",
      "Loss train: 0.212 Loss val: 0.427\n",
      "Acc train: 0.939 Acc val: 0.875\n",
      "Epoch: 12\n",
      "Patience: 9/10\n",
      "Loss train: 0.214 Loss val: 0.431\n",
      "Acc train: 0.94 Acc val: 0.871\n",
      "Epoch: 13\n",
      "Patience: 8/10\n",
      "Loss train: 0.185 Loss val: 0.432\n",
      "Acc train: 0.957 Acc val: 0.873\n",
      "Epoch: 14\n",
      "Loss train: 0.171 Loss val: 0.424\n",
      "Acc train: 0.958 Acc val: 0.879\n",
      "Epoch: 15\n",
      "Loss train: 0.158 Loss val: 0.423\n",
      "Acc train: 0.961 Acc val: 0.878\n",
      "Epoch: 16\n",
      "Patience: 9/10\n",
      "Loss train: 0.154 Loss val: 0.439\n",
      "Acc train: 0.965 Acc val: 0.874\n",
      "Epoch: 17\n",
      "Loss train: 0.141 Loss val: 0.422\n",
      "Acc train: 0.966 Acc val: 0.878\n",
      "Epoch: 18\n",
      "Loss train: 0.126 Loss val: 0.416\n",
      "Acc train: 0.97 Acc val: 0.883\n",
      "Epoch: 19\n",
      "Patience: 9/10\n",
      "Loss train: 0.116 Loss val: 0.429\n",
      "Acc train: 0.973 Acc val: 0.882\n",
      "Epoch: 20\n",
      "Patience: 8/10\n",
      "Loss train: 0.106 Loss val: 0.419\n",
      "Acc train: 0.98 Acc val: 0.884\n",
      "Epoch: 21\n",
      "Patience: 7/10\n",
      "Loss train: 0.103 Loss val: 0.426\n",
      "Acc train: 0.977 Acc val: 0.88\n",
      "Epoch: 22\n",
      "Patience: 6/10\n",
      "Loss train: 0.094 Loss val: 0.434\n",
      "Acc train: 0.982 Acc val: 0.882\n",
      "Epoch: 23\n",
      "Patience: 5/10\n",
      "Loss train: 0.089 Loss val: 0.419\n",
      "Acc train: 0.983 Acc val: 0.885\n",
      "Epoch: 24\n",
      "Patience: 4/10\n",
      "Loss train: 0.081 Loss val: 0.428\n",
      "Acc train: 0.982 Acc val: 0.884\n",
      "Epoch: 25\n",
      "Patience: 3/10\n",
      "Loss train: 0.077 Loss val: 0.431\n",
      "Acc train: 0.983 Acc val: 0.884\n",
      "Epoch: 26\n",
      "Patience: 2/10\n",
      "Loss train: 0.069 Loss val: 0.427\n",
      "Acc train: 0.987 Acc val: 0.887\n",
      "Epoch: 27\n",
      "Patience: 1/10\n",
      "Loss train: 0.067 Loss val: 0.434\n",
      "Acc train: 0.989 Acc val: 0.886\n",
      "Epoch: 28\n",
      "Patience: 0/10\n",
      "Loss train: 0.062 Loss val: 0.428\n",
      "Acc train: 0.992 Acc val: 0.889\n"
     ]
    }
   ],
   "source": [
    "GC.gc()\n",
    "model_sparse = get_model_sparse(size(X, 1), 90, 30, size(y, 1), 0.10)\n",
    "train_!(model_sparse, (sparse(X_train), y_train), (sparse(X_val), y_val);\n",
    "        num_epochs=300, opt=Optimise.ADAM())"
   ]
  },
  {
   "cell_type": "code",
   "execution_count": 63,
   "metadata": {},
   "outputs": [
    {
     "data": {
      "text/plain": [
       "0.10120464852607709"
      ]
     },
     "execution_count": 63,
     "metadata": {},
     "output_type": "execute_result"
    }
   ],
   "source": [
    "get_sparsity(model_sparse[1])"
   ]
  },
  {
   "cell_type": "code",
   "execution_count": 64,
   "metadata": {},
   "outputs": [
    {
     "data": {
      "text/plain": [
       "0.8844974277799763"
      ]
     },
     "execution_count": 64,
     "metadata": {},
     "output_type": "execute_result"
    }
   ],
   "source": [
    "accuracy(model_sparse, sparse(X_test), y_test)"
   ]
  },
  {
   "cell_type": "code",
   "execution_count": 70,
   "metadata": {},
   "outputs": [
    {
     "name": "stderr",
     "output_type": "stream",
     "text": [
      "┌ Info: Precompiling Plots [91a5bcdd-55d7-5caf-9e0b-520d859cae80]\n",
      "└ @ Base loading.jl:1273\n"
     ]
    }
   ],
   "source": [
    "using Plots"
   ]
  },
  {
   "cell_type": "code",
   "execution_count": 129,
   "metadata": {},
   "outputs": [
    {
     "name": "stdout",
     "output_type": "stream",
     "text": [
      "7821\n",
      "7821\n",
      "10167\n",
      "7821\n"
     ]
    }
   ],
   "source": [
    "augment!(model_sparse[1], 0.3)"
   ]
  },
  {
   "cell_type": "code",
   "execution_count": 65,
   "metadata": {},
   "outputs": [
    {
     "data": {
      "text/plain": [
       "10-element Array{Float32,1}:\n",
       "  0.3150012  \n",
       " -0.3374149  \n",
       " -0.03892278 \n",
       " -0.12434637 \n",
       " -0.26700872 \n",
       " -0.31359023 \n",
       " -0.2645456  \n",
       "  0.2522569  \n",
       "  0.2845701  \n",
       "  0.060026612"
      ]
     },
     "execution_count": 65,
     "metadata": {},
     "output_type": "execute_result"
    }
   ],
   "source": [
    "model_sparse[1].W.nzval[1:10]"
   ]
  },
  {
   "cell_type": "code",
   "execution_count": 91,
   "metadata": {},
   "outputs": [
    {
     "data": {
      "text/plain": [
       "70560"
      ]
     },
     "execution_count": 91,
     "metadata": {},
     "output_type": "execute_result"
    }
   ],
   "source": [
    "length(reshape(model_dense[1].W, :))"
   ]
  },
  {
   "cell_type": "code",
   "execution_count": 105,
   "metadata": {},
   "outputs": [
    {
     "data": {
      "image/svg+xml": [
       "<?xml version=\"1.0\" encoding=\"utf-8\"?>\n",
       "<svg xmlns=\"http://www.w3.org/2000/svg\" xmlns:xlink=\"http://www.w3.org/1999/xlink\" width=\"600\" height=\"400\" viewBox=\"0 0 2400 1600\">\n",
       "<defs>\n",
       "  <clipPath id=\"clip9500\">\n",
       "    <rect x=\"0\" y=\"0\" width=\"2400\" height=\"1600\"/>\n",
       "  </clipPath>\n",
       "</defs>\n",
       "<path clip-path=\"url(#clip9500)\" d=\"\n",
       "M0 1600 L2400 1600 L2400 0 L0 0  Z\n",
       "  \" fill=\"#ffffff\" fill-rule=\"evenodd\" fill-opacity=\"1\"/>\n",
       "<defs>\n",
       "  <clipPath id=\"clip9501\">\n",
       "    <rect x=\"480\" y=\"0\" width=\"1681\" height=\"1600\"/>\n",
       "  </clipPath>\n",
       "</defs>\n",
       "<path clip-path=\"url(#clip9500)\" d=\"\n",
       "M287.95 1487.47 L2352.76 1487.47 L2352.76 47.2441 L287.95 47.2441  Z\n",
       "  \" fill=\"#ffffff\" fill-rule=\"evenodd\" fill-opacity=\"1\"/>\n",
       "<defs>\n",
       "  <clipPath id=\"clip9502\">\n",
       "    <rect x=\"287\" y=\"47\" width=\"2066\" height=\"1441\"/>\n",
       "  </clipPath>\n",
       "</defs>\n",
       "<polyline clip-path=\"url(#clip9502)\" style=\"stroke:#000000; stroke-width:2; stroke-opacity:0.1; fill:none\" points=\"\n",
       "  401.518,1487.47 401.518,47.2441 \n",
       "  \"/>\n",
       "<polyline clip-path=\"url(#clip9502)\" style=\"stroke:#000000; stroke-width:2; stroke-opacity:0.1; fill:none\" points=\"\n",
       "  707.797,1487.47 707.797,47.2441 \n",
       "  \"/>\n",
       "<polyline clip-path=\"url(#clip9502)\" style=\"stroke:#000000; stroke-width:2; stroke-opacity:0.1; fill:none\" points=\"\n",
       "  1014.07,1487.47 1014.07,47.2441 \n",
       "  \"/>\n",
       "<polyline clip-path=\"url(#clip9502)\" style=\"stroke:#000000; stroke-width:2; stroke-opacity:0.1; fill:none\" points=\"\n",
       "  1320.35,1487.47 1320.35,47.2441 \n",
       "  \"/>\n",
       "<polyline clip-path=\"url(#clip9502)\" style=\"stroke:#000000; stroke-width:2; stroke-opacity:0.1; fill:none\" points=\"\n",
       "  1626.63,1487.47 1626.63,47.2441 \n",
       "  \"/>\n",
       "<polyline clip-path=\"url(#clip9502)\" style=\"stroke:#000000; stroke-width:2; stroke-opacity:0.1; fill:none\" points=\"\n",
       "  1932.91,1487.47 1932.91,47.2441 \n",
       "  \"/>\n",
       "<polyline clip-path=\"url(#clip9502)\" style=\"stroke:#000000; stroke-width:2; stroke-opacity:0.1; fill:none\" points=\"\n",
       "  2239.19,1487.47 2239.19,47.2441 \n",
       "  \"/>\n",
       "<polyline clip-path=\"url(#clip9502)\" style=\"stroke:#000000; stroke-width:2; stroke-opacity:0.1; fill:none\" points=\"\n",
       "  287.95,1446.71 2352.76,1446.71 \n",
       "  \"/>\n",
       "<polyline clip-path=\"url(#clip9502)\" style=\"stroke:#000000; stroke-width:2; stroke-opacity:0.1; fill:none\" points=\"\n",
       "  287.95,1096.33 2352.76,1096.33 \n",
       "  \"/>\n",
       "<polyline clip-path=\"url(#clip9502)\" style=\"stroke:#000000; stroke-width:2; stroke-opacity:0.1; fill:none\" points=\"\n",
       "  287.95,745.951 2352.76,745.951 \n",
       "  \"/>\n",
       "<polyline clip-path=\"url(#clip9502)\" style=\"stroke:#000000; stroke-width:2; stroke-opacity:0.1; fill:none\" points=\"\n",
       "  287.95,395.57 2352.76,395.57 \n",
       "  \"/>\n",
       "<polyline clip-path=\"url(#clip9500)\" style=\"stroke:#000000; stroke-width:4; stroke-opacity:1; fill:none\" points=\"\n",
       "  287.95,1487.47 2352.76,1487.47 \n",
       "  \"/>\n",
       "<polyline clip-path=\"url(#clip9500)\" style=\"stroke:#000000; stroke-width:4; stroke-opacity:1; fill:none\" points=\"\n",
       "  287.95,1487.47 287.95,47.2441 \n",
       "  \"/>\n",
       "<polyline clip-path=\"url(#clip9500)\" style=\"stroke:#000000; stroke-width:4; stroke-opacity:1; fill:none\" points=\"\n",
       "  401.518,1487.47 401.518,1470.19 \n",
       "  \"/>\n",
       "<polyline clip-path=\"url(#clip9500)\" style=\"stroke:#000000; stroke-width:4; stroke-opacity:1; fill:none\" points=\"\n",
       "  707.797,1487.47 707.797,1470.19 \n",
       "  \"/>\n",
       "<polyline clip-path=\"url(#clip9500)\" style=\"stroke:#000000; stroke-width:4; stroke-opacity:1; fill:none\" points=\"\n",
       "  1014.07,1487.47 1014.07,1470.19 \n",
       "  \"/>\n",
       "<polyline clip-path=\"url(#clip9500)\" style=\"stroke:#000000; stroke-width:4; stroke-opacity:1; fill:none\" points=\"\n",
       "  1320.35,1487.47 1320.35,1470.19 \n",
       "  \"/>\n",
       "<polyline clip-path=\"url(#clip9500)\" style=\"stroke:#000000; stroke-width:4; stroke-opacity:1; fill:none\" points=\"\n",
       "  1626.63,1487.47 1626.63,1470.19 \n",
       "  \"/>\n",
       "<polyline clip-path=\"url(#clip9500)\" style=\"stroke:#000000; stroke-width:4; stroke-opacity:1; fill:none\" points=\"\n",
       "  1932.91,1487.47 1932.91,1470.19 \n",
       "  \"/>\n",
       "<polyline clip-path=\"url(#clip9500)\" style=\"stroke:#000000; stroke-width:4; stroke-opacity:1; fill:none\" points=\"\n",
       "  2239.19,1487.47 2239.19,1470.19 \n",
       "  \"/>\n",
       "<polyline clip-path=\"url(#clip9500)\" style=\"stroke:#000000; stroke-width:4; stroke-opacity:1; fill:none\" points=\"\n",
       "  287.95,1446.71 312.728,1446.71 \n",
       "  \"/>\n",
       "<polyline clip-path=\"url(#clip9500)\" style=\"stroke:#000000; stroke-width:4; stroke-opacity:1; fill:none\" points=\"\n",
       "  287.95,1096.33 312.728,1096.33 \n",
       "  \"/>\n",
       "<polyline clip-path=\"url(#clip9500)\" style=\"stroke:#000000; stroke-width:4; stroke-opacity:1; fill:none\" points=\"\n",
       "  287.95,745.951 312.728,745.951 \n",
       "  \"/>\n",
       "<polyline clip-path=\"url(#clip9500)\" style=\"stroke:#000000; stroke-width:4; stroke-opacity:1; fill:none\" points=\"\n",
       "  287.95,395.57 312.728,395.57 \n",
       "  \"/>\n",
       "<g clip-path=\"url(#clip9500)\">\n",
       "<text style=\"fill:#000000; fill-opacity:1; font-family:Arial,Helvetica Neue,Helvetica,sans-serif; font-size:48px; text-anchor:middle;\" transform=\"rotate(0, 401.518, 1541.47)\" x=\"401.518\" y=\"1541.47\">-0.3</text>\n",
       "</g>\n",
       "<g clip-path=\"url(#clip9500)\">\n",
       "<text style=\"fill:#000000; fill-opacity:1; font-family:Arial,Helvetica Neue,Helvetica,sans-serif; font-size:48px; text-anchor:middle;\" transform=\"rotate(0, 707.797, 1541.47)\" x=\"707.797\" y=\"1541.47\">-0.2</text>\n",
       "</g>\n",
       "<g clip-path=\"url(#clip9500)\">\n",
       "<text style=\"fill:#000000; fill-opacity:1; font-family:Arial,Helvetica Neue,Helvetica,sans-serif; font-size:48px; text-anchor:middle;\" transform=\"rotate(0, 1014.07, 1541.47)\" x=\"1014.07\" y=\"1541.47\">-0.1</text>\n",
       "</g>\n",
       "<g clip-path=\"url(#clip9500)\">\n",
       "<text style=\"fill:#000000; fill-opacity:1; font-family:Arial,Helvetica Neue,Helvetica,sans-serif; font-size:48px; text-anchor:middle;\" transform=\"rotate(0, 1320.35, 1541.47)\" x=\"1320.35\" y=\"1541.47\">0.0</text>\n",
       "</g>\n",
       "<g clip-path=\"url(#clip9500)\">\n",
       "<text style=\"fill:#000000; fill-opacity:1; font-family:Arial,Helvetica Neue,Helvetica,sans-serif; font-size:48px; text-anchor:middle;\" transform=\"rotate(0, 1626.63, 1541.47)\" x=\"1626.63\" y=\"1541.47\">0.1</text>\n",
       "</g>\n",
       "<g clip-path=\"url(#clip9500)\">\n",
       "<text style=\"fill:#000000; fill-opacity:1; font-family:Arial,Helvetica Neue,Helvetica,sans-serif; font-size:48px; text-anchor:middle;\" transform=\"rotate(0, 1932.91, 1541.47)\" x=\"1932.91\" y=\"1541.47\">0.2</text>\n",
       "</g>\n",
       "<g clip-path=\"url(#clip9500)\">\n",
       "<text style=\"fill:#000000; fill-opacity:1; font-family:Arial,Helvetica Neue,Helvetica,sans-serif; font-size:48px; text-anchor:middle;\" transform=\"rotate(0, 2239.19, 1541.47)\" x=\"2239.19\" y=\"1541.47\">0.3</text>\n",
       "</g>\n",
       "<g clip-path=\"url(#clip9500)\">\n",
       "<text style=\"fill:#000000; fill-opacity:1; font-family:Arial,Helvetica Neue,Helvetica,sans-serif; font-size:48px; text-anchor:end;\" transform=\"rotate(0, 263.95, 1464.21)\" x=\"263.95\" y=\"1464.21\">0</text>\n",
       "</g>\n",
       "<g clip-path=\"url(#clip9500)\">\n",
       "<text style=\"fill:#000000; fill-opacity:1; font-family:Arial,Helvetica Neue,Helvetica,sans-serif; font-size:48px; text-anchor:start;\" transform=\"rotate(0, 93.6653, 1120.06)\" x=\"93.6653\" y=\"1120.06\">5.0×10</text>\n",
       "</g>\n",
       "<g clip-path=\"url(#clip9500)\">\n",
       "<text style=\"fill:#000000; fill-opacity:1; font-family:Arial,Helvetica Neue,Helvetica,sans-serif; font-size:38px; text-anchor:start;\" transform=\"rotate(0, 242.206, 1092.65)\" x=\"242.206\" y=\"1092.65\">3</text>\n",
       "</g>\n",
       "<g clip-path=\"url(#clip9500)\">\n",
       "<text style=\"fill:#000000; fill-opacity:1; font-family:Arial,Helvetica Neue,Helvetica,sans-serif; font-size:48px; text-anchor:start;\" transform=\"rotate(0, 93.6653, 769.679)\" x=\"93.6653\" y=\"769.679\">1.0×10</text>\n",
       "</g>\n",
       "<g clip-path=\"url(#clip9500)\">\n",
       "<text style=\"fill:#000000; fill-opacity:1; font-family:Arial,Helvetica Neue,Helvetica,sans-serif; font-size:38px; text-anchor:start;\" transform=\"rotate(0, 242.206, 742.268)\" x=\"242.206\" y=\"742.268\">4</text>\n",
       "</g>\n",
       "<g clip-path=\"url(#clip9500)\">\n",
       "<text style=\"fill:#000000; fill-opacity:1; font-family:Arial,Helvetica Neue,Helvetica,sans-serif; font-size:48px; text-anchor:start;\" transform=\"rotate(0, 93.6653, 419.298)\" x=\"93.6653\" y=\"419.298\">1.5×10</text>\n",
       "</g>\n",
       "<g clip-path=\"url(#clip9500)\">\n",
       "<text style=\"fill:#000000; fill-opacity:1; font-family:Arial,Helvetica Neue,Helvetica,sans-serif; font-size:38px; text-anchor:start;\" transform=\"rotate(0, 242.206, 391.887)\" x=\"242.206\" y=\"391.887\">4</text>\n",
       "</g>\n",
       "<path clip-path=\"url(#clip9502)\" d=\"\n",
       "M401.518 1446.57 L401.518 1446.71 L554.657 1446.71 L554.657 1446.57 L401.518 1446.57 L401.518 1446.57  Z\n",
       "  \" fill=\"#009af9\" fill-rule=\"evenodd\" fill-opacity=\"1\"/>\n",
       "<polyline clip-path=\"url(#clip9502)\" style=\"stroke:#000000; stroke-width:4; stroke-opacity:1; fill:none\" points=\"\n",
       "  401.518,1446.57 401.518,1446.71 554.657,1446.71 554.657,1446.57 401.518,1446.57 \n",
       "  \"/>\n",
       "<path clip-path=\"url(#clip9502)\" d=\"\n",
       "M554.657 1442.44 L554.657 1446.71 L707.797 1446.71 L707.797 1442.44 L554.657 1442.44 L554.657 1442.44  Z\n",
       "  \" fill=\"#009af9\" fill-rule=\"evenodd\" fill-opacity=\"1\"/>\n",
       "<polyline clip-path=\"url(#clip9502)\" style=\"stroke:#000000; stroke-width:4; stroke-opacity:1; fill:none\" points=\"\n",
       "  554.657,1442.44 554.657,1446.71 707.797,1446.71 707.797,1442.44 554.657,1442.44 \n",
       "  \"/>\n",
       "<path clip-path=\"url(#clip9502)\" d=\"\n",
       "M707.797 1411.82 L707.797 1446.71 L860.936 1446.71 L860.936 1411.82 L707.797 1411.82 L707.797 1411.82  Z\n",
       "  \" fill=\"#009af9\" fill-rule=\"evenodd\" fill-opacity=\"1\"/>\n",
       "<polyline clip-path=\"url(#clip9502)\" style=\"stroke:#000000; stroke-width:4; stroke-opacity:1; fill:none\" points=\"\n",
       "  707.797,1411.82 707.797,1446.71 860.936,1446.71 860.936,1411.82 707.797,1411.82 \n",
       "  \"/>\n",
       "<path clip-path=\"url(#clip9502)\" d=\"\n",
       "M860.936 1252.88 L860.936 1446.71 L1014.07 1446.71 L1014.07 1252.88 L860.936 1252.88 L860.936 1252.88  Z\n",
       "  \" fill=\"#009af9\" fill-rule=\"evenodd\" fill-opacity=\"1\"/>\n",
       "<polyline clip-path=\"url(#clip9502)\" style=\"stroke:#000000; stroke-width:4; stroke-opacity:1; fill:none\" points=\"\n",
       "  860.936,1252.88 860.936,1446.71 1014.07,1446.71 1014.07,1252.88 860.936,1252.88 \n",
       "  \"/>\n",
       "<path clip-path=\"url(#clip9502)\" d=\"\n",
       "M1014.07 629.204 L1014.07 1446.71 L1167.21 1446.71 L1167.21 629.204 L1014.07 629.204 L1014.07 629.204  Z\n",
       "  \" fill=\"#009af9\" fill-rule=\"evenodd\" fill-opacity=\"1\"/>\n",
       "<polyline clip-path=\"url(#clip9502)\" style=\"stroke:#000000; stroke-width:4; stroke-opacity:1; fill:none\" points=\"\n",
       "  1014.07,629.204 1014.07,1446.71 1167.21,1446.71 1167.21,629.204 1014.07,629.204 \n",
       "  \"/>\n",
       "<path clip-path=\"url(#clip9502)\" d=\"\n",
       "M1167.21 118.208 L1167.21 1446.71 L1320.35 1446.71 L1320.35 118.208 L1167.21 118.208 L1167.21 118.208  Z\n",
       "  \" fill=\"#009af9\" fill-rule=\"evenodd\" fill-opacity=\"1\"/>\n",
       "<polyline clip-path=\"url(#clip9502)\" style=\"stroke:#000000; stroke-width:4; stroke-opacity:1; fill:none\" points=\"\n",
       "  1167.21,118.208 1167.21,1446.71 1320.35,1446.71 1320.35,118.208 1167.21,118.208 \n",
       "  \"/>\n",
       "<path clip-path=\"url(#clip9502)\" d=\"\n",
       "M1320.35 88.0053 L1320.35 1446.71 L1473.49 1446.71 L1473.49 88.0053 L1320.35 88.0053 L1320.35 88.0053  Z\n",
       "  \" fill=\"#009af9\" fill-rule=\"evenodd\" fill-opacity=\"1\"/>\n",
       "<polyline clip-path=\"url(#clip9502)\" style=\"stroke:#000000; stroke-width:4; stroke-opacity:1; fill:none\" points=\"\n",
       "  1320.35,88.0053 1320.35,1446.71 1473.49,1446.71 1473.49,88.0053 1320.35,88.0053 \n",
       "  \"/>\n",
       "<path clip-path=\"url(#clip9502)\" d=\"\n",
       "M1473.49 527.734 L1473.49 1446.71 L1626.63 1446.71 L1626.63 527.734 L1473.49 527.734 L1473.49 527.734  Z\n",
       "  \" fill=\"#009af9\" fill-rule=\"evenodd\" fill-opacity=\"1\"/>\n",
       "<polyline clip-path=\"url(#clip9502)\" style=\"stroke:#000000; stroke-width:4; stroke-opacity:1; fill:none\" points=\"\n",
       "  1473.49,527.734 1473.49,1446.71 1626.63,1446.71 1626.63,527.734 1473.49,527.734 \n",
       "  \"/>\n",
       "<path clip-path=\"url(#clip9502)\" d=\"\n",
       "M1626.63 1199.13 L1626.63 1446.71 L1779.77 1446.71 L1779.77 1199.13 L1626.63 1199.13 L1626.63 1199.13  Z\n",
       "  \" fill=\"#009af9\" fill-rule=\"evenodd\" fill-opacity=\"1\"/>\n",
       "<polyline clip-path=\"url(#clip9502)\" style=\"stroke:#000000; stroke-width:4; stroke-opacity:1; fill:none\" points=\"\n",
       "  1626.63,1199.13 1626.63,1446.71 1779.77,1446.71 1779.77,1199.13 1626.63,1199.13 \n",
       "  \"/>\n",
       "<path clip-path=\"url(#clip9502)\" d=\"\n",
       "M1779.77 1409.71 L1779.77 1446.71 L1932.91 1446.71 L1932.91 1409.71 L1779.77 1409.71 L1779.77 1409.71  Z\n",
       "  \" fill=\"#009af9\" fill-rule=\"evenodd\" fill-opacity=\"1\"/>\n",
       "<polyline clip-path=\"url(#clip9502)\" style=\"stroke:#000000; stroke-width:4; stroke-opacity:1; fill:none\" points=\"\n",
       "  1779.77,1409.71 1779.77,1446.71 1932.91,1446.71 1932.91,1409.71 1779.77,1409.71 \n",
       "  \"/>\n",
       "<path clip-path=\"url(#clip9502)\" d=\"\n",
       "M1932.91 1443.77 L1932.91 1446.71 L2086.05 1446.71 L2086.05 1443.77 L1932.91 1443.77 L1932.91 1443.77  Z\n",
       "  \" fill=\"#009af9\" fill-rule=\"evenodd\" fill-opacity=\"1\"/>\n",
       "<polyline clip-path=\"url(#clip9502)\" style=\"stroke:#000000; stroke-width:4; stroke-opacity:1; fill:none\" points=\"\n",
       "  1932.91,1443.77 1932.91,1446.71 2086.05,1446.71 2086.05,1443.77 1932.91,1443.77 \n",
       "  \"/>\n",
       "<path clip-path=\"url(#clip9502)\" d=\"\n",
       "M2086.05 1446.5 L2086.05 1446.71 L2239.19 1446.71 L2239.19 1446.5 L2086.05 1446.5 L2086.05 1446.5  Z\n",
       "  \" fill=\"#009af9\" fill-rule=\"evenodd\" fill-opacity=\"1\"/>\n",
       "<polyline clip-path=\"url(#clip9502)\" style=\"stroke:#000000; stroke-width:4; stroke-opacity:1; fill:none\" points=\"\n",
       "  2086.05,1446.5 2086.05,1446.71 2239.19,1446.71 2239.19,1446.5 2086.05,1446.5 \n",
       "  \"/>\n",
       "<path clip-path=\"url(#clip9500)\" d=\"\n",
       "M1989.93 251.724 L2280.76 251.724 L2280.76 130.764 L1989.93 130.764  Z\n",
       "  \" fill=\"#ffffff\" fill-rule=\"evenodd\" fill-opacity=\"1\"/>\n",
       "<polyline clip-path=\"url(#clip9500)\" style=\"stroke:#000000; stroke-width:4; stroke-opacity:1; fill:none\" points=\"\n",
       "  1989.93,251.724 2280.76,251.724 2280.76,130.764 1989.93,130.764 1989.93,251.724 \n",
       "  \"/>\n",
       "<path clip-path=\"url(#clip9500)\" d=\"\n",
       "M2013.93 215.436 L2157.93 215.436 L2157.93 167.052 L2013.93 167.052 L2013.93 215.436  Z\n",
       "  \" fill=\"#009af9\" fill-rule=\"evenodd\" fill-opacity=\"1\"/>\n",
       "<polyline clip-path=\"url(#clip9500)\" style=\"stroke:#000000; stroke-width:4; stroke-opacity:1; fill:none\" points=\"\n",
       "  2013.93,215.436 2157.93,215.436 2157.93,167.052 2013.93,167.052 2013.93,215.436 \n",
       "  \"/>\n",
       "<g clip-path=\"url(#clip9500)\">\n",
       "<text style=\"fill:#000000; fill-opacity:1; font-family:Arial,Helvetica Neue,Helvetica,sans-serif; font-size:48px; text-anchor:start;\" transform=\"rotate(0, 2181.93, 208.744)\" x=\"2181.93\" y=\"208.744\">y1</text>\n",
       "</g>\n",
       "</svg>\n"
      ]
     },
     "execution_count": 105,
     "metadata": {},
     "output_type": "execute_result"
    }
   ],
   "source": [
    "histogram(reshape(model_dense[1].W, :), bins=20)"
   ]
  },
  {
   "cell_type": "code",
   "execution_count": 107,
   "metadata": {},
   "outputs": [],
   "source": [
    "#histogram(reshape(model_sparse[3].W, :), bins=20)"
   ]
  },
  {
   "cell_type": "code",
   "execution_count": 108,
   "metadata": {},
   "outputs": [
    {
     "data": {
      "image/svg+xml": [
       "<?xml version=\"1.0\" encoding=\"utf-8\"?>\n",
       "<svg xmlns=\"http://www.w3.org/2000/svg\" xmlns:xlink=\"http://www.w3.org/1999/xlink\" width=\"600\" height=\"400\" viewBox=\"0 0 2400 1600\">\n",
       "<defs>\n",
       "  <clipPath id=\"clip9900\">\n",
       "    <rect x=\"0\" y=\"0\" width=\"2400\" height=\"1600\"/>\n",
       "  </clipPath>\n",
       "</defs>\n",
       "<path clip-path=\"url(#clip9900)\" d=\"\n",
       "M0 1600 L2400 1600 L2400 0 L0 0  Z\n",
       "  \" fill=\"#ffffff\" fill-rule=\"evenodd\" fill-opacity=\"1\"/>\n",
       "<defs>\n",
       "  <clipPath id=\"clip9901\">\n",
       "    <rect x=\"480\" y=\"0\" width=\"1681\" height=\"1600\"/>\n",
       "  </clipPath>\n",
       "</defs>\n",
       "<path clip-path=\"url(#clip9900)\" d=\"\n",
       "M194.041 1487.47 L2352.76 1487.47 L2352.76 47.2441 L194.041 47.2441  Z\n",
       "  \" fill=\"#ffffff\" fill-rule=\"evenodd\" fill-opacity=\"1\"/>\n",
       "<defs>\n",
       "  <clipPath id=\"clip9902\">\n",
       "    <rect x=\"194\" y=\"47\" width=\"2160\" height=\"1441\"/>\n",
       "  </clipPath>\n",
       "</defs>\n",
       "<polyline clip-path=\"url(#clip9902)\" style=\"stroke:#000000; stroke-width:2; stroke-opacity:0.1; fill:none\" points=\"\n",
       "  552.931,1487.47 552.931,47.2441 \n",
       "  \"/>\n",
       "<polyline clip-path=\"url(#clip9902)\" style=\"stroke:#000000; stroke-width:2; stroke-opacity:0.1; fill:none\" points=\"\n",
       "  913.165,1487.47 913.165,47.2441 \n",
       "  \"/>\n",
       "<polyline clip-path=\"url(#clip9902)\" style=\"stroke:#000000; stroke-width:2; stroke-opacity:0.1; fill:none\" points=\"\n",
       "  1273.4,1487.47 1273.4,47.2441 \n",
       "  \"/>\n",
       "<polyline clip-path=\"url(#clip9902)\" style=\"stroke:#000000; stroke-width:2; stroke-opacity:0.1; fill:none\" points=\"\n",
       "  1633.63,1487.47 1633.63,47.2441 \n",
       "  \"/>\n",
       "<polyline clip-path=\"url(#clip9902)\" style=\"stroke:#000000; stroke-width:2; stroke-opacity:0.1; fill:none\" points=\"\n",
       "  1993.87,1487.47 1993.87,47.2441 \n",
       "  \"/>\n",
       "<polyline clip-path=\"url(#clip9902)\" style=\"stroke:#000000; stroke-width:2; stroke-opacity:0.1; fill:none\" points=\"\n",
       "  194.041,1446.71 2352.76,1446.71 \n",
       "  \"/>\n",
       "<polyline clip-path=\"url(#clip9902)\" style=\"stroke:#000000; stroke-width:2; stroke-opacity:0.1; fill:none\" points=\"\n",
       "  194.041,1157.63 2352.76,1157.63 \n",
       "  \"/>\n",
       "<polyline clip-path=\"url(#clip9902)\" style=\"stroke:#000000; stroke-width:2; stroke-opacity:0.1; fill:none\" points=\"\n",
       "  194.041,868.54 2352.76,868.54 \n",
       "  \"/>\n",
       "<polyline clip-path=\"url(#clip9902)\" style=\"stroke:#000000; stroke-width:2; stroke-opacity:0.1; fill:none\" points=\"\n",
       "  194.041,579.453 2352.76,579.453 \n",
       "  \"/>\n",
       "<polyline clip-path=\"url(#clip9902)\" style=\"stroke:#000000; stroke-width:2; stroke-opacity:0.1; fill:none\" points=\"\n",
       "  194.041,290.366 2352.76,290.366 \n",
       "  \"/>\n",
       "<polyline clip-path=\"url(#clip9900)\" style=\"stroke:#000000; stroke-width:4; stroke-opacity:1; fill:none\" points=\"\n",
       "  194.041,1487.47 2352.76,1487.47 \n",
       "  \"/>\n",
       "<polyline clip-path=\"url(#clip9900)\" style=\"stroke:#000000; stroke-width:4; stroke-opacity:1; fill:none\" points=\"\n",
       "  194.041,1487.47 194.041,47.2441 \n",
       "  \"/>\n",
       "<polyline clip-path=\"url(#clip9900)\" style=\"stroke:#000000; stroke-width:4; stroke-opacity:1; fill:none\" points=\"\n",
       "  552.931,1487.47 552.931,1470.19 \n",
       "  \"/>\n",
       "<polyline clip-path=\"url(#clip9900)\" style=\"stroke:#000000; stroke-width:4; stroke-opacity:1; fill:none\" points=\"\n",
       "  913.165,1487.47 913.165,1470.19 \n",
       "  \"/>\n",
       "<polyline clip-path=\"url(#clip9900)\" style=\"stroke:#000000; stroke-width:4; stroke-opacity:1; fill:none\" points=\"\n",
       "  1273.4,1487.47 1273.4,1470.19 \n",
       "  \"/>\n",
       "<polyline clip-path=\"url(#clip9900)\" style=\"stroke:#000000; stroke-width:4; stroke-opacity:1; fill:none\" points=\"\n",
       "  1633.63,1487.47 1633.63,1470.19 \n",
       "  \"/>\n",
       "<polyline clip-path=\"url(#clip9900)\" style=\"stroke:#000000; stroke-width:4; stroke-opacity:1; fill:none\" points=\"\n",
       "  1993.87,1487.47 1993.87,1470.19 \n",
       "  \"/>\n",
       "<polyline clip-path=\"url(#clip9900)\" style=\"stroke:#000000; stroke-width:4; stroke-opacity:1; fill:none\" points=\"\n",
       "  194.041,1446.71 219.946,1446.71 \n",
       "  \"/>\n",
       "<polyline clip-path=\"url(#clip9900)\" style=\"stroke:#000000; stroke-width:4; stroke-opacity:1; fill:none\" points=\"\n",
       "  194.041,1157.63 219.946,1157.63 \n",
       "  \"/>\n",
       "<polyline clip-path=\"url(#clip9900)\" style=\"stroke:#000000; stroke-width:4; stroke-opacity:1; fill:none\" points=\"\n",
       "  194.041,868.54 219.946,868.54 \n",
       "  \"/>\n",
       "<polyline clip-path=\"url(#clip9900)\" style=\"stroke:#000000; stroke-width:4; stroke-opacity:1; fill:none\" points=\"\n",
       "  194.041,579.453 219.946,579.453 \n",
       "  \"/>\n",
       "<polyline clip-path=\"url(#clip9900)\" style=\"stroke:#000000; stroke-width:4; stroke-opacity:1; fill:none\" points=\"\n",
       "  194.041,290.366 219.946,290.366 \n",
       "  \"/>\n",
       "<g clip-path=\"url(#clip9900)\">\n",
       "<text style=\"fill:#000000; fill-opacity:1; font-family:Arial,Helvetica Neue,Helvetica,sans-serif; font-size:48px; text-anchor:middle;\" transform=\"rotate(0, 552.931, 1541.47)\" x=\"552.931\" y=\"1541.47\">-0.6</text>\n",
       "</g>\n",
       "<g clip-path=\"url(#clip9900)\">\n",
       "<text style=\"fill:#000000; fill-opacity:1; font-family:Arial,Helvetica Neue,Helvetica,sans-serif; font-size:48px; text-anchor:middle;\" transform=\"rotate(0, 913.165, 1541.47)\" x=\"913.165\" y=\"1541.47\">-0.3</text>\n",
       "</g>\n",
       "<g clip-path=\"url(#clip9900)\">\n",
       "<text style=\"fill:#000000; fill-opacity:1; font-family:Arial,Helvetica Neue,Helvetica,sans-serif; font-size:48px; text-anchor:middle;\" transform=\"rotate(0, 1273.4, 1541.47)\" x=\"1273.4\" y=\"1541.47\">0.0</text>\n",
       "</g>\n",
       "<g clip-path=\"url(#clip9900)\">\n",
       "<text style=\"fill:#000000; fill-opacity:1; font-family:Arial,Helvetica Neue,Helvetica,sans-serif; font-size:48px; text-anchor:middle;\" transform=\"rotate(0, 1633.63, 1541.47)\" x=\"1633.63\" y=\"1541.47\">0.3</text>\n",
       "</g>\n",
       "<g clip-path=\"url(#clip9900)\">\n",
       "<text style=\"fill:#000000; fill-opacity:1; font-family:Arial,Helvetica Neue,Helvetica,sans-serif; font-size:48px; text-anchor:middle;\" transform=\"rotate(0, 1993.87, 1541.47)\" x=\"1993.87\" y=\"1541.47\">0.6</text>\n",
       "</g>\n",
       "<g clip-path=\"url(#clip9900)\">\n",
       "<text style=\"fill:#000000; fill-opacity:1; font-family:Arial,Helvetica Neue,Helvetica,sans-serif; font-size:48px; text-anchor:end;\" transform=\"rotate(0, 170.041, 1464.21)\" x=\"170.041\" y=\"1464.21\">0</text>\n",
       "</g>\n",
       "<g clip-path=\"url(#clip9900)\">\n",
       "<text style=\"fill:#000000; fill-opacity:1; font-family:Arial,Helvetica Neue,Helvetica,sans-serif; font-size:48px; text-anchor:end;\" transform=\"rotate(0, 170.041, 1175.13)\" x=\"170.041\" y=\"1175.13\">250</text>\n",
       "</g>\n",
       "<g clip-path=\"url(#clip9900)\">\n",
       "<text style=\"fill:#000000; fill-opacity:1; font-family:Arial,Helvetica Neue,Helvetica,sans-serif; font-size:48px; text-anchor:end;\" transform=\"rotate(0, 170.041, 886.04)\" x=\"170.041\" y=\"886.04\">500</text>\n",
       "</g>\n",
       "<g clip-path=\"url(#clip9900)\">\n",
       "<text style=\"fill:#000000; fill-opacity:1; font-family:Arial,Helvetica Neue,Helvetica,sans-serif; font-size:48px; text-anchor:end;\" transform=\"rotate(0, 170.041, 596.953)\" x=\"170.041\" y=\"596.953\">750</text>\n",
       "</g>\n",
       "<g clip-path=\"url(#clip9900)\">\n",
       "<text style=\"fill:#000000; fill-opacity:1; font-family:Arial,Helvetica Neue,Helvetica,sans-serif; font-size:48px; text-anchor:end;\" transform=\"rotate(0, 170.041, 307.866)\" x=\"170.041\" y=\"307.866\">1000</text>\n",
       "</g>\n",
       "<path clip-path=\"url(#clip9902)\" d=\"\n",
       "M312.775 1445.56 L312.775 1446.71 L432.853 1446.71 L432.853 1445.56 L312.775 1445.56 L312.775 1445.56  Z\n",
       "  \" fill=\"#009af9\" fill-rule=\"evenodd\" fill-opacity=\"1\"/>\n",
       "<polyline clip-path=\"url(#clip9902)\" style=\"stroke:#000000; stroke-width:4; stroke-opacity:1; fill:none\" points=\"\n",
       "  312.775,1445.56 312.775,1446.71 432.853,1446.71 432.853,1445.56 312.775,1445.56 \n",
       "  \"/>\n",
       "<path clip-path=\"url(#clip9902)\" d=\"\n",
       "M432.853 1443.24 L432.853 1446.71 L552.931 1446.71 L552.931 1443.24 L432.853 1443.24 L432.853 1443.24  Z\n",
       "  \" fill=\"#009af9\" fill-rule=\"evenodd\" fill-opacity=\"1\"/>\n",
       "<polyline clip-path=\"url(#clip9902)\" style=\"stroke:#000000; stroke-width:4; stroke-opacity:1; fill:none\" points=\"\n",
       "  432.853,1443.24 432.853,1446.71 552.931,1446.71 552.931,1443.24 432.853,1443.24 \n",
       "  \"/>\n",
       "<path clip-path=\"url(#clip9902)\" d=\"\n",
       "M552.931 1424.74 L552.931 1446.71 L673.009 1446.71 L673.009 1424.74 L552.931 1424.74 L552.931 1424.74  Z\n",
       "  \" fill=\"#009af9\" fill-rule=\"evenodd\" fill-opacity=\"1\"/>\n",
       "<polyline clip-path=\"url(#clip9902)\" style=\"stroke:#000000; stroke-width:4; stroke-opacity:1; fill:none\" points=\"\n",
       "  552.931,1424.74 552.931,1446.71 673.009,1446.71 673.009,1424.74 552.931,1424.74 \n",
       "  \"/>\n",
       "<path clip-path=\"url(#clip9902)\" d=\"\n",
       "M673.009 1287.14 L673.009 1446.71 L793.087 1446.71 L793.087 1287.14 L673.009 1287.14 L673.009 1287.14  Z\n",
       "  \" fill=\"#009af9\" fill-rule=\"evenodd\" fill-opacity=\"1\"/>\n",
       "<polyline clip-path=\"url(#clip9902)\" style=\"stroke:#000000; stroke-width:4; stroke-opacity:1; fill:none\" points=\"\n",
       "  673.009,1287.14 673.009,1446.71 793.087,1446.71 793.087,1287.14 673.009,1287.14 \n",
       "  \"/>\n",
       "<path clip-path=\"url(#clip9902)\" d=\"\n",
       "M793.087 656.928 L793.087 1446.71 L913.165 1446.71 L913.165 656.928 L793.087 656.928 L793.087 656.928  Z\n",
       "  \" fill=\"#009af9\" fill-rule=\"evenodd\" fill-opacity=\"1\"/>\n",
       "<polyline clip-path=\"url(#clip9902)\" style=\"stroke:#000000; stroke-width:4; stroke-opacity:1; fill:none\" points=\"\n",
       "  793.087,656.928 793.087,1446.71 913.165,1446.71 913.165,656.928 793.087,656.928 \n",
       "  \"/>\n",
       "<path clip-path=\"url(#clip9902)\" d=\"\n",
       "M913.165 462.662 L913.165 1446.71 L1033.24 1446.71 L1033.24 462.662 L913.165 462.662 L913.165 462.662  Z\n",
       "  \" fill=\"#009af9\" fill-rule=\"evenodd\" fill-opacity=\"1\"/>\n",
       "<polyline clip-path=\"url(#clip9902)\" style=\"stroke:#000000; stroke-width:4; stroke-opacity:1; fill:none\" points=\"\n",
       "  913.165,462.662 913.165,1446.71 1033.24,1446.71 1033.24,462.662 913.165,462.662 \n",
       "  \"/>\n",
       "<path clip-path=\"url(#clip9902)\" d=\"\n",
       "M1033.24 844.257 L1033.24 1446.71 L1153.32 1446.71 L1153.32 844.257 L1033.24 844.257 L1033.24 844.257  Z\n",
       "  \" fill=\"#009af9\" fill-rule=\"evenodd\" fill-opacity=\"1\"/>\n",
       "<polyline clip-path=\"url(#clip9902)\" style=\"stroke:#000000; stroke-width:4; stroke-opacity:1; fill:none\" points=\"\n",
       "  1033.24,844.257 1033.24,1446.71 1153.32,1446.71 1153.32,844.257 1033.24,844.257 \n",
       "  \"/>\n",
       "<path clip-path=\"url(#clip9902)\" d=\"\n",
       "M1153.32 189.764 L1153.32 1446.71 L1273.4 1446.71 L1273.4 189.764 L1153.32 189.764 L1153.32 189.764  Z\n",
       "  \" fill=\"#009af9\" fill-rule=\"evenodd\" fill-opacity=\"1\"/>\n",
       "<polyline clip-path=\"url(#clip9902)\" style=\"stroke:#000000; stroke-width:4; stroke-opacity:1; fill:none\" points=\"\n",
       "  1153.32,189.764 1153.32,1446.71 1273.4,1446.71 1273.4,189.764 1153.32,189.764 \n",
       "  \"/>\n",
       "<path clip-path=\"url(#clip9902)\" d=\"\n",
       "M1273.4 88.0053 L1273.4 1446.71 L1393.48 1446.71 L1393.48 88.0053 L1273.4 88.0053 L1273.4 88.0053  Z\n",
       "  \" fill=\"#009af9\" fill-rule=\"evenodd\" fill-opacity=\"1\"/>\n",
       "<polyline clip-path=\"url(#clip9902)\" style=\"stroke:#000000; stroke-width:4; stroke-opacity:1; fill:none\" points=\"\n",
       "  1273.4,88.0053 1273.4,1446.71 1393.48,1446.71 1393.48,88.0053 1273.4,88.0053 \n",
       "  \"/>\n",
       "<path clip-path=\"url(#clip9902)\" d=\"\n",
       "M1393.48 799.159 L1393.48 1446.71 L1513.55 1446.71 L1513.55 799.159 L1393.48 799.159 L1393.48 799.159  Z\n",
       "  \" fill=\"#009af9\" fill-rule=\"evenodd\" fill-opacity=\"1\"/>\n",
       "<polyline clip-path=\"url(#clip9902)\" style=\"stroke:#000000; stroke-width:4; stroke-opacity:1; fill:none\" points=\"\n",
       "  1393.48,799.159 1393.48,1446.71 1513.55,1446.71 1513.55,799.159 1393.48,799.159 \n",
       "  \"/>\n",
       "<path clip-path=\"url(#clip9902)\" d=\"\n",
       "M1513.55 276.49 L1513.55 1446.71 L1633.63 1446.71 L1633.63 276.49 L1513.55 276.49 L1513.55 276.49  Z\n",
       "  \" fill=\"#009af9\" fill-rule=\"evenodd\" fill-opacity=\"1\"/>\n",
       "<polyline clip-path=\"url(#clip9902)\" style=\"stroke:#000000; stroke-width:4; stroke-opacity:1; fill:none\" points=\"\n",
       "  1513.55,276.49 1513.55,1446.71 1633.63,1446.71 1633.63,276.49 1513.55,276.49 \n",
       "  \"/>\n",
       "<path clip-path=\"url(#clip9902)\" d=\"\n",
       "M1633.63 437.222 L1633.63 1446.71 L1753.71 1446.71 L1753.71 437.222 L1633.63 437.222 L1633.63 437.222  Z\n",
       "  \" fill=\"#009af9\" fill-rule=\"evenodd\" fill-opacity=\"1\"/>\n",
       "<polyline clip-path=\"url(#clip9902)\" style=\"stroke:#000000; stroke-width:4; stroke-opacity:1; fill:none\" points=\"\n",
       "  1633.63,437.222 1633.63,1446.71 1753.71,1446.71 1753.71,437.222 1633.63,437.222 \n",
       "  \"/>\n",
       "<path clip-path=\"url(#clip9902)\" d=\"\n",
       "M1753.71 1223.54 L1753.71 1446.71 L1873.79 1446.71 L1873.79 1223.54 L1753.71 1223.54 L1753.71 1223.54  Z\n",
       "  \" fill=\"#009af9\" fill-rule=\"evenodd\" fill-opacity=\"1\"/>\n",
       "<polyline clip-path=\"url(#clip9902)\" style=\"stroke:#000000; stroke-width:4; stroke-opacity:1; fill:none\" points=\"\n",
       "  1753.71,1223.54 1753.71,1446.71 1873.79,1446.71 1873.79,1223.54 1753.71,1223.54 \n",
       "  \"/>\n",
       "<path clip-path=\"url(#clip9902)\" d=\"\n",
       "M1873.79 1421.27 L1873.79 1446.71 L1993.87 1446.71 L1993.87 1421.27 L1873.79 1421.27 L1873.79 1421.27  Z\n",
       "  \" fill=\"#009af9\" fill-rule=\"evenodd\" fill-opacity=\"1\"/>\n",
       "<polyline clip-path=\"url(#clip9902)\" style=\"stroke:#000000; stroke-width:4; stroke-opacity:1; fill:none\" points=\"\n",
       "  1873.79,1421.27 1873.79,1446.71 1993.87,1446.71 1993.87,1421.27 1873.79,1421.27 \n",
       "  \"/>\n",
       "<path clip-path=\"url(#clip9902)\" d=\"\n",
       "M1993.87 1444.4 L1993.87 1446.71 L2113.94 1446.71 L2113.94 1444.4 L1993.87 1444.4 L1993.87 1444.4  Z\n",
       "  \" fill=\"#009af9\" fill-rule=\"evenodd\" fill-opacity=\"1\"/>\n",
       "<polyline clip-path=\"url(#clip9902)\" style=\"stroke:#000000; stroke-width:4; stroke-opacity:1; fill:none\" points=\"\n",
       "  1993.87,1444.4 1993.87,1446.71 2113.94,1446.71 2113.94,1444.4 1993.87,1444.4 \n",
       "  \"/>\n",
       "<path clip-path=\"url(#clip9902)\" d=\"\n",
       "M2113.94 1445.56 L2113.94 1446.71 L2234.02 1446.71 L2234.02 1445.56 L2113.94 1445.56 L2113.94 1445.56  Z\n",
       "  \" fill=\"#009af9\" fill-rule=\"evenodd\" fill-opacity=\"1\"/>\n",
       "<polyline clip-path=\"url(#clip9902)\" style=\"stroke:#000000; stroke-width:4; stroke-opacity:1; fill:none\" points=\"\n",
       "  2113.94,1445.56 2113.94,1446.71 2234.02,1446.71 2234.02,1445.56 2113.94,1445.56 \n",
       "  \"/>\n",
       "<path clip-path=\"url(#clip9900)\" d=\"\n",
       "M1989.93 251.724 L2280.76 251.724 L2280.76 130.764 L1989.93 130.764  Z\n",
       "  \" fill=\"#ffffff\" fill-rule=\"evenodd\" fill-opacity=\"1\"/>\n",
       "<polyline clip-path=\"url(#clip9900)\" style=\"stroke:#000000; stroke-width:4; stroke-opacity:1; fill:none\" points=\"\n",
       "  1989.93,251.724 2280.76,251.724 2280.76,130.764 1989.93,130.764 1989.93,251.724 \n",
       "  \"/>\n",
       "<path clip-path=\"url(#clip9900)\" d=\"\n",
       "M2013.93 215.436 L2157.93 215.436 L2157.93 167.052 L2013.93 167.052 L2013.93 215.436  Z\n",
       "  \" fill=\"#009af9\" fill-rule=\"evenodd\" fill-opacity=\"1\"/>\n",
       "<polyline clip-path=\"url(#clip9900)\" style=\"stroke:#000000; stroke-width:4; stroke-opacity:1; fill:none\" points=\"\n",
       "  2013.93,215.436 2157.93,215.436 2157.93,167.052 2013.93,167.052 2013.93,215.436 \n",
       "  \"/>\n",
       "<g clip-path=\"url(#clip9900)\">\n",
       "<text style=\"fill:#000000; fill-opacity:1; font-family:Arial,Helvetica Neue,Helvetica,sans-serif; font-size:48px; text-anchor:start;\" transform=\"rotate(0, 2181.93, 208.744)\" x=\"2181.93\" y=\"208.744\">y1</text>\n",
       "</g>\n",
       "</svg>\n"
      ]
     },
     "execution_count": 108,
     "metadata": {},
     "output_type": "execute_result"
    }
   ],
   "source": [
    "histogram(model_sparse[1].W.nzval, bins=20)"
   ]
  },
  {
   "cell_type": "code",
   "execution_count": 64,
   "metadata": {},
   "outputs": [
    {
     "data": {
      "text/plain": [
       "zero_the_weights! (generic function with 1 method)"
      ]
     },
     "execution_count": 64,
     "metadata": {},
     "output_type": "execute_result"
    }
   ],
   "source": [
    "function zero_the_weights!(model)\n",
    "    model[1].W[:, :] = sparse([1], [1], [13], size(model[1].W)...)\n",
    "    return nothing\n",
    "end"
   ]
  },
  {
   "cell_type": "code",
   "execution_count": null,
   "metadata": {},
   "outputs": [],
   "source": []
  },
  {
   "cell_type": "code",
   "execution_count": null,
   "metadata": {},
   "outputs": [],
   "source": []
  },
  {
   "cell_type": "code",
   "execution_count": 11,
   "metadata": {},
   "outputs": [
    {
     "data": {
      "text/plain": [
       "true"
      ]
     },
     "execution_count": 11,
     "metadata": {},
     "output_type": "execute_result"
    }
   ],
   "source": [
    "1 in keys(Dict(1=>'a'))"
   ]
  },
  {
   "cell_type": "code",
   "execution_count": 135,
   "metadata": {},
   "outputs": [
    {
     "ename": "MethodError",
     "evalue": "MethodError: no method matching spzeros()\nClosest candidates are:\n  spzeros(!Matched::Integer) at /buildworker/worker/package_linux64/build/usr/share/julia/stdlib/v1.3/SparseArrays/src/sparsevector.jl:108\n  spzeros(!Matched::Integer, !Matched::Integer) at /buildworker/worker/package_linux64/build/usr/share/julia/stdlib/v1.3/SparseArrays/src/sparsematrix.jl:1573\n  spzeros(!Matched::Type{T}, !Matched::Integer) where T at /buildworker/worker/package_linux64/build/usr/share/julia/stdlib/v1.3/SparseArrays/src/sparsevector.jl:109\n  ...",
     "output_type": "error",
     "traceback": [
      "MethodError: no method matching spzeros()\nClosest candidates are:\n  spzeros(!Matched::Integer) at /buildworker/worker/package_linux64/build/usr/share/julia/stdlib/v1.3/SparseArrays/src/sparsevector.jl:108\n  spzeros(!Matched::Integer, !Matched::Integer) at /buildworker/worker/package_linux64/build/usr/share/julia/stdlib/v1.3/SparseArrays/src/sparsematrix.jl:1573\n  spzeros(!Matched::Type{T}, !Matched::Integer) where T at /buildworker/worker/package_linux64/build/usr/share/julia/stdlib/v1.3/SparseArrays/src/sparsevector.jl:109\n  ...",
      "",
      "Stacktrace:",
      " [1] top-level scope at In[135]:1"
     ]
    }
   ],
   "source": [
    "spzeros()"
   ]
  },
  {
   "cell_type": "code",
   "execution_count": 102,
   "metadata": {},
   "outputs": [
    {
     "data": {
      "text/plain": [
       "0"
      ]
     },
     "execution_count": 102,
     "metadata": {},
     "output_type": "execute_result"
    }
   ],
   "source": [
    "length(model_sparse[1].W.nzval)"
   ]
  },
  {
   "cell_type": "code",
   "execution_count": 103,
   "metadata": {},
   "outputs": [
    {
     "data": {
      "text/plain": [
       "13"
      ]
     },
     "execution_count": 103,
     "metadata": {},
     "output_type": "execute_result"
    }
   ],
   "source": [
    "model_sparse[1].W[1, 1] = 13"
   ]
  },
  {
   "cell_type": "code",
   "execution_count": 104,
   "metadata": {},
   "outputs": [
    {
     "data": {
      "text/plain": [
       "100×784 SparseMatrixCSC{Float32,Int64} with 1 stored entry:\n",
       "  [1, 1]  =  13.0"
      ]
     },
     "execution_count": 104,
     "metadata": {},
     "output_type": "execute_result"
    }
   ],
   "source": [
    "model_sparse[1].W"
   ]
  },
  {
   "cell_type": "code",
   "execution_count": 105,
   "metadata": {},
   "outputs": [
    {
     "data": {
      "text/plain": [
       "100×784 SparseMatrixCSC{Float32,Int64} with 1 stored entry:\n",
       "  [1, 1]  =  0.0"
      ]
     },
     "execution_count": 105,
     "metadata": {},
     "output_type": "execute_result"
    }
   ],
   "source": [
    "model_sparse[1].W[:, :] = spzeros(size(model_sparse[1].W)...)\n",
    "model_sparse[1].W"
   ]
  },
  {
   "cell_type": "code",
   "execution_count": 2,
   "metadata": {},
   "outputs": [
    {
     "ename": "UndefVarError",
     "evalue": "UndefVarError: model_sparse not defined",
     "output_type": "error",
     "traceback": [
      "UndefVarError: model_sparse not defined",
      "",
      "Stacktrace:",
      " [1] top-level scope at In[2]:1"
     ]
    }
   ],
   "source": [
    "model_sparse[1].W.nzval[1:10]"
   ]
  },
  {
   "cell_type": "code",
   "execution_count": null,
   "metadata": {},
   "outputs": [],
   "source": [
    " augment!(model_sparse[1], 0.9)"
   ]
  },
  {
   "cell_type": "code",
   "execution_count": null,
   "metadata": {},
   "outputs": [],
   "source": []
  }
 ],
 "metadata": {
  "@webio": {
   "lastCommId": null,
   "lastKernelId": null
  },
  "kernelspec": {
   "display_name": "Julia 1.3.1",
   "language": "julia",
   "name": "julia-1.3"
  },
  "language_info": {
   "file_extension": ".jl",
   "mimetype": "application/julia",
   "name": "julia",
   "version": "1.3.1"
  }
 },
 "nbformat": 4,
 "nbformat_minor": 2
}
